{
 "cells": [
  {
   "cell_type": "code",
   "execution_count": null,
   "id": "e259f2d2",
   "metadata": {},
   "outputs": [],
   "source": [
    "import sys\n",
    "sys.path.append(\"./..\")"
   ]
  },
  {
   "cell_type": "code",
   "execution_count": null,
   "id": "8fbfbdec",
   "metadata": {},
   "outputs": [],
   "source": [
    "import numpy as np\n",
    "import scipy.stats as stats\n",
    "import torch\n",
    "import matplotlib.pyplot as plt\n",
    "#\n",
    "from misc.plot_utils import plot_couplings, plot_capsules, plot_mat, plot_mat2"
   ]
  },
  {
   "cell_type": "markdown",
   "id": "67267049",
   "metadata": {},
   "source": [
    "# Simulate Routing Scenarios"
   ]
  },
  {
   "cell_type": "code",
   "execution_count": null,
   "id": "7015da86",
   "metadata": {},
   "outputs": [],
   "source": [
    "def get_c_perfect_dynamic(n_l, n_h, n_samples, pr=0.0):\n",
    "    if pr > 0:\n",
    "        n_samples_p = int(pr * n_samples)\n",
    "        n_samples = n_samples - n_samples_p\n",
    "        \n",
    "    vals = torch.randint(0, n_h, size=(n_samples, n_l))\n",
    "    C = torch.nn.functional.one_hot(vals).float() * 10\n",
    "    C = torch.softmax(C + 1e-7, dim=-1).numpy()\n",
    "    \n",
    "    if pr > 0:\n",
    "        C2 = get_c_uniform(n_l, n_h, n_samples_p)\n",
    "        \n",
    "        C = np.concatenate([C, C2], axis=0)\n",
    "    return C\n",
    "\n",
    "def get_c_uniform(n_l, n_h, n_samples):\n",
    "    C = torch.softmax(torch.ones(n_samples, n_l, n_h), dim=-1).numpy()\n",
    "    return C\n",
    "\n",
    "def get_c_rand(n_l, n_h, n_samples, cs=1, pr=0):\n",
    "    if pr > 0:\n",
    "        n_samples_p = int(pr * n_samples)\n",
    "        n_samples = n_samples - n_samples_p\n",
    "        \n",
    "    C = torch.softmax(torch.rand(n_samples, n_l, n_h) * cs, dim=-1).numpy()\n",
    "    \n",
    "    if pr > 0:\n",
    "        C2 = get_c_uniform(n_l, n_h, n_samples_p)\n",
    "        \n",
    "        C = np.concatenate([C, C2], axis=0)\n",
    "    return C\n",
    "\n",
    "def get_c_rate_strength(n_l, n_h, n_samples, cs=None, cr=None, nc=None, pr=0.0):\n",
    "    \"\"\"\n",
    "        pr: pasive rate\n",
    "        cs: Coupling Strength\n",
    "        cr: Coupling Rate\n",
    "        (nc: number of couplings)\n",
    "        use either cr or nc\n",
    "    \"\"\"\n",
    "    if pr > 0:\n",
    "        n_samples_p = int(pr * n_samples)\n",
    "        n_samples = n_samples - n_samples_p\n",
    "    \n",
    "    if nc is None:\n",
    "        nc = int(cr * n_h)\n",
    "    #\n",
    "    assert nc > 0\n",
    "    #\n",
    "    CC = [get_c_static(n_l, n_h, n_samples // nc, cs=cs) for _ in range(nc)]\n",
    "    \n",
    "    if pr > 0:\n",
    "        C = get_c_uniform(n_l, n_h, n_samples_p)\n",
    "        CC.append(C)\n",
    "    \n",
    "    C = np.concatenate(CC, axis=0)\n",
    "    return C\n",
    "\n",
    "def get_c_static(n_l, n_h, n_samples, cs=10, pr=0):\n",
    "    if pr > 0:\n",
    "        n_samples_p = int(pr * n_samples)\n",
    "        n_samples = n_samples - n_samples_p\n",
    "    vals = torch.randint(0, n_h, size=(n_l,))\n",
    "    C = torch.nn.functional.one_hot(vals, num_classes=n_h).float() * cs\n",
    "    C = torch.softmax(C + 1e-7, dim=-1)\n",
    "    C = C.unsqueeze(0)\n",
    "    C = C.repeat(n_samples, 1, 1).numpy()\n",
    "    \n",
    "    if pr > 0:\n",
    "        C2 = get_c_uniform(n_l, n_h, n_samples_p)\n",
    "        C = np.concatenate([C, C2], axis=0)\n",
    "    \n",
    "    return C\n",
    "\n",
    "def calc_norm_entropy(C):\n",
    "    Cm = C.mean(axis=0)\n",
    "    Ce = np.sum(Cm * np.log(Cm) * (1/np.log(Cm.shape[1])), axis=1) * -1\n",
    "    return Ce"
   ]
  },
  {
   "cell_type": "markdown",
   "id": "6cda55b8",
   "metadata": {},
   "source": [
    "## Mean Max & Adjusted Mean Max"
   ]
  },
  {
   "cell_type": "code",
   "execution_count": null,
   "id": "f32c73d2",
   "metadata": {},
   "outputs": [],
   "source": [
    "def mean_max(C):\n",
    "    \"\"\"\n",
    "        Indicating strong couplings for lower layer Capsules\n",
    "        Only For ACTIVE Capsules interpretable!\n",
    "        C (b, n_l, n_h) c in C in [0, 1]\n",
    "    \"\"\"\n",
    "    return np.max(C, axis=2).mean(axis=0)\n",
    "\n",
    "def adjusted_mean_max(C, pr):\n",
    "    \"\"\"\n",
    "        mean_max(C), adjusted for pr (0,1) passive capsules\n",
    "        pr: either a scalar \n",
    "            or a vector of activity weights for each capsule\n",
    "    \"\"\"\n",
    "    n_samples, n_l, n_h = C.shape\n",
    "    assert type(pr) == float or type(pr) == np.ndarray\n",
    "    amm = (C.max(axis=2).sum(axis=0) - (pr * n_samples) / n_h) / ((1 - pr) * n_samples)\n",
    "    return amm"
   ]
  },
  {
   "cell_type": "code",
   "execution_count": null,
   "id": "1699638a",
   "metadata": {},
   "outputs": [],
   "source": [
    "n_l = 16\n",
    "n_h = 8\n",
    "pr = np.array([0.9]*n_l)\n",
    "n_samples = 1000\n",
    "C = get_c_perfect_dynamic(n_l, n_h, n_samples, pr=pr[0])\n",
    "#\n",
    "C0 = C\n",
    "C1 = C[:100,:,:]\n",
    "C2 = C[100:, :, :]"
   ]
  },
  {
   "cell_type": "code",
   "execution_count": null,
   "id": "ac800e2a",
   "metadata": {},
   "outputs": [],
   "source": [
    "mean_max(C0)"
   ]
  },
  {
   "cell_type": "code",
   "execution_count": null,
   "id": "39b30bd5",
   "metadata": {},
   "outputs": [],
   "source": [
    "mean_max(C1)"
   ]
  },
  {
   "cell_type": "code",
   "execution_count": null,
   "id": "f780431e",
   "metadata": {},
   "outputs": [],
   "source": [
    "adjusted_mean_max(C0, pr)"
   ]
  },
  {
   "cell_type": "markdown",
   "id": "f8f91328",
   "metadata": {},
   "source": [
    "## Adjusted Mean and Adjusted Std"
   ]
  },
  {
   "cell_type": "code",
   "execution_count": null,
   "id": "14277c7a",
   "metadata": {},
   "outputs": [],
   "source": [
    "def adjusted_mean_old(C, pr):\n",
    "    n_samples, n_l, n_h = C.shape\n",
    "    am = (C.sum(axis=0) - (pr * n_samples) / n_h) / ((1 - pr) * n_samples)\n",
    "    return am\n",
    "\n",
    "def adjusted_mean(C, pr):\n",
    "    n_samples, n_l, n_h = C.shape\n",
    "    if type(pr) == float:\n",
    "        pr = np.array([pr]*n_l).reshape(n_l,1)\n",
    "    else:\n",
    "        pr = pr.reshape(n_l, 1)\n",
    "    am = (C.sum(axis=0) - (pr * n_samples) / n_h) / ((1 - pr) * n_samples)\n",
    "    return am\n",
    "\n",
    "def adjusted_std_old(C, pr):\n",
    "    n_samples, n_l, n_h = C.shape\n",
    "    amc = adjusted_mean_old(C, pr)\n",
    "    asd = (np.sum((C - amc)**2, axis=0) - (pr * n_samples * (1/n_h - amc)**2)) / ((1 - pr) * n_samples)\n",
    "    asd = np.sqrt(asd + 1e-5)\n",
    "    return asd\n",
    "\n",
    "def adjusted_std(C, pr):\n",
    "    n_samples, n_l, n_h = C.shape\n",
    "    if type(pr) == float:\n",
    "        pr = np.array([pr]*n_l).reshape(n_l,1)\n",
    "    else:\n",
    "        pr = pr.reshape(n_l, 1)\n",
    "    am = adjusted_mean(C, pr)\n",
    "    asd = (np.sum((C - am)**2, axis=0) - (pr * n_samples * (1/n_h - am)**2)) / ((1 - pr) * n_samples)\n",
    "    assert asd.min() > -1e-6, \"numerics {}\".format(asd.min())\n",
    "    asd = np.maximum(0,asd)\n",
    "    asd = np.sqrt(asd)\n",
    "    return asd"
   ]
  },
  {
   "cell_type": "code",
   "execution_count": null,
   "id": "2dbb9b1b",
   "metadata": {},
   "outputs": [],
   "source": [
    "n_l = 16\n",
    "n_h = 8\n",
    "pr = np.array([0.9] * n_l)\n",
    "n_samples = 1000\n",
    "C = get_c_perfect_dynamic(n_l, n_h, n_samples, pr=pr[0])\n",
    "#\n",
    "C0 = C\n",
    "C1 = C[:100,:,:]\n",
    "C2 = C[100:, :, :]"
   ]
  },
  {
   "cell_type": "code",
   "execution_count": null,
   "id": "ba548074",
   "metadata": {},
   "outputs": [],
   "source": [
    "fig, axes = plt.subplots(1, 5, figsize=(24, 8))\n",
    "plot_mat2(C0.mean(axis=0), ax=axes[0], title=\"m(C)\")\n",
    "plot_mat2(C1.mean(axis=0), ax=axes[1], title=\"m(C_active)\")\n",
    "plot_mat2(adjusted_mean_old(C0, pr[0]), ax=axes[2], title=\"old am(C)\")\n",
    "plot_mat2(adjusted_mean(C0, pr), ax=axes[3], title=\"am(C)\")\n",
    "plot_mat2(C2.mean(axis=0), ax=axes[4], title=\"m(C_passive)\")"
   ]
  },
  {
   "cell_type": "code",
   "execution_count": null,
   "id": "fe3bccac",
   "metadata": {},
   "outputs": [],
   "source": [
    "fig, axes = plt.subplots(1, 5, figsize=(24, 8))\n",
    "plot_mat2(C0.std(axis=0), ax=axes[0], title=\"std(C)\")\n",
    "plot_mat2(C1.std(axis=0), ax=axes[1], title=\"std(C_active)\")\n",
    "plot_mat2(adjusted_std_old(C0, pr[0]), ax=axes[2], title=\"old_astd(C)\")\n",
    "plot_mat2(adjusted_std(C0, pr), ax=axes[3], title=\"astd(C)\")\n",
    "plot_mat2(C2.std(axis=0), ax=axes[4], title=\"std(C_passive)\")"
   ]
  },
  {
   "cell_type": "markdown",
   "id": "d86ff4be",
   "metadata": {},
   "source": [
    "# Dynamic Coefficient"
   ]
  },
  {
   "cell_type": "code",
   "execution_count": null,
   "id": "3b1f544c",
   "metadata": {},
   "outputs": [],
   "source": [
    "def dynamics2(C):\n",
    "    n_samples, n_l, n_h = C.shape\n",
    "    std_pr = np.sqrt(1/n_h * (1 - 1/n_h))\n",
    "    msd = C.std(axis=0).mean(axis=1)\n",
    "    mm = mean_max(C)\n",
    "    dyn = msd / (mm * std_pr)\n",
    "    return dyn\n",
    "\n",
    "def dynamics(C):\n",
    "    n_samples, n_l, n_h = C.shape\n",
    "    std_pr = np.sqrt(1/n_h * (1 - 1/n_h))\n",
    "    msd = C.std(axis=0).mean(axis=1)\n",
    "    mm = C.max(axis=(0,2))\n",
    "    dyn = msd / (mm * std_pr)\n",
    "    return dyn\n",
    "\n",
    "def adjusted_dyn_old(C, pr):\n",
    "    n_samples, n_l, n_h = C.shape\n",
    "    std_pr = np.sqrt(1/n_h * (1 - 1/n_h))\n",
    "    masd = adjusted_std(C, pr).mean(axis=1)\n",
    "    mm = C.max(axis=(0,2))\n",
    "    dyn = masd / (mm * std_pr)\n",
    "    return dyn\n",
    "\n",
    "def adjusted_dynamics2(C, pr):\n",
    "    n_samples, n_l, n_h = C.shape\n",
    "    std_pr = np.sqrt(1/n_h * (1 - 1/n_h))\n",
    "    masd = adjusted_std(C, pr).mean(axis=1)\n",
    "    mma = adjusted_mean_max(C, pr)\n",
    "    dyn = masd / (mma * std_pr)\n",
    "    return dyn\n",
    "\n",
    "def adjusted_dyn(C, pr):\n",
    "    n_samples, n_l, n_h = C.shape\n",
    "    std_pr = np.sqrt(1/n_h * (1 - 1/n_h))\n",
    "    masd = adjusted_std(C, pr).mean(axis=1)\n",
    "    #mma = adjusted_mean_max(C, pr)\n",
    "    mx = C.max(axis=(0,2)) \n",
    "    dyn = masd / (std_pr * mx)\n",
    "    return dyn"
   ]
  },
  {
   "cell_type": "code",
   "execution_count": null,
   "id": "ce402add",
   "metadata": {},
   "outputs": [],
   "source": [
    "n_l = 16\n",
    "n_h = 8\n",
    "pr = np.array([0.9] * n_l)\n",
    "n_samples = 10000\n",
    "C = get_c_perfect_dynamic(n_l, n_h, n_samples, pr=pr[0])\n",
    "#\n",
    "C0 = C\n",
    "C1 = C[:100,:,:]\n",
    "C2 = C[100:, :, :]\n",
    "#"
   ]
  },
  {
   "cell_type": "code",
   "execution_count": null,
   "id": "cb3a5a65",
   "metadata": {},
   "outputs": [],
   "source": [
    "adjusted_dyn(C, pr)"
   ]
  },
  {
   "cell_type": "code",
   "execution_count": null,
   "id": "0f726976",
   "metadata": {},
   "outputs": [],
   "source": [
    "dynamics(C1)"
   ]
  },
  {
   "cell_type": "markdown",
   "id": "14006c45",
   "metadata": {},
   "source": [
    "# Test Metrics"
   ]
  },
  {
   "cell_type": "code",
   "execution_count": null,
   "id": "19bf37a7",
   "metadata": {},
   "outputs": [],
   "source": [
    "def print_metrics(C, pr):\n",
    "    mdy = adjusted_dyn(C, pr).mean()\n",
    "    mma = adjusted_mean_max(C, pr).mean()\n",
    "    print(\"mdy: {:.3f}, mma: {:.3f}\".format(mdy, mma))"
   ]
  },
  {
   "cell_type": "markdown",
   "id": "3e0f3968",
   "metadata": {},
   "source": [
    "### Perfect Routing"
   ]
  },
  {
   "cell_type": "code",
   "execution_count": null,
   "id": "fd50ca24",
   "metadata": {},
   "outputs": [],
   "source": [
    "n_l = 20\n",
    "n_h = 10\n",
    "n_samples = 10000\n",
    "\n",
    "C = get_c_perfect_dynamic(n_l, n_h, n_samples, pr=0)\n",
    "#\n",
    "C_mu = C.mean(axis=0)\n",
    "C_sd = C.std(axis=0)\n",
    "C_mx = C.max(axis=0)\n",
    "#\n",
    "fig, axes = plt.subplots(1, 3, figsize=(20, 10))\n",
    "plot_mat2(C_mu, ax=axes[0], vmin=0, vmax=1, title=\"mean\")\n",
    "plot_mat2(C_sd, ax=axes[1], vmin=0, vmax=0.5, title=\"sd\")\n",
    "plot_mat2(C_mx, ax=axes[2], vmin=0, vmax=1, title=\"max\")\n",
    "plt.show()"
   ]
  },
  {
   "cell_type": "code",
   "execution_count": null,
   "id": "7f3126cc",
   "metadata": {},
   "outputs": [],
   "source": [
    "for n_l in [20, 40, 60]:\n",
    "    for n_h in [10, 20, 40]:\n",
    "        for pr in [0, 0.1, 0.4, 0.8]:\n",
    "            pr = np.array([pr] * n_l)\n",
    "            C = get_c_perfect_dynamic(n_l, n_h, n_samples, pr=pr[0])\n",
    "            print_metrics(C, pr)"
   ]
  },
  {
   "cell_type": "markdown",
   "id": "e5a6b9c8",
   "metadata": {},
   "source": [
    "### Uniform Routing"
   ]
  },
  {
   "cell_type": "code",
   "execution_count": null,
   "id": "221958de",
   "metadata": {},
   "outputs": [],
   "source": [
    "n_l = 20\n",
    "n_h = 10\n",
    "n_samples = 10000\n",
    "\n",
    "C = get_c_uniform(n_l, n_h, n_samples)\n",
    "C_mu = C.mean(axis=0)\n",
    "C_sd = C.std(axis=0)\n",
    "C_mx = C.max(axis=0)\n",
    "#\n",
    "fig, axes = plt.subplots(1, 3, figsize=(20, 10))\n",
    "plot_mat2(C_mu, ax=axes[0], vmin=0, vmax=1, title=\"mean\")\n",
    "plot_mat2(C_sd, ax=axes[1], vmin=0, vmax=0.5, title=\"sd\")\n",
    "plot_mat2(C_mx, ax=axes[2], vmin=0, vmax=1, title=\"max\")\n",
    "plt.show()"
   ]
  },
  {
   "cell_type": "code",
   "execution_count": null,
   "id": "6a8f4eb4",
   "metadata": {},
   "outputs": [],
   "source": [
    "pr = 0\n",
    "n_samples = 10000\n",
    "for n_l in [20, 40, 60]:\n",
    "    for n_h in [10, 20, 40]:\n",
    "        C = get_c_uniform(n_l, n_h, n_samples)\n",
    "        print_metrics(C, pr=np.array([pr] * n_l))"
   ]
  },
  {
   "cell_type": "markdown",
   "id": "3b9e16f3",
   "metadata": {},
   "source": [
    "### Random Routing"
   ]
  },
  {
   "cell_type": "code",
   "execution_count": null,
   "id": "f9d2dfb2",
   "metadata": {},
   "outputs": [],
   "source": [
    "n_l = 20\n",
    "n_h = 10\n",
    "n_samples = 10000\n",
    "\n",
    "C = get_c_rand(n_l, n_h, n_samples, cs=4)\n",
    "C_mu = C.mean(axis=0)\n",
    "C_sd = C.std(axis=0)\n",
    "C_mx = C.max(axis=0)\n",
    "#\n",
    "fig, axes = plt.subplots(1, 3, figsize=(20, 10))\n",
    "plot_mat2(C_mu, ax=axes[0], vmin=0, vmax=1, title=\"mean\")\n",
    "plot_mat2(C_sd, ax=axes[1], vmin=0, vmax=0.5, title=\"sd\")\n",
    "plot_mat2(C_mx, ax=axes[2], vmin=0, vmax=1, title=\"max\")\n",
    "plt.show()"
   ]
  },
  {
   "cell_type": "code",
   "execution_count": null,
   "id": "fb9cca39",
   "metadata": {},
   "outputs": [],
   "source": [
    "for n_l in [20, 40, 60]:\n",
    "    for n_h in [10, 20, 40]:\n",
    "        C = get_c_rand(n_l, n_h, n_samples, pr=0, cs=8)\n",
    "        print_metrics(C, np.array([0] * n_l))"
   ]
  },
  {
   "cell_type": "code",
   "execution_count": null,
   "id": "159602ed",
   "metadata": {},
   "outputs": [],
   "source": [
    "n_l = 30\n",
    "n_h = 10\n",
    "for pr in [0, 0.2, 0.4, 0.8]:\n",
    "    pr = np.array([pr] * n_l)\n",
    "    C = get_c_rand(n_l, n_h, n_samples, pr=pr[0], cs=8)\n",
    "    print_metrics(C, pr)"
   ]
  },
  {
   "cell_type": "code",
   "execution_count": null,
   "id": "c09b9aa1",
   "metadata": {},
   "outputs": [],
   "source": [
    "n_l = 30\n",
    "n_h = 10\n",
    "for pr in [0, 0.2, 0.4, 0.8]:\n",
    "    pr = np.array([pr] * n_l)\n",
    "    C = get_c_rand(n_l, n_h, n_samples, pr=pr[0], cs=3)\n",
    "    print_metrics(C, pr)"
   ]
  },
  {
   "cell_type": "markdown",
   "id": "f3a2c826",
   "metadata": {},
   "source": [
    "### Static Routing"
   ]
  },
  {
   "cell_type": "code",
   "execution_count": null,
   "id": "d7feabfe",
   "metadata": {},
   "outputs": [],
   "source": [
    "n_l = 20\n",
    "n_h = 10\n",
    "#\n",
    "n_samples = 10000\n",
    "\n",
    "C = get_c_static(n_l, n_h, n_samples, cs=4, pr=0.1)\n",
    "C_mu = C.mean(axis=0)\n",
    "C_sd = C.std(axis=0)\n",
    "C_mx = C.max(axis=0)\n",
    "\n",
    "fig, axes = plt.subplots(1, 3, figsize=(30, 10))\n",
    "plot_mat2(C_mu, ax=axes[0], vmin=0, vmax=1)\n",
    "plot_mat2(C_sd, ax=axes[1], vmin=0, vmax=0.5)\n",
    "plot_mat2(C_mx, ax=axes[2], vmin=0, vmax=1)\n",
    "plt.show()"
   ]
  },
  {
   "cell_type": "code",
   "execution_count": null,
   "id": "704775f3",
   "metadata": {},
   "outputs": [],
   "source": [
    "n_l = 20\n",
    "n_h = 10\n",
    "for pr in [0, 0.2, 0.4, 0.6]:\n",
    "    pr = np.array([pr] * n_l)\n",
    "    C = get_c_static(n_l, n_h, n_samples, cs=4, pr=pr[0])\n",
    "    print_metrics(C, pr)"
   ]
  },
  {
   "cell_type": "code",
   "execution_count": null,
   "id": "1167b19c",
   "metadata": {},
   "outputs": [],
   "source": [
    "for n_l in [30, 40, 60]:\n",
    "    for n_h in [10, 20, 30]:\n",
    "        pr = np.array([0] * n_l)\n",
    "        C = get_c_static(n_l, n_h, n_samples, cs=4, pr=pr[0])\n",
    "        print_metrics(C, pr)"
   ]
  },
  {
   "cell_type": "code",
   "execution_count": null,
   "id": "b3f087d7",
   "metadata": {},
   "outputs": [],
   "source": [
    "#(0.5 / 0.2)\n",
    "#masd: vor summe durch max, um relatic skala"
   ]
  },
  {
   "cell_type": "code",
   "execution_count": null,
   "id": "12c0450c",
   "metadata": {},
   "outputs": [],
   "source": [
    "for n_l in [30, 40, 60]:\n",
    "    for n_h in [10, 20, 30]:\n",
    "        pr = np.array([0] * n_l)\n",
    "        C = get_c_static(n_l, n_h, n_samples, cs=8, pr=pr[0])\n",
    "        print_metrics(C, pr)"
   ]
  },
  {
   "cell_type": "code",
   "execution_count": null,
   "id": "51af704a",
   "metadata": {},
   "outputs": [],
   "source": [
    "for n_l in [30, 40, 60]:\n",
    "    for n_h in [10, 20, 30]:\n",
    "        pr = np.array([0] * n_l)\n",
    "        C = get_c_static(n_l, n_h, n_samples, cs=2, pr=pr[0])\n",
    "        print_metrics(C, pr)"
   ]
  },
  {
   "cell_type": "markdown",
   "id": "96f3d991",
   "metadata": {},
   "source": [
    "### More Dynamic Routing"
   ]
  },
  {
   "cell_type": "code",
   "execution_count": null,
   "id": "32e53e54",
   "metadata": {},
   "outputs": [],
   "source": [
    "n_l = 20\n",
    "n_h = 10\n",
    "pr = np.array([0] * n_l)\n",
    "nc = 2\n",
    "cs = 10\n",
    "#\n",
    "C = get_c_rate_strength(n_l, n_h, n_samples, cs=cs, nc=nc, pr=pr[0])\n",
    "C_mu = C.mean(axis=0)\n",
    "C_sd = C.std(axis=0)\n",
    "C_mx = C.max(axis=0)\n",
    "\n",
    "fig, axes = plt.subplots(1, 3, figsize=(30, 10))\n",
    "plot_mat2(C_mu, ax=axes[0], vmin=0, vmax=1)\n",
    "plot_mat2(C_sd, ax=axes[1], vmin=0, vmax=0.5)\n",
    "plot_mat2(C_mx, ax=axes[2], vmin=0, vmax=1)\n",
    "plt.show()"
   ]
  },
  {
   "cell_type": "code",
   "execution_count": null,
   "id": "83b8a065",
   "metadata": {},
   "outputs": [],
   "source": [
    "n_l = 20\n",
    "n_h = 10\n",
    "pr = np.array([0] * n_l)\n",
    "nc = 2\n",
    "cs = 4\n",
    "\n",
    "for nc in [2, 4, 6, 8]:\n",
    "    C = get_c_rate_strength(n_l, n_h, n_samples, cs=cs, nc=nc, pr=pr[0])\n",
    "    print_metrics(C, pr)"
   ]
  },
  {
   "cell_type": "code",
   "execution_count": null,
   "id": "9cdd4d13",
   "metadata": {},
   "outputs": [],
   "source": [
    "n_l = 20\n",
    "n_h = 10\n",
    "pr = np.array([0.5] * n_l)\n",
    "nc = 2\n",
    "cs = 4\n",
    "\n",
    "for nc in [2, 4, 6, 8]:\n",
    "    C = get_c_rate_strength(n_l, n_h, n_samples, cs=cs, nc=nc, pr=pr[0])\n",
    "    print_metrics(C, pr)"
   ]
  },
  {
   "cell_type": "code",
   "execution_count": null,
   "id": "73c1d312",
   "metadata": {},
   "outputs": [],
   "source": [
    "n_l = 20\n",
    "n_h = 10\n",
    "pr = np.array([0] * n_l)\n",
    "nc = 3\n",
    "\n",
    "for cs in [2, 4, 6, 8, 10]:\n",
    "    C = get_c_rate_strength(n_l, n_h, n_samples, cs=cs, nc=nc, pr=pr[0])\n",
    "    print_metrics(C, pr)"
   ]
  },
  {
   "cell_type": "code",
   "execution_count": null,
   "id": "8f581cd7",
   "metadata": {},
   "outputs": [],
   "source": [
    "n_l = 20\n",
    "n_h = 10\n",
    "pr = np.array([0.5] * n_l)\n",
    "nc = 3\n",
    "\n",
    "for cs in [2, 4, 6, 8, 10]:\n",
    "    C = get_c_rate_strength(n_l, n_h, n_samples, cs=cs, nc=nc, pr=pr[0])\n",
    "    print_metrics(C, pr)"
   ]
  }
 ],
 "metadata": {
  "kernelspec": {
   "display_name": "Python 3 (ipykernel)",
   "language": "python",
   "name": "python3"
  },
  "language_info": {
   "codemirror_mode": {
    "name": "ipython",
    "version": 3
   },
   "file_extension": ".py",
   "mimetype": "text/x-python",
   "name": "python",
   "nbconvert_exporter": "python",
   "pygments_lexer": "ipython3",
   "version": "3.8.12"
  },
  "latex_envs": {
   "LaTeX_envs_menu_present": true,
   "autoclose": false,
   "autocomplete": true,
   "bibliofile": "biblio.bib",
   "cite_by": "apalike",
   "current_citInitial": 1,
   "eqLabelWithNumbers": true,
   "eqNumInitial": 1,
   "hotkeys": {
    "equation": "Ctrl-E",
    "itemize": "Ctrl-I"
   },
   "labels_anchors": false,
   "latex_user_defs": false,
   "report_style_numbering": false,
   "user_envs_cfg": false
  }
 },
 "nbformat": 4,
 "nbformat_minor": 5
}
