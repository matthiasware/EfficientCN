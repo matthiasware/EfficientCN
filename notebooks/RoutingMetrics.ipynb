{
 "cells": [
  {
   "cell_type": "code",
   "execution_count": null,
   "id": "b297b532",
   "metadata": {},
   "outputs": [],
   "source": [
    "import sys\n",
    "sys.path.append(\"./..\")"
   ]
  },
  {
   "cell_type": "code",
   "execution_count": null,
   "id": "41aa2d9e",
   "metadata": {},
   "outputs": [],
   "source": [
    "import numpy as np\n",
    "import scipy.stats as stats\n",
    "import torch\n",
    "import matplotlib.pyplot as plt\n",
    "#\n",
    "from misc.plot_utils import plot_couplings, plot_capsules, plot_mat, plot_mat2"
   ]
  },
  {
   "cell_type": "markdown",
   "id": "ee0a61f4",
   "metadata": {},
   "source": [
    "# Simulate Routing Scenarios"
   ]
  },
  {
   "cell_type": "code",
   "execution_count": null,
   "id": "7ffe7e0c",
   "metadata": {},
   "outputs": [],
   "source": [
    "def get_c_perfect_dynamic(n_l, n_h, n_samples, pr=0.0):\n",
    "    if pr > 0:\n",
    "        n_samples_p = int(pr * n_samples)\n",
    "        n_samples = n_samples - n_samples_p\n",
    "        \n",
    "    vals = torch.randint(0, n_h, size=(n_samples, n_l))\n",
    "    C = torch.nn.functional.one_hot(vals).float() * 10\n",
    "    C = torch.softmax(C + 1e-7, dim=-1).numpy()\n",
    "    \n",
    "    if pr > 0:\n",
    "        C2 = get_c_uniform(n_l, n_h, n_samples_p)\n",
    "        \n",
    "        C = np.concatenate([C, C2], axis=0)\n",
    "    return C\n",
    "\n",
    "def get_c_uniform(n_l, n_h, n_samples):\n",
    "    C = torch.softmax(torch.ones(n_samples, n_l, n_h), dim=-1).numpy()\n",
    "    return C\n",
    "\n",
    "def get_c_rand(n_l, n_h, n_samples, cs=1, pr=0):\n",
    "    if pr > 0:\n",
    "        n_samples_p = int(pr * n_samples)\n",
    "        n_samples = n_samples - n_samples_p\n",
    "        \n",
    "    C = torch.softmax(torch.rand(n_samples, n_l, n_h) * cs, dim=-1).numpy()\n",
    "    \n",
    "    if pr > 0:\n",
    "        C2 = get_c_uniform(n_l, n_h, n_samples_p)\n",
    "        \n",
    "        C = np.concatenate([C, C2], axis=0)\n",
    "    return C\n",
    "\n",
    "def get_c_rate_strength(n_l, n_h, n_samples, cs=None, cr=None, nc=None, pr=0.0):\n",
    "    \"\"\"\n",
    "        pr: pasive rate\n",
    "        cs: Coupling Strength\n",
    "        cr: Coupling Rate\n",
    "        (nc: number of couplings)\n",
    "        use either cr or nc\n",
    "    \"\"\"\n",
    "    if pr > 0:\n",
    "        n_samples_p = int(pr * n_samples)\n",
    "        n_samples = n_samples - n_samples_p\n",
    "    \n",
    "    if nc is None:\n",
    "        nc = int(cr * n_h)\n",
    "    #\n",
    "    assert nc > 0\n",
    "    #\n",
    "    CC = [get_c_static(n_l, n_h, n_samples // nc, cs=cs) for _ in range(nc)]\n",
    "    \n",
    "    if pr > 0:\n",
    "        C = get_c_uniform(n_l, n_h, n_samples_p)\n",
    "        CC.append(C)\n",
    "    \n",
    "    C = np.concatenate(CC, axis=0)\n",
    "    return C\n",
    "\n",
    "def get_c_static(n_l, n_h, n_samples, cs=10, pr=0):\n",
    "    if pr > 0:\n",
    "        n_samples_p = int(pr * n_samples)\n",
    "        n_samples = n_samples - n_samples_p\n",
    "    vals = torch.randint(0, n_h, size=(n_l,))\n",
    "    C = torch.nn.functional.one_hot(vals, num_classes=n_h).float() * cs\n",
    "    C = torch.softmax(C + 1e-7, dim=-1)\n",
    "    C = C.unsqueeze(0)\n",
    "    C = C.repeat(n_samples, 1, 1).numpy()\n",
    "    \n",
    "    if pr > 0:\n",
    "        C2 = get_c_uniform(n_l, n_h, n_samples_p)\n",
    "        C = np.concatenate([C, C2], axis=0)\n",
    "    \n",
    "    return C\n",
    "\n",
    "def calc_norm_entropy(C):\n",
    "    Cm = C.mean(axis=0)\n",
    "    Ce = np.sum(Cm * np.log(Cm) * (1/np.log(Cm.shape[1])), axis=1) * -1\n",
    "    return Ce"
   ]
  },
  {
   "cell_type": "markdown",
   "id": "9213dca3",
   "metadata": {},
   "source": [
    "## Mean Max & Adjusted Mean Max"
   ]
  },
  {
   "cell_type": "code",
   "execution_count": null,
   "id": "c53dae10",
   "metadata": {},
   "outputs": [],
   "source": [
    "def mean_max(C):\n",
    "    \"\"\"\n",
    "        Indicating strong couplings for lower layer Capsules\n",
    "        Only For ACTIVE Capsules interpretable!\n",
    "        C (b, n_l, n_h) c in C in [0, 1]\n",
    "    \"\"\"\n",
    "    return np.max(C, axis=2).mean(axis=0)\n",
    "\n",
    "def adjusted_mean_max(C, pr):\n",
    "    \"\"\"\n",
    "        mean_max(C), adjusted for pr (0,1) passive capsules\n",
    "    \"\"\"\n",
    "    n_samples, n_l, n_h = C.shape\n",
    "    amm = (C.max(axis=2).sum(axis=0) - (pr * n_samples) / n_h) / ((1 - pr) * n_samples)\n",
    "    return amm"
   ]
  },
  {
   "cell_type": "code",
   "execution_count": null,
   "id": "6ec2b3e8",
   "metadata": {},
   "outputs": [],
   "source": [
    "n_l = 16\n",
    "n_h = 8\n",
    "pr = 0.9\n",
    "n_samples = 1000\n",
    "C = get_c_perfect_dynamic(n_l, n_h, n_samples, pr=pr)\n",
    "#\n",
    "C0 = C\n",
    "C1 = C[:100,:,:]\n",
    "C2 = C[100:, :, :]"
   ]
  },
  {
   "cell_type": "code",
   "execution_count": null,
   "id": "1d784155",
   "metadata": {},
   "outputs": [],
   "source": [
    "mean_max(C0)"
   ]
  },
  {
   "cell_type": "code",
   "execution_count": null,
   "id": "aa210edb",
   "metadata": {},
   "outputs": [],
   "source": [
    "mean_max(C1)"
   ]
  },
  {
   "cell_type": "code",
   "execution_count": null,
   "id": "d60ceaba",
   "metadata": {},
   "outputs": [],
   "source": [
    "adjusted_mean_max(C0, pr)"
   ]
  },
  {
   "cell_type": "markdown",
   "id": "f86e5da7",
   "metadata": {},
   "source": [
    "## Adjusted Mean and Adjusted Std"
   ]
  },
  {
   "cell_type": "code",
   "execution_count": null,
   "id": "4bdad4af",
   "metadata": {},
   "outputs": [],
   "source": [
    "def adjusted_mean(C, pr):\n",
    "    n_samples, n_l, n_h = C.shape\n",
    "    am = (C.sum(axis=0) - (pr * n_samples) / n_h) / ((1 - pr) * n_samples)\n",
    "    return am\n",
    "\n",
    "def adjusted_std(C, pr):\n",
    "    n_samples, n_l, n_h = C.shape\n",
    "    amc = adjusted_mean(C, pr)\n",
    "    asd = (np.sum((C - amc)**2, axis=0) - (pr * n_samples * (1/n_h - amc)**2)) / ((1 - pr) * n_samples)\n",
    "    asd = np.sqrt(asd + 1e-5)\n",
    "    return asd"
   ]
  },
  {
   "cell_type": "code",
   "execution_count": null,
   "id": "3c35ac8c",
   "metadata": {},
   "outputs": [],
   "source": [
    "n_l = 16\n",
    "n_h = 8\n",
    "pr = 0.9\n",
    "n_samples = 1000\n",
    "C = get_c_perfect_dynamic(n_l, n_h, n_samples, pr=pr)\n",
    "#\n",
    "C0 = C\n",
    "C1 = C[:100,:,:]\n",
    "C2 = C[100:, :, :]"
   ]
  },
  {
   "cell_type": "code",
   "execution_count": null,
   "id": "1956b32c",
   "metadata": {},
   "outputs": [],
   "source": [
    "fig, axes = plt.subplots(1, 4, figsize=(20, 10))\n",
    "plot_mat2(C0.mean(axis=0), ax=axes[0], title=\"mean(C)\")\n",
    "plot_mat2(C1.mean(axis=0), ax=axes[1], title=\"mean(C_active)\")\n",
    "plot_mat2(adjusted_mean(C0, pr), ax=axes[2], title=\"adjusted mean(C)\")\n",
    "plot_mat2(C2.mean(axis=0), ax=axes[3], title=\"mean(C_passive)\")"
   ]
  },
  {
   "cell_type": "code",
   "execution_count": null,
   "id": "daef435f",
   "metadata": {},
   "outputs": [],
   "source": [
    "fig, axes = plt.subplots(1, 4, figsize=(20, 10))\n",
    "plot_mat2(C0.std(axis=0), ax=axes[0], title=\"std(C)\")\n",
    "plot_mat2(C1.std(axis=0), ax=axes[1], title=\"std(C_active)\")\n",
    "plot_mat2(adjusted_std(C0, pr), ax=axes[2], title=\"adjusted std(C)\")\n",
    "plot_mat2(C2.std(axis=0), ax=axes[3], title=\"std(C_passive)\")"
   ]
  },
  {
   "cell_type": "markdown",
   "id": "f74e5116",
   "metadata": {},
   "source": [
    "# Dynamic Coefficient"
   ]
  },
  {
   "cell_type": "code",
   "execution_count": null,
   "id": "3390f21f",
   "metadata": {},
   "outputs": [],
   "source": [
    "def dynamics(C):\n",
    "    n_samples, n_l, n_h = C.shape\n",
    "    std_pr = np.sqrt(1/n_h * (1 - 1/n_h))\n",
    "    msd = C.std(axis=0).mean(axis=1)\n",
    "    mm = mean_max(C)\n",
    "    dyn = msd / (mm * std_pr)\n",
    "    return dyn\n",
    "\n",
    "def dynamics2(C):\n",
    "    n_samples, n_l, n_h = C.shape\n",
    "    std_pr = np.sqrt(1/n_h * (1 - 1/n_h))\n",
    "    msd = C.std(axis=0).mean(axis=1)\n",
    "    mm = C.max(axis=(0,2))\n",
    "    dyn = msd / (mm * std_pr)\n",
    "    return dyn\n",
    "\n",
    "def adjusted_dynamics2(C, pr):\n",
    "    n_samples, n_l, n_h = C.shape\n",
    "    std_pr = np.sqrt(1/n_h * (1 - 1/n_h))\n",
    "    masd = adjusted_std(C, pr).mean(axis=1)\n",
    "    mm = C.max(axis=(0,2))\n",
    "    dyn = masd / (mm * std_pr)\n",
    "    return dyn\n",
    "\n",
    "def adjusted_dynamics(C, pr):\n",
    "    n_samples, n_l, n_h = C.shape\n",
    "    std_pr = np.sqrt(1/n_h * (1 - 1/n_h))\n",
    "    masd = adjusted_std(C, pr).mean(axis=1)\n",
    "    mma = adjusted_mean_max(C, pr)\n",
    "    dyn = masd / (mma * std_pr)\n",
    "    return dyn"
   ]
  },
  {
   "cell_type": "code",
   "execution_count": null,
   "id": "3cc5b741",
   "metadata": {},
   "outputs": [],
   "source": [
    "n_l = 16\n",
    "n_h = 8\n",
    "pr = 0.9\n",
    "n_samples = 1000\n",
    "C = get_c_perfect_dynamic(n_l, n_h, n_samples, pr=pr)\n",
    "#\n",
    "C0 = C\n",
    "C1 = C[:100,:,:]\n",
    "C2 = C[100:, :, :]\n",
    "#"
   ]
  },
  {
   "cell_type": "code",
   "execution_count": null,
   "id": "2b81e946",
   "metadata": {},
   "outputs": [],
   "source": [
    "adjusted_dynamics(C, pr)"
   ]
  },
  {
   "cell_type": "code",
   "execution_count": null,
   "id": "ddaa8572",
   "metadata": {},
   "outputs": [],
   "source": [
    "dynamics(C1)"
   ]
  },
  {
   "cell_type": "markdown",
   "id": "51ad5384",
   "metadata": {},
   "source": [
    "# Test Metrics"
   ]
  },
  {
   "cell_type": "code",
   "execution_count": null,
   "id": "940331b0",
   "metadata": {},
   "outputs": [],
   "source": [
    "def print_metrics(C, pr):\n",
    "    mdy = adjusted_dynamics2(C, pr).mean()\n",
    "    mmc = adjusted_mean_max(C, pr).mean()\n",
    "    print(\"mdy: {:.3f}, mmc: {:.3f}\".format(mdy, mmc))\n",
    "\n",
    "def get_metrics(C, pr):\n",
    "    mdy = adjusted_dynamics(C, pr)\n",
    "    mmc = adjusted_mean_max(C, pr)\n",
    "    return mdy, mmc"
   ]
  },
  {
   "cell_type": "markdown",
   "id": "4c3dccf2",
   "metadata": {},
   "source": [
    "### Perfect Routing"
   ]
  },
  {
   "cell_type": "code",
   "execution_count": null,
   "id": "6b999c06",
   "metadata": {},
   "outputs": [],
   "source": [
    "n_l = 20\n",
    "n_h = 10\n",
    "n_samples = 10000\n",
    "\n",
    "C = get_c_perfect_dynamic(n_l, n_h, n_samples, pr=0)\n",
    "#\n",
    "C_mu = C.mean(axis=0)\n",
    "C_sd = C.std(axis=0)\n",
    "C_mx = C.max(axis=0)\n",
    "#\n",
    "fig, axes = plt.subplots(1, 3, figsize=(20, 10))\n",
    "plot_mat2(C_mu, ax=axes[0], vmin=0, vmax=1, title=\"mean\")\n",
    "plot_mat2(C_sd, ax=axes[1], vmin=0, vmax=0.5, title=\"sd\")\n",
    "plot_mat2(C_mx, ax=axes[2], vmin=0, vmax=1, title=\"max\")\n",
    "plt.show()"
   ]
  },
  {
   "cell_type": "code",
   "execution_count": null,
   "id": "bc5c5087",
   "metadata": {},
   "outputs": [],
   "source": [
    "for n_l in [20, 40, 60]:\n",
    "    for n_h in [10, 20, 40]:\n",
    "        for pr in [0, 0.1, 0.4, 0.8]:\n",
    "            C = get_c_perfect_dynamic(n_l, n_h, n_samples, pr=pr)\n",
    "            print_metrics(C, pr)"
   ]
  },
  {
   "cell_type": "markdown",
   "id": "8dd68c70",
   "metadata": {},
   "source": [
    "### Uniform Routing"
   ]
  },
  {
   "cell_type": "code",
   "execution_count": null,
   "id": "41e9cecf",
   "metadata": {},
   "outputs": [],
   "source": [
    "n_l = 20\n",
    "n_h = 10\n",
    "n_samples = 10000\n",
    "\n",
    "C = get_c_uniform(n_l, n_h, n_samples)\n",
    "C_mu = C.mean(axis=0)\n",
    "C_sd = C.std(axis=0)\n",
    "C_mx = C.max(axis=0)\n",
    "#\n",
    "fig, axes = plt.subplots(1, 3, figsize=(20, 10))\n",
    "plot_mat2(C_mu, ax=axes[0], vmin=0, vmax=1, title=\"mean\")\n",
    "plot_mat2(C_sd, ax=axes[1], vmin=0, vmax=0.5, title=\"sd\")\n",
    "plot_mat2(C_mx, ax=axes[2], vmin=0, vmax=1, title=\"max\")\n",
    "plt.show()"
   ]
  },
  {
   "cell_type": "code",
   "execution_count": null,
   "id": "99092bca",
   "metadata": {},
   "outputs": [],
   "source": [
    "pr = 0\n",
    "for n_l in [20, 40, 60]:\n",
    "    for n_h in [10, 20, 40]:\n",
    "        C = get_c_uniform(n_l, n_h, n_samples)\n",
    "        print_metrics(C, pr)"
   ]
  },
  {
   "cell_type": "markdown",
   "id": "84f92240",
   "metadata": {},
   "source": [
    "### Random Routing"
   ]
  },
  {
   "cell_type": "code",
   "execution_count": null,
   "id": "1bc36351",
   "metadata": {},
   "outputs": [],
   "source": [
    "n_l = 20\n",
    "n_h = 10\n",
    "n_samples = 10000\n",
    "\n",
    "C = get_c_rand(n_l, n_h, n_samples, cs=4)\n",
    "C_mu = C.mean(axis=0)\n",
    "C_sd = C.std(axis=0)\n",
    "C_mx = C.max(axis=0)\n",
    "#\n",
    "fig, axes = plt.subplots(1, 3, figsize=(20, 10))\n",
    "plot_mat2(C_mu, ax=axes[0], vmin=0, vmax=1, title=\"mean\")\n",
    "plot_mat2(C_sd, ax=axes[1], vmin=0, vmax=0.5, title=\"sd\")\n",
    "plot_mat2(C_mx, ax=axes[2], vmin=0, vmax=1, title=\"max\")\n",
    "plt.show()"
   ]
  },
  {
   "cell_type": "code",
   "execution_count": null,
   "id": "18bed79d",
   "metadata": {},
   "outputs": [],
   "source": [
    "for n_l in [20, 40, 60]:\n",
    "    for n_h in [10, 20, 40]:\n",
    "        C = get_c_rand(n_l, n_h, n_samples, pr=0, cs=8)\n",
    "        print_metrics(C, 0)"
   ]
  },
  {
   "cell_type": "code",
   "execution_count": null,
   "id": "592357ef",
   "metadata": {},
   "outputs": [],
   "source": [
    "n_l = 30\n",
    "n_h = 10\n",
    "for pr in [0, 0.2, 0.4, 0.8]:\n",
    "    C = get_c_rand(n_l, n_h, n_samples, pr=pr, cs=8)\n",
    "    print_metrics(C, pr)"
   ]
  },
  {
   "cell_type": "code",
   "execution_count": null,
   "id": "f3f88a0a",
   "metadata": {},
   "outputs": [],
   "source": [
    "n_l = 30\n",
    "n_h = 10\n",
    "for pr in [0, 0.2, 0.4, 0.8]:\n",
    "    C = get_c_rand(n_l, n_h, n_samples, pr=pr, cs=3)\n",
    "    print_metrics(C, pr)"
   ]
  },
  {
   "cell_type": "markdown",
   "id": "05644d44",
   "metadata": {},
   "source": [
    "### Static Routing"
   ]
  },
  {
   "cell_type": "code",
   "execution_count": null,
   "id": "fedb11f2",
   "metadata": {},
   "outputs": [],
   "source": [
    "n_l = 20\n",
    "n_h = 10\n",
    "#\n",
    "n_samples = 10000\n",
    "\n",
    "C = get_c_static(n_l, n_h, n_samples, cs=4, pr=0.1)\n",
    "C_mu = C.mean(axis=0)\n",
    "C_sd = C.std(axis=0)\n",
    "C_mx = C.max(axis=0)\n",
    "\n",
    "fig, axes = plt.subplots(1, 3, figsize=(30, 10))\n",
    "plot_mat2(C_mu, ax=axes[0], vmin=0, vmax=1)\n",
    "plot_mat2(C_sd, ax=axes[1], vmin=0, vmax=0.5)\n",
    "plot_mat2(C_mx, ax=axes[2], vmin=0, vmax=1)\n",
    "plt.show()"
   ]
  },
  {
   "cell_type": "code",
   "execution_count": null,
   "id": "dab57673",
   "metadata": {},
   "outputs": [],
   "source": [
    "n_l = 20\n",
    "n_h = 10\n",
    "for pr in [0, 0.2, 0.4, 0.8]:\n",
    "    C = get_c_static(n_l, n_h, n_samples, cs=4, pr=pr)\n",
    "    print_metrics(C, pr)"
   ]
  },
  {
   "cell_type": "code",
   "execution_count": null,
   "id": "ecd340f1",
   "metadata": {},
   "outputs": [],
   "source": [
    "pr = 0\n",
    "for n_l in [30, 40, 60]:\n",
    "    for n_h in [10, 20, 30]:\n",
    "        C = get_c_static(n_l, n_h, n_samples, cs=4, pr=pr)\n",
    "        print_metrics(C, pr)"
   ]
  },
  {
   "cell_type": "code",
   "execution_count": null,
   "id": "e33097ce",
   "metadata": {},
   "outputs": [],
   "source": [
    "pr = 0\n",
    "for n_l in [30, 40, 60]:\n",
    "    for n_h in [10, 20, 30]:\n",
    "        C = get_c_static(n_l, n_h, n_samples, cs=8, pr=pr)\n",
    "        print_metrics(C, pr)"
   ]
  },
  {
   "cell_type": "code",
   "execution_count": null,
   "id": "98c7a469",
   "metadata": {},
   "outputs": [],
   "source": [
    "pr = 0\n",
    "for n_l in [30, 40, 60]:\n",
    "    for n_h in [10, 20, 30]:\n",
    "        C = get_c_static(n_l, n_h, n_samples, cs=2, pr=pr)\n",
    "        print_metrics(C, pr)"
   ]
  },
  {
   "cell_type": "markdown",
   "id": "09015450",
   "metadata": {},
   "source": [
    "### More Dynamic Routing"
   ]
  },
  {
   "cell_type": "code",
   "execution_count": null,
   "id": "20295468",
   "metadata": {},
   "outputs": [],
   "source": [
    "n_l = 20\n",
    "n_h = 10\n",
    "pr = 0\n",
    "nc = 2\n",
    "cs = 10\n",
    "#\n",
    "C = get_c_rate_strength(n_l, n_h, n_samples, cs=cs, nc=nc, pr=pr)\n",
    "C_mu = C.mean(axis=0)\n",
    "C_sd = C.std(axis=0)\n",
    "C_mx = C.max(axis=0)\n",
    "\n",
    "fig, axes = plt.subplots(1, 3, figsize=(30, 10))\n",
    "plot_mat2(C_mu, ax=axes[0], vmin=0, vmax=1)\n",
    "plot_mat2(C_sd, ax=axes[1], vmin=0, vmax=0.5)\n",
    "plot_mat2(C_mx, ax=axes[2], vmin=0, vmax=1)\n",
    "plt.show()"
   ]
  },
  {
   "cell_type": "code",
   "execution_count": null,
   "id": "0bd22fae",
   "metadata": {},
   "outputs": [],
   "source": [
    "n_l = 20\n",
    "n_h = 10\n",
    "pr = 0\n",
    "nc = 2\n",
    "cs = 4\n",
    "\n",
    "for nc in [2, 4, 6, 8]:\n",
    "    C = get_c_rate_strength(n_l, n_h, n_samples, cs=cs, nc=nc, pr=pr)\n",
    "    print_metrics(C, pr)"
   ]
  },
  {
   "cell_type": "code",
   "execution_count": null,
   "id": "71dbefea",
   "metadata": {},
   "outputs": [],
   "source": [
    "n_l = 20\n",
    "n_h = 10\n",
    "pr = 0\n",
    "nc = 3\n",
    "\n",
    "for cs in [2, 4, 6, 8, 10]:\n",
    "    C = get_c_rate_strength(n_l, n_h, n_samples, cs=cs, nc=nc, pr=pr)\n",
    "    print_metrics(C, pr)"
   ]
  },
  {
   "cell_type": "code",
   "execution_count": null,
   "id": "d797431d",
   "metadata": {},
   "outputs": [],
   "source": [
    "n_l = 20\n",
    "n_h = 10\n",
    "pr = 0.5\n",
    "nc = 2\n",
    "cs = 4\n",
    "\n",
    "for nc in [2, 4, 6, 8]:\n",
    "    C = get_c_rate_strength(n_l, n_h, n_samples, cs=cs, nc=nc, pr=pr)\n",
    "    print_metrics(C, pr)"
   ]
  },
  {
   "cell_type": "code",
   "execution_count": null,
   "id": "e7d7a69b",
   "metadata": {},
   "outputs": [],
   "source": [
    "n_l = 20\n",
    "n_h = 10\n",
    "pr = 0.5\n",
    "nc = 3\n",
    "\n",
    "for cs in [2, 4, 6, 8, 10]:\n",
    "    C = get_c_rate_strength(n_l, n_h, n_samples, cs=cs, nc=nc, pr=pr)\n",
    "    print_metrics(C, pr)"
   ]
  }
 ],
 "metadata": {
  "kernelspec": {
   "display_name": "Python 3 (ipykernel)",
   "language": "python",
   "name": "python3"
  },
  "language_info": {
   "codemirror_mode": {
    "name": "ipython",
    "version": 3
   },
   "file_extension": ".py",
   "mimetype": "text/x-python",
   "name": "python",
   "nbconvert_exporter": "python",
   "pygments_lexer": "ipython3",
   "version": "3.8.12"
  },
  "latex_envs": {
   "LaTeX_envs_menu_present": true,
   "autoclose": false,
   "autocomplete": true,
   "bibliofile": "biblio.bib",
   "cite_by": "apalike",
   "current_citInitial": 1,
   "eqLabelWithNumbers": true,
   "eqNumInitial": 1,
   "hotkeys": {
    "equation": "Ctrl-E",
    "itemize": "Ctrl-I"
   },
   "labels_anchors": false,
   "latex_user_defs": false,
   "report_style_numbering": false,
   "user_envs_cfg": false
  }
 },
 "nbformat": 4,
 "nbformat_minor": 5
}
