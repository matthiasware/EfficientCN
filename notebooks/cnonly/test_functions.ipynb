{
 "cells": [
  {
   "cell_type": "code",
   "execution_count": 1,
   "id": "68a07369",
   "metadata": {},
   "outputs": [],
   "source": [
    "%load_ext autoreload\n",
    "%autoreload 2"
   ]
  },
  {
   "cell_type": "code",
   "execution_count": 2,
   "id": "c4858331",
   "metadata": {},
   "outputs": [],
   "source": [
    "import sys\n",
    "sys.path.append(\"./../..\")"
   ]
  },
  {
   "cell_type": "code",
   "execution_count": 5,
   "id": "fe02d27d",
   "metadata": {},
   "outputs": [],
   "source": [
    "import numpy as np\n",
    "import torch\n",
    "from torchvision import datasets\n",
    "from torch.utils.data import DataLoader\n",
    "import torchvision.transforms as T\n",
    "import torch.nn.functional as F\n",
    "import torchvision\n",
    "import torch.nn as nn\n",
    "from torch import optim\n",
    "#\n",
    "import matplotlib.pyplot as plt\n",
    "from einops import rearrange\n",
    "from tqdm import tqdm\n",
    "#\n",
    "\n",
    "from misc.plot_utils import plot_mat, imshow\n",
    "from effcn.layers import FCCaps, FCCapsWOBias, Squash\n",
    "from misc.utils import count_parameters\n",
    "from effcn.functions import margin_loss\n",
    "from datasets import AffNIST\n",
    "#\n",
    "from einops import rearrange, repeat\n",
    "from torch import einsum, nn\n",
    "#\n",
    "import helpers\n",
    "#\n",
    "# local imports\n",
    "from datasets import AffNIST\n",
    "from effcn.layers import Squash\n",
    "from effcn.functions import margin_loss, max_norm_masking\n",
    "from misc.utils import count_parameters\n",
    "from misc.plot_utils import plot_couplings, plot_capsules, plot_mat, plot_mat2\n",
    "from misc.metrics import *"
   ]
  },
  {
   "cell_type": "markdown",
   "id": "2f2f9ef2",
   "metadata": {},
   "source": [
    "### Masking"
   ]
  },
  {
   "cell_type": "code",
   "execution_count": 17,
   "id": "0ec746c0",
   "metadata": {},
   "outputs": [],
   "source": [
    "def mask_template(n, n_masked=None, p_masked=None):\n",
    "    if n_masked is None:\n",
    "        assert p_masked > 0\n",
    "        n_masked = int(p_masked * n)\n",
    "    else:\n",
    "        assert n_masked > 0\n",
    "    mask_temp = torch.ones(n)\n",
    "    mask_temp[:n_masked] = 0\n",
    "    return mask_temp.bool()\n",
    "\n",
    "def batch_mask_generator(b, n, n_masked=None, p_masked=None):\n",
    "    mask_temp = mask_template(n, n_masked, p_masked)\n",
    "    mask_temp = mask_temp.unsqueeze(0).repeat(b, 1)\n",
    "    \n",
    "    def _mask_generator():\n",
    "        indices = torch.argsort(torch.rand(*mask_temp.shape), dim=-1)\n",
    "        mask = mask_temp[torch.arange(mask_temp.shape[0]).unsqueeze(-1), indices]\n",
    "        return mask \n",
    "    return _mask_generator\n",
    "\n",
    "def mask_generator(b, n, n_masked=None, p_masked=None):\n",
    "    mask_temp = mask_template(n, n_masked, p_masked)\n",
    "    mask_temp = mask_temp.unsqueeze(0).repeat(b, 1)\n",
    "    #\n",
    "    indices = torch.argsort(torch.rand(*mask_temp.shape), dim=-1)\n",
    "    mask = mask_temp[torch.arange(mask_temp.shape[0]).unsqueeze(-1), indices]\n",
    "    return mask"
   ]
  },
  {
   "cell_type": "code",
   "execution_count": 18,
   "id": "0e5fec43",
   "metadata": {},
   "outputs": [
    {
     "data": {
      "text/plain": [
       "tensor([False, False,  True,  True,  True])"
      ]
     },
     "execution_count": 18,
     "metadata": {},
     "output_type": "execute_result"
    }
   ],
   "source": [
    "b = 3\n",
    "n = 5\n",
    "n_masked = 2\n",
    "mask_temp = mask_template(n, n_masked)\n",
    "mask_temp"
   ]
  },
  {
   "cell_type": "code",
   "execution_count": 19,
   "id": "657637fb",
   "metadata": {},
   "outputs": [
    {
     "name": "stdout",
     "output_type": "stream",
     "text": [
      "tensor([[False, False,  True, False,  True],\n",
      "        [ True, False, False, False,  True],\n",
      "        [False,  True, False, False,  True]])\n",
      "tensor([[False, False,  True, False,  True],\n",
      "        [False, False,  True,  True, False],\n",
      "        [False,  True, False,  True, False]])\n"
     ]
    }
   ],
   "source": [
    "gen_mask = batch_mask_generator(b, n, 3)\n",
    "#\n",
    "for _ in range(2):\n",
    "    print(gen_mask())"
   ]
  },
  {
   "cell_type": "code",
   "execution_count": 20,
   "id": "8cb42bb4",
   "metadata": {},
   "outputs": [
    {
     "data": {
      "text/plain": [
       "tensor([[ True, False,  True,  True, False],\n",
       "        [False,  True,  True,  True, False],\n",
       "        [ True, False,  True, False,  True]])"
      ]
     },
     "execution_count": 20,
     "metadata": {},
     "output_type": "execute_result"
    }
   ],
   "source": [
    "mask_generator(b, n, n_masked)"
   ]
  },
  {
   "cell_type": "code",
   "execution_count": 26,
   "id": "96cc7e06",
   "metadata": {},
   "outputs": [],
   "source": [
    "def masked_select(x, mask):\n",
    "    b, _, d = x.shape\n",
    "    assert len(x.shape) == 1 + len(mask.shape)\n",
    "    mask = mask.unsqueeze(-1)\n",
    "    return torch.masked_select(x, mask).reshape(b, -1, d)"
   ]
  },
  {
   "cell_type": "code",
   "execution_count": 27,
   "id": "0098421d",
   "metadata": {},
   "outputs": [
    {
     "data": {
      "text/plain": [
       "tensor([[[ 0,  1,  2],\n",
       "         [ 3,  4,  5],\n",
       "         [ 6,  7,  8],\n",
       "         [ 9, 10, 11],\n",
       "         [12, 13, 14]],\n",
       "\n",
       "        [[15, 16, 17],\n",
       "         [18, 19, 20],\n",
       "         [21, 22, 23],\n",
       "         [24, 25, 26],\n",
       "         [27, 28, 29]]])"
      ]
     },
     "execution_count": 27,
     "metadata": {},
     "output_type": "execute_result"
    }
   ],
   "source": [
    "b = 2\n",
    "n = 5\n",
    "d = 3\n",
    "x = torch.arange(b*n*d).reshape(b, n, d)\n",
    "x"
   ]
  },
  {
   "cell_type": "code",
   "execution_count": 28,
   "id": "3539e1f0",
   "metadata": {},
   "outputs": [
    {
     "data": {
      "text/plain": [
       "tensor([[False,  True,  True, False, False],\n",
       "        [ True, False, False, False,  True]])"
      ]
     },
     "execution_count": 28,
     "metadata": {},
     "output_type": "execute_result"
    }
   ],
   "source": [
    "m = mask_generator(b, n, 2)\n",
    "~m"
   ]
  },
  {
   "cell_type": "code",
   "execution_count": 29,
   "id": "5b3d4697",
   "metadata": {},
   "outputs": [
    {
     "data": {
      "text/plain": [
       "tensor([[[ 3,  4,  5],\n",
       "         [ 6,  7,  8]],\n",
       "\n",
       "        [[15, 16, 17],\n",
       "         [27, 28, 29]]])"
      ]
     },
     "execution_count": 29,
     "metadata": {},
     "output_type": "execute_result"
    }
   ],
   "source": [
    "torch.masked_select(x, ~m.unsqueeze(-1)).reshape(b, 2, d)"
   ]
  },
  {
   "cell_type": "code",
   "execution_count": 30,
   "id": "9a370b29",
   "metadata": {},
   "outputs": [
    {
     "data": {
      "text/plain": [
       "tensor([[[ 3,  4,  5],\n",
       "         [ 6,  7,  8]],\n",
       "\n",
       "        [[15, 16, 17],\n",
       "         [27, 28, 29]]])"
      ]
     },
     "execution_count": 30,
     "metadata": {},
     "output_type": "execute_result"
    }
   ],
   "source": [
    "masked_select(x, ~m)"
   ]
  },
  {
   "cell_type": "markdown",
   "id": "ec697fdf",
   "metadata": {},
   "source": [
    "#### Select on images"
   ]
  },
  {
   "cell_type": "code",
   "execution_count": 85,
   "id": "9561d16d",
   "metadata": {},
   "outputs": [],
   "source": [
    "ds_train = datasets.MNIST(\n",
    "    root = '/mnt/data/pytorch',\n",
    "    train = True,                         \n",
    "    transform = T.ToTensor(), \n",
    "    download = True,            \n",
    ")\n",
    "ds_test = datasets.MNIST(\n",
    "    root = '/mnt/data/pytorch',\n",
    "    train = False, \n",
    "    transform = T.ToTensor()\n",
    ")"
   ]
  },
  {
   "cell_type": "code",
   "execution_count": 86,
   "id": "bf2a4c98",
   "metadata": {},
   "outputs": [],
   "source": [
    "b = 3\n",
    "X=torch.cat([ds_train[i][0] for i in range(b)])\n",
    "M = mask_generator(b, 28*28, 256)"
   ]
  },
  {
   "cell_type": "code",
   "execution_count": 87,
   "id": "98c07d19",
   "metadata": {},
   "outputs": [
    {
     "data": {
      "text/plain": [
       "torch.Size([3, 256, 1])"
      ]
     },
     "execution_count": 87,
     "metadata": {},
     "output_type": "execute_result"
    }
   ],
   "source": [
    "XS = masked_select(X.reshape(b,-1, 1), ~M)\n",
    "XS.shape"
   ]
  },
  {
   "cell_type": "code",
   "execution_count": 88,
   "id": "6d1a76a9",
   "metadata": {},
   "outputs": [
    {
     "data": {
      "image/png": "[encoded data removed]",
      "text/plain": [
       "<Figure size 1080x360 with 3 Axes>"
      ]
     },
     "metadata": {
      "needs_background": "light"
     },
     "output_type": "display_data"
    },
    {
     "data": {
      "image/png": "[encoded data removed]",
      "text/plain": [
       "<Figure size 1080x360 with 3 Axes>"
      ]
     },
     "metadata": {
      "needs_background": "light"
     },
     "output_type": "display_data"
    },
    {
     "data": {
      "image/png": "[encoded data removed]",
      "text/plain": [
       "<Figure size 1080x360 with 3 Axes>"
      ]
     },
     "metadata": {
      "needs_background": "light"
     },
     "output_type": "display_data"
    }
   ],
   "source": [
    "for i in range(b):\n",
    "    fig, axes = plt.subplots(1, 3, figsize=(15, 5))\n",
    "    axes[0].imshow(X[i])\n",
    "    axes[1].imshow(M[i].reshape(28, 28))\n",
    "    X[i].reshape(28*28)[M[i]] = 0\n",
    "    axes[2].imshow(X[i])\n",
    "    plt.show()"
   ]
  },
  {
   "cell_type": "code",
   "execution_count": null,
   "id": "d74fced0",
   "metadata": {},
   "outputs": [],
   "source": []
  }
 ],
 "metadata": {
  "kernelspec": {
   "display_name": "Python 3 (ipykernel)",
   "language": "python",
   "name": "python3"
  },
  "language_info": {
   "codemirror_mode": {
    "name": "ipython",
    "version": 3
   },
   "file_extension": ".py",
   "mimetype": "text/x-python",
   "name": "python",
   "nbconvert_exporter": "python",
   "pygments_lexer": "ipython3",
   "version": "3.8.12"
  },
  "latex_envs": {
   "LaTeX_envs_menu_present": true,
   "autoclose": false,
   "autocomplete": true,
   "bibliofile": "biblio.bib",
   "cite_by": "apalike",
   "current_citInitial": 1,
   "eqLabelWithNumbers": true,
   "eqNumInitial": 1,
   "hotkeys": {
    "equation": "Ctrl-E",
    "itemize": "Ctrl-I"
   },
   "labels_anchors": false,
   "latex_user_defs": false,
   "report_style_numbering": false,
   "user_envs_cfg": false
  }
 },
 "nbformat": 4,
 "nbformat_minor": 5
}
