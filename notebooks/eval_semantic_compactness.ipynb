{
 "cells": [
  {
   "cell_type": "code",
   "execution_count": 27,
   "metadata": {},
   "outputs": [
    {
     "name": "stdout",
     "output_type": "stream",
     "text": [
      "The autoreload extension is already loaded. To reload it, use:\n",
      "  %reload_ext autoreload\n"
     ]
    }
   ],
   "source": [
    "%load_ext autoreload\n",
    "%autoreload 2"
   ]
  },
  {
   "cell_type": "code",
   "execution_count": 28,
   "metadata": {},
   "outputs": [],
   "source": [
    "import sys\n",
    "sys.path.append(\"./../\")"
   ]
  },
  {
   "cell_type": "code",
   "execution_count": 29,
   "metadata": {},
   "outputs": [],
   "source": [
    "from pathlib import Path\n",
    "import math\n",
    "import pickle\n",
    "import pprint\n",
    "import time\n",
    "import datetime\n",
    "#\n",
    "import torch\n",
    "import torchvision\n",
    "from torchvision import utils\n",
    "import torchvision.transforms as T\n",
    "import torchvision.datasets as datasets\n",
    "#\n",
    "import matplotlib.pyplot as plt\n",
    "import matplotlib.image as mpimg\n",
    "import numpy as np\n",
    "from tqdm import tqdm\n",
    "from dotted_dict import DottedDict\n",
    "#\n",
    "from misc.plot_utils import plot_mat, imshow\n",
    "from effcn.functions import max_norm_masking\n",
    "from effcn.models import MnistEcnBackbone, MnistEcnDecoder, MnistEffCapsNet\n",
    "from misc.utils import mkdir_directories"
   ]
  },
  {
   "cell_type": "markdown",
   "metadata": {},
   "source": [
    "### Preprocessing"
   ]
  },
  {
   "cell_type": "code",
   "execution_count": 57,
   "metadata": {},
   "outputs": [
    {
     "data": {
      "text/plain": [
       "device(type='cuda')"
      ]
     },
     "execution_count": 57,
     "metadata": {},
     "output_type": "execute_result"
    }
   ],
   "source": [
    "device = torch.device(\"cuda\")\n",
    "device"
   ]
  },
  {
   "cell_type": "code",
   "execution_count": 58,
   "metadata": {},
   "outputs": [
    {
     "data": {
      "text/plain": [
       "True"
      ]
     },
     "execution_count": 58,
     "metadata": {},
     "output_type": "execute_result"
    }
   ],
   "source": [
    "p_experiment = \"/mnt/data/experiments/EfficientCN/mnist\"\n",
    "p_experiment = Path(p_experiment)\n",
    "\n",
    "p_ckpts = p_experiment / \"run_2022-01-19_14-50-25\"\n",
    "\n",
    "\n",
    "p_data = Path(\"/mnt/data/datasets\")\n",
    "p_model = p_ckpts / \"ecn_mnist_epoch_150.ckpt\"\n",
    "p_model.exists()"
   ]
  },
  {
   "cell_type": "code",
   "execution_count": 59,
   "metadata": {},
   "outputs": [
    {
     "data": {
      "text/plain": [
       "MnistEffCapsNet(\n",
       "  (backbone): MnistEcnBackbone(\n",
       "    (layers): Sequential(\n",
       "      (0): Conv2d(1, 32, kernel_size=(5, 5), stride=(1, 1), padding=valid)\n",
       "      (1): ReLU(inplace=True)\n",
       "      (2): BatchNorm2d(32, eps=1e-05, momentum=0.1, affine=True, track_running_stats=True)\n",
       "      (3): Conv2d(32, 64, kernel_size=(3, 3), stride=(1, 1), padding=valid)\n",
       "      (4): ReLU(inplace=True)\n",
       "      (5): BatchNorm2d(64, eps=1e-05, momentum=0.1, affine=True, track_running_stats=True)\n",
       "      (6): Conv2d(64, 64, kernel_size=(3, 3), stride=(1, 1), padding=valid)\n",
       "      (7): ReLU(inplace=True)\n",
       "      (8): BatchNorm2d(64, eps=1e-05, momentum=0.1, affine=True, track_running_stats=True)\n",
       "      (9): Conv2d(64, 128, kernel_size=(3, 3), stride=(2, 2), padding=valid)\n",
       "      (10): ReLU(inplace=True)\n",
       "      (11): BatchNorm2d(128, eps=1e-05, momentum=0.1, affine=True, track_running_stats=True)\n",
       "    )\n",
       "  )\n",
       "  (primcaps): PrimaryCaps(\n",
       "    (dw_conv2d): Conv2d(128, 128, kernel_size=(9, 9), stride=(1, 1), padding=valid, groups=128)\n",
       "    (squash): Squash()\n",
       "  )\n",
       "  (fcncaps): FCCaps(\n",
       "    (squash): Squash()\n",
       "  )\n",
       "  (decoder): MnistEcnDecoder(\n",
       "    (layers): Sequential(\n",
       "      (0): Linear(in_features=160, out_features=512, bias=True)\n",
       "      (1): ReLU(inplace=True)\n",
       "      (2): Linear(in_features=512, out_features=1024, bias=True)\n",
       "      (3): ReLU(inplace=True)\n",
       "      (4): Linear(in_features=1024, out_features=784, bias=True)\n",
       "      (5): Sigmoid()\n",
       "    )\n",
       "  )\n",
       ")"
      ]
     },
     "execution_count": 59,
     "metadata": {},
     "output_type": "execute_result"
    }
   ],
   "source": [
    "model = MnistEffCapsNet()\n",
    "model.load_state_dict(torch.load(p_model))\n",
    "model = model.to(device)\n",
    "model.eval()"
   ]
  },
  {
   "cell_type": "markdown",
   "metadata": {},
   "source": [
    "### Kullbach-Leiber Divergence and PCA"
   ]
  },
  {
   "cell_type": "code",
   "execution_count": 60,
   "metadata": {},
   "outputs": [],
   "source": [
    "train = True\n",
    "ds_train = datasets.MNIST(root=p_data, train=train, download=True, transform=T.ToTensor())\n",
    "\n",
    "dl_train = torch.utils.data.DataLoader(ds_train, \n",
    "                                        #batch_size=len(ds_train), \n",
    "                                        batch_size=64, \n",
    "                                        shuffle=False)"
   ]
  },
  {
   "cell_type": "code",
   "execution_count": 61,
   "metadata": {},
   "outputs": [
    {
     "name": "stdout",
     "output_type": "stream",
     "text": [
      "torch.Size([64, 1, 28, 28])\n",
      "torch.Size([64])\n"
     ]
    }
   ],
   "source": [
    "x,y = next(iter(dl_train))\n",
    "\n",
    "print(x.shape)\n",
    "print(y.shape)"
   ]
  },
  {
   "cell_type": "code",
   "execution_count": 62,
   "metadata": {},
   "outputs": [],
   "source": [
    "def affine_xtrans(img, target, range=[-5.,5.,1]):\n",
    "    arange = np.arange(range[0],(range[1]+range[2]),range[2])\n",
    "    x_trans = torch.zeros([len(arange),img.shape[-3],img.shape[-2],img.shape[-1]])\n",
    "    l_target = torch.zeros(len(arange))\n",
    "\n",
    "    for i, l in enumerate(arange):\n",
    "        x_trans[i] = T.functional.affine(img=img, angle=0, translate=[l,0], scale=1.,shear=0)\n",
    "        l_target[i] = target\n",
    "    \n",
    "    return x_trans, l_target\n",
    "\n",
    "def affine_ytrans(img, target, range=[-5.,5.,1]):\n",
    "    arange = np.arange(range[0],(range[1]+range[2]),range[2])\n",
    "    y_trans = torch.zeros([len(arange),img.shape[-3],img.shape[-2],img.shape[-1]])\n",
    "    l_target = torch.zeros(len(arange))\n",
    "\n",
    "    for i, l in enumerate(arange):\n",
    "        y_trans[i] = T.functional.affine(img=img, angle=0, translate=[0,l], scale=1.,shear=0)\n",
    "        l_target[i] = target\n",
    "    \n",
    "    return y_trans, l_target\n",
    "\n",
    "def affine_rot(img, target, range=[-25.,25.,1]):\n",
    "    arange = np.arange(range[0],(range[1]+range[2]),range[2])\n",
    "    rot = torch.zeros([len(arange),img.shape[-3],img.shape[-2],img.shape[-1]])\n",
    "    l_target = torch.zeros(len(arange))\n",
    "\n",
    "    for i, l in enumerate(arange):\n",
    "        rot[i] = T.functional.affine(img=img, angle=l, translate=[0,0], scale=1.,shear=0)\n",
    "        l_target[i] = target\n",
    "    \n",
    "    return rot, l_target\n",
    "   "
   ]
  },
  {
   "cell_type": "code",
   "execution_count": 63,
   "metadata": {},
   "outputs": [],
   "source": [
    "def cov_uh_trans(uh):\n",
    "    \"\"\"\n",
    "    uh in [k,n,m]\n",
    "    k -> number of transformed images\n",
    "    n -> number of output classes\n",
    "    m -> number of capsul values\n",
    "    \"\"\"\n",
    "\n",
    "    uh_mean = uh.mean(dim=0)\n",
    "    z = uh - uh_mean\n",
    "    c_k = torch.einsum('...ij, ...ik -> ...jk', z,z)\n",
    "    c = torch.einsum('ijk -> jk', c_k) / c_k.shape[0]\n",
    "\n",
    "    return c"
   ]
  },
  {
   "cell_type": "code",
   "execution_count": 64,
   "metadata": {},
   "outputs": [
    {
     "name": "stderr",
     "output_type": "stream",
     "text": [
      "██████████| 938/938 [12:41<00:00,  1.23it/s]\n"
     ]
    }
   ],
   "source": [
    "affine = affine_rot\n",
    "pca_eig = []\n",
    "kl_div = []\n",
    "\n",
    "pbar = tqdm(dl_train, bar_format='{bar:10}{r_bar}{bar:-10b}')\n",
    "\n",
    "#load batchwise\n",
    "for x, y in pbar:\n",
    "    #calculate staistical vals\n",
    "    for i, img in enumerate(x):\n",
    "        #generate aff transforms\n",
    "        x_aff, y_aff = affine(x[i],y[i])\n",
    "        \n",
    "        #Generate Caps from affine Transform\n",
    "        x_aff = x_aff.to(device)\n",
    "        uh_aff, _ = model.forward(x_aff)\n",
    "\n",
    "        #PCA\n",
    "        #Covariance from Caps\n",
    "        cov_uh = cov_uh_trans(uh_aff)\n",
    "        #Eigenvals\n",
    "        eig, v_eig = torch.linalg.eig(cov_uh)\n",
    "        sig = eig.float() / eig.float().sum()\n",
    "        #PCA eigenvalues\n",
    "        pca_eig.append(sig.tolist())\n",
    "\n",
    "\n",
    "        #KL-Divergence\n",
    "        #Caps from valid\n",
    "        uh_aff_th = uh_aff[:,y[i],:]\n",
    "        #Variance over each dimension\n",
    "        var_uh_aff = torch.var(uh_aff_th, dim=0)\n",
    "        #Variance normalized\n",
    "        nor_uh_aff = var_uh_aff / var_uh_aff.sum()\n",
    "        #uniform prior\n",
    "        uni_p = 1/nor_uh_aff.shape[0]\n",
    "        #Kullback-Leibler-Divergenz\n",
    "        kl = (nor_uh_aff * torch.log((nor_uh_aff/uni_p))).sum()\n",
    "        kl_div.append(kl.tolist())\n",
    "\n",
    "\n",
    "pca_mean = torch.tensor(pca_eig).mean(dim=0)\n",
    "kld_mean = torch.tensor(kl_div).mean()"
   ]
  },
  {
   "cell_type": "code",
   "execution_count": 65,
   "metadata": {},
   "outputs": [
    {
     "name": "stdout",
     "output_type": "stream",
     "text": [
      "60000\n",
      "tensor(0.5694)\n",
      "60000\n",
      "tensor([0.2996, 0.1587, 0.1142, 0.0877, 0.0691, 0.0553, 0.0442, 0.0347, 0.0263,\n",
      "        0.0196, 0.0156, 0.0142, 0.0143, 0.0151, 0.0156, 0.0159])\n"
     ]
    },
    {
     "data": {
      "text/plain": [
       "0.2795495092868805"
      ]
     },
     "execution_count": 65,
     "metadata": {},
     "output_type": "execute_result"
    }
   ],
   "source": [
    "print(len(kl_div))\n",
    "print(kld_mean)\n",
    "print(len(pca_eig))\n",
    "print(pca_mean)\n",
    "\n",
    "kl_div[0]"
   ]
  },
  {
   "cell_type": "code",
   "execution_count": 66,
   "metadata": {},
   "outputs": [],
   "source": [
    "stats = {\n",
    "    \"model\": [str(p_model)],\n",
    "    \"dataset\": [str(p_data)],\n",
    "    \"train\": [train],\n",
    "    \"affine\": [affine.__name__],\n",
    "    \"pca\": {\n",
    "        'pca_eig': pca_eig,\n",
    "        'pca_mean': pca_mean,\n",
    "    },\n",
    "    \"kld\": {\n",
    "        'kld_val': kl_div,\n",
    "        'kld_mean': kld_mean,\n",
    "    }\n",
    "}\n",
    "s =  DottedDict(stats)"
   ]
  },
  {
   "cell_type": "code",
   "execution_count": 67,
   "metadata": {},
   "outputs": [],
   "source": [
    "s =  DottedDict(stats)"
   ]
  },
  {
   "cell_type": "code",
   "execution_count": 68,
   "metadata": {},
   "outputs": [],
   "source": [
    "#pprint.pp(s)"
   ]
  },
  {
   "cell_type": "code",
   "execution_count": 69,
   "metadata": {},
   "outputs": [],
   "source": [
    "p_semcomp = Path(\"/mnt/data/experiments/EfficientCN/sem_comp\")\n",
    "p_stats = p_semcomp / 'semcomp_mnist_{tr}_{da}'.format(tr=affine.__name__, da=datetime.datetime.fromtimestamp(time.time()).strftime('%Y_%m_%d_%H_%M_%S'))\n",
    "\n",
    "mkdir_directories([p_stats], parents=True, exist_ok=True)"
   ]
  },
  {
   "cell_type": "code",
   "execution_count": 70,
   "metadata": {},
   "outputs": [
    {
     "data": {
      "text/plain": [
       "PosixPath('/mnt/data/experiments/EfficientCN/sem_comp/semcomp_mnist_affine_rot_2022_01_26_18_43_14')"
      ]
     },
     "execution_count": 70,
     "metadata": {},
     "output_type": "execute_result"
    }
   ],
   "source": [
    "p_stats"
   ]
  },
  {
   "cell_type": "code",
   "execution_count": 71,
   "metadata": {},
   "outputs": [],
   "source": [
    "file1 = open(p_stats /'stats.pkl', 'wb')\n",
    "pickle.dump(stats, file1)\n",
    "file1.close()\n"
   ]
  },
  {
   "cell_type": "code",
   "execution_count": 72,
   "metadata": {},
   "outputs": [
    {
     "data": {
      "image/png": "[encoded data removed]",
      "text/plain": [
       "<Figure size 432x288 with 1 Axes>"
      ]
     },
     "metadata": {
      "needs_background": "dark"
     },
     "output_type": "display_data"
    }
   ],
   "source": [
    "plt.plot(pca_mean.detach().numpy(),\".\")\n",
    "plt.tick_params(colors=\"w\")\n",
    "plt.title(str(affine.__name__) + \", kld_mean: \" + str(kld_mean.item()),color=\"w\")\n",
    "\n",
    "plt.savefig(p_stats /'eigenvals_mean.png')"
   ]
  }
 ],
 "metadata": {
  "interpreter": {
   "hash": "188faa17072d374bec02d17fca5e544867bade69f71230dfd1a560a6ca303930"
  },
  "kernelspec": {
   "display_name": "Python 3.9.7 64-bit ('EffCN': conda)",
   "language": "python",
   "name": "python3"
  },
  "language_info": {
   "codemirror_mode": {
    "name": "ipython",
    "version": 3
   },
   "file_extension": ".py",
   "mimetype": "text/x-python",
   "name": "python",
   "nbconvert_exporter": "python",
   "pygments_lexer": "ipython3",
   "version": "3.9.7"
  },
  "orig_nbformat": 4
 },
 "nbformat": 4,
 "nbformat_minor": 2
}
