{
 "cells": [
  {
   "cell_type": "code",
   "execution_count": 131,
   "metadata": {},
   "outputs": [
    {
     "name": "stdout",
     "output_type": "stream",
     "text": [
      "The autoreload extension is already loaded. To reload it, use:\n",
      "  %reload_ext autoreload\n"
     ]
    }
   ],
   "source": [
    "%load_ext autoreload\n",
    "%autoreload 2"
   ]
  },
  {
   "cell_type": "code",
   "execution_count": 132,
   "metadata": {},
   "outputs": [],
   "source": [
    "import sys\n",
    "sys.path.append(\"./../\")"
   ]
  },
  {
   "cell_type": "code",
   "execution_count": 133,
   "metadata": {},
   "outputs": [],
   "source": [
    "from pathlib import Path\n",
    "import math\n",
    "import pickle\n",
    "#\n",
    "import torch\n",
    "import torchvision\n",
    "from torchvision import utils\n",
    "import torchvision.transforms as T\n",
    "import torchvision.datasets as datasets\n",
    "#\n",
    "import matplotlib.pyplot as plt\n",
    "import matplotlib.image as mpimg\n",
    "import numpy as np\n",
    "#\n",
    "from misc.plot_utils import plot_mat, imshow\n",
    "from effcn.functions import max_norm_masking\n",
    "from effcn.models import MnistEcnBackbone, MnistEcnDecoder, MnistEffCapsNet"
   ]
  },
  {
   "cell_type": "markdown",
   "metadata": {},
   "source": [
    "### Preprocessing"
   ]
  },
  {
   "cell_type": "code",
   "execution_count": 134,
   "metadata": {},
   "outputs": [
    {
     "data": {
      "text/plain": [
       "device(type='cuda')"
      ]
     },
     "execution_count": 134,
     "metadata": {},
     "output_type": "execute_result"
    }
   ],
   "source": [
    "device = torch.device(\"cuda\")\n",
    "device"
   ]
  },
  {
   "cell_type": "code",
   "execution_count": 135,
   "metadata": {},
   "outputs": [
    {
     "data": {
      "text/plain": [
       "True"
      ]
     },
     "execution_count": 135,
     "metadata": {},
     "output_type": "execute_result"
    }
   ],
   "source": [
    "p_experiment = \"/mnt/data/experiments/EfficientCN/mnist\"\n",
    "p_experiment = Path(p_experiment)\n",
    "\n",
    "p_ckpts = p_experiment / \"run_2022-01-19_14-50-25\"\n",
    "\n",
    "\n",
    "p_data = Path(\"/mnt/data/datasets\")\n",
    "p_model = p_ckpts / \"ecn_mnist_epoch_150.ckpt\"\n",
    "p_model.exists()"
   ]
  },
  {
   "cell_type": "code",
   "execution_count": 136,
   "metadata": {},
   "outputs": [
    {
     "data": {
      "text/plain": [
       "MnistEffCapsNet(\n",
       "  (backbone): MnistEcnBackbone(\n",
       "    (layers): Sequential(\n",
       "      (0): Conv2d(1, 32, kernel_size=(5, 5), stride=(1, 1), padding=valid)\n",
       "      (1): ReLU(inplace=True)\n",
       "      (2): BatchNorm2d(32, eps=1e-05, momentum=0.1, affine=True, track_running_stats=True)\n",
       "      (3): Conv2d(32, 64, kernel_size=(3, 3), stride=(1, 1), padding=valid)\n",
       "      (4): ReLU(inplace=True)\n",
       "      (5): BatchNorm2d(64, eps=1e-05, momentum=0.1, affine=True, track_running_stats=True)\n",
       "      (6): Conv2d(64, 64, kernel_size=(3, 3), stride=(1, 1), padding=valid)\n",
       "      (7): ReLU(inplace=True)\n",
       "      (8): BatchNorm2d(64, eps=1e-05, momentum=0.1, affine=True, track_running_stats=True)\n",
       "      (9): Conv2d(64, 128, kernel_size=(3, 3), stride=(2, 2), padding=valid)\n",
       "      (10): ReLU(inplace=True)\n",
       "      (11): BatchNorm2d(128, eps=1e-05, momentum=0.1, affine=True, track_running_stats=True)\n",
       "    )\n",
       "  )\n",
       "  (primcaps): PrimaryCaps(\n",
       "    (dw_conv2d): Conv2d(128, 128, kernel_size=(9, 9), stride=(1, 1), padding=valid, groups=128)\n",
       "    (squash): Squash()\n",
       "  )\n",
       "  (fcncaps): FCCaps(\n",
       "    (squash): Squash()\n",
       "  )\n",
       "  (decoder): MnistEcnDecoder(\n",
       "    (layers): Sequential(\n",
       "      (0): Linear(in_features=160, out_features=512, bias=True)\n",
       "      (1): ReLU(inplace=True)\n",
       "      (2): Linear(in_features=512, out_features=1024, bias=True)\n",
       "      (3): ReLU(inplace=True)\n",
       "      (4): Linear(in_features=1024, out_features=784, bias=True)\n",
       "      (5): Sigmoid()\n",
       "    )\n",
       "  )\n",
       ")"
      ]
     },
     "execution_count": 136,
     "metadata": {},
     "output_type": "execute_result"
    }
   ],
   "source": [
    "model = MnistEffCapsNet()\n",
    "model.load_state_dict(torch.load(p_model))\n",
    "model = model.to(device)\n",
    "model.eval()"
   ]
  },
  {
   "cell_type": "code",
   "execution_count": 137,
   "metadata": {},
   "outputs": [],
   "source": [
    "ds_train = datasets.MNIST(root=p_data, train=True, download=True)#, transform=T.ToTensor(), target_transform=T.ToTensor())\n",
    "ds_valid = datasets.MNIST(root=p_data, train=False, download=True)#, transform=None, target_transform=T.ToTensor())\n",
    "  "
   ]
  },
  {
   "cell_type": "code",
   "execution_count": 138,
   "metadata": {},
   "outputs": [
    {
     "name": "stdout",
     "output_type": "stream",
     "text": [
      "60000\n",
      "torch.Size([1, 1, 28, 28])\n",
      "torch.Size([1]) tensor([5])\n"
     ]
    }
   ],
   "source": [
    "idx = 0\n",
    "\n",
    "print(len(ds_train.data))\n",
    "\n",
    "x = ds_train.data[idx]\n",
    "y = ds_train.targets[idx]\n",
    "\n",
    "\n",
    "\n",
    "x = torch.unsqueeze(torch.unsqueeze(x,dim=0),dim=0).float()\n",
    "y = torch.unsqueeze(y,dim=0)\n",
    "\n",
    "print(x.size())\n",
    "print(y.size(), y)"
   ]
  },
  {
   "cell_type": "markdown",
   "metadata": {},
   "source": [
    "### Generate Capsuls for influenced Reconstruction"
   ]
  },
  {
   "cell_type": "code",
   "execution_count": 139,
   "metadata": {},
   "outputs": [],
   "source": [
    "x = x.to(device)\n",
    "uh, _ = model.forward(x)"
   ]
  },
  {
   "cell_type": "code",
   "execution_count": 140,
   "metadata": {},
   "outputs": [
    {
     "name": "stdout",
     "output_type": "stream",
     "text": [
      "torch.Size([1, 10, 16])\n"
     ]
    }
   ],
   "source": [
    "print(uh.size())"
   ]
  },
  {
   "cell_type": "code",
   "execution_count": 141,
   "metadata": {},
   "outputs": [],
   "source": [
    "m_uh = max_norm_masking(uh)\n",
    "m_uh = torch.flatten(m_uh, start_dim=1)\n",
    "x_rec = model.decoder(m_uh)"
   ]
  },
  {
   "cell_type": "code",
   "execution_count": 142,
   "metadata": {},
   "outputs": [],
   "source": [
    "def imshow(img, cmap=\"gray\", vmin=None, vmax=None):\n",
    "    npimg = img.detach().cpu().numpy()\n",
    "    plt.imshow(np.transpose(npimg, (1, 2, 0)), cmap=cmap, vmin=None, vmax=None)\n",
    "    plt.show()"
   ]
  },
  {
   "cell_type": "code",
   "execution_count": 143,
   "metadata": {},
   "outputs": [
    {
     "data": {
      "image/png": "[encoded data removed]",
      "text/plain": [
       "<Figure size 432x288 with 1 Axes>"
      ]
     },
     "metadata": {
      "needs_background": "light"
     },
     "output_type": "display_data"
    }
   ],
   "source": [
    "imshow(torch.squeeze(x_rec,dim=0))"
   ]
  },
  {
   "cell_type": "code",
   "execution_count": 144,
   "metadata": {},
   "outputs": [
    {
     "name": "stdout",
     "output_type": "stream",
     "text": [
      "tensor([[ 2,  2, 10,  0,  7, 15,  1,  0,  7,  6]], device='cuda:0')\n"
     ]
    },
    {
     "data": {
      "image/png": "[encoded data removed]",
      "text/plain": [
       "<Figure size 432x288 with 1 Axes>"
      ]
     },
     "metadata": {
      "needs_background": "light"
     },
     "output_type": "display_data"
    },
    {
     "name": "stdout",
     "output_type": "stream",
     "text": [
      "tensor([ 0.1782, -0.2600, -0.2329, -0.1805,  0.0047,  0.1343,  0.2104, -0.2027,\n",
      "         0.1962,  0.0159, -0.1678, -0.1830, -0.2096, -0.1591, -0.2202,  0.2692],\n",
      "       device='cuda:0', grad_fn=<SqueezeBackward1>)\n",
      "tensor([ 0.2782, -0.2600, -0.3329, -0.1805,  0.0047,  0.1343,  0.3104, -0.2027,\n",
      "         0.1962,  0.0159, -0.1678, -0.1830, -0.2096, -0.1591, -0.2202,  0.2692],\n",
      "       device='cuda:0', grad_fn=<SqueezeBackward1>)\n",
      "tensor([ 0.2164, -0.2185, -0.2446, -0.1346, -0.0062,  0.1444,  0.1861, -0.1734,\n",
      "         0.2403, -0.0208, -0.1243, -0.1736, -0.1726, -0.1524, -0.1961,  0.2621],\n",
      "       device='cuda:0', grad_fn=<SqueezeBackward1>)\n"
     ]
    },
    {
     "data": {
      "image/png": "[encoded data removed]",
      "text/plain": [
       "<Figure size 432x288 with 1 Axes>"
      ]
     },
     "metadata": {
      "needs_background": "light"
     },
     "output_type": "display_data"
    },
    {
     "data": {
      "text/plain": [
       "torch.Size([3, 10, 16])"
      ]
     },
     "execution_count": 144,
     "metadata": {},
     "output_type": "execute_result"
    }
   ],
   "source": [
    "print(torch.argmax(uh,dim=2))\n",
    "\n",
    "sq_uh = torch.squeeze(uh,dim=0)\n",
    "a = torch.norm(sq_uh, dim=1)\n",
    "plt.bar(np.arange(0,10,1), a.detach().cpu().numpy())\n",
    "plt.show()\n",
    "\n",
    "i_cap = torch.argmax(torch.norm(uh, dim=2))\n",
    "ref = uh[:,i_cap,:]\n",
    "\n",
    "uh_delta = uh.clone()\n",
    "uh_delta[:,i_cap,:] += torch.tensor([0.1,0,-0.1,0,0,0,0.1,0,0,0,0,0,0,0,0,0]).to(device)\n",
    "delta = uh_delta[:,i_cap,:]\n",
    "\n",
    "torch.manual_seed(42)\n",
    "uh_delta2 = uh.clone()\n",
    "uh_delta2[:,i_cap,:] += (torch.rand(16).to(device)-0.5) * 0.1\n",
    "delta2 = uh_delta2[:,i_cap,:]\n",
    "\n",
    "print(torch.squeeze(ref,dim=0))\n",
    "plt.plot(torch.squeeze(ref,dim=0).detach().cpu().numpy(),\"b*\")\n",
    "print(torch.squeeze(delta,dim=0))\n",
    "plt.plot(torch.squeeze(delta,dim=0).detach().cpu().numpy(),\"r*\")\n",
    "print(torch.squeeze(delta2,dim=0))\n",
    "plt.plot(torch.squeeze(delta2,dim=0).detach().cpu().numpy(),\"g*\")\n",
    "plt.show()\n",
    "\n",
    "\n",
    "\n",
    "\n",
    "uh_n = torch.cat((uh, uh_delta, uh_delta2), dim=0)  \n",
    "\n",
    "uh_n.size()\n",
    "\n",
    "#print(uh_delta-uh)\n"
   ]
  },
  {
   "cell_type": "code",
   "execution_count": 145,
   "metadata": {},
   "outputs": [],
   "source": [
    "m_uh_n = max_norm_masking(uh_n)\n",
    "m_uh_n = torch.flatten(m_uh_n, start_dim=1)\n",
    "x_rec_n = model.decoder(m_uh_n)"
   ]
  },
  {
   "cell_type": "code",
   "execution_count": 146,
   "metadata": {},
   "outputs": [
    {
     "name": "stdout",
     "output_type": "stream",
     "text": [
      "torch.Size([3, 1, 28, 28])\n"
     ]
    },
    {
     "data": {
      "image/png": "[encoded data removed]",
      "text/plain": [
       "<Figure size 432x288 with 1 Axes>"
      ]
     },
     "metadata": {
      "needs_background": "light"
     },
     "output_type": "display_data"
    }
   ],
   "source": [
    "print(x_rec_n.size())\n",
    "rec = x_rec_n.cpu()\n",
    "scal = lambda x: (x-x.min())/(x.max()-x.min())\n",
    "img = torchvision.utils.make_grid(torch.cat([scal(rec)], dim=0), nrow=rec.shape[0])\n",
    "plt.imshow(img.permute(1,2,0))\n",
    "plt.show()"
   ]
  },
  {
   "cell_type": "markdown",
   "metadata": {},
   "source": [
    "### Prepare affine transformations embedding"
   ]
  },
  {
   "cell_type": "code",
   "execution_count": 147,
   "metadata": {},
   "outputs": [
    {
     "data": {
      "image/png": "[encoded data removed]",
      "text/plain": [
       "<Figure size 432x288 with 1 Axes>"
      ]
     },
     "metadata": {
      "needs_background": "light"
     },
     "output_type": "display_data"
    }
   ],
   "source": [
    "x_aff = T.functional.affine(img=x, angle=0, translate=[0,0], scale=1.,shear=0)\n",
    "\n",
    "imshow(torch.squeeze(x_aff,dim=0))"
   ]
  },
  {
   "cell_type": "code",
   "execution_count": 148,
   "metadata": {},
   "outputs": [],
   "source": [
    "def affine_xtrans(img, target, range=[-5.,5.,1]):\n",
    "    arange = np.arange(range[0],(range[1]+range[2]),range[2])\n",
    "    x_trans = torch.zeros([len(arange),img.shape[1],img.shape[2],img.shape[3]])\n",
    "    l_target = torch.zeros(len(arange))\n",
    "\n",
    "    for i, l in enumerate(arange):\n",
    "        x_trans[i] = T.functional.affine(img=x, angle=0, translate=[l,0], scale=1.,shear=0)\n",
    "        l_target[i] = target\n",
    "    \n",
    "    return x_trans, l_target\n",
    "\n",
    "def affine_ytrans(img, target, range=[-5.,5.,1]):\n",
    "    arange = np.arange(range[0],(range[1]+range[2]),range[2])\n",
    "    y_trans = torch.zeros([len(arange),img.shape[1],img.shape[2],img.shape[3]])\n",
    "    l_target = torch.zeros(len(arange))\n",
    "\n",
    "    for i, l in enumerate(arange):\n",
    "        y_trans[i] = T.functional.affine(img=x, angle=0, translate=[0,l], scale=1.,shear=0)\n",
    "        l_target[i] = target\n",
    "    \n",
    "    return y_trans, l_target\n",
    "\n",
    "def affine_rot(img, target, range=[-25.,25.,1]):\n",
    "    arange = np.arange(range[0],(range[1]+range[2]),range[2])\n",
    "    rot = torch.zeros([len(arange),img.shape[1],img.shape[2],img.shape[3]])\n",
    "    l_target = torch.zeros(len(arange))\n",
    "\n",
    "    for i, l in enumerate(arange):\n",
    "        rot[i] = T.functional.affine(img=x, angle=l, translate=[0,0], scale=1.,shear=0)\n",
    "        l_target[i] = target\n",
    "    \n",
    "    return rot, l_target"
   ]
  },
  {
   "cell_type": "code",
   "execution_count": 160,
   "metadata": {},
   "outputs": [
    {
     "name": "stdout",
     "output_type": "stream",
     "text": [
      "torch.Size([11, 1, 28, 28])\n",
      "tensor([5., 5., 5., 5., 5., 5., 5., 5., 5., 5., 5.])\n"
     ]
    },
    {
     "data": {
      "image/png": "[encoded data removed]",
      "text/plain": [
       "<Figure size 432x288 with 1 Axes>"
      ]
     },
     "metadata": {
      "needs_background": "light"
     },
     "output_type": "display_data"
    },
    {
     "data": {
      "image/png": "[encoded data removed]",
      "text/plain": [
       "<Figure size 432x288 with 1 Axes>"
      ]
     },
     "metadata": {
      "needs_background": "light"
     },
     "output_type": "display_data"
    }
   ],
   "source": [
    "x_trams, y_trans = affine_xtrans(x,y)\n",
    "print(x_trams.shape)\n",
    "print(y_trans)\n",
    "\n",
    "x_trams = x_trams.cpu()\n",
    "scal = lambda x: (x-x.min())/(x.max()-x.min())\n",
    "img = torchvision.utils.make_grid(torch.cat([scal(x_trams)], dim=0), nrow=x_trams.shape[0])\n",
    "plt.imshow(img.permute(1,2,0))\n",
    "plt.show()\n",
    "\n",
    "imshow(x_trams[0,:,:,:])\n"
   ]
  },
  {
   "cell_type": "code",
   "execution_count": 161,
   "metadata": {},
   "outputs": [],
   "source": [
    "x_trans, _ = affine_xtrans(x,y)\n",
    "y_trans, _ = affine_ytrans(x,y)\n",
    "rot, _ = affine_rot(x,y)"
   ]
  },
  {
   "cell_type": "markdown",
   "metadata": {},
   "source": [
    "### ATE on x_trans"
   ]
  },
  {
   "cell_type": "code",
   "execution_count": 180,
   "metadata": {},
   "outputs": [],
   "source": [
    "#x_aff = x_trans.to(device)\n",
    "#x_aff = y_trans.to(device)\n",
    "x_aff = rot.to(device)\n",
    "\n",
    "uh_aff, _ = model.forward(x_aff)"
   ]
  },
  {
   "cell_type": "code",
   "execution_count": 181,
   "metadata": {},
   "outputs": [],
   "source": [
    "def cov_uh_trans(uh):\n",
    "    \"\"\"\n",
    "    uh in [k,n,m]\n",
    "    k -> number of transformed images\n",
    "    n -> number of output classes\n",
    "    m -> number of capsul values\n",
    "    \"\"\"\n",
    "\n",
    "    uh_mean = uh.mean(dim=0)\n",
    "    \"\"\"\n",
    "    #could be cleaner, but it's the same ...\n",
    "    uh_mean = uh_mean.unsqueeze(0)\n",
    "    uh_mean = uh_mean.repeat(uh.shape[0],1,1)\n",
    "    \"\"\"\n",
    "\n",
    "    z = uh - uh_mean\n",
    "\n",
    "    c_k = torch.einsum('...ij, ...ik -> ...jk', z,z)\n",
    "    c = torch.einsum('ijk -> jk', c_k) / c_k.shape[0]\n",
    "\n",
    "    return c"
   ]
  },
  {
   "cell_type": "code",
   "execution_count": 182,
   "metadata": {},
   "outputs": [],
   "source": [
    "c = cov_uh_trans(uh_aff)\n"
   ]
  },
  {
   "cell_type": "code",
   "execution_count": 183,
   "metadata": {},
   "outputs": [],
   "source": [
    "def covshow(c):\n",
    "    # https://matplotlib.org/3.1.1/gallery/images_contours_and_fields/image_annotated_heatmap.html#sphx-glr-gallery-images-contours-and-fields-image-annotated-heatmap-py\n",
    "\n",
    "    data = c.cpu().detach().numpy()\n",
    "\n",
    "    fig, ax = plt.subplots(figsize=(8, 8))\n",
    "    im = ax.imshow(data)\n",
    "\n",
    "    fg_color = 'white'\n",
    "    im.axes.tick_params(color=fg_color, labelcolor=fg_color)\n",
    "\n",
    "    \"\"\"\n",
    "    # Loop over data dimensions and create text annotations.\n",
    "    for i in range(len(data)):\n",
    "        for j in range(len(data)):\n",
    "            text = ax.text(j, i, data[i, j],\n",
    "                        ha=\"center\", va=\"center\", color=\"fg_color\")\n",
    "    \"\"\"\n",
    "\n",
    "    cb = fig.colorbar(im)\n",
    "    cb.ax.yaxis.set_tick_params(color=fg_color)\n",
    "    cb.outline.set_edgecolor(fg_color)\n",
    "    plt.setp(plt.getp(cb.ax.axes, 'yticklabels'), color=fg_color)\n",
    "    fig.tight_layout()\n",
    "    plt.show()"
   ]
  },
  {
   "cell_type": "code",
   "execution_count": 184,
   "metadata": {},
   "outputs": [
    {
     "data": {
      "image/png": "[encoded data removed]",
      "text/plain": [
       "<Figure size 576x576 with 2 Axes>"
      ]
     },
     "metadata": {
      "needs_background": "dark"
     },
     "output_type": "display_data"
    }
   ],
   "source": [
    "covshow(c)"
   ]
  },
  {
   "cell_type": "markdown",
   "metadata": {},
   "source": [
    "### via PCA from Paper EffCN"
   ]
  },
  {
   "cell_type": "code",
   "execution_count": 185,
   "metadata": {},
   "outputs": [
    {
     "name": "stdout",
     "output_type": "stream",
     "text": [
      "tensor([0.5077, 0.1296, 0.0924, 0.0647, 0.0462, 0.0337, 0.0229, 0.0222, 0.0167,\n",
      "        0.0158, 0.0128, 0.0043, 0.0097, 0.0060, 0.0073, 0.0081],\n",
      "       grad_fn=<DivBackward0>)\n"
     ]
    },
    {
     "data": {
      "image/png": "[encoded data removed]",
      "text/plain": [
       "<Figure size 432x288 with 1 Axes>"
      ]
     },
     "metadata": {
      "needs_background": "dark"
     },
     "output_type": "display_data"
    }
   ],
   "source": [
    "cov = c.cpu()\n",
    "\n",
    "eig, v_eig = torch.linalg.eig(cov)\n",
    "eig = eig.float()\n",
    "sig = eig / eig.sum()\n",
    "\n",
    "#rint(eig)\n",
    "#print(eig.sum())\n",
    "print(sig)\n",
    "plt.plot(sig.detach().numpy(),\".\")\n",
    "plt.tick_params(colors=\"w\")\n",
    "\n"
   ]
  },
  {
   "cell_type": "markdown",
   "metadata": {},
   "source": [
    "### Via KL-Divergende from munich paper"
   ]
  },
  {
   "cell_type": "code",
   "execution_count": 186,
   "metadata": {},
   "outputs": [],
   "source": [
    "### !!! Not shure about this!!!\n",
    "\n",
    "# https://mail.python.org/pipermail/scipy-user/2011-May/029521.html\n",
    "\n",
    "def KLdivergence(x, y):\n",
    "  \"\"\"Compute the Kullback-Leibler divergence between two multivariate samples.\n",
    "  Parameters\n",
    "  ----------\n",
    "  x : 2D array (n,d)\n",
    "    Samples from distribution P, which typically represents the true\n",
    "    distribution.\n",
    "  y : 2D array (m,d)\n",
    "    Samples from distribution Q, which typically represents the approximate\n",
    "    distribution.\n",
    "  Returns\n",
    "  -------\n",
    "  out : float\n",
    "    The estimated Kullback-Leibler divergence D(P||Q).\n",
    "  References\n",
    "  ----------\n",
    "  Pérez-Cruz, F. Kullback-Leibler divergence estimation of\n",
    "continuous distributions IEEE International Symposium on Information\n",
    "Theory, 2008.\n",
    "  \"\"\"\n",
    "  from scipy.spatial import cKDTree as KDTree\n",
    "\n",
    "  # Check the dimensions are consistent\n",
    "  x = np.atleast_2d(x)\n",
    "  y = np.atleast_2d(y)\n",
    "\n",
    "  n,d = x.shape\n",
    "  m,dy = y.shape\n",
    "\n",
    "  assert(d == dy)\n",
    "\n",
    "\n",
    "  # Build a KD tree representation of the samples and find the nearest neighbour\n",
    "  # of each point in x.\n",
    "  xtree = KDTree(x)\n",
    "  ytree = KDTree(y)\n",
    "\n",
    "  # Get the first two nearest neighbours for x, since the closest one is the\n",
    "  # sample itself.\n",
    "  r = xtree.query(x, k=2, eps=.01, p=2)[0][:,1]\n",
    "  s = ytree.query(x, k=1, eps=.01, p=2)[0]\n",
    "\n",
    "  # There is a mistake in the paper. In Eq. 14, the right side misses a negative sign\n",
    "  # on the first term of the right hand side.\n",
    "  return -np.log(r/s).sum() * d / n + np.log(m / (n - 1.))"
   ]
  },
  {
   "cell_type": "code",
   "execution_count": 187,
   "metadata": {},
   "outputs": [],
   "source": [
    "def cov_uh_kl(uh):\n",
    "    c_k = torch.einsum('...ij, ...ik -> ...jk', uh,uh)\n",
    "    c = torch.einsum('ijk -> jk', c_k) / c_k.shape[0]\n",
    "    return c "
   ]
  },
  {
   "cell_type": "code",
   "execution_count": 188,
   "metadata": {},
   "outputs": [
    {
     "name": "stdout",
     "output_type": "stream",
     "text": [
      "3.533581875136041\n"
     ]
    },
    {
     "data": {
      "image/png": "[encoded data removed]",
      "text/plain": [
       "<Figure size 576x576 with 2 Axes>"
      ]
     },
     "metadata": {
      "needs_background": "dark"
     },
     "output_type": "display_data"
    },
    {
     "data": {
      "image/png": "[encoded data removed]",
      "text/plain": [
       "<Figure size 576x576 with 2 Axes>"
      ]
     },
     "metadata": {
      "needs_background": "dark"
     },
     "output_type": "display_data"
    }
   ],
   "source": [
    "c_org = cov_uh_kl(uh.cpu())\n",
    "c_aff = cov_uh_kl(uh_aff.cpu())\n",
    "\n",
    "#determinaten\n",
    "c_org_det = torch.linalg.det(c_org)\n",
    "c_aff_det = torch.linalg.det(c_aff)\n",
    "\n",
    "#trace\n",
    "c_org_det = torch.trace(c_org)\n",
    "c_aff_det = torch.trace(c_aff)\n",
    "\n",
    "#compute kl div from git hub\n",
    "kl_div = KLdivergence(c_org.detach().numpy(), c_aff.detach().numpy())\n",
    "\n",
    "print(kl_div)\n",
    "covshow(c_org)\n",
    "covshow(c_aff)"
   ]
  }
 ],
 "metadata": {
  "interpreter": {
   "hash": "188faa17072d374bec02d17fca5e544867bade69f71230dfd1a560a6ca303930"
  },
  "kernelspec": {
   "display_name": "Python 3.9.7 64-bit ('EffCN': conda)",
   "language": "python",
   "name": "python3"
  },
  "language_info": {
   "codemirror_mode": {
    "name": "ipython",
    "version": 3
   },
   "file_extension": ".py",
   "mimetype": "text/x-python",
   "name": "python",
   "nbconvert_exporter": "python",
   "pygments_lexer": "ipython3",
   "version": "3.9.7"
  },
  "orig_nbformat": 4
 },
 "nbformat": 4,
 "nbformat_minor": 2
}
