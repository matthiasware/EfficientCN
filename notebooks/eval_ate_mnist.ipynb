{
 "cells": [
  {
   "cell_type": "code",
   "execution_count": 1,
   "metadata": {},
   "outputs": [],
   "source": [
    "%load_ext autoreload\n",
    "%autoreload 2"
   ]
  },
  {
   "cell_type": "code",
   "execution_count": 2,
   "metadata": {},
   "outputs": [],
   "source": [
    "import sys\n",
    "sys.path.append(\"./../\")"
   ]
  },
  {
   "cell_type": "code",
   "execution_count": 3,
   "metadata": {},
   "outputs": [],
   "source": [
    "from pathlib import Path\n",
    "import math\n",
    "import pickle\n",
    "#\n",
    "import torch\n",
    "import torchvision\n",
    "from torchvision import utils\n",
    "import torchvision.transforms as T\n",
    "import torchvision.datasets as datasets\n",
    "#\n",
    "import matplotlib.pyplot as plt\n",
    "import matplotlib.image as mpimg\n",
    "import numpy as np\n",
    "#\n",
    "from misc.plot_utils import plot_mat, imshow\n",
    "from effcn.functions import max_norm_masking\n",
    "from effcn.models import MnistEcnBackbone, MnistEcnDecoder, MnistEffCapsNet"
   ]
  },
  {
   "cell_type": "markdown",
   "metadata": {},
   "source": [
    "### Preprocessing"
   ]
  },
  {
   "cell_type": "code",
   "execution_count": 4,
   "metadata": {},
   "outputs": [
    {
     "data": {
      "text/plain": [
       "device(type='cuda')"
      ]
     },
     "execution_count": 4,
     "metadata": {},
     "output_type": "execute_result"
    }
   ],
   "source": [
    "device = torch.device(\"cuda\")\n",
    "device"
   ]
  },
  {
   "cell_type": "code",
   "execution_count": 5,
   "metadata": {},
   "outputs": [
    {
     "data": {
      "text/plain": [
       "True"
      ]
     },
     "execution_count": 5,
     "metadata": {},
     "output_type": "execute_result"
    }
   ],
   "source": [
    "p_experiment = \"/mnt/data/experiments/EfficientCN/mnist\"\n",
    "p_experiment = Path(p_experiment)\n",
    "\n",
    "p_ckpts = p_experiment / \"run_2022-01-19_14-50-25\"\n",
    "\n",
    "\n",
    "p_data = Path(\"/mnt/data/datasets\")\n",
    "p_model = p_ckpts / \"ecn_mnist_epoch_150.ckpt\"\n",
    "p_model.exists()"
   ]
  },
  {
   "cell_type": "code",
   "execution_count": 6,
   "metadata": {},
   "outputs": [
    {
     "data": {
      "text/plain": [
       "MnistEffCapsNet(\n",
       "  (backbone): MnistEcnBackbone(\n",
       "    (layers): Sequential(\n",
       "      (0): Conv2d(1, 32, kernel_size=(5, 5), stride=(1, 1), padding=valid)\n",
       "      (1): ReLU(inplace=True)\n",
       "      (2): BatchNorm2d(32, eps=1e-05, momentum=0.1, affine=True, track_running_stats=True)\n",
       "      (3): Conv2d(32, 64, kernel_size=(3, 3), stride=(1, 1), padding=valid)\n",
       "      (4): ReLU(inplace=True)\n",
       "      (5): BatchNorm2d(64, eps=1e-05, momentum=0.1, affine=True, track_running_stats=True)\n",
       "      (6): Conv2d(64, 64, kernel_size=(3, 3), stride=(1, 1), padding=valid)\n",
       "      (7): ReLU(inplace=True)\n",
       "      (8): BatchNorm2d(64, eps=1e-05, momentum=0.1, affine=True, track_running_stats=True)\n",
       "      (9): Conv2d(64, 128, kernel_size=(3, 3), stride=(2, 2), padding=valid)\n",
       "      (10): ReLU(inplace=True)\n",
       "      (11): BatchNorm2d(128, eps=1e-05, momentum=0.1, affine=True, track_running_stats=True)\n",
       "    )\n",
       "  )\n",
       "  (primcaps): PrimaryCaps(\n",
       "    (dw_conv2d): Conv2d(128, 128, kernel_size=(9, 9), stride=(1, 1), padding=valid, groups=128)\n",
       "    (squash): Squash()\n",
       "  )\n",
       "  (fcncaps): FCCaps(\n",
       "    (squash): Squash()\n",
       "  )\n",
       "  (decoder): MnistEcnDecoder(\n",
       "    (layers): Sequential(\n",
       "      (0): Linear(in_features=160, out_features=512, bias=True)\n",
       "      (1): ReLU(inplace=True)\n",
       "      (2): Linear(in_features=512, out_features=1024, bias=True)\n",
       "      (3): ReLU(inplace=True)\n",
       "      (4): Linear(in_features=1024, out_features=784, bias=True)\n",
       "      (5): Sigmoid()\n",
       "    )\n",
       "  )\n",
       ")"
      ]
     },
     "execution_count": 6,
     "metadata": {},
     "output_type": "execute_result"
    }
   ],
   "source": [
    "model = MnistEffCapsNet()\n",
    "model.load_state_dict(torch.load(p_model))\n",
    "model = model.to(device)\n",
    "model.eval()"
   ]
  },
  {
   "cell_type": "code",
   "execution_count": 7,
   "metadata": {},
   "outputs": [],
   "source": [
    "ds_train = datasets.MNIST(root=p_data, train=True, download=True)#, transform=T.ToTensor(), target_transform=T.ToTensor())\n",
    "ds_valid = datasets.MNIST(root=p_data, train=False, download=True)#, transform=None, target_transform=T.ToTensor())\n",
    "  "
   ]
  },
  {
   "cell_type": "code",
   "execution_count": 8,
   "metadata": {},
   "outputs": [
    {
     "name": "stdout",
     "output_type": "stream",
     "text": [
      "60000\n",
      "torch.Size([1, 1, 28, 28])\n",
      "torch.Size([1]) tensor([4])\n"
     ]
    }
   ],
   "source": [
    "idx = 2\n",
    "\n",
    "print(len(ds_train.data))\n",
    "\n",
    "x = ds_train.data[idx]\n",
    "y = ds_train.targets[idx]\n",
    "\n",
    "\n",
    "\n",
    "x = torch.unsqueeze(torch.unsqueeze(x,dim=0),dim=0).float()\n",
    "y = torch.unsqueeze(y,dim=0)\n",
    "\n",
    "print(x.size())\n",
    "print(y.size(), y)"
   ]
  },
  {
   "cell_type": "markdown",
   "metadata": {},
   "source": [
    "### Generate Capsuls for influenced Reconstruction"
   ]
  },
  {
   "cell_type": "code",
   "execution_count": 9,
   "metadata": {},
   "outputs": [],
   "source": [
    "x = x.to(device)\n",
    "uh, _ = model.forward(x)"
   ]
  },
  {
   "cell_type": "code",
   "execution_count": 10,
   "metadata": {},
   "outputs": [
    {
     "name": "stdout",
     "output_type": "stream",
     "text": [
      "torch.Size([1, 10, 16])\n"
     ]
    }
   ],
   "source": [
    "print(uh.size())"
   ]
  },
  {
   "cell_type": "code",
   "execution_count": 11,
   "metadata": {},
   "outputs": [],
   "source": [
    "m_uh = max_norm_masking(uh)\n",
    "m_uh = torch.flatten(m_uh, start_dim=1)\n",
    "x_rec = model.decoder(m_uh)"
   ]
  },
  {
   "cell_type": "code",
   "execution_count": 12,
   "metadata": {},
   "outputs": [],
   "source": [
    "def imshow(img, cmap=\"gray\", vmin=None, vmax=None):\n",
    "    npimg = img.detach().cpu().numpy()\n",
    "    plt.imshow(np.transpose(npimg, (1, 2, 0)), cmap=cmap, vmin=None, vmax=None)\n",
    "    plt.show()"
   ]
  },
  {
   "cell_type": "code",
   "execution_count": 13,
   "metadata": {},
   "outputs": [
    {
     "data": {
      "image/png": "[encoded data removed]",
      "text/plain": [
       "<Figure size 432x288 with 1 Axes>"
      ]
     },
     "metadata": {
      "needs_background": "light"
     },
     "output_type": "display_data"
    }
   ],
   "source": [
    "imshow(torch.squeeze(x_rec,dim=0))"
   ]
  },
  {
   "cell_type": "code",
   "execution_count": 14,
   "metadata": {},
   "outputs": [
    {
     "name": "stdout",
     "output_type": "stream",
     "text": [
      "tensor([[ 1,  2,  0, 12, 13,  7, 11,  7, 15, 15]], device='cuda:0')\n"
     ]
    },
    {
     "data": {
      "image/png": "[encoded data removed]",
      "text/plain": [
       "<Figure size 432x288 with 1 Axes>"
      ]
     },
     "metadata": {
      "needs_background": "light"
     },
     "output_type": "display_data"
    },
    {
     "name": "stdout",
     "output_type": "stream",
     "text": [
      "tensor([ 0.0958,  0.1736,  0.2026,  0.2158,  0.1940,  0.1469,  0.1882, -0.1296,\n",
      "         0.1711,  0.2260, -0.0967,  0.1646,  0.2294,  0.2436,  0.1676, -0.0078],\n",
      "       device='cuda:0', grad_fn=<SqueezeBackward1>)\n",
      "tensor([ 0.1958,  0.1736,  0.1026,  0.2158,  0.1940,  0.1469,  0.2882, -0.1296,\n",
      "         0.1711,  0.2260, -0.0967,  0.1646,  0.2294,  0.2436,  0.1676, -0.0078],\n",
      "       device='cuda:0', grad_fn=<SqueezeBackward1>)\n",
      "tensor([ 0.1341,  0.2151,  0.1909,  0.2617,  0.1830,  0.1569,  0.1639, -0.1003,\n",
      "         0.2152,  0.1893, -0.0532,  0.1740,  0.2664,  0.2503,  0.1918, -0.0148],\n",
      "       device='cuda:0', grad_fn=<SqueezeBackward1>)\n"
     ]
    },
    {
     "data": {
      "image/png": "[encoded data removed]",
      "text/plain": [
       "<Figure size 432x288 with 1 Axes>"
      ]
     },
     "metadata": {
      "needs_background": "light"
     },
     "output_type": "display_data"
    },
    {
     "data": {
      "text/plain": [
       "torch.Size([3, 10, 16])"
      ]
     },
     "execution_count": 14,
     "metadata": {},
     "output_type": "execute_result"
    }
   ],
   "source": [
    "print(torch.argmax(uh,dim=2))\n",
    "\n",
    "sq_uh = torch.squeeze(uh,dim=0)\n",
    "a = torch.norm(sq_uh, dim=1)\n",
    "plt.bar(np.arange(0,10,1), a.detach().cpu().numpy())\n",
    "plt.show()\n",
    "\n",
    "i_cap = torch.argmax(torch.norm(uh, dim=2))\n",
    "ref = uh[:,i_cap,:]\n",
    "\n",
    "uh_delta = uh.clone()\n",
    "uh_delta[:,i_cap,:] += torch.tensor([0.1,0,-0.1,0,0,0,0.1,0,0,0,0,0,0,0,0,0]).to(device)\n",
    "delta = uh_delta[:,i_cap,:]\n",
    "\n",
    "torch.manual_seed(42)\n",
    "uh_delta2 = uh.clone()\n",
    "uh_delta2[:,i_cap,:] += (torch.rand(16).to(device)-0.5) * 0.1\n",
    "delta2 = uh_delta2[:,i_cap,:]\n",
    "\n",
    "print(torch.squeeze(ref,dim=0))\n",
    "plt.plot(torch.squeeze(ref,dim=0).detach().cpu().numpy(),\"b*\")\n",
    "print(torch.squeeze(delta,dim=0))\n",
    "plt.plot(torch.squeeze(delta,dim=0).detach().cpu().numpy(),\"r*\")\n",
    "print(torch.squeeze(delta2,dim=0))\n",
    "plt.plot(torch.squeeze(delta2,dim=0).detach().cpu().numpy(),\"g*\")\n",
    "plt.show()\n",
    "\n",
    "\n",
    "\n",
    "\n",
    "uh_n = torch.cat((uh, uh_delta, uh_delta2), dim=0)  \n",
    "\n",
    "uh_n.size()\n",
    "\n",
    "#print(uh_delta-uh)\n"
   ]
  },
  {
   "cell_type": "code",
   "execution_count": 15,
   "metadata": {},
   "outputs": [],
   "source": [
    "m_uh_n = max_norm_masking(uh_n)\n",
    "m_uh_n = torch.flatten(m_uh_n, start_dim=1)\n",
    "x_rec_n = model.decoder(m_uh_n)"
   ]
  },
  {
   "cell_type": "code",
   "execution_count": 16,
   "metadata": {},
   "outputs": [
    {
     "name": "stdout",
     "output_type": "stream",
     "text": [
      "torch.Size([3, 1, 28, 28])\n"
     ]
    },
    {
     "data": {
      "image/png": "[encoded data removed]",
      "text/plain": [
       "<Figure size 432x288 with 1 Axes>"
      ]
     },
     "metadata": {
      "needs_background": "light"
     },
     "output_type": "display_data"
    }
   ],
   "source": [
    "print(x_rec_n.size())\n",
    "rec = x_rec_n.cpu()\n",
    "scal = lambda x: (x-x.min())/(x.max()-x.min())\n",
    "img = torchvision.utils.make_grid(torch.cat([scal(rec)], dim=0), nrow=rec.shape[0])\n",
    "plt.imshow(img.permute(1,2,0))\n",
    "plt.show()"
   ]
  },
  {
   "cell_type": "markdown",
   "metadata": {},
   "source": [
    "### Prepare affine transformations embedding"
   ]
  },
  {
   "cell_type": "code",
   "execution_count": 17,
   "metadata": {},
   "outputs": [
    {
     "data": {
      "image/png": "[encoded data removed]",
      "text/plain": [
       "<Figure size 432x288 with 1 Axes>"
      ]
     },
     "metadata": {
      "needs_background": "light"
     },
     "output_type": "display_data"
    }
   ],
   "source": [
    "x_aff = T.functional.affine(img=x, angle=0, translate=[0,0], scale=1.,shear=0)\n",
    "\n",
    "imshow(torch.squeeze(x_aff,dim=0))"
   ]
  },
  {
   "cell_type": "code",
   "execution_count": 18,
   "metadata": {},
   "outputs": [],
   "source": [
    "def affine_xtrans(img, target, range=[-5.,5.,1]):\n",
    "    arange = np.arange(range[0],(range[1]+range[2]),range[2])\n",
    "    x_trans = torch.zeros([len(arange),img.shape[1],img.shape[2],img.shape[3]])\n",
    "    l_target = torch.zeros(len(arange))\n",
    "\n",
    "    for i, l in enumerate(arange):\n",
    "        x_trans[i] = T.functional.affine(img=x, angle=0, translate=[l,0], scale=1.,shear=0)\n",
    "        l_target[i] = target\n",
    "    \n",
    "    return x_trans, l_target\n",
    "\n",
    "def affine_ytrans(img, target, range=[-5.,5.,1]):\n",
    "    arange = np.arange(range[0],(range[1]+range[2]),range[2])\n",
    "    y_trans = torch.zeros([len(arange),img.shape[1],img.shape[2],img.shape[3]])\n",
    "    l_target = torch.zeros(len(arange))\n",
    "\n",
    "    for i, l in enumerate(arange):\n",
    "        y_trans[i] = T.functional.affine(img=x, angle=0, translate=[0,l], scale=1.,shear=0)\n",
    "        l_target[i] = target\n",
    "    \n",
    "    return y_trans, l_target\n",
    "\n",
    "def affine_rot(img, target, range=[-25.,25.,1]):\n",
    "    arange = np.arange(range[0],(range[1]+range[2]),range[2])\n",
    "    rot = torch.zeros([len(arange),img.shape[1],img.shape[2],img.shape[3]])\n",
    "    l_target = torch.zeros(len(arange))\n",
    "\n",
    "    for i, l in enumerate(arange):\n",
    "        rot[i] = T.functional.affine(img=x, angle=l, translate=[0,0], scale=1.,shear=0)\n",
    "        l_target[i] = target\n",
    "    \n",
    "    return rot, l_target"
   ]
  },
  {
   "cell_type": "code",
   "execution_count": 19,
   "metadata": {},
   "outputs": [
    {
     "name": "stdout",
     "output_type": "stream",
     "text": [
      "torch.Size([11, 1, 28, 28])\n",
      "tensor([4., 4., 4., 4., 4., 4., 4., 4., 4., 4., 4.])\n"
     ]
    },
    {
     "data": {
      "image/png": "[encoded data removed]",
      "text/plain": [
       "<Figure size 432x288 with 1 Axes>"
      ]
     },
     "metadata": {
      "needs_background": "light"
     },
     "output_type": "display_data"
    },
    {
     "data": {
      "image/png": "[encoded data removed]",
      "text/plain": [
       "<Figure size 432x288 with 1 Axes>"
      ]
     },
     "metadata": {
      "needs_background": "light"
     },
     "output_type": "display_data"
    }
   ],
   "source": [
    "x_trams, y_trans = affine_xtrans(x,y)\n",
    "print(x_trams.shape)\n",
    "print(y_trans)\n",
    "\n",
    "x_trams = x_trams.cpu()\n",
    "scal = lambda x: (x-x.min())/(x.max()-x.min())\n",
    "img = torchvision.utils.make_grid(torch.cat([scal(x_trams)], dim=0), nrow=x_trams.shape[0])\n",
    "plt.imshow(img.permute(1,2,0))\n",
    "plt.show()\n",
    "\n",
    "imshow(x_trams[0,:,:,:])\n"
   ]
  },
  {
   "cell_type": "code",
   "execution_count": 20,
   "metadata": {},
   "outputs": [],
   "source": [
    "x_trans, _ = affine_xtrans(x,y)\n",
    "y_trans, _ = affine_ytrans(x,y)\n",
    "rot, _ = affine_rot(x,y)"
   ]
  },
  {
   "cell_type": "markdown",
   "metadata": {},
   "source": [
    "### ATE on x_trans"
   ]
  },
  {
   "cell_type": "code",
   "execution_count": 46,
   "metadata": {},
   "outputs": [],
   "source": [
    "x_aff = x_trans.to(device)\n",
    "#x_aff = y_trans.to(device)\n",
    "#x_aff = rot.to(device)\n",
    "\n",
    "uh_aff, _ = model.forward(x_aff)"
   ]
  },
  {
   "cell_type": "code",
   "execution_count": 47,
   "metadata": {},
   "outputs": [],
   "source": [
    "def cov_uh_trans(uh):\n",
    "    \"\"\"\n",
    "    uh in [k,n,m]\n",
    "    k -> number of transformed images\n",
    "    n -> number of output classes\n",
    "    m -> number of capsul values\n",
    "    \"\"\"\n",
    "\n",
    "    uh_mean = uh.mean(dim=0)\n",
    "    \"\"\"\n",
    "    #could be cleaner, but it's the same ...\n",
    "    uh_mean = uh_mean.unsqueeze(0)\n",
    "    uh_mean = uh_mean.repeat(uh.shape[0],1,1)\n",
    "    \"\"\"\n",
    "\n",
    "    z = uh - uh_mean\n",
    "\n",
    "    c_k = torch.einsum('...ij, ...ik -> ...jk', z,z)\n",
    "    c = torch.einsum('ijk -> jk', c_k) / c_k.shape[0]\n",
    "\n",
    "    return c"
   ]
  },
  {
   "cell_type": "code",
   "execution_count": 48,
   "metadata": {},
   "outputs": [],
   "source": [
    "c = cov_uh_trans(uh_aff)\n"
   ]
  },
  {
   "cell_type": "code",
   "execution_count": 49,
   "metadata": {},
   "outputs": [],
   "source": [
    "def covshow(c):\n",
    "    # https://matplotlib.org/3.1.1/gallery/images_contours_and_fields/image_annotated_heatmap.html#sphx-glr-gallery-images-contours-and-fields-image-annotated-heatmap-py\n",
    "\n",
    "    data = c.cpu().detach().numpy()\n",
    "\n",
    "    fig, ax = plt.subplots(figsize=(8, 8))\n",
    "    im = ax.imshow(data)\n",
    "\n",
    "    fg_color = 'white'\n",
    "    im.axes.tick_params(color=fg_color, labelcolor=fg_color)\n",
    "\n",
    "    \"\"\"\n",
    "    # Loop over data dimensions and create text annotations.\n",
    "    for i in range(len(data)):\n",
    "        for j in range(len(data)):\n",
    "            text = ax.text(j, i, data[i, j],\n",
    "                        ha=\"center\", va=\"center\", color=\"fg_color\")\n",
    "    \"\"\"\n",
    "\n",
    "    cb = fig.colorbar(im)\n",
    "    cb.ax.yaxis.set_tick_params(color=fg_color)\n",
    "    cb.outline.set_edgecolor(fg_color)\n",
    "    plt.setp(plt.getp(cb.ax.axes, 'yticklabels'), color=fg_color)\n",
    "    fig.tight_layout()\n",
    "    plt.show()"
   ]
  },
  {
   "cell_type": "code",
   "execution_count": 50,
   "metadata": {},
   "outputs": [
    {
     "data": {
      "image/png": "[encoded data removed]",
      "text/plain": [
       "<Figure size 576x576 with 2 Axes>"
      ]
     },
     "metadata": {
      "needs_background": "dark"
     },
     "output_type": "display_data"
    }
   ],
   "source": [
    "covshow(c)"
   ]
  },
  {
   "cell_type": "markdown",
   "metadata": {},
   "source": [
    "### via PCA from Paper EffCN"
   ]
  },
  {
   "cell_type": "code",
   "execution_count": 51,
   "metadata": {},
   "outputs": [
    {
     "name": "stdout",
     "output_type": "stream",
     "text": [
      "tensor([0.4763, 0.2482, 0.0897, 0.0401, 0.0387, 0.0281, 0.0233, 0.0149, 0.0115,\n",
      "        0.0069, 0.0061, 0.0043, 0.0036, 0.0031, 0.0026, 0.0025],\n",
      "       grad_fn=<DivBackward0>)\n"
     ]
    },
    {
     "data": {
      "image/png": "[encoded data removed]",
      "text/plain": [
       "<Figure size 432x288 with 1 Axes>"
      ]
     },
     "metadata": {
      "needs_background": "dark"
     },
     "output_type": "display_data"
    }
   ],
   "source": [
    "cov = c.cpu()\n",
    "\n",
    "eig, v_eig = torch.linalg.eig(cov)\n",
    "eig = eig.float()\n",
    "sig = eig / eig.sum()\n",
    "\n",
    "#rint(eig)\n",
    "#print(eig.sum())\n",
    "print(sig)\n",
    "plt.plot(sig.detach().numpy(),\".\")\n",
    "plt.tick_params(colors=\"w\")\n",
    "\n"
   ]
  },
  {
   "cell_type": "markdown",
   "metadata": {},
   "source": [
    "### ! wrong (Via KL-Divergende from munich paper)"
   ]
  },
  {
   "cell_type": "code",
   "execution_count": 52,
   "metadata": {},
   "outputs": [],
   "source": [
    "### !!! Not shure about this!!!\n",
    "\n",
    "# https://mail.python.org/pipermail/scipy-user/2011-May/029521.html\n",
    "\n",
    "def KLdivergence(x, y):\n",
    "  \"\"\"Compute the Kullback-Leibler divergence between two multivariate samples.\n",
    "  Parameters\n",
    "  ----------\n",
    "  x : 2D array (n,d)\n",
    "    Samples from distribution P, which typically represents the true\n",
    "    distribution.\n",
    "  y : 2D array (m,d)\n",
    "    Samples from distribution Q, which typically represents the approximate\n",
    "    distribution.\n",
    "  Returns\n",
    "  -------\n",
    "  out : float\n",
    "    The estimated Kullback-Leibler divergence D(P||Q).\n",
    "  References\n",
    "  ----------\n",
    "  Pérez-Cruz, F. Kullback-Leibler divergence estimation of\n",
    "continuous distributions IEEE International Symposium on Information\n",
    "Theory, 2008.\n",
    "  \"\"\"\n",
    "  from scipy.spatial import cKDTree as KDTree\n",
    "\n",
    "  # Check the dimensions are consistent\n",
    "  x = np.atleast_2d(x)\n",
    "  y = np.atleast_2d(y)\n",
    "\n",
    "  n,d = x.shape\n",
    "  m,dy = y.shape\n",
    "\n",
    "  assert(d == dy)\n",
    "\n",
    "\n",
    "  # Build a KD tree representation of the samples and find the nearest neighbour\n",
    "  # of each point in x.\n",
    "  xtree = KDTree(x)\n",
    "  ytree = KDTree(y)\n",
    "\n",
    "  # Get the first two nearest neighbours for x, since the closest one is the\n",
    "  # sample itself.\n",
    "  r = xtree.query(x, k=2, eps=.01, p=2)[0][:,1]\n",
    "  s = ytree.query(x, k=1, eps=.01, p=2)[0]\n",
    "\n",
    "  # There is a mistake in the paper. In Eq. 14, the right side misses a negative sign\n",
    "  # on the first term of the right hand side.\n",
    "  return -np.log(r/s).sum() * d / n + np.log(m / (n - 1.))"
   ]
  },
  {
   "cell_type": "code",
   "execution_count": 53,
   "metadata": {},
   "outputs": [],
   "source": [
    "def cov_uh_kl(uh):\n",
    "    c_k = torch.einsum('...ij, ...ik -> ...jk', uh,uh)\n",
    "    c = torch.einsum('ijk -> jk', c_k) / c_k.shape[0]\n",
    "    return c "
   ]
  },
  {
   "cell_type": "code",
   "execution_count": 54,
   "metadata": {},
   "outputs": [
    {
     "name": "stdout",
     "output_type": "stream",
     "text": [
      "10.587798298982285\n"
     ]
    },
    {
     "data": {
      "image/png": "[encoded data removed]",
      "text/plain": [
       "<Figure size 576x576 with 2 Axes>"
      ]
     },
     "metadata": {
      "needs_background": "dark"
     },
     "output_type": "display_data"
    },
    {
     "data": {
      "image/png": "[encoded data removed]",
      "text/plain": [
       "<Figure size 576x576 with 2 Axes>"
      ]
     },
     "metadata": {
      "needs_background": "dark"
     },
     "output_type": "display_data"
    }
   ],
   "source": [
    "c_org = cov_uh_kl(uh.cpu())\n",
    "c_aff = cov_uh_kl(uh_aff.cpu())\n",
    "\n",
    "#determinaten\n",
    "c_org_det = torch.linalg.det(c_org)\n",
    "c_aff_det = torch.linalg.det(c_aff)\n",
    "\n",
    "#trace\n",
    "c_org_det = torch.trace(c_org)\n",
    "c_aff_det = torch.trace(c_aff)\n",
    "\n",
    "#compute kl div from git hub\n",
    "kl_div = KLdivergence(c_org.detach().numpy(), c_aff.detach().numpy())\n",
    "\n",
    "print(kl_div)\n",
    "covshow(c_org)\n",
    "covshow(c_aff)"
   ]
  },
  {
   "cell_type": "markdown",
   "metadata": {},
   "source": [
    "### Via KL-Divergende from munich paper"
   ]
  },
  {
   "cell_type": "code",
   "execution_count": 55,
   "metadata": {},
   "outputs": [
    {
     "name": "stdout",
     "output_type": "stream",
     "text": [
      "torch.Size([1, 10, 16])\n",
      "torch.Size([11, 10, 16])\n"
     ]
    }
   ],
   "source": [
    "print(uh.shape)\n",
    "print(uh_aff.shape)"
   ]
  },
  {
   "cell_type": "markdown",
   "metadata": {},
   "source": [
    "get vectors from groud truth"
   ]
  },
  {
   "cell_type": "code",
   "execution_count": 82,
   "metadata": {},
   "outputs": [
    {
     "name": "stdout",
     "output_type": "stream",
     "text": [
      "tensor([4])\n",
      "torch.Size([1, 1, 16])\n",
      "torch.Size([11, 1, 16])\n",
      "tensor([[0.0031, 0.0062, 0.0055, 0.0062, 0.0059, 0.0038, 0.0047, 0.0037, 0.0038,\n",
      "         0.0061, 0.0019, 0.0051, 0.0079, 0.0067, 0.0043, 0.0003]],\n",
      "       device='cuda:0', grad_fn=<VarBackward0>)\n",
      "torch.Size([1, 16])\n",
      "tensor(0.0752, device='cuda:0', grad_fn=<SumBackward0>)\n",
      "tensor([[0.0408, 0.0822, 0.0725, 0.0829, 0.0786, 0.0505, 0.0624, 0.0495, 0.0508,\n",
      "         0.0812, 0.0254, 0.0681, 0.1047, 0.0889, 0.0568, 0.0046]],\n",
      "       device='cuda:0', grad_fn=<DivBackward0>)\n"
     ]
    },
    {
     "data": {
      "text/plain": [
       "0.0625"
      ]
     },
     "execution_count": 82,
     "metadata": {},
     "output_type": "execute_result"
    }
   ],
   "source": [
    "print(y)\n",
    "\n",
    "uh_th = uh[:,y,:]\n",
    "uh_aff_th = uh_aff[:,y,:]\n",
    "print(uh_th.shape)\n",
    "print(uh_aff_th.shape)\n",
    "\n",
    "uh_aff_var = torch.var(uh_aff_th, dim=0)\n",
    "print(uh_aff_var)\n",
    "print(uh_aff_var.shape)\n",
    "\n",
    "\n",
    "uh_aff_sum = uh_aff_var.sum()\n",
    "uh_aff_nor = uh_aff_var / uh_aff_sum\n",
    "print(uh_aff_sum)\n",
    "print(uh_aff_nor)\n",
    "\n",
    "\n",
    "uni_p = 1/uh_aff_nor.shape[1]\n",
    "uni_p"
   ]
  },
  {
   "cell_type": "code",
   "execution_count": 89,
   "metadata": {},
   "outputs": [
    {
     "data": {
      "text/plain": [
       "tensor(0.0967, device='cuda:0', grad_fn=<SumBackward0>)"
      ]
     },
     "execution_count": 89,
     "metadata": {},
     "output_type": "execute_result"
    }
   ],
   "source": [
    "(uh_aff_nor * torch.log((uh_aff_nor/uni_p))).sum()"
   ]
  }
 ],
 "metadata": {
  "interpreter": {
   "hash": "188faa17072d374bec02d17fca5e544867bade69f71230dfd1a560a6ca303930"
  },
  "kernelspec": {
   "display_name": "Python 3.9.7 64-bit ('EffCN': conda)",
   "language": "python",
   "name": "python3"
  },
  "language_info": {
   "codemirror_mode": {
    "name": "ipython",
    "version": 3
   },
   "file_extension": ".py",
   "mimetype": "text/x-python",
   "name": "python",
   "nbconvert_exporter": "python",
   "pygments_lexer": "ipython3",
   "version": "3.9.7"
  },
  "orig_nbformat": 4
 },
 "nbformat": 4,
 "nbformat_minor": 2
}
