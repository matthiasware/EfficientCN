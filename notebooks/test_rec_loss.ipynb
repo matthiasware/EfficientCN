{
 "cells": [
  {
   "cell_type": "code",
   "execution_count": null,
   "id": "9811bbff-b44b-48b4-81a3-6291f1ea66f1",
   "metadata": {},
   "outputs": [],
   "source": [
    "%load_ext autoreload\n",
    "%autoreload 2"
   ]
  },
  {
   "cell_type": "code",
   "execution_count": 22,
   "id": "82520918-aebd-4642-ab96-a9026e8f90d6",
   "metadata": {},
   "outputs": [],
   "source": [
    "import sys\n",
    "sys.path.append(\"./..\")"
   ]
  },
  {
   "cell_type": "code",
   "execution_count": 80,
   "id": "d8f4b662-4b8e-4fdc-8e66-8d1a8701979c",
   "metadata": {},
   "outputs": [],
   "source": [
    "import torch\n",
    "import torch.nn.functional as F\n",
    "import torchvision.transforms as T\n",
    "import tensorflow as tf\n",
    "import numpy as np\n",
    "\n",
    "#local import\n",
    "from smallnorb.smallnorb import SmallNORB"
   ]
  },
  {
   "cell_type": "code",
   "execution_count": 6,
   "id": "6745097f-1a8f-434e-8fef-abb0c17b03d5",
   "metadata": {},
   "outputs": [],
   "source": [
    "class Mask(tf.keras.layers.Layer):\n",
    "    \"\"\"\n",
    "    Mask operation described in 'Dynamic routinig between capsules'.\n",
    "    \n",
    "    ...\n",
    "    \n",
    "    Methods\n",
    "    -------\n",
    "    call(inputs, double_mask)\n",
    "        mask a capsule layer\n",
    "        set double_mask for multimnist dataset\n",
    "    \"\"\"\n",
    "    def call(self, inputs, double_mask=None, **kwargs):\n",
    "        if type(inputs) is list:\n",
    "            if double_mask:\n",
    "                inputs, mask1, mask2 = inputs\n",
    "            else:\n",
    "                inputs, mask = inputs\n",
    "        else:  \n",
    "            x = tf.sqrt(tf.reduce_sum(tf.square(inputs), -1))        # 2 norm ?\n",
    "            if double_mask:\n",
    "                mask1 = tf.keras.backend.one_hot(tf.argsort(x,direction='DESCENDING',axis=-1)[...,0],num_classes=x.get_shape().as_list()[1])\n",
    "                mask2 = tf.keras.backend.one_hot(tf.argsort(x,direction='DESCENDING',axis=-1)[...,1],num_classes=x.get_shape().as_list()[1])\n",
    "            else:\n",
    "                mask = tf.keras.backend.one_hot(indices=tf.argmax(x, 1), num_classes=x.get_shape().as_list()[1])\n",
    "\n",
    "        if double_mask:\n",
    "            masked1 = tf.keras.backend.batch_flatten(inputs * tf.expand_dims(mask1, -1))\n",
    "            masked2 = tf.keras.backend.batch_flatten(inputs * tf.expand_dims(mask2, -1))\n",
    "            return masked1, masked2\n",
    "        else:\n",
    "            masked = tf.keras.backend.batch_flatten(inputs * tf.expand_dims(mask, -1))\n",
    "            return masked\n",
    "\n",
    "    def compute_output_shape(self, input_shape):\n",
    "        if type(input_shape[0]) is tuple:  \n",
    "            return tuple([None, input_shape[0][1] * input_shape[0][2]])\n",
    "        else:  # generation step\n",
    "            return tuple([None, input_shape[1] * input_shape[2]])\n",
    "\n",
    "    def get_config(self):\n",
    "        config = super(Mask, self).get_config()\n",
    "        return config"
   ]
  },
  {
   "cell_type": "code",
   "execution_count": 38,
   "id": "f8918c94-688f-4909-8b6b-2562a9d2c673",
   "metadata": {},
   "outputs": [],
   "source": [
    "def masking_max_norm(u):\n",
    "    \"\"\"\n",
    "    IN:\n",
    "        u (b, n d) ... capsules\n",
    "    OUT:\n",
    "        masked(u)  (b, n, d) where:\n",
    "        - normalise over dimension d of u\n",
    "        - keep largest vector in dimension n\n",
    "        - mask out everything else\n",
    "    \"\"\"\n",
    "    _, n_classes, _ = u.shape\n",
    "    print(n_classes)\n",
    "    u_norm = torch.norm(u, dim=2)\n",
    "    print(u_norm)\n",
    "    mask = F.one_hot(torch.argmax(u_norm, 1), num_classes=n_classes)\n",
    "    print(mask)\n",
    "    return torch.einsum('bnd,bn->bnd', u, mask)"
   ]
  },
  {
   "cell_type": "code",
   "execution_count": 39,
   "id": "b1da76aa-88ac-480e-9ddd-239eb0630b06",
   "metadata": {},
   "outputs": [
    {
     "name": "stdout",
     "output_type": "stream",
     "text": [
      "5\n",
      "tensor([[1.9175, 2.4459, 2.0397, 2.3359, 2.6359]])\n",
      "tensor([[0, 0, 0, 0, 1]])\n"
     ]
    },
    {
     "data": {
      "text/plain": [
       "tensor([[[0.0000, 0.0000, 0.0000, 0.0000, 0.0000, 0.0000, 0.0000, 0.0000,\n",
       "          0.0000, 0.0000, 0.0000, 0.0000, 0.0000, 0.0000, 0.0000, 0.0000],\n",
       "         [0.0000, 0.0000, 0.0000, 0.0000, 0.0000, 0.0000, 0.0000, 0.0000,\n",
       "          0.0000, 0.0000, 0.0000, 0.0000, 0.0000, 0.0000, 0.0000, 0.0000],\n",
       "         [0.0000, 0.0000, 0.0000, 0.0000, 0.0000, 0.0000, 0.0000, 0.0000,\n",
       "          0.0000, 0.0000, 0.0000, 0.0000, 0.0000, 0.0000, 0.0000, 0.0000],\n",
       "         [0.0000, 0.0000, 0.0000, 0.0000, 0.0000, 0.0000, 0.0000, 0.0000,\n",
       "          0.0000, 0.0000, 0.0000, 0.0000, 0.0000, 0.0000, 0.0000, 0.0000],\n",
       "         [0.7745, 0.4369, 0.5191, 0.6159, 0.8102, 0.9801, 0.1147, 0.3168,\n",
       "          0.6965, 0.9143, 0.9351, 0.9412, 0.5995, 0.0652, 0.5460, 0.1872]]])"
      ]
     },
     "execution_count": 39,
     "metadata": {},
     "output_type": "execute_result"
    }
   ],
   "source": [
    "torch.manual_seed(0)\n",
    "u = torch.rand((1,5,16))\n",
    "u.size()\n",
    "u_mask = masking_max_norm(u)\n",
    "u_mask"
   ]
  },
  {
   "cell_type": "code",
   "execution_count": 20,
   "id": "16d340a5-80b3-4ca6-82c7-2ba5894c348e",
   "metadata": {},
   "outputs": [
    {
     "data": {
      "text/plain": [
       "tensor([0, 0, 0, 0, 1])"
      ]
     },
     "execution_count": 20,
     "metadata": {},
     "output_type": "execute_result"
    }
   ],
   "source": [
    "F.one_hot(torch.tensor(4))"
   ]
  },
  {
   "cell_type": "code",
   "execution_count": 24,
   "id": "698d790c-c2c7-4651-a993-bfc241264d43",
   "metadata": {},
   "outputs": [
    {
     "name": "stdout",
     "output_type": "stream",
     "text": [
      "Downloading https://cs.nyu.edu/~ylclab/data/norb-v1.0-small/smallnorb-5x46789x9x18x6x2x96x96-training-dat.mat.gz to data/SmallNORB\\raw\\smallnorb-5x46789x9x18x6x2x96x96-training-dat.mat.gz\n"
     ]
    },
    {
     "data": {
      "application/vnd.jupyter.widget-view+json": {
       "model_id": "f492ac6e04944298b35fc79496c11e67",
       "version_major": 2,
       "version_minor": 0
      },
      "text/plain": [
       "  0%|          | 0/131896188 [00:00<?, ?it/s]"
      ]
     },
     "metadata": {},
     "output_type": "display_data"
    },
    {
     "name": "stdout",
     "output_type": "stream",
     "text": [
      "# Extracting data smallnorb-5x46789x9x18x6x2x96x96-training-dat.mat\n",
      "\n",
      "Downloading https://cs.nyu.edu/~ylclab/data/norb-v1.0-small/smallnorb-5x46789x9x18x6x2x96x96-training-info.mat.gz to data/SmallNORB\\raw\\smallnorb-5x46789x9x18x6x2x96x96-training-info.mat.gz\n"
     ]
    },
    {
     "data": {
      "application/vnd.jupyter.widget-view+json": {
       "model_id": "7c1772486db944bea2575b9dbf7fa5bf",
       "version_major": 2,
       "version_minor": 0
      },
      "text/plain": [
       "  0%|          | 0/71052 [00:00<?, ?it/s]"
      ]
     },
     "metadata": {},
     "output_type": "display_data"
    },
    {
     "name": "stdout",
     "output_type": "stream",
     "text": [
      "# Extracting data smallnorb-5x46789x9x18x6x2x96x96-training-info.mat\n",
      "\n",
      "Downloading https://cs.nyu.edu/~ylclab/data/norb-v1.0-small/smallnorb-5x46789x9x18x6x2x96x96-training-cat.mat.gz to data/SmallNORB\\raw\\smallnorb-5x46789x9x18x6x2x96x96-training-cat.mat.gz\n"
     ]
    },
    {
     "data": {
      "application/vnd.jupyter.widget-view+json": {
       "model_id": "f8ed089bb389460faec058e301474192",
       "version_major": 2,
       "version_minor": 0
      },
      "text/plain": [
       "  0%|          | 0/348 [00:00<?, ?it/s]"
      ]
     },
     "metadata": {},
     "output_type": "display_data"
    },
    {
     "name": "stdout",
     "output_type": "stream",
     "text": [
      "# Extracting data smallnorb-5x46789x9x18x6x2x96x96-training-cat.mat\n",
      "\n",
      "Downloading https://cs.nyu.edu/~ylclab/data/norb-v1.0-small/smallnorb-5x01235x9x18x6x2x96x96-testing-dat.mat.gz to data/SmallNORB\\raw\\smallnorb-5x01235x9x18x6x2x96x96-testing-dat.mat.gz\n"
     ]
    },
    {
     "data": {
      "application/vnd.jupyter.widget-view+json": {
       "model_id": "7ffc514e887a4bf3820840a608c5dce4",
       "version_major": 2,
       "version_minor": 0
      },
      "text/plain": [
       "  0%|          | 0/130799817 [00:00<?, ?it/s]"
      ]
     },
     "metadata": {},
     "output_type": "display_data"
    },
    {
     "name": "stdout",
     "output_type": "stream",
     "text": [
      "# Extracting data smallnorb-5x01235x9x18x6x2x96x96-testing-dat.mat\n",
      "\n",
      "Downloading https://cs.nyu.edu/~ylclab/data/norb-v1.0-small/smallnorb-5x01235x9x18x6x2x96x96-testing-info.mat.gz to data/SmallNORB\\raw\\smallnorb-5x01235x9x18x6x2x96x96-testing-info.mat.gz\n"
     ]
    },
    {
     "data": {
      "application/vnd.jupyter.widget-view+json": {
       "model_id": "30e67f1d0f0b429f8ee4ec21277f11e5",
       "version_major": 2,
       "version_minor": 0
      },
      "text/plain": [
       "  0%|          | 0/10428 [00:00<?, ?it/s]"
      ]
     },
     "metadata": {},
     "output_type": "display_data"
    },
    {
     "name": "stdout",
     "output_type": "stream",
     "text": [
      "# Extracting data smallnorb-5x01235x9x18x6x2x96x96-testing-info.mat\n",
      "\n",
      "Downloading https://cs.nyu.edu/~ylclab/data/norb-v1.0-small/smallnorb-5x01235x9x18x6x2x96x96-testing-cat.mat.gz to data/SmallNORB\\raw\\smallnorb-5x01235x9x18x6x2x96x96-testing-cat.mat.gz\n"
     ]
    },
    {
     "data": {
      "application/vnd.jupyter.widget-view+json": {
       "model_id": "42bacbc5996d4c94b30f912481e248e1",
       "version_major": 2,
       "version_minor": 0
      },
      "text/plain": [
       "  0%|          | 0/347 [00:00<?, ?it/s]"
      ]
     },
     "metadata": {},
     "output_type": "display_data"
    },
    {
     "name": "stdout",
     "output_type": "stream",
     "text": [
      "# Extracting data smallnorb-5x01235x9x18x6x2x96x96-testing-cat.mat\n",
      "\n",
      "Processing...\n",
      "Done!\n"
     ]
    }
   ],
   "source": [
    "A = SmallNORB(root = 'data/SmallNORB',train=False,download=True,mode=\"stereo\")"
   ]
  },
  {
   "cell_type": "code",
   "execution_count": 41,
   "id": "2c13a016-50aa-4f61-9c25-c08d5d8f47ac",
   "metadata": {},
   "outputs": [
    {
     "name": "stdout",
     "output_type": "stream",
     "text": [
      "tensor(3) tensor([0, 0, 0, 1, 0])\n"
     ]
    }
   ],
   "source": [
    "a = np.asarray(A[0][0])\n",
    "b = A[3][2]\n",
    "print(b, F.one_hot(b,num_classes=5))"
   ]
  },
  {
   "cell_type": "code",
   "execution_count": 45,
   "id": "dc152251-5751-468f-bc9e-fa8ba1e7f332",
   "metadata": {},
   "outputs": [],
   "source": [
    "def masking_y_true(u, y_true):\n",
    "    \"\"\"\n",
    "    IN:\n",
    "        u (b, n d) ... capsules\n",
    "        y_true (b,)  ... classification value (skalar)\n",
    "    OUT:\n",
    "        masked(u)  (b, n, d) where:\n",
    "        - normalise over dimension d of u\n",
    "        - keep vector in dimension n with y_true\n",
    "        - mask out everything else\n",
    "    \"\"\"\n",
    "    _, n_classes, _ = u.shape\n",
    "    print(n_classes)\n",
    "    u_norm = torch.norm(u, dim=2)\n",
    "    print(u_norm)\n",
    "    mask = F.one_hot(y_true, num_classes=n_classes)\n",
    "    print(mask)\n",
    "    return torch.einsum('bnd,bn->bnd', u, mask)"
   ]
  },
  {
   "cell_type": "code",
   "execution_count": 71,
   "id": "5a1e8b2b-1dbe-4cf7-a997-83cd9c8991c5",
   "metadata": {},
   "outputs": [
    {
     "name": "stdout",
     "output_type": "stream",
     "text": [
      "torch.Size([3])\n",
      "tensor([2, 1, 1])\n",
      "torch.Size([3, 5, 16])\n",
      "5\n",
      "tensor([[2.3595, 2.0025, 2.6382, 2.2739, 2.3331],\n",
      "        [2.1719, 2.5303, 2.0609, 2.6190, 2.5837],\n",
      "        [2.1154, 2.3592, 2.5738, 2.2197, 2.0663]])\n",
      "tensor([[0, 0, 1, 0, 0],\n",
      "        [0, 1, 0, 0, 0],\n",
      "        [0, 1, 0, 0, 0]])\n"
     ]
    },
    {
     "data": {
      "text/plain": [
       "tensor([[[0.0000, 0.0000, 0.0000, 0.0000, 0.0000, 0.0000, 0.0000, 0.0000,\n",
       "          0.0000, 0.0000, 0.0000, 0.0000, 0.0000, 0.0000, 0.0000, 0.0000],\n",
       "         [0.0000, 0.0000, 0.0000, 0.0000, 0.0000, 0.0000, 0.0000, 0.0000,\n",
       "          0.0000, 0.0000, 0.0000, 0.0000, 0.0000, 0.0000, 0.0000, 0.0000],\n",
       "         [0.8837, 0.0947, 0.7794, 0.6970, 0.3245, 0.2406, 0.8824, 0.2953,\n",
       "          0.9455, 0.5017, 0.9711, 0.8482, 0.3557, 0.4164, 0.5201, 0.8180],\n",
       "         [0.0000, 0.0000, 0.0000, 0.0000, 0.0000, 0.0000, 0.0000, 0.0000,\n",
       "          0.0000, 0.0000, 0.0000, 0.0000, 0.0000, 0.0000, 0.0000, 0.0000],\n",
       "         [0.0000, 0.0000, 0.0000, 0.0000, 0.0000, 0.0000, 0.0000, 0.0000,\n",
       "          0.0000, 0.0000, 0.0000, 0.0000, 0.0000, 0.0000, 0.0000, 0.0000]],\n",
       "\n",
       "        [[0.0000, 0.0000, 0.0000, 0.0000, 0.0000, 0.0000, 0.0000, 0.0000,\n",
       "          0.0000, 0.0000, 0.0000, 0.0000, 0.0000, 0.0000, 0.0000, 0.0000],\n",
       "         [0.9835, 0.2522, 0.3455, 0.2098, 0.7763, 0.7467, 0.6680, 0.3442,\n",
       "          0.5228, 0.8239, 0.6402, 0.9730, 0.7103, 0.1351, 0.0922, 0.8021],\n",
       "         [0.0000, 0.0000, 0.0000, 0.0000, 0.0000, 0.0000, 0.0000, 0.0000,\n",
       "          0.0000, 0.0000, 0.0000, 0.0000, 0.0000, 0.0000, 0.0000, 0.0000],\n",
       "         [0.0000, 0.0000, 0.0000, 0.0000, 0.0000, 0.0000, 0.0000, 0.0000,\n",
       "          0.0000, 0.0000, 0.0000, 0.0000, 0.0000, 0.0000, 0.0000, 0.0000],\n",
       "         [0.0000, 0.0000, 0.0000, 0.0000, 0.0000, 0.0000, 0.0000, 0.0000,\n",
       "          0.0000, 0.0000, 0.0000, 0.0000, 0.0000, 0.0000, 0.0000, 0.0000]],\n",
       "\n",
       "        [[0.0000, 0.0000, 0.0000, 0.0000, 0.0000, 0.0000, 0.0000, 0.0000,\n",
       "          0.0000, 0.0000, 0.0000, 0.0000, 0.0000, 0.0000, 0.0000, 0.0000],\n",
       "         [0.5898, 0.6412, 0.3267, 0.0339, 0.9605, 0.3831, 0.8753, 0.2717,\n",
       "          0.3580, 0.7298, 0.5342, 0.4095, 0.3718, 0.8183, 0.7433, 0.5619],\n",
       "         [0.0000, 0.0000, 0.0000, 0.0000, 0.0000, 0.0000, 0.0000, 0.0000,\n",
       "          0.0000, 0.0000, 0.0000, 0.0000, 0.0000, 0.0000, 0.0000, 0.0000],\n",
       "         [0.0000, 0.0000, 0.0000, 0.0000, 0.0000, 0.0000, 0.0000, 0.0000,\n",
       "          0.0000, 0.0000, 0.0000, 0.0000, 0.0000, 0.0000, 0.0000, 0.0000],\n",
       "         [0.0000, 0.0000, 0.0000, 0.0000, 0.0000, 0.0000, 0.0000, 0.0000,\n",
       "          0.0000, 0.0000, 0.0000, 0.0000, 0.0000, 0.0000, 0.0000, 0.0000]]])"
      ]
     },
     "execution_count": 71,
     "metadata": {},
     "output_type": "execute_result"
    }
   ],
   "source": [
    "torch.manual_seed(6)\n",
    "batch_size = 3\n",
    "u = torch.rand((batch_size,5,16))\n",
    "y_true = torch.randint(high = 5, size=(batch_size,))\n",
    "print(y_true.size())\n",
    "print(y_true)\n",
    "print(u.size())\n",
    "u_mask = masking_y_true(u, y_true)\n",
    "u_mask "
   ]
  },
  {
   "cell_type": "code",
   "execution_count": 86,
   "id": "3b32724d-2213-4d46-9a53-00b43f8214d7",
   "metadata": {},
   "outputs": [],
   "source": [
    "ds_train = SmallNORB(root='data/SmallNORB',train=True, download=True,transform=T.ToTensor(), mode=\"left\")\n",
    "ds_valid = SmallNORB(root='data/SmallNORB',train=False, download=True,transform=T.ToTensor(),  mode=\"left\")\n",
    "\n",
    "dl_train = torch.utils.data.DataLoader(ds_train, \n",
    "                                       batch_size=3, \n",
    "                                       shuffle=True, \n",
    "                                       num_workers=4)\n",
    "dl_valid = torch.utils.data.DataLoader(ds_valid, \n",
    "                                       batch_size=3, \n",
    "                                       shuffle=True, \n",
    "                                       num_workers=4)"
   ]
  },
  {
   "cell_type": "code",
   "execution_count": 87,
   "id": "bb4bfa6e-221d-40e7-92af-5fe0b621f4f7",
   "metadata": {},
   "outputs": [],
   "source": [
    "# plot train imgs\n",
    "x, y = next(iter(dl_train))"
   ]
  },
  {
   "cell_type": "code",
   "execution_count": 88,
   "id": "b9cac548-83cb-439f-ad24-85543b1ef278",
   "metadata": {},
   "outputs": [
    {
     "data": {
      "text/plain": [
       "torch.Size([3])"
      ]
     },
     "execution_count": 88,
     "metadata": {},
     "output_type": "execute_result"
    }
   ],
   "source": [
    "y.size()"
   ]
  },
  {
   "cell_type": "code",
   "execution_count": 90,
   "id": "98adfb79-fee3-4940-b0b5-6ad43c8dad96",
   "metadata": {},
   "outputs": [
    {
     "name": "stdout",
     "output_type": "stream",
     "text": [
      "torch.Size([3])\n",
      "tensor([0, 3, 2])\n",
      "torch.Size([3, 5, 16])\n",
      "5\n",
      "tensor([[2.3595, 2.0025, 2.6382, 2.2739, 2.3331],\n",
      "        [2.1719, 2.5303, 2.0609, 2.6190, 2.5837],\n",
      "        [2.1154, 2.3592, 2.5738, 2.2197, 2.0663]])\n",
      "tensor([[1, 0, 0, 0, 0],\n",
      "        [0, 0, 0, 1, 0],\n",
      "        [0, 0, 1, 0, 0]])\n"
     ]
    },
    {
     "data": {
      "text/plain": [
       "tensor([[[0.5722, 0.5539, 0.9868, 0.6080, 0.2347, 0.4492, 0.6743, 0.7480,\n",
       "          0.5601, 0.1674, 0.3333, 0.4648, 0.6332, 0.7692, 0.2147, 0.7815],\n",
       "         [0.0000, 0.0000, 0.0000, 0.0000, 0.0000, 0.0000, 0.0000, 0.0000,\n",
       "          0.0000, 0.0000, 0.0000, 0.0000, 0.0000, 0.0000, 0.0000, 0.0000],\n",
       "         [0.0000, 0.0000, 0.0000, 0.0000, 0.0000, 0.0000, 0.0000, 0.0000,\n",
       "          0.0000, 0.0000, 0.0000, 0.0000, 0.0000, 0.0000, 0.0000, 0.0000],\n",
       "         [0.0000, 0.0000, 0.0000, 0.0000, 0.0000, 0.0000, 0.0000, 0.0000,\n",
       "          0.0000, 0.0000, 0.0000, 0.0000, 0.0000, 0.0000, 0.0000, 0.0000],\n",
       "         [0.0000, 0.0000, 0.0000, 0.0000, 0.0000, 0.0000, 0.0000, 0.0000,\n",
       "          0.0000, 0.0000, 0.0000, 0.0000, 0.0000, 0.0000, 0.0000, 0.0000]],\n",
       "\n",
       "        [[0.0000, 0.0000, 0.0000, 0.0000, 0.0000, 0.0000, 0.0000, 0.0000,\n",
       "          0.0000, 0.0000, 0.0000, 0.0000, 0.0000, 0.0000, 0.0000, 0.0000],\n",
       "         [0.0000, 0.0000, 0.0000, 0.0000, 0.0000, 0.0000, 0.0000, 0.0000,\n",
       "          0.0000, 0.0000, 0.0000, 0.0000, 0.0000, 0.0000, 0.0000, 0.0000],\n",
       "         [0.0000, 0.0000, 0.0000, 0.0000, 0.0000, 0.0000, 0.0000, 0.0000,\n",
       "          0.0000, 0.0000, 0.0000, 0.0000, 0.0000, 0.0000, 0.0000, 0.0000],\n",
       "         [0.3131, 0.5215, 0.8839, 0.3554, 0.4641, 0.2411, 0.9222, 0.6710,\n",
       "          0.4389, 0.2748, 0.9068, 0.7684, 0.6535, 0.7611, 0.9232, 0.6840],\n",
       "         [0.0000, 0.0000, 0.0000, 0.0000, 0.0000, 0.0000, 0.0000, 0.0000,\n",
       "          0.0000, 0.0000, 0.0000, 0.0000, 0.0000, 0.0000, 0.0000, 0.0000]],\n",
       "\n",
       "        [[0.0000, 0.0000, 0.0000, 0.0000, 0.0000, 0.0000, 0.0000, 0.0000,\n",
       "          0.0000, 0.0000, 0.0000, 0.0000, 0.0000, 0.0000, 0.0000, 0.0000],\n",
       "         [0.0000, 0.0000, 0.0000, 0.0000, 0.0000, 0.0000, 0.0000, 0.0000,\n",
       "          0.0000, 0.0000, 0.0000, 0.0000, 0.0000, 0.0000, 0.0000, 0.0000],\n",
       "         [0.9358, 0.5619, 0.9675, 0.4442, 0.9572, 0.5980, 0.1631, 0.2749,\n",
       "          0.0081, 0.7100, 0.7457, 0.9821, 0.1685, 0.4220, 0.0720, 0.8290],\n",
       "         [0.0000, 0.0000, 0.0000, 0.0000, 0.0000, 0.0000, 0.0000, 0.0000,\n",
       "          0.0000, 0.0000, 0.0000, 0.0000, 0.0000, 0.0000, 0.0000, 0.0000],\n",
       "         [0.0000, 0.0000, 0.0000, 0.0000, 0.0000, 0.0000, 0.0000, 0.0000,\n",
       "          0.0000, 0.0000, 0.0000, 0.0000, 0.0000, 0.0000, 0.0000, 0.0000]]])"
      ]
     },
     "execution_count": 90,
     "metadata": {},
     "output_type": "execute_result"
    }
   ],
   "source": [
    "# plot train imgs\n",
    "x, y = next(iter(dl_train))\n",
    "torch.manual_seed(6)\n",
    "batch_size = 3\n",
    "u = torch.rand((batch_size,5,16))\n",
    "y_true = y\n",
    "print(y_true.size())\n",
    "print(y_true)\n",
    "print(u.size())\n",
    "u_mask = masking_y_true(u, y_true)\n",
    "u_mask "
   ]
  },
  {
   "cell_type": "code",
   "execution_count": null,
   "id": "37a8b87a-bb39-48ce-b0e8-cb22f96429ea",
   "metadata": {},
   "outputs": [],
   "source": []
  }
 ],
 "metadata": {
  "kernelspec": {
   "display_name": "Python 3 (ipykernel)",
   "language": "python",
   "name": "python3"
  },
  "language_info": {
   "codemirror_mode": {
    "name": "ipython",
    "version": 3
   },
   "file_extension": ".py",
   "mimetype": "text/x-python",
   "name": "python",
   "nbconvert_exporter": "python",
   "pygments_lexer": "ipython3",
   "version": "3.9.7"
  }
 },
 "nbformat": 4,
 "nbformat_minor": 5
}
