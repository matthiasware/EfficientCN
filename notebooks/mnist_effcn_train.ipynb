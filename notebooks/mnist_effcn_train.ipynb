{
 "cells": [
  {
   "cell_type": "code",
   "execution_count": null,
   "id": "b7c40748",
   "metadata": {},
   "outputs": [],
   "source": [
    "%load_ext autoreload\n",
    "%autoreload 2"
   ]
  },
  {
   "cell_type": "code",
   "execution_count": null,
   "id": "af2362cb",
   "metadata": {},
   "outputs": [],
   "source": [
    "import sys\n",
    "sys.path.append(\"./..\")"
   ]
  },
  {
   "cell_type": "code",
   "execution_count": null,
   "id": "f07aa17d",
   "metadata": {},
   "outputs": [],
   "source": [
    "import torch\n",
    "import torchvision\n",
    "import torchvision.datasets as datasets\n",
    "import torchvision.transforms as T\n",
    "import matplotlib.pyplot as plt\n",
    "import torch.nn as nn\n",
    "import torch.nn.functional as F\n",
    "from torch import optim\n",
    "import numpy as np\n",
    "from tqdm import tqdm\n",
    "from pathlib import Path\n",
    "import datetime\n",
    "import time\n",
    "\n",
    "# local imports\n",
    "from effcn.models import MnistEcnBackbone, MnistEcnDecoder, MnistEffCapsNet\n",
    "from effcn.layers import PrimaryCaps, FCCaps\n",
    "from effcn.functions import margin_loss, max_norm_masking"
   ]
  },
  {
   "cell_type": "code",
   "execution_count": null,
   "id": "7840a99b",
   "metadata": {},
   "outputs": [],
   "source": [
    "if torch.cuda.is_available():  \n",
    "    dev = \"cuda:0\" \n",
    "else:  \n",
    "    dev = \"cpu\"  \n",
    "device = torch.device(dev)"
   ]
  },
  {
   "cell_type": "code",
   "execution_count": null,
   "id": "e6206f16",
   "metadata": {},
   "outputs": [],
   "source": [
    "transform_train = T.Compose([\n",
    "    T.RandomRotation(degrees=(-30, 30)),\n",
    "    T.RandomResizedCrop(\n",
    "        28,\n",
    "        scale=(0.8, 1.0),\n",
    "        ratio=(1, 1),\n",
    "    ),\n",
    "    T.RandomAffine(\n",
    "        degrees=(-30, 30),\n",
    "        #translate=(0.1, 0.1)\n",
    "    ),\n",
    "    T.ToTensor()\n",
    "])\n",
    "transform_valid = T.Compose([\n",
    "    T.ToTensor()\n",
    "])"
   ]
  },
  {
   "cell_type": "code",
   "execution_count": null,
   "id": "05ac9c9f",
   "metadata": {},
   "outputs": [],
   "source": [
    "ds_train = datasets.MNIST(root='./../data', train=True, download=True, transform=transform_train)\n",
    "ds_valid = datasets.MNIST(root=\"./../data\", train=False, download=True, transform=transform_valid)\n",
    "#\n",
    "dl_train = torch.utils.data.DataLoader(ds_train, \n",
    "                                       batch_size=16, \n",
    "                                       shuffle=True, \n",
    "                                       num_workers=4)\n",
    "dl_valid = torch.utils.data.DataLoader(ds_valid, \n",
    "                                       batch_size=16, \n",
    "                                       shuffle=True, \n",
    "                                       num_workers=4)"
   ]
  },
  {
   "cell_type": "code",
   "execution_count": null,
   "id": "493b16e6",
   "metadata": {},
   "outputs": [],
   "source": [
    "# plot train imgs\n",
    "x, y = next(iter(dl_train))\n",
    "img = torchvision.utils.make_grid(x[:64], nrow=8)\n",
    "img = img.permute((1,2,0))\n",
    "plt.imshow(img)\n",
    "plt.show()\n",
    "\n",
    "# plot valid imgs\n",
    "x, y = next(iter(dl_valid))\n",
    "img = torchvision.utils.make_grid(x[:64], nrow=8)\n",
    "img = img.permute((1,2,0))\n",
    "plt.imshow(img)\n",
    "plt.show()"
   ]
  },
  {
   "cell_type": "markdown",
   "id": "aa2c60cb",
   "metadata": {},
   "source": [
    "## Train Model"
   ]
  },
  {
   "cell_type": "code",
   "execution_count": null,
   "id": "caa6b6b3",
   "metadata": {},
   "outputs": [],
   "source": [
    "model = MnistEffCapsNet()"
   ]
  },
  {
   "cell_type": "code",
   "execution_count": null,
   "id": "082d81d9",
   "metadata": {},
   "outputs": [],
   "source": [
    "optimizer = optim.Adam(model.parameters(), lr = 5e-4)\n",
    "lr_scheduler = torch.optim.lr_scheduler.ExponentialLR(optimizer=optimizer, gamma=0.96)"
   ]
  },
  {
   "cell_type": "code",
   "execution_count": null,
   "id": "70ebe57f",
   "metadata": {},
   "outputs": [],
   "source": [
    "num_epochs = 1\n",
    "#\n",
    "for epoch_idx in range(num_epochs):\n",
    "    # ####################\n",
    "    # TRAIN\n",
    "    # ####################\n",
    "    model.train()\n",
    "    desc = \"Train [{:3}/{:3}]:\".format(epoch_idx, num_epochs)\n",
    "    pbar = tqdm(dl_train, bar_format=desc + '{bar:10}{r_bar}{bar:-10b}')\n",
    "    \n",
    "    for x,y_true in pbar:\n",
    "        x = x.to(device)\n",
    "        y_true = y_true.to(device)\n",
    "        optimizer.zero_grad()\n",
    "        \n",
    "        u_h, x_rec = model.forward(x)\n",
    "        \n",
    "        # LOSS\n",
    "        y_one_hot = F.one_hot(y_true, num_classes=10)\n",
    "        loss_margin = margin_loss(u_h, y_one_hot)\n",
    "        loss_rec = torch.nn.functional.mse_loss(x, x_rec)\n",
    "        \n",
    "        loss = loss_margin + 0.392 * loss_rec\n",
    "        loss.backward()\n",
    "        \n",
    "        optimizer.step()\n",
    "        \n",
    "        y_pred = torch.argmax(torch.norm(u_h, dim=2), dim=1)\n",
    "        acc = (y_true == y_pred).sum() / y_true.shape[0]\n",
    "        \n",
    "        pbar.set_postfix(\n",
    "                {'loss': loss.item(),\n",
    "                 'mar': loss_margin.item(),\n",
    "                 'rec': loss_rec.item(),\n",
    "                 'acc': acc.item()\n",
    "                 }\n",
    "        )\n",
    "        break\n",
    "    break\n",
    "    \n",
    "    \n",
    "        \n",
    "    # I guess this is done once per epoch\n",
    "    lr_scheduler.step()\n",
    "    #\n",
    "    # ####################\n",
    "    # VALID\n",
    "    # ####################\n",
    "    model.eval()\n",
    "    \n",
    "    total_correct = 0\n",
    "    total = 0\n",
    "\n",
    "    for x,y_true in dl_valid:\n",
    "        x = x.to(device)\n",
    "        y_true = y_true.to(device)\n",
    "        \n",
    "        with torch.no_grad():\n",
    "            u_l = model.primcaps(model.backbone(x))\n",
    "            u_h = model.fcncaps(u_l)\n",
    "            \n",
    "            y_pred = torch.argmax(torch.norm(u_h, dim=2), dim=1)\n",
    "            total_correct += (y_true == y_pred).sum()\n",
    "            total += y_true.shape[0]\n",
    "    print(\"   acc_valid: {:.3f}\".format(total_correct / total))"
   ]
  },
  {
   "cell_type": "markdown",
   "id": "2fc6453a",
   "metadata": {},
   "source": [
    "### Evaluate Model"
   ]
  },
  {
   "cell_type": "code",
   "execution_count": null,
   "id": "4ba6aba2",
   "metadata": {},
   "outputs": [],
   "source": [
    "model.eval()\n",
    "    \n",
    "total_correct = 0\n",
    "total = 0\n",
    "\n",
    "for x,y_true in dl_valid:\n",
    "    x = x.to(device)\n",
    "    y_true = y_true.to(device)\n",
    "        \n",
    "    with torch.no_grad():\n",
    "        u_h, x_rec = model.forward(x)\n",
    "        y_pred = torch.argmax(torch.norm(u_h, dim=2), dim=1)\n",
    "        total_correct += (y_true == y_pred).sum()\n",
    "        total += y_true.shape[0]\n",
    "print(\"   acc_valid: {:.3f}\".format(total_correct / total))"
   ]
  },
  {
   "cell_type": "code",
   "execution_count": null,
   "id": "50317f8d",
   "metadata": {},
   "outputs": [],
   "source": [
    "img = torchvision.utils.make_grid(torch.concat([x[:16], x_rec[:16]], dim=0), nrow=16)\n",
    "img = img.permute(1,2,0)\n",
    "plt.figure(figsize=(16, 2))\n",
    "plt.tight_layout()\n",
    "plt.axis('off')\n",
    "plt.imshow(img)"
   ]
  },
  {
   "cell_type": "markdown",
   "id": "0e1144a6",
   "metadata": {},
   "source": [
    "### Save model parameters"
   ]
  },
  {
   "cell_type": "code",
   "execution_count": null,
   "id": "cce39622",
   "metadata": {},
   "outputs": [],
   "source": [
    "p_ckpts = Path(\"../data/ckpts\")\n",
    "p_ckpts.mkdir(exist_ok=True, parents=True)\n",
    "st = datetime.datetime.fromtimestamp(time.time()).strftime('%Y-%m-%d_%H-%M-%S')\n",
    "model_name = \"ecn_mnist_epoch_{}_{}.ckpt\".format(epoch_idx, st)\n",
    "p_model = p_ckpts / model_name\n",
    "torch.save(model.state_dict(), p_model)"
   ]
  },
  {
   "cell_type": "markdown",
   "id": "1f71b403",
   "metadata": {},
   "source": [
    "### Load model parameters"
   ]
  },
  {
   "cell_type": "code",
   "execution_count": null,
   "id": "1ce6fc4e",
   "metadata": {},
   "outputs": [],
   "source": [
    "model.load_state_dict(torch.load(p_model))"
   ]
  }
 ],
 "metadata": {
  "kernelspec": {
   "display_name": "Python 3 (ipykernel)",
   "language": "python",
   "name": "python3"
  },
  "language_info": {
   "codemirror_mode": {
    "name": "ipython",
    "version": 3
   },
   "file_extension": ".py",
   "mimetype": "text/x-python",
   "name": "python",
   "nbconvert_exporter": "python",
   "pygments_lexer": "ipython3",
   "version": "3.9.7"
  }
 },
 "nbformat": 4,
 "nbformat_minor": 5
}
