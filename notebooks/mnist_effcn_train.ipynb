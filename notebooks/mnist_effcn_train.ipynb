{
 "cells": [
  {
   "cell_type": "code",
   "execution_count": null,
   "id": "b7c40748",
   "metadata": {},
   "outputs": [],
   "source": [
    "%load_ext autoreload\n",
    "%autoreload 2"
   ]
  },
  {
   "cell_type": "code",
   "execution_count": null,
   "id": "af2362cb",
   "metadata": {},
   "outputs": [],
   "source": [
    "import sys\n",
    "sys.path.append(\"./..\")"
   ]
  },
  {
   "cell_type": "code",
   "execution_count": null,
   "id": "f07aa17d",
   "metadata": {},
   "outputs": [],
   "source": [
    "import torch\n",
    "import torchvision\n",
    "import torchvision.datasets as datasets\n",
    "import torchvision.transforms as T\n",
    "import matplotlib.pyplot as plt\n",
    "import torch.nn as nn\n",
    "import torch.nn.functional as F\n",
    "from torch import optim\n",
    "import numpy as np\n",
    "\n",
    "# local imports\n",
    "from effcn.models import MnistEcnBackbone, MnistEcnDecoder\n",
    "from effcn.layers import PrimaryCaps, FCCaps\n",
    "from effcn.functions import margin_loss, max_norm_masking"
   ]
  },
  {
   "cell_type": "code",
   "execution_count": null,
   "id": "7840a99b",
   "metadata": {},
   "outputs": [],
   "source": [
    "if torch.cuda.is_available():  \n",
    "    dev = \"cuda:0\" \n",
    "else:  \n",
    "    dev = \"cpu\"  \n",
    "device = torch.device(dev)"
   ]
  },
  {
   "cell_type": "code",
   "execution_count": null,
   "id": "05ac9c9f",
   "metadata": {},
   "outputs": [],
   "source": [
    "ds_train = datasets.MNIST(root='./data', train=True, download=True, transform=T.ToTensor())\n",
    "ds_valid = datasets.MNIST(root=\"./data\", train=False, download=True, transform=T.ToTensor())"
   ]
  },
  {
   "cell_type": "code",
   "execution_count": null,
   "id": "9449851a",
   "metadata": {},
   "outputs": [],
   "source": [
    "plt.imshow(ds_train.data[0], cmap='gray')\n",
    "plt.title('%i' % ds_train.targets[0])\n",
    "plt.show()"
   ]
  },
  {
   "cell_type": "code",
   "execution_count": null,
   "id": "50988be6",
   "metadata": {},
   "outputs": [],
   "source": [
    "dl_train = torch.utils.data.DataLoader(ds_train, \n",
    "                                          batch_size=32, \n",
    "                                          shuffle=True, \n",
    "                                          num_workers=4)\n",
    "dl_valid = torch.utils.data.DataLoader(ds_valid, \n",
    "                                          batch_size=32, \n",
    "                                          shuffle=True, \n",
    "                                          num_workers=4)"
   ]
  },
  {
   "cell_type": "code",
   "execution_count": null,
   "id": "3c300084",
   "metadata": {},
   "outputs": [],
   "source": [
    "# values from paper, are fixed!\n",
    "n_l = 16    # num of primary capsules\n",
    "d_l = 8     # dim of primary capsules\n",
    "n_h = 10    # num of output capsules\n",
    "d_h = 16    # dim of output capsules"
   ]
  },
  {
   "cell_type": "code",
   "execution_count": null,
   "id": "2097862e",
   "metadata": {},
   "outputs": [],
   "source": [
    "x, y = next(iter(dl_valid))"
   ]
  },
  {
   "cell_type": "code",
   "execution_count": null,
   "id": "d427f1f6",
   "metadata": {},
   "outputs": [],
   "source": [
    "model_backbone = MnistEcnBackbone()\n",
    "model_primary = PrimaryCaps(F=128, K=9, N=n_l, D=d_l) # F = n_l * d_l !!!\n",
    "model_fcncaps = FCCaps(n_l, n_h, d_l, d_h)\n",
    "model_decoder = MnistEcnDecoder()"
   ]
  },
  {
   "cell_type": "code",
   "execution_count": null,
   "id": "7700acf1",
   "metadata": {},
   "outputs": [],
   "source": [
    "x_bb = model_backbone(x)\n",
    "u_l = model_primary(x_bb)\n",
    "u_h = model_fcncaps(u_l)\n",
    "\n",
    "y_one_hot = F.one_hot(y, num_classes=10)\n",
    "loss_margin = margin_loss(u_h, y_one_hot)\n",
    "\n",
    "# rec\n",
    "u_h_masked = max_norm_masking(u_h)\n",
    "u_h_masked_flat = torch.flatten(u_h_masked, start_dim=1)\n",
    "\n",
    "x_rec = model_decoder(u_h_masked_flat)\n",
    "\n",
    "loss_rec = torch.nn.functional.mse_loss(x, x_rec)\n",
    "\n",
    "loss = loss_margin + 0.0005 * loss_rec"
   ]
  },
  {
   "cell_type": "code",
   "execution_count": null,
   "id": "18207d22",
   "metadata": {},
   "outputs": [],
   "source": [
    "loss"
   ]
  }
 ],
 "metadata": {
  "kernelspec": {
   "display_name": "Python 3 (ipykernel)",
   "language": "python",
   "name": "python3"
  },
  "language_info": {
   "codemirror_mode": {
    "name": "ipython",
    "version": 3
   },
   "file_extension": ".py",
   "mimetype": "text/x-python",
   "name": "python",
   "nbconvert_exporter": "python",
   "pygments_lexer": "ipython3",
   "version": "3.8.12"
  }
 },
 "nbformat": 4,
 "nbformat_minor": 5
}
