{
 "cells": [
  {
   "cell_type": "code",
   "execution_count": 2,
   "id": "b073bc6e-4b87-44c9-be15-46b53a9d7115",
   "metadata": {},
   "outputs": [],
   "source": [
    "%load_ext autoreload\n",
    "%autoreload 2"
   ]
  },
  {
   "cell_type": "code",
   "execution_count": 3,
   "id": "29eb468e-c566-405f-a75f-c951515db66d",
   "metadata": {},
   "outputs": [],
   "source": [
    "import sys\n",
    "sys.path.append(\"./..\")"
   ]
  },
  {
   "cell_type": "code",
   "execution_count": 4,
   "id": "99e42a96-20fd-4d25-9c83-ba7a1c981d0e",
   "metadata": {},
   "outputs": [],
   "source": [
    "import torch"
   ]
  },
  {
   "cell_type": "code",
   "execution_count": 5,
   "id": "e2f8e961-85f1-4dc2-a4e7-709acf9f231e",
   "metadata": {},
   "outputs": [],
   "source": [
    "torch.manual_seed(42)\n",
    "a = torch.rand([10])"
   ]
  },
  {
   "cell_type": "code",
   "execution_count": null,
   "id": "8efffbec-7127-46a2-89e8-4b9c2318d40a",
   "metadata": {},
   "outputs": [],
   "source": [
    "a"
   ]
  },
  {
   "cell_type": "code",
   "execution_count": null,
   "id": "d6a55c3d-6aeb-40ea-9228-e64ed538e5ba",
   "metadata": {},
   "outputs": [],
   "source": [
    "torch.argmax(a)"
   ]
  },
  {
   "cell_type": "code",
   "execution_count": null,
   "id": "afcb8d5e-eac4-4409-9656-60e2315658a6",
   "metadata": {},
   "outputs": [],
   "source": [
    "torch.argsort(a)"
   ]
  },
  {
   "cell_type": "code",
   "execution_count": 24,
   "id": "4c74b7d8-b6b4-43d1-8682-3ac0ffcc8dba",
   "metadata": {},
   "outputs": [],
   "source": [
    "d,f = torch.topk(a, 2).indices"
   ]
  },
  {
   "cell_type": "code",
   "execution_count": null,
   "id": "ecab843f-bc25-4df8-92ef-b9d6b41ce655",
   "metadata": {},
   "outputs": [],
   "source": [
    "print(d,f)"
   ]
  },
  {
   "cell_type": "code",
   "execution_count": 39,
   "id": "6ef452dc-6140-49e4-ba58-45cca46d610c",
   "metadata": {},
   "outputs": [],
   "source": [
    "y = 8\n",
    "z = 3"
   ]
  },
  {
   "cell_type": "code",
   "execution_count": null,
   "id": "5cdb9911-384e-4c5a-8829-b8ee57ff7998",
   "metadata": {},
   "outputs": [],
   "source": [
    "((d==y and f==z) or (d==z and f==y)).sum()"
   ]
  }
 ],
 "metadata": {
  "kernelspec": {
   "display_name": "Python 3 (ipykernel)",
   "language": "python",
   "name": "python3"
  },
  "language_info": {
   "codemirror_mode": {
    "name": "ipython",
    "version": 3
   },
   "file_extension": ".py",
   "mimetype": "text/x-python",
   "name": "python",
   "nbconvert_exporter": "python",
   "pygments_lexer": "ipython3",
   "version": "3.9.7"
  }
 },
 "nbformat": 4,
 "nbformat_minor": 5
}
