{
 "cells": [
  {
   "cell_type": "code",
   "execution_count": null,
   "id": "3d1038d1",
   "metadata": {},
   "outputs": [],
   "source": [
    "import math\n",
    "import torch\n",
    "import torch.nn as nn\n",
    "import matplotlib.pyplot as plt\n",
    "import torch.nn.functional as F\n",
    "import numpy as np\n",
    "import torchvision\n",
    "#\n",
    "import einops\n",
    "from torchvision import datasets\n",
    "import torchvision.transforms as T\n",
    "import matplotlib.pyplot as plt\n",
    "import random"
   ]
  },
  {
   "cell_type": "code",
   "execution_count": null,
   "id": "d35a995f",
   "metadata": {},
   "outputs": [],
   "source": [
    "xx = np.linspace(-0.5, 1.5, 51)\n",
    "\n",
    "t_freq = 3\n",
    "t_symm = 0.5\n",
    "#\n",
    "yy = (1 - np.tanh(t_freq * (xx - t_symm))) * 0.5\n",
    "plt.plot(xx, yy)\n",
    "plt.axvline(t_symm)\n",
    "plt.axvline(0)\n",
    "plt.axvline(1)"
   ]
  },
  {
   "cell_type": "code",
   "execution_count": null,
   "id": "52048165",
   "metadata": {},
   "outputs": [],
   "source": [
    "xx = np.linspace(-0.5, 1.5, 51)\n",
    "\n",
    "t_freq = 3\n",
    "t_symm = 0.5\n",
    "#\n",
    "yy = (1 - np.tanh(t_freq * (xx - t_symm))) * 0.5\n",
    "plt.plot(xx, yy)\n",
    "plt.axvline(t_symm)\n",
    "plt.axvline(0)\n",
    "plt.axvline(1)"
   ]
  },
  {
   "cell_type": "markdown",
   "id": "595e01fc",
   "metadata": {},
   "source": [
    "# POS. Embedding 4D"
   ]
  },
  {
   "cell_type": "code",
   "execution_count": null,
   "id": "89684254",
   "metadata": {},
   "outputs": [],
   "source": [
    "h, w = 28, 28\n",
    "d = 4\n",
    "#\n",
    "pos_w = torch.linspace(0, 1, w)\n",
    "pos_h = torch.linspace(0, 1, h)\n",
    "\n",
    "# linear\n",
    "pe = torch.zeros(4, h, w)\n",
    "pe[0] = torch.linspace(0, 1, w).unsqueeze(1).repeat(1, h)\n",
    "pe[1] = torch.linspace(1, 0, w).unsqueeze(1).repeat(1, h)\n",
    "pe[2] = torch.linspace(0, 1, h).T.repeat(w, 1)\n",
    "pe[3] = torch.linspace(1, 0, h).T.repeat(w, 1)\n",
    "\n",
    "#\n",
    "# exponential -> not symmetric\n",
    "pe = torch.zeros(4, h, w)\n",
    "l = -310\n",
    "pe[0] = torch.exp(torch.linspace(0, 1, w) * -l).unsqueeze(1).repeat(1, h)\n",
    "pe[1] = torch.exp(torch.linspace(1, 0, w) * -l).unsqueeze(1).repeat(1, h)\n",
    "pe[2] = torch.exp(torch.linspace(0, 1, h) * -l).T.repeat(w, 1)\n",
    "pe[3] = torch.exp(torch.linspace(1, 0, h) * -l).T.repeat(w, 1)\n",
    "\n",
    "\n",
    "# tanh\n",
    "t_freq = 2\n",
    "t_symm = 0.5\n",
    "pe[0] = (1 - torch.tanh(t_freq * (torch.linspace(0, 1, w) - t_symm)).unsqueeze(1).repeat(1, h)) * 0.5\n",
    "pe[1] = (1 - torch.tanh(t_freq * (torch.linspace(1, 0, w) - t_symm)).unsqueeze(1).repeat(1, h)) * 0.5\n",
    "pe[2] = (1 - torch.tanh(t_freq * (torch.linspace(0, 1, h) - t_symm)).T.repeat(w, 1)) * 0.5\n",
    "pe[3] = (1 - torch.tanh(t_freq * (torch.linspace(1, 0, h) - t_symm)).T.repeat(w, 1)) * 0.5"
   ]
  },
  {
   "cell_type": "code",
   "execution_count": null,
   "id": "a3e9bc81",
   "metadata": {},
   "outputs": [],
   "source": [
    "for ipe in pe:\n",
    "    plt.imshow(ipe, cmap=\"gray\")\n",
    "    plt.show()"
   ]
  },
  {
   "cell_type": "code",
   "execution_count": null,
   "id": "b5d07705",
   "metadata": {},
   "outputs": [],
   "source": [
    "E = pe.permute(1,2,0).reshape(h*w,d)"
   ]
  },
  {
   "cell_type": "code",
   "execution_count": null,
   "id": "773770c7",
   "metadata": {},
   "outputs": [],
   "source": [
    "G = []\n",
    "for i in range(h*w):\n",
    "    for j in range(h*w):\n",
    "        a = E[i]\n",
    "        b = E[j]\n",
    "        cs = F.cosine_similarity(a, b, dim=0)\n",
    "        G.append(cs)\n",
    "S = torch.Tensor(G).reshape(h,w,h,w)\n",
    "print(S.min(), S.max(), S.shape)"
   ]
  },
  {
   "cell_type": "markdown",
   "id": "56c5c7be",
   "metadata": {},
   "source": [
    "### plot all"
   ]
  },
  {
   "cell_type": "code",
   "execution_count": null,
   "id": "5a814248",
   "metadata": {},
   "outputs": [],
   "source": [
    "fig, axes = plt.subplots(h,w, figsize=(15, 15))\n",
    "for xi in range(w):\n",
    "    for yi in range(h):\n",
    "        ax = axes[xi][yi]\n",
    "        ax.imshow(S[xi][yi], cmap=\"gray\")\n",
    "        ax.axis('off')\n",
    "plt.show()"
   ]
  },
  {
   "cell_type": "code",
   "execution_count": null,
   "id": "8f907ab8",
   "metadata": {},
   "outputs": [],
   "source": [
    "pe.sum(dim=0)"
   ]
  },
  {
   "cell_type": "code",
   "execution_count": null,
   "id": "92296eba",
   "metadata": {},
   "outputs": [],
   "source": [
    "def pos_tanh_embedding(h, w, t_freq = 2, t_symm = 0.5):\n",
    "    pe = torch.zeros(4, h, w)\n",
    "    pe[0] = (1 - torch.tanh(t_freq * (torch.linspace(0, 1, w) - t_symm)).unsqueeze(1).repeat(1, h)) * 0.5\n",
    "    pe[1] = (1 - torch.tanh(t_freq * (torch.linspace(1, 0, w) - t_symm)).unsqueeze(1).repeat(1, h)) * 0.5\n",
    "    pe[2] = (1 - torch.tanh(t_freq * (torch.linspace(0, 1, h) - t_symm)).T.repeat(w, 1)) * 0.5\n",
    "    pe[3] = (1 - torch.tanh(t_freq * (torch.linspace(1, 0, h) - t_symm)).T.repeat(w, 1)) * 0.5\n",
    "    return pe"
   ]
  },
  {
   "cell_type": "markdown",
   "id": "1bf93e9f",
   "metadata": {},
   "source": [
    "### emb on MNIST"
   ]
  },
  {
   "cell_type": "code",
   "execution_count": null,
   "id": "d953b848",
   "metadata": {},
   "outputs": [],
   "source": [
    "ds_train = datasets.MNIST(\n",
    "    root = '/mnt/data/pytorch',\n",
    "    train = True,                         \n",
    "    transform = T.ToTensor(), \n",
    "    download = True,            \n",
    ")\n",
    "ds_test = datasets.MNIST(\n",
    "    root = '/mnt/data/pytorch',\n",
    "    train = False, \n",
    "    transform = T.ToTensor()\n",
    ")"
   ]
  },
  {
   "cell_type": "code",
   "execution_count": null,
   "id": "84684f87",
   "metadata": {},
   "outputs": [],
   "source": [
    "x,_ = ds_train[0]\n",
    "img = x[0][20:27,2:9]\n",
    "print(img.shape)\n",
    "plt.imshow(img, cmap=\"gray\", vmin=0, vmax=1)"
   ]
  },
  {
   "cell_type": "code",
   "execution_count": null,
   "id": "c88a898d",
   "metadata": {},
   "outputs": [],
   "source": [
    "x,_ = ds_train[0]\n",
    "img = x[0]\n",
    "print(img.shape)\n",
    "plt.imshow(img, cmap=\"gray\", vmin=0, vmax=1)"
   ]
  },
  {
   "cell_type": "code",
   "execution_count": null,
   "id": "13c77634",
   "metadata": {},
   "outputs": [],
   "source": [
    "pe = pos_tanh_embedding(x.shape[1], x.shape[2])\n",
    "E = torch.cat((x, pe), dim=0)\n",
    "print(E.shape)"
   ]
  },
  {
   "cell_type": "code",
   "execution_count": null,
   "id": "b3c5645c",
   "metadata": {},
   "outputs": [],
   "source": [
    "G = []\n",
    "E = E.permute(1,2,0).reshape(28*28, -1)\n",
    "for i in range(h*w):\n",
    "    for j in range(h*w):\n",
    "        a = E[i]\n",
    "        b = E[j]\n",
    "        cs = F.cosine_similarity(a, b, dim=0)\n",
    "        G.append(cs)\n",
    "S = torch.Tensor(G).reshape(h,w,h,w)\n",
    "print(S.min(), S.max(), S.shape)"
   ]
  },
  {
   "cell_type": "code",
   "execution_count": null,
   "id": "8a4414f7",
   "metadata": {},
   "outputs": [],
   "source": [
    "fig, axes = plt.subplots(h,w, figsize=(15, 15))\n",
    "for xi in range(w):\n",
    "    for yi in range(h):\n",
    "        ax = axes[xi][yi]\n",
    "        ax.imshow(S[xi][yi], cmap=\"gray\")\n",
    "        ax.axis('off')\n",
    "plt.show()"
   ]
  },
  {
   "cell_type": "code",
   "execution_count": null,
   "id": "ad1f9d62",
   "metadata": {},
   "outputs": [],
   "source": [
    "plt.figure(figsize=(10,10))\n",
    "plt.imshow(S.permute(0,2,1,3).reshape(28*28, 28*28), cmap=\"gray\")\n",
    "plt.axis(\"off\")"
   ]
  },
  {
   "cell_type": "markdown",
   "id": "a23102e9",
   "metadata": {},
   "source": [
    "### emb on CIFAR"
   ]
  },
  {
   "cell_type": "code",
   "execution_count": null,
   "id": "37130911",
   "metadata": {},
   "outputs": [],
   "source": [
    "ds = torchvision.datasets.CIFAR10(\n",
    "    root='/mnt/data/pytorch', train=True, download=True, transform=T.ToTensor())"
   ]
  },
  {
   "cell_type": "code",
   "execution_count": null,
   "id": "8bba636b",
   "metadata": {},
   "outputs": [],
   "source": [
    "x,_ = ds[11]\n",
    "plt.imshow(x.permute(1,2,0))\n",
    "x.shape"
   ]
  },
  {
   "cell_type": "markdown",
   "id": "a9b4089e",
   "metadata": {},
   "source": [
    "### emb with position - channels cross product"
   ]
  },
  {
   "cell_type": "code",
   "execution_count": null,
   "id": "a99dc89d",
   "metadata": {},
   "outputs": [],
   "source": [
    "pe = pos_tanh_embedding(32, 32)\n",
    "print(pe.shape, x.shape)"
   ]
  },
  {
   "cell_type": "code",
   "execution_count": null,
   "id": "fb286432",
   "metadata": {},
   "outputs": [],
   "source": [
    "E = torch.einsum(\"ijk, ljk -> iljk\", pe, x).reshape(3*4,32,32)"
   ]
  },
  {
   "cell_type": "code",
   "execution_count": null,
   "id": "a7d0bf55",
   "metadata": {},
   "outputs": [],
   "source": [
    "G = []\n",
    "E = E.permute(1,2,0).reshape(32*32, -1)\n",
    "for i in range(32*32):\n",
    "    for j in range(32*32):\n",
    "        a = E[i]\n",
    "        b = E[j]\n",
    "        cs = F.cosine_similarity(a, b, dim=0)\n",
    "        G.append(cs)\n",
    "S = torch.Tensor(G).reshape(32,32,32,32)\n",
    "print(S.min(), S.max(), S.shape)"
   ]
  },
  {
   "cell_type": "code",
   "execution_count": null,
   "id": "293c754a",
   "metadata": {},
   "outputs": [],
   "source": [
    "plt.figure(figsize=(10,10))\n",
    "plt.imshow(S.permute(0,2,1,3).reshape(32*32, 32*32), cmap=\"gray\")\n",
    "plt.axis(\"off\")"
   ]
  },
  {
   "cell_type": "markdown",
   "id": "27466f68",
   "metadata": {},
   "source": [
    "### emb with position CAT"
   ]
  },
  {
   "cell_type": "code",
   "execution_count": null,
   "id": "bdea902c",
   "metadata": {},
   "outputs": [],
   "source": [
    "pe = pos_tanh_embedding(32, 32)\n",
    "E = torch.cat((x, pe), dim=0)\n",
    "E.shape"
   ]
  },
  {
   "cell_type": "code",
   "execution_count": null,
   "id": "c13ef0e0",
   "metadata": {},
   "outputs": [],
   "source": [
    "G = []\n",
    "E = E.permute(1,2,0).reshape(32*32, -1)\n",
    "for i in range(32*32):\n",
    "    for j in range(32*32):\n",
    "        a = E[i]\n",
    "        b = E[j]\n",
    "        cs = F.cosine_similarity(a, b, dim=0)\n",
    "        G.append(cs)\n",
    "S = torch.Tensor(G).reshape(32,32,32,32)\n",
    "print(S.min(), S.max(), S.shape)"
   ]
  },
  {
   "cell_type": "code",
   "execution_count": null,
   "id": "adfe0d27",
   "metadata": {},
   "outputs": [],
   "source": [
    "plt.figure(figsize=(10,10))\n",
    "plt.imshow(S.permute(0,2,1,3).reshape(32*32, 32*32), cmap=\"gray\")\n",
    "plt.axis(\"off\")"
   ]
  },
  {
   "cell_type": "code",
   "execution_count": null,
   "id": "42eca282",
   "metadata": {},
   "outputs": [],
   "source": [
    "32**4"
   ]
  },
  {
   "cell_type": "markdown",
   "id": "6559519a",
   "metadata": {},
   "source": [
    "### emb without position"
   ]
  },
  {
   "cell_type": "code",
   "execution_count": null,
   "id": "6183a40d",
   "metadata": {},
   "outputs": [],
   "source": [
    "pe = pos_tanh_embedding(32, 32)\n",
    "#E = torch.cat((x, pe), dim=0)\n",
    "E = x\n",
    "E.shape"
   ]
  },
  {
   "cell_type": "code",
   "execution_count": null,
   "id": "ab150277",
   "metadata": {},
   "outputs": [],
   "source": [
    "G = []\n",
    "E = E.permute(1,2,0).reshape(32*32, -1)\n",
    "for i in range(32*32):\n",
    "    for j in range(32*32):\n",
    "        a = E[i]\n",
    "        b = E[j]\n",
    "        cs = F.cosine_similarity(a, b, dim=0)\n",
    "        G.append(cs)\n",
    "S = torch.Tensor(G).reshape(32,32,32,32)\n",
    "print(S.min(), S.max(), S.shape)"
   ]
  },
  {
   "cell_type": "code",
   "execution_count": null,
   "id": "635a6a0d",
   "metadata": {},
   "outputs": [],
   "source": [
    "plt.figure(figsize=(10,10))\n",
    "plt.imshow(S.permute(0,2,1,3).reshape(32*32, 32*32), cmap=\"gray\")\n",
    "plt.axis(\"off\")"
   ]
  },
  {
   "cell_type": "code",
   "execution_count": null,
   "id": "a44853e3",
   "metadata": {},
   "outputs": [],
   "source": [
    "plt.imshow(A[0].reshape(32,32))"
   ]
  },
  {
   "cell_type": "code",
   "execution_count": null,
   "id": "bc972c40",
   "metadata": {},
   "outputs": [],
   "source": [
    "A_np = A.numpy()\n",
    "A.min(), A.max()"
   ]
  },
  {
   "cell_type": "code",
   "execution_count": null,
   "id": "c943f6fd",
   "metadata": {},
   "outputs": [],
   "source": [
    "from sklearn.cluster import KMeans\n",
    "kmeans = KMeans(n_clusters=32).fit(A_np)"
   ]
  },
  {
   "cell_type": "code",
   "execution_count": null,
   "id": "71ab7a27",
   "metadata": {},
   "outputs": [],
   "source": [
    "for cc in kmeans.cluster_centers_:\n",
    "    plt.imshow(cc.reshape(32,32), cmap=\"gray\", vmin=0, vmax=1)\n",
    "    plt.show()"
   ]
  },
  {
   "cell_type": "markdown",
   "id": "77d6a991",
   "metadata": {},
   "source": [
    "# plot every x"
   ]
  },
  {
   "cell_type": "code",
   "execution_count": null,
   "id": "6081864b",
   "metadata": {},
   "outputs": [],
   "source": [
    "pass"
   ]
  },
  {
   "cell_type": "markdown",
   "id": "1c169d0c",
   "metadata": {},
   "source": [
    "# OLD"
   ]
  },
  {
   "cell_type": "code",
   "execution_count": null,
   "id": "71b1fa8f",
   "metadata": {},
   "outputs": [],
   "source": [
    "D_model = 16\n",
    "height = h = 10E = pe.permute(1,2,0).reshape(h*w,d)\n",
    "E.shape\n",
    "width = w = 10\n",
    "#\n",
    "\n",
    "pe = torch.zeros(D_model, height, width)\n",
    "#\n",
    "d_model = int(D_model / 2)\n",
    "div_term = torch.exp(torch.arange(0., d_model, 2) * -(math.log(10000.0) / d_model))\n",
    "pos_w = torch.arange(0., width).unsqueeze(1)\n",
    "pos_h = torch.arange(0., height).unsqueeze(1)\n",
    "#\n",
    "print(pe.shape)\n",
    "print(div_term)"
   ]
  },
  {
   "cell_type": "code",
   "execution_count": null,
   "id": "f1885368",
   "metadata": {},
   "outputs": [],
   "source": [
    "pe[0:d_model:2, :, :] = torch.sin(pos_w * div_term).transpose(0, 1).unsqueeze(1).repeat(1, height, 1)\n",
    "pe[1:d_model:2, :, :] = torch.cos(pos_w * div_term).transpose(0, 1).unsqueeze(1).repeat(1, height, 1)\n",
    "pe[d_model::2, :, :] = torch.sin(pos_h * div_term).transpose(0, 1).unsqueeze(2).repeat(1, 1, width)\n",
    "pe[d_model + 1::2, :, :] = torch.cos(pos_h * div_term).transpose(0, 1).unsqueeze(2).repeat(1, 1, width)"
   ]
  },
  {
   "cell_type": "code",
   "execution_count": null,
   "id": "01f103ff",
   "metadata": {},
   "outputs": [],
   "source": [
    "# visualize\n",
    "E = pe.reshape((D_model, height*width))\n",
    "print(E.shape)\n",
    "#\n",
    "G = []\n",
    "for i in range(height*width):\n",
    "    for j in range(height*width):\n",
    "        a = E[:, i]\n",
    "        b = E[:, j]\n",
    "        cs = F.cosine_similarity(a, b, dim=0)\n",
    "        G.append(cs)\n",
    "S = torch.Tensor(G).reshape(height,width,height,width)\n",
    "S.min(), S.max()"
   ]
  },
  {
   "cell_type": "code",
   "execution_count": null,
   "id": "e8f825c2",
   "metadata": {},
   "outputs": [],
   "source": [
    "fig, axes = plt.subplots(h,w, figsize=(15, 15))\n",
    "for xi in range(w):\n",
    "    for yi in range(h):\n",
    "        ax = axes[xi][yi]\n",
    "        ax.imshow(S[xi][yi], vmin=S.min(), vmax=S.max(), cmap=\"gray\")\n",
    "        ax.axis('off')\n",
    "plt.show()"
   ]
  },
  {
   "cell_type": "markdown",
   "id": "e456e761",
   "metadata": {},
   "source": [
    "# Advanced PE"
   ]
  },
  {
   "cell_type": "code",
   "execution_count": null,
   "id": "5b1746fb",
   "metadata": {},
   "outputs": [],
   "source": [
    "d = 4\n",
    "h = 16\n",
    "w = 16\n",
    "#\n",
    "\n",
    "pe = torch.zeros(d, h, w)\n",
    "#\n",
    "pos_w = torch.arange(0., w).unsqueeze(1)\n",
    "pos_h = torch.arange(0., h).unsqueeze(1)\n",
    "#"
   ]
  },
  {
   "cell_type": "code",
   "execution_count": null,
   "id": "4e655e5d",
   "metadata": {},
   "outputs": [],
   "source": [
    "# d must be devisible by 2\n",
    "pe[0] = torch.sin(pos_w / 10 / 2).transpose(0, 1).unsqueeze(1).repeat(1, h, 1)\n",
    "pe[1] = torch.cos(pos_w / 10 / 2).transpose(0, 1).unsqueeze(1).repeat(1, h, 1)\n",
    "\n",
    "\n",
    "pe[2] = torch.sin(pos_h / 10 / 2).transpose(0, 1).unsqueeze(2).repeat(1, 1, w)\n",
    "pe[3] = torch.cos(pos_h / 10 / 2).transpose(0, 1).unsqueeze(2).repeat(1, 1, w)"
   ]
  },
  {
   "cell_type": "code",
   "execution_count": null,
   "id": "536e78c5",
   "metadata": {},
   "outputs": [],
   "source": [
    "pe.min(), pe.max()"
   ]
  },
  {
   "cell_type": "code",
   "execution_count": null,
   "id": "d7db6ddc",
   "metadata": {},
   "outputs": [],
   "source": [
    "for ipe in pe:\n",
    "    plt.imshow(ipe, cmap=\"gray\")\n",
    "    plt.show()"
   ]
  },
  {
   "cell_type": "code",
   "execution_count": null,
   "id": "bce6d36a",
   "metadata": {},
   "outputs": [],
   "source": [
    "pe.min(), pe.max()"
   ]
  },
  {
   "cell_type": "code",
   "execution_count": null,
   "id": "241116b6",
   "metadata": {},
   "outputs": [],
   "source": [
    "# visualize\n",
    "E = pe.reshape((d, h*w))\n",
    "print(E.shape)\n",
    "#\n",
    "G = []\n",
    "for i in range(h*w):\n",
    "    for j in range(h*w):\n",
    "        a = E[:, i]\n",
    "        b = E[:, j]\n",
    "        cs = F.cosine_similarity(a, b, dim=0)\n",
    "        G.a3ppend(cs)\n",
    "S = torch.Tensor(G).reshape(h,w,h,w)\n",
    "print(S.min(), S.max())"
   ]
  },
  {
   "cell_type": "code",
   "execution_count": null,
   "id": "90446ebd",
   "metadata": {},
   "outputs": [],
   "source": [
    "fig, axes = plt.subplots(h,w, figsize=(15, 15))\n",
    "for xi in range(w):\n",
    "    for yi in range(h):\n",
    "        ax = axes[xi][yi]\n",
    "        ax.imshow(S[xi][yi], vmin=S.min(), vmax=S.max(), cmap=\"gray\")\n",
    "        ax.axis('off')\n",
    "plt.show()"
   ]
  },
  {
   "cell_type": "markdown",
   "id": "6093d78b",
   "metadata": {},
   "source": [
    "# 2D Linear Embedding"
   ]
  },
  {
   "cell_type": "code",
   "execution_count": null,
   "id": "f4e1dc7f",
   "metadata": {},
   "outputs": [],
   "source": [
    "xx = np.linspace(0, np.pi * 2, 100)\n",
    "f = 1\n",
    "plt.plot(xx, np.sin(f * xx))\n",
    "plt.show()\n",
    "plt.plot(xx, np.cos(f * xx))\n",
    "plt.show()"
   ]
  },
  {
   "cell_type": "code",
   "execution_count": null,
   "id": "cbff4272",
   "metadata": {},
   "outputs": [],
   "source": [
    "h, w = 10, 10\n",
    "d = 4\n",
    "#\n",
    "pos_w = torch.linspace(0, 1, w)\n",
    "pos_h = torch.linspace(0, 1, h)\n",
    "\n",
    "# sinoid\n",
    "pe = torch.zeros(4, h, w)\n",
    "pe[0] = torch.sin(f * pos_w).unsqueeze(1).repeat(1, h)\n",
    "pe[1] = torch.cos(f * pos_w).unsqueeze(1).repeat(1, h)\n",
    "pe[2] = torch.sin(f * pos_h).unsqueeze(1).T.repeat(w, 1)\n",
    "pe[3] = torch.cos(f * pos_h).unsqueeze(1).T.repeat(w, 1)\n",
    "\n",
    "# linear\n",
    "pe = torch.zeros(4, h, w)\n",
    "pe[0] = torch.linspace(0, 1, w).unsqueeze(1).repeat(1, h)\n",
    "pe[1] = torch.linspace(1, 0, w).unsqueeze(1).repeat(1, h)\n",
    "pe[2] = torch.linspace(0, 1, h).T.repeat(w, 1)\n",
    "pe[3] = torch.linspace(1, 0, h).T.repeat(w, 1)"
   ]
  },
  {
   "cell_type": "code",
   "execution_count": null,
   "id": "154a5293",
   "metadata": {},
   "outputs": [],
   "source": [
    "for ipe in pe:\n",
    "    plt.imshow(ipe, cmap=\"gray\")\n",
    "    plt.show()"
   ]
  },
  {
   "cell_type": "code",
   "execution_count": null,
   "id": "7e94b42f",
   "metadata": {},
   "outputs": [],
   "source": [
    "E = pe.permute(1,2,0).reshape(h*w,d)\n",
    "E.shape"
   ]
  },
  {
   "cell_type": "code",
   "execution_count": null,
   "id": "3ca892b4",
   "metadata": {},
   "outputs": [],
   "source": [
    "G = []\n",
    "for i in range(h*w):\n",
    "    for j in range(h*w):\n",
    "        a = E[i]\n",
    "        b = E[j]\n",
    "        cs = F.cosine_similarity(a, b, dim=0)\n",
    "        G.append(cs)\n",
    "S = torch.Tensor(G).reshape(h,w,h,w)\n",
    "print(S.min(), S.max(), S.shape)"
   ]
  },
  {
   "cell_type": "code",
   "execution_count": null,
   "id": "eb01ff25",
   "metadata": {},
   "outputs": [],
   "source": [
    "fig, axes = plt.subplots(h,w, figsize=(15, 15))\n",
    "for xi in range(w):\n",
    "    for yi in range(h):\n",
    "        ax = axes[xi][yi]\n",
    "        ax.imshow(S[xi][yi], vmin=S.min(), vmax=S.max(), cmap=\"gray\")\n",
    "        ax.axis('off')\n",
    "plt.show()"
   ]
  },
  {
   "cell_type": "markdown",
   "id": "4b5efee6",
   "metadata": {},
   "source": [
    "# Better embedding"
   ]
  },
  {
   "cell_type": "code",
   "execution_count": null,
   "id": "3494ba21",
   "metadata": {
    "scrolled": true
   },
   "outputs": [],
   "source": [
    "x = np.linspace(0, 10, 100)\n",
    "y = np.sin(x/5)\n",
    "#\n",
    "plt.plot(x, y)"
   ]
  },
  {
   "cell_type": "code",
   "execution_count": null,
   "id": "8fd5db18",
   "metadata": {},
   "outputs": [],
   "source": [
    "plt.plot(x, y)"
   ]
  },
  {
   "cell_type": "code",
   "execution_count": null,
   "id": "b42c8193",
   "metadata": {},
   "outputs": [],
   "source": [
    "a = np.pi/2 / 10\n",
    "x = np.pi/2 / 10\n",
    "np.cos(a *  x)"
   ]
  },
  {
   "cell_type": "code",
   "execution_count": null,
   "id": "47e5234f",
   "metadata": {},
   "outputs": [],
   "source": [
    "x = np.linspace(0, 10, 100)\n",
    "a = np.pi/ 10 / 2\n",
    "plt.plot(x, np.cos(a * x))"
   ]
  },
  {
   "cell_type": "code",
   "execution_count": null,
   "id": "4907116a",
   "metadata": {},
   "outputs": [],
   "source": [
    "# want it to be devisible by 4 such thatpos_h = torch.arange(0., h).unsqueeze(1)\n",
    "# PE(x, y) =\n",
    "# [sin(x, w), cos(x, w), sin(y, w), cos(y, w)]\n",
    "h = 12\n",
    "w = 12\n",
    "d = 4\n",
    "#\n",
    "assert d % 4 == 0\n",
    "#\n",
    "n_freqs = d // 4\n",
    "freq_low = np.pi / 2 / h\n",
    "freq_high = 10000*2 * np.pi\n",
    "#\n",
    "freqs = np.linspace(freq_low, freq_high, n_freqs)"
   ]
  },
  {
   "cell_type": "code",
   "execution_count": null,
   "id": "b4f7143d",
   "metadata": {},
   "outputs": [],
   "source": [
    "lmbdas = [2**i for i in range(-1, n_freqs - 1, 1)]pos_h = torch.arange(0., h).unsqueeze(1)\n",
    "lmbdas"
   ]
  },
  {
   "cell_type": "code",
   "execution_count": null,
   "id": "9c12af4c",
   "metadata": {},
   "outputs": [],
   "source": [
    "x = np.linspace(0, h, 100)\n",
    "for freq in freqs:\n",
    "    plt.plot(x, np.sin(freq * x))\n",
    "    plt.plot(x, np.cos(freq * x))\n",
    "    plt.show()"
   ]
  },
  {
   "cell_type": "code",
   "execution_count": null,
   "id": "9f5d91a2",
   "metadata": {},
   "outputs": [],
   "source": [
    "def get_freq(k):\n",
    "    return 1/(10000**(2*k*0.5))"
   ]
  },
  {
   "cell_type": "code",
   "execution_count": null,
   "id": "4e5c16df",
   "metadata": {},
   "outputs": [],
   "source": [
    "def get_pe(h, w, d):\n",
    "    assert d % 4 == 0\n",
    "    pe = torch.zeros(d, h, w)\n",
    "    #.shape\n",
    "    pos_w = torch.arange(0., w).unsqueeze(1)\n",
    "    pos_h = torch.arange(0., h).unsqueeze(1)"
   ]
  },
  {
   "cell_type": "code",
   "execution_count": null,
   "id": "4ab9e00c",
   "metadata": {},
   "outputs": [],
   "source": [
    "pe = torch.zeros(d, h, w)\n",
    "#.shape\n",
    "pos_w = torch.arange(0., w).unsqueeze(1)\n",
    "pos_h = torch.arange(0., h).unsqueeze(1)"
   ]
  },
  {
   "cell_type": "code",
   "execution_count": null,
   "id": "3afc2410",
   "metadata": {},
   "outputs": [],
   "source": [
    "d = 16\n",
    "h = 8\n",
    "w = 8\n",
    "pe = torch.zeros(d, h, w)\n",
    "#.shape\n",
    "pos_w = torch.arange(0., w).unsqueeze(1)\n",
    "pos_h = torch.arange(0., h).unsqueeze(1)\n",
    "#\n",
    "pe[0::4,::] = torch.sin(pos_w * torch.tensor(freqs)).transpose(0, 1).unsqueeze(1).repeat(1, h, 1)\n",
    "pe[1::4,::] = torch.cos(pos_w * torch.tensor(freqs)).transpose(0, 1).unsqueeze(1).repeat(1, h, 1)\n",
    "pe[2::4,::] = torch.sin(pos_h * torch.tensor(freqs)).transpose(0, 1).unsqueeze(2).repeat(1, 1, w)\n",
    "pe[3::4,::] = torch.cos(pos_h * torch.tensor(freqs)).transpose(0, 1).unsqueeze(2).repeat(1, 1, w)"
   ]
  },
  {
   "cell_type": "code",
   "execution_count": null,
   "id": "87d97d9b",
   "metadata": {},
   "outputs": [],
   "source": [
    "# visualize\n",
    "E = pe.reshape((d, h*w))\n",
    "print(E.shape)\n",
    "#\n",
    "G = []\n",
    "for i in range(h*w):\n",
    "    for j in range(h*w):\n",
    "        a = E[:, i]\n",
    "        b = E[:, j]\n",
    "        cs = F.cosine_similarity(a, b, dim=0)\n",
    "        G.append(cs)\n",
    "S = torch.Tensor(G).reshape(h,w,h,w)\n",
    "print(S.min(), S.max(), S.shape)"
   ]
  },
  {
   "cell_type": "code",
   "execution_count": null,
   "id": "cb5f3e03",
   "metadata": {},
   "outputs": [],
   "source": [
    "fig, axes = plt.subplots(h,w, figsize=(15, 15))\n",
    "for xi in range(w):\n",
    "    for yi in range(h):\n",
    "        ax = axes[xi][yi]\n",
    "        ax.imshow(S[xi][yi], vmin=S.min(), vmax=S.max(), cmap=\"gray\")\n",
    "        ax.axis('off')\n",
    "plt.show()"
   ]
  },
  {
   "cell_type": "markdown",
   "id": "cb8ccd87",
   "metadata": {},
   "source": [
    "# ..."
   ]
  },
  {
   "cell_type": "code",
   "execution_count": null,
   "id": "d0abcb6c",
   "metadata": {},
   "outputs": [],
   "source": [
    "# want it to be devisible by 4 such that\n",
    "# PE(x, y) =\n",
    "# [sin(x, w), cos(x, w), sin(y, w), cos(y, w)]\n",
    "h = 7\n",
    "w = 7\n",
    "d = 4\n",
    "#"
   ]
  },
  {
   "cell_type": "code",
   "execution_count": null,
   "id": "243fa868",
   "metadata": {},
   "outputs": [],
   "source": [
    "def get_pe(h, w):\n",
    "    pe = torch.zeros(4, h, w)\n",
    "    #.shape\n",
    "    pos_w = torch.arange(0., w) / w\n",
    "    pos_h = torch.arange(0., h) / h\n",
    "    #\n",
    "    pe[0:,:] = torch.sin(pos_w.repeat(h).reshape(h, w))\n",
    "    pe[1:,:] = torch.cos(pos_w.repeat(h).reshape(h, w))\n",
    "    #\n",
    "    pe[2:,:] = torch.sin(pos_h.repeat(w).reshape(w, h).T)\n",
    "    pe[3:,:] = torch.cos(pos_h.repeat(w).reshape(w, h).T)\n",
    "    return pe"
   ]
  },
  {
   "cell_type": "code",
   "execution_count": null,
   "id": "cdb08065",
   "metadata": {},
   "outputs": [],
   "source": [
    "pe = torch.zeros(d, h, w)\n",
    "#.shape\n",
    "pos_w = torch.arange(0., w) / w\n",
    "pos_h = torch.arange(0., h) / h"
   ]
  },
  {
   "cell_type": "code",
   "execution_count": null,
   "id": "d27c5e0a",
   "metadata": {},
   "outputs": [],
   "source": [
    "pe[0:,:] = torch.sin(pos_w.repeat(h).reshape(h, w))\n",
    "pe[1:,:] = torch.cos(pos_w.repeat(h).reshape(h, w))\n",
    "#\n",
    "pe[2:,:] = torch.sin(pos_h.repeat(w).reshape(w, h).T)\n",
    "pe[3:,:] = torch.cos(pos_h.repeat(w).reshape(w, h).T)"
   ]
  },
  {
   "cell_type": "code",
   "execution_count": null,
   "id": "da4a0585",
   "metadata": {},
   "outputs": [],
   "source": [
    "# visualize\n",
    "E = pe.reshape((d, h*w))\n",
    "print(E.shape)\n",
    "#\n",
    "G = []\n",
    "for i in range(h*w):\n",
    "    for j in range(h*w):\n",
    "        a = E[:, i]\n",
    "        b = E[:, j]\n",
    "        cs = F.cosine_similarity(a, b, dim=0)\n",
    "        G.append(cs)\n",
    "S = torch.Tensor(G).reshape(h,w,h,w)\n",
    "print(S.min(), S.max(), S.shape)"
   ]
  },
  {
   "cell_type": "code",
   "execution_count": null,
   "id": "ab7cc4c6",
   "metadata": {},
   "outputs": [],
   "source": [
    "fig, axes = plt.subplots(h,w, figsize=(15, 15))\n",
    "for xi in range(w):\n",
    "    for yi in range(h):\n",
    "        ax = axes[xi][yi]\n",
    "        ax.imshow(S[xi][yi], vmin=S.min(), vmax=S.max(), cmap=\"gray\")\n",
    "        ax.axis('off')\n",
    "plt.show()"
   ]
  },
  {
   "cell_type": "code",
   "execution_count": null,
   "id": "f0e36f78",
   "metadata": {},
   "outputs": [],
   "source": [
    "import torch\n",
    "import einops\n",
    "from torchvision import datasets\n",
    "import torchvision.transforms as T\n",
    "import matplotlib.pyplot as plt\n",
    "import random"
   ]
  },
  {
   "cell_type": "code",
   "execution_count": null,
   "id": "56e8245f",
   "metadata": {},
   "outputs": [],
   "source": [
    "ds_train = datasets.MNIST(\n",
    "    root = '/mnt/data/pytorch',\n",
    "    train = True,                         \n",
    "    transform = T.ToTensor(), \n",
    "    download = True,            \n",
    ")\n",
    "ds_test = datasets.MNIST(\n",
    "    root = '/mnt/data/pytorch',\n",
    "    train = False, \n",
    "    transform = T.ToTensor()\n",
    ")"
   ]
  },
  {
   "cell_type": "code",
   "execution_count": null,
   "id": "06a9e07d",
   "metadata": {},
   "outputs": [],
   "source": [
    "x,_ = ds_train[0]\n",
    "img = x[0][20:27,2:9]\n",
    "print(img.shape)\n",
    "plt.imshow(img, cmap=\"gray\", vmin=0, vmax=1)"
   ]
  },
  {
   "cell_type": "code",
   "execution_count": null,
   "id": "bacc7276",
   "metadata": {},
   "outputs": [],
   "source": [
    "E = torch.cat((img.unsqueeze(0), pe), dim=0)"
   ]
  },
  {
   "cell_type": "code",
   "execution_count": null,
   "id": "ae3d82c2",
   "metadata": {},
   "outputs": [],
   "source": [
    "X = E.permute((1,2,0)).reshape(7*7,-1)"
   ]
  },
  {
   "cell_type": "code",
   "execution_count": null,
   "id": "a28c8a39",
   "metadata": {},
   "outputs": [],
   "source": [
    "A = (X @ X.T).reshape((7,7,7,7))"
   ]
  },
  {
   "cell_type": "code",
   "execution_count": null,
   "id": "458becd8",
   "metadata": {},
   "outputs": [],
   "source": [
    "x,_ = ds_train[0]\n",
    "img = x[0][20:27,2:9]\n",
    "print(img.shape)\n",
    "plt.imshow(img, cmap=\"gray\", vmin=0, vmax=1)fig, axes = plt.subplots(7,7, figsize=(10, 10))\n",
    "for xi in range(7):\n",
    "    for yi in range(7):\n",
    "        ax = axes[xi][yi]\n",
    "        ax.imshow(A[xi][yi], cmap=\"gray\")\n",
    "plt.show()"
   ]
  },
  {
   "cell_type": "code",
   "execution_count": null,
   "id": "6257116e",
   "metadata": {},
   "outputs": [],
   "source": [
    "X = 0.8 * X + 0.2 * (torch.softmax(X @ X.T, dim=-1) @ X)"
   ]
  },
  {
   "cell_type": "code",
   "execution_count": null,
   "id": "05dffd51",
   "metadata": {},
   "outputs": [],
   "source": [
    "A = (X @ X.T).reshape((7,7,7,7))\n",
    "#\n",
    "fig, axes = plt.subplots(7,7, figsize=(10, 10))\n",
    "for xi in range(7):\n",
    "    for yi in range(7):\n",
    "        ax = axes[xi][yi]\n",
    "        ax.imshow(A[xi][yi], cmap=\"gray\")\n",
    "plt.show()"
   ]
  },
  {
   "cell_type": "markdown",
   "id": "c95ea7b5",
   "metadata": {},
   "source": [
    "# Full img"
   ]
  },
  {
   "cell_type": "code",
   "execution_count": null,
   "id": "76daf836",
   "metadata": {},
   "outputs": [],
   "source": [
    "fig, axes = plt.subplots(7,7, figsize=(10, 10))x,_ = ds_train[0]\n",
    "img = x[0]\n",
    "print(img.shape)\n",
    "plt.imshow(img, cmap=\"gray\", vmin=0, vmax=1)"
   ]
  },
  {
   "cell_type": "code",
   "execution_count": null,
   "id": "5d0761a4",
   "metadata": {},
   "outputs": [],
   "source": [
    "pe = get_pe(28, 28)\n",
    "E = torch.cat((img.unsqueeze(0), pe), dim=0)\n",
    "E = E.permute(1,2,0).reshape(28*28, -1)"
   ]
  },
  {
   "cell_type": "code",
   "execution_count": null,
   "id": "dae26e3a",
   "metadata": {},
   "outputs": [],
   "source": [
    "A = torch.softmax(E @ E.T, dim=-1).reshape((28,28,28,28))"
   ]
  },
  {
   "cell_type": "code",
   "execution_count": null,
   "id": "5bdacda0",
   "metadata": {},
   "outputs": [],
   "source": [
    "fig, axes = plt.subplots(7,7, figsize=(15, 15))\n",
    "for i in range(7):\n",
    "    for j in range(7):\n",
    "        ax = axes[i][j]\n",
    "        a = A[i*4][j*4]\n",
    "        ax.imshow(a, cmap=\"gray\")"
   ]
  },
  {
   "cell_type": "code",
   "execution_count": null,
   "id": "fe3c6441",
   "metadata": {},
   "outputs": [],
   "source": [
    "E.shape"
   ]
  },
  {
   "cell_type": "code",
   "execution_count": null,
   "id": "54fae440",
   "metadata": {},
   "outputs": [],
   "source": [
    "ES = E[torch.randint(E.shape[0], (100,)),:]"
   ]
  },
  {
   "cell_type": "code",
   "execution_count": null,
   "id": "bc28fc18",
   "metadata": {},
   "outputs": [],
   "source": [
    "ESU = torch.softmax(ES @ ES.T,dim=-1) @ ES"
   ]
  },
  {
   "cell_type": "code",
   "execution_count": null,
   "id": "45ddd37e",
   "metadata": {},
   "outputs": [],
   "source": [
    "A = torch.softmax(E @ E.T, dim=-1fig, axes = plt.subplots(7,7, figsize=(15, 15))\n",
    "for i in range(7):\n",
    "    for j in range(7):\n",
    "        ax = axes[i][j]\n",
    "        a = A[i*4][j*4]\n",
    "        ax.imshow(a, cmap=\"gray\")).reshape((28,28,28,28))ESU.shape"
   ]
  },
  {
   "cell_type": "markdown",
   "id": "58a21303",
   "metadata": {},
   "source": [
    "# CIFAR"
   ]
  },
  {
   "cell_type": "code",
   "execution_count": null,
   "id": "d2a275db",
   "metadata": {},
   "outputs": [],
   "source": [
    "ds = torchvision.datasets.CIFAR10(\n",
    "    root='/mnt/data/pytorch', train=True, download=True, transform=T.ToTensor())"
   ]
  },
  {
   "cell_type": "code",
   "execution_count": null,
   "id": "a0afbd06",
   "metadata": {},
   "outputs": [],
   "source": [
    "x,_ = ds[100]\n",
    "plt.imshow(x.permute(1,2,0))"
   ]
  },
  {
   "cell_type": "code",
   "execution_count": null,
   "id": "44b264c0",
   "metadata": {},
   "outputs": [],
   "source": [
    "pe = get_pe(32, 32)\n",
    "E = torch.cat((x, pe), dim=0)\n",
    "#\n",
    "E = E.permute(1,2,0).reshape(32*32, -1)\n",
    "print(E.shape)"
   ]
  },
  {
   "cell_type": "code",
   "execution_count": null,
   "id": "d135afdd",
   "metadata": {},
   "outputs": [],
   "source": [
    "A = E @ E.T\n",
    "print(A.shape, A.sum(dim=1))\n",
    "A = A.reshape((32,32,32,32))"
   ]
  },
  {
   "cell_type": "code",
   "execution_count": null,
   "id": "5413838f",
   "metadata": {},
   "outputs": [],
   "source": [
    "A.min(), A.max()"
   ]
  },
  {
   "cell_type": "code",
   "execution_count": null,
   "id": "35b9678c",
   "metadata": {},
   "outputs": [],
   "source": [
    "fig, axes = plt.subplots(8,8, figsize=(15, 15))\n",
    "for i in range(8):\n",
    "    for j in range(8):\n",
    "        ax = axes[i][j]\n",
    "        a = A[i*4][j*4]\n",
    "        a[i*4,j*4] = A.max()\n",
    "        ax.imshow(a, cmap=\"gray\", vmin=A.min(), vmax=A.max())\n",
    "plt.show()"
   ]
  },
  {
   "cell_type": "code",
   "execution_count": null,
   "id": "d6e6e694",
   "metadata": {},
   "outputs": [],
   "source": []
  }
 ],
 "metadata": {
  "kernelspec": {
   "display_name": "Python 3 (ipykernel)",
   "language": "python",
   "name": "python3"
  },
  "language_info": {
   "codemirror_mode": {
    "name": "ipython",
    "version": 3
   },
   "file_extension": ".py",
   "mimetype": "text/x-python",
   "name": "python",
   "nbconvert_exporter": "python",
   "pygments_lexer": "ipython3",
   "version": "3.8.12"
  },
  "latex_envs": {
   "LaTeX_envs_menu_present": true,
   "autoclose": false,
   "autocomplete": true,
   "bibliofile": "biblio.bib",
   "cite_by": "apalike",
   "current_citInitial": 1,
   "eqLabelWithNumbers": true,
   "eqNumInitial": 1,
   "hotkeys": {
    "equation": "Ctrl-E",
    "itemize": "Ctrl-I"
   },
   "labels_anchors": false,
   "latex_user_defs": false,
   "report_style_numbering": false,
   "user_envs_cfg": false
  }
 },
 "nbformat": 4,
 "nbformat_minor": 5
}
