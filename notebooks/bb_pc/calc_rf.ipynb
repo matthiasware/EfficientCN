{
 "cells": [
  {
   "cell_type": "code",
   "execution_count": 14,
   "metadata": {},
   "outputs": [],
   "source": [
    "import sys\n",
    "sys.path.append(\"./../..\")"
   ]
  },
  {
   "cell_type": "code",
   "execution_count": 15,
   "metadata": {},
   "outputs": [],
   "source": [
    "%load_ext autoreload\n",
    "%autoreload 2"
   ]
  },
  {
   "cell_type": "code",
   "execution_count": 100,
   "metadata": {},
   "outputs": [],
   "source": [
    "import torch\n",
    "import torch.nn as nn\n",
    "import numpy as np\n",
    "\n",
    "#\n",
    "from misc import bb_pc\n",
    "from misc.utils import count_parameters, calc_receptive_field, layer_conv, bb_pc_vals"
   ]
  },
  {
   "cell_type": "markdown",
   "metadata": {},
   "source": [
    "### MNIST"
   ]
  },
  {
   "cell_type": "code",
   "execution_count": 208,
   "metadata": {},
   "outputs": [],
   "source": [
    "x = torch.rand(1,1,28,28)\n",
    "mnist_s = bb_pc.BBFC_mnist_shallow()\n",
    "mnist_s = bb_pc.BBFC_mnist_deep()\n",
    "caps_dims = [8,16,32,64,128]"
   ]
  },
  {
   "cell_type": "code",
   "execution_count": 209,
   "metadata": {},
   "outputs": [
    {
     "name": "stdout",
     "output_type": "stream",
     "text": [
      "nr. of parmeters:    1457920\n",
      "image output shape:  torch.Size([1, 128, 1, 1])\n",
      "layer values 'h':    [[5, 1], [3, 1], [3, 1], [3, 2], [9, 1]]\n",
      "layer values 'w':    [[5, 1], [3, 1], [3, 1], [3, 2], [9, 1]]\n",
      "receptive field:     (29, 29)\n",
      "delta of fields:     (1, 1)\n",
      "shape of primecaps:  [[16.0, 8.0], [8.0, 16.0], [4.0, 32.0], [2.0, 64.0], [1.0, 128.0]]\n"
     ]
    }
   ],
   "source": [
    "param_mnist_s = bb_pc_vals(model=mnist_s, x=x,caps_dims=caps_dims,  print_vals=True)"
   ]
  }
 ],
 "metadata": {
  "interpreter": {
   "hash": "45a9934b52327ade94263afefa7c58a6815dfd87f5c3e3084453db25103fe880"
  },
  "kernelspec": {
   "display_name": "Python 3.9.7 ('EffCN')",
   "language": "python",
   "name": "python3"
  },
  "language_info": {
   "codemirror_mode": {
    "name": "ipython",
    "version": 3
   },
   "file_extension": ".py",
   "mimetype": "text/x-python",
   "name": "python",
   "nbconvert_exporter": "python",
   "pygments_lexer": "ipython3",
   "version": "3.9.7"
  },
  "orig_nbformat": 4
 },
 "nbformat": 4,
 "nbformat_minor": 2
}
