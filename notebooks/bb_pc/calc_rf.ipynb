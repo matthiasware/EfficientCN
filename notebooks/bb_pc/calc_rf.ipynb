{
 "cells": [
  {
   "cell_type": "code",
   "execution_count": 1,
   "metadata": {},
   "outputs": [],
   "source": [
    "import sys\n",
    "sys.path.append(\"./../..\")"
   ]
  },
  {
   "cell_type": "code",
   "execution_count": 2,
   "metadata": {},
   "outputs": [],
   "source": [
    "%load_ext autoreload\n",
    "%autoreload 2"
   ]
  },
  {
   "cell_type": "code",
   "execution_count": 28,
   "metadata": {},
   "outputs": [],
   "source": [
    "from itertools import permutations\n",
    "#\n",
    "import torch\n",
    "import torch.nn as nn\n",
    "import numpy as np\n",
    "\n",
    "#\n",
    "from effcn.models_mnist import CapsNet, CapsNetNoStride,CapsNetDeep,CapsNetCross,EffCapsNetCross, EffCapsNet\n",
    "from misc import bb_pc\n",
    "from misc.utils import count_parameters, calc_receptive_field, layer_conv, bb_pc_vals, calc_layer_combs, rf_layer_combs"
   ]
  },
  {
   "cell_type": "markdown",
   "metadata": {},
   "source": [
    "### MNIST"
   ]
  },
  {
   "cell_type": "code",
   "execution_count": 4,
   "metadata": {},
   "outputs": [
    {
     "name": "stdout",
     "output_type": "stream",
     "text": [
      "nr. of parmeters:    5329664, 5.329664 Mio\n",
      "image output shape:  torch.Size([1, 256, 6, 6])\n",
      "layer values 'h':    [[9, 1], [9, 2]]\n",
      "layer values 'w':    [[9, 1], [9, 2]]\n",
      "receptive field:     [25, 25]\n",
      "delta of fields:     [-3, -3]\n",
      "shape of primecaps:  [[9216.0, 1.0], [1152.0, 8.0], [576.0, 16.0], [288.0, 32.0], [144.0, 64.0], [72.0, 128.0]]\n"
     ]
    }
   ],
   "source": [
    "x = torch.rand(1,1,28,28)\n",
    "mnist_s = bb_pc.BBFC_mnist_shallow()\n",
    "caps_dims = [1, 8, 16, 32, 64, 128]\n",
    "\n",
    "param_mnist_s = bb_pc_vals(model=mnist_s, x=x,caps_dims=caps_dims, print_vals=True)"
   ]
  },
  {
   "cell_type": "code",
   "execution_count": 5,
   "metadata": {},
   "outputs": [
    {
     "name": "stdout",
     "output_type": "stream",
     "text": [
      "nr. of parmeters:    11038464, 11.038464 Mio\n",
      "image output shape:  torch.Size([1, 512, 4, 4])\n",
      "layer values 'h':    [[5, 1], [5, 1], [3, 1], [3, 1], [9, 2]]\n",
      "layer values 'w':    [[5, 1], [5, 1], [3, 1], [3, 1], [9, 2]]\n",
      "receptive field:     [29, 29]\n",
      "delta of fields:     [1, 1]\n",
      "shape of primecaps:  [[8192.0, 1.0], [1024.0, 8.0], [512.0, 16.0], [256.0, 32.0], [128.0, 64.0], [64.0, 128.0]]\n"
     ]
    }
   ],
   "source": [
    "x = torch.rand(1,1,28,28)\n",
    "mnist_d = bb_pc.BBFC_mnist_deep()\n",
    "caps_dims = caps_dims = [1, 8, 16, 32, 64, 128]\n",
    "\n",
    "param_mnist_s = bb_pc_vals(model=mnist_d, x=x,caps_dims=caps_dims,  print_vals=True)"
   ]
  },
  {
   "cell_type": "code",
   "execution_count": 6,
   "metadata": {},
   "outputs": [
    {
     "name": "stdout",
     "output_type": "stream",
     "text": [
      "nr. of parmeters:    22881152, 22.881152 Mio\n",
      "image output shape:  torch.Size([1, 1024, 1, 1])\n",
      "layer values 'h':    [[11, 1], [10, 1], [9, 1]]\n",
      "layer values 'w':    [[11, 1], [10, 1], [9, 1]]\n",
      "receptive field:     [28, 28]\n",
      "delta of fields:     [0, 0]\n",
      "shape of primecaps:  [[1024.0, 1.0], [128.0, 8.0], [64.0, 16.0], [32.0, 32.0], [16.0, 64.0], [8.0, 128.0]]\n"
     ]
    }
   ],
   "source": [
    "x = torch.rand(1,1,28,28)\n",
    "mnist_d = bb_pc.BBFC_mnist_nostride()\n",
    "caps_dims = caps_dims = [1, 8, 16, 32, 64, 128]\n",
    "\n",
    "param_mnist_s = bb_pc_vals(model=mnist_d, x=x,caps_dims=caps_dims,  print_vals=True)"
   ]
  },
  {
   "cell_type": "code",
   "execution_count": 7,
   "metadata": {},
   "outputs": [
    {
     "data": {
      "text/plain": [
       "3.6560140474100087"
      ]
     },
     "execution_count": 7,
     "metadata": {},
     "output_type": "execute_result"
    }
   ],
   "source": [
    "5330176/1457920"
   ]
  },
  {
   "cell_type": "markdown",
   "metadata": {},
   "source": [
    "### Smallnorb"
   ]
  },
  {
   "cell_type": "code",
   "execution_count": 8,
   "metadata": {},
   "outputs": [
    {
     "name": "stdout",
     "output_type": "stream",
     "text": [
      "nr. of parmeters:    5833216, 5.833216 Mio\n",
      "image output shape:  torch.Size([1, 256, 5, 5])\n",
      "layer values 'h':    [[32, 1], [9, 2]]\n",
      "layer values 'w':    [[32, 1], [9, 2]]\n",
      "receptive field:     [48, 48]\n",
      "delta of fields:     [0, 0]\n",
      "shape of primecaps:  [[6400.0, 1.0], [800.0, 8.0], [400.0, 16.0], [200.0, 32.0], [100.0, 64.0], [50.0, 128.0]]\n"
     ]
    }
   ],
   "source": [
    "x = torch.rand(1,2,48,48)\n",
    "sm_s_48 = bb_pc.BBFC_smallnorb_shallow_48()\n",
    "caps_dims = [1, 8, 16, 32, 64, 128]\n",
    "param_sm_s_48 = bb_pc_vals(model=sm_s_48, x=x,caps_dims=caps_dims, print_vals=True)"
   ]
  },
  {
   "cell_type": "code",
   "execution_count": 9,
   "metadata": {},
   "outputs": [
    {
     "name": "stdout",
     "output_type": "stream",
     "text": [
      "nr. of parmeters:    8585728, 8.585728 Mio\n",
      "image output shape:  torch.Size([1, 256, 5, 5])\n",
      "layer values 'h':    [[80, 1], [9, 2]]\n",
      "layer values 'w':    [[80, 1], [9, 2]]\n",
      "receptive field:     [96, 96]\n",
      "delta of fields:     [0, 0]\n",
      "shape of primecaps:  [[6400.0, 1.0], [800.0, 8.0], [400.0, 16.0], [200.0, 32.0], [100.0, 64.0], [50.0, 128.0]]\n"
     ]
    }
   ],
   "source": [
    "x = torch.rand(1,2,96,96)\n",
    "sm_s_96 = bb_pc.BBFC_smallnorb_shallow_96()\n",
    "caps_dims = [1, 8, 16, 32, 64, 128]\n",
    "param_sm_s_96 = bb_pc_vals(model=sm_s_96, x=x,caps_dims=caps_dims,  print_vals=True)"
   ]
  },
  {
   "cell_type": "markdown",
   "metadata": {},
   "source": [
    "### Show all possible combinatons"
   ]
  },
  {
   "cell_type": "code",
   "execution_count": 10,
   "metadata": {},
   "outputs": [
    {
     "data": {
      "text/plain": [
       "64"
      ]
     },
     "execution_count": 10,
     "metadata": {},
     "output_type": "execute_result"
    }
   ],
   "source": [
    "a = np.arange(1,5,1)\n",
    "b = np.arange(1,2,1)\n",
    "l = 3\n",
    "\n",
    "L = calc_layer_combs(kernel_range=a, stride_range=b, layer_nr=l)\n",
    "len(L)"
   ]
  },
  {
   "cell_type": "code",
   "execution_count": 11,
   "metadata": {},
   "outputs": [
    {
     "name": "stderr",
     "output_type": "stream",
     "text": [
      "/home/mkoch/projects/EfficientCN/notebooks/bb_pc/./../../misc/utils.py:171: VisibleDeprecationWarning: Creating an ndarray from ragged nested sequences (which is a list-or-tuple of lists-or-tuples-or ndarrays with different lengths or shapes) is deprecated. If you meant to do this, you must specify 'dtype=object' when creating the ndarray.\n",
      "  A = np.array(layer_combs)\n"
     ]
    },
    {
     "data": {
      "text/plain": [
       "(0, [])"
      ]
     },
     "execution_count": 11,
     "metadata": {},
     "output_type": "execute_result"
    }
   ],
   "source": [
    "R = rf_layer_combs(layer_combs=L, rf=36)\n",
    "\n",
    "len(R), R"
   ]
  },
  {
   "cell_type": "markdown",
   "metadata": {},
   "source": [
    "### AFFNIST"
   ]
  },
  {
   "cell_type": "code",
   "execution_count": 12,
   "metadata": {},
   "outputs": [
    {
     "name": "stdout",
     "output_type": "stream",
     "text": [
      "nr. of parmeters:    3682752, 3.682752 Mio\n",
      "image output shape:  torch.Size([1, 256, 4, 4])\n",
      "layer values 'h':    [[5, 1], [7, 1], [3, 1], [3, 2], [7, 2]]\n",
      "layer values 'w':    [[5, 1], [7, 1], [3, 1], [3, 2], [7, 2]]\n",
      "receptive field:     [41, 41]\n",
      "delta of fields:     [1, 1]\n",
      "shape of primecaps:  [[4096.0, 1.0], [512.0, 8.0], [256.0, 16.0], [128.0, 32.0], [64.0, 64.0], [32.0, 128.0]]\n"
     ]
    }
   ],
   "source": [
    "x = torch.rand(1,1,40,40)\n",
    "sm_s_48 = bb_pc.BBFC_affnist_deep()\n",
    "caps_dims = [1, 8, 16, 32, 64, 128]\n",
    "param_sm_s_48 = bb_pc_vals(model=sm_s_48, x=x,caps_dims=caps_dims, print_vals=True)"
   ]
  },
  {
   "cell_type": "code",
   "execution_count": 13,
   "metadata": {},
   "outputs": [
    {
     "name": "stdout",
     "output_type": "stream",
     "text": [
      "nr. of parmeters:    14789888, 14.789888 Mio\n",
      "image output shape:  torch.Size([1, 256, 7, 7])\n",
      "layer values 'h':    [[13, 1], [15, 2]]\n",
      "layer values 'w':    [[13, 1], [15, 2]]\n",
      "receptive field:     [41, 41]\n",
      "delta of fields:     [1, 1]\n",
      "shape of primecaps:  [[12544.0, 1.0], [1568.0, 8.0], [784.0, 16.0], [392.0, 32.0], [196.0, 64.0], [98.0, 128.0]]\n"
     ]
    }
   ],
   "source": [
    "x = torch.rand(1,1,40,40)\n",
    "sm_s_48 = bb_pc.BBFC_affnist_shallow()\n",
    "caps_dims = [1, 8, 16, 32, 64, 128]\n",
    "param_sm_s_48 = bb_pc_vals(model=sm_s_48, x=x,caps_dims=caps_dims, print_vals=True)"
   ]
  },
  {
   "cell_type": "markdown",
   "metadata": {},
   "source": [
    "### choose bb"
   ]
  },
  {
   "cell_type": "code",
   "execution_count": 14,
   "metadata": {},
   "outputs": [
    {
     "data": {
      "text/plain": [
       "CapsNet(\n",
       "  (backbone): BackboneHinton(\n",
       "    (layers): Sequential(\n",
       "      (0): Conv2d(1, 256, kernel_size=(9, 9), stride=(1, 1))\n",
       "      (1): ReLU(inplace=True)\n",
       "    )\n",
       "  )\n",
       "  (primcaps): PrimaryCapsLayer(\n",
       "    (conv): Conv2d(256, 256, kernel_size=(9, 9), stride=(2, 2), padding=valid)\n",
       "    (squash): SquashHinton()\n",
       "  )\n",
       "  (digitcaps): CapsLayer(\n",
       "    (routing_module): AgreementRouting(\n",
       "      (squash): SquashHinton()\n",
       "    )\n",
       "  )\n",
       "  (decoder): Decoder(\n",
       "    (layers): Sequential(\n",
       "      (0): Linear(in_features=160, out_features=512, bias=True)\n",
       "      (1): ReLU(inplace=True)\n",
       "      (2): Linear(in_features=512, out_features=1024, bias=True)\n",
       "      (3): ReLU(inplace=True)\n",
       "      (4): Linear(in_features=1024, out_features=784, bias=True)\n",
       "      (5): Sigmoid()\n",
       "    )\n",
       "  )\n",
       ")"
      ]
     },
     "execution_count": 14,
     "metadata": {},
     "output_type": "execute_result"
    }
   ],
   "source": [
    "T = CapsNet()\n",
    "\n",
    "T.backbone\n",
    "\n",
    "T"
   ]
  },
  {
   "cell_type": "code",
   "execution_count": 15,
   "metadata": {},
   "outputs": [
    {
     "data": {
      "text/plain": [
       "(torch.Size([1, 10, 16]), torch.Size([1, 1, 28, 28]))"
      ]
     },
     "execution_count": 15,
     "metadata": {},
     "output_type": "execute_result"
    }
   ],
   "source": [
    "x = torch.rand(1,1,28,28)\n",
    "o, i = CapsNetNoStride()(x)\n",
    "o.shape, i.shape"
   ]
  },
  {
   "cell_type": "code",
   "execution_count": 16,
   "metadata": {},
   "outputs": [
    {
     "data": {
      "text/plain": [
       "(torch.Size([1, 10, 16]), torch.Size([1, 1, 28, 28]))"
      ]
     },
     "execution_count": 16,
     "metadata": {},
     "output_type": "execute_result"
    }
   ],
   "source": [
    "x = torch.rand(1,1,28,28)\n",
    "o, i = CapsNetDeep()(x)\n",
    "o.shape, i.shape"
   ]
  },
  {
   "cell_type": "code",
   "execution_count": 24,
   "metadata": {},
   "outputs": [
    {
     "name": "stdout",
     "output_type": "stream",
     "text": [
      "torch.Size([1, 16, 8]) torch.Size([1, 10, 16])\n"
     ]
    },
    {
     "data": {
      "text/plain": [
       "(torch.Size([1, 10, 16]), torch.Size([1, 1, 28, 28]))"
      ]
     },
     "execution_count": 24,
     "metadata": {},
     "output_type": "execute_result"
    }
   ],
   "source": [
    "x = torch.rand(1,1,28,28)\n",
    "o, i = CapsNetCross()(x)\n",
    "o.shape, i.shape"
   ]
  },
  {
   "cell_type": "code",
   "execution_count": 25,
   "metadata": {},
   "outputs": [
    {
     "name": "stdout",
     "output_type": "stream",
     "text": [
      "torch.Size([1, 16, 8]) torch.Size([1, 10, 16])\n"
     ]
    },
    {
     "data": {
      "text/plain": [
       "(torch.Size([1, 10, 16]),\n",
       " torch.Size([1, 1, 28, 28]),\n",
       " CapsNetCross(\n",
       "   (backbone): Backbone(\n",
       "     (layers): Sequential(\n",
       "       (0): Conv2d(1, 32, kernel_size=(5, 5), stride=(1, 1), padding=valid)\n",
       "       (1): ReLU(inplace=True)\n",
       "       (2): BatchNorm2d(32, eps=1e-05, momentum=0.1, affine=True, track_running_stats=True)\n",
       "       (3): Conv2d(32, 64, kernel_size=(3, 3), stride=(1, 1), padding=valid)\n",
       "       (4): ReLU(inplace=True)\n",
       "       (5): BatchNorm2d(64, eps=1e-05, momentum=0.1, affine=True, track_running_stats=True)\n",
       "       (6): Conv2d(64, 64, kernel_size=(3, 3), stride=(1, 1), padding=valid)\n",
       "       (7): ReLU(inplace=True)\n",
       "       (8): BatchNorm2d(64, eps=1e-05, momentum=0.1, affine=True, track_running_stats=True)\n",
       "       (9): Conv2d(64, 128, kernel_size=(3, 3), stride=(2, 2), padding=valid)\n",
       "       (10): ReLU(inplace=True)\n",
       "       (11): BatchNorm2d(128, eps=1e-05, momentum=0.1, affine=True, track_running_stats=True)\n",
       "     )\n",
       "   )\n",
       "   (primcaps): PrimaryCaps(\n",
       "     (dw_conv2d): Conv2d(128, 128, kernel_size=(9, 9), stride=(1, 1), padding=valid, groups=128)\n",
       "   )\n",
       "   (squash): SquashHinton()\n",
       "   (digitcaps): CapsLayer(\n",
       "     (routing_module): AgreementRouting(\n",
       "       (squash): SquashHinton()\n",
       "     )\n",
       "   )\n",
       "   (decoder): Decoder(\n",
       "     (layers): Sequential(\n",
       "       (0): Linear(in_features=160, out_features=512, bias=True)\n",
       "       (1): ReLU(inplace=True)\n",
       "       (2): Linear(in_features=512, out_features=1024, bias=True)\n",
       "       (3): ReLU(inplace=True)\n",
       "       (4): Linear(in_features=1024, out_features=784, bias=True)\n",
       "       (5): Sigmoid()\n",
       "     )\n",
       "   )\n",
       " ))"
      ]
     },
     "execution_count": 25,
     "metadata": {},
     "output_type": "execute_result"
    }
   ],
   "source": [
    "x = torch.rand(1,1,28,28)\n",
    "o, i = CapsNetCross()(x)\n",
    "\n",
    "o.shape, i.shape, CapsNetCross()"
   ]
  },
  {
   "cell_type": "code",
   "execution_count": 26,
   "metadata": {},
   "outputs": [
    {
     "name": "stdout",
     "output_type": "stream",
     "text": [
      "torch.Size([1, 1152, 8]) torch.Size([1, 10, 16])\n"
     ]
    },
    {
     "data": {
      "text/plain": [
       "(torch.Size([1, 10, 16]),\n",
       " torch.Size([1, 1, 28, 28]),\n",
       " EffCapsNetCross(\n",
       "   (backbone): BackboneHinton(\n",
       "     (layers): Sequential(\n",
       "       (0): Conv2d(1, 256, kernel_size=(9, 9), stride=(1, 1))\n",
       "       (1): ReLU(inplace=True)\n",
       "     )\n",
       "   )\n",
       "   (primcaps): PrimaryCapsLayer(\n",
       "     (conv): Conv2d(256, 256, kernel_size=(9, 9), stride=(2, 2), padding=valid)\n",
       "   )\n",
       "   (squash): Squash()\n",
       "   (fcncaps): FCCaps(\n",
       "     (squash): Squash()\n",
       "   )\n",
       "   (decoder): Decoder(\n",
       "     (layers): Sequential(\n",
       "       (0): Linear(in_features=160, out_features=512, bias=True)\n",
       "       (1): ReLU(inplace=True)\n",
       "       (2): Linear(in_features=512, out_features=1024, bias=True)\n",
       "       (3): ReLU(inplace=True)\n",
       "       (4): Linear(in_features=1024, out_features=784, bias=True)\n",
       "       (5): Sigmoid()\n",
       "     )\n",
       "   )\n",
       " ))"
      ]
     },
     "execution_count": 26,
     "metadata": {},
     "output_type": "execute_result"
    }
   ],
   "source": [
    "x = torch.rand(1,1,28,28)\n",
    "o, i = EffCapsNetCross()(x)\n",
    "o.shape, i.shape, EffCapsNetCross()"
   ]
  },
  {
   "cell_type": "code",
   "execution_count": 33,
   "metadata": {},
   "outputs": [
    {
     "name": "stdout",
     "output_type": "stream",
     "text": [
      "8227088\n",
      "1573168\n",
      "1573168\n",
      "8227088\n"
     ]
    }
   ],
   "source": [
    "print(count_parameters(CapsNet()))\n",
    "print(count_parameters(EffCapsNet()))\n",
    "print(count_parameters(CapsNetCross()))\n",
    "print(count_parameters(EffCapsNetCross()))\n"
   ]
  }
 ],
 "metadata": {
  "interpreter": {
   "hash": "188faa17072d374bec02d17fca5e544867bade69f71230dfd1a560a6ca303930"
  },
  "kernelspec": {
   "display_name": "Python 3.9.7 ('EffCN': conda)",
   "language": "python",
   "name": "python3"
  },
  "language_info": {
   "codemirror_mode": {
    "name": "ipython",
    "version": 3
   },
   "file_extension": ".py",
   "mimetype": "text/x-python",
   "name": "python",
   "nbconvert_exporter": "python",
   "pygments_lexer": "ipython3",
   "version": "3.9.7"
  },
  "orig_nbformat": 4
 },
 "nbformat": 4,
 "nbformat_minor": 2
}
