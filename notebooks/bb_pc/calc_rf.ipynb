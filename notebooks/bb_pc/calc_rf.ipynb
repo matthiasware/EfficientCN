{
 "cells": [
  {
   "cell_type": "code",
   "execution_count": 80,
   "metadata": {},
   "outputs": [],
   "source": [
    "import sys\n",
    "sys.path.append(\"./../..\")"
   ]
  },
  {
   "cell_type": "code",
   "execution_count": 81,
   "metadata": {},
   "outputs": [
    {
     "name": "stdout",
     "output_type": "stream",
     "text": [
      "The autoreload extension is already loaded. To reload it, use:\n",
      "  %reload_ext autoreload\n"
     ]
    }
   ],
   "source": [
    "%load_ext autoreload\n",
    "%autoreload 2"
   ]
  },
  {
   "cell_type": "code",
   "execution_count": 82,
   "metadata": {},
   "outputs": [],
   "source": [
    "import torch\n",
    "import torch.nn as nn\n",
    "import numpy as np\n",
    "\n",
    "#\n",
    "from misc import bb_pc\n",
    "from misc.utils import count_parameters, calc_receptive_field, layer_conv, bb_pc_vals"
   ]
  },
  {
   "cell_type": "markdown",
   "metadata": {},
   "source": [
    "### MNIST"
   ]
  },
  {
   "cell_type": "code",
   "execution_count": 99,
   "metadata": {},
   "outputs": [
    {
     "name": "stdout",
     "output_type": "stream",
     "text": [
      "nr. of parmeters:    5340416, 5.340415999999999 Mio\n",
      "image output shape:  torch.Size([1, 256, 1, 1])\n",
      "layer values 'h':    [[11, 2], [9, 1]]\n",
      "layer values 'w':    [[11, 2], [9, 1]]\n",
      "receptive field:     [37, 37]\n",
      "delta of fields:     [9, 9]\n",
      "shape of primecaps:  [[256.0, 1.0], [32.0, 8.0], [16.0, 16.0], [8.0, 32.0], [4.0, 64.0], [2.0, 128.0]]\n"
     ]
    }
   ],
   "source": [
    "x = torch.rand(1,1,28,28)\n",
    "mnist_s = bb_pc.BBFC_mnist_shallow()\n",
    "caps_dims = [1, 8, 16, 32, 64, 128]\n",
    "\n",
    "param_mnist_s = bb_pc_vals(model=mnist_s, x=x,caps_dims=caps_dims, print_vals=True)"
   ]
  },
  {
   "cell_type": "code",
   "execution_count": 89,
   "metadata": {},
   "outputs": [
    {
     "name": "stdout",
     "output_type": "stream",
     "text": [
      "nr. of parmeters:    1457920, 1.4579199999999999 Mio\n",
      "image output shape:  torch.Size([1, 128, 1, 1])\n",
      "layer values 'h':    [[5, 1], [3, 1], [3, 1], [3, 2], [9, 1]]\n",
      "layer values 'w':    [[5, 1], [3, 1], [3, 1], [3, 2], [9, 1]]\n",
      "receptive field:     [29, 29]\n",
      "delta of fields:     [1, 1]\n",
      "shape of primecaps:  [[128.0, 1.0], [16.0, 8.0], [8.0, 16.0], [4.0, 32.0], [2.0, 64.0], [1.0, 128.0]]\n"
     ]
    }
   ],
   "source": [
    "x = torch.rand(1,1,28,28)\n",
    "mnist_d = bb_pc.BBFC_mnist_deep()\n",
    "caps_dims = caps_dims = [1, 8, 16, 32, 64, 128]\n",
    "\n",
    "param_mnist_s = bb_pc_vals(model=mnist_d, x=x,caps_dims=caps_dims,  print_vals=True)"
   ]
  },
  {
   "cell_type": "code",
   "execution_count": 86,
   "metadata": {},
   "outputs": [
    {
     "data": {
      "text/plain": [
       "3.6560140474100087"
      ]
     },
     "execution_count": 86,
     "metadata": {},
     "output_type": "execute_result"
    }
   ],
   "source": [
    "5330176/1457920"
   ]
  },
  {
   "cell_type": "markdown",
   "metadata": {},
   "source": [
    "### Smallnorb"
   ]
  },
  {
   "cell_type": "code",
   "execution_count": 87,
   "metadata": {},
   "outputs": [
    {
     "name": "stdout",
     "output_type": "stream",
     "text": [
      "nr. of parmeters:    5833216, 5.833216 Mio\n",
      "image output shape:  torch.Size([1, 256, 5, 5])\n",
      "layer values 'h':    [[32, 1], [9, 2]]\n",
      "layer values 'w':    [[32, 1], [9, 2]]\n",
      "receptive field:     [48, 48]\n",
      "delta of fields:     [0, 0]\n",
      "shape of primecaps:  [[6400.0, 1.0], [800.0, 8.0], [400.0, 16.0], [200.0, 32.0], [100.0, 64.0], [50.0, 128.0]]\n"
     ]
    }
   ],
   "source": [
    "x = torch.rand(1,2,48,48)\n",
    "sm_s_48 = bb_pc.BBFC_smallnorb_shallow_48()\n",
    "caps_dims = [1, 8, 16, 32, 64, 128]\n",
    "param_sm_s_48 = bb_pc_vals(model=sm_s_48, x=x,caps_dims=caps_dims, print_vals=True)"
   ]
  },
  {
   "cell_type": "code",
   "execution_count": 88,
   "metadata": {},
   "outputs": [
    {
     "name": "stdout",
     "output_type": "stream",
     "text": [
      "nr. of parmeters:    8585728, 8.585728 Mio\n",
      "image output shape:  torch.Size([1, 256, 5, 5])\n",
      "layer values 'h':    [[80, 1], [9, 2]]\n",
      "layer values 'w':    [[80, 1], [9, 2]]\n",
      "receptive field:     [96, 96]\n",
      "delta of fields:     [0, 0]\n",
      "shape of primecaps:  [[6400.0, 1.0], [800.0, 8.0], [400.0, 16.0], [200.0, 32.0], [100.0, 64.0], [50.0, 128.0]]\n"
     ]
    }
   ],
   "source": [
    "x = torch.rand(1,2,96,96)\n",
    "sm_s_96 = bb_pc.BBFC_smallnorb_shallow_96()\n",
    "caps_dims = [1, 8, 16, 32, 64, 128]\n",
    "param_sm_s_96 = bb_pc_vals(model=sm_s_96, x=x,caps_dims=caps_dims,  print_vals=True)"
   ]
  },
  {
   "cell_type": "code",
   "execution_count": null,
   "metadata": {},
   "outputs": [],
   "source": []
  }
 ],
 "metadata": {
  "interpreter": {
   "hash": "45a9934b52327ade94263afefa7c58a6815dfd87f5c3e3084453db25103fe880"
  },
  "kernelspec": {
   "display_name": "Python 3.9.7 ('EffCN')",
   "language": "python",
   "name": "python3"
  },
  "language_info": {
   "codemirror_mode": {
    "name": "ipython",
    "version": 3
   },
   "file_extension": ".py",
   "mimetype": "text/x-python",
   "name": "python",
   "nbconvert_exporter": "python",
   "pygments_lexer": "ipython3",
   "version": "3.9.7"
  },
  "orig_nbformat": 4
 },
 "nbformat": 4,
 "nbformat_minor": 2
}
