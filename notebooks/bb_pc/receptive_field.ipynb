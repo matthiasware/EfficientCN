{
 "cells": [
  {
   "cell_type": "code",
   "execution_count": 131,
   "metadata": {},
   "outputs": [],
   "source": [
    "import sys\n",
    "sys.path.append(\"./../..\")"
   ]
  },
  {
   "cell_type": "code",
   "execution_count": 132,
   "metadata": {},
   "outputs": [
    {
     "name": "stdout",
     "output_type": "stream",
     "text": [
      "The autoreload extension is already loaded. To reload it, use:\n",
      "  %reload_ext autoreload\n"
     ]
    }
   ],
   "source": [
    "%load_ext autoreload\n",
    "%autoreload 2"
   ]
  },
  {
   "cell_type": "code",
   "execution_count": 133,
   "metadata": {},
   "outputs": [],
   "source": [
    "import torch\n",
    "import torch.nn as nn\n",
    "import numpy as np\n",
    "\n",
    "#\n",
    "from effcn.models_mnist import CapsNet\n",
    "from misc.utils import count_parameters"
   ]
  },
  {
   "cell_type": "markdown",
   "metadata": {},
   "source": [
    "### receptive firld"
   ]
  },
  {
   "cell_type": "code",
   "execution_count": 165,
   "metadata": {},
   "outputs": [],
   "source": [
    "def rec_fld(L):\n",
    "    L = np.array(L)\n",
    "    r = 1\n",
    "    for i, la in enumerate(L):\n",
    "        r += (la[0] - 1)*np.prod(L[0:i+1,1])\n",
    "    return r"
   ]
  },
  {
   "cell_type": "code",
   "execution_count": 197,
   "metadata": {},
   "outputs": [
    {
     "data": {
      "text/plain": [
       "49"
      ]
     },
     "execution_count": 197,
     "metadata": {},
     "output_type": "execute_result"
    }
   ],
   "source": [
    "\n",
    "l1 = [9,2]\n",
    "l2 = [9,2]\n",
    "\n",
    "\n",
    "L = [l1,l2]\n",
    "\n",
    "L = rec_fld(L)\n",
    "\n",
    "L"
   ]
  },
  {
   "cell_type": "code",
   "execution_count": 262,
   "metadata": {},
   "outputs": [],
   "source": [
    "class BackboneHinton(nn.Module):\n",
    "    \"\"\"\n",
    "        Backbone model from Efficient-CapsNet for MNIST\n",
    "    \"\"\"\n",
    "\n",
    "    def __init__(self):\n",
    "        super().__init__()\n",
    "        self.layers = nn.Sequential(\n",
    "                        nn.Conv2d(1, 256, kernel_size=9, stride=1),\n",
    "                        #nn.Conv2d(256, 32*8, kernel_size=9, stride=2, groups=256),\n",
    "        )\n",
    "\n",
    "    def forward(self, x):\n",
    "        \"\"\"\n",
    "            IN:\n",
    "                x (b, 1, 28, 28)\n",
    "            OUT:\n",
    "                x (b, 128, 9, 9)\n",
    "        \"\"\"\n",
    "        return self.layers(x)"
   ]
  },
  {
   "cell_type": "code",
   "execution_count": 263,
   "metadata": {},
   "outputs": [
    {
     "name": "stdout",
     "output_type": "stream",
     "text": [
      "20992\n"
     ]
    },
    {
     "data": {
      "text/plain": [
       "torch.Size([1, 256, 20, 20])"
      ]
     },
     "execution_count": 263,
     "metadata": {},
     "output_type": "execute_result"
    }
   ],
   "source": [
    "T = BackboneHinton()\n",
    "print(count_parameters(T))\n",
    "x = torch.rand(1,1,28,28)\n",
    "\n",
    "T(x).shape\n",
    "\n",
    "#5329664"
   ]
  },
  {
   "cell_type": "code",
   "execution_count": 208,
   "metadata": {},
   "outputs": [],
   "source": [
    "CN = CapsNet()"
   ]
  },
  {
   "cell_type": "code",
   "execution_count": 209,
   "metadata": {},
   "outputs": [
    {
     "data": {
      "text/plain": [
       "((9, 9), (2, 2))"
      ]
     },
     "execution_count": 209,
     "metadata": {},
     "output_type": "execute_result"
    }
   ],
   "source": [
    "a = CN.backbone.layers[0]\n",
    "b = CN.primcaps.conv\n",
    "\n",
    "a,b\n",
    "\n",
    "a.kernel_size, a.stride\n",
    "b.kernel_size, b.stride\n",
    "\n"
   ]
  },
  {
   "cell_type": "code",
   "execution_count": 210,
   "metadata": {},
   "outputs": [
    {
     "data": {
      "text/plain": [
       "(153, 153, 153)"
      ]
     },
     "execution_count": 210,
     "metadata": {},
     "output_type": "execute_result"
    }
   ],
   "source": [
    "A = nn.Conv2d(in_channels=2, out_channels=3,kernel_size=5,stride=2,padding=0, bias=True)\n",
    "\n",
    "count_parameters(A), 3*2*(5**2)+3, calc_params(ch_in=2, ch_out=3, kernel=5, bias=True)\n",
    "\n"
   ]
  },
  {
   "cell_type": "code",
   "execution_count": 211,
   "metadata": {},
   "outputs": [],
   "source": [
    "def calc_params(ch_in, ch_out, kernel, bias=True):\n",
    "    out = ch_in*ch_out*kernel**2\n",
    "    if bias == True:\n",
    "       out = out + ch_out\n",
    "    return out"
   ]
  },
  {
   "cell_type": "markdown",
   "metadata": {},
   "source": [
    "##### EFFCN"
   ]
  },
  {
   "cell_type": "code",
   "execution_count": 252,
   "metadata": {},
   "outputs": [],
   "source": [
    "bb_effcn = nn.Sequential(\n",
    "            nn.Conv2d(1, 32, kernel_size=(5, 5), padding=\"valid\"),\n",
    "            nn.ReLU(inplace=True),\n",
    "            nn.BatchNorm2d(32),\n",
    "            nn.Conv2d(32, 64, kernel_size=(5, 5), padding=\"valid\"),\n",
    "            nn.ReLU(inplace=True),\n",
    "            nn.BatchNorm2d(64),\n",
    "            nn.Conv2d(64, 64, kernel_size=(5, 5), padding=\"valid\"),\n",
    "            nn.ReLU(inplace=True),\n",
    "            nn.BatchNorm2d(64),\n",
    "            nn.Conv2d(64, 128, kernel_size=(3, 3), stride=1, padding=\"valid\"),\n",
    "            nn.Conv2d(128, 128, kernel_size=9, stride=1, groups=1, padding=\"valid\")\n",
    "        )"
   ]
  },
  {
   "cell_type": "code",
   "execution_count": 253,
   "metadata": {},
   "outputs": [
    {
     "name": "stdout",
     "output_type": "stream",
     "text": [
      "1555968\n"
     ]
    },
    {
     "data": {
      "text/plain": [
       "torch.Size([1, 128, 6, 6])"
      ]
     },
     "execution_count": 253,
     "metadata": {},
     "output_type": "execute_result"
    }
   ],
   "source": [
    "print(count_parameters(bb_effcn))\n",
    "\n",
    "x = torch.rand(1,1,28,28)\n",
    "\n",
    "bb_effcn(x).shape"
   ]
  },
  {
   "cell_type": "code",
   "execution_count": 214,
   "metadata": {},
   "outputs": [
    {
     "data": {
      "text/plain": [
       "(320, 128)"
      ]
     },
     "execution_count": 214,
     "metadata": {},
     "output_type": "execute_result"
    }
   ],
   "source": [
    "130432-130112, 130432-130304\n",
    "\n",
    "\n",
    "228736\n",
    "1555968"
   ]
  },
  {
   "cell_type": "code",
   "execution_count": 226,
   "metadata": {},
   "outputs": [
    {
     "data": {
      "text/plain": [
       "29"
      ]
     },
     "execution_count": 226,
     "metadata": {},
     "output_type": "execute_result"
    }
   ],
   "source": [
    "L_ef= [[5,1],[3,1],[3,1],[3,2],[9,1]]\n",
    "\n",
    "rec_fld(L_ef)"
   ]
  },
  {
   "cell_type": "markdown",
   "metadata": {},
   "source": [
    "##### EM Caps"
   ]
  },
  {
   "cell_type": "code",
   "execution_count": 216,
   "metadata": {},
   "outputs": [],
   "source": [
    "bb_em = nn.Sequential(\n",
    "            nn.Conv2d(in_channels=1, out_channels=32, kernel_size=(5, 5), stride=2, padding=2),\n",
    "            nn.Conv2d(in_channels=32, out_channels=32, kernel_size=(1, 1), stride=1, padding=\"valid\"),\n",
    "        )\n",
    "\n"
   ]
  },
  {
   "cell_type": "code",
   "execution_count": 232,
   "metadata": {},
   "outputs": [
    {
     "data": {
      "text/plain": [
       "torch.Size([1, 32, 14, 14])"
      ]
     },
     "execution_count": 232,
     "metadata": {},
     "output_type": "execute_result"
    }
   ],
   "source": [
    "count_parameters(bb_em)\n",
    "x = torch.rand(1,1,28,28)\n",
    "\n",
    "bb_em(x).shape"
   ]
  },
  {
   "cell_type": "code",
   "execution_count": 218,
   "metadata": {},
   "outputs": [
    {
     "data": {
      "text/plain": [
       "9"
      ]
     },
     "execution_count": 218,
     "metadata": {},
     "output_type": "execute_result"
    }
   ],
   "source": [
    "L_em= [[5,2],[1,1]]\n",
    "\n",
    "rec_fld(L_em)"
   ]
  },
  {
   "cell_type": "code",
   "execution_count": 230,
   "metadata": {},
   "outputs": [
    {
     "data": {
      "text/plain": [
       "CapsNet(\n",
       "  (backbone): BackboneHinton(\n",
       "    (layers): Sequential(\n",
       "      (0): Conv2d(1, 256, kernel_size=(9, 9), stride=(1, 1))\n",
       "      (1): ReLU(inplace=True)\n",
       "      (2): BatchNorm2d(256, eps=1e-05, momentum=0.1, affine=True, track_running_stats=True)\n",
       "    )\n",
       "  )\n",
       "  (primcaps): PrimaryCapsLayer(\n",
       "    (conv): Conv2d(256, 256, kernel_size=(9, 9), stride=(2, 2))\n",
       "  )\n",
       "  (digitcaps): CapsLayer(\n",
       "    (routing_module): AgreementRouting()\n",
       "  )\n",
       "  (decoder): Decoder(\n",
       "    (layers): Sequential(\n",
       "      (0): Linear(in_features=160, out_features=512, bias=True)\n",
       "      (1): ReLU(inplace=True)\n",
       "      (2): Linear(in_features=512, out_features=1024, bias=True)\n",
       "      (3): ReLU(inplace=True)\n",
       "      (4): Linear(in_features=1024, out_features=784, bias=True)\n",
       "      (5): Sigmoid()\n",
       "    )\n",
       "  )\n",
       ")"
      ]
     },
     "execution_count": 230,
     "metadata": {},
     "output_type": "execute_result"
    }
   ],
   "source": [
    "CNnew = CapsNet()\n",
    "\n",
    "CNnew"
   ]
  },
  {
   "cell_type": "code",
   "execution_count": 299,
   "metadata": {},
   "outputs": [],
   "source": [
    "bb_stuff = nn.Sequential(\n",
    "            nn.Conv2d(1, 32, kernel_size=(5, 5), padding=1),\n",
    "            nn.ReLU(inplace=True),\n",
    "            nn.BatchNorm2d(32),\n",
    "            nn.Conv2d(32, 64, kernel_size=(5, 5), padding=0),\n",
    "            #nn.ReLU(inplace=True),\n",
    "            #nn.BatchNorm2d(64),\n",
    "            nn.Conv2d(64, 64, kernel_size=(3, 3), padding=1),\n",
    "            #nn.ReLU(inplace=True),\n",
    "            #nn.BatchNorm2d(64),\n",
    "            nn.Conv2d(64, 128, kernel_size=(3, 3), stride=1, padding=\"valid\"),\n",
    "            nn.Conv2d(128, 128, kernel_size=9, stride=2, groups=1, padding=\"valid\")\n",
    "        )"
   ]
  },
  {
   "cell_type": "code",
   "execution_count": 300,
   "metadata": {},
   "outputs": [
    {
     "name": "stdout",
     "output_type": "stream",
     "text": [
      "1490176\n"
     ]
    },
    {
     "data": {
      "text/plain": [
       "torch.Size([1, 128, 6, 6])"
      ]
     },
     "execution_count": 300,
     "metadata": {},
     "output_type": "execute_result"
    }
   ],
   "source": [
    "print(count_parameters(bb_stuff))\n",
    "x = torch.rand(1,1,28,28)\n",
    "\n",
    "bb_stuff(x).shape"
   ]
  },
  {
   "cell_type": "code",
   "execution_count": 301,
   "metadata": {},
   "outputs": [
    {
     "data": {
      "text/plain": [
       "29"
      ]
     },
     "execution_count": 301,
     "metadata": {},
     "output_type": "execute_result"
    }
   ],
   "source": [
    "L_em= [[5,1],[5,1],[3,1],[3,1],[9,2]]\n",
    "\n",
    "rec_fld(L_em)"
   ]
  }
 ],
 "metadata": {
  "interpreter": {
   "hash": "8d2216f398435973a4480fbf0d4903f2c234bb7e68c0ef08c749bd78784367be"
  },
  "kernelspec": {
   "display_name": "Python 3.9.7 ('EffCN')",
   "language": "python",
   "name": "python3"
  },
  "language_info": {
   "codemirror_mode": {
    "name": "ipython",
    "version": 3
   },
   "file_extension": ".py",
   "mimetype": "text/x-python",
   "name": "python",
   "nbconvert_exporter": "python",
   "pygments_lexer": "ipython3",
   "version": "3.9.7"
  },
  "orig_nbformat": 4
 },
 "nbformat": 4,
 "nbformat_minor": 2
}
