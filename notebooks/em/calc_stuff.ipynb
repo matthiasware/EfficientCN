{
 "cells": [
  {
   "cell_type": "code",
   "execution_count": 1,
   "metadata": {},
   "outputs": [],
   "source": [
    "%load_ext autoreload\n",
    "%autoreload 2"
   ]
  },
  {
   "cell_type": "code",
   "execution_count": 2,
   "metadata": {},
   "outputs": [],
   "source": [
    "import torch"
   ]
  },
  {
   "cell_type": "code",
   "execution_count": null,
   "metadata": {},
   "outputs": [],
   "source": [
    "b = 1\n",
    "B = 32\n",
    "K = 3\n",
    "P = 4\n",
    "C = 32\n",
    "hw = 12\n",
    "\n",
    "param_w = B*K*K*C*P*P\n",
    "param_poses_i = b*B*hw*hw*P*P\n",
    "param_poses_j = b*B*K*K*1*hw*hw*P*P\n",
    "param_w_hat = B*K*K*C*hw*hw*P*P\n",
    "\n",
    "\n",
    "\n",
    "param_w, param_poses_i, param_poses_j, param_w_hat"
   ]
  },
  {
   "cell_type": "code",
   "execution_count": null,
   "metadata": {},
   "outputs": [],
   "source": [
    "at = torch.rand(b,B,K,K,1,hw,hw,4,4)\n",
    "bt = torch.rand(b,B,K,K,C,hw,hw,4,4)\n",
    "\n",
    "votes = torch.matmul(at,bt)\n",
    "\n",
    "votes.numel()"
   ]
  }
 ],
 "metadata": {
  "interpreter": {
   "hash": "8d2216f398435973a4480fbf0d4903f2c234bb7e68c0ef08c749bd78784367be"
  },
  "kernelspec": {
   "display_name": "Python 3.9.7 ('EffCN')",
   "language": "python",
   "name": "python3"
  },
  "language_info": {
   "codemirror_mode": {
    "name": "ipython",
    "version": 3
   },
   "file_extension": ".py",
   "mimetype": "text/x-python",
   "name": "python",
   "nbconvert_exporter": "python",
   "pygments_lexer": "ipython3",
   "version": "3.9.7"
  },
  "orig_nbformat": 4
 },
 "nbformat": 4,
 "nbformat_minor": 2
}
