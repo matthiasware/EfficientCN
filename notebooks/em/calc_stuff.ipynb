{
 "cells": [
  {
   "cell_type": "code",
   "execution_count": 7,
   "metadata": {},
   "outputs": [],
   "source": [
    "%load_ext autoreload\n",
    "%autoreload 2"
   ]
  },
  {
   "cell_type": "code",
   "execution_count": 8,
   "metadata": {},
   "outputs": [],
   "source": [
    "import torch\n",
    "import numpy as np"
   ]
  },
  {
   "cell_type": "code",
   "execution_count": null,
   "metadata": {},
   "outputs": [],
   "source": [
    "b = 1\n",
    "B = 32\n",
    "K = 3\n",
    "P = 4\n",
    "C = 32\n",
    "hw = 12\n",
    "\n",
    "param_w = B*K*K*C*P*P\n",
    "param_poses_i = b*B*hw*hw*P*P\n",
    "param_poses_j = b*B*K*K*1*hw*hw*P*P\n",
    "param_w_hat = B*K*K*C*hw*hw*P*P\n",
    "\n",
    "\n",
    "\n",
    "param_w, param_poses_i, param_poses_j, param_w_hat"
   ]
  },
  {
   "cell_type": "code",
   "execution_count": null,
   "metadata": {},
   "outputs": [],
   "source": [
    "at = torch.rand(b,B,K,K,1,hw,hw,4,4)\n",
    "bt = torch.rand(b,B,K,K,C,hw,hw,4,4)\n",
    "\n",
    "votes = torch.matmul(at,bt)\n",
    "\n",
    "votes.numel()"
   ]
  },
  {
   "cell_type": "markdown",
   "metadata": {},
   "source": [
    "#### Number of Params"
   ]
  },
  {
   "cell_type": "code",
   "execution_count": 9,
   "metadata": {},
   "outputs": [
    {
     "name": "stdout",
     "output_type": "stream",
     "text": [
      "params per capsul: 0.147456 Mio\n",
      "params for conv caps layer 1: 28.901376 Mio\n"
     ]
    }
   ],
   "source": [
    "ch_in = 32\n",
    "ch_out = 32\n",
    "k = 3\n",
    "p = 4\n",
    "\n",
    "#params per capsul\n",
    "p1 = ch_in*ch_out*k*k*p*p\n",
    "\n",
    "h = w = 14\n",
    "\n",
    "print(\"params per capsul: {} Mio\".format(p1/1e6))\n",
    "print(\"params for conv caps layer 1: {} Mio\".format(p1*h*w/1e6))"
   ]
  },
  {
   "cell_type": "code",
   "execution_count": 5,
   "metadata": {},
   "outputs": [
    {
     "data": {
      "text/plain": [
       "1811.939328"
      ]
     },
     "execution_count": 5,
     "metadata": {},
     "output_type": "execute_result"
    }
   ],
   "source": [
    "a = 1024**2*3\n",
    "b = 2*6**2*8\n",
    "\n",
    "a*b/1e6"
   ]
  },
  {
   "cell_type": "markdown",
   "metadata": {},
   "source": [
    "#### receptive field"
   ]
  },
  {
   "cell_type": "code",
   "execution_count": 35,
   "metadata": {},
   "outputs": [],
   "source": [
    "def rec_fld(L):\n",
    "    L = np.array(L)\n",
    "    r = 1\n",
    "    for i, la in enumerate(L):\n",
    "        r += (la[0] - 1)*np.prod(L[0:i,1])\n",
    "    return r"
   ]
  },
  {
   "cell_type": "code",
   "execution_count": 36,
   "metadata": {},
   "outputs": [
    {
     "data": {
      "text/plain": [
       "3"
      ]
     },
     "execution_count": 36,
     "metadata": {},
     "output_type": "execute_result"
    }
   ],
   "source": [
    "\n",
    "l1 = [3,1]\n",
    "l2 = [3,1]\n",
    "\n",
    "L = [l1]\n",
    "\n",
    "L = rec_fld(L)\n",
    "\n",
    "L"
   ]
  }
 ],
 "metadata": {
  "interpreter": {
   "hash": "8d2216f398435973a4480fbf0d4903f2c234bb7e68c0ef08c749bd78784367be"
  },
  "kernelspec": {
   "display_name": "Python 3.9.7 ('EffCN')",
   "language": "python",
   "name": "python3"
  },
  "language_info": {
   "codemirror_mode": {
    "name": "ipython",
    "version": 3
   },
   "file_extension": ".py",
   "mimetype": "text/x-python",
   "name": "python",
   "nbconvert_exporter": "python",
   "pygments_lexer": "ipython3",
   "version": "3.9.7"
  },
  "orig_nbformat": 4
 },
 "nbformat": 4,
 "nbformat_minor": 2
}
