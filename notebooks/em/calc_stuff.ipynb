{
 "cells": [
  {
   "cell_type": "code",
   "execution_count": 1,
   "metadata": {},
   "outputs": [],
   "source": [
    "%load_ext autoreload\n",
    "%autoreload 2"
   ]
  },
  {
   "cell_type": "code",
   "execution_count": 1,
   "metadata": {},
   "outputs": [],
   "source": [
    "import torch\n",
    "import numpy as np"
   ]
  },
  {
   "cell_type": "code",
   "execution_count": null,
   "metadata": {},
   "outputs": [],
   "source": [
    "b = 1\n",
    "B = 32\n",
    "K = 3\n",
    "P = 4\n",
    "C = 32\n",
    "hw = 12\n",
    "\n",
    "param_w = B*K*K*C*P*P\n",
    "param_poses_i = b*B*hw*hw*P*P\n",
    "param_poses_j = b*B*K*K*1*hw*hw*P*P\n",
    "param_w_hat = B*K*K*C*hw*hw*P*P\n",
    "\n",
    "\n",
    "\n",
    "param_w, param_poses_i, param_poses_j, param_w_hat"
   ]
  },
  {
   "cell_type": "code",
   "execution_count": null,
   "metadata": {},
   "outputs": [],
   "source": [
    "at = torch.rand(b,B,K,K,1,hw,hw,4,4)\n",
    "bt = torch.rand(b,B,K,K,C,hw,hw,4,4)\n",
    "\n",
    "votes = torch.matmul(at,bt)\n",
    "\n",
    "votes.numel()"
   ]
  },
  {
   "cell_type": "markdown",
   "metadata": {},
   "source": [
    "#### Number of Params"
   ]
  },
  {
   "cell_type": "code",
   "execution_count": 3,
   "metadata": {},
   "outputs": [
    {
     "data": {
      "text/plain": [
       "(147456, 147456)"
      ]
     },
     "execution_count": 3,
     "metadata": {},
     "output_type": "execute_result"
    }
   ],
   "source": [
    "ch_in = 32\n",
    "ch_out = 32\n",
    "k = 3\n",
    "p = 4\n",
    "\n",
    "#params per capsul\n",
    "p1 = ch_in*ch_out*k*k*p*p\n",
    "p1, 32*9*32*16"
   ]
  }
 ],
 "metadata": {
  "interpreter": {
   "hash": "8d2216f398435973a4480fbf0d4903f2c234bb7e68c0ef08c749bd78784367be"
  },
  "kernelspec": {
   "display_name": "Python 3.9.7 ('EffCN')",
   "language": "python",
   "name": "python3"
  },
  "language_info": {
   "codemirror_mode": {
    "name": "ipython",
    "version": 3
   },
   "file_extension": ".py",
   "mimetype": "text/x-python",
   "name": "python",
   "nbconvert_exporter": "python",
   "pygments_lexer": "ipython3",
   "version": "3.9.7"
  },
  "orig_nbformat": 4
 },
 "nbformat": 4,
 "nbformat_minor": 2
}
