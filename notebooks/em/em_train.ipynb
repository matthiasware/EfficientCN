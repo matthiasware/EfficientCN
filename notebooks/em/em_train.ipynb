{
 "cells": [
  {
   "cell_type": "code",
   "execution_count": 52,
   "metadata": {},
   "outputs": [
    {
     "name": "stdout",
     "output_type": "stream",
     "text": [
      "The autoreload extension is already loaded. To reload it, use:\n",
      "  %reload_ext autoreload\n"
     ]
    }
   ],
   "source": [
    "%load_ext autoreload\n",
    "%autoreload 2"
   ]
  },
  {
   "cell_type": "code",
   "execution_count": 53,
   "metadata": {},
   "outputs": [],
   "source": [
    "import sys\n",
    "sys.path.append(\"./../..\")"
   ]
  },
  {
   "cell_type": "code",
   "execution_count": 54,
   "metadata": {},
   "outputs": [],
   "source": [
    "import math\n",
    "from tqdm import tqdm\n",
    "#\n",
    "import torch\n",
    "import torch.nn as nn\n",
    "import torch.nn.functional as F\n",
    "import torchvision.transforms as T\n",
    "from torch import optim\n",
    "import torchvision.datasets as datasets\n",
    "import numpy as np\n",
    "#\n",
    "from misc.utils import count_parameters\n",
    "from effcn.layers_em import CapsNetEM\n",
    "from effcn.functions_em import spread_loss, func_margin_hinton, func_margin_linear, func_step_rel, func_step_abs, exp_lr_decay, func_acc"
   ]
  },
  {
   "cell_type": "code",
   "execution_count": 55,
   "metadata": {},
   "outputs": [],
   "source": [
    "ds_train = datasets.MNIST(root='../../data', train=True, download=True, transform=T.ToTensor())\n",
    "ds_valid = datasets.MNIST(root=\"../../data\", train=False, download=True, transform=T.ToTensor())"
   ]
  },
  {
   "cell_type": "code",
   "execution_count": 56,
   "metadata": {},
   "outputs": [],
   "source": [
    "dl_train = torch.utils.data.DataLoader(ds_train, \n",
    "                                        batch_size=2, \n",
    "                                        shuffle=True,\n",
    "                                        num_workers=2)\n",
    "\n",
    "dl_valid = torch.utils.data.DataLoader(ds_valid, \n",
    "                                        batch_size=8, \n",
    "                                        shuffle=True,\n",
    "                                        num_workers=2)"
   ]
  },
  {
   "cell_type": "code",
   "execution_count": 57,
   "metadata": {},
   "outputs": [],
   "source": [
    "dev = \"cpu\"\n",
    "device = torch.device(dev)"
   ]
  },
  {
   "cell_type": "code",
   "execution_count": 58,
   "metadata": {},
   "outputs": [
    {
     "data": {
      "text/plain": [
       "952820"
      ]
     },
     "execution_count": 58,
     "metadata": {},
     "output_type": "execute_result"
    }
   ],
   "source": [
    "model = CapsNetEM(A=32, B=32, C=32, D=32,E=10, K=3, P=4, iter=3, hw_out=(28,28), device=dev)\n",
    "model = model.to(device)\n",
    "\n",
    "count_parameters(model)"
   ]
  },
  {
   "cell_type": "code",
   "execution_count": 59,
   "metadata": {},
   "outputs": [],
   "source": [
    "optimizer = optim.Adam(model.parameters(), lr = 0.01, weight_decay=2e-7) "
   ]
  },
  {
   "cell_type": "code",
   "execution_count": 60,
   "metadata": {},
   "outputs": [
    {
     "name": "stderr",
     "output_type": "stream",
     "text": [
      "Train [  0/  2]:          | 0/30000 [00:00<?, ?it/s]"
     ]
    },
    {
     "name": "stdout",
     "output_type": "stream",
     "text": [
      "tensor([[6.5565e-11, 5.0000e-01, 5.0000e-01, 5.0000e-01, 5.0000e-01, 0.0000e+00,\n",
      "         1.7341e-03, 5.0000e-01, 5.0000e-01, 5.0000e-01],\n",
      "        [3.1809e-15, 5.0000e-01, 5.0000e-01, 5.0000e-01, 5.0000e-01, 0.0000e+00,\n",
      "         1.1684e-04, 5.0000e-01, 5.0000e-01, 5.0000e-01]],\n",
      "       grad_fn=<ViewBackward0>) tensor(-0.0225, grad_fn=<SubBackward0>)\n"
     ]
    },
    {
     "name": "stderr",
     "output_type": "stream",
     "text": [
      "Train [  0/  2]:          | 1/30000 [00:05<46:32:05,  5.58s/it, loss=-.0225, acc=0]"
     ]
    },
    {
     "name": "stdout",
     "output_type": "stream",
     "text": [
      "tensor([[6.5565e-11, 5.0000e-01, 5.0000e-01, 5.0000e-01, 5.0000e-01, 0.0000e+00,\n",
      "         1.7341e-03, 5.0000e-01, 5.0000e-01, 5.0000e-01],\n",
      "        [3.1809e-15, 5.0000e-01, 5.0000e-01, 5.0000e-01, 5.0000e-01, 0.0000e+00,\n",
      "         1.1684e-04, 5.0000e-01, 5.0000e-01, 5.0000e-01]],\n",
      "       grad_fn=<ViewBackward0>) tensor(-0.0225, grad_fn=<SubBackward0>)\n",
      "tensor([[nan, nan, nan, nan, nan, nan, nan, nan, nan, nan],\n",
      "        [nan, nan, nan, nan, nan, nan, nan, nan, nan, nan]],\n",
      "       grad_fn=<ViewBackward0>) tensor(nan, grad_fn=<SubBackward0>)\n"
     ]
    },
    {
     "name": "stderr",
     "output_type": "stream",
     "text": [
      "Train [  0/  2]:          | 2/30000 [00:06<24:13:22,  2.91s/it, loss=nan, acc=0.5] "
     ]
    },
    {
     "name": "stdout",
     "output_type": "stream",
     "text": [
      "tensor([[nan, nan, nan, nan, nan, nan, nan, nan, nan, nan],\n",
      "        [nan, nan, nan, nan, nan, nan, nan, nan, nan, nan]],\n",
      "       grad_fn=<ViewBackward0>) tensor(nan, grad_fn=<SubBackward0>)\n",
      "tensor([[nan, nan, nan, nan, nan, nan, nan, nan, nan, nan],\n",
      "        [nan, nan, nan, nan, nan, nan, nan, nan, nan, nan]],\n",
      "       grad_fn=<ViewBackward0>) tensor(nan, grad_fn=<SubBackward0>)\n"
     ]
    },
    {
     "name": "stderr",
     "output_type": "stream",
     "text": [
      "Train [  0/  2]:          | 2/30000 [00:07<24:13:22,  2.91s/it, loss=nan, acc=0]  "
     ]
    },
    {
     "name": "stdout",
     "output_type": "stream",
     "text": [
      "tensor([[nan, nan, nan, nan, nan, nan, nan, nan, nan, nan],\n",
      "        [nan, nan, nan, nan, nan, nan, nan, nan, nan, nan]],\n",
      "       grad_fn=<ViewBackward0>) tensor(nan, grad_fn=<SubBackward0>)\n"
     ]
    },
    {
     "name": "stderr",
     "output_type": "stream",
     "text": [
      "Train [  0/  2]:          | 2/30000 [00:08<33:42:50,  4.05s/it, loss=nan, acc=0]\n"
     ]
    },
    {
     "data": {
      "text/plain": [
       "(tensor([[nan, nan, nan, nan, nan, nan, nan, nan, nan, nan],\n",
       "         [nan, nan, nan, nan, nan, nan, nan, nan, nan, nan]],\n",
       "        grad_fn=<ViewBackward0>),\n",
       " tensor(nan, grad_fn=<SubBackward0>))"
      ]
     },
     "execution_count": 60,
     "metadata": {},
     "output_type": "execute_result"
    }
   ],
   "source": [
    "num_epochs = 2\n",
    "dl_len = len(dl_train)\n",
    "m_max = 0.9\n",
    "m_min = 0.2\n",
    "#\n",
    "for epoch_idx in range(num_epochs):\n",
    "    # ####################\n",
    "    # TRAIN\n",
    "    # ####################\n",
    "    model.train()\n",
    "    desc = \"Train [{:3}/{:3}]:\".format(epoch_idx, num_epochs)\n",
    "    pbar = tqdm(dl_train, bar_format=desc + '{bar:10}{r_bar}{bar:-10b}')\n",
    "    epoch_acc = 0\n",
    "\n",
    "    for idx, (x,y_true) in enumerate(pbar):\n",
    "        x = x.to(device)\n",
    "        y_true = y_true.to(device)\n",
    "        optimizer.zero_grad()\n",
    "\n",
    "        _, y_pred = model(x)\n",
    "\n",
    "        step_rel = func_step_rel(num_epochs, dl_len, epoch_idx, idx)\n",
    "        margin = func_margin_linear(step_rel, m_max, m_min)\n",
    "        loss = spread_loss(y_pred=y_pred, y_true=y_true, m=margin, device=device)\n",
    "        acc = func_acc(y_pred, y_true)\n",
    "\n",
    "        step_abs = func_step_abs(dl_len, epoch_idx, idx)\n",
    "        exp_lr_decay(optimizer = optimizer, global_step = step_abs)\n",
    "\n",
    "        print(y_pred, loss)\n",
    "        loss.backward()\n",
    "        optimizer.step()\n",
    "\n",
    "\n",
    "        pbar.set_postfix(\n",
    "                {'loss': loss.item(),\n",
    "                 'acc': acc.item()\n",
    "                 }\n",
    "        )\n",
    "        print(y_pred, loss)\n",
    "        \n",
    "        if idx >=2:\n",
    "            break\n",
    "\n",
    "    break\n",
    "y_pred, loss"
   ]
  }
 ],
 "metadata": {
  "interpreter": {
   "hash": "8d2216f398435973a4480fbf0d4903f2c234bb7e68c0ef08c749bd78784367be"
  },
  "kernelspec": {
   "display_name": "Python 3.9.7 ('EffCN')",
   "language": "python",
   "name": "python3"
  },
  "language_info": {
   "codemirror_mode": {
    "name": "ipython",
    "version": 3
   },
   "file_extension": ".py",
   "mimetype": "text/x-python",
   "name": "python",
   "nbconvert_exporter": "python",
   "pygments_lexer": "ipython3",
   "version": "3.9.7"
  },
  "orig_nbformat": 4
 },
 "nbformat": 4,
 "nbformat_minor": 2
}
