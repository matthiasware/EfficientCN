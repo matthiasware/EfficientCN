{
 "cells": [
  {
   "cell_type": "code",
   "execution_count": null,
   "id": "3d1038d1",
   "metadata": {},
   "outputs": [],
   "source": [
    "import math\n",
    "import torch\n",
    "import torch.nn as nn\n",
    "import matplotlib.pyplot as plt\n",
    "import torch.nn.functional as F\n",
    "import numpy as np\n",
    "import torchvision\n",
    "#\n",
    "import einops\n",
    "from torchvision import datasets\n",
    "import torchvision.transforms as T\n",
    "import matplotlib.pyplot as plt\n",
    "import random\n",
    "from sklearn.cluster import KMeans\n",
    "#\n"
   ]
  },
  {
   "cell_type": "code",
   "execution_count": null,
   "id": "2338ebf7",
   "metadata": {},
   "outputs": [],
   "source": [
    "class Squash(nn.Module):\n",
    "    def __init__(self, eps=10e-21):\n",
    "        super().__init__()\n",
    "        self.eps = eps\n",
    "\n",
    "    def forward(self, x):\n",
    "        \"\"\"\n",
    "         IN:  (b, n, d)\n",
    "         OUT: squash(x(b,n,d))\n",
    "        \"\"\"\n",
    "        x_norm = torch.norm(x, dim=2, keepdim=True)\n",
    "        return (1 - 1 / (torch.exp(x_norm) + self.eps)) * (x / (x_norm + self.eps))"
   ]
  },
  {
   "cell_type": "code",
   "execution_count": null,
   "id": "419da33c",
   "metadata": {},
   "outputs": [],
   "source": [
    "xx = np.linspace(-0.5, 1.5, 51)\n",
    "\n",
    "t_freq = 2\n",
    "t_symm = 0.5\n",
    "#\n",
    "yy = (1 - np.tanh(t_freq * (xx - t_symm))) * 0.5\n",
    "plt.plot(xx, yy)\n",
    "plt.axvline(t_symm)\n",
    "plt.axvline(0)\n",
    "plt.axvline(1)"
   ]
  },
  {
   "cell_type": "code",
   "execution_count": null,
   "id": "d73f1a48",
   "metadata": {},
   "outputs": [],
   "source": [
    "xx = np.linspace(-0.5, 1.5, 51)\n",
    "\n",
    "t_freq = 3\n",
    "t_symm = 0.5\n",
    "#\n",
    "yy = (1 - np.tanh(t_freq * (xx - t_symm))) * 0.5\n",
    "plt.plot(xx, yy)\n",
    "plt.axvline(t_symm)\n",
    "plt.axvline(0)\n",
    "plt.axvline(1)"
   ]
  },
  {
   "cell_type": "code",
   "execution_count": null,
   "id": "eccdd3ef",
   "metadata": {},
   "outputs": [],
   "source": [
    "xx = np.linspace(-1.5, 1.5, 51)\n",
    "\n",
    "t_freq = 2\n",
    "t_symm = 0\n",
    "#\n",
    "yy = (1 - np.tanh(t_freq * (xx - t_symm))) * 0.5\n",
    "plt.plot(xx, yy)\n",
    "plt.axvline(t_symm)\n",
    "plt.axvline(-1)\n",
    "plt.axvline(1)"
   ]
  },
  {
   "cell_type": "markdown",
   "id": "76236725",
   "metadata": {},
   "source": [
    "# POS. Embedding 4D"
   ]
  },
  {
   "cell_type": "code",
   "execution_count": null,
   "id": "49d9950a",
   "metadata": {},
   "outputs": [],
   "source": [
    "h, w = 28, 28\n",
    "d = 4\n",
    "#\n",
    "pos_w = torch.linspace(0, 1, w)\n",
    "pos_h = torch.linspace(0, 1, h)\n",
    "\n",
    "# linear\n",
    "pe = torch.zeros(4, h, w)\n",
    "pe[0] = torch.linspace(0, 1, w).unsqueeze(1).repeat(1, h)\n",
    "pe[1] = torch.linspace(1, 0, w).unsqueeze(1).repeat(1, h)\n",
    "pe[2] = torch.linspace(0, 1, h).T.repeat(w, 1)\n",
    "pe[3] = torch.linspace(1, 0, h).T.repeat(w, 1)\n",
    "\n",
    "#\n",
    "# exponential -> not symmetric\n",
    "pe = torch.zeros(4, h, w)\n",
    "l = -310\n",
    "pe[0] = torch.exp(torch.linspace(0, 1, w) * -l).unsqueeze(1).repeat(1, h)\n",
    "pe[1] = torch.exp(torch.linspace(1, 0, w) * -l).unsqueeze(1).repeat(1, h)\n",
    "pe[2] = torch.exp(torch.linspace(0, 1, h) * -l).T.repeat(w, 1)\n",
    "pe[3] = torch.exp(torch.linspace(1, 0, h) * -l).T.repeat(w, 1)\n",
    "\n",
    "\n",
    "# tanh\n",
    "t_freq = 3\n",
    "t_symm = 0.5\n",
    "pe[0] = (1 - torch.tanh(t_freq * (torch.linspace(0, 1, w) - t_symm)).unsqueeze(1).repeat(1, h)) * 0.5\n",
    "pe[1] = (1 - torch.tanh(t_freq * (torch.linspace(1, 0, w) - t_symm)).unsqueeze(1).repeat(1, h)) * 0.5\n",
    "pe[2] = (1 - torch.tanh(t_freq * (torch.linspace(0, 1, h) - t_symm)).T.repeat(w, 1)) * 0.5\n",
    "pe[3] = (1 - torch.tanh(t_freq * (torch.linspace(1, 0, h) - t_symm)).T.repeat(w, 1)) * 0.5\n",
    "\n",
    "pe = (pe - pe.min()) / (pe.max() - pe.min())"
   ]
  },
  {
   "cell_type": "code",
   "execution_count": null,
   "id": "1ea40d35",
   "metadata": {},
   "outputs": [],
   "source": [
    "# linear\n",
    "pe = torch.zeros(4, h, w)\n",
    "pe[0] = torch.linspace(0, 1, w).unsqueeze(1).repeat(1, h)\n",
    "pe[1] = torch.linspace(1, 0, w).unsqueeze(1).repeat(1, h)\n",
    "pe[2] = torch.linspace(0, 1, h).T.repeat(w, 1)\n",
    "pe[3] = torch.linspace(1, 0, h).T.repeat(w, 1)"
   ]
  },
  {
   "cell_type": "code",
   "execution_count": null,
   "id": "3327c385",
   "metadata": {},
   "outputs": [],
   "source": [
    "pe.min(), pe.max()"
   ]
  },
  {
   "cell_type": "code",
   "execution_count": null,
   "id": "3718a457",
   "metadata": {},
   "outputs": [],
   "source": [
    "for ipe in pe:\n",
    "    plt.imshow(ipe, cmap=\"gray\")\n",
    "    plt.show()"
   ]
  },
  {
   "cell_type": "code",
   "execution_count": null,
   "id": "47520269",
   "metadata": {},
   "outputs": [],
   "source": [
    "E = pe.permute(1,2,0).reshape(h*w,d)\n",
    "E.shape"
   ]
  },
  {
   "cell_type": "code",
   "execution_count": null,
   "id": "03ad9473",
   "metadata": {},
   "outputs": [],
   "source": [
    "G = []\n",
    "for i in range(h*w):\n",
    "    for j in range(h*w):\n",
    "        a = E[i]\n",
    "        b = E[j]\n",
    "        cs = F.cosine_similarity(a, b, dim=0)\n",
    "        G.append(cs)\n",
    "S = torch.Tensor(G).reshape(h,w,h,w)\n",
    "print(S.min(), S.max(), S.shape)"
   ]
  },
  {
   "cell_type": "markdown",
   "id": "f21866b0",
   "metadata": {},
   "source": [
    "### plot all"
   ]
  },
  {
   "cell_type": "code",
   "execution_count": null,
   "id": "3c58877e",
   "metadata": {},
   "outputs": [],
   "source": [
    "fig, axes = plt.subplots(h,w, figsize=(15, 15))\n",
    "for xi in range(w):\n",
    "    for yi in range(h):\n",
    "        ax = axes[xi][yi]\n",
    "        ax.imshow(S[xi][yi], cmap=\"gray\")\n",
    "        ax.axis('off')\n",
    "plt.show()"
   ]
  },
  {
   "cell_type": "code",
   "execution_count": null,
   "id": "efa43fa7",
   "metadata": {},
   "outputs": [],
   "source": [
    "def pos_tanh_embedding(h, w, t_freq = 2, t_symm = 0.5, scale=True):\n",
    "    pe = torch.zeros(4, h, w)\n",
    "    pe[0] = (1 - torch.tanh(t_freq * (torch.linspace(0, 1, w) - t_symm)).unsqueeze(1).repeat(1, h)) * 0.5\n",
    "    pe[1] = (1 - torch.tanh(t_freq * (torch.linspace(1, 0, w) - t_symm)).unsqueeze(1).repeat(1, h)) * 0.5\n",
    "    pe[2] = (1 - torch.tanh(t_freq * (torch.linspace(0, 1, h) - t_symm)).T.repeat(w, 1)) * 0.5\n",
    "    pe[3] = (1 - torch.tanh(t_freq * (torch.linspace(1, 0, h) - t_symm)).T.repeat(w, 1)) * 0.5\n",
    "    if scale:\n",
    "        pe = (pe - pe.min()) / (pe.max() - pe.min())\n",
    "    return pe"
   ]
  },
  {
   "cell_type": "markdown",
   "id": "1258aebc",
   "metadata": {},
   "source": [
    "# Fourier Encoding"
   ]
  },
  {
   "cell_type": "code",
   "execution_count": null,
   "id": "2dc2d0bb",
   "metadata": {},
   "outputs": [],
   "source": [
    "from math import log, pi\n",
    "from einops import rearrange, repeat\n",
    "from torch import einsum, nn\n",
    "\n",
    "def fourier_encode(x, max_freq, num_bands=4, base=2):\n",
    "    x = x.unsqueeze(-1)\n",
    "    device, dtype, orig_x = x.device, x.dtype, x\n",
    "\n",
    "    scales = torch.logspace(1.,\n",
    "                            log(max_freq / 2) / log(base),\n",
    "                            num_bands,\n",
    "                            base=base,\n",
    "                            device=device,\n",
    "                            dtype=dtype)\n",
    "    scales = scales[(*((None,) * (len(x.shape) - 1)), Ellipsis)]\n",
    "\n",
    "    x = x * scales * pi\n",
    "    x = torch.cat([x.sin(), x.cos()], dim=-1)\n",
    "    x = torch.cat((x, orig_x), dim=-1)\n",
    "\n",
    "    return x\n",
    "\n",
    "\n",
    "def pos_embedding_fourier(data, max_freq=10, num_bands=2, base=2):\n",
    "    b, *axis, _ = data.shape\n",
    "    axis_pos = list(map(lambda size: torch.linspace(-1., 1., steps=size), axis))\n",
    "    pos = torch.stack(torch.meshgrid(*axis_pos), dim=-1)\n",
    "    enc_pos = fourier_encode(\n",
    "        pos,\n",
    "        max_freq,\n",
    "        num_bands,\n",
    "        base)\n",
    "    enc_pos = rearrange(enc_pos, '... n d -> ... (n d)')\n",
    "    enc_pos = repeat(enc_pos, '... -> b ...', b=b)\n",
    "    return enc_pos\n",
    "\n",
    "def pos_fourier_embedding(h, w, max_freq=10, num_bands=2, base=2):\n",
    "    axis = (h, w)\n",
    "    axis_pos = list(map(lambda size: torch.linspace(-1., 1., steps=size), axis))\n",
    "    pos = torch.stack(torch.meshgrid(*axis_pos), dim=-1)\n",
    "    enc_pos = fourier_encode(\n",
    "        pos,\n",
    "        max_freq,\n",
    "        num_bands,\n",
    "        base)\n",
    "    enc_pos = rearrange(enc_pos, '... n d -> ... (n d)')\n",
    "    return enc_pos"
   ]
  },
  {
   "cell_type": "code",
   "execution_count": null,
   "id": "3573b981",
   "metadata": {},
   "outputs": [],
   "source": []
  },
  {
   "cell_type": "code",
   "execution_count": null,
   "id": "19d4aa38",
   "metadata": {},
   "outputs": [],
   "source": [
    "h = w = 16\n",
    "data = torch.rand(1, h, w, 1)\n",
    "pe = pos_embedding_fourier(data, max_freq=10, num_bands=6, base=2)\n",
    "pe = pe.reshape(h*w, -1)\n",
    "#\n",
    "pe.reshape(h*w, -1).shape"
   ]
  },
  {
   "cell_type": "code",
   "execution_count": null,
   "id": "b2c4fa05",
   "metadata": {},
   "outputs": [],
   "source": [
    "E = pe\n",
    "G = []\n",
    "for i in range(h*w):\n",
    "    for j in range(h*w):\n",
    "        a = E[i]\n",
    "        b = E[j]\n",
    "        cs = F.cosine_similarity(a, b, dim=0)\n",
    "        G.append(cs)\n",
    "S = torch.Tensor(G).reshape(h,w,h,w)\n",
    "print(S.min(), S.max(), S.shape)"
   ]
  },
  {
   "cell_type": "code",
   "execution_count": null,
   "id": "260e0a5c",
   "metadata": {},
   "outputs": [],
   "source": [
    "fig, axes = plt.subplots(h,w, figsize=(15, 15))\n",
    "for xi in range(w):\n",
    "    for yi in range(h):\n",
    "        ax = axes[xi][yi]\n",
    "        ax.imshow(S[xi][yi], cmap=\"gray\")\n",
    "        ax.axis('off')\n",
    "plt.show()"
   ]
  },
  {
   "cell_type": "markdown",
   "id": "d5f091fa",
   "metadata": {},
   "source": [
    "# plot utils"
   ]
  },
  {
   "cell_type": "code",
   "execution_count": null,
   "id": "7e982ee2",
   "metadata": {},
   "outputs": [],
   "source": [
    "def pairwise_cosin_sim(E, h=None, w=None, reshape=False):\n",
    "    \"\"\"\n",
    "        IN \n",
    "            E (n, d)\n",
    "        OUT\n",
    "            G (n, n)\n",
    "    \"\"\"\n",
    "    S = []\n",
    "    for ei in E:\n",
    "        for ej in E:\n",
    "            cs = F.cosine_similarity(ei, ej, dim=0)\n",
    "            S.append(cs)\n",
    "    S = torch.Tensor(S)\n",
    "    if reshape:\n",
    "        S = S.reshape(h,w,h,w)\n",
    "    return S\n",
    "\n",
    "def plot_sim_tensor(S, figsize=(10, 10)):\n",
    "    \"\"\"\n",
    "        IN\n",
    "            S (h,w,h,w)\n",
    "    \"\"\"\n",
    "    plt.figure(figsize=figsize)\n",
    "    plt.imshow(S.permute(0,2,1,3).reshape(S.shape[0] * S.shape[1], S.shape[2]*S.shape[3]), cmap=\"gray\")\n",
    "    plt.axis(\"off\")\n",
    "    plt.show()"
   ]
  },
  {
   "cell_type": "markdown",
   "id": "20d6ff4c",
   "metadata": {},
   "source": [
    "### emb on MNIST"
   ]
  },
  {
   "cell_type": "code",
   "execution_count": null,
   "id": "14a27655",
   "metadata": {},
   "outputs": [],
   "source": [
    "ds_train = datasets.MNIST(\n",
    "    root = '/mnt/data/pytorch',\n",
    "    train = True,                         \n",
    "    transform = T.ToTensor(), \n",
    "    download = True,            \n",
    ")\n",
    "ds_test = datasets.MNIST(\n",
    "    root = '/mnt/data/pytorch',\n",
    "    train = False, \n",
    "    transform = T.ToTensor()\n",
    ")"
   ]
  },
  {
   "cell_type": "code",
   "execution_count": null,
   "id": "69d3f9dc",
   "metadata": {},
   "outputs": [],
   "source": [
    "x,_ = ds_train[1]\n",
    "img = x[0][20:27,2:9]\n",
    "print(img.shape)\n",
    "plt.imshow(img, cmap=\"gray\", vmin=0, vmax=1)"
   ]
  },
  {
   "cell_type": "code",
   "execution_count": null,
   "id": "8d55d840",
   "metadata": {},
   "outputs": [],
   "source": [
    "x,_ = ds_train[2]\n",
    "img = x[0]\n",
    "print(img.shape)\n",
    "plt.imshow(img, cmap=\"gray\", vmin=0, vmax=1)"
   ]
  },
  {
   "cell_type": "code",
   "execution_count": null,
   "id": "175569e5",
   "metadata": {},
   "outputs": [],
   "source": [
    "E = pe + x\n",
    "E = E.permute(1,2,0).reshape(28**2, -1)\n",
    "print(E.shape)\n",
    "#\n",
    "E = torch.cat([pe, x], dim=0).permute(1,2,0).reshape(28**2, -1)\n",
    "print(E.shape)"
   ]
  },
  {
   "cell_type": "code",
   "execution_count": null,
   "id": "e16b7519",
   "metadata": {},
   "outputs": [],
   "source": [
    "S = pairwise_cosin_sim(E, 28, 28, True)\n",
    "plot_sim_tensor(S)"
   ]
  },
  {
   "cell_type": "code",
   "execution_count": null,
   "id": "d824e483",
   "metadata": {},
   "outputs": [],
   "source": [
    "R = torch.softmax(E @ E.T, dim=0) @ E\n",
    "S = pairwise_cosin_sim(R, 28, 28, True)\n",
    "plot_sim_tensor(S)\n"
   ]
  },
  {
   "cell_type": "code",
   "execution_count": null,
   "id": "610f645c",
   "metadata": {},
   "outputs": [],
   "source": [
    "for ri in R.reshape(28,28,-1).permute(2,0,1):\n",
    "    plt.imshow(ri, cmap=\"gray\")\n",
    "    print(ri.min(), ri.max())\n",
    "    plt.show()"
   ]
  },
  {
   "cell_type": "markdown",
   "id": "862daf71",
   "metadata": {},
   "source": [
    "### cluster pixels"
   ]
  },
  {
   "cell_type": "code",
   "execution_count": null,
   "id": "e4204cc6",
   "metadata": {},
   "outputs": [],
   "source": [
    "n_clusters = 12\n",
    "#\n",
    "kmeans = KMeans(n_clusters=n_clusters, random_state=0).fit(E)\n",
    "Y = kmeans.predict(E)\n",
    "Y = Y.reshape(28, 28) / n_clusters\n",
    "ce = kmeans.cluster_centers_\n",
    "plt.imshow(Y)\n",
    "plt.show()\n",
    "#\n",
    "kmeans = KMeans(n_clusters=n_clusters, random_state=0).fit(R)\n",
    "Y = kmeans.predict(R)\n",
    "Y = Y.reshape(28, 28) / n_clusters\n",
    "cr = kmeans.cluster_centers_\n",
    "plt.imshow(Y)\n",
    "plt.show()"
   ]
  },
  {
   "cell_type": "code",
   "execution_count": null,
   "id": "8fd95005",
   "metadata": {},
   "outputs": [],
   "source": [
    "n_min = 4\n",
    "n_max = 16\n",
    "\n",
    "clusters = list(range(n_min, n_max + 1, 2))\n",
    "\n",
    "fig, axes = plt.subplots(1, len(clusters), figsize=(len(clusters) * 4, 4))\n",
    "\n",
    "for idx in range(len(clusters)):\n",
    "    n_clusters = clusters[idx]\n",
    "    ax = axes[idx]\n",
    "    #\n",
    "    kmeans = KMeans(n_clusters=n_clusters, random_state=0).fit(E)\n",
    "    Y = kmeans.predict(E)\n",
    "    Y = Y.reshape(28, 28) / n_clusters\n",
    "    ce = kmeans.cluster_centers_\n",
    "    ax.imshow(Y)\n",
    "    ax.set_title(str(n_clusters))\n",
    "plt.show()"
   ]
  },
  {
   "cell_type": "code",
   "execution_count": null,
   "id": "22a50732",
   "metadata": {},
   "outputs": [],
   "source": [
    "k = 5\n",
    "C = torch.Tensor(ce)\n",
    "C = torch.cat([torch.rand(10, 5), torch.Tensor(ce)], dim=0)\n",
    "C.shape, E.shape"
   ]
  },
  {
   "cell_type": "code",
   "execution_count": null,
   "id": "fdb454f8",
   "metadata": {},
   "outputs": [],
   "source": [
    "temp = 0.01\n",
    "S = (E @ C.T) / temp\n",
    "A = torch.softmax(S, dim=1)"
   ]
  },
  {
   "cell_type": "code",
   "execution_count": null,
   "id": "59f33382",
   "metadata": {},
   "outputs": [],
   "source": [
    "AT = torch.einsum(\"nk, k -> nk\",A, A.sum(dim=0) / E.shape[0] * k)\n",
    "#\n",
    "AT = torch.softmax(AT / temp, dim=1)"
   ]
  },
  {
   "cell_type": "code",
   "execution_count": null,
   "id": "c677d691",
   "metadata": {},
   "outputs": [],
   "source": [
    "Y = AT.argmax(dim=1)\n",
    "set(list(np.array(Y)))"
   ]
  },
  {
   "cell_type": "code",
   "execution_count": null,
   "id": "8c580737",
   "metadata": {},
   "outputs": [],
   "source": [
    "plt.imshow(Y.reshape(28, 28))"
   ]
  },
  {
   "cell_type": "markdown",
   "id": "0292a11d",
   "metadata": {},
   "source": [
    "### emb on CIFAR"
   ]
  },
  {
   "cell_type": "code",
   "execution_count": null,
   "id": "2591e924",
   "metadata": {},
   "outputs": [],
   "source": [
    "ds = torchvision.datasets.CIFAR10(\n",
    "    root='/mnt/data/pytorch', train=True, download=True, transform=T.ToTensor())"
   ]
  },
  {
   "cell_type": "code",
   "execution_count": null,
   "id": "fcb6c46c",
   "metadata": {},
   "outputs": [],
   "source": [
    "x,_ = ds[11]\n",
    "plt.imshow(x.permute(1,2,0))\n",
    "x.shape"
   ]
  },
  {
   "cell_type": "markdown",
   "id": "50941465",
   "metadata": {},
   "source": [
    "### emb with position - channels cross product"
   ]
  },
  {
   "cell_type": "code",
   "execution_count": null,
   "id": "23d2aef0",
   "metadata": {},
   "outputs": [],
   "source": [
    "pe = pos_tanh_embedding(32, 32)\n",
    "print(pe.shape, x.shape)"
   ]
  },
  {
   "cell_type": "code",
   "execution_count": null,
   "id": "63cd5ee6",
   "metadata": {},
   "outputs": [],
   "source": [
    "E = torch.einsum(\"ijk, ljk -> iljk\", pe, x).reshape(3*4,32,32)"
   ]
  },
  {
   "cell_type": "code",
   "execution_count": null,
   "id": "1b16824b",
   "metadata": {},
   "outputs": [],
   "source": [
    "G = []\n",
    "E = E.permute(1,2,0).reshape(32*32, -1)\n",
    "for i in range(32*32):\n",
    "    for j in range(32*32):\n",
    "        a = E[i]\n",
    "        b = E[j]\n",
    "        cs = F.cosine_similarity(a, b, dim=0)\n",
    "        G.append(cs)\n",
    "S = torch.Tensor(G).reshape(32,32,32,32)\n",
    "print(S.min(), S.max(), S.shape)"
   ]
  },
  {
   "cell_type": "code",
   "execution_count": null,
   "id": "aae161f2",
   "metadata": {},
   "outputs": [],
   "source": [
    "plt.figure(figsize=(10,10))\n",
    "plt.imshow(S.permute(0,2,1,3).reshape(32*32, 32*32), cmap=\"gray\")\n",
    "plt.axis(\"off\")"
   ]
  },
  {
   "cell_type": "markdown",
   "id": "730decac",
   "metadata": {},
   "source": [
    "### emb with position CAT"
   ]
  },
  {
   "cell_type": "code",
   "execution_count": null,
   "id": "3a4ee0a8",
   "metadata": {},
   "outputs": [],
   "source": [
    "pe = pos_tanh_embedding(32, 32)\n",
    "E = torch.cat((x, pe), dim=0)\n",
    "E.shape"
   ]
  },
  {
   "cell_type": "code",
   "execution_count": null,
   "id": "4d62a5bf",
   "metadata": {},
   "outputs": [],
   "source": [
    "G = []\n",
    "E = E.permute(1,2,0).reshape(32*32, -1)\n",
    "for i in range(32*32):\n",
    "    for j in range(32*32):\n",
    "        a = E[i]\n",
    "        b = E[j]\n",
    "        cs = F.cosine_similarity(a, b, dim=0)\n",
    "        G.append(cs)\n",
    "S = torch.Tensor(G).reshape(32,32,32,32)\n",
    "print(S.min(), S.max(), S.shape)"
   ]
  },
  {
   "cell_type": "code",
   "execution_count": null,
   "id": "dc7711c5",
   "metadata": {},
   "outputs": [],
   "source": [
    "plt.figure(figsize=(10,10))\n",
    "plt.imshow(S.permute(0,2,1,3).reshape(32*32, 32*32), cmap=\"gray\")\n",
    "plt.axis(\"off\")"
   ]
  },
  {
   "cell_type": "markdown",
   "id": "032c6fe2",
   "metadata": {},
   "source": [
    "### emb without position"
   ]
  },
  {
   "cell_type": "code",
   "execution_count": null,
   "id": "e3733fc6",
   "metadata": {},
   "outputs": [],
   "source": [
    "pe = pos_tanh_embedding(32, 32)\n",
    "#E = torch.cat((x, pe), dim=0)\n",
    "E = x\n",
    "E.shape"
   ]
  },
  {
   "cell_type": "code",
   "execution_count": null,
   "id": "f482481f",
   "metadata": {},
   "outputs": [],
   "source": [
    "G = []\n",
    "E = E.permute(1,2,0).reshape(32*32, -1)\n",
    "for i in range(32*32):\n",
    "    for j in range(32*32):\n",
    "        a = E[i]\n",
    "        b = E[j]\n",
    "        cs = F.cosine_similarity(a, b, dim=0)\n",
    "        G.append(cs)\n",
    "S = torch.Tensor(G).reshape(32,32,32,32)\n",
    "print(S.min(), S.max(), S.shape)"
   ]
  },
  {
   "cell_type": "code",
   "execution_count": null,
   "id": "f306589b",
   "metadata": {},
   "outputs": [],
   "source": [
    "plt.figure(figsize=(10,10))\n",
    "plt.imshow(S.permute(0,2,1,3).reshape(32*32, 32*32), cmap=\"gray\")\n",
    "plt.axis(\"off\")"
   ]
  }
 ],
 "metadata": {
  "kernelspec": {
   "display_name": "Python 3 (ipykernel)",
   "language": "python",
   "name": "python3"
  },
  "language_info": {
   "codemirror_mode": {
    "name": "ipython",
    "version": 3
   },
   "file_extension": ".py",
   "mimetype": "text/x-python",
   "name": "python",
   "nbconvert_exporter": "python",
   "pygments_lexer": "ipython3",
   "version": "3.8.12"
  },
  "latex_envs": {
   "LaTeX_envs_menu_present": true,
   "autoclose": false,
   "autocomplete": true,
   "bibliofile": "biblio.bib",
   "cite_by": "apalike",
   "current_citInitial": 1,
   "eqLabelWithNumbers": true,
   "eqNumInitial": 1,
   "hotkeys": {
    "equation": "Ctrl-E",
    "itemize": "Ctrl-I"
   },
   "labels_anchors": false,
   "latex_user_defs": false,
   "report_style_numbering": false,
   "user_envs_cfg": false
  }
 },
 "nbformat": 4,
 "nbformat_minor": 5
}
