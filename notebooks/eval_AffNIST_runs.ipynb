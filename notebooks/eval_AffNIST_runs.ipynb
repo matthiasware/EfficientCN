{
 "cells": [
  {
   "cell_type": "code",
   "execution_count": null,
   "id": "5448c997",
   "metadata": {},
   "outputs": [],
   "source": [
    "from pathlib import Path\n",
    "import sys\n",
    "import math\n",
    "import pickle\n",
    "#\n",
    "import torch\n",
    "import matplotlib.pyplot as plt\n",
    "import matplotlib.image as mpimg\n",
    "import numpy as np"
   ]
  },
  {
   "cell_type": "code",
   "execution_count": null,
   "id": "0e3759a6",
   "metadata": {},
   "outputs": [],
   "source": [
    "from pathlib import Path\n",
    "import pickle"
   ]
  },
  {
   "cell_type": "code",
   "execution_count": null,
   "id": "0315e66c",
   "metadata": {},
   "outputs": [],
   "source": [
    "p_experiments = Path(\"/mnt/experiments/effcn/affnist/grid_search/\")"
   ]
  },
  {
   "cell_type": "code",
   "execution_count": null,
   "id": "93efb5d9",
   "metadata": {
    "scrolled": false
   },
   "outputs": [],
   "source": [
    "runs_nan = []\n",
    "runs_success = []\n",
    "for p_experiment in p_experiments.iterdir():\n",
    "    p_config = p_experiment / \"config.pkl\"\n",
    "    p_stats = p_experiment / \"stats.pkl\"\n",
    "    if not p_stats.exists():\n",
    "        continue\n",
    "    with open(p_config, \"rb\") as file:\n",
    "        config = pickle.load(file)\n",
    "    with open(p_stats, \"rb\") as file:\n",
    "        stats = pickle.load(file)\n",
    "        all_accs = stats[\"valid\"][\"affnist\"][\"acc\"]\n",
    "        if math.isnan(stats[\"train\"][\"loss\"][-1]):\n",
    "            runs_nan.append((config, stats))\n",
    "        else:\n",
    "            runs_success.append((config, stats))\n",
    "        max_acc = max(all_accs)\n",
    "        print(\"bs={:4d}, lr={:.5f}, wd={:.5f} rec_weights={:8.5f}  max_acc={:.4f} notes={}\".format(\n",
    "            config.train.batch_size,\n",
    "            config.optimizer_args.lr,\n",
    "            config.optimizer_args.weight_decay,\n",
    "            config.loss.rec.weight,\n",
    "            max_acc,\n",
    "            stats[\"notes\"]\n",
    "             )\n",
    "             )"
   ]
  },
  {
   "cell_type": "code",
   "execution_count": null,
   "id": "44d6b438",
   "metadata": {},
   "outputs": [],
   "source": [
    "print(\"#success:      \", len(runs_success))\n",
    "print(\"#failed (nan): \", len(runs_nan))"
   ]
  },
  {
   "cell_type": "markdown",
   "id": "3e414167",
   "metadata": {},
   "source": [
    "# Check failed runs"
   ]
  },
  {
   "cell_type": "code",
   "execution_count": null,
   "id": "549a1b17",
   "metadata": {},
   "outputs": [],
   "source": [
    "for config, stats in runs_nan:\n",
    "    all_accs = stats[\"valid\"][\"affnist\"][\"acc\"]\n",
    "    max_acc = max(all_accs)\n",
    "    print(\"bs={:4d}, lr={:.5f}, wd={:.5f} rec_weights={:8.5f}  max_acc={:.4f} notes={}\".format(\n",
    "            config.train.batch_size,\n",
    "            config.optimizer_args.lr,\n",
    "            config.optimizer_args.weight_decay,\n",
    "            config.loss.rec.weight,\n",
    "            max_acc,\n",
    "            stats[\"notes\"]\n",
    "             )\n",
    "             )"
   ]
  },
  {
   "cell_type": "markdown",
   "id": "57a6ee69",
   "metadata": {},
   "source": [
    "Results:\n",
    "- failed when LR was high and weight decay was small and batch size was small"
   ]
  },
  {
   "cell_type": "markdown",
   "id": "84daec55",
   "metadata": {},
   "source": [
    "# Check successruns with high lr"
   ]
  },
  {
   "cell_type": "code",
   "execution_count": null,
   "id": "88e29567",
   "metadata": {},
   "outputs": [],
   "source": [
    "for config, stats in runs_success:\n",
    "    if config.optimizer_args.lr != 1e-2:\n",
    "        continue\n",
    "    all_accs = stats[\"valid\"][\"affnist\"][\"acc\"]\n",
    "    max_acc = max(all_accs)\n",
    "    print(\"bs={:4d}, lr={:.5f}, wd={:.5f} rec_weights={:8.5f}  max_acc={:.4f} notes={}\".format(\n",
    "            config.train.batch_size,\n",
    "            config.optimizer_args.lr,\n",
    "            config.optimizer_args.weight_decay,\n",
    "            config.loss.rec.weight,\n",
    "            max_acc,\n",
    "            stats[\"notes\"]\n",
    "             )\n",
    "             )"
   ]
  },
  {
   "cell_type": "markdown",
   "id": "c6329ddd",
   "metadata": {},
   "source": [
    "Results:\n",
    "- weight decay can compensate large learning rates"
   ]
  },
  {
   "cell_type": "markdown",
   "id": "1f7bda05",
   "metadata": {},
   "source": [
    "# All Time Highs"
   ]
  },
  {
   "cell_type": "code",
   "execution_count": null,
   "id": "d1a03e9e",
   "metadata": {},
   "outputs": [],
   "source": [
    "for config, stats in runs_success:\n",
    "    all_accs = stats[\"valid\"][\"affnist\"][\"acc\"]\n",
    "    max_acc = max(all_accs)\n",
    "    if max_acc < 0.87:\n",
    "        continue\n",
    "    print(\"bs={:4d}, lr={:.5f}, wd={:.5f} rec_weights={:8.5f}  max_acc={:.4f}, n_epochs={}\".format(\n",
    "            config.train.batch_size,\n",
    "            config.optimizer_args.lr,\n",
    "            config.optimizer_args.weight_decay,\n",
    "            config.loss.rec.weight,\n",
    "            max_acc,\n",
    "            len(all_accs)\n",
    "             )\n",
    "             )"
   ]
  },
  {
   "cell_type": "markdown",
   "id": "3190385c",
   "metadata": {},
   "source": [
    "# Compare effect of WD vs NWD on ACC"
   ]
  },
  {
   "cell_type": "code",
   "execution_count": null,
   "id": "82023ec3",
   "metadata": {},
   "outputs": [],
   "source": [
    "# with weight decay vs without weight decay\n",
    "acc_vals = {}\n",
    "for config, stats in runs_success:\n",
    "    all_accs = stats[\"valid\"][\"affnist\"][\"acc\"][-50:]\n",
    "    acc_mean = np.mean(all_accs)\n",
    "    acc_min = np.min(all_accs)\n",
    "    acc_max = np.max(all_accs)\n",
    "    acc_var = np.var(all_accs)\n",
    "    wd = config.optimizer_args.weight_decay\n",
    "    if wd not in acc_vals:\n",
    "        acc_vals[wd] = []\n",
    "    acc_vals[wd].append((acc_mean, acc_min, acc_max, acc_var))"
   ]
  },
  {
   "cell_type": "code",
   "execution_count": null,
   "id": "dc673fa7",
   "metadata": {},
   "outputs": [],
   "source": [
    "wd_acc = [(wd, np.array(vals).mean(axis=0)) for wd, vals in acc_vals.items()]\n",
    "wd_acc = sorted(wd_acc, key=lambda x: x[0])\n",
    "for wd, vals in wd_acc:\n",
    "    print(\"wd={:.5f}: mean={:.4f} min={:.4f} max={:.4f} var={:.8f}\".format(wd, vals[0], vals[1], vals[2], vals[3]))"
   ]
  },
  {
   "cell_type": "markdown",
   "id": "ff35a80c",
   "metadata": {},
   "source": [
    "results:\n",
    "- weight decay stabilizes training\n",
    "- weight decay results in better accuracy"
   ]
  },
  {
   "cell_type": "markdown",
   "id": "ed932807",
   "metadata": {},
   "source": [
    "# Compare effect of REC vs NO REC on ACC"
   ]
  },
  {
   "cell_type": "code",
   "execution_count": null,
   "id": "9019c0ac",
   "metadata": {},
   "outputs": [],
   "source": [
    "# with weight decay vs without weight decay\n",
    "acc_vals = {}\n",
    "for config, stats in runs_success:\n",
    "    all_accs = stats[\"valid\"][\"affnist\"][\"acc\"][-30:]\n",
    "    if max(all_accs) < 0.85:\n",
    "        continue\n",
    "    acc_mean = np.mean(all_accs)\n",
    "    acc_min = np.min(all_accs)\n",
    "    acc_max = np.max(all_accs)\n",
    "    acc_var = np.var(all_accs)\n",
    "    rec = config.loss.rec.weight\n",
    "    if rec not in acc_vals:\n",
    "        acc_vals[rec] = []\n",
    "    acc_vals[rec].append((acc_mean, acc_min, acc_max, acc_var))"
   ]
  },
  {
   "cell_type": "code",
   "execution_count": null,
   "id": "25e3690e",
   "metadata": {},
   "outputs": [],
   "source": [
    "rec_acc = [(rec, np.array(vals).mean(axis=0)) for rec, vals in acc_vals.items()]\n",
    "rec_acc = sorted(rec_acc, key=lambda x: x[0])\n",
    "for rec, vals in rec_acc:\n",
    "    print(\"rec={:.5f}: mean={:.4f} min={:.4f} max={:.4f} var={:.8f}\".format(rec, vals[0], vals[1], vals[2], vals[3]))"
   ]
  },
  {
   "cell_type": "markdown",
   "id": "1cd07c4c",
   "metadata": {},
   "source": [
    "results:\n",
    "- reconstruction loss does not have a large impact on the acc\n",
    "- when comparing just the best models, acc actually drops!"
   ]
  },
  {
   "cell_type": "markdown",
   "id": "3e11fe46",
   "metadata": {},
   "source": [
    "# Compare effect of BS on ACC"
   ]
  },
  {
   "cell_type": "markdown",
   "id": "188df7c3",
   "metadata": {},
   "source": [
    "# Compare effect of lr on ACC"
   ]
  },
  {
   "cell_type": "markdown",
   "id": "1a0b8b5a",
   "metadata": {},
   "source": [
    "# Check reconstructions"
   ]
  },
  {
   "cell_type": "code",
   "execution_count": null,
   "id": "2292f367",
   "metadata": {},
   "outputs": [],
   "source": [
    "for config, stats in runs_success:\n",
    "    all_accs = stats[\"valid\"][\"affnist\"][\"acc\"]\n",
    "    max_acc = max(all_accs)\n",
    "    if max_acc < 0.85 or config.train.batch_size != 128 or config.optimizer_args.lr != 0.001:\n",
    "        continue\n",
    "    print(\"bs={:4d}, lr={:.5f}, wd={:.5f} rec_weights={:8.5f}  max_acc={:.4f}, n_epochs={}, {}\".format(\n",
    "            config.train.batch_size,\n",
    "            config.optimizer_args.lr,\n",
    "            config.optimizer_args.weight_decay,\n",
    "            config.loss.rec.weight,\n",
    "            max_acc,\n",
    "            len(all_accs),\n",
    "            stats[\"notes\"]\n",
    "             )\n",
    "             )\n",
    "    model_dir = config.names.model_dir\n",
    "    print(\"tensorboard --logdir={}/logs\".format(p_experiments / model_dir))"
   ]
  },
  {
   "cell_type": "markdown",
   "id": "c73bd570",
   "metadata": {},
   "source": [
    "results:\n",
    "- reconstructions were really bad for all of those with low rec weight"
   ]
  },
  {
   "cell_type": "code",
   "execution_count": null,
   "id": "a8148b2f",
   "metadata": {},
   "outputs": [],
   "source": [
    "# next find good reconstuctions to understand which factors impact the reconstuction quality!"
   ]
  },
  {
   "cell_type": "code",
   "execution_count": null,
   "id": "06a4a0c7",
   "metadata": {
    "scrolled": false
   },
   "outputs": [],
   "source": [
    "for config, stats in runs_success:\n",
    "    all_accs = stats[\"valid\"][\"affnist\"][\"acc\"]\n",
    "    max_acc = max(all_accs)\n",
    "    if max_acc < 0.8:\n",
    "        continue\n",
    "    print(\"bs={:4d}, lr={:.5f}, wd={:.5f} rec_weights={:8.5f}  max_acc={:.4f}, n_epochs={}, {}\".format(\n",
    "            config.train.batch_size,\n",
    "            config.optimizer_args.lr,\n",
    "            config.optimizer_args.weight_decay,\n",
    "            config.loss.rec.weight,\n",
    "            max_acc,\n",
    "            len(all_accs),\n",
    "            stats[\"notes\"]\n",
    "             )\n",
    "             )\n",
    "    model_dir = config.names.model_dir\n",
    "    p_imgs = p_experiments / model_dir / config.names.img_dir\n",
    "    p_img_val = p_imgs / \"img_valid_affnist_150.png\"\n",
    "    if not p_img_val.exists():\n",
    "        continue\n",
    "    img = mpimg.imread(p_img_val)\n",
    "    plt.imshow(img)\n",
    "    plt.show()"
   ]
  },
  {
   "cell_type": "code",
   "execution_count": null,
   "id": "0a1d572f",
   "metadata": {},
   "outputs": [],
   "source": [
    "p_imgs / \"img_valid_mnist_150.png\""
   ]
  },
  {
   "cell_type": "code",
   "execution_count": null,
   "id": "bcbbaca9",
   "metadata": {},
   "outputs": [],
   "source": []
  }
 ],
 "metadata": {
  "kernelspec": {
   "display_name": "Python 3 (ipykernel)",
   "language": "python",
   "name": "python3"
  },
  "language_info": {
   "codemirror_mode": {
    "name": "ipython",
    "version": 3
   },
   "file_extension": ".py",
   "mimetype": "text/x-python",
   "name": "python",
   "nbconvert_exporter": "python",
   "pygments_lexer": "ipython3",
   "version": "3.8.12"
  },
  "latex_envs": {
   "LaTeX_envs_menu_present": true,
   "autoclose": false,
   "autocomplete": true,
   "bibliofile": "biblio.bib",
   "cite_by": "apalike",
   "current_citInitial": 1,
   "eqLabelWithNumbers": true,
   "eqNumInitial": 1,
   "hotkeys": {
    "equation": "Ctrl-E",
    "itemize": "Ctrl-I"
   },
   "labels_anchors": false,
   "latex_user_defs": false,
   "report_style_numbering": false,
   "user_envs_cfg": false
  }
 },
 "nbformat": 4,
 "nbformat_minor": 5
}
