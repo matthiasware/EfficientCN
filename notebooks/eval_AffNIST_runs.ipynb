{
 "cells": [
  {
   "cell_type": "code",
   "execution_count": null,
   "id": "e7315c11",
   "metadata": {},
   "outputs": [],
   "source": [
    "import sys\n",
    "sys.path.append(\"./../\")"
   ]
  },
  {
   "cell_type": "code",
   "execution_count": null,
   "id": "5448c997",
   "metadata": {},
   "outputs": [],
   "source": [
    "from pathlib import Path\n",
    "import math\n",
    "import pickle\n",
    "#\n",
    "import torch\n",
    "import matplotlib.pyplot as plt\n",
    "import matplotlib.image as mpimg\n",
    "import numpy as np\n",
    "#\n",
    "from misc.plot_utils import plot_mat"
   ]
  },
  {
   "cell_type": "code",
   "execution_count": null,
   "id": "0315e66c",
   "metadata": {},
   "outputs": [],
   "source": [
    "p_experiments = Path(\"/mnt/experiments/effcn/affnist/grid_search_wob/\")\n",
    "p_experiments.exists()"
   ]
  },
  {
   "cell_type": "markdown",
   "id": "59c9c713",
   "metadata": {},
   "source": [
    "# ALL RUNS"
   ]
  },
  {
   "cell_type": "code",
   "execution_count": null,
   "id": "93efb5d9",
   "metadata": {
    "scrolled": false
   },
   "outputs": [],
   "source": [
    "runs_nan = []\n",
    "runs_success = []\n",
    "for p_experiment in p_experiments.iterdir():\n",
    "    p_config = p_experiment / \"config.pkl\"\n",
    "    p_stats = p_experiment / \"stats.pkl\"\n",
    "    if not p_stats.exists():\n",
    "        continue\n",
    "    with open(p_config, \"rb\") as file:\n",
    "        config = pickle.load(file)\n",
    "    with open(p_stats, \"rb\") as file:\n",
    "        stats = pickle.load(file)\n",
    "        all_accs = stats[\"valid\"][\"affnist\"][\"acc\"]\n",
    "        if math.isnan(stats[\"train\"][\"loss\"][-1]):\n",
    "            runs_nan.append((config, stats))\n",
    "        else:\n",
    "            runs_success.append((config, stats))\n",
    "        max_acc = max(all_accs)\n",
    "        #print(\"bs={:4d}, lr={:.5f}, wd={:.5f} rec_weights={:8.5f}  max_acc={:.4f} notes={}\".format(\n",
    "        #    config.train.batch_size,\n",
    "        #    config.optimizer_args.lr,\n",
    "        #    config.optimizer_args.weight_decay,\n",
    "        #    config.loss.rec.weight,\n",
    "        #    max_acc,\n",
    "        #    stats[\"notes\"]\n",
    "        #     )\n",
    "        #     )"
   ]
  },
  {
   "cell_type": "code",
   "execution_count": null,
   "id": "44d6b438",
   "metadata": {},
   "outputs": [],
   "source": [
    "print(\"#success:      \", len(runs_success))\n",
    "print(\"#failed (nan): \", len(runs_nan))"
   ]
  },
  {
   "cell_type": "markdown",
   "id": "3e414167",
   "metadata": {},
   "source": [
    "# Check failed runs"
   ]
  },
  {
   "cell_type": "code",
   "execution_count": null,
   "id": "549a1b17",
   "metadata": {},
   "outputs": [],
   "source": [
    "for config, stats in runs_nan:\n",
    "    all_accs = stats[\"valid\"][\"affnist\"][\"acc\"]\n",
    "    max_acc = max(all_accs)\n",
    "    print(\"bs={:4d}, lr={:.5f}, wd={:.5f} rec_weights={:8.5f}  max_acc={:.4f} notes={}\".format(\n",
    "            config.train.batch_size,\n",
    "            config.optimizer_args.lr,\n",
    "            config.optimizer_args.weight_decay,\n",
    "            config.loss.rec.weight,\n",
    "            max_acc,\n",
    "            stats[\"notes\"]\n",
    "             )\n",
    "             )"
   ]
  },
  {
   "cell_type": "code",
   "execution_count": null,
   "id": "3a510e14",
   "metadata": {},
   "outputs": [],
   "source": [
    "data = []\n",
    "for config, stats in runs_nan:\n",
    "    lr = config.optimizer_args.lr\n",
    "    bs = config.train.batch_size\n",
    "    wd = config.optimizer_args.weight_decay\n",
    "    rl = config.loss.rec.weight\n",
    "    #\n",
    "    data.append([lr, bs, wd, rl, 1.0])\n",
    "for config, stats in runs_success:\n",
    "    lr = config.optimizer_args.lr\n",
    "    bs = config.train.batch_size\n",
    "    wd = config.optimizer_args.weight_decay\n",
    "    rl = config.loss.rec.weight\n",
    "    #\n",
    "    data.append([lr, bs, wd, rl, 0.0])\n",
    "data = np.array(data)\n",
    "names = [\"lr\", \"bs\", \"weight_decay\", \"rec_loss\", \"nan in loss\"]"
   ]
  },
  {
   "cell_type": "code",
   "execution_count": null,
   "id": "45072b2c",
   "metadata": {},
   "outputs": [],
   "source": [
    "C = np.corrcoef(data.T)\n",
    "plot_mat(C, row_names=names, col_names=names, scale_factor=1, title=\"Effect of parameters on Training Success or Failure due to NaN\")"
   ]
  },
  {
   "cell_type": "markdown",
   "id": "57a6ee69",
   "metadata": {},
   "source": [
    "Results:\n",
    "- failed when LR was high and weight decay was small and batch size was small"
   ]
  },
  {
   "cell_type": "markdown",
   "id": "84daec55",
   "metadata": {},
   "source": [
    "# Check successruns with high lr"
   ]
  },
  {
   "cell_type": "code",
   "execution_count": null,
   "id": "88e29567",
   "metadata": {},
   "outputs": [],
   "source": [
    "for config, stats in runs_success:\n",
    "    if config.optimizer_args.lr != 1e-2:\n",
    "        continue\n",
    "    all_accs_an = stats[\"valid\"][\"affnist\"][\"acc\"]\n",
    "    all_accs_mn = stats[\"valid\"][\"mnist\"][\"acc\"]\n",
    "    max_acc_an = max(all_accs_an)\n",
    "    max_acc_mn = max(all_accs_mn)\n",
    "    print(\"bs={:4d}, lr={:.5f}, wd={:.5f} rec_weights={:8.5f}  max_acc_aff={:.4f} max_acc_mn={:.4f}\".format(\n",
    "            config.train.batch_size,\n",
    "            config.optimizer_args.lr,\n",
    "            config.optimizer_args.weight_decay,\n",
    "            config.loss.rec.weight,\n",
    "            max_acc_an,\n",
    "            max_acc_mn\n",
    "             )\n",
    "             )"
   ]
  },
  {
   "cell_type": "markdown",
   "id": "c6329ddd",
   "metadata": {},
   "source": [
    "Results:\n",
    "- weight decay can compensate large learning rates"
   ]
  },
  {
   "cell_type": "markdown",
   "id": "1f7bda05",
   "metadata": {},
   "source": [
    "# All Time Highs"
   ]
  },
  {
   "cell_type": "code",
   "execution_count": null,
   "id": "d1a03e9e",
   "metadata": {},
   "outputs": [],
   "source": [
    "for config, stats in runs_success:\n",
    "    all_accs_an = stats[\"valid\"][\"affnist\"][\"acc\"]\n",
    "    all_accs_mn = stats[\"valid\"][\"mnist\"][\"acc\"]\n",
    "    max_acc_an = max(all_accs_an)\n",
    "    max_acc_mn = max(all_accs_mn)\n",
    "    if max_acc_an < 0.87:\n",
    "        continue\n",
    "    print(\"bs={:4d}, lr={:.5f}, wd={:.5f} rec_weights={:8.5f}  max_acc_aff={:.4f} max_acc_mn={:.4f}\".format(\n",
    "            config.train.batch_size,\n",
    "            config.optimizer_args.lr,\n",
    "            config.optimizer_args.weight_decay,\n",
    "            config.loss.rec.weight,\n",
    "            max_acc_an,\n",
    "            max_acc_mn\n",
    "             )\n",
    "             )\n",
    "    print(p_experiments / config.names.model_dir)"
   ]
  },
  {
   "cell_type": "code",
   "execution_count": null,
   "id": "c80de599",
   "metadata": {},
   "outputs": [],
   "source": [
    "p_experiments"
   ]
  },
  {
   "cell_type": "markdown",
   "id": "3190385c",
   "metadata": {},
   "source": [
    "# Compare effect of WD vs NWD on ACC"
   ]
  },
  {
   "cell_type": "code",
   "execution_count": null,
   "id": "82023ec3",
   "metadata": {},
   "outputs": [],
   "source": [
    "# with weight decay vs without weight decay\n",
    "acc_vals = {}\n",
    "for config, stats in runs_success:\n",
    "    all_accs = stats[\"valid\"][\"affnist\"][\"acc\"][-50:]\n",
    "    acc_mean = np.mean(all_accs)\n",
    "    acc_min = np.min(all_accs)\n",
    "    acc_max = np.max(all_accs)\n",
    "    acc_var = np.var(all_accs)\n",
    "    wd = config.optimizer_args.weight_decay\n",
    "    if wd not in acc_vals:\n",
    "        acc_vals[wd] = []\n",
    "    acc_vals[wd].append((acc_mean, acc_min, acc_max, acc_var))"
   ]
  },
  {
   "cell_type": "code",
   "execution_count": null,
   "id": "dc673fa7",
   "metadata": {},
   "outputs": [],
   "source": [
    "wd_acc = [(wd, np.array(vals).mean(axis=0)) for wd, vals in acc_vals.items()]\n",
    "wd_acc = sorted(wd_acc, key=lambda x: x[0])\n",
    "for wd, vals in wd_acc:\n",
    "    print(\"wd={:.5f}: mean={:.4f} min={:.4f} max={:.4f} var={:.8f}\".format(wd, vals[0], vals[1], vals[2], vals[3]))"
   ]
  },
  {
   "cell_type": "markdown",
   "id": "ff35a80c",
   "metadata": {},
   "source": [
    "results:\n",
    "- weight decay stabilizes training\n",
    "- weight decay results in better accuracy"
   ]
  },
  {
   "cell_type": "markdown",
   "id": "ed932807",
   "metadata": {},
   "source": [
    "# Compare effect of REC vs NO REC on ACC"
   ]
  },
  {
   "cell_type": "code",
   "execution_count": null,
   "id": "9019c0ac",
   "metadata": {},
   "outputs": [],
   "source": [
    "# with weight decay vs without weight decay\n",
    "acc_vals = {}\n",
    "for config, stats in runs_success:\n",
    "    all_accs = stats[\"valid\"][\"affnist\"][\"acc\"][-30:]\n",
    "    acc_mean = np.mean(all_accs)\n",
    "    acc_min = np.min(all_accs)\n",
    "    acc_max = np.max(all_accs)\n",
    "    acc_var = np.var(all_accs)\n",
    "    rec = config.loss.rec.weight\n",
    "    if rec not in acc_vals:\n",
    "        acc_vals[rec] = []\n",
    "    acc_vals[rec].append((acc_mean, acc_min, acc_max, acc_var))"
   ]
  },
  {
   "cell_type": "code",
   "execution_count": null,
   "id": "25e3690e",
   "metadata": {},
   "outputs": [],
   "source": [
    "rec_acc = [(rec, np.array(vals).mean(axis=0)) for rec, vals in acc_vals.items()]\n",
    "rec_acc = sorted(rec_acc, key=lambda x: x[0])\n",
    "for rec, vals in rec_acc:\n",
    "    print(\"rec={:.5f}: mean={:.4f} min={:.4f} max={:.4f} var={:.8f}\".format(rec, vals[0], vals[1], vals[2], vals[3]))"
   ]
  },
  {
   "cell_type": "code",
   "execution_count": null,
   "id": "b0feb1cc",
   "metadata": {},
   "outputs": [],
   "source": [
    "# with weight decay vs without weight decay\n",
    "acc_vals = {}\n",
    "for config, stats in runs_success:\n",
    "    all_accs = stats[\"valid\"][\"affnist\"][\"acc\"][-30:]\n",
    "    if max(all_accs) < 0.80:\n",
    "        continue\n",
    "    acc_mean = np.mean(all_accs)\n",
    "    acc_min = np.min(all_accs)\n",
    "    acc_max = np.max(all_accs)\n",
    "    acc_var = np.var(all_accs)\n",
    "    rec = config.loss.rec.weight\n",
    "    if rec not in acc_vals:\n",
    "        acc_vals[rec] = []\n",
    "    acc_vals[rec].append((acc_mean, acc_min, acc_max, acc_var))"
   ]
  },
  {
   "cell_type": "code",
   "execution_count": null,
   "id": "d7d7c366",
   "metadata": {},
   "outputs": [],
   "source": [
    "rec_acc = [(rec, np.array(vals).mean(axis=0)) for rec, vals in acc_vals.items()]\n",
    "rec_acc = sorted(rec_acc, key=lambda x: x[0])\n",
    "for rec, vals in rec_acc:\n",
    "    print(\"rec={:.5f}: mean={:.4f} min={:.4f} max={:.4f} var={:.8f}\".format(rec, vals[0], vals[1], vals[2], vals[3]))"
   ]
  },
  {
   "cell_type": "markdown",
   "id": "1cd07c4c",
   "metadata": {},
   "source": [
    "results:\n",
    "- reconstruction loss does not have a large impact on the acc\n",
    "- when comparing just the best models, acc actually drops!"
   ]
  },
  {
   "cell_type": "markdown",
   "id": "6549c9e2",
   "metadata": {},
   "source": [
    "# Compare effect of BS on ACC"
   ]
  },
  {
   "cell_type": "code",
   "execution_count": null,
   "id": "f583016d",
   "metadata": {},
   "outputs": [],
   "source": [
    "# with weight decay vs without weight decay\n",
    "acc_vals = {}\n",
    "for config, stats in runs_success:\n",
    "    all_accs = stats[\"valid\"][\"affnist\"][\"acc\"][-30:]\n",
    "    acc_mean = np.mean(all_accs)\n",
    "    acc_min = np.min(all_accs)\n",
    "    acc_max = np.max(all_accs)\n",
    "    acc_var = np.var(all_accs)\n",
    "    bs = config.train.batch_size\n",
    "    if bs not in acc_vals:\n",
    "        acc_vals[bs] = []\n",
    "    acc_vals[bs].append((acc_mean, acc_min, acc_max, acc_var))"
   ]
  },
  {
   "cell_type": "code",
   "execution_count": null,
   "id": "fbc7bc71",
   "metadata": {},
   "outputs": [],
   "source": [
    "bs_acc = [(bs, np.array(vals).mean(axis=0)) for bs, vals in acc_vals.items()]\n",
    "bs_acc = sorted(bs_acc, key=lambda x: x[0])\n",
    "for bs, vals in bs_acc:\n",
    "    print(\"bs={:04d}: mean={:.4f} min={:.4f} max={:.4f} var={:.8f}\".format(bs, vals[0], vals[1], vals[2], vals[3]))"
   ]
  },
  {
   "cell_type": "code",
   "execution_count": null,
   "id": "479185eb",
   "metadata": {},
   "outputs": [],
   "source": [
    "# with weight decay vs without weight decay\n",
    "acc_vals = {}\n",
    "for config, stats in runs_success:\n",
    "    all_accs = stats[\"valid\"][\"affnist\"][\"acc\"][-30:]\n",
    "    if max(all_accs) < 0.80:\n",
    "        continue\n",
    "    acc_mean = np.mean(all_accs)\n",
    "    acc_min = np.min(all_accs)\n",
    "    acc_max = np.max(all_accs)\n",
    "    acc_var = np.var(all_accs)\n",
    "    bs = config.train.batch_size\n",
    "    if bs not in acc_vals:\n",
    "        acc_vals[bs] = []\n",
    "    acc_vals[bs].append((acc_mean, acc_min, acc_max, acc_var))\n",
    "print(len(acc_vals[bs]))"
   ]
  },
  {
   "cell_type": "code",
   "execution_count": null,
   "id": "67d5eac0",
   "metadata": {},
   "outputs": [],
   "source": [
    "bs_acc = [(bs, np.array(vals).mean(axis=0)) for bs, vals in acc_vals.items()]\n",
    "bs_acc = sorted(bs_acc, key=lambda x: x[0])\n",
    "for bs, vals in bs_acc:\n",
    "    print(\"bs={:04d}: mean={:.4f} min={:.4f} max={:.4f} var={:.8f}\".format(bs, vals[0], vals[1], vals[2], vals[3]))"
   ]
  },
  {
   "cell_type": "markdown",
   "id": "4e68db52",
   "metadata": {},
   "source": [
    "# Compare effect of lr on ACC"
   ]
  },
  {
   "cell_type": "code",
   "execution_count": null,
   "id": "a18a132a",
   "metadata": {},
   "outputs": [],
   "source": [
    "# with weight decay vs without weight decay\n",
    "acc_vals = {}\n",
    "for config, stats in runs_success:\n",
    "    all_accs = stats[\"valid\"][\"affnist\"][\"acc\"][-10:]\n",
    "    if max(all_accs) < 0.7:\n",
    "        continue\n",
    "    acc_mean = np.mean(all_accs)\n",
    "    acc_min = np.min(all_accs)\n",
    "    acc_max = np.max(all_accs)\n",
    "    acc_var = np.var(all_accs)\n",
    "    lr = config.optimizer_args.lr\n",
    "    if lr not in acc_vals:\n",
    "        acc_vals[lr] = []\n",
    "    acc_vals[lr].append((acc_mean, acc_min, acc_max, acc_var))"
   ]
  },
  {
   "cell_type": "code",
   "execution_count": null,
   "id": "ce84d618",
   "metadata": {},
   "outputs": [],
   "source": [
    "lr_acc = [(lr, np.array(vals).mean(axis=0)) for lr, vals in acc_vals.items()]\n",
    "lr_acc = sorted(lr_acc, key=lambda x: x[0])\n",
    "for lr, vals in lr_acc:\n",
    "    print(\"lr={:.5f}: mean={:.4f} min={:.4f} max={:.4f} var={:.8f}\".format(lr, vals[0], vals[1], vals[2], vals[3]))"
   ]
  },
  {
   "cell_type": "code",
   "execution_count": null,
   "id": "559c794d",
   "metadata": {},
   "outputs": [],
   "source": [
    "# with weight decay vs without weight decay\n",
    "acc_vals = {}\n",
    "for config, stats in runs_success:\n",
    "    all_accs = stats[\"valid\"][\"affnist\"][\"acc\"][-10:]\n",
    "    if max(all_accs) < 0.80:\n",
    "        continue\n",
    "    acc_mean = np.mean(all_accs)\n",
    "    acc_min = np.min(all_accs)\n",
    "    acc_max = np.max(all_accs)\n",
    "    acc_var = np.var(all_accs)\n",
    "    lr = config.optimizer_args.lr\n",
    "    if lr not in acc_vals:\n",
    "        acc_vals[lr] = []\n",
    "    acc_vals[lr].append((acc_mean, acc_min, acc_max, acc_var))\n",
    "print(len(acc_vals[lr]))"
   ]
  },
  {
   "cell_type": "code",
   "execution_count": null,
   "id": "edd734b5",
   "metadata": {},
   "outputs": [],
   "source": [
    "lr_acc = [(lr, np.array(vals).mean(axis=0)) for lr, vals in acc_vals.items()]\n",
    "lr_acc = sorted(lr_acc, key=lambda x: x[0])\n",
    "for lr, vals in lr_acc:\n",
    "    print(\"lr={:.5f}: mean={:.4f} min={:.4f} max={:.4f} var={:.8f}\".format(lr, vals[0], vals[1], vals[2], vals[3]))"
   ]
  },
  {
   "cell_type": "markdown",
   "id": "1a0b8b5a",
   "metadata": {},
   "source": [
    "# Check reconstructions"
   ]
  },
  {
   "cell_type": "code",
   "execution_count": null,
   "id": "2292f367",
   "metadata": {},
   "outputs": [],
   "source": [
    "for config, stats in runs_success:\n",
    "    all_accs = stats[\"valid\"][\"affnist\"][\"acc\"]\n",
    "    max_acc = max(all_accs)\n",
    "    if max_acc < 0.85 or config.train.batch_size != 128 or config.optimizer_args.lr != 0.001:\n",
    "        continue\n",
    "    print(\"bs={:4d}, lr={:.5f}, wd={:.5f} rec_weights={:8.5f}  max_acc={:.4f}, n_epochs={}, {}\".format(\n",
    "            config.train.batch_size,\n",
    "            config.optimizer_args.lr,\n",
    "            config.optimizer_args.weight_decay,\n",
    "            config.loss.rec.weight,\n",
    "            max_acc,\n",
    "            len(all_accs),\n",
    "            stats[\"notes\"]\n",
    "             )\n",
    "             )\n",
    "    model_dir = config.names.model_dir\n",
    "    print(\"tensorboard --logdir={}/logs\".format(p_experiments / model_dir))"
   ]
  },
  {
   "cell_type": "markdown",
   "id": "c73bd570",
   "metadata": {},
   "source": [
    "results:\n",
    "- reconstructions were really bad for all of those with low rec weight"
   ]
  },
  {
   "cell_type": "code",
   "execution_count": null,
   "id": "a8148b2f",
   "metadata": {},
   "outputs": [],
   "source": [
    "# next find good reconstuctions to understand which factors impact the reconstuction quality!"
   ]
  },
  {
   "cell_type": "markdown",
   "id": "2eb9d8cb",
   "metadata": {},
   "source": [
    "# Correlation"
   ]
  },
  {
   "cell_type": "code",
   "execution_count": null,
   "id": "14a0b6d6",
   "metadata": {},
   "outputs": [],
   "source": [
    "last_n_epochs = 20\n",
    "\n",
    "data = []\n",
    "# with weight decay vs without weight decay\n",
    "acc_vals = {}\n",
    "for config, stats in runs_success:\n",
    "    accs_train = stats[\"train\"][\"acc\"][-last_n_epochs:]\n",
    "    accs_mn_valid = stats[\"valid\"][\"mnist\"][\"acc\"][-last_n_epochs:]\n",
    "    accs_an_valid = stats[\"valid\"][\"affnist\"][\"acc\"][-last_n_epochs:]\n",
    "\n",
    "    acc_train_mean = np.mean(accs_train)\n",
    "    acc_valid_mn_mean = np.mean(accs_mn_valid)\n",
    "    acc_valid_an_mean = np.mean(accs_an_valid)\n",
    "    #\n",
    "    lr = config.optimizer_args.lr\n",
    "    bs = config.train.batch_size\n",
    "    wd = config.optimizer_args.weight_decay\n",
    "    rl = config.loss.rec.weight\n",
    "    #\n",
    "    data.append([lr, bs, wd, rl, acc_train_mean, acc_valid_mn_mean, acc_valid_an_mean])\n",
    "    #acc_mean = np.mean(all_accs)\n",
    "    #acc_min = np.min(all_accs)\n",
    "    #acc_max = np.max(all_accs)\n",
    "    #acc_var = np.var(all_accs)\n",
    "    #bs = config.train.batch_size\n",
    "    #if bs not in acc_vals:\n",
    "    #    acc_vals[bs] = []\n",
    "    #acc_vals[bs].append((acc_mean, acc_min, acc_max, acc_var))\n",
    "data = np.array(data)\n",
    "names = [\"lr\", \"bs\", \"weight_decay\", \"rec_loss\", \"acc_train\", \"acc_mn\", \"acc_an\"]"
   ]
  },
  {
   "cell_type": "code",
   "execution_count": null,
   "id": "7859c85b",
   "metadata": {},
   "outputs": [],
   "source": [
    "print(data.shape)"
   ]
  },
  {
   "cell_type": "code",
   "execution_count": null,
   "id": "078d518a",
   "metadata": {},
   "outputs": [],
   "source": [
    "C = np.corrcoef(data.T)\n",
    "plot_mat(C, row_names=names, col_names=names, scale_factor=1)"
   ]
  },
  {
   "cell_type": "code",
   "execution_count": null,
   "id": "6b0117b7",
   "metadata": {},
   "outputs": [],
   "source": []
  }
 ],
 "metadata": {
  "kernelspec": {
   "display_name": "Python 3 (ipykernel)",
   "language": "python",
   "name": "python3"
  },
  "language_info": {
   "codemirror_mode": {
    "name": "ipython",
    "version": 3
   },
   "file_extension": ".py",
   "mimetype": "text/x-python",
   "name": "python",
   "nbconvert_exporter": "python",
   "pygments_lexer": "ipython3",
   "version": "3.8.12"
  },
  "latex_envs": {
   "LaTeX_envs_menu_present": true,
   "autoclose": false,
   "autocomplete": true,
   "bibliofile": "biblio.bib",
   "cite_by": "apalike",
   "current_citInitial": 1,
   "eqLabelWithNumbers": true,
   "eqNumInitial": 1,
   "hotkeys": {
    "equation": "Ctrl-E",
    "itemize": "Ctrl-I"
   },
   "labels_anchors": false,
   "latex_user_defs": false,
   "report_style_numbering": false,
   "user_envs_cfg": false
  }
 },
 "nbformat": 4,
 "nbformat_minor": 5
}
