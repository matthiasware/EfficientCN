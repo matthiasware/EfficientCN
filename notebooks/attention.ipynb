{
 "cells": [
  {
   "cell_type": "code",
   "execution_count": null,
   "id": "1f0132cc",
   "metadata": {},
   "outputs": [],
   "source": [
    "import torch\n",
    "import einops\n",
    "from torchvision import datasets\n",
    "import torchvision.transforms as T\n",
    "import matplotlib.pyplot as plt\n",
    "import random"
   ]
  },
  {
   "cell_type": "code",
   "execution_count": null,
   "id": "0e9f60df",
   "metadata": {},
   "outputs": [],
   "source": [
    "ds_train = datasets.MNIST(\n",
    "    root = '/mnt/data/pytorch',\n",
    "    train = True,                         \n",
    "    transform = T.ToTensor(), \n",
    "    download = True,            \n",
    ")\n",
    "ds_test = datasets.MNIST(\n",
    "    root = '/mnt/data/pytorch',\n",
    "    train = False, \n",
    "    transform = T.ToTensor()\n",
    ")"
   ]
  },
  {
   "cell_type": "code",
   "execution_count": null,
   "id": "c3ddd6e3",
   "metadata": {},
   "outputs": [],
   "source": [
    "x,_ = ds_train[0]\n",
    "img = x[0][20:27,2:9]\n",
    "print(img.shape)\n",
    "plt.imshow(img, cmap=\"gray\", vmin=0, vmax=1)"
   ]
  },
  {
   "cell_type": "code",
   "execution_count": null,
   "id": "1f62c217",
   "metadata": {},
   "outputs": [],
   "source": [
    "x = img\n",
    "xx = []\n",
    "for xi in x.flatten():\n",
    "    for xj in x.flatten():\n",
    "        xx.append(1 - torch.abs(xi - xj))"
   ]
  },
  {
   "cell_type": "code",
   "execution_count": null,
   "id": "162a9c09",
   "metadata": {},
   "outputs": [],
   "source": [
    "d = torch.tensor(xx).reshape(7,7,7,7)\n",
    "print(d.min(), d.max())"
   ]
  },
  {
   "cell_type": "code",
   "execution_count": null,
   "id": "4444dedc",
   "metadata": {},
   "outputs": [],
   "source": [
    "fig, axes = plt.subplots(7,7, figsize=(10, 10))\n",
    "for xi in range(7):\n",
    "    for yi in range(7):\n",
    "        ax = axes[xi][yi]\n",
    "        ax.imshow(d[xi][yi], vmin=0, vmax=1, cmap=\"gray\")\n",
    "plt.show()"
   ]
  },
  {
   "cell_type": "code",
   "execution_count": null,
   "id": "7d4bc7e6",
   "metadata": {},
   "outputs": [],
   "source": [
    "a = torch.tensor(xx).reshape(7**2, 7**2)"
   ]
  },
  {
   "cell_type": "code",
   "execution_count": null,
   "id": "2d52fb98",
   "metadata": {},
   "outputs": [],
   "source": [
    "C = torch.softmax(a, dim=-1)\n",
    "x_hat = torch.einsum('ij,j->i', C, x.flatten()).reshape((7,7))\n",
    "plt.imshow(x_hat, cmap=\"gray\", vmin=0, vmax=1)"
   ]
  },
  {
   "cell_type": "code",
   "execution_count": null,
   "id": "5afef923",
   "metadata": {},
   "outputs": [],
   "source": [
    "x.min(), x.max()"
   ]
  },
  {
   "cell_type": "code",
   "execution_count": null,
   "id": "1a4ba835",
   "metadata": {},
   "outputs": [],
   "source": [
    "x_hat.min(), x_hat.max()"
   ]
  },
  {
   "cell_type": "code",
   "execution_count": null,
   "id": "c034ce51",
   "metadata": {},
   "outputs": [],
   "source": [
    "A = a.reshape(7,7,-1)"
   ]
  },
  {
   "cell_type": "code",
   "execution_count": null,
   "id": "01a9af1d",
   "metadata": {},
   "outputs": [],
   "source": [
    "torch.einsum('ij,kj->ik',a,a)"
   ]
  },
  {
   "cell_type": "code",
   "execution_count": null,
   "id": "563fb889",
   "metadata": {},
   "outputs": [],
   "source": [
    "A = torch.softmax(a @ a.T, dim=-1) @ a\n",
    "d = A.reshape(7,7,7,7)"
   ]
  },
  {
   "cell_type": "code",
   "execution_count": null,
   "id": "683a0652",
   "metadata": {},
   "outputs": [],
   "source": [
    "fig, axes = plt.subplots(7,7, figsize=(10, 10))\n",
    "for xi in range(7):\n",
    "    for yi in range(7):\n",
    "        ax = axes[xi][yi]\n",
    "        ax.imshow(d[xi][yi], vmin=0, vmax=1, cmap=\"gray\")\n",
    "plt.show()"
   ]
  },
  {
   "cell_type": "code",
   "execution_count": null,
   "id": "c85c825f",
   "metadata": {},
   "outputs": [],
   "source": [
    "A_np = A.numpy()"
   ]
  },
  {
   "cell_type": "code",
   "execution_count": null,
   "id": "79995434",
   "metadata": {},
   "outputs": [],
   "source": [
    "from sklearn.cluster import KMeans\n",
    "kmeans = KMeans(n_clusters=4).fit(A_np)"
   ]
  },
  {
   "cell_type": "code",
   "execution_count": null,
   "id": "e50e5844",
   "metadata": {},
   "outputs": [],
   "source": [
    "for cc in kmeans.cluster_centers_:\n",
    "    plt.imshow(cc.reshape(7,7), cmap=\"gray\")\n",
    "    plt.show()"
   ]
  },
  {
   "cell_type": "markdown",
   "id": "34d17ea9",
   "metadata": {},
   "source": [
    "# random "
   ]
  },
  {
   "cell_type": "code",
   "execution_count": null,
   "id": "3e7b3937",
   "metadata": {},
   "outputs": [],
   "source": [
    "x,_ = ds_train[0]\n",
    "img = x[0][20:27,2:9]\n",
    "print(img.shape)\n",
    "plt.imshow(img, cmap=\"gray\", vmin=0, vmax=1)"
   ]
  },
  {
   "cell_type": "code",
   "execution_count": null,
   "id": "c4875057",
   "metadata": {},
   "outputs": [],
   "source": [
    "x = img\n",
    "xx = []\n",
    "for xi in x.flatten():\n",
    "    if random.random() > 0.2:\n",
    "        for xj in x.flatten():\n",
    "            xx.append(0)\n",
    "        continue\n",
    "    for xj in x.flatten():\n",
    "        xx.append(1 - torch.abs(xi - xj))"
   ]
  },
  {
   "cell_type": "code",
   "execution_count": null,
   "id": "201036de",
   "metadata": {},
   "outputs": [],
   "source": [
    "d = torch.tensor(xx).reshape(7,7,7,7)\n",
    "print(d.min(), d.max())"
   ]
  },
  {
   "cell_type": "code",
   "execution_count": null,
   "id": "99f02c23",
   "metadata": {},
   "outputs": [],
   "source": [
    "fig, axes = plt.subplots(7,7, figsize=(10, 10))\n",
    "for xi in range(7):\n",
    "    for yi in range(7):\n",
    "        ax = axes[xi][yi]\n",
    "        ax.imshow(d[xi][yi], vmin=0, vmax=1, cmap=\"gray\")\n",
    "plt.show()"
   ]
  },
  {
   "cell_type": "code",
   "execution_count": null,
   "id": "2275a6a3",
   "metadata": {},
   "outputs": [],
   "source": [
    "d.shape\n",
    "attention_vectors"
   ]
  },
  {
   "cell_type": "markdown",
   "id": "ebf13d5c",
   "metadata": {},
   "source": [
    "# with embedding"
   ]
  },
  {
   "cell_type": "code",
   "execution_count": null,
   "id": "fb074bff",
   "metadata": {},
   "outputs": [],
   "source": [
    "x,_ = ds_train[0]\n",
    "img = x[0][20:27,2:9]\n",
    "print(img.shape)\n",
    "plt.imshow(img)"
   ]
  },
  {
   "cell_type": "code",
   "execution_count": null,
   "id": "4437f7f3",
   "metadata": {},
   "outputs": [],
   "source": [
    "pos_emb = torch.arange(7)"
   ]
  },
  {
   "cell_type": "code",
   "execution_count": null,
   "id": "5b0d51f5",
   "metadata": {},
   "outputs": [],
   "source": [
    "emb_matrix = torch.einsum('i,j -> ij', pos_emb, pos_emb)\n",
    "emb_matrix = emb_matrix / emb_matrix.max()"
   ]
  },
  {
   "cell_type": "code",
   "execution_count": null,
   "id": "a6ebe807",
   "metadata": {},
   "outputs": [],
   "source": [
    "x = torch.stack([img, emb_matrix], dim=2)\n",
    "print(x.shape)"
   ]
  },
  {
   "cell_type": "code",
   "execution_count": null,
   "id": "b2122051",
   "metadata": {},
   "outputs": [],
   "source": [
    "x = einops.rearrange(x, 'h w c -> (h w) c')\n",
    "x.shape"
   ]
  },
  {
   "cell_type": "code",
   "execution_count": null,
   "id": "08e33f85",
   "metadata": {},
   "outputs": [],
   "source": [
    "a = torch.einsum(\"ij,kj->ik\", x, x)"
   ]
  },
  {
   "cell_type": "code",
   "execution_count": null,
   "id": "36553469",
   "metadata": {},
   "outputs": [],
   "source": [
    "plt.imshow(a)"
   ]
  },
  {
   "cell_type": "code",
   "execution_count": null,
   "id": "5e2240a0",
   "metadata": {},
   "outputs": [],
   "source": [
    "C = torch.softmax(a, dim=-1)\n",
    "x_hat = torch.einsum('ij,j->i', C, img.flatten()).reshape((7,7))"
   ]
  },
  {
   "cell_type": "code",
   "execution_count": null,
   "id": "a077ca8d",
   "metadata": {},
   "outputs": [],
   "source": [
    "plt.imshow(x_hat)"
   ]
  },
  {
   "cell_type": "code",
   "execution_count": null,
   "id": "709607d1",
   "metadata": {},
   "outputs": [],
   "source": [
    "x_hat"
   ]
  },
  {
   "cell_type": "code",
   "execution_count": null,
   "id": "ca84deb0",
   "metadata": {},
   "outputs": [],
   "source": [
    "C.shape"
   ]
  },
  {
   "cell_type": "code",
   "execution_count": null,
   "id": "b2760d6d",
   "metadata": {},
   "outputs": [],
   "source": [
    "x.shape"
   ]
  },
  {
   "cell_type": "code",
   "execution_count": null,
   "id": "7b83e5aa",
   "metadata": {},
   "outputs": [],
   "source": []
  }
 ],
 "metadata": {
  "kernelspec": {
   "display_name": "Python 3 (ipykernel)",
   "language": "python",
   "name": "python3"
  },
  "language_info": {
   "codemirror_mode": {
    "name": "ipython",
    "version": 3
   },
   "file_extension": ".py",
   "mimetype": "text/x-python",
   "name": "python",
   "nbconvert_exporter": "python",
   "pygments_lexer": "ipython3",
   "version": "3.8.12"
  },
  "latex_envs": {
   "LaTeX_envs_menu_present": true,
   "autoclose": false,
   "autocomplete": true,
   "bibliofile": "biblio.bib",
   "cite_by": "apalike",
   "current_citInitial": 1,
   "eqLabelWithNumbers": true,
   "eqNumInitial": 1,
   "hotkeys": {
    "equation": "Ctrl-E",
    "itemize": "Ctrl-I"
   },
   "labels_anchors": false,
   "latex_user_defs": false,
   "report_style_numbering": false,
   "user_envs_cfg": false
  }
 },
 "nbformat": 4,
 "nbformat_minor": 5
}
