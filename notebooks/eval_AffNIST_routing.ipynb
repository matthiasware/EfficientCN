{
 "cells": [
  {
   "cell_type": "code",
   "execution_count": null,
   "id": "190f494c",
   "metadata": {},
   "outputs": [],
   "source": [
    "%load_ext autoreload\n",
    "%autoreload 2"
   ]
  },
  {
   "cell_type": "code",
   "execution_count": null,
   "id": "b81aa2f1",
   "metadata": {},
   "outputs": [],
   "source": [
    "import sys\n",
    "sys.path.append(\"./../\")"
   ]
  },
  {
   "cell_type": "code",
   "execution_count": null,
   "id": "966d4980",
   "metadata": {},
   "outputs": [],
   "source": [
    "from pathlib import Path\n",
    "import math\n",
    "import pickle\n",
    "#\n",
    "import torch\n",
    "import torchvision\n",
    "from torchvision import utils\n",
    "import matplotlib.pyplot as plt\n",
    "import matplotlib.image as mpimg\n",
    "import numpy as np\n",
    "#\n",
    "from misc.plot_utils import plot_mat, imshow\n",
    "from effcn.models import AffnistEffCapsNetWOBias\n",
    "from datasets import AffNIST"
   ]
  },
  {
   "cell_type": "code",
   "execution_count": null,
   "id": "d9e273ec",
   "metadata": {},
   "outputs": [],
   "source": [
    "p_experiments = Path(\"/mnt/experiments/effcn/affnist/grid_search/\")\n",
    "device = torch.device(\"cuda:1\")"
   ]
  },
  {
   "cell_type": "code",
   "execution_count": null,
   "id": "eccc1b92",
   "metadata": {},
   "outputs": [],
   "source": [
    "runs_nan = []\n",
    "runs_success = []\n",
    "for p_experiment in p_experiments.iterdir():\n",
    "    p_config = p_experiment / \"config.pkl\"\n",
    "    p_stats = p_experiment / \"stats.pkl\"\n",
    "    if not p_stats.exists():\n",
    "        continue\n",
    "    with open(p_config, \"rb\") as file:\n",
    "        config = pickle.load(file)\n",
    "    with open(p_stats, \"rb\") as file:\n",
    "        stats = pickle.load(file)\n",
    "        all_accs = stats[\"valid\"][\"affnist\"][\"acc\"]\n",
    "        if math.isnan(stats[\"train\"][\"loss\"][-1]):\n",
    "            runs_nan.append((config, stats))\n",
    "        else:\n",
    "            runs_success.append((config, stats))\n",
    "        max_acc = max(all_accs)\n",
    "        #print(\"bs={:4d}, lr={:.5f}, wd={:.5f} rec_weights={:8.5f}  max_acc={:.4f} notes={}\".format(\n",
    "        #    config.train.batch_size,\n",
    "        #    config.optimizer_args.lr,\n",
    "        #    config.optimizer_args.weight_decay,\n",
    "        #    config.loss.rec.weight,\n",
    "        #    max_acc,\n",
    "        #    stats[\"notes\"]\n",
    "        #     )\n",
    "        #     )"
   ]
  },
  {
   "cell_type": "code",
   "execution_count": null,
   "id": "df5bf41d",
   "metadata": {},
   "outputs": [],
   "source": [
    "for config, stats in runs_success:\n",
    "    all_accs_an = stats[\"valid\"][\"affnist\"][\"acc\"]\n",
    "    all_accs_mn = stats[\"valid\"][\"mnist\"][\"acc\"]\n",
    "    max_acc_an = max(all_accs_an)\n",
    "    max_acc_mn = max(all_accs_mn)\n",
    "    if max_acc_an < 0.87:\n",
    "        continue\n",
    "    print(\"bs={:4d}, lr={:.5f}, wd={:.5f} rec_weights={:8.5f}  max_acc_aff={:.4f} max_acc_mn={:.4f}\".format(\n",
    "            config.train.batch_size,\n",
    "            config.optimizer_args.lr,\n",
    "            config.optimizer_args.weight_decay,\n",
    "            config.loss.rec.weight,\n",
    "            max_acc_an,\n",
    "            max_acc_mn\n",
    "             )\n",
    "             )\n",
    "    print(p_experiments / config.names.model_dir)"
   ]
  },
  {
   "cell_type": "code",
   "execution_count": null,
   "id": "9a553cb0",
   "metadata": {},
   "outputs": [],
   "source": [
    "config.names"
   ]
  },
  {
   "cell_type": "code",
   "execution_count": null,
   "id": "92a4f11f",
   "metadata": {},
   "outputs": [],
   "source": [
    "#p_experiment = Path(\"/mnt/experiments/effcn/affnist/grid_search/effcn_affnist_2021_12_08_15_58_05\")\n",
    "p_experiment = Path(\"/mnt/experiments/effcn/affnist/grid_search_wob/effcn_affnist_2021_12_13_19_32_19\")\n",
    "p_config = p_experiment / \"config.pkl\"\n",
    "p_stats = p_experiment / \"stats.pkl\"\n",
    "p_ckpts = p_experiment / \"ckpts\"\n",
    "p_data = config.paths.data\n",
    "with open(p_config, \"rb\") as file:\n",
    "    config = pickle.load(file)\n",
    "with open(p_stats, \"rb\") as file:\n",
    "    stats = pickle.load(file)\n",
    "#\n",
    "\n",
    "p_model = p_ckpts / config.names.model_file.format(150)\n",
    "p_model.exists()"
   ]
  },
  {
   "cell_type": "code",
   "execution_count": null,
   "id": "1d1f312d",
   "metadata": {},
   "outputs": [],
   "source": [
    "state = torch.load(p_model)"
   ]
  },
  {
   "cell_type": "code",
   "execution_count": null,
   "id": "d749dded",
   "metadata": {},
   "outputs": [],
   "source": [
    "list(state.keys())"
   ]
  },
  {
   "cell_type": "code",
   "execution_count": null,
   "id": "6478bf81",
   "metadata": {},
   "outputs": [],
   "source": [
    "state[\"fcncaps.B\"]"
   ]
  },
  {
   "cell_type": "code",
   "execution_count": null,
   "id": "aeea74aa",
   "metadata": {},
   "outputs": [],
   "source": [
    "model = AffnistEffCapsNetWOBias()\n",
    "model.load_state_dict(torch.load(p_model))\n",
    "model = model.to(device)\n",
    "model.eval()"
   ]
  },
  {
   "cell_type": "code",
   "execution_count": null,
   "id": "82e914c1",
   "metadata": {},
   "outputs": [],
   "source": [
    "ds_mnist_train = AffNIST(p_root=p_data, split=\"mnist_train\",\n",
    "                             download=True, transform=None, target_transform=None)\n",
    "ds_mnist_valid = AffNIST(p_root=p_data, split=\"mnist_valid\",\n",
    "                             download=True, transform=None, target_transform=None)\n",
    "ds_affnist_valid = AffNIST(p_root=p_data, split=\"affnist_valid\",\n",
    "                               download=True, transform=None, target_transform=None)\n"
   ]
  },
  {
   "cell_type": "code",
   "execution_count": null,
   "id": "2578ee90",
   "metadata": {},
   "outputs": [],
   "source": [
    "dl_mnist_train = torch.utils.data.DataLoader(\n",
    "        ds_mnist_train,\n",
    "        batch_size=config.train.batch_size,\n",
    "        shuffle=True,\n",
    "        # prefetch_factor=3,\n",
    "        persistent_workers=True,\n",
    "        pin_memory=config.train.pin_memory,\n",
    "        num_workers=config.train.num_workers)\n",
    "dl_mnist_valid = torch.utils.data.DataLoader(\n",
    "        ds_mnist_valid,\n",
    "        batch_size=config.valid.batch_size,\n",
    "        shuffle=True,\n",
    "        pin_memory=config.valid.pin_memory,\n",
    "        persistent_workers=True,\n",
    "        num_workers=config.valid.num_workers)\n",
    "dl_affnist_valid = torch.utils.data.DataLoader(\n",
    "        ds_affnist_valid,\n",
    "        batch_size=config.valid.batch_size,\n",
    "        shuffle=True,\n",
    "        persistent_workers=True,\n",
    "        pin_memory=config.valid.pin_memory,\n",
    "        num_workers=config.valid.num_workers)\n",
    "\n",
    "x_train, y_train = next(iter(dl_mnist_train))\n",
    "#x_vis_train = x[:config.train.num_vis]\n",
    "\n",
    "x_mn_valid, y_mn_valid = next(iter(dl_mnist_valid))\n",
    "x_an_valid, y_an_valid = next(iter(dl_affnist_valid))"
   ]
  },
  {
   "cell_type": "code",
   "execution_count": null,
   "id": "b687830d",
   "metadata": {},
   "outputs": [],
   "source": [
    "model"
   ]
  },
  {
   "cell_type": "code",
   "execution_count": null,
   "id": "db0f6123",
   "metadata": {},
   "outputs": [],
   "source": [
    "weights = torch.clone(model.primcaps.dw_conv2d.weight)\n",
    "#weights = torch.clone(model.backbone.layers[9].weight)\n",
    "#\n",
    "print(weights.min().item(), weights.max().item(), weights.mean().item())"
   ]
  },
  {
   "cell_type": "code",
   "execution_count": null,
   "id": "ecd73608",
   "metadata": {},
   "outputs": [],
   "source": [
    "def imshow(img, cmap=\"gray\", vmin=None, vmax=None):\n",
    "    npimg = img.detach().cpu().numpy()\n",
    "    plt.imshow(np.transpose(npimg, (1, 2, 0)), cmap=cmap, vmin=None, vmax=None)\n",
    "    plt.show()\n",
    "\n",
    "def visTensor(tensor, ch=0, allkernels=False, nrow=8, padding=1):\n",
    "        tensor = tensor.cpu()\n",
    "        n,c,w,h = tensor.shape\n",
    "\n",
    "        if allkernels: tensor = tensor.view(n*c, -1, w, h)\n",
    "        elif c != 3: tensor = tensor[:,ch,:,:].unsqueeze(dim=1)\n",
    "\n",
    "        rows = np.min((tensor.shape[0] // nrow + 1, 64))    \n",
    "        grid = utils.make_grid(tensor, nrow=nrow, normalize=True, padding=padding)\n",
    "        plt.figure( figsize=(nrow,rows) )\n",
    "        plt.imshow(grid.numpy().transpose((1, 2, 0)))\n",
    "        #return grid"
   ]
  },
  {
   "cell_type": "code",
   "execution_count": null,
   "id": "85e86038",
   "metadata": {},
   "outputs": [],
   "source": [
    "visTensor(weights, allkernels=True, padding=1)"
   ]
  },
  {
   "cell_type": "code",
   "execution_count": null,
   "id": "7c92332d",
   "metadata": {},
   "outputs": [],
   "source": [
    "for weight in weights:\n",
    "    plt.imshow(weight[0].detach().cpu())\n",
    "    plt.show()"
   ]
  },
  {
   "cell_type": "code",
   "execution_count": null,
   "id": "37870c79",
   "metadata": {},
   "outputs": [],
   "source": [
    "YY = []\n",
    "CC = []\n",
    "CCB = []\n",
    "UUH = []\n",
    "UUHSQ = []\n",
    "UUHFIN = []\n",
    "UUL = []\n",
    "\n",
    "for X, Y in dl_mnist_valid:\n",
    "    x_bb = model.backbone(X.to(device))\n",
    "    U_l = model.primcaps(x_bb)\n",
    "    U_hat, A, A_scaled, A_sum, C, CB, U_h_fin, U_h_sq = model.fcncaps.forward_debug(U_l)\n",
    "    \n",
    "    UUL.append(U_l.detach().cpu().numpy())\n",
    "    UUH.append(U_hat.detach().cpu().numpy())\n",
    "    YY.append(Y.numpy())\n",
    "    CC.append(C.detach().cpu().numpy())\n",
    "    CCB.append(CB.detach().cpu().numpy())\n",
    "    UUHSQ.append(U_h_sq.detach().cpu())\n",
    "    UUHFIN.append(U_h_fin.detach().cpu())\n",
    "YY = np.concatenate(YY)\n",
    "CC = np.concatenate(CC)\n",
    "CCB = np.concatenate(CCB)\n",
    "UUHSQ = np.concatenate(UUHSQ)\n",
    "UUHFIN = np.concatenate(UUHFIN)\n",
    "UUH = np.concatenate(UUH)\n",
    "UUL = np.concatenate(UUL)\n",
    "\n",
    "print(YY.shape)\n",
    "print(CC.shape)\n",
    "#\n",
    "print(x_bb.shape)\n",
    "print(U_l.shape)\n",
    "print(U_hat.shape)\n",
    "print(A.shape)\n",
    "print(A_scaled.shape)\n",
    "print(A_sum.shape)\n",
    "print(C.shape)\n",
    "print(CB.shape)\n",
    "print(U_h_fin.shape)\n",
    "print(U_h_sq.shape)"
   ]
  },
  {
   "cell_type": "markdown",
   "id": "a5f880ec",
   "metadata": {},
   "source": [
    "### Analyse Routing and resuls"
   ]
  },
  {
   "cell_type": "code",
   "execution_count": null,
   "id": "1bd93eb5",
   "metadata": {},
   "outputs": [],
   "source": [
    "idcs = np.where(YY == 1)\n",
    "Y = YY[idcs]\n",
    "C = CC[idcs]\n",
    "CB = CCB[idcs]\n",
    "UH = UUH[idcs]\n",
    "UHS = UUHSQ[idcs]\n",
    "UHF = UUHFIN[idcs]"
   ]
  },
  {
   "cell_type": "code",
   "execution_count": null,
   "id": "dd7a2f37",
   "metadata": {},
   "outputs": [],
   "source": [
    "idx = 0\n",
    "y = Y[idx]\n",
    "c = C[idx]\n",
    "cb = CB[idx]\n",
    "uh = UH[idx]\n",
    "uf = UHF[idx]\n",
    "#\n",
    "print(c.shape)\n",
    "print(cb.shape)\n",
    "print(uh.shape)\n",
    "print(uf.shape)"
   ]
  },
  {
   "cell_type": "code",
   "execution_count": null,
   "id": "bf65afcc",
   "metadata": {},
   "outputs": [],
   "source": [
    "i = 0\n",
    "uh[:, i,:].T.dot(cb[:,i])"
   ]
  },
  {
   "cell_type": "code",
   "execution_count": null,
   "id": "93a84e27",
   "metadata": {},
   "outputs": [],
   "source": [
    "uf[i]"
   ]
  },
  {
   "cell_type": "code",
   "execution_count": null,
   "id": "013b764f",
   "metadata": {},
   "outputs": [],
   "source": [
    " plot_mat(c, scale_factor=0.4)"
   ]
  },
  {
   "cell_type": "code",
   "execution_count": null,
   "id": "62a2f51f",
   "metadata": {},
   "outputs": [],
   "source": [
    " plot_mat(cb, scale_factor=0.4)"
   ]
  },
  {
   "cell_type": "code",
   "execution_count": null,
   "id": "d40665f0",
   "metadata": {
    "scrolled": false
   },
   "outputs": [],
   "source": [
    "for gh in range(10):\n",
    "    plot_mat(uh[:, gh,:], scale_factor=0.4)"
   ]
  },
  {
   "cell_type": "code",
   "execution_count": null,
   "id": "e4d3431c",
   "metadata": {
    "scrolled": false
   },
   "outputs": [],
   "source": [
    "for idx in range(1):\n",
    "    print(\"#\"*100)\n",
    "    y = Y[idx]\n",
    "    c = C[idx]\n",
    "    cb = CCB[idx]\n",
    "    uhs = UHS[idx]\n",
    "    uhf = UHF[idx]\n",
    "    ul = UUL[idx]\n",
    "    plot_mat(ul, scale_factor=0.4, title=\"U_l = lower level capsules\")\n",
    "    plot_mat(c, scale_factor=0.4, title=\"C\")\n",
    "    plot_mat(cb, scale_factor=0.4, title=\"C+B\")\n",
    "    plot_mat(uhf, scale_factor=0.4, title=\"U_h, upper layer capsules w/o squash\")\n",
    "    plot_mat(uhs, scale_factor=0.4, title=\"squash(U_h)\")\n",
    "    fig, axes = plt.subplots(nrows=1, ncols=5, figsize=(10, 2))\n",
    "    axes[0].bar(range(10), c.mean(axis=0))\n",
    "    axes[0].set_title(\"C\")\n",
    "    axes[1].bar(range(10), cb.mean(axis=0))\n",
    "    axes[1].set_title(\"CB\")\n",
    "    axes[3].bar(range(10), np.linalg.norm(uhs, axis=1))\n",
    "    axes[3].set_title(\"sqash(U_h)\")\n",
    "    axes[2].bar(range(10), np.linalg.norm(uhf, axis=1))\n",
    "    axes[2].set_title(\"U_h without Squash\")\n",
    "    axes[4].bar(range(16), np.linalg.norm(ul, axis=1))\n",
    "    axes[4].set_title(\"U_l\")\n",
    "    plt.show()"
   ]
  },
  {
   "cell_type": "code",
   "execution_count": null,
   "id": "8d27f749",
   "metadata": {},
   "outputs": [],
   "source": [
    "np.linalg.norm(ul, axis=1)"
   ]
  },
  {
   "cell_type": "code",
   "execution_count": null,
   "id": "1bc324c4",
   "metadata": {},
   "outputs": [],
   "source": [
    "ul.shape"
   ]
  },
  {
   "cell_type": "code",
   "execution_count": null,
   "id": "d58d07d7",
   "metadata": {},
   "outputs": [],
   "source": [
    "for u in uhs:\n",
    "    print(np.linalg.norm(u))"
   ]
  },
  {
   "cell_type": "code",
   "execution_count": null,
   "id": "70b6312a",
   "metadata": {},
   "outputs": [],
   "source": []
  }
 ],
 "metadata": {
  "kernelspec": {
   "display_name": "Python 3 (ipykernel)",
   "language": "python",
   "name": "python3"
  },
  "language_info": {
   "codemirror_mode": {
    "name": "ipython",
    "version": 3
   },
   "file_extension": ".py",
   "mimetype": "text/x-python",
   "name": "python",
   "nbconvert_exporter": "python",
   "pygments_lexer": "ipython3",
   "version": "3.8.12"
  },
  "latex_envs": {
   "LaTeX_envs_menu_present": true,
   "autoclose": false,
   "autocomplete": true,
   "bibliofile": "biblio.bib",
   "cite_by": "apalike",
   "current_citInitial": 1,
   "eqLabelWithNumbers": true,
   "eqNumInitial": 1,
   "hotkeys": {
    "equation": "Ctrl-E",
    "itemize": "Ctrl-I"
   },
   "labels_anchors": false,
   "latex_user_defs": false,
   "report_style_numbering": false,
   "user_envs_cfg": false
  }
 },
 "nbformat": 4,
 "nbformat_minor": 5
}
