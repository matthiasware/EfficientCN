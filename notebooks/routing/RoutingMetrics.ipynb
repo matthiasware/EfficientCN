{
 "cells": [
  {
   "cell_type": "code",
   "execution_count": null,
   "id": "e259f2d2",
   "metadata": {},
   "outputs": [],
   "source": [
    "import sys\n",
    "sys.path.append(\"./..\")"
   ]
  },
  {
   "cell_type": "code",
   "execution_count": null,
   "id": "63896295",
   "metadata": {},
   "outputs": [],
   "source": [
    "%load_ext autoreload\n",
    "%autoreload 2"
   ]
  },
  {
   "cell_type": "code",
   "execution_count": null,
   "id": "8fbfbdec",
   "metadata": {},
   "outputs": [],
   "source": [
    "import numpy as np\n",
    "import scipy.stats as stats\n",
    "import torch\n",
    "import matplotlib.pyplot as plt\n",
    "#\n",
    "from misc.plot_utils import plot_couplings, plot_capsules, plot_mat, plot_mat2"
   ]
  },
  {
   "cell_type": "markdown",
   "id": "67267049",
   "metadata": {},
   "source": [
    "# Simulate Routing Scenarios"
   ]
  },
  {
   "cell_type": "code",
   "execution_count": null,
   "id": "7015da86",
   "metadata": {},
   "outputs": [],
   "source": [
    "def get_c_perfect_dynamic(n_l, n_h, n_samples, pr=0.0):\n",
    "    if pr > 0:\n",
    "        n_samples_p = int(pr * n_samples)\n",
    "        n_samples = n_samples - n_samples_p\n",
    "        \n",
    "    vals = torch.randint(0, n_h, size=(n_samples, n_l))\n",
    "    C = torch.nn.functional.one_hot(vals).float() * 10\n",
    "    C = torch.softmax(C + 1e-7, dim=-1).numpy()\n",
    "    \n",
    "    if pr > 0:\n",
    "        C2 = get_c_uniform(n_l, n_h, n_samples_p)\n",
    "        \n",
    "        C = np.concatenate([C, C2], axis=0)\n",
    "    return C\n",
    "\n",
    "def get_c_uniform(n_l, n_h, n_samples):\n",
    "    C = torch.softmax(torch.ones(n_samples, n_l, n_h), dim=-1).numpy()\n",
    "    return C\n",
    "\n",
    "def get_c_rand(n_l, n_h, n_samples, cs=1, pr=0):\n",
    "    if pr > 0:\n",
    "        n_samples_p = int(pr * n_samples)\n",
    "        n_samples = n_samples - n_samples_p\n",
    "        \n",
    "    C = torch.softmax(torch.rand(n_samples, n_l, n_h) * cs, dim=-1).numpy()\n",
    "    \n",
    "    if pr > 0:\n",
    "        C2 = get_c_uniform(n_l, n_h, n_samples_p)\n",
    "        \n",
    "        C = np.concatenate([C, C2], axis=0)\n",
    "    return C\n",
    "\n",
    "def get_c_rate_strength(n_l, n_h, n_samples, cs=None, cr=None, nc=None, pr=0.0):\n",
    "    \"\"\"\n",
    "        pr: pasive rate\n",
    "        cs: Coupling Strength\n",
    "        cr: Coupling Rate\n",
    "        (nc: number of couplings)\n",
    "        use either cr or nc\n",
    "    \"\"\"\n",
    "    if pr > 0:\n",
    "        n_samples_p = int(pr * n_samples)\n",
    "        n_samples = n_samples - n_samples_p\n",
    "    \n",
    "    if nc is None:\n",
    "        nc = int(cr * n_h)\n",
    "    #\n",
    "    assert nc > 0\n",
    "    #\n",
    "    CC = [get_c_static(n_l, n_h, n_samples // nc, cs=cs) for _ in range(nc)]\n",
    "    \n",
    "    if pr > 0:\n",
    "        C = get_c_uniform(n_l, n_h, n_samples_p)\n",
    "        CC.append(C)\n",
    "    \n",
    "    C = np.concatenate(CC, axis=0)\n",
    "    return C\n",
    "\n",
    "def get_c_static(n_l, n_h, n_samples, cs=10, pr=0):\n",
    "    if pr > 0:\n",
    "        n_samples_p = int(pr * n_samples)\n",
    "        n_samples = n_samples - n_samples_p\n",
    "    vals = torch.randint(0, n_h, size=(n_l,))\n",
    "    C = torch.nn.functional.one_hot(vals, num_classes=n_h).float() * cs\n",
    "    C = torch.softmax(C + 1e-7, dim=-1)\n",
    "    C = C.unsqueeze(0)\n",
    "    C = C.repeat(n_samples, 1, 1).numpy()\n",
    "    \n",
    "    if pr > 0:\n",
    "        C2 = get_c_uniform(n_l, n_h, n_samples_p)\n",
    "        C = np.concatenate([C, C2], axis=0)\n",
    "    \n",
    "    return C\n",
    "\n",
    "def calc_norm_entropy(C):\n",
    "    Cm = C.mean(axis=0)\n",
    "    Ce = np.sum(Cm * np.log(Cm) * (1/np.log(Cm.shape[1])), axis=1) * -1\n",
    "    return Ce"
   ]
  },
  {
   "cell_type": "markdown",
   "id": "6cda55b8",
   "metadata": {},
   "source": [
    "## Mean Max & Adjusted Mean Max"
   ]
  },
  {
   "cell_type": "code",
   "execution_count": null,
   "id": "f32c73d2",
   "metadata": {},
   "outputs": [],
   "source": [
    "def mean_max(C):\n",
    "    \"\"\"\n",
    "        Indicating strong couplings for lower layer Capsules\n",
    "        Only For ACTIVE Capsules interpretable!\n",
    "        C (b, n_l, n_h) c in C in [0, 1]\n",
    "    \"\"\"\n",
    "    return np.max(C, axis=2).mean(axis=0)\n",
    "\n",
    "def adjusted_mean_max(C, pr):\n",
    "    \"\"\"\n",
    "        mean_max(C), adjusted for pr (0,1) passive capsules\n",
    "        pr: either a scalar \n",
    "            or a vector of activity weights for each capsule\n",
    "    \"\"\"\n",
    "    n_samples, n_l, n_h = C.shape\n",
    "    assert type(pr) == float or type(pr) == np.ndarray\n",
    "    amm = (C.max(axis=2).sum(axis=0) - (pr * n_samples) / n_h) / ((1 - pr) * n_samples)\n",
    "    return amm"
   ]
  },
  {
   "cell_type": "code",
   "execution_count": null,
   "id": "1699638a",
   "metadata": {},
   "outputs": [],
   "source": [
    "n_l = 16\n",
    "n_h = 8\n",
    "pr = np.array([0.9]*n_l)\n",
    "n_samples = 1000\n",
    "C = get_c_perfect_dynamic(n_l, n_h, n_samples, pr=pr[0])\n",
    "#\n",
    "C0 = C\n",
    "C1 = C[:100,:,:]\n",
    "C2 = C[100:, :, :]"
   ]
  },
  {
   "cell_type": "code",
   "execution_count": null,
   "id": "ac800e2a",
   "metadata": {},
   "outputs": [],
   "source": [
    "mean_max(C0)"
   ]
  },
  {
   "cell_type": "code",
   "execution_count": null,
   "id": "39b30bd5",
   "metadata": {},
   "outputs": [],
   "source": [
    "mean_max(C1)"
   ]
  },
  {
   "cell_type": "code",
   "execution_count": null,
   "id": "f780431e",
   "metadata": {},
   "outputs": [],
   "source": [
    "adjusted_mean_max(C0, pr)"
   ]
  },
  {
   "cell_type": "markdown",
   "id": "f8f91328",
   "metadata": {},
   "source": [
    "## Adjusted Mean and Adjusted Std"
   ]
  },
  {
   "cell_type": "code",
   "execution_count": null,
   "id": "14277c7a",
   "metadata": {},
   "outputs": [],
   "source": [
    "def adjusted_mean_old(C, pr):\n",
    "    n_samples, n_l, n_h = C.shape\n",
    "    am = (C.sum(axis=0) - (pr * n_samples) / n_h) / ((1 - pr) * n_samples)\n",
    "    return am\n",
    "\n",
    "def adjusted_mean(C, pr):\n",
    "    n_samples, n_l, n_h = C.shape\n",
    "    if type(pr) == float:\n",
    "        pr = np.array([pr]*n_l).reshape(n_l,1)\n",
    "    else:\n",
    "        pr = pr.reshape(n_l, 1)\n",
    "    am = (C.sum(axis=0) - (pr * n_samples) / n_h) / ((1 - pr) * n_samples)\n",
    "    return am\n",
    "\n",
    "def adjusted_std_old(C, pr):\n",
    "    n_samples, n_l, n_h = C.shape\n",
    "    amc = adjusted_mean_old(C, pr)\n",
    "    asd = (np.sum((C - amc)**2, axis=0) - (pr * n_samples * (1/n_h - amc)**2)) / ((1 - pr) * n_samples)\n",
    "    asd = np.sqrt(asd + 1e-5)\n",
    "    return asd\n",
    "\n",
    "def adjusted_std(C, pr):\n",
    "    n_samples, n_l, n_h = C.shape\n",
    "    if type(pr) == float:\n",
    "        pr = np.array([pr]*n_l).reshape(n_l,1)\n",
    "    else:\n",
    "        pr = pr.reshape(n_l, 1)\n",
    "    am = adjusted_mean(C, pr)\n",
    "    asd = (np.sum((C - am)**2, axis=0) - (pr * n_samples * (1/n_h - am)**2)) / ((1 - pr) * n_samples)\n",
    "    assert asd.min() > -1e-6, \"numerics {}\".format(asd.min())\n",
    "    asd = np.maximum(0,asd)\n",
    "    asd = np.sqrt(asd)\n",
    "    return asd"
   ]
  },
  {
   "cell_type": "code",
   "execution_count": null,
   "id": "2dbb9b1b",
   "metadata": {},
   "outputs": [],
   "source": [
    "n_l = 16\n",
    "n_h = 8\n",
    "pr = np.array([0.9] * n_l)\n",
    "n_samples = 1000\n",
    "C = get_c_perfect_dynamic(n_l, n_h, n_samples, pr=pr[0])\n",
    "#\n",
    "C0 = C\n",
    "C1 = C[:100,:,:]\n",
    "C2 = C[100:, :, :]"
   ]
  },
  {
   "cell_type": "code",
   "execution_count": null,
   "id": "ba548074",
   "metadata": {},
   "outputs": [],
   "source": [
    "fig, axes = plt.subplots(1, 5, figsize=(24, 8))\n",
    "plot_mat2(C0.mean(axis=0), ax=axes[0], title=\"m(C)\")\n",
    "plot_mat2(C1.mean(axis=0), ax=axes[1], title=\"m(C_active)\")\n",
    "plot_mat2(adjusted_mean_old(C0, pr[0]), ax=axes[2], title=\"old am(C)\")\n",
    "plot_mat2(adjusted_mean(C0, pr), ax=axes[3], title=\"am(C)\")\n",
    "plot_mat2(C2.mean(axis=0), ax=axes[4], title=\"m(C_passive)\")"
   ]
  },
  {
   "cell_type": "code",
   "execution_count": null,
   "id": "fe3bccac",
   "metadata": {},
   "outputs": [],
   "source": [
    "fig, axes = plt.subplots(1, 5, figsize=(24, 8))\n",
    "plot_mat2(C0.std(axis=0), ax=axes[0], title=\"std(C)\")\n",
    "plot_mat2(C1.std(axis=0), ax=axes[1], title=\"std(C_active)\")\n",
    "plot_mat2(adjusted_std_old(C0, pr[0]), ax=axes[2], title=\"old_astd(C)\")\n",
    "plot_mat2(adjusted_std(C0, pr), ax=axes[3], title=\"astd(C)\")\n",
    "plot_mat2(C2.std(axis=0), ax=axes[4], title=\"std(C_passive)\")"
   ]
  },
  {
   "cell_type": "markdown",
   "id": "d86ff4be",
   "metadata": {},
   "source": [
    "# Dynamic Coefficient"
   ]
  },
  {
   "cell_type": "code",
   "execution_count": null,
   "id": "3b1f544c",
   "metadata": {},
   "outputs": [],
   "source": [
    "def dynamics2(C):\n",
    "    n_samples, n_l, n_h = C.shape\n",
    "    std_pr = np.sqrt(1/n_h * (1 - 1/n_h))\n",
    "    msd = C.std(axis=0).mean(axis=1)\n",
    "    mm = mean_max(C)\n",
    "    dyn = msd / (mm * std_pr)\n",
    "    return dyn\n",
    "\n",
    "def dynamics(C):\n",
    "    n_samples, n_l, n_h = C.shape\n",
    "    std_pr = np.sqrt(1/n_h * (1 - 1/n_h))\n",
    "    msd = C.std(axis=0).mean(axis=1)\n",
    "    mm = C.max(axis=(0,2))\n",
    "    dyn = msd / (mm * std_pr)\n",
    "    return dyn\n",
    "\n",
    "def adjusted_dyn_old(C, pr):\n",
    "    n_samples, n_l, n_h = C.shape\n",
    "    std_pr = np.sqrt(1/n_h * (1 - 1/n_h))\n",
    "    masd = adjusted_std(C, pr).mean(axis=1)\n",
    "    mm = C.max(axis=(0,2))\n",
    "    dyn = masd / (mm * std_pr)\n",
    "    return dyn\n",
    "\n",
    "def adjusted_dynamics2(C, pr):\n",
    "    n_samples, n_l, n_h = C.shape\n",
    "    std_pr = np.sqrt(1/n_h * (1 - 1/n_h))\n",
    "    masd = adjusted_std(C, pr).mean(axis=1)\n",
    "    mma = adjusted_mean_max(C, pr)\n",
    "    dyn = masd / (mma * std_pr)\n",
    "    return dyn\n",
    "\n",
    "def adjusted_dyn(C, pr):\n",
    "    n_samples, n_l, n_h = C.shape\n",
    "    std_pr = np.sqrt(1/n_h * (1 - 1/n_h))\n",
    "    masd = adjusted_std(C, pr).mean(axis=1)\n",
    "    #mma = adjusted_mean_max(C, pr)\n",
    "    mx = C.max(axis=(0,2)) \n",
    "    dyn = masd / (std_pr * mx)\n",
    "    return dyn"
   ]
  },
  {
   "cell_type": "code",
   "execution_count": null,
   "id": "ce402add",
   "metadata": {},
   "outputs": [],
   "source": [
    "n_l = 16\n",
    "n_h = 8\n",
    "pr = np.array([0.9] * n_l)\n",
    "n_samples = 10000\n",
    "C = get_c_perfect_dynamic(n_l, n_h, n_samples, pr=pr[0])\n",
    "#\n",
    "C0 = C\n",
    "C1 = C[:100,:,:]\n",
    "C2 = C[100:, :, :]\n",
    "#"
   ]
  },
  {
   "cell_type": "code",
   "execution_count": null,
   "id": "cb3a5a65",
   "metadata": {},
   "outputs": [],
   "source": [
    "adjusted_dyn(C, pr)"
   ]
  },
  {
   "cell_type": "code",
   "execution_count": null,
   "id": "0f726976",
   "metadata": {},
   "outputs": [],
   "source": [
    "dynamics(C1)"
   ]
  },
  {
   "cell_type": "markdown",
   "id": "14006c45",
   "metadata": {},
   "source": [
    "# Test Metrics"
   ]
  },
  {
   "cell_type": "code",
   "execution_count": null,
   "id": "19bf37a7",
   "metadata": {},
   "outputs": [],
   "source": [
    "def print_metrics(C, pr):\n",
    "    mdy = adjusted_dyn(C, pr).mean()\n",
    "    mma = adjusted_mean_max(C, pr).mean()\n",
    "    print(\"mdy: {:.3f}, mma: {:.3f}\".format(mdy, mma))"
   ]
  },
  {
   "cell_type": "markdown",
   "id": "3e0f3968",
   "metadata": {},
   "source": [
    "### Perfect Routing"
   ]
  },
  {
   "cell_type": "code",
   "execution_count": null,
   "id": "fd50ca24",
   "metadata": {},
   "outputs": [],
   "source": [
    "n_l = 20\n",
    "n_h = 10\n",
    "n_samples = 10000\n",
    "\n",
    "C = get_c_perfect_dynamic(n_l, n_h, n_samples, pr=0)\n",
    "#\n",
    "C_mu = C.mean(axis=0)\n",
    "C_sd = C.std(axis=0)\n",
    "C_mx = C.max(axis=0)\n",
    "#\n",
    "fig, axes = plt.subplots(1, 3, figsize=(20, 10))\n",
    "plot_mat2(C_mu, ax=axes[0], vmin=0, vmax=1, title=\"mean\")\n",
    "plot_mat2(C_sd, ax=axes[1], vmin=0, vmax=0.5, title=\"sd\")\n",
    "plot_mat2(C_mx, ax=axes[2], vmin=0, vmax=1, title=\"max\")\n",
    "plt.show()"
   ]
  },
  {
   "cell_type": "code",
   "execution_count": null,
   "id": "7f3126cc",
   "metadata": {},
   "outputs": [],
   "source": [
    "for n_l in [20, 40, 60]:\n",
    "    for n_h in [10, 20, 40]:\n",
    "        for pr in [0, 0.1, 0.4, 0.8]:\n",
    "            pr = np.array([pr] * n_l)\n",
    "            C = get_c_perfect_dynamic(n_l, n_h, n_samples, pr=pr[0])\n",
    "            print_metrics(C, pr)"
   ]
  },
  {
   "cell_type": "markdown",
   "id": "e5a6b9c8",
   "metadata": {},
   "source": [
    "### Uniform Routing"
   ]
  },
  {
   "cell_type": "code",
   "execution_count": null,
   "id": "221958de",
   "metadata": {},
   "outputs": [],
   "source": [
    "n_l = 20\n",
    "n_h = 10\n",
    "n_samples = 10000\n",
    "\n",
    "C = get_c_uniform(n_l, n_h, n_samples)\n",
    "C_mu = C.mean(axis=0)\n",
    "C_sd = C.std(axis=0)\n",
    "C_mx = C.max(axis=0)\n",
    "#\n",
    "fig, axes = plt.subplots(1, 3, figsize=(20, 10))\n",
    "plot_mat2(C_mu, ax=axes[0], vmin=0, vmax=1, title=\"mean\")\n",
    "plot_mat2(C_sd, ax=axes[1], vmin=0, vmax=0.5, title=\"sd\")\n",
    "plot_mat2(C_mx, ax=axes[2], vmin=0, vmax=1, title=\"max\")\n",
    "plt.show()"
   ]
  },
  {
   "cell_type": "code",
   "execution_count": null,
   "id": "6a8f4eb4",
   "metadata": {},
   "outputs": [],
   "source": [
    "pr = 0\n",
    "n_samples = 10000\n",
    "for n_l in [20, 40, 60]:\n",
    "    for n_h in [10, 20, 40]:\n",
    "        C = get_c_uniform(n_l, n_h, n_samples)\n",
    "        print_metrics(C, pr=np.array([pr] * n_l))"
   ]
  },
  {
   "cell_type": "markdown",
   "id": "3b9e16f3",
   "metadata": {},
   "source": [
    "### Random Routing"
   ]
  },
  {
   "cell_type": "code",
   "execution_count": null,
   "id": "f9d2dfb2",
   "metadata": {},
   "outputs": [],
   "source": [
    "n_l = 20\n",
    "n_h = 10\n",
    "n_samples = 10000\n",
    "\n",
    "C = get_c_rand(n_l, n_h, n_samples, cs=4)\n",
    "C_mu = C.mean(axis=0)\n",
    "C_sd = C.std(axis=0)\n",
    "C_mx = C.max(axis=0)\n",
    "#\n",
    "fig, axes = plt.subplots(1, 3, figsize=(20, 10))\n",
    "plot_mat2(C_mu, ax=axes[0], vmin=0, vmax=1, title=\"mean\")\n",
    "plot_mat2(C_sd, ax=axes[1], vmin=0, vmax=0.5, title=\"sd\")\n",
    "plot_mat2(C_mx, ax=axes[2], vmin=0, vmax=1, title=\"max\")\n",
    "plt.show()"
   ]
  },
  {
   "cell_type": "code",
   "execution_count": null,
   "id": "fb9cca39",
   "metadata": {},
   "outputs": [],
   "source": [
    "for n_l in [20, 40, 60]:\n",
    "    for n_h in [10, 20, 40]:\n",
    "        C = get_c_rand(n_l, n_h, n_samples, pr=0, cs=8)\n",
    "        print_metrics(C, np.array([0] * n_l))"
   ]
  },
  {
   "cell_type": "code",
   "execution_count": null,
   "id": "159602ed",
   "metadata": {},
   "outputs": [],
   "source": [
    "n_l = 30\n",
    "n_h = 10\n",
    "for pr in [0, 0.2, 0.4, 0.8]:\n",
    "    pr = np.array([pr] * n_l)\n",
    "    C = get_c_rand(n_l, n_h, n_samples, pr=pr[0], cs=8)\n",
    "    print_metrics(C, pr)"
   ]
  },
  {
   "cell_type": "code",
   "execution_count": null,
   "id": "c09b9aa1",
   "metadata": {},
   "outputs": [],
   "source": [
    "n_l = 30\n",
    "n_h = 10\n",
    "for pr in [0, 0.2, 0.4, 0.8]:\n",
    "    pr = np.array([pr] * n_l)\n",
    "    C = get_c_rand(n_l, n_h, n_samples, pr=pr[0], cs=3)\n",
    "    print_metrics(C, pr)"
   ]
  },
  {
   "cell_type": "markdown",
   "id": "f3a2c826",
   "metadata": {},
   "source": [
    "### Static Routing"
   ]
  },
  {
   "cell_type": "code",
   "execution_count": null,
   "id": "d7feabfe",
   "metadata": {},
   "outputs": [],
   "source": [
    "n_l = 20\n",
    "n_h = 10\n",
    "#\n",
    "n_samples = 10000\n",
    "\n",
    "C = get_c_static(n_l, n_h, n_samples, cs=4, pr=0.1)\n",
    "C_mu = C.mean(axis=0)\n",
    "C_sd = C.std(axis=0)\n",
    "C_mx = C.max(axis=0)\n",
    "\n",
    "fig, axes = plt.subplots(1, 3, figsize=(30, 10))\n",
    "plot_mat2(C_mu, ax=axes[0], vmin=0, vmax=1)\n",
    "plot_mat2(C_sd, ax=axes[1], vmin=0, vmax=0.5)\n",
    "plot_mat2(C_mx, ax=axes[2], vmin=0, vmax=1)\n",
    "plt.show()"
   ]
  },
  {
   "cell_type": "code",
   "execution_count": null,
   "id": "704775f3",
   "metadata": {},
   "outputs": [],
   "source": [
    "n_l = 20\n",
    "n_h = 10\n",
    "for pr in [0, 0.2, 0.4, 0.6]:\n",
    "    pr = np.array([pr] * n_l)\n",
    "    C = get_c_static(n_l, n_h, n_samples, cs=4, pr=pr[0])\n",
    "    print_metrics(C, pr)"
   ]
  },
  {
   "cell_type": "code",
   "execution_count": null,
   "id": "1167b19c",
   "metadata": {},
   "outputs": [],
   "source": [
    "for n_l in [30, 40, 60]:\n",
    "    for n_h in [10, 20, 30]:\n",
    "        pr = np.array([0] * n_l)\n",
    "        C = get_c_static(n_l, n_h, n_samples, cs=4, pr=pr[0])\n",
    "        print_metrics(C, pr)"
   ]
  },
  {
   "cell_type": "code",
   "execution_count": null,
   "id": "aa28d147",
   "metadata": {},
   "outputs": [],
   "source": [
    "#(0.5 / 0.2)\n",
    "#masd: vor summe durch max, um relatic skala"
   ]
  },
  {
   "cell_type": "code",
   "execution_count": null,
   "id": "12c0450c",
   "metadata": {},
   "outputs": [],
   "source": [
    "for n_l in [30, 40, 60]:\n",
    "    for n_h in [10, 20, 30]:\n",
    "        pr = np.array([0] * n_l)\n",
    "        C = get_c_static(n_l, n_h, n_samples, cs=8, pr=pr[0])\n",
    "        print_metrics(C, pr)"
   ]
  },
  {
   "cell_type": "code",
   "execution_count": null,
   "id": "51af704a",
   "metadata": {},
   "outputs": [],
   "source": [
    "for n_l in [30, 40, 60]:\n",
    "    for n_h in [10, 20, 30]:\n",
    "        pr = np.array([0] * n_l)\n",
    "        C = get_c_static(n_l, n_h, n_samples, cs=2, pr=pr[0])\n",
    "        print_metrics(C, pr)"
   ]
  },
  {
   "cell_type": "markdown",
   "id": "96f3d991",
   "metadata": {},
   "source": [
    "### More Dynamic Routing"
   ]
  },
  {
   "cell_type": "code",
   "execution_count": null,
   "id": "32e53e54",
   "metadata": {},
   "outputs": [],
   "source": [
    "n_l = 20\n",
    "n_h = 10\n",
    "pr = np.array([0] * n_l)\n",
    "nc = 2\n",
    "cs = 10\n",
    "#\n",
    "C = get_c_rate_strength(n_l, n_h, n_samples, cs=cs, nc=nc, pr=pr[0])\n",
    "C_mu = C.mean(axis=0)\n",
    "C_sd = C.std(axis=0)\n",
    "C_mx = C.max(axis=0)\n",
    "\n",
    "fig, axes = plt.subplots(1, 3, figsize=(30, 10))\n",
    "plot_mat2(C_mu, ax=axes[0], vmin=0, vmax=1)\n",
    "plot_mat2(C_sd, ax=axes[1], vmin=0, vmax=0.5)\n",
    "plot_mat2(C_mx, ax=axes[2], vmin=0, vmax=1)\n",
    "plt.show()"
   ]
  },
  {
   "cell_type": "code",
   "execution_count": null,
   "id": "29ab2d40",
   "metadata": {},
   "outputs": [],
   "source": [
    "n_l = 20\n",
    "n_h = 10\n",
    "pr = np.array([0] * n_l)\n",
    "nc = 2\n",
    "cs = 4\n",
    "\n",
    "for nc in [2, 4, 6, 8]:\n",
    "    C = get_c_rate_strength(n_l, n_h, n_samples, cs=cs, nc=nc, pr=pr[0])\n",
    "    print_metrics(C, pr)\n",
    "    \n",
    "n_l = 20\n",
    "n_h = 10\n",
    "pr = np.array([0.5] * n_l)\n",
    "nc = 2\n",
    "cs = 4\n",
    "\n",
    "for nc in [2, 4, 6, 8]:\n",
    "    C = get_c_rate_strength(n_l, n_h, n_samples, cs=cs, nc=nc, pr=pr[0])\n",
    "    print_metrics(C, pr)\n",
    "\n",
    "n_l = 20\n",
    "n_h = 10\n",
    "pr = np.array([0] * n_l)\n",
    "nc = 3\n",
    "\n",
    "for cs in [2, 4, 6, 8, 10]:\n",
    "    C = get_c_rate_strength(n_l, n_h, n_samples, cs=cs, nc=nc, pr=pr[0])\n",
    "    print_metrics(C, pr)\n",
    "\n",
    "n_l = 20\n",
    "n_h = 10\n",
    "pr = np.array([0.5] * n_l)\n",
    "nc = 3\n",
    "\n",
    "for cs in [2, 4, 6, 8, 10]:\n",
    "    C = get_c_rate_strength(n_l, n_h, n_samples, cs=cs, nc=nc, pr=pr[0])\n",
    "    print_metrics(C, pr)"
   ]
  },
  {
   "cell_type": "code",
   "execution_count": null,
   "id": "83b8a065",
   "metadata": {},
   "outputs": [],
   "source": [
    "n_l = 20\n",
    "n_h = 10\n",
    "pr = np.array([0] * n_l)\n",
    "nc = 2\n",
    "cs = 4\n",
    "\n",
    "for nc in [2, 4, 6, 8]:\n",
    "    C = get_c_rate_strength(n_l, n_h, n_samples, cs=cs, nc=nc, pr=pr[0])\n",
    "    print_metrics(C, pr)"
   ]
  },
  {
   "cell_type": "code",
   "execution_count": null,
   "id": "becb781e",
   "metadata": {},
   "outputs": [],
   "source": [
    "n_l = 20\n",
    "n_h = 10\n",
    "pr = np.array([0.5] * n_l)\n",
    "nc = 2\n",
    "cs = 4\n",
    "\n",
    "for nc in [2, 4, 6, 8]:\n",
    "    C = get_c_rate_strength(n_l, n_h, n_samples, cs=cs, nc=nc, pr=pr[0])\n",
    "    print_metrics(C, pr)"
   ]
  },
  {
   "cell_type": "code",
   "execution_count": null,
   "id": "73c1d312",
   "metadata": {},
   "outputs": [],
   "source": [
    "n_l = 20\n",
    "n_h = 10\n",
    "pr = np.array([0] * n_l)\n",
    "nc = 3\n",
    "\n",
    "for cs in [2, 4, 6, 8, 10]:\n",
    "    C = get_c_rate_strength(n_l, n_h, n_samples, cs=cs, nc=nc, pr=pr[0])\n",
    "    print_metrics(C, pr)"
   ]
  },
  {
   "cell_type": "code",
   "execution_count": null,
   "id": "8f581cd7",
   "metadata": {},
   "outputs": [],
   "source": [
    "n_l = 20\n",
    "n_h = 10\n",
    "pr = np.array([0.5] * n_l)\n",
    "nc = 3\n",
    "\n",
    "for cs in [2, 4, 6, 8, 10]:\n",
    "    C = get_c_rate_strength(n_l, n_h, n_samples, cs=cs, nc=nc, pr=pr[0])\n",
    "    print_metrics(C, pr)"
   ]
  },
  {
   "cell_type": "markdown",
   "id": "8c693d2c",
   "metadata": {},
   "source": [
    "# Show Data"
   ]
  },
  {
   "cell_type": "code",
   "execution_count": null,
   "id": "43ed654d",
   "metadata": {},
   "outputs": [],
   "source": [
    "import pandas as pd\n",
    "pd.options.display.float_format = '{:.3f}'.format"
   ]
  },
  {
   "cell_type": "code",
   "execution_count": null,
   "id": "343535c2",
   "metadata": {},
   "outputs": [],
   "source": [
    "def get_metrics(C, pr):\n",
    "    mdy = adjusted_dyn(C, pr).mean()\n",
    "    mma = adjusted_mean_max(C, pr).mean()\n",
    "    return mdy, mma\n",
    "    #print(\"mdy: {:.3f}, mma: {:.3f}\".format(mdy, mma))"
   ]
  },
  {
   "cell_type": "code",
   "execution_count": null,
   "id": "3c34e42b",
   "metadata": {},
   "outputs": [],
   "source": [
    "n_l = 32\n",
    "n_h = 16\n",
    "pr = np.array([0.4] * n_l)\n",
    "n_samples = 10000\n",
    "\n",
    "DATA = []\n",
    "#\n",
    "C = get_c_perfect_dynamic(n_l, n_h, n_samples, pr=pr[0])\n",
    "mdy, mma = get_metrics(C, pr)\n",
    "DATA.append((\"Perfect\", pr[0], mdy, mma))\n",
    "#\n",
    "C = get_c_uniform(n_l, n_h, n_samples)\n",
    "mdy, mma = get_metrics(C, pr)\n",
    "DATA.append((\"Uniform\", pr[0], mdy, mma))\n",
    "#\n",
    "C = get_c_rand(n_l, n_h, n_samples, pr=pr[0], cs=10)\n",
    "mdy, mma = get_metrics(C, pr)\n",
    "DATA.append((\"Random (Strong couplings)\", pr[0], mdy, mma))\n",
    "#\n",
    "C = get_c_rand(n_l, n_h, n_samples, pr=pr[0], cs=2)\n",
    "mdy, mma = get_metrics(C, pr)\n",
    "DATA.append((\"Random (Weak couplings)\", pr[0], mdy, mma))\n",
    "\n",
    "C = get_c_static(n_l, n_h, n_samples, cs=10, pr=pr[0])\n",
    "mdy, mma = get_metrics(C, pr)\n",
    "DATA.append((\"Static (Strong couplings)\", pr[0], mdy, mma))\n",
    "\n",
    "C = get_c_static(n_l, n_h, n_samples, cs=3, pr=pr[0])\n",
    "mdy, mma = get_metrics(C, pr)\n",
    "DATA.append((\"Static (Weak couplings)\", pr[0], mdy, mma))\n",
    "#\n",
    "pr = np.array([0.8] * n_l)\n",
    "#\n",
    "C = get_c_perfect_dynamic(n_l, n_h, n_samples, pr=pr[0])\n",
    "mdy, mma = get_metrics(C, pr)\n",
    "DATA.append((\"Perfect\", pr[0], mdy, mma))\n",
    "#\n",
    "C = get_c_uniform(n_l, n_h, n_samples)\n",
    "mdy, mma = get_metrics(C, pr)\n",
    "DATA.append((\"Uniform\", pr[0], mdy, mma))\n",
    "#\n",
    "C = get_c_rand(n_l, n_h, n_samples, pr=pr[0], cs=10)\n",
    "mdy, mma = get_metrics(C, pr)\n",
    "DATA.append((\"Random (Strong couplings)\", pr[0], mdy, mma))\n",
    "#\n",
    "C = get_c_rand(n_l, n_h, n_samples, pr=pr[0], cs=2)\n",
    "mdy, mma = get_metrics(C, pr)\n",
    "DATA.append((\"Random (Weak couplings)\", pr[0], mdy, mma))\n",
    "#\n",
    "C = get_c_static(n_l, n_h, n_samples, cs=10, pr=pr[0])\n",
    "mdy, mma = get_metrics(C, pr)\n",
    "DATA.append((\"Static (Strong couplings)\", pr[0], mdy, mma))\n",
    "\n",
    "C = get_c_static(n_l, n_h, n_samples, cs=3, pr=pr[0])\n",
    "mdy, mma = get_metrics(C, pr)\n",
    "DATA.append((\"Static (Weak couplings)\", pr[0], mdy, mma))"
   ]
  },
  {
   "cell_type": "code",
   "execution_count": null,
   "id": "ef004730",
   "metadata": {
    "scrolled": false
   },
   "outputs": [],
   "source": [
    "df = pd.DataFrame(DATA, columns=[\"Routing\", \"alpha\", \"dynamics\", \"mean max\"])\n",
    "df = df.sort_values(by=['Routing'], ascending=True)\n",
    "df"
   ]
  },
  {
   "cell_type": "code",
   "execution_count": null,
   "id": "fb953a25",
   "metadata": {},
   "outputs": [],
   "source": [
    "n_l = 30\n",
    "n_h = 15\n",
    "pr = np.array([0.4] * n_l)\n",
    "n_samples = 10000\n",
    "\n",
    "css = [3, 5, 7, 9]\n",
    "ncs = [1, 4, 7, 10, 13]\n",
    "#\n",
    "n_rows, n_cols = len(css), len(ncs)\n",
    "#\n",
    "MDY = np.zeros((n_rows, n_cols))\n",
    "MMA = np.zeros((n_rows, n_cols))\n",
    "for row_idx  in range(n_rows):\n",
    "    for col_idx in range(n_cols):\n",
    "        C = get_c_rate_strength(n_l, n_h, n_samples, cs=css[row_idx], nc=ncs[col_idx], pr=pr[0])\n",
    "        mdy, mma = get_metrics(C, pr)\n",
    "        MDY[row_idx][col_idx] = mdy\n",
    "        MMA[row_idx][col_idx] = mma\n"
   ]
  },
  {
   "cell_type": "code",
   "execution_count": null,
   "id": "bca83b8c",
   "metadata": {},
   "outputs": [],
   "source": [
    "plot_mat2(MDY, vmin=0, vmax=1, row_names=css, col_names=ncs,\n",
    "          xlabel=\"Coupling Rate\", ylabel=\"Coupling Strength\", title=\"ROUTING DYNAMIC FACTOR\")"
   ]
  },
  {
   "cell_type": "code",
   "execution_count": null,
   "id": "6ad149b3",
   "metadata": {},
   "outputs": [],
   "source": [
    "plot_mat2(MMA, vmin=0, vmax=1, row_names=css, col_names=ncs,\n",
    "          xlabel=\"Coupling Rate\", ylabel=\"Coupling Strength\",\n",
    "         title=\"MEAN MAX COUPLINGS\")"
   ]
  },
  {
   "cell_type": "markdown",
   "id": "4a34e981",
   "metadata": {},
   "source": [
    "# Addressing Numerical Stability!"
   ]
  },
  {
   "cell_type": "code",
   "execution_count": null,
   "id": "af9d995b",
   "metadata": {},
   "outputs": [],
   "source": [
    "C = np.array([\n",
    "    [0.8, 0.1, 0.1],\n",
    "    [0.9, 0.05, 0.05],\n",
    "    [0.1, 0.7, 0.2],\n",
    "    [0.2, 0.7, 0.1],\n",
    "    [1/3] * 3,\n",
    "    [1/3] * 3,\n",
    "    [1/3] * 3,\n",
    "    [1/3] * 3,\n",
    "    [1/3] * 3,\n",
    "    [1/3] * 3,\n",
    "])\n",
    "CN = np.maximum(C - 1/3, 0)\n",
    "CN[CN > 0] += 1/3\n",
    "C = CN\n",
    "#\n",
    "ar = np.mean(np.linalg.norm(C, axis=-1) > 0)\n",
    "pr =  1 - ar\n",
    "#\n",
    "\n",
    "a_tru = np.array([pr])\n",
    "a_est_b = a_tru + 0.1\n",
    "a_est_s = a_tru - 0.1\n",
    "\n",
    "\n",
    "C = C.reshape((-1, 1, 3))\n",
    "n_samples, n_l, n_h = C.shape\n",
    "C"
   ]
  },
  {
   "cell_type": "code",
   "execution_count": null,
   "id": "115c5c08",
   "metadata": {},
   "outputs": [],
   "source": [
    "#\n",
    "# MEAN COUPLINGS\n",
    "#\n",
    "EPS = 1e-9\n",
    "def ma_couplings(C, pr):\n",
    "    _, n_l, _ = C.shape\n",
    "    pr = pr.reshape(n_l, 1)\n",
    "    return C.mean(axis=0) / ( 1 - pr + EPS)\n",
    "\n",
    "def ma_couplings_o(C, pr):\n",
    "    n_samples, n_l, n_h = C.shape\n",
    "    if type(pr) == float:\n",
    "        pr = np.array([pr]*n_l).reshape(n_l,1)\n",
    "    else:\n",
    "        pr = pr.reshape(n_l, 1)\n",
    "    am = (C.sum(axis=0) - (pr * n_samples) / n_h) / ((1 - pr) * n_samples)\n",
    "    return am\n",
    "#\n",
    "# MEAN MAX\n",
    "#\n",
    "def mm_couplings(C):\n",
    "    return np.max(C, axis=2).mean(axis=0)\n",
    "\n",
    "def mma_couplings(C, pr):\n",
    "    _, n_l, _ = C.shape\n",
    "    assert len(pr) == n_l\n",
    "    return C.max(axis=-1).mean(axis=0) / (1 - pr.flatten()  + EPS)\n",
    "\n",
    "def mma_couplings_o(C, pr):\n",
    "    n_samples, n_l, n_h = C.shape\n",
    "    assert type(pr) == float or type(pr) == np.ndarray\n",
    "    amm = (C.max(axis=2).sum(axis=0) - (pr * n_samples) / n_h) / ((1 - pr) * n_samples)\n",
    "    return amm\n",
    "#\n",
    "# STD COUPLINGS\n",
    "#\n",
    "def stda_couplings(C, pr):\n",
    "    ma = ma_couplings(C, pr)\n",
    "    p0 = (C - ma)**2\n",
    "    p1 = np.sum(p0, axis=0)\n",
    "    p2 = (pr * n_samples * ma**2)\n",
    "    #\n",
    "    p3 = (p1 - p2)\n",
    "    p4 = p3 / ((1 - pr) * n_samples)\n",
    "    p5 = np.sqrt(p4)\n",
    "    return p5\n",
    "\n",
    "def stda_couplings(C, pr):\n",
    "    _, n_l, _ = C.shape\n",
    "    pr = pr.reshape(n_l, 1)\n",
    "    ma = ma_couplings(C, pr)\n",
    "    p1 = ((C - ma)**2).mean(axis=0) / (1 - pr  + EPS)\n",
    "    p2 = ma**2 * pr / (1 - pr  + EPS)\n",
    "    return np.sqrt(p1 - p2)\n",
    "\n",
    "def stda_couplings_o(C, pr):\n",
    "    n_samples, n_l, n_h = C.shape\n",
    "    if type(pr) == float:\n",
    "        pr = np.array([pr]*n_l).reshape(n_l,1)\n",
    "    else:\n",
    "        pr = pr.reshape(n_l, 1)\n",
    "    am = ma_couplings_o(C, pr)\n",
    "    asd = (np.sum((C - am)**2, axis=0) - (pr * n_samples * (1/n_h - am)**2)) / ((1 - pr) * n_samples)\n",
    "    #assert asd.min() > -1e-6, \"numerics {}\".format(asd.min())\n",
    "    #asd = np.maximum(0,asd)\n",
    "    asd = np.sqrt(asd)\n",
    "    return asd\n",
    "\n",
    "def normalize_couplings(C):\n",
    "    n_samples, n_l, n_h = C.shape\n",
    "    CN = np.maximum(C - 1/n_h, 0)\n",
    "    CN[CN > 0] += 1/n_h\n",
    "    C = CN\n",
    "    #\n",
    "    ar = np.mean(np.linalg.norm(C, axis=-1) > 0, axis=0)\n",
    "    pr =  1 - ar\n",
    "    return C, pr\n",
    "\n",
    "#\n",
    "# DYNAMICS COEFFICIENT\n",
    "#\n",
    "def dyc_capsules(C):\n",
    "    n_samples, n_l, n_h = C.shape\n",
    "    std_pr = np.sqrt(1/n_h * (1 - 1/n_h))\n",
    "    msd = C.std(axis=0).mean(axis=1)\n",
    "    mm = C.max(axis=(0,2))\n",
    "    dyn = msd / (mm * std_pr  + EPS)\n",
    "    return dyn\n",
    "\n",
    "def dyc_capsules_o(C, pr):\n",
    "    n_samples, n_l, n_h = C.shape\n",
    "    std_pr = np.sqrt(1/n_h * (1 - 1/n_h))\n",
    "    masd = stda_couplings_o(C, pr).mean(axis=1)\n",
    "    mx = C.max(axis=(0,2)) \n",
    "    dyc = masd / (std_pr * mx + EPS)\n",
    "    return dyc\n",
    "\n",
    "def dyc_capsules_n(C, pr):\n",
    "    n_samples, n_l, n_h = C.shape\n",
    "    std_pr = np.sqrt(1/n_h * (1 - 1/n_h))\n",
    "    masd = stda_couplings(C, pr).mean(axis=1)\n",
    "    mx = C.max(axis=(0,2)) \n",
    "    dyc = masd / (std_pr * mx + EPS)\n",
    "    dyc = masd / std_pr\n",
    "    return dyc"
   ]
  },
  {
   "cell_type": "code",
   "execution_count": null,
   "id": "8daa7867",
   "metadata": {},
   "outputs": [],
   "source": [
    "n_l = 8\n",
    "n_h = 4\n",
    "pr_true = np.array([0.4] * n_l)\n",
    "n_samples = 10000\n",
    "Ct = get_c_perfect_dynamic(n_l, n_h, n_samples, pr=pr_true[0])\n",
    "Cn, pr = normalize_couplings(Ct)\n",
    "#\n",
    "Cta = Ct[:600]\n",
    "Ctp = Ct[600:]\n",
    "#\n",
    "Cna = Cn[:600]\n",
    "Cnp = Cn[:600]"
   ]
  },
  {
   "cell_type": "markdown",
   "id": "c5b6ce4d",
   "metadata": {},
   "source": [
    "### dynamic coefficient"
   ]
  },
  {
   "cell_type": "code",
   "execution_count": null,
   "id": "476c2cfa",
   "metadata": {},
   "outputs": [],
   "source": [
    "dyc_capsules(Ct), dyc_capsules(Cn), dyc_capsules(Cta), dyc_capsules(Cna)"
   ]
  },
  {
   "cell_type": "code",
   "execution_count": null,
   "id": "218f3f5b",
   "metadata": {},
   "outputs": [],
   "source": [
    "dyc_capsules_n(Cn, pr)"
   ]
  },
  {
   "cell_type": "code",
   "execution_count": null,
   "id": "12c43b13",
   "metadata": {},
   "outputs": [],
   "source": [
    "dyc_capsules_o(Ct, pr), dyc_capsules(Cta)"
   ]
  },
  {
   "cell_type": "markdown",
   "id": "142ecaad",
   "metadata": {},
   "source": [
    "### adjusted std"
   ]
  },
  {
   "cell_type": "code",
   "execution_count": null,
   "id": "168e080f",
   "metadata": {},
   "outputs": [],
   "source": [
    "stda_couplings(Cn, pr), Cna.std(axis=0)"
   ]
  },
  {
   "cell_type": "code",
   "execution_count": null,
   "id": "a6875687",
   "metadata": {},
   "outputs": [],
   "source": [
    "stda_couplings_o(Ct, pr), Cta.std(axis=0)"
   ]
  },
  {
   "cell_type": "markdown",
   "id": "9063c6b8",
   "metadata": {},
   "source": [
    "### adjusted mean max"
   ]
  },
  {
   "cell_type": "code",
   "execution_count": null,
   "id": "66ecceb0",
   "metadata": {},
   "outputs": [],
   "source": [
    "mean_max(Ct), mean_max(Cn)"
   ]
  },
  {
   "cell_type": "code",
   "execution_count": null,
   "id": "c82c2145",
   "metadata": {},
   "outputs": [],
   "source": [
    "mma_couplings(Cn, pr), mean_max(Cna)"
   ]
  },
  {
   "cell_type": "code",
   "execution_count": null,
   "id": "c91dfd21",
   "metadata": {},
   "outputs": [],
   "source": [
    "mma_couplings_o(Ct, pr), mean_max(Cta)"
   ]
  },
  {
   "cell_type": "markdown",
   "id": "552ef5e4",
   "metadata": {},
   "source": [
    "### adjusted mean"
   ]
  },
  {
   "cell_type": "code",
   "execution_count": null,
   "id": "2cc202c0",
   "metadata": {},
   "outputs": [],
   "source": [
    "ma_couplings(Cn, pr), Cna.mean(axis=0)"
   ]
  },
  {
   "cell_type": "code",
   "execution_count": null,
   "id": "c27f7d3a",
   "metadata": {},
   "outputs": [],
   "source": [
    "ma_couplings_o(Ct, pr), Cta.mean(axis=0)"
   ]
  },
  {
   "cell_type": "markdown",
   "id": "5d499d99",
   "metadata": {},
   "source": [
    "## test metrics"
   ]
  },
  {
   "cell_type": "code",
   "execution_count": null,
   "id": "3a7044c6",
   "metadata": {},
   "outputs": [],
   "source": [
    "def print_metrics(C):\n",
    "    C, pr = normalize_couplings(C)\n",
    "    dyc = dyc_capsules_n(C, pr).mean()\n",
    "    mma = mma_couplings(C, pr).mean()\n",
    "    print(\"dyc: {:.3f}, mma: {:.3f}\".format(dyc, mma))\n",
    "    return pr, dyc, mma"
   ]
  },
  {
   "cell_type": "markdown",
   "id": "55853c08",
   "metadata": {},
   "source": [
    "### perfect routing"
   ]
  },
  {
   "cell_type": "code",
   "execution_count": null,
   "id": "e0aecfb9",
   "metadata": {},
   "outputs": [],
   "source": [
    "n_samples = 1000\n",
    "\n",
    "for n_l in [20, 40, 60]:\n",
    "    for n_h in [10, 20, 40]:\n",
    "        for pr in [0, 0.1, 0.4, 0.8]:\n",
    "            pr = np.array([pr] * n_l)\n",
    "            C = get_c_perfect_dynamic(n_l, n_h, n_samples, pr=pr[0])\n",
    "            print_metrics(C)"
   ]
  },
  {
   "cell_type": "markdown",
   "id": "c4c2b12f",
   "metadata": {},
   "source": [
    "### uniform routing"
   ]
  },
  {
   "cell_type": "code",
   "execution_count": null,
   "id": "55c6970f",
   "metadata": {},
   "outputs": [],
   "source": [
    "n_samples = 10000\n",
    "for n_l in [20, 40, 60]:\n",
    "    for n_h in [10, 20, 40]:\n",
    "        C = get_c_uniform(n_l, n_h, n_samples)\n",
    "        print_metrics(C)"
   ]
  },
  {
   "cell_type": "markdown",
   "id": "22740dd7",
   "metadata": {},
   "source": [
    "### random routing\n"
   ]
  },
  {
   "cell_type": "code",
   "execution_count": null,
   "id": "5824fdf6",
   "metadata": {},
   "outputs": [],
   "source": [
    "n_samples = 10000\n",
    "n_h = 20\n",
    "for n_l in [20, 40, 60]:\n",
    "    C = get_c_rand(n_l, n_h, n_samples, pr=0, cs=8)\n",
    "    print_metrics(C)"
   ]
  },
  {
   "cell_type": "code",
   "execution_count": null,
   "id": "b3474413",
   "metadata": {},
   "outputs": [],
   "source": [
    "n_samples = 10000\n",
    "n_l = 60\n",
    "for n_h in [20, 40, 60]:\n",
    "    C = get_c_rand(n_l, n_h, n_samples, pr=0, cs=8)\n",
    "    print_metrics(C)"
   ]
  },
  {
   "cell_type": "code",
   "execution_count": null,
   "id": "e566f0ba",
   "metadata": {},
   "outputs": [],
   "source": [
    "n_l = 30\n",
    "n_h = 10\n",
    "for pr in [0, 0.2, 0.4, 0.8]:\n",
    "    pr = np.array([pr] * n_l)\n",
    "    C = get_c_rand(n_l, n_h, n_samples, pr=pr[0], cs=8)\n",
    "    pr_est, dyc, mmn = print_metrics(C)"
   ]
  },
  {
   "cell_type": "code",
   "execution_count": null,
   "id": "6ce5a1f3",
   "metadata": {},
   "outputs": [],
   "source": [
    "n_l = 30\n",
    "n_h = 10\n",
    "for pr in [0, 0.2, 0.4, 0.8]:\n",
    "    pr = np.array([pr] * n_l)\n",
    "    C = get_c_rand(n_l, n_h, n_samples, pr=pr[0], cs=3)\n",
    "    pr_est, dyc, mmn = print_metrics(C)"
   ]
  },
  {
   "cell_type": "markdown",
   "id": "f99dda85",
   "metadata": {},
   "source": [
    "### static routing"
   ]
  },
  {
   "cell_type": "code",
   "execution_count": null,
   "id": "34c25b97",
   "metadata": {},
   "outputs": [],
   "source": [
    "n_l = 30\n",
    "n_h = 20\n",
    "for pr in [0, 0.2, 0.4, 0.6]:\n",
    "    pr = np.array([pr] * n_l)\n",
    "    C = get_c_static(n_l, n_h, n_samples, cs=2, pr=pr[0])\n",
    "    pr_est, dyc, mmn = print_metrics(C)"
   ]
  },
  {
   "cell_type": "code",
   "execution_count": null,
   "id": "eeec9f59",
   "metadata": {},
   "outputs": [],
   "source": [
    "n_l = 30\n",
    "n_h = 20\n",
    "for pr in [0, 0.2, 0.4, 0.6]:\n",
    "    pr = np.array([pr] * n_l)\n",
    "    C = get_c_static(n_l, n_h, n_samples, cs=4, pr=pr[0])\n",
    "    pr_est, dyc, mmn = print_metrics(C)"
   ]
  },
  {
   "cell_type": "code",
   "execution_count": null,
   "id": "97b7ee9f",
   "metadata": {},
   "outputs": [],
   "source": [
    "n_l = 30\n",
    "n_h = 20\n",
    "for pr in [0, 0.2, 0.4, 0.6]:\n",
    "    pr = np.array([pr] * n_l)\n",
    "    C = get_c_static(n_l, n_h, n_samples, cs=8, pr=pr[0])\n",
    "    pr_est, dyc, mmn = print_metrics(C)"
   ]
  },
  {
   "cell_type": "code",
   "execution_count": null,
   "id": "290d57bb",
   "metadata": {},
   "outputs": [],
   "source": [
    "for n_l in [30, 40, 60]:\n",
    "    for n_h in [10, 20, 30]:\n",
    "        pr = np.array([0] * n_l)\n",
    "        C = get_c_static(n_l, n_h, n_samples, cs=8, pr=pr[0])\n",
    "        pr_est, dyc, mmn = print_metrics(C)"
   ]
  },
  {
   "cell_type": "code",
   "execution_count": null,
   "id": "dea1f0b2",
   "metadata": {},
   "outputs": [],
   "source": [
    "for n_l in [30, 40, 60]:\n",
    "    for n_h in [10, 20, 30]:\n",
    "        pr = np.array([0] * n_l)\n",
    "        C = get_c_static(n_l, n_h, n_samples, cs=2, pr=pr[0])\n",
    "        pr_est, dyc, mmn = print_metrics(C)"
   ]
  },
  {
   "cell_type": "markdown",
   "id": "84aa6fab",
   "metadata": {},
   "source": [
    "### dynamic routing"
   ]
  },
  {
   "cell_type": "code",
   "execution_count": null,
   "id": "0ad98553",
   "metadata": {},
   "outputs": [],
   "source": [
    "n_l = 20\n",
    "n_h = 10\n",
    "pr = np.array([0] * n_l)\n",
    "nc = 2\n",
    "cs = 4\n",
    "\n",
    "for nc in [2, 4, 6, 8]:\n",
    "    C = get_c_rate_strength(n_l, n_h, n_samples, cs=cs, nc=nc, pr=pr[0])\n",
    "    pr_est, dyc, mmn = print_metrics(C)"
   ]
  },
  {
   "cell_type": "code",
   "execution_count": null,
   "id": "74d73954",
   "metadata": {},
   "outputs": [],
   "source": [
    "n_l = 20\n",
    "n_h = 10\n",
    "pr = np.array([0.5] * n_l)\n",
    "nc = 2\n",
    "cs = 4\n",
    "\n",
    "for nc in [2, 4, 6, 8]:\n",
    "    C = get_c_rate_strength(n_l, n_h, n_samples, cs=cs, nc=nc, pr=pr[0])\n",
    "    pr_est, dyc, mmn = print_metrics(C)"
   ]
  },
  {
   "cell_type": "code",
   "execution_count": null,
   "id": "3983a55e",
   "metadata": {},
   "outputs": [],
   "source": [
    "n_l = 20\n",
    "n_h = 10\n",
    "pr = np.array([0.5] * n_l)\n",
    "nc = 3\n",
    "\n",
    "for cs in [1, 2, 3, 4, 5, 6]:\n",
    "    C = get_c_rate_strength(n_l, n_h, n_samples, cs=cs, nc=nc, pr=pr[0])\n",
    "    pr_est, dyc, mmn = print_metrics(C)"
   ]
  },
  {
   "cell_type": "markdown",
   "id": "7f353d8d",
   "metadata": {},
   "source": [
    "# Show Data"
   ]
  },
  {
   "cell_type": "code",
   "execution_count": null,
   "id": "33308c95",
   "metadata": {},
   "outputs": [],
   "source": [
    "import pandas as pd\n",
    "pd.options.display.float_format = '{:.3f}'.format"
   ]
  },
  {
   "cell_type": "code",
   "execution_count": null,
   "id": "6b43361d",
   "metadata": {},
   "outputs": [],
   "source": [
    "def get_metrics(C, pr):\n",
    "    C, pr = normalize_couplings(C)\n",
    "    dyc = dyc_capsules_n(C, pr).mean()\n",
    "    mma = mma_couplings(C, pr).mean()\n",
    "    #print(\"dyc: {:.3f}, mma: {:.3f}\".format(dyc, mma))\n",
    "    return dyc, mma"
   ]
  },
  {
   "cell_type": "code",
   "execution_count": null,
   "id": "b5aa3676",
   "metadata": {},
   "outputs": [],
   "source": [
    "n_l = 32\n",
    "n_h = 16\n",
    "pr = np.array([0.4] * n_l)\n",
    "n_samples = 10000\n",
    "\n",
    "DATA = []\n",
    "#\n",
    "C = get_c_perfect_dynamic(n_l, n_h, n_samples, pr=pr[0])\n",
    "mdy, mma = get_metrics(C, pr)\n",
    "DATA.append((\"Perfect\", pr[0], mdy, mma))\n",
    "#\n",
    "C = get_c_uniform(n_l, n_h, n_samples)\n",
    "mdy, mma = get_metrics(C, pr)\n",
    "DATA.append((\"Uniform\", pr[0], mdy, mma))\n",
    "#\n",
    "C = get_c_rand(n_l, n_h, n_samples, pr=pr[0], cs=10)\n",
    "mdy, mma = get_metrics(C, pr)\n",
    "DATA.append((\"Random (Strong couplings)\", pr[0], mdy, mma))\n",
    "#\n",
    "C = get_c_rand(n_l, n_h, n_samples, pr=pr[0], cs=2)\n",
    "mdy, mma = get_metrics(C, pr)\n",
    "DATA.append((\"Random (Weak couplings)\", pr[0], mdy, mma))\n",
    "\n",
    "C = get_c_static(n_l, n_h, n_samples, cs=10, pr=pr[0])\n",
    "mdy, mma = get_metrics(C, pr)\n",
    "DATA.append((\"Static (Strong couplings)\", pr[0], mdy, mma))\n",
    "\n",
    "C = get_c_static(n_l, n_h, n_samples, cs=3, pr=pr[0])\n",
    "mdy, mma = get_metrics(C, pr)\n",
    "DATA.append((\"Static (Weak couplings)\", pr[0], mdy, mma))\n",
    "#\n",
    "pr = np.array([0.8] * n_l)\n",
    "#\n",
    "C = get_c_perfect_dynamic(n_l, n_h, n_samples, pr=pr[0])\n",
    "mdy, mma = get_metrics(C, pr)\n",
    "DATA.append((\"Perfect\", pr[0], mdy, mma))\n",
    "#\n",
    "C = get_c_uniform(n_l, n_h, n_samples)\n",
    "mdy, mma = get_metrics(C, pr)\n",
    "DATA.append((\"Uniform\", pr[0], mdy, mma))\n",
    "#\n",
    "C = get_c_rand(n_l, n_h, n_samples, pr=pr[0], cs=10)\n",
    "mdy, mma = get_metrics(C, pr)\n",
    "DATA.append((\"Random (Strong couplings)\", pr[0], mdy, mma))\n",
    "#\n",
    "C = get_c_rand(n_l, n_h, n_samples, pr=pr[0], cs=2)\n",
    "mdy, mma = get_metrics(C, pr)\n",
    "DATA.append((\"Random (Weak couplings)\", pr[0], mdy, mma))\n",
    "#\n",
    "C = get_c_static(n_l, n_h, n_samples, cs=10, pr=pr[0])\n",
    "mdy, mma = get_metrics(C, pr)\n",
    "DATA.append((\"Static (Strong couplings)\", pr[0], mdy, mma))\n",
    "\n",
    "C = get_c_static(n_l, n_h, n_samples, cs=3, pr=pr[0])\n",
    "mdy, mma = get_metrics(C, pr)\n",
    "DATA.append((\"Static (Weak couplings)\", pr[0], mdy, mma))"
   ]
  },
  {
   "cell_type": "code",
   "execution_count": null,
   "id": "eb818b3e",
   "metadata": {},
   "outputs": [],
   "source": [
    "df = pd.DataFrame(DATA, columns=[\"Routing\", \"alpha\", \"DYC\", \"MMA\"])\n",
    "df = df.sort_values(by=['Routing'], ascending=True)\n",
    "df"
   ]
  },
  {
   "cell_type": "code",
   "execution_count": null,
   "id": "5dd6796e",
   "metadata": {},
   "outputs": [],
   "source": [
    "n_l = 30\n",
    "n_h = 15\n",
    "pr = np.array([0.4] * n_l)\n",
    "n_samples = 10000\n",
    "\n",
    "css = [3, 5, 7, 9]\n",
    "ncs = [1, 4, 7, 10, 13]\n",
    "#\n",
    "n_rows, n_cols = len(css), len(ncs)\n",
    "#\n",
    "MDY = np.zeros((n_rows, n_cols))\n",
    "MMA = np.zeros((n_rows, n_cols))\n",
    "for row_idx  in range(n_rows):\n",
    "    for col_idx in range(n_cols):\n",
    "        C = get_c_rate_strength(n_l, n_h, n_samples, cs=css[row_idx], nc=ncs[col_idx], pr=pr[0])\n",
    "        mdy, mma = get_metrics(C, pr)\n",
    "        MDY[row_idx][col_idx] = mdy\n",
    "        MMA[row_idx][col_idx] = mma\n"
   ]
  },
  {
   "cell_type": "code",
   "execution_count": null,
   "id": "ba8097fa",
   "metadata": {},
   "outputs": [],
   "source": [
    "plot_mat2(MDY, vmin=0, vmax=1, row_names=css, col_names=ncs,\n",
    "          xlabel=\"Coupling Rate\", ylabel=\"Coupling Strength\", title=\"ROUTING DYNAMIC FACTOR\")"
   ]
  },
  {
   "cell_type": "code",
   "execution_count": null,
   "id": "7eb90422",
   "metadata": {},
   "outputs": [],
   "source": [
    "plot_mat2(MMA, vmin=0, vmax=1, row_names=css, col_names=ncs,\n",
    "          xlabel=\"Coupling Rate\", ylabel=\"Coupling Strength\",\n",
    "         title=\"MEAN MAX COUPLINGS\")"
   ]
  },
  {
   "cell_type": "markdown",
   "id": "dc73a465",
   "metadata": {},
   "source": [
    "# Version 3 - Addressing Stability & More"
   ]
  },
  {
   "cell_type": "code",
   "execution_count": null,
   "id": "bb09f1d4",
   "metadata": {},
   "outputs": [],
   "source": [
    "EPS = 1e-9\n",
    "#\n",
    "def mma_couplings(C, pr):\n",
    "    _, n_l, _ = C.shape\n",
    "    assert len(pr) == n_l\n",
    "    mma = C.max(axis=-1).mean(axis=0) / (1 - pr.flatten()  + EPS)\n",
    "    return mma\n",
    "\n",
    "def lmma_couplings(C, pr):\n",
    "    mma = mma_couplings(C, pr)\n",
    "    ws = (1 - pr) / (1 - pr + EPS).sum()\n",
    "    mma = (ws * mma).sum()\n",
    "    return mma\n",
    "\n",
    "def lmm_couplings(C, pr):\n",
    "    mm = mean_max(C)\n",
    "    ws = (1 - pr) / (1 - pr + EPS).sum()\n",
    "    mm = (ws * mm).sum()\n",
    "    return mm"
   ]
  },
  {
   "cell_type": "code",
   "execution_count": null,
   "id": "2409827a",
   "metadata": {},
   "outputs": [],
   "source": [
    "EPS = 1e-9\n",
    "#\n",
    "def ma_couplings(C, pr):\n",
    "    _, n_l, _ = C.shape\n",
    "    pr = pr.reshape(n_l, 1)\n",
    "    return C.mean(axis=0) / ( 1 - pr + EPS)\n",
    "#\n",
    "def stda_couplings(C, pr):\n",
    "    _, n_l, _ = C.shape\n",
    "    pr = pr.reshape(n_l, 1)\n",
    "    ma = ma_couplings(C, pr)\n",
    "    p1 = ((C - ma)**2).mean(axis=0) / (1 - pr  + EPS)\n",
    "    p2 = ma**2 * pr / (1 - pr  + EPS)\n",
    "    p3 = p1 - p2\n",
    "    p3 = np.maximum(0, p3)\n",
    "    return np.sqrt(p3)\n",
    "#\n",
    "def lmstda_couplings(C, pr):\n",
    "    mstda = stda_couplings(C, pr).mean(axis=1)\n",
    "    ws = (1 - pr) / (1 - pr + EPS).sum()\n",
    "    lmstda = (mstda * ws).sum()\n",
    "    return lmstda\n",
    "\n",
    "def dyc_capsules_n1(C, pr):\n",
    "    n_samples, n_l, n_h = C.shape\n",
    "    std_pr = np.sqrt(1/n_h * (1 - 1/n_h))\n",
    "    masd = stda_couplings(C, pr).mean(axis=1)\n",
    "    dyc = masd / std_pr\n",
    "    #dyc = dyc.mean() / (1 - pr.mean() + 1e-9)\n",
    "    return dyc\n",
    "\n",
    "def dyc_capsules_n2(C, pr):\n",
    "    n_samples, n_l, n_h = C.shape\n",
    "    std_pr = np.sqrt(1/n_h * (1 - 1/n_h))\n",
    "    masd = stda_couplings(C, pr).mean(axis=1)\n",
    "    mx = C.max(axis=(0,2)) \n",
    "    dyc = masd / (std_pr * mx + EPS)\n",
    "    return dyc\n",
    "\n",
    "def dyc_capsules_n3(C, pr):\n",
    "    n_samples, n_l, n_h = C.shape\n",
    "    std_pr = np.sqrt(1/n_h * (1 - 1/n_h))\n",
    "    stda = stda_couplings(C, pr)\n",
    "    mstda = stda.mean(axis=1)\n",
    "    \n",
    "def dycm_capsules(C, pr):\n",
    "    mstda = stda_couplings(C, pr).mean(axis=1)\n",
    "    mma = mma_couplings(C, pr)\n",
    "    assert np.all(mstda <= mma)\n",
    "    dycm = mstda / (mma + EPS)\n",
    "    return dycm\n",
    "\n",
    "def ldycm_capsules(C, pr):\n",
    "    dyc = dycm_capsules(C, pr)\n",
    "    ws = (1 - pr) / (1 - pr + EPS).sum()\n",
    "    ldyc = (ws * dyc).sum()\n",
    "    return ldyc\n",
    "\n",
    "\n",
    "def dycmx_capsules(C, pr):\n",
    "    mstda = stda_couplings(C, pr).mean(axis=1)\n",
    "    mx = C.max(axis=(0,-1))\n",
    "    assert np.all(mstda <= mx)\n",
    "    dycmx = mstda / (mx + EPS)\n",
    "    return dycmx\n",
    "\n",
    "def ldycmx_capsules(C, pr):\n",
    "    dycmx = dycmx_capsules(C, pr)\n",
    "    ws = (1 - pr) / (1 - pr + EPS).sum()\n",
    "    ldycmx = (ws * dycmx).sum()\n",
    "    return ldycmx\n",
    "\n",
    "def dycpr_capsules(C, pr):\n",
    "    n_samples, n_l, n_h = C.shape\n",
    "    std_pr = np.sqrt(1/n_h * (1 - 1/n_h))\n",
    "    mstda = stda_couplings(C, pr).mean(axis=1)\n",
    "    dycpr = mstda / std_pr\n",
    "    return dycpr\n",
    "\n",
    "def ldycpr_capsules(C, pr):\n",
    "    dycpr = dycpr_capsules(C, pr)\n",
    "    ws = (1 - pr) / (1 - pr + EPS).sum()\n",
    "    ldycpr = (ws * dycpr).sum()\n",
    "    return ldycpr\n",
    "\n",
    "def dycmpr_capsules(C, pr):\n",
    "    n_samples, n_l, n_h = C.shape\n",
    "    mstda = stda_couplings(C, pr).mean(axis=1)\n",
    "    mma = mma_couplings(C, pr)\n",
    "    std_pr = np.sqrt(1/n_h * (1 - 1/n_h))\n",
    "    assert np.all(mstda <= mma)\n",
    "    dycmpr = mstda / (mma * std_pr + EPS)\n",
    "    return dycmpr\n",
    "\n",
    "def ldycmpr_capsules(C, pr):\n",
    "    dycmpr = dycmpr_capsules(C, pr)\n",
    "    ws = (1 - pr) / (1 - pr + EPS).sum()\n",
    "    ldycmpr =  (ws * dycmpr).sum()\n",
    "    return ldycmpr\n",
    "\n",
    "def dycmxpr_couplings(C, pr):\n",
    "    n_samples, n_l, n_h = C.shape\n",
    "    mstda = stda_couplings(C, pr).mean(axis=1)\n",
    "    cmx = C.max(axis=(0,-1))\n",
    "    std_pr = np.sqrt(1/n_h * (1 - 1/n_h))\n",
    "    assert np.all(mstda <= cmx)\n",
    "    dycmxpr = mstda / (cmx * std_pr + EPS)\n",
    "    return dycmxpr\n",
    "\n",
    "def ldycmxpr_couplings(C, pr):\n",
    "    n_samples, n_l, n_h = C.shape\n",
    "    mstda = stda_couplings(C, pr).mean(axis=1)\n",
    "    cmx = C.max(axis=(0,-1))\n",
    "    std_pr = np.sqrt(1/n_h * (1 - 1/n_h))\n",
    "    assert np.all(mstda <= cmx)\n",
    "    dycmxpr = mstda / (cmx + EPS)\n",
    "    #\n",
    "    ws = (1 - pr) / (1 - pr + EPS).sum()\n",
    "    ldycmxpr =  (ws * dycmxpr).sum() / std_pr\n",
    "    return ldycmxpr"
   ]
  },
  {
   "cell_type": "markdown",
   "id": "19303c1b",
   "metadata": {},
   "source": [
    "## test metrics"
   ]
  },
  {
   "cell_type": "code",
   "execution_count": null,
   "id": "0d728259",
   "metadata": {},
   "outputs": [],
   "source": [
    "def print_metrics(C):\n",
    "    C, pr = normalize_couplings(C)\n",
    "    dyc = ldycmxpr_couplings(C, pr)\n",
    "    mma = lmma_couplings(C, pr)\n",
    "    print(\"dyc: {:.3f}, mma: {:.3f}\".format(dyc, mma))\n",
    "    return pr, dyc, mma"
   ]
  },
  {
   "cell_type": "markdown",
   "id": "18c33d1c",
   "metadata": {},
   "source": [
    "### perfect routing"
   ]
  },
  {
   "cell_type": "code",
   "execution_count": null,
   "id": "20fefe2b",
   "metadata": {},
   "outputs": [],
   "source": [
    "n_samples = 1000\n",
    "\n",
    "for n_l in [20, 40, 60]:\n",
    "    for n_h in [10, 20, 40]:\n",
    "        for pr in [0, 0.1, 0.4, 0.8]:\n",
    "            pr = np.array([pr] * n_l)\n",
    "            C = get_c_perfect_dynamic(n_l, n_h, n_samples, pr=pr[0])\n",
    "            print_metrics(C)"
   ]
  },
  {
   "cell_type": "markdown",
   "id": "7871c2bf",
   "metadata": {},
   "source": [
    "### uniform routing"
   ]
  },
  {
   "cell_type": "code",
   "execution_count": null,
   "id": "a4a554f1",
   "metadata": {},
   "outputs": [],
   "source": [
    "n_samples = 10000\n",
    "for n_l in [20, 40, 60]:\n",
    "    for n_h in [10, 20, 40]:\n",
    "        C = get_c_uniform(n_l, n_h, n_samples)\n",
    "        print_metrics(C)"
   ]
  },
  {
   "cell_type": "markdown",
   "id": "098f2d40",
   "metadata": {},
   "source": [
    "### random routing\n"
   ]
  },
  {
   "cell_type": "code",
   "execution_count": null,
   "id": "5ed1207d",
   "metadata": {},
   "outputs": [],
   "source": [
    "n_samples = 10000\n",
    "n_h = 20\n",
    "for n_l in [20, 40, 60]:\n",
    "    C = get_c_rand(n_l, n_h, n_samples, pr=0, cs=8)\n",
    "    print_metrics(C)"
   ]
  },
  {
   "cell_type": "code",
   "execution_count": null,
   "id": "d42f76f2",
   "metadata": {},
   "outputs": [],
   "source": [
    "n_samples = 10000\n",
    "n_l = 60\n",
    "for n_h in [20, 40, 60]:\n",
    "    C = get_c_rand(n_l, n_h, n_samples, pr=0, cs=8)\n",
    "    print_metrics(C)"
   ]
  },
  {
   "cell_type": "code",
   "execution_count": null,
   "id": "db4a9fa3",
   "metadata": {},
   "outputs": [],
   "source": [
    "n_l = 30\n",
    "n_h = 10\n",
    "for pr in [0, 0.2, 0.4, 0.8]:\n",
    "    pr = np.array([pr] * n_l)\n",
    "    C = get_c_rand(n_l, n_h, n_samples, pr=pr[0], cs=2)\n",
    "    pr_est, dyc, mmn = print_metrics(C)"
   ]
  },
  {
   "cell_type": "code",
   "execution_count": null,
   "id": "c7ce70ad",
   "metadata": {},
   "outputs": [],
   "source": [
    "n_l = 30\n",
    "n_h = 10\n",
    "for pr in [0, 0.2, 0.4, 0.8]:\n",
    "    pr = np.array([pr] * n_l)\n",
    "    C = get_c_rand(n_l, n_h, n_samples, pr=pr[0], cs=6)\n",
    "    pr_est, dyc, mmn = print_metrics(C)"
   ]
  },
  {
   "cell_type": "code",
   "execution_count": null,
   "id": "706cc8ed",
   "metadata": {},
   "outputs": [],
   "source": [
    "n_l = 30\n",
    "n_h = 10\n",
    "for pr in [0, 0.2, 0.4, 0.8]:\n",
    "    pr = np.array([pr] * n_l)\n",
    "    C = get_c_rand(n_l, n_h, n_samples, pr=pr[0], cs=10)\n",
    "    pr_est, dyc, mmn = print_metrics(C)"
   ]
  },
  {
   "cell_type": "markdown",
   "id": "5b2ca09f",
   "metadata": {},
   "source": [
    "### static routing"
   ]
  },
  {
   "cell_type": "code",
   "execution_count": null,
   "id": "cc4f6df9",
   "metadata": {},
   "outputs": [],
   "source": [
    "n_l = 30\n",
    "n_h = 20\n",
    "for pr in [0, 0.2, 0.4, 0.6]:\n",
    "    pr = np.array([pr] * n_l)\n",
    "    C = get_c_static(n_l, n_h, n_samples, cs=2, pr=pr[0])\n",
    "    pr_est, dyc, mmn = print_metrics(C)"
   ]
  },
  {
   "cell_type": "code",
   "execution_count": null,
   "id": "bb0680b3",
   "metadata": {},
   "outputs": [],
   "source": [
    "n_l = 30\n",
    "n_h = 20\n",
    "for pr in [0, 0.2, 0.4, 0.6]:\n",
    "    pr = np.array([pr] * n_l)\n",
    "    C = get_c_static(n_l, n_h, n_samples, cs=4, pr=pr[0])\n",
    "    pr_est, dyc, mmn = print_metrics(C)"
   ]
  },
  {
   "cell_type": "code",
   "execution_count": null,
   "id": "9b36dbae",
   "metadata": {},
   "outputs": [],
   "source": [
    "n_l = 30\n",
    "n_h = 20\n",
    "for pr in [0, 0.2, 0.4, 0.6]:\n",
    "    pr = np.array([pr] * n_l)\n",
    "    C = get_c_static(n_l, n_h, n_samples, cs=10, pr=pr[0])\n",
    "    pr_est, dyc, mmn = print_metrics(C)\n"
   ]
  },
  {
   "cell_type": "code",
   "execution_count": null,
   "id": "ac873eb9",
   "metadata": {},
   "outputs": [],
   "source": [
    "for n_l in [30, 40, 60]:\n",
    "    for n_h in [10, 20, 30]:\n",
    "        pr = np.array([0] * n_l)\n",
    "        C = get_c_static(n_l, n_h, n_samples, cs=8, pr=pr[0])\n",
    "        pr_est, dyc, mmn = print_metrics(C)"
   ]
  },
  {
   "cell_type": "code",
   "execution_count": null,
   "id": "939ad187",
   "metadata": {},
   "outputs": [],
   "source": [
    "for n_l in [30, 40, 60]:\n",
    "    for n_h in [10, 20, 30]:\n",
    "        pr = np.array([0] * n_l)\n",
    "        C = get_c_static(n_l, n_h, n_samples, cs=2, pr=pr[0])\n",
    "        pr_est, dyc, mmn = print_metrics(C)"
   ]
  },
  {
   "cell_type": "markdown",
   "id": "6c2cfff7",
   "metadata": {},
   "source": [
    "### dynamic routing"
   ]
  },
  {
   "cell_type": "code",
   "execution_count": null,
   "id": "c1d5a3f0",
   "metadata": {},
   "outputs": [],
   "source": [
    "n_l = 20\n",
    "n_h = 10\n",
    "pr = np.array([0] * n_l)\n",
    "cs = 4\n",
    "n_samples = 10000\n",
    "\n",
    "for nc in [2, 4, 6, 8, 10]:\n",
    "    C = get_c_rate_strength(n_l, n_h, n_samples, cs=cs, nc=nc, pr=pr[0])\n",
    "    pr_est, dyc, mmn = print_metrics(C)"
   ]
  },
  {
   "cell_type": "code",
   "execution_count": null,
   "id": "f038312c",
   "metadata": {},
   "outputs": [],
   "source": [
    "n_l = 32\n",
    "n_h = 16\n",
    "pr = np.array([0.5] * n_l)\n",
    "cs = 4\n",
    "n_samples = 10000\n",
    "\n",
    "for nc in [2, 4, 8, 12, 16]:\n",
    "    C = get_c_rate_strength(n_l, n_h, n_samples, cs=cs, nc=nc, pr=pr[0])\n",
    "    pr_est, dyc, mmn = print_metrics(C)"
   ]
  },
  {
   "cell_type": "code",
   "execution_count": null,
   "id": "7600f095",
   "metadata": {},
   "outputs": [],
   "source": [
    "from misc.metrics import *"
   ]
  },
  {
   "cell_type": "code",
   "execution_count": null,
   "id": "b52d5044",
   "metadata": {},
   "outputs": [],
   "source": [
    "n_l = 32\n",
    "n_h = 16\n",
    "pr = np.array([0.5] * n_l)\n",
    "cs = 4\n",
    "n_samples = 10000\n",
    "\n",
    "for nc in [2, 4, 8, 12, 16]:\n",
    "    C = get_c_rate_strength(n_l, n_h, n_samples, cs=cs, nc=nc, pr=pr[0])\n",
    "\n",
    "    Cn, pr = normalize_couplings(C, eps_rate=0.5) # this should not have an influence\n",
    "    \n",
    "    dycm = dycm_capsules(Cn, pr)\n",
    "    ldycm = ldycm_capsules(Cn, pr)\n",
    "    dycmx = dycmx_capsules(Cn, pr)\n",
    "    ldycmx = ldycmx_capsules(Cn, pr)\n",
    "    dycpr = dycpr_capsules(Cn, pr)\n",
    "    ldycpr = ldycpr_capsules(Cn, pr)\n",
    "    dycmpr = dycmpr_capsules(Cn, pr)\n",
    "    ldycmpr = ldycmpr_capsules(Cn, pr)\n",
    "    dycmxpr = dycmxpr_couplings(Cn, pr)\n",
    "    ldycmxpr = ldycmxpr_couplings(Cn, pr)\n",
    "    #\n",
    "    print(\"ldycm {:.3f} ldycmx {:.3f} ldycpr: {:.3f} ldycmpr {:.3f} ldycmxpr: {:.3f}\".format(\n",
    "        ldycm, ldycmx, ldycpr, ldycmpr, ldycmxpr))"
   ]
  },
  {
   "cell_type": "code",
   "execution_count": null,
   "id": "257dd384",
   "metadata": {},
   "outputs": [],
   "source": [
    "dycmxpr.mean()"
   ]
  },
  {
   "cell_type": "markdown",
   "id": "91ed2132",
   "metadata": {},
   "source": [
    "# Show Data"
   ]
  },
  {
   "cell_type": "code",
   "execution_count": null,
   "id": "2f663ae1",
   "metadata": {},
   "outputs": [],
   "source": [
    "import pandas as pd\n",
    "pd.options.display.float_format = '{:.3f}'.format"
   ]
  },
  {
   "cell_type": "code",
   "execution_count": null,
   "id": "f2737f11",
   "metadata": {},
   "outputs": [],
   "source": [
    "def get_metrics(C, pr):\n",
    "    C, pr = normalize_couplings(C)\n",
    "    dyc = ldycmxpr_couplings(C, pr)\n",
    "    #dyc = ldycmpr_capsules(C, pr)\n",
    "    mma = lmma_couplings(C, pr)\n",
    "    #print(\"dyc: {:.3f}, mma: {:.3f}\".format(dyc, mma))\n",
    "    return dyc, mma"
   ]
  },
  {
   "cell_type": "code",
   "execution_count": null,
   "id": "823eb17e",
   "metadata": {},
   "outputs": [],
   "source": [
    "n_l = 32\n",
    "n_h = 16\n",
    "pr = np.array([0.4] * n_l)\n",
    "n_samples = 10000\n",
    "\n",
    "DATA = []\n",
    "#\n",
    "C = get_c_perfect_dynamic(n_l, n_h, n_samples, pr=pr[0])\n",
    "mdy, mma = get_metrics(C, pr)\n",
    "DATA.append((\"Perfect\", pr[0], mdy, mma))\n",
    "#\n",
    "C = get_c_uniform(n_l, n_h, n_samples)\n",
    "mdy, mma = get_metrics(C, pr)\n",
    "DATA.append((\"Uniform\", pr[0], mdy, mma))\n",
    "#\n",
    "C = get_c_rand(n_l, n_h, n_samples, pr=pr[0], cs=10)\n",
    "mdy, mma = get_metrics(C, pr)\n",
    "DATA.append((\"Random (Strong couplings)\", pr[0], mdy, mma))\n",
    "#\n",
    "C = get_c_rand(n_l, n_h, n_samples, pr=pr[0], cs=2)\n",
    "mdy, mma = get_metrics(C, pr)\n",
    "DATA.append((\"Random (Weak couplings)\", pr[0], mdy, mma))\n",
    "\n",
    "C = get_c_static(n_l, n_h, n_samples, cs=10, pr=pr[0])\n",
    "mdy, mma = get_metrics(C, pr)\n",
    "DATA.append((\"Static (Strong couplings)\", pr[0], mdy, mma))\n",
    "\n",
    "C = get_c_static(n_l, n_h, n_samples, cs=3, pr=pr[0])\n",
    "mdy, mma = get_metrics(C, pr)\n",
    "DATA.append((\"Static (Weak couplings)\", pr[0], mdy, mma))\n",
    "#\n",
    "pr = np.array([0.8] * n_l)\n",
    "#\n",
    "C = get_c_perfect_dynamic(n_l, n_h, n_samples, pr=pr[0])\n",
    "mdy, mma = get_metrics(C, pr)\n",
    "DATA.append((\"Perfect\", pr[0], mdy, mma))\n",
    "#\n",
    "C = get_c_uniform(n_l, n_h, n_samples)\n",
    "mdy, mma = get_metrics(C, pr)\n",
    "DATA.append((\"Uniform\", pr[0], mdy, mma))\n",
    "#\n",
    "C = get_c_rand(n_l, n_h, n_samples, pr=pr[0], cs=10)\n",
    "mdy, mma = get_metrics(C, pr)\n",
    "DATA.append((\"Random (Strong couplings)\", pr[0], mdy, mma))\n",
    "#\n",
    "C = get_c_rand(n_l, n_h, n_samples, pr=pr[0], cs=2)\n",
    "mdy, mma = get_metrics(C, pr)\n",
    "DATA.append((\"Random (Weak couplings)\", pr[0], mdy, mma))\n",
    "#\n",
    "C = get_c_static(n_l, n_h, n_samples, cs=10, pr=pr[0])\n",
    "mdy, mma = get_metrics(C, pr)\n",
    "DATA.append((\"Static (Strong couplings)\", pr[0], mdy, mma))\n",
    "\n",
    "C = get_c_static(n_l, n_h, n_samples, cs=3, pr=pr[0])\n",
    "mdy, mma = get_metrics(C, pr)\n",
    "DATA.append((\"Static (Weak couplings)\", pr[0], mdy, mma))"
   ]
  },
  {
   "cell_type": "code",
   "execution_count": null,
   "id": "d1bbe1a8",
   "metadata": {},
   "outputs": [],
   "source": [
    "df = pd.DataFrame(DATA, columns=[\"Routing\", \"alpha\", \"DYC\", \"MMA\"])\n",
    "df = df.sort_values(by=['Routing'], ascending=True)\n",
    "df"
   ]
  },
  {
   "cell_type": "code",
   "execution_count": null,
   "id": "55f0eb73",
   "metadata": {},
   "outputs": [],
   "source": [
    "df = pd.DataFrame(DATA, columns=[\"Routing\", \"alpha\", \"DYC\", \"MMA\"])\n",
    "df = df.sort_values(by=['Routing'], ascending=True)\n",
    "df"
   ]
  },
  {
   "cell_type": "code",
   "execution_count": null,
   "id": "ffc6ba5f",
   "metadata": {},
   "outputs": [],
   "source": [
    "n_l = 30\n",
    "n_h = 15\n",
    "pr = np.array([0.4] * n_l)\n",
    "n_samples = 10000\n",
    "\n",
    "css = [3, 5, 7, 9]\n",
    "ncs = [1, 4, 7, 10, 13]\n",
    "#\n",
    "n_rows, n_cols = len(css), len(ncs)\n",
    "#\n",
    "MDY = np.zeros((n_rows, n_cols))\n",
    "MMA = np.zeros((n_rows, n_cols))\n",
    "for row_idx  in range(n_rows):\n",
    "    for col_idx in range(n_cols):\n",
    "        C = get_c_rate_strength(n_l, n_h, n_samples, cs=css[row_idx], nc=ncs[col_idx], pr=pr[0])\n",
    "        mdy, mma = get_metrics(C, pr)\n",
    "        MDY[row_idx][col_idx] = mdy\n",
    "        MMA[row_idx][col_idx] = mma\n"
   ]
  },
  {
   "cell_type": "code",
   "execution_count": null,
   "id": "f4f46582",
   "metadata": {},
   "outputs": [],
   "source": [
    "plot_mat2(MDY, vmin=0, vmax=1, row_names=css, col_names=ncs,\n",
    "          xlabel=\"Coupling Rate\", ylabel=\"Coupling Strength\", title=\"ROUTING DYNAMIC FACTOR\")"
   ]
  },
  {
   "cell_type": "code",
   "execution_count": null,
   "id": "602a9692",
   "metadata": {},
   "outputs": [],
   "source": [
    "plot_mat2(MMA, vmin=0, vmax=1, row_names=css, col_names=ncs,\n",
    "          xlabel=\"Coupling Rate\", ylabel=\"Coupling Strength\",\n",
    "         title=\"MEAN MAX COUPLINGS\")"
   ]
  },
  {
   "cell_type": "markdown",
   "id": "da2b8945",
   "metadata": {},
   "source": [
    "# Metrics for different activity rates"
   ]
  },
  {
   "cell_type": "code",
   "execution_count": null,
   "id": "0f8260b1",
   "metadata": {},
   "outputs": [],
   "source": [
    "from misc.metrics import *"
   ]
  },
  {
   "cell_type": "code",
   "execution_count": null,
   "id": "de442a16",
   "metadata": {},
   "outputs": [],
   "source": [
    "def get_c_perfect_dynamic_var(n_l, n_h, n_samples, pr):\n",
    "    vals = torch.randint(0, n_h, size=(n_samples, n_l))\n",
    "    C = torch.nn.functional.one_hot(vals).float() * 10\n",
    "    #\n",
    "    for idx in range(n_l):\n",
    "        pri = pr[idx]\n",
    "        n_pr = int(pri * n_samples)\n",
    "        idcs = np.random.choice(range(n_samples), n_pr, replace=False)\n",
    "        C[idcs, idx, :] = 0\n",
    "    C = torch.softmax(C + 1e-7, dim=-1).numpy()\n",
    "    return C\n",
    "\n",
    "def get_c_rate_strength_var2(n_l, n_h, n_samples, cs=None, cr=None, nc=None, pr=None):\n",
    "    \"\"\"\n",
    "        pr: pasive rate\n",
    "        cs: Coupling Strength\n",
    "        cr: Coupling Rate\n",
    "        (nc: number of couplings)\n",
    "        use either cr or nc\n",
    "    \"\"\"\n",
    "    if nc is None:\n",
    "        nc = int(cr * n_h)\n",
    "    #\n",
    "    assert nc > 0\n",
    "    #\n",
    "    CC = [get_c_static(n_l, n_h, n_samples // nc, cs=cs) for _ in range(nc)]\n",
    "    C = np.concatenate(CC, axis=0)\n",
    "    for idx in range(n_l):\n",
    "        pri = pr[idx]\n",
    "        n_pr = int(pri * C.shape[0])\n",
    "        idcs = np.random.choice(range(C.shape[0]), n_pr, replace=False)\n",
    "        C[idcs, idx, :] = 1/n_h\n",
    "    return C\n",
    "\n",
    "def get_c_static(n_l, n_h, n_samples, cs=10, pr=0):\n",
    "    if pr > 0:\n",
    "        n_samples_p = int(pr * n_samples)\n",
    "        n_samples = n_samples - n_samples_p\n",
    "    vals = torch.randint(0, n_h, size=(n_l,))\n",
    "    C = torch.nn.functional.one_hot(vals, num_classes=n_h).float() * cs\n",
    "    C = torch.softmax(C + 1e-7, dim=-1)\n",
    "    C = C.unsqueeze(0)\n",
    "    C = C.repeat(n_samples, 1, 1).numpy()\n",
    "    \n",
    "    if pr > 0:\n",
    "        C2 = get_c_uniform(n_l, n_h, n_samples_p)\n",
    "        C = np.concatenate([C, C2], axis=0)\n",
    "    \n",
    "    return C\n",
    "\n",
    "def get_c_rate_strength_var(n_l, n_h, n_samples, pr, cs=10, cr=None, nc=None):\n",
    "    if nc is None:\n",
    "        nc = int(cr * n_h)\n",
    "    n_samples_c = n_samples // nc\n",
    "    vals = torch.randint(0, n_h, size=(n_l,))\n",
    "    LH = []\n",
    "    for idx_l in range(n_l):\n",
    "        g = np.random.choice(n_h, nc, replace=False)\n",
    "        LH.append(g)\n",
    "    LH = np.array(LH)\n",
    "    C = []\n",
    "    for idx in range(LH.shape[1]):\n",
    "        vals = LH[:,idx]\n",
    "        vals = torch.nn.functional.one_hot(torch.LongTensor(vals), num_classes=n_h) * cs\n",
    "        vals = torch.softmax(vals + 1e-3, dim=-1)\n",
    "        vals = vals.unsqueeze(0)\n",
    "        vals = vals.repeat(n_samples_c, 1, 1).numpy()\n",
    "        C.append(vals)\n",
    "    C = np.concatenate(C)\n",
    "    for idx in range(n_l):\n",
    "        pri = pr[idx]\n",
    "        n_pr = int(pri * C.shape[0])\n",
    "        idcs = np.random.choice(range(C.shape[0]), n_pr, replace=False)\n",
    "        C[idcs, idx, :] = 1/n_h\n",
    "    return C"
   ]
  },
  {
   "cell_type": "code",
   "execution_count": null,
   "id": "0e923f4d",
   "metadata": {},
   "outputs": [],
   "source": [
    "def get_vibrance(U, C):\n",
    "    return rates_activities(U, C)\n",
    "\n",
    "\n",
    "def get_bonding(C):\n",
    "    Cn, pr = normalize_couplings(C, eps_rate=0.5)\n",
    "    #\n",
    "    # mma = mma_couplings(Cn, pr)\n",
    "    # mm = mm_couplings(C)\n",
    "    #\n",
    "    lmma = lmma_couplings(Cn, pr)\n",
    "    lmm = lmm_couplings(C, pr)\n",
    "    return lmma, lmm\n",
    "\n",
    "\n",
    "def get_dynamics(C):\n",
    "    C, pr = normalize_couplings(C, eps_rate=0.5)\n",
    "    #\n",
    "    ldycpr = ldycpr_capsules(C, pr)\n",
    "    # ldycmpr = ldycmpr_capsules(C, pr)\n",
    "    ldycmxpr = ldycmxpr_couplings(C, pr)\n",
    "    return ldycpr, ldycmxpr\n"
   ]
  },
  {
   "cell_type": "code",
   "execution_count": null,
   "id": "d82203f1",
   "metadata": {},
   "outputs": [],
   "source": [
    "n_samples = 1000\n",
    "\n",
    "print(\"{:<7}{:<7}{:<7}{:<7}{:<7}{:<7}\".format(\"pr_tru\", \"pr_est\",\n",
    "                                              \"lmma\", \"lmm\",\n",
    "                                              \"ldycpr\", \"ldycmxpr\"))\n",
    "for n_l in [20, 40, 60]:\n",
    "    for n_h in [10, 20, 30]:\n",
    "        for pr in [0, 0.1, 0.4, 0.8]:\n",
    "            pr = np.random.rand(n_l)\n",
    "            C = get_c_perfect_dynamic_var(n_l, n_h, n_samples, pr)\n",
    "            pr_est = rate_inactive_capsules(C)\n",
    "            lmma, lmm = get_bonding(C)\n",
    "            ldycpr, ldycmxpr = get_dynamics(C)\n",
    "            print(\"{:.3f}  {:.3f}  {:.3f}  {:.3f}  {:.3f}  {:.3f}\".format(pr.mean(), pr_est.mean(), lmma, lmm, ldycpr, ldycmxpr))"
   ]
  },
  {
   "cell_type": "code",
   "execution_count": null,
   "id": "852c06fa",
   "metadata": {},
   "outputs": [],
   "source": [
    "n_samples = 10000\n",
    "\n",
    "print(\"{:<7}{:<7}{:<7}{:<7}{:<7}{:<7}  {:<7}\".format(\"pr_tru\", \"pr_est\",\n",
    "                                              \"lmma\", \"lmm\",\n",
    "                                              \"ldycpr\", \"ldycmxpr\", \"cmax\"))\n",
    "cs = 10\n",
    "cr = 0.5\n",
    "for n_l in [40, 60]:\n",
    "    for n_h in [10, 20, 30]:\n",
    "        pr = np.random.rand(n_l)\n",
    "        C = get_c_rate_strength_var(n_l, n_h, n_samples, pr, cs, cr)\n",
    "        pr_est = rate_inactive_capsules(C)\n",
    "        lmma, lmm = get_bonding(C)\n",
    "        ldycpr, ldycmxpr = get_dynamics(C)\n",
    "        cmax = C.max(axis=(0,2)).mean()\n",
    "        print(\"{:.3f}  {:.3f}  {:.3f}  {:.3f}  {:.3f}  {:.3f}    {:.3f}\".format(pr.mean(), pr_est.mean(), lmma, lmm, ldycpr, ldycmxpr, cmax))"
   ]
  },
  {
   "cell_type": "code",
   "execution_count": null,
   "id": "c52b36eb",
   "metadata": {},
   "outputs": [],
   "source": [
    "n_samples = 10000\n",
    "\n",
    "print(\"{:<7}{:<7}{:<7}{:<7}{:<7}{:<7}  {:<7}\".format(\"pr_tru\", \"pr_est\",\n",
    "                                              \"lmma\", \"lmm\",\n",
    "                                              \"ldycpr\", \"ldycmxpr\", \"ldycmpr\"))\n",
    "cs = 10\n",
    "cr = 0.2\n",
    "\n",
    "for n_l in [30]:\n",
    "    for n_h in [30, 40, 50, 60]:\n",
    "        pr = np.random.rand(n_l)\n",
    "        C = get_c_rate_strength_var(n_l, n_h, n_samples, pr, cs, cr)\n",
    "        pr_est = rate_inactive_capsules(C)\n",
    "        lmma, lmm = get_bonding(C)\n",
    "        ldycpr, ldycmxpr = get_dynamics(C)\n",
    "        ldycmpr = ldycmpr_capsules(C, pr_est)\n",
    "        cmax = C.max(axis=(0,2)).mean()\n",
    "        print(\"{:.3f}  {:.3f}  {:.3f}  {:.3f}  {:.3f}  {:.3f}    {:.3f}\".format(pr.mean(), pr_est.mean(), lmma, lmm, ldycpr, ldycmxpr, ldycmpr))"
   ]
  }
 ],
 "metadata": {
  "kernelspec": {
   "display_name": "Python 3 (ipykernel)",
   "language": "python",
   "name": "python3"
  },
  "language_info": {
   "codemirror_mode": {
    "name": "ipython",
    "version": 3
   },
   "file_extension": ".py",
   "mimetype": "text/x-python",
   "name": "python",
   "nbconvert_exporter": "python",
   "pygments_lexer": "ipython3",
   "version": "3.9.7"
  },
  "latex_envs": {
   "LaTeX_envs_menu_present": true,
   "autoclose": false,
   "autocomplete": true,
   "bibliofile": "biblio.bib",
   "cite_by": "apalike",
   "current_citInitial": 1,
   "eqLabelWithNumbers": true,
   "eqNumInitial": 1,
   "hotkeys": {
    "equation": "Ctrl-E",
    "itemize": "Ctrl-I"
   },
   "labels_anchors": false,
   "latex_user_defs": false,
   "report_style_numbering": false,
   "user_envs_cfg": false
  }
 },
 "nbformat": 4,
 "nbformat_minor": 5
}
