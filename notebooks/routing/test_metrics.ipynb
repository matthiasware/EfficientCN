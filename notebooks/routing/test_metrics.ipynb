{
 "cells": [
  {
   "cell_type": "code",
   "execution_count": 1,
   "metadata": {},
   "outputs": [],
   "source": [
    "%load_ext autoreload\n",
    "%autoreload 2"
   ]
  },
  {
   "cell_type": "code",
   "execution_count": 2,
   "metadata": {},
   "outputs": [],
   "source": [
    "import sys\n",
    "sys.path.append(\"./../..\")"
   ]
  },
  {
   "cell_type": "code",
   "execution_count": 3,
   "metadata": {},
   "outputs": [],
   "source": [
    "import numpy as np\n",
    "import torch\n",
    "\n",
    "#local\n",
    "from misc import metrics as m\n",
    "from effcn.layers import FCCaps"
   ]
  },
  {
   "cell_type": "markdown",
   "metadata": {},
   "source": [
    "#### simulate capsule layer U"
   ]
  },
  {
   "cell_type": "code",
   "execution_count": 4,
   "metadata": {},
   "outputs": [
    {
     "name": "stdout",
     "output_type": "stream",
     "text": [
      "torch.Size([1, 2, 4])\n",
      "tensor(0.8964)\n",
      "tensor(0.0885)\n",
      "tensor(0.4766)\n",
      "tensor(0.2890)\n"
     ]
    }
   ],
   "source": [
    "torch.manual_seed(0)\n",
    "U = torch.rand(1,2,4)\n",
    "print(U.shape)\n",
    "print(U.max())\n",
    "print(U.min())\n",
    "print(U.mean())\n",
    "print(U.std())"
   ]
  },
  {
   "cell_type": "code",
   "execution_count": 5,
   "metadata": {},
   "outputs": [
    {
     "name": "stdout",
     "output_type": "stream",
     "text": [
      "tensor([[[0.4963, 0.7682, 0.0885, 0.1320],\n",
      "         [1.0000, 1.0000, 1.0000, 1.0000]]])\n"
     ]
    }
   ],
   "source": [
    "Ur = torch.clone(U)\n",
    "Ur[:,1,:] = 1\n",
    "#Ur[:,1,:] = 0\n",
    "print(Ur)"
   ]
  },
  {
   "cell_type": "markdown",
   "metadata": {},
   "source": [
    "#### rate_dead_capsules_norm"
   ]
  },
  {
   "cell_type": "code",
   "execution_count": 6,
   "metadata": {},
   "outputs": [
    {
     "data": {
      "text/plain": [
       "array([False, False])"
      ]
     },
     "execution_count": 6,
     "metadata": {},
     "output_type": "execute_result"
    }
   ],
   "source": [
    "m.rate_dead_capsules_norm(Ur)"
   ]
  },
  {
   "cell_type": "code",
   "execution_count": 7,
   "metadata": {},
   "outputs": [
    {
     "data": {
      "text/plain": [
       "array([[0.9282756, 1.2411162]], dtype=float32)"
      ]
     },
     "execution_count": 7,
     "metadata": {},
     "output_type": "execute_result"
    }
   ],
   "source": [
    "U_norm = np.linalg.norm(U, axis=2)\n",
    "#U.mean(axis=0).shape\n",
    "\n",
    "U_norm"
   ]
  },
  {
   "cell_type": "markdown",
   "metadata": {},
   "source": [
    "#### simulate coupling for layers"
   ]
  },
  {
   "cell_type": "code",
   "execution_count": 19,
   "metadata": {},
   "outputs": [],
   "source": [
    "FCL = FCCaps(U.shape[1],4, U.shape[2], 5)"
   ]
  },
  {
   "cell_type": "code",
   "execution_count": 32,
   "metadata": {},
   "outputs": [
    {
     "data": {
      "text/plain": [
       "torch.Size([1, 2, 4])"
      ]
     },
     "execution_count": 32,
     "metadata": {},
     "output_type": "execute_result"
    }
   ],
   "source": [
    "U_hat, A, A_scaled, A_sum, C, CB, U_h_fin, U_h_sq = FCL.forward_debug(Ur)\n",
    "\n",
    "C.shape"
   ]
  },
  {
   "cell_type": "code",
   "execution_count": 34,
   "metadata": {},
   "outputs": [
    {
     "name": "stdout",
     "output_type": "stream",
     "text": [
      "[[[0.03751105 0.23688202 0.4931419  0.23246495]\n",
      "  [0.2767547  0.22670116 0.23900557 0.25753862]]]\n"
     ]
    }
   ],
   "source": [
    "Cn = torch.clone(C).detach().numpy()\n",
    "Cn[:,0,2] += 0.2\n",
    "Cn[:,0,0] -= 0.2\n",
    "print(Cn)"
   ]
  },
  {
   "cell_type": "code",
   "execution_count": 35,
   "metadata": {},
   "outputs": [
    {
     "name": "stdout",
     "output_type": "stream",
     "text": [
      "4\n",
      "0.375\n"
     ]
    }
   ],
   "source": [
    "n_samples, n_l, n_h = Cn.shape\n",
    "ef = 1 / n_h + 1 / n_h * 0.5\n",
    "\n",
    "print(n_h)\n",
    "print(ef)"
   ]
  },
  {
   "cell_type": "markdown",
   "metadata": {},
   "source": [
    "#### rate_inactive_capsules"
   ]
  },
  {
   "cell_type": "code",
   "execution_count": 39,
   "metadata": {},
   "outputs": [
    {
     "data": {
      "text/plain": [
       "array([0., 1.])"
      ]
     },
     "execution_count": 39,
     "metadata": {},
     "output_type": "execute_result"
    }
   ],
   "source": [
    "pr = m.rate_inactive_capsules(Cn)\n",
    "\n",
    "pr"
   ]
  },
  {
   "cell_type": "code",
   "execution_count": 40,
   "metadata": {},
   "outputs": [
    {
     "data": {
      "text/plain": [
       "(array([[[0.       , 0.       , 0.4931419, 0.       ],\n",
       "         [0.       , 0.       , 0.       , 0.       ]]], dtype=float32),\n",
       " array([0., 1.]))"
      ]
     },
     "execution_count": 40,
     "metadata": {},
     "output_type": "execute_result"
    }
   ],
   "source": [
    "m.normalize_couplings(Cn)"
   ]
  },
  {
   "cell_type": "markdown",
   "metadata": {},
   "source": [
    "#### mm_couplings"
   ]
  },
  {
   "cell_type": "code",
   "execution_count": 43,
   "metadata": {},
   "outputs": [
    {
     "data": {
      "text/plain": [
       "array([0.4931419, 0.2767547], dtype=float32)"
      ]
     },
     "execution_count": 43,
     "metadata": {},
     "output_type": "execute_result"
    }
   ],
   "source": [
    "m.mm_couplings(Cn)"
   ]
  },
  {
   "cell_type": "markdown",
   "metadata": {},
   "source": [
    "mma_couplings"
   ]
  },
  {
   "cell_type": "code",
   "execution_count": 50,
   "metadata": {},
   "outputs": [
    {
     "name": "stdout",
     "output_type": "stream",
     "text": [
      "[4.93141889e-01 2.76754707e+08]\n"
     ]
    }
   ],
   "source": [
    "mma = m.mma_couplings(Cn, pr)\n",
    "\n",
    "print(mma)"
   ]
  },
  {
   "cell_type": "code",
   "execution_count": 53,
   "metadata": {},
   "outputs": [
    {
     "name": "stdout",
     "output_type": "stream",
     "text": [
      "[9.99999999e-01 1.00000000e+09]\n",
      "[0.4931419 0.2767547]\n",
      "[4.93141889e-01 2.76754707e+08]\n"
     ]
    }
   ],
   "source": [
    "print(1/(1 - pr.flatten() + 1e-9))\n",
    "print(Cn.max(axis=-1).mean(axis=0))\n",
    "print(Cn.max(axis=-1).mean(axis=0) / (1 - pr.flatten() + 1e-9))"
   ]
  },
  {
   "cell_type": "code",
   "execution_count": 49,
   "metadata": {},
   "outputs": [
    {
     "data": {
      "text/plain": [
       "0.4931418880927178"
      ]
     },
     "execution_count": 49,
     "metadata": {},
     "output_type": "execute_result"
    }
   ],
   "source": [
    "m.lmma_couplings(Cn, pr)"
   ]
  },
  {
   "cell_type": "code",
   "execution_count": 67,
   "metadata": {},
   "outputs": [
    {
     "name": "stdout",
     "output_type": "stream",
     "text": [
      "0.4931418880927178\n",
      "[0.49314189 0.        ]\n",
      "[1. 0.]\n"
     ]
    }
   ],
   "source": [
    "ws = (1 - pr) / (1 - pr + 1e-9).sum()\n",
    "print((ws * mma).sum())\n",
    "print((ws * mma))\n",
    "\n",
    "print(ws)"
   ]
  },
  {
   "cell_type": "code",
   "execution_count": 57,
   "metadata": {},
   "outputs": [
    {
     "data": {
      "text/plain": [
       "array([[3.75110507e-02, 2.36882016e-01, 4.93141889e-01, 2.32464954e-01],\n",
       "       [2.76754707e+08, 2.26701155e+08, 2.39005566e+08, 2.57538617e+08]])"
      ]
     },
     "execution_count": 57,
     "metadata": {},
     "output_type": "execute_result"
    }
   ],
   "source": [
    "m.ma_couplings(Cn, pr)"
   ]
  },
  {
   "cell_type": "code",
   "execution_count": 65,
   "metadata": {},
   "outputs": [
    {
     "data": {
      "text/plain": [
       "array([[3.75110507e-02, 2.36882016e-01, 4.93141889e-01, 2.32464954e-01],\n",
       "       [2.76754707e+08, 2.26701155e+08, 2.39005566e+08, 2.57538617e+08]])"
      ]
     },
     "execution_count": 65,
     "metadata": {},
     "output_type": "execute_result"
    }
   ],
   "source": [
    "_, n_l, _ = Cn.shape\n",
    "prx = pr.reshape(n_l, 1)\n",
    "Cn.mean(axis=0) / (1 - prx + 1e-9)"
   ]
  },
  {
   "cell_type": "code",
   "execution_count": 68,
   "metadata": {},
   "outputs": [
    {
     "data": {
      "text/plain": [
       "array([[3.75110567e-11, 2.36882042e-10, 4.93141916e-10, 2.32464964e-10],\n",
       "       [0.00000000e+00, 0.00000000e+00, 0.00000000e+00, 0.00000000e+00]])"
      ]
     },
     "execution_count": 68,
     "metadata": {},
     "output_type": "execute_result"
    }
   ],
   "source": [
    "m.stda_couplings(Cn, pr)"
   ]
  },
  {
   "cell_type": "code",
   "execution_count": 72,
   "metadata": {},
   "outputs": [
    {
     "name": "stdout",
     "output_type": "stream",
     "text": [
      "[[3.75110507e-02 2.36882016e-01 4.93141889e-01 2.32464954e-01]\n",
      " [2.76754707e+08 2.26701155e+08 2.39005566e+08 2.57538617e+08]]\n",
      "[[1.40707938e-21 5.61131017e-20 2.43188949e-19 5.40399594e-20]\n",
      " [7.65931677e+25 5.13934137e+25 5.71236603e+25 6.63261389e+25]]\n",
      "[[0.00000000e+00 0.00000000e+00 0.00000000e+00 0.00000000e+00]\n",
      " [7.65931679e+25 5.13934138e+25 5.71236604e+25 6.63261391e+25]]\n",
      "[[1.40707938e-21 5.61131017e-20 2.43188949e-19 5.40399594e-20]\n",
      " [0.00000000e+00 0.00000000e+00 0.00000000e+00 0.00000000e+00]]\n"
     ]
    }
   ],
   "source": [
    "_, n_l, _ = Cn.shape\n",
    "prx = pr.reshape(n_l, 1)\n",
    "ma = m.ma_couplings(Cn, prx)\n",
    "p1 = ((Cn - ma)**2).mean(axis=0) / (1 - prx + 1e-9)\n",
    "p2 = ma**2 * prx / (1 - prx + 1e-9)\n",
    "p3 = p1 - p2\n",
    "p3 = np.maximum(0, p3)\n",
    "\n",
    "print(ma)\n",
    "print(p1)\n",
    "print(p2)\n",
    "print(p3)"
   ]
  }
 ],
 "metadata": {
  "interpreter": {
   "hash": "188faa17072d374bec02d17fca5e544867bade69f71230dfd1a560a6ca303930"
  },
  "kernelspec": {
   "display_name": "Python 3.9.7 ('EffCN': conda)",
   "language": "python",
   "name": "python3"
  },
  "language_info": {
   "codemirror_mode": {
    "name": "ipython",
    "version": 3
   },
   "file_extension": ".py",
   "mimetype": "text/x-python",
   "name": "python",
   "nbconvert_exporter": "python",
   "pygments_lexer": "ipython3",
   "version": "3.9.7"
  },
  "orig_nbformat": 4
 },
 "nbformat": 4,
 "nbformat_minor": 2
}
