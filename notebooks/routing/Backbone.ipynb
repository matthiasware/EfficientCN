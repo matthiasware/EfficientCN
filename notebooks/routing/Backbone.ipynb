{
 "cells": [
  {
   "cell_type": "code",
   "execution_count": 2,
   "id": "1713c074",
   "metadata": {},
   "outputs": [],
   "source": [
    "import torch\n",
    "import torch.nn as nn\n",
    "import torch.nn.functional as F"
   ]
  },
  {
   "cell_type": "markdown",
   "id": "cfaac518",
   "metadata": {},
   "source": [
    "### Conv2d"
   ]
  },
  {
   "cell_type": "code",
   "execution_count": 3,
   "id": "da5f5b4b",
   "metadata": {},
   "outputs": [
    {
     "data": {
      "text/plain": [
       "torch.Size([1, 100, 1, 1])"
      ]
     },
     "execution_count": 3,
     "metadata": {},
     "output_type": "execute_result"
    }
   ],
   "source": [
    "ch_in = 2\n",
    "ch_out = 100\n",
    "model = nn.Conv2d(ch_in, ch_out, 7)\n",
    "#\n",
    "x = torch.rand(1, ch_in, 7, 7)\n",
    "y = model(x)\n",
    "y.shape"
   ]
  },
  {
   "cell_type": "code",
   "execution_count": 4,
   "id": "68c92592",
   "metadata": {},
   "outputs": [
    {
     "name": "stdout",
     "output_type": "stream",
     "text": [
      "torch.Size([100, 2, 7, 7])\n",
      "torch.Size([100])\n"
     ]
    }
   ],
   "source": [
    "for p in model.parameters():\n",
    "    print(p.shape)"
   ]
  },
  {
   "cell_type": "markdown",
   "id": "ad4ecb2c",
   "metadata": {},
   "source": [
    "### Group Convolution"
   ]
  },
  {
   "cell_type": "code",
   "execution_count": 5,
   "id": "9168809a",
   "metadata": {},
   "outputs": [],
   "source": [
    "import sys\n",
    "sys.path.append(\"./../..\")\n",
    "from misc.utils import count_parameters"
   ]
  },
  {
   "cell_type": "code",
   "execution_count": 6,
   "id": "2d8d1e90",
   "metadata": {},
   "outputs": [
    {
     "name": "stdout",
     "output_type": "stream",
     "text": [
      "torch.Size([8, 1, 7, 7])\n",
      "torch.Size([8])\n"
     ]
    }
   ],
   "source": [
    "ch_in = 4\n",
    "ch_out = 8\n",
    "model = nn.Conv2d(ch_in, ch_out, 7, groups=4)\n",
    "#\n",
    "x = torch.rand(1, ch_in, 7, 7)\n",
    "y = model(x)\n",
    "for p in model.parameters():\n",
    "    print(p.shape)"
   ]
  },
  {
   "cell_type": "code",
   "execution_count": 7,
   "id": "73f7f860",
   "metadata": {},
   "outputs": [
    {
     "data": {
      "text/plain": [
       "21504"
      ]
     },
     "execution_count": 7,
     "metadata": {},
     "output_type": "execute_result"
    }
   ],
   "source": [
    "model = nn.Sequential(\n",
    "    nn.Conv2d(3, 128, 3, groups=1, stride=1),\n",
    "    nn.Conv2d(128, 256, 3, groups=128, stride=2),\n",
    "    nn.Conv2d(256, 512, 3, groups=256, stride=1),\n",
    "    nn.Conv2d(512, 1024, 3, groups=512, stride=2),\n",
    ")\n",
    "count_parameters(model)"
   ]
  },
  {
   "cell_type": "code",
   "execution_count": 8,
   "id": "c06b57db",
   "metadata": {},
   "outputs": [
    {
     "data": {
      "text/plain": [
       "torch.Size([1, 1024, 5, 5])"
      ]
     },
     "execution_count": 8,
     "metadata": {},
     "output_type": "execute_result"
    }
   ],
   "source": [
    "x = torch.rand(1, 3, 32, 32)\n",
    "y = model(x)\n",
    "y.shape"
   ]
  },
  {
   "cell_type": "code",
   "execution_count": 9,
   "id": "d20d8ce6",
   "metadata": {},
   "outputs": [
    {
     "name": "stdout",
     "output_type": "stream",
     "text": [
      "446464\n"
     ]
    },
    {
     "data": {
      "text/plain": [
       "torch.Size([128, 512, 1, 1])"
      ]
     },
     "execution_count": 9,
     "metadata": {},
     "output_type": "execute_result"
    }
   ],
   "source": [
    "n_caps = 32\n",
    "d_caps = 16\n",
    "n_groups = n_caps\n",
    "d_out = n_caps * d_caps\n",
    "#\n",
    "model = nn.Sequential(\n",
    "    nn.Conv2d(3, 256, kernel_size=3, groups=1, stride=2, padding=0),\n",
    "    nn.Conv2d(256, 512, kernel_size=3, groups=n_groups, stride=2, padding=0),\n",
    "    nn.Conv2d(512, d_out, kernel_size=7, groups=n_groups, stride=1, padding=\"valid\"),\n",
    ")\n",
    "print(count_parameters(model))\n",
    "#\n",
    "x = torch.rand(128, 3, 32, 32)\n",
    "y = model(x)\n",
    "y.shape"
   ]
  },
  {
   "cell_type": "code",
   "execution_count": null,
   "id": "2a937376",
   "metadata": {},
   "outputs": [],
   "source": []
  },
  {
   "cell_type": "code",
   "execution_count": null,
   "id": "b944fac8",
   "metadata": {},
   "outputs": [],
   "source": []
  },
  {
   "cell_type": "code",
   "execution_count": 10,
   "id": "1b4a9c73",
   "metadata": {},
   "outputs": [
    {
     "name": "stdout",
     "output_type": "stream",
     "text": [
      "432\n"
     ]
    }
   ],
   "source": [
    "model = nn.Sequential(\n",
    "    nn.Conv2d(16, 16, kernel_size=3, groups=16, stride=1, padding=\"valid\", bias=False),\n",
    "    nn.Conv2d(16, 16, kernel_size=3, groups=16, stride=1, padding=\"valid\", bias=False),\n",
    "    nn.Conv2d(16, 16, kernel_size=3, groups=16, stride=1, padding=\"valid\", bias=False),\n",
    ")\n",
    "print(count_parameters(model))"
   ]
  },
  {
   "cell_type": "code",
   "execution_count": 11,
   "id": "f2bf3c63",
   "metadata": {},
   "outputs": [
    {
     "data": {
      "text/plain": [
       "tensor([[0.0862, 0.0000, 0.0000, 0.0000, 0.0000, 0.0000, 0.0000, 0.0000, 0.0000,\n",
       "         0.0000, 0.0000, 0.0000, 0.0000, 0.0000, 0.0000, 0.0000]],\n",
       "       grad_fn=<ReshapeAliasBackward0>)"
      ]
     },
     "execution_count": 11,
     "metadata": {},
     "output_type": "execute_result"
    }
   ],
   "source": [
    "x = torch.ones(1, 16, 7, 7)\n",
    "x[:, 1:, :, :] = 0\n",
    "y = model(x)\n",
    "y.reshape(1, 16)"
   ]
  },
  {
   "cell_type": "code",
   "execution_count": 12,
   "id": "71ca5762",
   "metadata": {},
   "outputs": [
    {
     "data": {
      "text/plain": [
       "torch.Size([1, 16, 1, 1])"
      ]
     },
     "execution_count": 12,
     "metadata": {},
     "output_type": "execute_result"
    }
   ],
   "source": [
    "y.shape"
   ]
  },
  {
   "cell_type": "code",
   "execution_count": 13,
   "id": "9aa27952",
   "metadata": {},
   "outputs": [
    {
     "name": "stdout",
     "output_type": "stream",
     "text": [
      "105984\n"
     ]
    }
   ],
   "source": [
    "model = nn.Sequential(\n",
    "    nn.Conv2d(3, 512, kernel_size=3, groups=1, stride=1, padding=\"valid\", bias=False),\n",
    "    nn.Conv2d(512, 1024, kernel_size=3, groups=256, stride=1, padding=\"valid\", bias=False),\n",
    "    nn.Conv2d(1024, 2048, kernel_size=3, groups=256, stride=1, padding=\"valid\", bias=False),\n",
    ")\n",
    "print(count_parameters(model))"
   ]
  },
  {
   "cell_type": "code",
   "execution_count": 14,
   "id": "6749b279",
   "metadata": {},
   "outputs": [
    {
     "data": {
      "text/plain": [
       "8.0"
      ]
     },
     "execution_count": 14,
     "metadata": {},
     "output_type": "execute_result"
    }
   ],
   "source": [
    "2048 / 256"
   ]
  },
  {
   "cell_type": "code",
   "execution_count": 15,
   "id": "b0417fc5",
   "metadata": {},
   "outputs": [
    {
     "name": "stdout",
     "output_type": "stream",
     "text": [
      "253440\n"
     ]
    }
   ],
   "source": [
    "model = nn.Sequential(\n",
    "            nn.Conv2d(3, 512, kernel_size=3, groups=1, stride=2, padding=0, bias=False),\n",
    "            nn.ReLU(),\n",
    "            nn.Conv2d(512, 1024, kernel_size=3, groups=256, stride=2, padding=0, bias=False),\n",
    "            nn.ReLU(),\n",
    "            nn.Conv2d(1024, 2048, kernel_size=3, groups=256, stride=2, padding=0, bias=False),\n",
    "            nn.ReLU(),\n",
    "            nn.Conv2d(2048, 2048, kernel_size=3, groups=256, stride=1, padding=0, bias=False),\n",
    ")\n",
    "print(count_parameters(model))"
   ]
  },
  {
   "cell_type": "code",
   "execution_count": 42,
   "id": "d230f1d4",
   "metadata": {},
   "outputs": [
    {
     "name": "stdout",
     "output_type": "stream",
     "text": [
      "305856\n"
     ]
    },
    {
     "data": {
      "text/plain": [
       "torch.Size([1, 1024, 1, 1])"
      ]
     },
     "execution_count": 42,
     "metadata": {},
     "output_type": "execute_result"
    }
   ],
   "source": [
    "model = nn.Sequential(\n",
    "            nn.Conv2d(3, 64, kernel_size=3, groups=1, stride=1, padding=\"same\", bias=False),\n",
    "            nn.ReLU(),\n",
    "            nn.MaxPool2d(2),\n",
    "            nn.Conv2d(64, 1024, kernel_size=3, groups=64, stride=1, padding=\"same\", bias=False),\n",
    "            nn.ReLU(),\n",
    "            nn.MaxPool2d(2),\n",
    "            nn.Conv2d(1024, 1024, kernel_size=3, groups=64, stride=1, padding=0, bias=False),\n",
    "            nn.ReLU(),\n",
    "            nn.MaxPool2d(2),\n",
    "            nn.Conv2d(1024, 1024, kernel_size=3, groups=64, stride=1, padding=0, bias=False),\n",
    "\n",
    ")\n",
    "print(count_parameters(model))\n",
    "model(torch.rand(1, 3, 32, 32)).shape"
   ]
  },
  {
   "cell_type": "code",
   "execution_count": 26,
   "id": "7692deb7",
   "metadata": {},
   "outputs": [
    {
     "data": {
      "text/plain": [
       "16.0"
      ]
     },
     "execution_count": 26,
     "metadata": {},
     "output_type": "execute_result"
    }
   ],
   "source": [
    "1024 / 64"
   ]
  },
  {
   "cell_type": "code",
   "execution_count": 27,
   "id": "0adf9411",
   "metadata": {},
   "outputs": [
    {
     "data": {
      "text/plain": [
       "torch.Size([1, 1024, 20, 20])"
      ]
     },
     "execution_count": 27,
     "metadata": {},
     "output_type": "execute_result"
    }
   ],
   "source": [
    "model(torch.rand(1, 3, 32, 32)).shape"
   ]
  },
  {
   "cell_type": "code",
   "execution_count": null,
   "id": "fc3aed5b",
   "metadata": {},
   "outputs": [],
   "source": []
  }
 ],
 "metadata": {
  "kernelspec": {
   "display_name": "Python 3 (ipykernel)",
   "language": "python",
   "name": "python3"
  },
  "language_info": {
   "codemirror_mode": {
    "name": "ipython",
    "version": 3
   },
   "file_extension": ".py",
   "mimetype": "text/x-python",
   "name": "python",
   "nbconvert_exporter": "python",
   "pygments_lexer": "ipython3",
   "version": "3.8.12"
  },
  "latex_envs": {
   "LaTeX_envs_menu_present": true,
   "autoclose": false,
   "autocomplete": true,
   "bibliofile": "biblio.bib",
   "cite_by": "apalike",
   "current_citInitial": 1,
   "eqLabelWithNumbers": true,
   "eqNumInitial": 1,
   "hotkeys": {
    "equation": "Ctrl-E",
    "itemize": "Ctrl-I"
   },
   "labels_anchors": false,
   "latex_user_defs": false,
   "report_style_numbering": false,
   "user_envs_cfg": false
  }
 },
 "nbformat": 4,
 "nbformat_minor": 5
}
