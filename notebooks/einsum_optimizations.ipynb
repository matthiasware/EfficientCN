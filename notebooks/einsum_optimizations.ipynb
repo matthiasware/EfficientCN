{
 "cells": [
  {
   "cell_type": "code",
   "execution_count": null,
   "id": "4f3ae572",
   "metadata": {},
   "outputs": [],
   "source": [
    "import torch\n",
    "import torch.nn as nn\n",
    "import numpy as np\n",
    "import opt_einsum as oe"
   ]
  },
  {
   "cell_type": "code",
   "execution_count": null,
   "id": "69bffd99",
   "metadata": {},
   "outputs": [],
   "source": [
    "np.random.seed(0)"
   ]
  },
  {
   "cell_type": "markdown",
   "id": "e4214634",
   "metadata": {},
   "source": [
    "# Self Attention Routing"
   ]
  },
  {
   "cell_type": "code",
   "execution_count": null,
   "id": "ed2503cc",
   "metadata": {},
   "outputs": [],
   "source": [
    "n_l = 20\n",
    "n_h = 10\n",
    "d_l = 16\n",
    "d_h = 16\n",
    "b = 32"
   ]
  },
  {
   "cell_type": "code",
   "execution_count": null,
   "id": "3d957f4b",
   "metadata": {},
   "outputs": [],
   "source": [
    "W_np = np.random.random((n_l, n_h, d_l, d_h))\n",
    "B_np = np.random.random((n_l, n_h))\n",
    "U_l_np = np.random.random((b, n_l, d_l))"
   ]
  },
  {
   "cell_type": "code",
   "execution_count": null,
   "id": "9c48e10f",
   "metadata": {},
   "outputs": [],
   "source": [
    "print(W_np)\n",
    "print(B_np)\n",
    "print(U_l_np)"
   ]
  },
  {
   "cell_type": "markdown",
   "id": "44bb307a",
   "metadata": {},
   "source": [
    "#### Pytorch"
   ]
  },
  {
   "cell_type": "code",
   "execution_count": null,
   "id": "98532345",
   "metadata": {},
   "outputs": [],
   "source": [
    "W = torch.from_numpy(W_np)\n",
    "B = torch.from_numpy(B_np)\n",
    "U_l = torch.from_numpy(U_l_np)"
   ]
  },
  {
   "cell_type": "code",
   "execution_count": null,
   "id": "988a6296",
   "metadata": {},
   "outputs": [],
   "source": [
    "\"\"\"\n",
    "einsum convenventions:\n",
    "  n_l = i | h\n",
    "  d_l = j\n",
    "  n_h = k\n",
    "  d_h = l\n",
    "\"\"\"\n",
    "U_hat = torch.einsum('...ij,ikjl->...ikl', U_l, W)\n",
    "\n",
    "# A (n_l, n_l, n_h)\n",
    "A = torch.einsum(\"...ikl, ...hkl -> ...hik\", U_hat, U_hat)\n",
    "A = A / torch.sqrt(torch.Tensor([d_l]))\n",
    "A_sum = torch.einsum(\"...hij->...hj\",A)\n",
    "C = torch.softmax(A_sum,dim=-1)\n",
    "CB = C + B\n",
    "U_h = torch.einsum('...ikl,...ik->...kl', U_hat, CB)"
   ]
  },
  {
   "cell_type": "code",
   "execution_count": null,
   "id": "84e43ffb",
   "metadata": {},
   "outputs": [],
   "source": [
    "path_info"
   ]
  },
  {
   "cell_type": "code",
   "execution_count": null,
   "id": "93c895a9",
   "metadata": {},
   "outputs": [],
   "source": [
    "path_info = oe.contract_path('bikl,bik->bkl', U_hat, CB)\n",
    "path_info"
   ]
  },
  {
   "cell_type": "code",
   "execution_count": null,
   "id": "a5219652",
   "metadata": {},
   "outputs": [],
   "source": [
    "print(path_info[0])\n",
    "print(path_info[1])"
   ]
  },
  {
   "cell_type": "code",
   "execution_count": null,
   "id": "bedf5644",
   "metadata": {},
   "outputs": [],
   "source": [
    "i = 2\n",
    "k = 4\n",
    "j = 3\n",
    "A = torch.rand(i,k)\n",
    "B = torch.rand(j,k)"
   ]
  },
  {
   "cell_type": "code",
   "execution_count": null,
   "id": "e8fb781b",
   "metadata": {},
   "outputs": [],
   "source": [
    "M = torch.einsum('ik,jk->ij', A, B)\n",
    "print(M.shape)\n",
    "M"
   ]
  },
  {
   "cell_type": "code",
   "execution_count": null,
   "id": "117b10e9",
   "metadata": {},
   "outputs": [],
   "source": [
    "M = torch.einsum('ik,jk->ji', A, B)\n",
    "print(M.shape)\n",
    "M"
   ]
  },
  {
   "cell_type": "code",
   "execution_count": null,
   "id": "04af772e",
   "metadata": {},
   "outputs": [],
   "source": [
    "A"
   ]
  },
  {
   "cell_type": "code",
   "execution_count": null,
   "id": "57ebed51",
   "metadata": {},
   "outputs": [],
   "source": [
    "torch.einsum(\"ij,ij->i\",A,A)"
   ]
  },
  {
   "cell_type": "code",
   "execution_count": null,
   "id": "87d5839f",
   "metadata": {},
   "outputs": [],
   "source": [
    "print(((A[0] * A[0]).sum()))\n",
    "print(((A[1] * A[1]).sum()))\n"
   ]
  },
  {
   "cell_type": "code",
   "execution_count": null,
   "id": "37e2a6c8",
   "metadata": {},
   "outputs": [],
   "source": [
    "A"
   ]
  },
  {
   "cell_type": "code",
   "execution_count": null,
   "id": "e87de337",
   "metadata": {},
   "outputs": [],
   "source": [
    "A = torch.rand((3, 3))\n",
    "A"
   ]
  },
  {
   "cell_type": "code",
   "execution_count": null,
   "id": "0c75857d",
   "metadata": {},
   "outputs": [],
   "source": [
    "torch.einsum('ii->i', A)"
   ]
  },
  {
   "cell_type": "code",
   "execution_count": null,
   "id": "12adb5e0",
   "metadata": {},
   "outputs": [],
   "source": [
    "torch.einsum('ii->',A)"
   ]
  },
  {
   "cell_type": "code",
   "execution_count": null,
   "id": "b954f12d",
   "metadata": {},
   "outputs": [],
   "source": []
  }
 ],
 "metadata": {
  "kernelspec": {
   "display_name": "Python 3 (ipykernel)",
   "language": "python",
   "name": "python3"
  },
  "language_info": {
   "codemirror_mode": {
    "name": "ipython",
    "version": 3
   },
   "file_extension": ".py",
   "mimetype": "text/x-python",
   "name": "python",
   "nbconvert_exporter": "python",
   "pygments_lexer": "ipython3",
   "version": "3.9.7"
  }
 },
 "nbformat": 4,
 "nbformat_minor": 5
}
