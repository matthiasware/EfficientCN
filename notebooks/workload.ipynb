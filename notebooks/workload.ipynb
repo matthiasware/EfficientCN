{
 "cells": [
  {
   "cell_type": "code",
   "execution_count": null,
   "id": "c94b402c",
   "metadata": {},
   "outputs": [],
   "source": [
    "import numpy as np\n",
    "import matplotlib.pyplot as plt"
   ]
  },
  {
   "cell_type": "code",
   "execution_count": null,
   "id": "15f3699e",
   "metadata": {},
   "outputs": [],
   "source": [
    "cache_sizes = np.arange(1, 100)\n",
    "n_pages = 100\n",
    "n_access = 10000"
   ]
  },
  {
   "cell_type": "code",
   "execution_count": null,
   "id": "8dd8b60b",
   "metadata": {},
   "outputs": [],
   "source": [
    "cache_sizes"
   ]
  },
  {
   "cell_type": "markdown",
   "id": "b989c706",
   "metadata": {},
   "source": [
    "# Blub"
   ]
  },
  {
   "cell_type": "code",
   "execution_count": null,
   "id": "dbbb3481",
   "metadata": {},
   "outputs": [],
   "source": [
    "def find_next_usage(page, accesses):\n",
    "    counter = 0\n",
    "    for page_next in accesses:\n",
    "        if page_next == page:\n",
    "            break\n",
    "        else:\n",
    "            counter += 1\n",
    "    else:\n",
    "        counter = np.inf\n",
    "    return counter"
   ]
  },
  {
   "cell_type": "code",
   "execution_count": null,
   "id": "55213258",
   "metadata": {},
   "outputs": [],
   "source": [
    "class Cache:\n",
    "    def __init__(self, size):\n",
    "        self.size = size\n",
    "    def replace(self, x):\n",
    "        pass\n",
    "    def contains(self, x):\n",
    "        pass\n",
    "\n",
    "class OptimalCache:\n",
    "    def __init__(self, size):\n",
    "        self.size = size\n",
    "        self.cache = set([])\n",
    "    \n",
    "    name = \"Optimal\"\n",
    "    \n",
    "    def contains(self, x):\n",
    "        return x in self.cache\n",
    "    \n",
    "    def __len__(self):\n",
    "        return len(self.cache)\n",
    "    \n",
    "    def is_full(self):\n",
    "        return len(self.cache) >= self.size\n",
    "    \n",
    "    def add(self, page):\n",
    "        assert len(self.cache) < self.size\n",
    "        self.cache.add(page)\n",
    "    \n",
    "    def replace(self, page, future_workload):\n",
    "        future_usage = [(p, find_next_usage(p, future_workload)) for p in self.cache]\n",
    "        replace_page = max(future_usage, key=lambda x: x[1])\n",
    "        self.cache.remove(replace_page[0])\n",
    "        self.add(page)\n",
    "\n",
    "class FIFOCache:\n",
    "    def __init__(self, size):\n",
    "        self.size = size\n",
    "        self.cache = []\n",
    "    \n",
    "    name = \"FIFO\"\n",
    "    \n",
    "    def contains(self, x):\n",
    "        return x in self.cache\n",
    "\n",
    "    def __len__(self):\n",
    "        return len(self.cache)\n",
    "    \n",
    "    def is_full(self):\n",
    "        return len(self.cache) >= self.size\n",
    "\n",
    "    def add(self, page):\n",
    "        assert len(self.cache) < self.size\n",
    "        self.cache.insert(0, page)\n",
    "    \n",
    "    def replace(self, page, *args):\n",
    "        self.cache.pop()\n",
    "        self.cache.insert(0, page)\n",
    "\n",
    "class RandomCache:\n",
    "    def __init__(self, size):\n",
    "        self.size = size\n",
    "        self.cache = []\n",
    "    \n",
    "    name = \"Random\"\n",
    "    \n",
    "    def contains(self, x):\n",
    "        return x in self.cache\n",
    "\n",
    "    def __len__(self):\n",
    "        return len(self.cache)\n",
    "    \n",
    "    def is_full(self):\n",
    "        return len(self.cache) >= self.size\n",
    "\n",
    "    def add(self, page):\n",
    "        assert len(self.cache) < self.size\n",
    "        self.cache.append(page)\n",
    "    \n",
    "    def replace(self, page, *args):\n",
    "        self.cache.pop(np.random.randint(self.size))\n",
    "        self.add(page)\n",
    "\n",
    "class LRUCache:\n",
    "    def __init__(self, size):\n",
    "        self.size = size\n",
    "        self.cache = []\n",
    "\n",
    "    name = \"LRU\"\n",
    "    \n",
    "    def contains(self, page):\n",
    "        if page in self.cache:\n",
    "            self.cache.remove(page)\n",
    "            self.add(page)\n",
    "            return True\n",
    "        else:\n",
    "            return False\n",
    "\n",
    "    def __len__(self):\n",
    "        return len(self.cache)\n",
    "    \n",
    "    def is_full(self):\n",
    "        return len(self.cache) >= self.size\n",
    "\n",
    "    def add(self, page):\n",
    "        assert len(self.cache) < self.size\n",
    "        assert page not in self.cache\n",
    "        self.cache.insert(0, page)\n",
    "    \n",
    "    def replace(self, page, *args):\n",
    "        self.cache.pop()\n",
    "        self.add(page)"
   ]
  },
  {
   "cell_type": "code",
   "execution_count": null,
   "id": "d33a09a1",
   "metadata": {},
   "outputs": [],
   "source": [
    "def calc_hit_rate(cache, workload):\n",
    "    n_hits = 0\n",
    "    n_miss = 0\n",
    "    for idx, page in enumerate(workload):\n",
    "        if cache.contains(page):\n",
    "            n_hits += 1\n",
    "        else:\n",
    "            n_miss += 1\n",
    "            if cache.is_full():\n",
    "                cache.replace(page, workload[idx + 1:])\n",
    "            else:\n",
    "                cache.add(page)\n",
    "    return n_hits / (n_hits + n_miss)"
   ]
  },
  {
   "cell_type": "code",
   "execution_count": null,
   "id": "afbada4d",
   "metadata": {},
   "outputs": [],
   "source": [
    "def get_random_workload(n_pages, n_access):\n",
    "    return np.random.randint(0, n_pages, n_access)\n",
    "\n",
    "def get_80_20_workload(n_pages, n_access):\n",
    "    n_hot = int(0.2 * n_pages)\n",
    "    n_cold = n_pages - n_hot\n",
    "    #\n",
    "    pages = np.arange(n_pages)\n",
    "    np.random.shuffle(pages)\n",
    "    hot_pages = pages[:n_hot]\n",
    "    cold_pages = pages[n_hot:]\n",
    "    #\n",
    "    n_access_hot = int(n_access * 0.8)\n",
    "    n_access_cold = n_access - n_access_hot\n",
    "    #\n",
    "    workload_hot = np.random.choice(hot_pages, size=n_access_hot)\n",
    "    workload_cold = np.random.choice(cold_pages, size=n_access_cold)\n",
    "    workload = np.concatenate([workload_hot, workload_cold])\n",
    "    for _ in range(10):\n",
    "        np.random.shuffle(workload)\n",
    "    return workload\n",
    "\n",
    "def get_sequential_workload(n_pages, n_access):\n",
    "    n_repetitions = int(n_access / n_pages)\n",
    "    return np.tile(np.arange(n_pages), n_repetitions)"
   ]
  },
  {
   "cell_type": "code",
   "execution_count": null,
   "id": "6dcee9b6",
   "metadata": {},
   "outputs": [],
   "source": [
    "CACHES = [LRUCache, RandomCache, FIFOCache, OptimalCache]    "
   ]
  },
  {
   "cell_type": "markdown",
   "id": "900a62a5",
   "metadata": {},
   "source": [
    "# General Settings"
   ]
  },
  {
   "cell_type": "code",
   "execution_count": null,
   "id": "2ec9ac15",
   "metadata": {},
   "outputs": [],
   "source": [
    "n_pages = 100\n",
    "n_access = 10000\n",
    "#\n",
    "CACHES = [LRUCache, RandomCache, FIFOCache, OptimalCache]    "
   ]
  },
  {
   "cell_type": "markdown",
   "id": "e3e9ba1e",
   "metadata": {},
   "source": [
    "# Random Workload"
   ]
  },
  {
   "cell_type": "code",
   "execution_count": null,
   "id": "c002a139",
   "metadata": {},
   "outputs": [],
   "source": [
    "workload = get_random_workload(n_pages, n_access)\n",
    "#\n",
    "results = {}\n",
    "for CACHE in CACHES:\n",
    "    hit_rates = []\n",
    "    for cache_size in range(1, n_pages + 1, 1):\n",
    "        cache = CACHE(cache_size)\n",
    "        hit_rate = calc_hit_rate(cache, workload)\n",
    "        hit_rates.append(hit_rate)\n",
    "        print(cache.name, cache_size, hit_rate)\n",
    "    results[CACHE.name] = hit_rates\n",
    "results_rand = results"
   ]
  },
  {
   "cell_type": "code",
   "execution_count": null,
   "id": "9ca937c0",
   "metadata": {},
   "outputs": [],
   "source": [
    "plt.figure(figsize=(10,10))\n",
    "xx = list(range(1, n_pages + 1, 1))\n",
    "plt.plot(xx, results[\"LRU\"], label=\"LRU\", color=\"blue\")\n",
    "plt.plot(xx, results[\"Random\"], label=\"Random\", color=\"green\")\n",
    "plt.plot(xx, results[\"FIFO\"], label=\"FIFO\", color=\"red\")\n",
    "plt.plot(xx, results[\"Optimal\"], label=\"Optimal\", color=\"orange\")\n",
    "plt.legend()"
   ]
  },
  {
   "cell_type": "markdown",
   "id": "42c6bd12",
   "metadata": {},
   "source": [
    "# 80 20"
   ]
  },
  {
   "cell_type": "code",
   "execution_count": null,
   "id": "3d970a25",
   "metadata": {},
   "outputs": [],
   "source": [
    "workload = get_80_20_workload(n_pages, n_access)\n",
    "#\n",
    "results = {}\n",
    "for CACHE in CACHES:\n",
    "    hit_rates = []\n",
    "    for cache_size in range(1, n_pages + 1, 1):\n",
    "        cache = CACHE(cache_size)\n",
    "        hit_rate = calc_hit_rate(cache, workload)\n",
    "        hit_rates.append(hit_rate)\n",
    "        print(cache.name, cache_size, hit_rate)\n",
    "    results[CACHE.name] = hit_rates\n",
    "results_8020 = results"
   ]
  },
  {
   "cell_type": "code",
   "execution_count": null,
   "id": "368a180b",
   "metadata": {},
   "outputs": [],
   "source": [
    "plt.figure(figsize=(10,10))\n",
    "xx = list(range(1, n_pages + 1, 1))\n",
    "plt.plot(xx, results[\"LRU\"], label=\"LRU\", color=\"blue\")\n",
    "plt.plot(xx, results[\"Random\"], label=\"Random\", color=\"green\")\n",
    "plt.plot(xx, results[\"FIFO\"], label=\"FIFO\", color=\"red\")\n",
    "plt.plot(xx, results[\"Optimal\"], label=\"Optimal\", color=\"orange\")\n",
    "plt.legend()"
   ]
  },
  {
   "cell_type": "markdown",
   "id": "4d83cab2",
   "metadata": {},
   "source": [
    "# Sequential"
   ]
  },
  {
   "cell_type": "code",
   "execution_count": null,
   "id": "6bc29c73",
   "metadata": {},
   "outputs": [],
   "source": [
    "n_pages = 50\n",
    "cache_sizes = range(1, 100 + 1, 1)\n",
    "workload = get_sequential_workload(n_pages, n_access)\n",
    "#\n",
    "results = {}\n",
    "for CACHE in CACHES:\n",
    "    hit_rates = []\n",
    "    for cache_size in cache_sizes:\n",
    "        cache = CACHE(cache_size)\n",
    "        hit_rate = calc_hit_rate(cache, workload)\n",
    "        hit_rates.append(hit_rate)\n",
    "        print(cache.name, cache_size, hit_rate)\n",
    "    results[CACHE.name] = hit_rates\n",
    "results_seq = results"
   ]
  },
  {
   "cell_type": "code",
   "execution_count": null,
   "id": "883a95d4",
   "metadata": {},
   "outputs": [],
   "source": [
    "plt.figure(figsize=(10,10))\n",
    "xx = cache_sizes\n",
    "#\n",
    "plt.plot(xx, results[\"LRU\"], label=\"LRU\", color=\"blue\")\n",
    "plt.plot(xx, results[\"Random\"], label=\"Random\", color=\"green\")\n",
    "plt.plot(xx, results[\"FIFO\"], label=\"FIFO\", color=\"red\")\n",
    "plt.plot(xx, results[\"Optimal\"], label=\"Optimal\", color=\"orange\")\n",
    "plt.legend()"
   ]
  },
  {
   "cell_type": "code",
   "execution_count": null,
   "id": "66f7b636",
   "metadata": {},
   "outputs": [],
   "source": [
    "fig, axes = plt.subplots(nrows=1, ncols=3, figsize=(15, 5))\n",
    "\n",
    "#\n",
    "xx = cache_sizes\n",
    "# Random\n",
    "axes[0].plot(xx, results_rand[\"LRU\"], label=\"LRU\", color=\"blue\", linewidth=\"4\", alpha=0.5)\n",
    "axes[0].plot(xx, results_rand[\"Random\"], label=\"Random\", color=\"green\", linewidth=\"4\", alpha=0.7)\n",
    "axes[0].plot(xx, results_rand[\"FIFO\"], label=\"FIFO\", color=\"red\", linestyle=\":\")\n",
    "axes[0].plot(xx, results_rand[\"Optimal\"], label=\"Optimal\", color=\"orange\", linewidth=\"3\")\n",
    "axes[0].set_ylabel(\"hit rate\")\n",
    "axes[0].set_xlabel(\"Cache size / pages\")\n",
    "axes[0].set_title(\"Random Workload\")\n",
    "axes[0].legend()\n",
    "# 80 : 20\n",
    "axes[1].plot(xx, results_8020[\"LRU\"], label=\"LRU\", color=\"blue\", linewidth=\"4\", alpha=0.5)\n",
    "axes[1].plot(xx, results_8020[\"Random\"], label=\"Random\", color=\"green\", linewidth=\"4\", alpha=0.5)\n",
    "axes[1].plot(xx, results_8020[\"FIFO\"], label=\"FIFO\", color=\"red\", linestyle=\":\")\n",
    "axes[1].plot(xx, results_8020[\"Optimal\"], label=\"Optimal\", color=\"orange\", linewidth=\"3\")\n",
    "axes[1].set_ylabel(\"hit rate\")\n",
    "axes[1].set_xlabel(\"Cache size / pages\")\n",
    "axes[1].set_title(\"80-20 Workload\")\n",
    "axes[1].legend()\n",
    "# Sequential\n",
    "axes[2].plot(xx, results_seq[\"LRU\"], label=\"LRU\", color=\"blue\", linewidth=\"4\", alpha=0.5)\n",
    "axes[2].plot(xx, results_seq[\"Random\"], label=\"Random\", color=\"green\", linewidth=\"4\", alpha=0.5)\n",
    "axes[2].plot(xx, results_seq[\"FIFO\"], label=\"FIFO\", color=\"red\", linestyle=\":\")\n",
    "axes[2].plot(xx, results_seq[\"Optimal\"], label=\"Optimal\", color=\"orange\", linewidth=\"3\")\n",
    "axes[2].set_xlabel(\"Cache size / pages\")\n",
    "axes[2].set_title(\"Sequential Workload\")\n",
    "axes[2].set_ylabel(\"hit rate\")\n",
    "axes[2].legend()\n",
    "#plt.legend()\n",
    "#plt.suptitle(\"Workloads\")\n",
    "fig.tight_layout()\n",
    "plt.savefig(\"policies_wl.pdf\")\n"
   ]
  },
  {
   "cell_type": "code",
   "execution_count": null,
   "id": "d431c42c",
   "metadata": {},
   "outputs": [],
   "source": []
  }
 ],
 "metadata": {
  "kernelspec": {
   "display_name": "Python 3 (ipykernel)",
   "language": "python",
   "name": "python3"
  },
  "language_info": {
   "codemirror_mode": {
    "name": "ipython",
    "version": 3
   },
   "file_extension": ".py",
   "mimetype": "text/x-python",
   "name": "python",
   "nbconvert_exporter": "python",
   "pygments_lexer": "ipython3",
   "version": "3.8.12"
  },
  "latex_envs": {
   "LaTeX_envs_menu_present": true,
   "autoclose": false,
   "autocomplete": true,
   "bibliofile": "biblio.bib",
   "cite_by": "apalike",
   "current_citInitial": 1,
   "eqLabelWithNumbers": true,
   "eqNumInitial": 1,
   "hotkeys": {
    "equation": "Ctrl-E",
    "itemize": "Ctrl-I"
   },
   "labels_anchors": false,
   "latex_user_defs": false,
   "report_style_numbering": false,
   "user_envs_cfg": false
  }
 },
 "nbformat": 4,
 "nbformat_minor": 5
}
