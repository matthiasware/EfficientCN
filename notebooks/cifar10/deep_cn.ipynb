{
 "cells": [
  {
   "cell_type": "code",
   "execution_count": null,
   "id": "081b2bb7",
   "metadata": {},
   "outputs": [],
   "source": [
    "%load_ext autoreload\n",
    "%autoreload 2"
   ]
  },
  {
   "cell_type": "code",
   "execution_count": null,
   "id": "91a27a12",
   "metadata": {},
   "outputs": [],
   "source": [
    "import sys\n",
    "sys.path.append(\"./..\")\n",
    "\n",
    "# standard lib\n",
    "import shutil\n",
    "from pathlib import Path\n",
    "import pickle\n",
    "\n",
    "# external imports\n",
    "import numpy as np\n",
    "import torch\n",
    "import torch.nn as nn\n",
    "import matplotlib.pyplot as plt\n",
    "import torchvision\n",
    "import torchvision.transforms as T\n",
    "import torch.nn.functional as F\n",
    "from torch import optim\n",
    "from torch.utils.tensorboard import SummaryWriter\n",
    "from dotted_dict import DottedDict\n",
    "import pprint\n",
    "from tqdm import tqdm\n",
    "#\n",
    "from torchvision.datasets import CIFAR10\n",
    "\n",
    "# local imports\n",
    "from datasets import AffNIST\n",
    "from effcn.layers import FCCaps, Squash\n",
    "from effcn.functions import margin_loss, max_norm_masking\n",
    "from effcn.utils import count_parameters\n",
    "from misc.optimizer import get_optimizer, get_scheduler\n",
    "from misc.utils import get_sting_timestamp, mkdir_directories\n",
    "from misc.plot_utils import plot_couplings, plot_capsules"
   ]
  },
  {
   "cell_type": "code",
   "execution_count": null,
   "id": "df83289f",
   "metadata": {},
   "outputs": [],
   "source": [
    "if torch.cuda.is_available():  \n",
    "    dev = \"cuda:0\" \n",
    "else:  \n",
    "    dev = \"cpu\"  \n",
    "device = torch.device(dev)"
   ]
  },
  {
   "cell_type": "markdown",
   "id": "9530b1ef",
   "metadata": {},
   "source": [
    "## Data"
   ]
  },
  {
   "cell_type": "code",
   "execution_count": null,
   "id": "eb621cae",
   "metadata": {},
   "outputs": [],
   "source": [
    "transform_train = T.Compose([\n",
    "    T.RandomAffine(degrees=(-8, 8),\n",
    "                   shear=(-15, 15),\n",
    "                   scale=(0.9, 1.1)\n",
    "                  )\n",
    "])\n",
    "\n",
    "transform_train = T.Compose([\n",
    "    T.RandomHorizontalFlip(p=0.5),\n",
    "    T.RandomCrop(32, padding=4),\n",
    "    T.ToTensor(),\n",
    "    T.Normalize([0, 0, 0], [1, 1, 1])\n",
    "])\n",
    "\n",
    "transform_valid = T.Compose([\n",
    "    T.ToTensor(),\n",
    "    T.Normalize([0, 0, 0], [1, 1, 1])\n",
    "])\n",
    "\n",
    "#transform_valid = T.ToTensor() # converts [0,255] to [0,1] by dividing through 255\n",
    "#transform_train = T.ToTensor()\n",
    "\n",
    "p_data = '/mnt/data/pytorch'\n",
    "\n",
    "ds_train = CIFAR10(root=p_data, train=True, download=True, transform=transform_train, target_transform=None)\n",
    "ds_valid = CIFAR10(root=p_data, train=False, download=True, transform=transform_valid, target_transform=None)"
   ]
  },
  {
   "cell_type": "code",
   "execution_count": null,
   "id": "98317503",
   "metadata": {},
   "outputs": [],
   "source": [
    "bs = 512\n",
    "dl_train = torch.utils.data.DataLoader(\n",
    "    ds_train, \n",
    "    batch_size=bs, \n",
    "    shuffle=True,\n",
    "    pin_memory=True,\n",
    "    num_workers=4)\n",
    "dl_valid = torch.utils.data.DataLoader(\n",
    "    ds_valid, \n",
    "    batch_size=bs, \n",
    "    shuffle=True, \n",
    "    pin_memory=True,\n",
    "    num_workers=4)"
   ]
  },
  {
   "cell_type": "code",
   "execution_count": null,
   "id": "938efee7",
   "metadata": {},
   "outputs": [],
   "source": [
    "x, _ = next(iter(dl_train))\n",
    "x_vis_train = x[:32]\n",
    "\n",
    "x, _ = next(iter(dl_valid))\n",
    "x_vis_valid = x[:32]"
   ]
  },
  {
   "cell_type": "code",
   "execution_count": null,
   "id": "e25b7612",
   "metadata": {
    "scrolled": true
   },
   "outputs": [],
   "source": [
    "plt.imshow(torchvision.utils.make_grid(x_vis_train).permute(1,2,0))\n",
    "plt.show()\n",
    "#\n",
    "plt.imshow(torchvision.utils.make_grid(x_vis_valid).permute(1,2,0))\n",
    "plt.show()"
   ]
  },
  {
   "cell_type": "markdown",
   "id": "bce22576",
   "metadata": {},
   "source": [
    "# Backbone"
   ]
  },
  {
   "cell_type": "code",
   "execution_count": null,
   "id": "ff4c90ae",
   "metadata": {},
   "outputs": [],
   "source": [
    "class CustomBB(nn.Module):\n",
    "    def __init__(self, ch_in=3, n_classes=10):\n",
    "        super().__init__()\n",
    "        self.ch_in = ch_in\n",
    "        self.n_classes=n_classes\n",
    "    \n",
    "        self.convs = nn.Sequential(\n",
    "            nn.Conv2d(in_channels=ch_in, out_channels=128, kernel_size=3, stride=2, padding=0),\n",
    "            nn.BatchNorm2d(num_features=128),\n",
    "            nn.ReLU(),\n",
    "            nn.Conv2d(in_channels=128, out_channels=256, kernel_size=3, stride=2, padding=0),\n",
    "            nn.BatchNorm2d(num_features=256),\n",
    "            nn.ReLU(),\n",
    "            nn.Conv2d(256, 256, kernel_size=7, groups=256, stride=1, padding=\"valid\"),\n",
    "            #nn.BatchNorm2d(num_features=256),\n",
    "            #nn.ReLU(),\n",
    "        )\n",
    "        self.fc = nn.Linear(256 , n_classes)\n",
    "    \n",
    "    def forward(self, x):\n",
    "        x = self.convs(x)\n",
    "        x = torch.flatten(x, 1)     # -> (b, 256), remove 1 X 1 grid and make vector of tensor shape \n",
    "        x = self.fc(x)\n",
    "        return x"
   ]
  },
  {
   "cell_type": "code",
   "execution_count": null,
   "id": "e8422e49",
   "metadata": {},
   "outputs": [],
   "source": [
    "model = CustomBB(ch_in=1)\n",
    "y = model(torch.rand(128,1,32, 32))\n",
    "y.shape"
   ]
  },
  {
   "cell_type": "code",
   "execution_count": null,
   "id": "8ba4e365",
   "metadata": {},
   "outputs": [],
   "source": [
    "count_parameters(model)"
   ]
  },
  {
   "cell_type": "code",
   "execution_count": null,
   "id": "fc11846e",
   "metadata": {},
   "outputs": [],
   "source": [
    "class FCCaps(nn.Module):\n",
    "    \"\"\"\n",
    "        Attributes\n",
    "        ----------\n",
    "        n_l ... number of lower layer capsules\n",
    "        d_l ... dimension of lower layer capsules\n",
    "        n_h ... number of higher layer capsules\n",
    "        d_h ... dimension of higher layer capsules\n",
    "\n",
    "        W   (n_l, n_h, d_l, d_h) ... weight tensor\n",
    "        B   (n_l, n_h)           ... bias tensor\n",
    "    \"\"\"\n",
    "\n",
    "    def __init__(self, n_l, n_h, d_l, d_h):\n",
    "        super().__init__()\n",
    "        self.n_l = n_l\n",
    "        self.d_l = d_l\n",
    "        self.n_h = n_h\n",
    "        self.d_h = d_h\n",
    "        \n",
    "        \n",
    "        self.W = torch.nn.Parameter(torch.rand(\n",
    "            n_l, n_h, d_l, d_h), requires_grad=True)\n",
    "        #self.B = torch.nn.Parameter(torch.rand(n_l, n_h), requires_grad=True)\n",
    "        self.squash = Squash(eps=1e-20)\n",
    "\n",
    "        # init custom weights\n",
    "        # i'm relly unsure about this initialization scheme\n",
    "        # i don't think it makes sense in our case, but the paper says so ...\n",
    "        torch.nn.init.kaiming_normal_(\n",
    "            self.W, a=0, mode='fan_in', nonlinearity='leaky_relu')\n",
    "        #torch.nn.init.kaiming_normal_(\n",
    "        #    self.B, a=0, mode=\"fan_in\", nonlinearity=\"leaky_relu\")\n",
    "\n",
    "        self.attention_scaling = np.sqrt(self.d_l)\n",
    "\n",
    "    def forward(self, U_l):\n",
    "        \"\"\"\n",
    "        einsum convenventions:\n",
    "          n_l = i | h\n",
    "          d_l = j\n",
    "          n_h = k\n",
    "          d_h = l\n",
    "\n",
    "        Data tensors:\n",
    "            IN:  U_l ... lower layer capsules\n",
    "            OUT: U_h ... higher layer capsules\n",
    "            DIMS:\n",
    "                U_l (n_l, d_l)\n",
    "                U_h (n_h, d_h)\n",
    "                W   (n_l, n_h, d_l, d_h)\n",
    "                B   (n_l, n_h)\n",
    "                A   (n_l, n_l, n_h)\n",
    "                C   (n_l, n_h)\n",
    "        \"\"\"\n",
    "        U_hat = torch.einsum('...ij,ikjl->...ikl', U_l, self.W)\n",
    "        A = torch.einsum(\"...ikl, ...hkl -> ...hik\", U_hat, U_hat)\n",
    "        A = A / self.attention_scaling\n",
    "        A_sum = torch.einsum(\"...hij->...hj\", A)\n",
    "        C = torch.softmax(A_sum, dim=-1)\n",
    "        #CB = C + self.B\n",
    "        U_h = torch.einsum('...ikl,...ik->...kl', U_hat, C)\n",
    "        return self.squash(U_h)\n",
    "\n",
    "    def forward_debug(self, U_l):\n",
    "        \"\"\"\n",
    "        einsum convenventions:\n",
    "          n_l = i | h\n",
    "          d_l = j\n",
    "          n_h = k\n",
    "          d_h = l\n",
    "\n",
    "        Data tensors:\n",
    "            IN:  U_l ... lower layer capsules\n",
    "            OUT: U_h ... higher layer capsules\n",
    "            DIMS:\n",
    "                U_l (n_l, d_l)\n",
    "                U_h (n_h, d_h)\n",
    "                W   (n_l, n_h, d_l, d_h)\n",
    "                B   (n_l, n_h)\n",
    "                A   (n_l, n_l, n_h)\n",
    "                C   (n_l, n_h)\n",
    "        \"\"\"\n",
    "        U_hat = torch.einsum('...ij,ikjl->...ikl', U_l, self.W)\n",
    "        A = torch.einsum(\"...ikl, ...hkl -> ...hik\", U_hat, U_hat)\n",
    "        A = A / self.attention_scaling\n",
    "        A_sum = torch.einsum(\"...hij->...hj\", A)\n",
    "        C = torch.softmax(A_sum, dim=-1)\n",
    "        #CB = C + self.B\n",
    "        U_h = torch.einsum('...ikl,...ik->...kl', U_hat, C)\n",
    "        return self.squash(U_h), C\n",
    "\n",
    "class DeepCapsNet(nn.Module):\n",
    "    def __init__(self, ns, ds):\n",
    "        super().__init__()\n",
    "        self.ns = ns\n",
    "        self.ds = ds\n",
    "        \n",
    "        self.backbone = CustomBB(ch_in=3)\n",
    "        self.backbone.fc = nn.Identity()\n",
    "        \n",
    "        self.squash = Squash(eps=1e-20)\n",
    "        layers = []\n",
    "        for idx in range(1, len(ns), 1):\n",
    "            n_l = ns[idx - 1]\n",
    "            n_h = ns[idx]\n",
    "            d_l = ds[idx - 1]\n",
    "            d_h = ds[idx]\n",
    "            layers.append(FCCaps(n_l, n_h, d_l, d_h) )\n",
    "        self.layers = nn.Sequential(*layers)\n",
    "\n",
    "\n",
    "    def forward(self, x):\n",
    "        x = self.backbone(x)\n",
    "        \n",
    "        # primecaps\n",
    "        x = self.squash(x.view(-1, self.ns[0], self.ds[0]))\n",
    "        \n",
    "        for layer in self.layers:\n",
    "            x = layer(x)\n",
    "        return x\n",
    "\n",
    "    def forward_debug(self, x):\n",
    "        x = self.backbone(x)\n",
    "        \n",
    "        # primecaps\n",
    "        x = self.squash(x.view(-1, self.ns[0], self.ds[0]))\n",
    "        \n",
    "        us = [torch.clone(x)]\n",
    "        cc = []\n",
    "        # fccaps\n",
    "        for layer in self.layers:\n",
    "            x, c = layer.forward_debug(x)\n",
    "            cc.append(c.detach())\n",
    "            us.append(torch.clone(x).detach())\n",
    "        return x, cc, us"
   ]
  },
  {
   "cell_type": "code",
   "execution_count": null,
   "id": "01791255",
   "metadata": {},
   "outputs": [],
   "source": [
    "ns = [32, 32, 16, 10]\n",
    "ds = [8, 8, 8, 8]\n",
    "\n",
    "model = DeepCapsNet(ns=ns, ds=ds)\n",
    "#\n",
    "print(\"tot Model \", count_parameters(model))\n",
    "print(\"Backbone  \", count_parameters(model.backbone))\n",
    "#\n",
    "model = model.to(device)\n",
    "model"
   ]
  },
  {
   "cell_type": "code",
   "execution_count": null,
   "id": "0d04deec",
   "metadata": {},
   "outputs": [],
   "source": [
    "optimizer = optim.Adam(model.parameters(), lr = 1e-3, weight_decay=2e-5)\n",
    "lr_scheduler = torch.optim.lr_scheduler.ExponentialLR(optimizer=optimizer, gamma=0.96)"
   ]
  },
  {
   "cell_type": "code",
   "execution_count": null,
   "id": "ceaf55e9",
   "metadata": {
    "scrolled": false
   },
   "outputs": [],
   "source": [
    "num_epochs = 11\n",
    "#\n",
    "for epoch_idx in range(num_epochs):\n",
    "    # ####################\n",
    "    # TRAIN\n",
    "    # ####################\n",
    "    model.train()\n",
    "    desc = \"Train [{:3}/{:3}]:\".format(epoch_idx, num_epochs)\n",
    "    pbar = tqdm(dl_train, bar_format=desc + '{bar:10}{r_bar}{bar:-10b}')\n",
    "    \n",
    "    for x,y_true in pbar:\n",
    "        x = x.to(device)\n",
    "        y_true = y_true.to(device)\n",
    "        optimizer.zero_grad()\n",
    "        \n",
    "        u_h = model.forward(x)\n",
    "        \n",
    "        # LOSS\n",
    "        y_one_hot = F.one_hot(y_true, num_classes=10)\n",
    "        loss = margin_loss(u_h, y_one_hot)\n",
    "\n",
    "        loss.backward()\n",
    "        \n",
    "        optimizer.step()\n",
    "        \n",
    "        y_pred = torch.argmax(torch.norm(u_h, dim=2), dim=1)\n",
    "        acc = (y_true == y_pred).sum() / y_true.shape[0]\n",
    "        \n",
    "        pbar.set_postfix(\n",
    "                {'loss': loss.item(),\n",
    "                 'acc': acc.item()\n",
    "                 }\n",
    "        )\n",
    "    lr_scheduler.step()\n",
    "    #\n",
    "    # ####################\n",
    "    # VALID\n",
    "    # ####################\n",
    "    if epoch_idx % 5 != 0:\n",
    "        continue\n",
    "    \n",
    "    model.eval()\n",
    "    \n",
    "    total_correct = 0\n",
    "    total = 0\n",
    "\n",
    "    for x,y_true in dl_valid:\n",
    "        x = x.to(device)\n",
    "        y_true = y_true.to(device)\n",
    "        \n",
    "        with torch.no_grad():\n",
    "            u_h = model.forward(x)\n",
    "            \n",
    "            y_pred = torch.argmax(torch.norm(u_h, dim=2), dim=1)\n",
    "            total_correct += (y_true == y_pred).sum()\n",
    "            total += y_true.shape[0]\n",
    "    print(\"   mnist acc_valid: {:.3f}\".format(total_correct / total))"
   ]
  },
  {
   "cell_type": "markdown",
   "id": "5e6f8a12",
   "metadata": {},
   "source": [
    "# Visualize and Analyze"
   ]
  },
  {
   "cell_type": "markdown",
   "id": "f08f7ae3",
   "metadata": {},
   "source": [
    "### Show parse tree and activations for individual samples"
   ]
  },
  {
   "cell_type": "code",
   "execution_count": null,
   "id": "7cdfd446",
   "metadata": {},
   "outputs": [],
   "source": [
    "x, y = next(iter(dl_valid))\n",
    "x = x[:128]\n",
    "y = y[:128]\n",
    "#\n",
    "model.eval()\n",
    "with torch.no_grad():\n",
    "    u_h, CC, US = model.forward_debug(x.to(device))\n",
    "y_pred = torch.argmax(torch.norm(u_h, dim=2), dim=1)\n",
    "y_pred = y_pred.detach().cpu().numpy()\n",
    "#\n",
    "US = [u.cpu().numpy() for u in US]\n",
    "CS = [c.cpu().numpy() for c in CC]\n",
    "#\n",
    "Y_true = y.cpu().numpy()\n",
    "Y_pred = y_pred"
   ]
  },
  {
   "cell_type": "code",
   "execution_count": null,
   "id": "d102f1ad",
   "metadata": {
    "scrolled": true
   },
   "outputs": [],
   "source": [
    "cl = 1\n",
    "for idx in range(32):\n",
    "    if cl is not None and Y_true[idx] != cl:\n",
    "        continue\n",
    "    cs = [c[idx] for c in CS]\n",
    "    us = [u[idx] for u in US]\n",
    "    u_norms = [np.linalg.norm(u, axis=1) for u in us]\n",
    "    \n",
    "    fig, axes = plt.subplots(1, 2, figsize=(8, 4))\n",
    "    title = \"exp={} a={}\".format(y[idx], y_pred[idx])\n",
    "    #\n",
    "    plot_couplings(cs, title=title, ax=axes[0], show=False)\n",
    "    #\n",
    "    plot_capsules(u_norms, title=title , ax=axes[1], show=False)\n",
    "    plt.show()"
   ]
  },
  {
   "cell_type": "markdown",
   "id": "8dcb9b79",
   "metadata": {},
   "source": [
    "# Collect Statistics"
   ]
  },
  {
   "cell_type": "code",
   "execution_count": null,
   "id": "58cf358d",
   "metadata": {},
   "outputs": [],
   "source": [
    "model.eval()\n",
    "\n",
    "YY = []\n",
    "CC = [[] for _ in range(len(ns) - 1)]\n",
    "US = [[] for _ in range(len(ns))]\n",
    "\n",
    "\n",
    "for x,y_true in dl_valid:\n",
    "    x = x.to(device)\n",
    "    #y_true = y_true.to(device)\n",
    "        \n",
    "    with torch.no_grad():\n",
    "        _, cc, us = model.forward_debug(x.to(device))\n",
    "        for idx in range(len(cc)):\n",
    "            CC[idx].append(cc[idx].detach().cpu().numpy())\n",
    "        for idx in range(len(us)):\n",
    "            US[idx].append(us[idx].detach().cpu().numpy())\n",
    "        YY.append(y_true.numpy())\n",
    "YY = np.concatenate(YY)\n",
    "CC = [np.concatenate(c) for c in CC]\n",
    "US = [np.concatenate(u) for u in US]"
   ]
  },
  {
   "cell_type": "markdown",
   "id": "5a733919",
   "metadata": {},
   "source": [
    "### Mean parse tree and mean activation for dataset"
   ]
  },
  {
   "cell_type": "code",
   "execution_count": null,
   "id": "b50fa7f7",
   "metadata": {},
   "outputs": [],
   "source": [
    "fig, axes = plt.subplots(1, 3, figsize=(15, 5))\n",
    "    \n",
    "# Mean parse tree\n",
    "cc = [np.mean(c, axis=0) for c in CC]\n",
    "plot_couplings(cc, ax=axes[0], show=False, title=\"mean parse tree\")\n",
    "    \n",
    "# mean and std capsule activation\n",
    "us_mean = [np.linalg.norm(u, axis=-1).mean(axis=0) for u in US]\n",
    "us_std = [np.linalg.norm(u, axis=-1).std(axis=0) for u in US]\n",
    "plot_capsules(us_mean, scale_factor=1, ax=axes[1], show=False, title=\"mean activation\")\n",
    "plot_capsules(us_std, scale_factor=1, ax=axes[2], show=False, title=\"std activation\")\n",
    "plt.suptitle(\"dataset\")\n",
    "plt.show()"
   ]
  },
  {
   "cell_type": "markdown",
   "id": "01fb7c24",
   "metadata": {},
   "source": [
    "### classwise mean parse tree and mean activation"
   ]
  },
  {
   "cell_type": "code",
   "execution_count": null,
   "id": "75155b8c",
   "metadata": {
    "scrolled": false
   },
   "outputs": [],
   "source": [
    "# mean and variance activation\n",
    "for cls in range(10):\n",
    "    idcs = np.where(YY == cls)[0]\n",
    "    \n",
    "    fig, axes = plt.subplots(1, 3, figsize=(15, 5))\n",
    "    \n",
    "    # Mean parse tree\n",
    "    cc = [C[idcs] for C in CC]\n",
    "    cc = [np.mean(c, axis=0) for c in cc]\n",
    "    plot_couplings(cc, ax=axes[0], show=False, title=\"mean parse tree\")\n",
    "    \n",
    "    # mean and std capsule activation\n",
    "    us = [u[idcs] for u in US]\n",
    "    us_mean = [np.linalg.norm(u, axis=-1).mean(axis=0) for u in us]\n",
    "    us_std = [np.linalg.norm(u, axis=-1).std(axis=0) for u in us]\n",
    "    plot_capsules(us_mean, scale_factor=1, ax=axes[1], show=False, title=\"mean activation\")\n",
    "    plot_capsules(us_std, scale_factor=1, ax=axes[2], show=False, title=\"std activation\")\n",
    "    plt.suptitle(\"class {}\".format(cls))\n",
    "    plt.show()"
   ]
  },
  {
   "cell_type": "code",
   "execution_count": null,
   "id": "fed594e0",
   "metadata": {
    "scrolled": false
   },
   "outputs": [],
   "source": [
    "# mean and variance couplings \n",
    "for C in CC:\n",
    "    C_mean = C.mean(axis=0)\n",
    "    C_var = C.std(axis=0)\n",
    "    #\n",
    "    fig, axes = plt.subplots(1, 2, figsize=(4, 2))\n",
    "    axes[0].imshow(C_mean, cmap=\"gray\", vmin=0., vmax=1.)\n",
    "    axes[1].imshow(C_var, cmap=\"gray\", vmin=0.)\n",
    "    #plt.cmap()\n",
    "    plt.show()"
   ]
  },
  {
   "cell_type": "code",
   "execution_count": null,
   "id": "17e74cd2",
   "metadata": {
    "scrolled": true
   },
   "outputs": [],
   "source": [
    "# mean and variance activation\n",
    "for U in US:\n",
    "    u = np.linalg.norm(U, axis=2)\n",
    "    u_mean = u.mean(axis=0)\n",
    "    u_std = u.std(axis=0)\n",
    "    fig, axes = plt.subplots(1, 2, figsize=(4, 2))\n",
    "    axes[0].bar(range(len(u_mean)), u_mean)\n",
    "    axes[1].bar(range(len(u_mean)), u_std)\n",
    "    axes[0].set_ylim(0,1)\n",
    "    axes[1].set_ylim(0,1)\n",
    "    plt.show()"
   ]
  },
  {
   "cell_type": "code",
   "execution_count": null,
   "id": "d2a14e3e",
   "metadata": {
    "scrolled": true
   },
   "outputs": [],
   "source": [
    "for cls in range(10):\n",
    "    print(\"#\" * 100, \"\\n{}\\n\".format(cls), \"#\" * 100)\n",
    "    idcs = np.where(YY == cls)[0]\n",
    "    # mean and variance couplings \n",
    "    for C in CC:\n",
    "        C = C[idcs]\n",
    "        C_mean = C.mean(axis=0)\n",
    "        C_var = C.std(axis=0)\n",
    "        #\n",
    "        fig, axes = plt.subplots(1, 2, figsize=(4, 2))\n",
    "        axes[0].imshow(C_mean, cmap=\"gray\", vmin=0., vmax=1.)\n",
    "        axes[1].imshow(C_var, cmap=\"gray\", vmin=0.)\n",
    "        #plt.cmap()\n",
    "        plt.show()"
   ]
  },
  {
   "cell_type": "code",
   "execution_count": null,
   "id": "bda4746f",
   "metadata": {
    "scrolled": false
   },
   "outputs": [],
   "source": [
    "# mean and variance activation\n",
    "for cls in range(10):\n",
    "    print(\"#\" * 100, \"\\n{}\\n\".format(cls), \"#\" * 100)\n",
    "    idcs = np.where(YY == cls)[0]\n",
    "    for U in US:\n",
    "        U = U[idcs]\n",
    "        u = np.linalg.norm(U, axis=2)\n",
    "        u_mean = u.mean(axis=0)\n",
    "        u_std = u.std(axis=0)\n",
    "        fig, axes = plt.subplots(1, 2, figsize=(4, 2))\n",
    "        axes[0].bar(range(len(u_mean)), u_mean)\n",
    "        axes[1].bar(range(len(u_mean)), u_std)\n",
    "        axes[0].set_ylim(0,1)\n",
    "        axes[1].set_ylim(0,1)\n",
    "        plt.show()"
   ]
  },
  {
   "cell_type": "markdown",
   "id": "591c276c",
   "metadata": {},
   "source": [
    "## Metrics"
   ]
  },
  {
   "cell_type": "code",
   "execution_count": null,
   "id": "0ed6a89c",
   "metadata": {},
   "outputs": [],
   "source": [
    "def mean_max(C):\n",
    "    return np.max(C, axis=2).mean()\n",
    "\n",
    "def max_std_dev(C):\n",
    "    return np.max(C.std(axis=0), axis=1).mean()"
   ]
  },
  {
   "cell_type": "code",
   "execution_count": null,
   "id": "0760b45f",
   "metadata": {},
   "outputs": [],
   "source": [
    "for C in CC:\n",
    "    print(\"{:.3f}   {:.3f}\".format(mean_max(C), max_std_dev(C)))"
   ]
  },
  {
   "cell_type": "code",
   "execution_count": null,
   "id": "b4961800",
   "metadata": {},
   "outputs": [],
   "source": [
    "# Uniform routing\n",
    "CC_uni = []\n",
    "for C in CC:\n",
    "    CC_uni.append(np.ones(C.shape) / C.shape[2])\n",
    "for C in CC_uni:\n",
    "    print(\"{:.3f}   {:.3f}\".format(mean_max(C), max_std_dev(C)))"
   ]
  },
  {
   "cell_type": "code",
   "execution_count": null,
   "id": "9e74066c",
   "metadata": {},
   "outputs": [],
   "source": [
    "CC_rand = []\n",
    "for C in CC:\n",
    "    Cr = np.random.rand(*C.shape) * 10\n",
    "    Cr = torch.softmax(torch.Tensor(Cr), dim=-1).numpy()\n",
    "    CC_rand.append(Cr)\n",
    "for C in CC_rand:\n",
    "    print(\"{:.3f}   {:.3f}\".format(mean_max(C), max_std_dev(C)))"
   ]
  },
  {
   "cell_type": "markdown",
   "id": "21f6f272",
   "metadata": {},
   "source": [
    "# CNN Only Baseline"
   ]
  },
  {
   "cell_type": "code",
   "execution_count": null,
   "id": "ed2d5fe9",
   "metadata": {},
   "outputs": [],
   "source": [
    "model = CustomBB(ch_in=3, n_classes=10)\n",
    "#\n",
    "model = model.to(device)\n",
    "#backbone\n",
    "optimizer = optim.Adam(model.parameters(), lr = 1e-3, weight_decay=2e-5)\n",
    "lr_scheduler = torch.optim.lr_scheduler.ExponentialLR(optimizer=optimizer, gamma=0.96)\n",
    "#\n",
    "criterion = nn.CrossEntropyLoss()"
   ]
  },
  {
   "cell_type": "code",
   "execution_count": null,
   "id": "312b6e63",
   "metadata": {},
   "outputs": [],
   "source": [
    "print(count_parameters(model))"
   ]
  },
  {
   "cell_type": "code",
   "execution_count": null,
   "id": "0609b403",
   "metadata": {
    "scrolled": false
   },
   "outputs": [],
   "source": [
    "num_epochs = 11\n",
    "#\n",
    "for epoch_idx in range(num_epochs):\n",
    "    # ####################\n",
    "    # TRAIN\n",
    "    # ####################\n",
    "    model.train()\n",
    "    desc = \"Train [{:3}/{:3}]:\".format(epoch_idx, num_epochs)\n",
    "    pbar = tqdm(dl_train, bar_format=desc + '{bar:10}{r_bar}{bar:-10b}')\n",
    "    \n",
    "    for x,y_true in pbar:\n",
    "        x = x.to(device)\n",
    "        y_true = y_true.to(device)\n",
    "        optimizer.zero_grad()\n",
    "        \n",
    "        logits = model.forward(x)\n",
    "        loss = criterion(logits, y_true)\n",
    "\n",
    "        loss.backward()\n",
    "        \n",
    "        optimizer.step()\n",
    "        \n",
    "        y_pred = torch.argmax(logits, dim=1)\n",
    "        acc = (y_true == y_pred).sum() / y_true.shape[0]\n",
    "        \n",
    "        pbar.set_postfix(\n",
    "                {'loss': loss.item(),\n",
    "                 'acc': acc.item()\n",
    "                 }\n",
    "        )\n",
    "    lr_scheduler.step()\n",
    "    #\n",
    "    # ####################\n",
    "    # VALID\n",
    "    # ####################\n",
    "    if epoch_idx % 5 != 0:\n",
    "        continue\n",
    "    \n",
    "    model.eval()\n",
    "    \n",
    "    total_correct = 0\n",
    "    total = 0\n",
    "\n",
    "    for x,y_true in dl_valid:\n",
    "        x = x.to(device)\n",
    "        y_true = y_true.to(device)\n",
    "        \n",
    "        with torch.no_grad():\n",
    "            logits = model.forward(x)\n",
    "            \n",
    "            y_pred = torch.argmax(logits, dim=1)\n",
    "            total_correct += (y_true == y_pred).sum()\n",
    "            total += y_true.shape[0]\n",
    "    print(\"   mnist acc_valid: {:.3f}\".format(total_correct / total))"
   ]
  },
  {
   "cell_type": "code",
   "execution_count": null,
   "id": "180fa373",
   "metadata": {},
   "outputs": [],
   "source": []
  }
 ],
 "metadata": {
  "kernelspec": {
   "display_name": "Python 3 (ipykernel)",
   "language": "python",
   "name": "python3"
  },
  "language_info": {
   "codemirror_mode": {
    "name": "ipython",
    "version": 3
   },
   "file_extension": ".py",
   "mimetype": "text/x-python",
   "name": "python",
   "nbconvert_exporter": "python",
   "pygments_lexer": "ipython3",
   "version": "3.8.12"
  },
  "latex_envs": {
   "LaTeX_envs_menu_present": true,
   "autoclose": false,
   "autocomplete": true,
   "bibliofile": "biblio.bib",
   "cite_by": "apalike",
   "current_citInitial": 1,
   "eqLabelWithNumbers": true,
   "eqNumInitial": 1,
   "hotkeys": {
    "equation": "Ctrl-E",
    "itemize": "Ctrl-I"
   },
   "labels_anchors": false,
   "latex_user_defs": false,
   "report_style_numbering": false,
   "user_envs_cfg": false
  }
 },
 "nbformat": 4,
 "nbformat_minor": 5
}
