{
 "cells": [
  {
   "cell_type": "code",
   "execution_count": null,
   "id": "84c1a8ae",
   "metadata": {},
   "outputs": [],
   "source": [
    "import numpy as np\n",
    "import pickle\n",
    "import matplotlib.pyplot as plt"
   ]
  },
  {
   "cell_type": "code",
   "execution_count": null,
   "id": "92cd8660",
   "metadata": {},
   "outputs": [],
   "source": [
    "p_file = \"/home/matthias/projects/EfficientCN/train/softmax/affnist/results2/results.pkl\""
   ]
  },
  {
   "cell_type": "code",
   "execution_count": null,
   "id": "f3c57564",
   "metadata": {},
   "outputs": [],
   "source": [
    "with open(p_file, \"rb\") as file:\n",
    "    RES = pickle.load(file)"
   ]
  },
  {
   "cell_type": "code",
   "execution_count": null,
   "id": "77c92e6b",
   "metadata": {},
   "outputs": [],
   "source": [
    "scores = list(RES.keys())\n",
    "scores"
   ]
  },
  {
   "cell_type": "code",
   "execution_count": null,
   "id": "89b88a22",
   "metadata": {},
   "outputs": [],
   "source": [
    "runs = list(RES[1].keys())\n",
    "runs"
   ]
  },
  {
   "cell_type": "code",
   "execution_count": null,
   "id": "d8f9634d",
   "metadata": {},
   "outputs": [],
   "source": [
    "def acu_acc_res(res):\n",
    "    runs = list(res.keys())\n",
    "    accs = [res[run][\"acc\"][\"valid\"] for run in runs]\n",
    "    accs = np.array(accs)\n",
    "    #\n",
    "    accs_mu = accs.mean(axis=0)\n",
    "    accs_sd = accs.std(axis=0)\n",
    "    return accs_mu, accs_sd\n",
    "\n",
    "def acu_key_res(res, key):\n",
    "    runs = list(res.keys())\n",
    "    vals = np.array([res[run][key] for run in runs])\n",
    "    return vals.mean(axis=0), vals.std(axis=0)\n",
    "\n",
    "def acc_norm_caps(res):\n",
    "    runs = list(res.keys())\n",
    "    R_norm_caps = []\n",
    "    for run in runs:\n",
    "        r = res[run][\"norm_caps\"]\n",
    "        mus = r[\"mu\"]\n",
    "        stds = r[\"sd\"]\n",
    "        maxs = r[\"max\"]\n",
    "        deads = r[\"dead\"]\n",
    "        #\n",
    "        r_norm_caps = []\n",
    "        for idx in range(len(mus)):\n",
    "            mu = mus[idx]\n",
    "            sd = stds[idx]\n",
    "            mx = maxs[idx]\n",
    "            #\n",
    "            dead = deads[idx]\n",
    "            mu = mu[dead == False].mean()\n",
    "            sd = sd[dead == False].mean()\n",
    "            mx = mx[dead == False].mean()\n",
    "            r_norm_caps.append([mu, sd, mx, 1 - dead.mean()])\n",
    "        R_norm_caps.append(r_norm_caps)\n",
    "\n",
    "    R_norm_caps = np.array(R_norm_caps)\n",
    "    return R_norm_caps.mean(axis=0)\n",
    "\n",
    "def plot_layer_vals(mu, sd=None, scores=None, ylim=None):\n",
    "    n_scores, n_layers = mu.shape\n",
    "    if sd is not None:\n",
    "        assert mu.shape == sd.shape\n",
    "    if scores is not None:\n",
    "        assert len(scores) == n_scores\n",
    "    else:\n",
    "        scores = list(range(n_scores))\n",
    "    \n",
    "    fig, ax = plt.subplots(1, 1)\n",
    "    for lay_idx in range(mu.shape[1]):\n",
    "        ax.scatter(scores, mu[:, lay_idx], label=str(lay_idx))\n",
    "        if sd is not None:  \n",
    "            ax.fill_between(scores,\n",
    "                        mu[:, lay_idx] - sd[:, lay_idx],\n",
    "                        mu[:, lay_idx] + sd[:, lay_idx], alpha=0.2)\n",
    "        ax.set_xscale(\"log\", base=10)\n",
    "    #plt.xticks(scores)\n",
    "    #plt.xscale(\"log\")\n",
    "    plt.legend()\n",
    "    if ylim is not None:\n",
    "        plt.ylim(*ylim)\n",
    "    plt.show()"
   ]
  },
  {
   "cell_type": "markdown",
   "id": "858ffbd3",
   "metadata": {},
   "source": [
    "# For all scores"
   ]
  },
  {
   "cell_type": "code",
   "execution_count": null,
   "id": "ad910373",
   "metadata": {},
   "outputs": [],
   "source": [
    "fig, ax = plt.subplots(1, 1)\n",
    "for acc_mu, acc_sd, score in zip(R_scores[\"accs_mu\"], R_scores[\"accs_sd\"], R_scores[\"scores\"]):\n",
    "    xx = list(range(len(accs_mu)))\n",
    "    ax.plot(xx, acc_mu, label=score)\n",
    "    ax.fill_between(xx, acc_mu - acc_sd, acc_mu + acc_sd)\n",
    "plt.legend()\n",
    "plt.show()"
   ]
  },
  {
   "cell_type": "code",
   "execution_count": null,
   "id": "4d471440",
   "metadata": {},
   "outputs": [],
   "source": [
    "scores = scores[2:-1]\n",
    "scores"
   ]
  },
  {
   "cell_type": "code",
   "execution_count": null,
   "id": "cb92b6c0",
   "metadata": {},
   "outputs": [],
   "source": [
    "R_scores = {\n",
    "    \"dyc_mu\": [],\n",
    "    \"dyc_sd\": [],\n",
    "    \"bon_mu\": [],\n",
    "    \"bon_sd\": [],\n",
    "    \"rnd_mu\": [],\n",
    "    \"rnd_sd\": [],\n",
    "    \"rac_mu\": [],\n",
    "    \"rac_sd\": [],\n",
    "    \"norm\": [],\n",
    "    \"scores\": [],\n",
    "    \"dead_mu\": [],\n",
    "    \"dead_sd\": [],\n",
    "    \"accs_mu\": [],\n",
    "    \"accs_sd\": []\n",
    "}\n",
    "for score in scores:\n",
    "    res = RES[score]\n",
    "    dynamics_mu, dynamics_sd = acu_key_res(res, \"dynamics\")\n",
    "    bonding_mu, bonding_sd = acu_key_res(res, \"bonding\")\n",
    "    rnd_mu, rnd_sd = acu_key_res(res, \"rnd\")\n",
    "    rac_mu, rac_sd = acu_key_res(res, \"rac\")\n",
    "    norm_caps = acc_norm_caps(res)\n",
    "    dead_mu, dead_sd = acu_key_res(res, \"dead\")\n",
    "    accs_mu, accs_sd = acu_acc_res(res)\n",
    "    #\n",
    "    R_scores[\"scores\"].append(score)\n",
    "    R_scores[\"dyc_mu\"].append(dynamics_mu)\n",
    "    R_scores[\"dyc_sd\"].append(dynamics_sd)\n",
    "    R_scores[\"bon_mu\"].append(bonding_mu)\n",
    "    R_scores[\"bon_sd\"].append(bonding_sd)\n",
    "    R_scores[\"rnd_mu\"].append(rnd_mu)\n",
    "    R_scores[\"rnd_sd\"].append(rnd_sd)\n",
    "    R_scores[\"rac_mu\"].append(rac_mu)\n",
    "    R_scores[\"rac_sd\"].append(rac_sd)\n",
    "    R_scores[\"norm\"].append(norm_caps)\n",
    "    R_scores[\"dead_mu\"].append(dead_mu)\n",
    "    R_scores[\"dead_sd\"].append(dead_sd)\n",
    "    R_scores[\"accs_mu\"].append(accs_mu)\n",
    "    R_scores[\"accs_sd\"].append(accs_sd)"
   ]
  },
  {
   "cell_type": "code",
   "execution_count": null,
   "id": "2587ed48",
   "metadata": {},
   "outputs": [],
   "source": [
    "R_scores[\"scores\"]"
   ]
  },
  {
   "cell_type": "code",
   "execution_count": null,
   "id": "e7467ff3",
   "metadata": {},
   "outputs": [],
   "source": [
    "plot_layer_vals(mu=np.array(R_scores[\"dyc_mu\"]),\n",
    "                sd=np.array(R_scores[\"dyc_sd\"]),\n",
    "                scores=R_scores[\"scores\"],\n",
    "                ylim=(0,1))"
   ]
  },
  {
   "cell_type": "code",
   "execution_count": null,
   "id": "a21c5f3f",
   "metadata": {},
   "outputs": [],
   "source": [
    "plot_layer_vals(np.array(R_scores[\"bon_mu\"]),\n",
    "                np.array(R_scores[\"bon_sd\"]),\n",
    "                R_scores[\"scores\"],\n",
    "                (0,1.1))"
   ]
  },
  {
   "cell_type": "code",
   "execution_count": null,
   "id": "6b9073d7",
   "metadata": {},
   "outputs": [],
   "source": [
    "plot_layer_vals(np.array(R_scores[\"rnd_mu\"]),\n",
    "                np.array(R_scores[\"rnd_sd\"]),\n",
    "                R_scores[\"scores\"],\n",
    "                (0,1.1))"
   ]
  },
  {
   "cell_type": "code",
   "execution_count": null,
   "id": "6f33ecaa",
   "metadata": {},
   "outputs": [],
   "source": [
    "plot_layer_vals(np.array(R_scores[\"rac_mu\"]),\n",
    "                np.array(R_scores[\"rac_sd\"]),\n",
    "                R_scores[\"scores\"],\n",
    "                (0,1.1))"
   ]
  },
  {
   "cell_type": "code",
   "execution_count": null,
   "id": "436f939d",
   "metadata": {},
   "outputs": [],
   "source": [
    "plot_layer_vals(np.array(R_scores[\"dead_mu\"]),\n",
    "                np.array(R_scores[\"dead_sd\"]),\n",
    "                R_scores[\"scores\"],\n",
    "                (-0.1,1))"
   ]
  },
  {
   "cell_type": "code",
   "execution_count": null,
   "id": "6990a47a",
   "metadata": {},
   "outputs": [],
   "source": [
    "norms = np.array(R_scores[\"norm\"])"
   ]
  },
  {
   "cell_type": "code",
   "execution_count": null,
   "id": "d49709e1",
   "metadata": {},
   "outputs": [],
   "source": [
    "plot_layer_vals(norms[:,:,0],\n",
    "                norms[:,:,1],\n",
    "                scores=R_scores[\"scores\"],\n",
    "                ylim=(0,1))"
   ]
  },
  {
   "cell_type": "code",
   "execution_count": null,
   "id": "2ea646ce",
   "metadata": {},
   "outputs": [],
   "source": [
    "plot_layer_vals(norms[:,:,2],\n",
    "                scores=R_scores[\"scores\"],\n",
    "                ylim=(0,1.1))"
   ]
  },
  {
   "cell_type": "code",
   "execution_count": null,
   "id": "5d03ebb6",
   "metadata": {
    "scrolled": true
   },
   "outputs": [],
   "source": [
    "fig, ax = plt.subplots(1, 1)\n",
    "for acc_mu, acc_sd, score in zip(R_scores[\"accs_mu\"], R_scores[\"accs_sd\"], R_scores[\"scores\"]):\n",
    "    xx = list(range(len(accs_mu)))\n",
    "    ax.plot(xx, acc_mu, label=score)\n",
    "    ax.fill_between(xx, acc_mu - acc_sd, acc_mu + acc_sd)\n",
    "plt.legend()\n",
    "plt.show()"
   ]
  },
  {
   "cell_type": "code",
   "execution_count": null,
   "id": "0e0e453d",
   "metadata": {},
   "outputs": [],
   "source": [
    "np.array(R_scores[\"accs_mu\"])[:, -5:]"
   ]
  },
  {
   "cell_type": "markdown",
   "id": "4b459d52",
   "metadata": {},
   "source": [
    "# For one score (accumulated)"
   ]
  },
  {
   "cell_type": "code",
   "execution_count": null,
   "id": "bdae4b0c",
   "metadata": {},
   "outputs": [],
   "source": [
    "score = 0.1\n",
    "res = RES[score]"
   ]
  },
  {
   "cell_type": "code",
   "execution_count": null,
   "id": "85cb83ab",
   "metadata": {},
   "outputs": [],
   "source": [
    "res"
   ]
  },
  {
   "cell_type": "code",
   "execution_count": null,
   "id": "95280b52",
   "metadata": {},
   "outputs": [],
   "source": [
    "accs_mu, accs_sd = acu_acc_res(res)\n",
    "#\n",
    "xx = list(range(len(accs_mu)))\n",
    "#\n",
    "plt.plot(xx, accs_mu)\n",
    "plt.fill_between(xx, accs_mu - accs_sd, accs_mu + accs_sd)"
   ]
  },
  {
   "cell_type": "code",
   "execution_count": null,
   "id": "7e0032d7",
   "metadata": {},
   "outputs": [],
   "source": [
    "dead_mu, dead_sd = acu_key_res(res, \"dead\")\n",
    "dead_mu, dead_sd"
   ]
  },
  {
   "cell_type": "code",
   "execution_count": null,
   "id": "37f19edd",
   "metadata": {},
   "outputs": [],
   "source": [
    "rnd_mu, rnd_sd = acu_key_res(res, \"rnd\")\n",
    "rnd_mu, rnd_sd"
   ]
  },
  {
   "cell_type": "code",
   "execution_count": null,
   "id": "1b29285f",
   "metadata": {},
   "outputs": [],
   "source": [
    "rac_mu, rac_sd = acu_key_res(res, \"rac\")\n",
    "rac_mu, rac_sd"
   ]
  },
  {
   "cell_type": "code",
   "execution_count": null,
   "id": "1f1554ca",
   "metadata": {},
   "outputs": [],
   "source": [
    "racnd_mu, racnd_sd = acu_key_res(res, \"racnd\")\n",
    "racnd_mu, racnd_sd"
   ]
  },
  {
   "cell_type": "code",
   "execution_count": null,
   "id": "f45f7efa",
   "metadata": {},
   "outputs": [],
   "source": [
    "bonding_mu, bonding_sd = acu_key_res(res, \"bonding\")\n",
    "bonding_mu, bonding_sd"
   ]
  },
  {
   "cell_type": "code",
   "execution_count": null,
   "id": "216df3ac",
   "metadata": {},
   "outputs": [],
   "source": [
    "dynamics_mu, dynamics_sd = acu_key_res(res, \"dynamics\")\n",
    "dynamics_mu, dynamics_sd"
   ]
  },
  {
   "cell_type": "code",
   "execution_count": null,
   "id": "c032d78c",
   "metadata": {},
   "outputs": [],
   "source": [
    "norm_caps = acc_norm_caps(res)\n",
    "norm_caps"
   ]
  },
  {
   "cell_type": "code",
   "execution_count": null,
   "id": "a79885b7",
   "metadata": {},
   "outputs": [],
   "source": [
    "AS"
   ]
  },
  {
   "cell_type": "code",
   "execution_count": null,
   "id": "c6e3824e",
   "metadata": {},
   "outputs": [],
   "source": []
  }
 ],
 "metadata": {
  "kernelspec": {
   "display_name": "Python 3 (ipykernel)",
   "language": "python",
   "name": "python3"
  },
  "language_info": {
   "codemirror_mode": {
    "name": "ipython",
    "version": 3
   },
   "file_extension": ".py",
   "mimetype": "text/x-python",
   "name": "python",
   "nbconvert_exporter": "python",
   "pygments_lexer": "ipython3",
   "version": "3.8.12"
  },
  "latex_envs": {
   "LaTeX_envs_menu_present": true,
   "autoclose": false,
   "autocomplete": true,
   "bibliofile": "biblio.bib",
   "cite_by": "apalike",
   "current_citInitial": 1,
   "eqLabelWithNumbers": true,
   "eqNumInitial": 1,
   "hotkeys": {
    "equation": "Ctrl-E",
    "itemize": "Ctrl-I"
   },
   "labels_anchors": false,
   "latex_user_defs": false,
   "report_style_numbering": false,
   "user_envs_cfg": false
  }
 },
 "nbformat": 4,
 "nbformat_minor": 5
}
