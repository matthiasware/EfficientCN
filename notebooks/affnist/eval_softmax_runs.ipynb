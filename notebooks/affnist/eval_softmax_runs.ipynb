{
 "cells": [
  {
   "cell_type": "code",
   "execution_count": null,
   "id": "13e1a868",
   "metadata": {},
   "outputs": [],
   "source": [
    "import numpy as np\n",
    "import pickle\n",
    "import matplotlib.pyplot as plt"
   ]
  },
  {
   "cell_type": "code",
   "execution_count": null,
   "id": "ffb0b403",
   "metadata": {},
   "outputs": [],
   "source": [
    "p_file = \"/home/matthias/projects/EfficientCN/train/softmax/affnist/results.pkl\""
   ]
  },
  {
   "cell_type": "code",
   "execution_count": null,
   "id": "e236bff5",
   "metadata": {},
   "outputs": [],
   "source": [
    "with open(p_file, \"rb\") as file:\n",
    "    res = pickle.load(file)"
   ]
  },
  {
   "cell_type": "code",
   "execution_count": null,
   "id": "1e85bce3",
   "metadata": {},
   "outputs": [],
   "source": [
    "scores = list(res.keys())"
   ]
  },
  {
   "cell_type": "code",
   "execution_count": null,
   "id": "73a85c75",
   "metadata": {},
   "outputs": [],
   "source": [
    "scores"
   ]
  },
  {
   "cell_type": "code",
   "execution_count": null,
   "id": "89f69981",
   "metadata": {},
   "outputs": [],
   "source": [
    "# plot accs\n",
    "accs = [res[score][\"acc\"][\"valid\"] for score in scores]\n",
    "xx = list(range(len(accs[0])))\n",
    "#\n",
    "for acc, score in zip(accs, scores):\n",
    "    plt.plot(xx, acc, label=score)\n",
    "plt.legend()\n",
    "plt.show()"
   ]
  },
  {
   "cell_type": "code",
   "execution_count": null,
   "id": "834bc134",
   "metadata": {},
   "outputs": [],
   "source": [
    "vals = np.array([res[score][\"dead\"] for score in scores])\n",
    "n_col = len(vals[0])\n",
    "fig, axes = plt.subplots(1, n_col, figsize=(n_col * 4, 4))\n",
    "for idx in range(n_col):\n",
    "    ax = axes[idx]\n",
    "    #ax.set_yscale(\"log\")\n",
    "    yy = vals.T[idx]\n",
    "    xx = scores\n",
    "    ax.scatter(xx, yy)\n",
    "    ax.set_ylim(0, 1)\n",
    "    ax.set_xscale(\"log\")\n",
    "plt.show()"
   ]
  },
  {
   "cell_type": "code",
   "execution_count": null,
   "id": "7d66eca2",
   "metadata": {},
   "outputs": [],
   "source": [
    "vals = np.array([res[score][\"rnd\"] for score in scores])\n",
    "n_col = len(vals[0])\n",
    "fig, axes = plt.subplots(1, n_col, figsize=(n_col * 4, 4))\n",
    "for idx in range(n_col):\n",
    "    ax = axes[idx]\n",
    "    #ax.set_yscale(\"log\")\n",
    "    yy = vals.T[idx]\n",
    "    xx = scores\n",
    "    ax.scatter(xx, yy)\n",
    "    ax.set_ylim(0, 1)\n",
    "    ax.set_xscale(\"log\")\n",
    "plt.show()"
   ]
  },
  {
   "cell_type": "code",
   "execution_count": null,
   "id": "45bf1fcd",
   "metadata": {},
   "outputs": [],
   "source": [
    "vals = np.array([res[score][\"rac\"] for score in scores])\n",
    "n_col = len(vals[0])\n",
    "fig, axes = plt.subplots(1, n_col, figsize=(n_col * 4, 4))\n",
    "for idx in range(n_col):\n",
    "    ax = axes[idx]\n",
    "    #ax.set_yscale(\"log\")\n",
    "    yy = vals.T[idx]\n",
    "    xx = scores\n",
    "    ax.scatter(xx, yy)\n",
    "    ax.set_ylim(0, 1)\n",
    "    ax.set_xscale(\"log\")\n",
    "plt.show()"
   ]
  },
  {
   "cell_type": "code",
   "execution_count": null,
   "id": "8c9ee9c3",
   "metadata": {},
   "outputs": [],
   "source": [
    "vals = np.array([res[score][\"bonding\"] for score in scores])\n",
    "n_col = len(vals[0])\n",
    "fig, axes = plt.subplots(1, n_col, figsize=(n_col * 4, 4))\n",
    "for idx in range(n_col):\n",
    "    ax = axes[idx]\n",
    "    #ax.set_yscale(\"log\")\n",
    "    yy = vals.T[idx]\n",
    "    xx = scores\n",
    "    ax.scatter(xx, yy)\n",
    "    ax.set_ylim(0, 1)\n",
    "    ax.set_xscale(\"log\")\n",
    "plt.show()"
   ]
  },
  {
   "cell_type": "code",
   "execution_count": null,
   "id": "89bcde54",
   "metadata": {},
   "outputs": [],
   "source": [
    "vals = np.array([res[score][\"dynamics\"] for score in scores])\n",
    "n_col = len(vals[0])\n",
    "fig, axes = plt.subplots(1, n_col, figsize=(n_col * 4, 4))\n",
    "for idx in range(n_col):\n",
    "    ax = axes[idx]\n",
    "    #ax.set_yscale(\"log\")\n",
    "    yy = vals.T[idx]\n",
    "    xx = scores\n",
    "    ax.scatter(xx, yy)\n",
    "    ax.set_ylim(0, 1)\n",
    "    ax.set_xscale(\"log\")\n",
    "plt.show()"
   ]
  },
  {
   "cell_type": "code",
   "execution_count": null,
   "id": "f53b4fd7",
   "metadata": {},
   "outputs": [],
   "source": [
    "xx = np.array([5,4,3,2,1,0.5,0.1,0,0.05, 0.01, 0.005, 0.001])\n",
    "#\n",
    "xx = np.array([10,1,0.5,0.1,0,0.05, 0.01, 0.005, 0.001])\n",
    "xx = np.array([10, 1, 0.1, 0.01, 0.001])\n",
    "plt.scatter(xx, np.ones(len(xx)))\n",
    "plt.xscale(\"log\")"
   ]
  },
  {
   "cell_type": "code",
   "execution_count": null,
   "id": "fc51d5b5",
   "metadata": {},
   "outputs": [],
   "source": [
    "np.log10(10)"
   ]
  },
  {
   "cell_type": "code",
   "execution_count": null,
   "id": "7c637a07",
   "metadata": {},
   "outputs": [],
   "source": [
    "np.log10(1)"
   ]
  },
  {
   "cell_type": "code",
   "execution_count": null,
   "id": "f168feb5",
   "metadata": {},
   "outputs": [],
   "source": [
    "np.log10(5)"
   ]
  },
  {
   "cell_type": "code",
   "execution_count": null,
   "id": "b102bbd7",
   "metadata": {},
   "outputs": [],
   "source": [
    "10**0.5"
   ]
  },
  {
   "cell_type": "code",
   "execution_count": null,
   "id": "b8eb76f8",
   "metadata": {},
   "outputs": [],
   "source": [
    "[10**i for i in [1, 0.5, 0]]"
   ]
  },
  {
   "cell_type": "code",
   "execution_count": null,
   "id": "d1113fb7",
   "metadata": {},
   "outputs": [],
   "source": [
    "xx = np.logspace(-3, 1, 9)\n",
    "xx"
   ]
  },
  {
   "cell_type": "code",
   "execution_count": null,
   "id": "09d34343",
   "metadata": {},
   "outputs": [],
   "source": [
    "plt.scatter(xx, np.ones(len(xx)))\n",
    "#plt.xscale(\"log\")"
   ]
  },
  {
   "cell_type": "code",
   "execution_count": null,
   "id": "ba2a73a7",
   "metadata": {},
   "outputs": [],
   "source": [
    "plt.scatter(xx, np.ones(len(xx)))\n",
    "plt.xscale(\"log\")"
   ]
  },
  {
   "cell_type": "code",
   "execution_count": null,
   "id": "004d02e4",
   "metadata": {},
   "outputs": [],
   "source": []
  }
 ],
 "metadata": {
  "kernelspec": {
   "display_name": "Python 3 (ipykernel)",
   "language": "python",
   "name": "python3"
  },
  "language_info": {
   "codemirror_mode": {
    "name": "ipython",
    "version": 3
   },
   "file_extension": ".py",
   "mimetype": "text/x-python",
   "name": "python",
   "nbconvert_exporter": "python",
   "pygments_lexer": "ipython3",
   "version": "3.8.12"
  },
  "latex_envs": {
   "LaTeX_envs_menu_present": true,
   "autoclose": false,
   "autocomplete": true,
   "bibliofile": "biblio.bib",
   "cite_by": "apalike",
   "current_citInitial": 1,
   "eqLabelWithNumbers": true,
   "eqNumInitial": 1,
   "hotkeys": {
    "equation": "Ctrl-E",
    "itemize": "Ctrl-I"
   },
   "labels_anchors": false,
   "latex_user_defs": false,
   "report_style_numbering": false,
   "user_envs_cfg": false
  }
 },
 "nbformat": 4,
 "nbformat_minor": 5
}
