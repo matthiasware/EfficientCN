{
 "cells": [
  {
   "cell_type": "code",
   "execution_count": null,
   "id": "10adbd66",
   "metadata": {},
   "outputs": [],
   "source": [
    "import numpy as np\n",
    "import torch"
   ]
  },
  {
   "cell_type": "code",
   "execution_count": null,
   "id": "a6bac54f",
   "metadata": {},
   "outputs": [],
   "source": [
    "def squash_hinton(x):\n",
    "    lengths2 = x.pow(2).sum(dim=2)\n",
    "    lengths = lengths2.sqrt()\n",
    "    x = x * (lengths2 / (1 + lengths2) / lengths).view(x.size(0), x.size(1), 1)\n",
    "    return x\n",
    "\n",
    "\n",
    "def squash_func(x, eps=10e-21):\n",
    "    \"\"\"\n",
    "        IN:\n",
    "            x (b, n, d)\n",
    "        OUT:\n",
    "            squash(x) (b, n, d)\n",
    "    \"\"\"\n",
    "    x_norm = torch.norm(x, dim=2, keepdim=True)\n",
    "    return (1 - 1 / (torch.exp(x_norm) + eps)) * (x / (x_norm + eps))\n",
    "\n",
    "def round_dec(x,nd=3):\n",
    "    return torch.round(x * 10**3) / (10**3)"
   ]
  },
  {
   "cell_type": "code",
   "execution_count": null,
   "id": "5f8f13b0",
   "metadata": {},
   "outputs": [],
   "source": [
    "n_l = 32\n",
    "d_l = 8\n",
    "#\n",
    "n_h = 32\n",
    "d_h = 8\n",
    "#\n",
    "temp = 100\n",
    "#\n",
    "x = torch.rand(1, n_l, n_h, d_l) * 10\n",
    "\n",
    "C = torch.rand(1, n_l, n_h)\n",
    "C = torch.softmax(C / temp, dim=-1)\n",
    "#\n",
    "y = torch.einsum('...ikl,...ik->...kl', x, C)"
   ]
  },
  {
   "cell_type": "code",
   "execution_count": null,
   "id": "cfd8da38",
   "metadata": {},
   "outputs": [],
   "source": [
    "sh = squash_hinton(y)\n",
    "se = squash_func(y)\n",
    "#\n",
    "#sh = round_dec(sh, 3)\n",
    "#se = round_dec(se, 3)"
   ]
  },
  {
   "cell_type": "code",
   "execution_count": null,
   "id": "362437b9",
   "metadata": {},
   "outputs": [],
   "source": [
    "torch.norm(y, dim=-1).sum()"
   ]
  },
  {
   "cell_type": "code",
   "execution_count": null,
   "id": "8db8f56a",
   "metadata": {},
   "outputs": [],
   "source": [
    "torch.norm(se, dim=-1).sum()"
   ]
  },
  {
   "cell_type": "code",
   "execution_count": null,
   "id": "4083326d",
   "metadata": {},
   "outputs": [],
   "source": [
    "torch.norm(sh, dim=-1).sum()"
   ]
  },
  {
   "cell_type": "code",
   "execution_count": null,
   "id": "2a649157",
   "metadata": {},
   "outputs": [],
   "source": [
    "torch.norm(x, dim=-1).shape"
   ]
  },
  {
   "cell_type": "code",
   "execution_count": null,
   "id": "d8d9543b",
   "metadata": {},
   "outputs": [],
   "source": [
    "torch.Tensor([0.1, 0.2, 0.3]).view((1, -1))"
   ]
  },
  {
   "cell_type": "markdown",
   "id": "6fa585d2",
   "metadata": {},
   "source": [
    "# Sqashing funciton"
   ]
  },
  {
   "cell_type": "code",
   "execution_count": null,
   "id": "b4725c9c",
   "metadata": {},
   "outputs": [],
   "source": [
    "c_ac = torch.Tensor([0.1, 0.2]).view((1, 1, -1)) * 10\n",
    "c_ia = c_ac / 100\n",
    "#\n",
    "y_ac = squash_hinton(c_ac)\n",
    "y_ia = squash_hinton(c_ia)"
   ]
  },
  {
   "cell_type": "code",
   "execution_count": null,
   "id": "9293b86d",
   "metadata": {},
   "outputs": [],
   "source": [
    "torch.norm(c_ac)"
   ]
  },
  {
   "cell_type": "code",
   "execution_count": null,
   "id": "aae3d127",
   "metadata": {},
   "outputs": [],
   "source": [
    "torch.norm(c_ia)"
   ]
  },
  {
   "cell_type": "code",
   "execution_count": null,
   "id": "d777d295",
   "metadata": {},
   "outputs": [],
   "source": [
    "torch.norm(y_ac)"
   ]
  },
  {
   "cell_type": "code",
   "execution_count": null,
   "id": "7ed974bf",
   "metadata": {},
   "outputs": [],
   "source": [
    "torch.norm(y_ia)"
   ]
  },
  {
   "cell_type": "markdown",
   "id": "eff53f6e",
   "metadata": {},
   "source": [
    "# Depth"
   ]
  },
  {
   "cell_type": "code",
   "execution_count": null,
   "id": "46e08896",
   "metadata": {},
   "outputs": [],
   "source": [
    "np.log2(8)"
   ]
  },
  {
   "cell_type": "code",
   "execution_count": null,
   "id": "4f2afc0a",
   "metadata": {},
   "outputs": [],
   "source": [
    "4**12"
   ]
  },
  {
   "cell_type": "markdown",
   "id": "4469d920",
   "metadata": {},
   "source": [
    "# SNR"
   ]
  },
  {
   "cell_type": "code",
   "execution_count": null,
   "id": "c27c695d",
   "metadata": {},
   "outputs": [],
   "source": [
    "x1 = torch.rand(n_l, d_l) / 1000\n",
    "x1_norm = torch.norm(x1, dim=-1)"
   ]
  },
  {
   "cell_type": "code",
   "execution_count": null,
   "id": "b3e2e476",
   "metadata": {},
   "outputs": [],
   "source": [
    "x1_norm"
   ]
  },
  {
   "cell_type": "code",
   "execution_count": null,
   "id": "9c2bc756",
   "metadata": {},
   "outputs": [],
   "source": [
    "x2 = torch.rand(1, d_l)\n",
    "x2 = x2 / torch.norm(x2, dim=-1)\n",
    "x2.norm(dim=-1)"
   ]
  },
  {
   "cell_type": "code",
   "execution_count": null,
   "id": "60562424",
   "metadata": {},
   "outputs": [],
   "source": [
    "x_new = torch.cat((x1, x2)).sum(axis=0)"
   ]
  },
  {
   "cell_type": "code",
   "execution_count": null,
   "id": "3c980578",
   "metadata": {},
   "outputs": [],
   "source": [
    "import math"
   ]
  },
  {
   "cell_type": "code",
   "execution_count": null,
   "id": "6ffa913e",
   "metadata": {},
   "outputs": [],
   "source": [
    "math.log(1024, 8)"
   ]
  },
  {
   "cell_type": "code",
   "execution_count": null,
   "id": "1ff948f8",
   "metadata": {},
   "outputs": [],
   "source": [
    "math.log(32, 8)"
   ]
  },
  {
   "cell_type": "code",
   "execution_count": null,
   "id": "4a8f552a",
   "metadata": {},
   "outputs": [],
   "source": []
  }
 ],
 "metadata": {
  "kernelspec": {
   "display_name": "Python 3 (ipykernel)",
   "language": "python",
   "name": "python3"
  },
  "language_info": {
   "codemirror_mode": {
    "name": "ipython",
    "version": 3
   },
   "file_extension": ".py",
   "mimetype": "text/x-python",
   "name": "python",
   "nbconvert_exporter": "python",
   "pygments_lexer": "ipython3",
   "version": "3.8.12"
  },
  "latex_envs": {
   "LaTeX_envs_menu_present": true,
   "autoclose": false,
   "autocomplete": true,
   "bibliofile": "biblio.bib",
   "cite_by": "apalike",
   "current_citInitial": 1,
   "eqLabelWithNumbers": true,
   "eqNumInitial": 1,
   "hotkeys": {
    "equation": "Ctrl-E",
    "itemize": "Ctrl-I"
   },
   "labels_anchors": false,
   "latex_user_defs": false,
   "report_style_numbering": false,
   "user_envs_cfg": false
  }
 },
 "nbformat": 4,
 "nbformat_minor": 5
}
