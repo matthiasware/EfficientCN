{
 "cells": [
  {
   "cell_type": "code",
   "execution_count": null,
   "id": "081b2bb7",
   "metadata": {},
   "outputs": [],
   "source": [
    "%load_ext autoreload\n",
    "%autoreload 2"
   ]
  },
  {
   "cell_type": "code",
   "execution_count": null,
   "id": "91a27a12",
   "metadata": {},
   "outputs": [],
   "source": [
    "import sys\n",
    "sys.path.append(\"./../..\")\n",
    "\n",
    "# standard lib\n",
    "import shutil\n",
    "from pathlib import Path\n",
    "import pickle\n",
    "\n",
    "# external imports\n",
    "import numpy as np\n",
    "import torch\n",
    "import torch.nn as nn\n",
    "import matplotlib.pyplot as plt\n",
    "import torchvision\n",
    "import torchvision.transforms as T\n",
    "import torch.nn.functional as F\n",
    "from torch import optim\n",
    "from tqdm import tqdm\n",
    "import scipy as sp\n",
    "import pandas as pd\n",
    "pd.options.display.float_format = '{:,.2f}'.format\n",
    "\n",
    "# local imports\n",
    "from datasets import AffNIST\n",
    "from effcn.layers import Squash\n",
    "from effcn.functions import margin_loss, max_norm_masking\n",
    "from misc.utils import count_parameters\n",
    "from misc.plot_utils import plot_couplings, plot_capsules, plot_mat, plot_mat2\n",
    "from misc.metrics import *"
   ]
  },
  {
   "cell_type": "code",
   "execution_count": null,
   "id": "df83289f",
   "metadata": {},
   "outputs": [],
   "source": [
    "if torch.cuda.is_available():  \n",
    "    dev = \"cuda:1\" \n",
    "else:  \n",
    "    dev = \"cpu\"  \n",
    "device = torch.device(dev)"
   ]
  },
  {
   "cell_type": "markdown",
   "id": "d7b8a87f",
   "metadata": {},
   "source": [
    "# Data"
   ]
  },
  {
   "cell_type": "code",
   "execution_count": null,
   "id": "1085e9c5",
   "metadata": {},
   "outputs": [],
   "source": [
    "transform_train = T.Compose([\n",
    "    T.RandomAffine(degrees=(-8, 8),\n",
    "                   shear=(-15, 15),\n",
    "                   scale=(0.9, 1.1)\n",
    "                  ),\n",
    "    T.Normalize((0.0641,), (0.2257))\n",
    "])\n",
    "transform_valid = T.Normalize((0.0641,), (0.2257))\n",
    "\n",
    "p_data = '/home/matthias/projects/EfficientCN/data'\n",
    "\n",
    "ds_mnist_train = AffNIST(p_root=p_data, split=\"mnist_train\", download=True, transform=transform_train, target_transform=None)\n",
    "ds_mnist_valid = AffNIST(p_root=p_data, split=\"mnist_valid\", download=True, transform=transform_valid, target_transform=None)\n",
    "ds_affnist_valid = AffNIST(p_root=p_data, split=\"affnist_valid\", download=True, transform=transform_valid, target_transform=None)"
   ]
  },
  {
   "cell_type": "code",
   "execution_count": null,
   "id": "dd145857",
   "metadata": {},
   "outputs": [],
   "source": [
    "bs = 512\n",
    "dl_mnist_train = torch.utils.data.DataLoader(\n",
    "    ds_mnist_train, \n",
    "    batch_size=bs, \n",
    "    shuffle=True,\n",
    "    pin_memory=True,\n",
    "    num_workers=4)\n",
    "dl_mnist_valid= torch.utils.data.DataLoader(\n",
    "    ds_mnist_valid, \n",
    "    batch_size=bs, \n",
    "    shuffle=True, \n",
    "    pin_memory=True,\n",
    "    num_workers=4)\n",
    "dl_affnist_valid= torch.utils.data.DataLoader(\n",
    "    ds_affnist_valid, \n",
    "    batch_size=bs, \n",
    "    shuffle=True, \n",
    "    pin_memory=True,\n",
    "    num_workers=4)"
   ]
  },
  {
   "cell_type": "code",
   "execution_count": null,
   "id": "adb430ec",
   "metadata": {},
   "outputs": [],
   "source": [
    "x, _ = next(iter(dl_mnist_train))\n",
    "x_vis_train = x[:32]\n",
    "\n",
    "x, _ = next(iter(dl_mnist_valid))\n",
    "x_vis_mnist_valid = x[:32]\n",
    "\n",
    "x, _ = next(iter(dl_affnist_valid))\n",
    "x_vis_affnist_valid = x[:32]"
   ]
  },
  {
   "cell_type": "code",
   "execution_count": null,
   "id": "c1404fc6",
   "metadata": {},
   "outputs": [],
   "source": [
    "plt.imshow(torchvision.utils.make_grid(x_vis_train).permute(1,2,0))\n",
    "plt.show()\n",
    "#\n",
    "plt.imshow(torchvision.utils.make_grid(x_vis_mnist_valid).permute(1,2,0))\n",
    "plt.show()\n",
    "#\n",
    "plt.imshow(torchvision.utils.make_grid(x_vis_affnist_valid).permute(1,2,0))\n",
    "plt.show()"
   ]
  },
  {
   "cell_type": "markdown",
   "id": "a665b026",
   "metadata": {},
   "source": [
    "# Models"
   ]
  },
  {
   "cell_type": "markdown",
   "id": "bce22576",
   "metadata": {},
   "source": [
    "### Backbone"
   ]
  },
  {
   "cell_type": "code",
   "execution_count": null,
   "id": "ca15992b",
   "metadata": {},
   "outputs": [],
   "source": [
    "class CustomBB(nn.Module):\n",
    "    \"\"\"\n",
    "        Custom backbone\n",
    "    \"\"\"\n",
    "    def __init__(self, ch_in=3, n_classes=10):\n",
    "        super().__init__()\n",
    "        self.ch_in = ch_in\n",
    "        self.n_classes=n_classes\n",
    "    \n",
    "        self.convs = nn.Sequential(\n",
    "            nn.Conv2d(in_channels=ch_in, out_channels=128, kernel_size=3, stride=2, padding=0),\n",
    "            nn.BatchNorm2d(num_features=128),\n",
    "            nn.ReLU(),\n",
    "            nn.Conv2d(in_channels=128, out_channels=256, kernel_size=3, stride=2, padding=0),\n",
    "            nn.BatchNorm2d(num_features=256),\n",
    "            nn.ReLU(),\n",
    "            nn.Conv2d(256, 256, kernel_size=9, groups=256, stride=1, padding=\"valid\"),\n",
    "        )\n",
    "        self.fc = nn.Linear(256 , n_classes)\n",
    "    def forward(self, x):\n",
    "        x = self.convs(x)\n",
    "        x = torch.flatten(x, 1)     # -> (b, 256), remove 1 X 1 grid and make vector of tensor shape \n",
    "        x = self.fc(x)\n",
    "        return x"
   ]
  },
  {
   "cell_type": "code",
   "execution_count": null,
   "id": "97d9e526",
   "metadata": {},
   "outputs": [],
   "source": [
    "# Check if it works\n",
    "model = CustomBB(ch_in=1)\n",
    "y = model(torch.rand(128, 1, 40, 40))\n",
    "print(count_parameters(model))\n",
    "print(y.shape)"
   ]
  },
  {
   "cell_type": "code",
   "execution_count": null,
   "id": "12ae8bce",
   "metadata": {},
   "outputs": [],
   "source": [
    "count_parameters(model)"
   ]
  },
  {
   "cell_type": "code",
   "execution_count": null,
   "id": "fc11846e",
   "metadata": {},
   "outputs": [],
   "source": [
    "class FCCaps(nn.Module):\n",
    "    \"\"\"\n",
    "        Attributes\n",
    "        ----------\n",
    "        n_l ... number of lower layer capsules\n",
    "        d_l ... dimension of lower layer capsules\n",
    "        n_h ... number of higher layer capsules\n",
    "        d_h ... dimension of higher layer capsules\n",
    "\n",
    "        W   (n_l, n_h, d_l, d_h) ... weight tensor\n",
    "        B   (n_l, n_h)           ... bias tensor\n",
    "    \"\"\"\n",
    "\n",
    "    def __init__(self, n_l, n_h, d_l, d_h):\n",
    "        super().__init__()\n",
    "        self.n_l = n_l\n",
    "        self.d_l = d_l\n",
    "        self.n_h = n_h\n",
    "        self.d_h = d_h\n",
    "        \n",
    "        \n",
    "        self.W = torch.nn.Parameter(torch.rand(\n",
    "            n_l, n_h, d_l, d_h), requires_grad=True)\n",
    "        self.B = torch.nn.Parameter(torch.rand(n_l, n_h), requires_grad=True)\n",
    "        self.squash = Squash(eps=1e-20)\n",
    "\n",
    "        # init custom weights\n",
    "        # i'm relly unsure about this initialization scheme\n",
    "        # i don't think it makes sense in our case, but the paper says so ...\n",
    "        torch.nn.init.kaiming_normal_(\n",
    "            self.W, a=0, mode='fan_in', nonlinearity='leaky_relu')\n",
    "        torch.nn.init.kaiming_normal_(\n",
    "            self.B, a=0, mode=\"fan_in\", nonlinearity=\"leaky_relu\")\n",
    "\n",
    "        self.attention_scaling = np.sqrt(self.d_l)\n",
    "\n",
    "    def forward(self, U_l):\n",
    "        \"\"\"\n",
    "        einsum convenventions:\n",
    "          n_l = i | h\n",
    "          d_l = j\n",
    "          n_h = k\n",
    "          d_h = l\n",
    "\n",
    "        Data tensors:\n",
    "            IN:  U_l ... lower layer capsules\n",
    "            OUT: U_h ... higher layer capsules\n",
    "            DIMS:\n",
    "                U_l (n_l, d_l)\n",
    "                U_h (n_h, d_h)\n",
    "                W   (n_l, n_h, d_l, d_h)\n",
    "                B   (n_l, n_h)\n",
    "                A   (n_l, n_l, n_h)\n",
    "                C   (n_l, n_h)\n",
    "        \"\"\"\n",
    "        U_hat = torch.einsum('...ij,ikjl->...ikl', U_l, self.W)\n",
    "        A = torch.einsum(\"...ikl, ...hkl -> ...hik\", U_hat, U_hat)\n",
    "        \n",
    "        # I removed the scaling, to enforce stronger couplings\n",
    "        #A = A / self.attention_scaling)\n",
    "        \n",
    "        \n",
    "        A_sum = torch.einsum(\"...hij->...hj\", A)\n",
    "        C = torch.softmax(A_sum, dim=-1)\n",
    "        \n",
    "        # I removed the Bias term\n",
    "        #CB = C + B\n",
    "        \n",
    "        U_h = torch.einsum('...ikl,...ik->...kl', U_hat, C)\n",
    "        return self.squash(U_h)\n",
    "\n",
    "    def forward_debug(self, U_l):\n",
    "        \"\"\"\n",
    "            Same as forward() but returns more stuff to analyze routing\n",
    "        \"\"\"\n",
    "        U_hat = torch.einsum('...ij,ikjl->...ikl', U_l, self.W)\n",
    "        A = torch.einsum(\"...ikl, ...hkl -> ...hik\", U_hat, U_hat)\n",
    "        \n",
    "        # I removed the scaling, to create stronger couplings\n",
    "        #A = A / self.attention_scaling)\n",
    "        \n",
    "        \n",
    "        A_sum = torch.einsum(\"...hij->...hj\", A)\n",
    "        C = torch.softmax(A_sum, dim=-1)\n",
    "        \n",
    "        # I removed the Bias term\n",
    "        #CB = C + B\n",
    "        \n",
    "        U_h = torch.einsum('...ikl,...ik->...kl', U_hat, C)\n",
    "        return self.squash(U_h), C\n",
    "\n",
    "class DeepCapsNet(nn.Module):\n",
    "    \"\"\"\n",
    "        A Deeper CN that allows\n",
    "    \"\"\"\n",
    "    def __init__(self, ns, ds):\n",
    "        super().__init__()\n",
    "        self.ns = ns\n",
    "        self.ds = ds\n",
    "        \n",
    "        self.backbone = CustomBB(ch_in=1)\n",
    "        self.backbone.fc = nn.Identity()\n",
    "        \n",
    "        self.squash = Squash(eps=1e-20)\n",
    "        layers = []\n",
    "        for idx in range(1, len(ns), 1):\n",
    "            n_l = ns[idx - 1]\n",
    "            n_h = ns[idx]\n",
    "            d_l = ds[idx - 1]\n",
    "            d_h = ds[idx]\n",
    "            layers.append(FCCaps(n_l, n_h, d_l, d_h) )\n",
    "        self.layers = nn.Sequential(*layers)\n",
    "\n",
    "\n",
    "    def forward(self, x):\n",
    "        x = self.backbone(x)\n",
    "        \n",
    "        # primecaps\n",
    "        x = self.squash(x.view(-1, self.ns[0], self.ds[0]))\n",
    "        \n",
    "        for layer in self.layers:\n",
    "            x = layer(x)\n",
    "        return x\n",
    "\n",
    "    def forward_debug(self, x):\n",
    "        x = self.backbone(x)\n",
    "        \n",
    "        # primecaps\n",
    "        x = self.squash(x.view(-1, self.ns[0], self.ds[0]))\n",
    "        \n",
    "        us = [torch.clone(x)]\n",
    "        cc = []\n",
    "        # fccaps\n",
    "        for layer in self.layers:\n",
    "            x, c = layer.forward_debug(x)\n",
    "            cc.append(c.detach())\n",
    "            us.append(torch.clone(x).detach())\n",
    "        return x, cc, us"
   ]
  },
  {
   "cell_type": "code",
   "execution_count": null,
   "id": "98600e6c",
   "metadata": {},
   "outputs": [],
   "source": [
    "ns = [16, 16, 16, 10]\n",
    "ds = [16, 16, 16, 16]"
   ]
  },
  {
   "cell_type": "code",
   "execution_count": null,
   "id": "01791255",
   "metadata": {},
   "outputs": [],
   "source": [
    "ns = [16, 10, 10, 10, 10]\n",
    "ds = [16, 16, 16, 16, 16]\n",
    "\n",
    "#ns = [32, 10, 10, 10, 10]  # geht\n",
    "#ds = [8, 16, 16, 16, 16]\n",
    "\n",
    "ns = [16, 16, 16, 10]\n",
    "ds = [16, 16, 16, 16]\n",
    "\n",
    "model = DeepCapsNet(ns=ns, ds=ds)\n",
    "#\n",
    "print(\"tot Model \", count_parameters(model))\n",
    "print(\"Backbone  \", count_parameters(model.backbone))\n",
    "#\n",
    "model = model.to(device)\n",
    "model"
   ]
  },
  {
   "cell_type": "code",
   "execution_count": null,
   "id": "0d04deec",
   "metadata": {},
   "outputs": [],
   "source": [
    "optimizer = optim.Adam(model.parameters(), lr = 1e-3, weight_decay=1e-5)\n",
    "lr_scheduler = torch.optim.lr_scheduler.ExponentialLR(optimizer=optimizer, gamma=0.96)"
   ]
  },
  {
   "cell_type": "code",
   "execution_count": null,
   "id": "2a46d561",
   "metadata": {},
   "outputs": [],
   "source": [
    "def get_metrics(model, dl):\n",
    "    model.eval()\n",
    "\n",
    "    #YY = []\n",
    "    CC = [[] for _ in range(len(ns) - 1)]\n",
    "    #US = [[] for _ in range(len(ns))]\n",
    "\n",
    "\n",
    "    # use whole dataset\n",
    "    for x,y_true in dl:\n",
    "        x = x.to(device)\n",
    "\n",
    "        with torch.no_grad():\n",
    "            _, cc, us = model.forward_debug(x.to(device))\n",
    "            for idx in range(len(cc)):\n",
    "                CC[idx].append(cc[idx].detach().cpu().numpy())\n",
    "            #for idx in range(len(us)):\n",
    "            #    US[idx].append(us[idx].detach().cpu().numpy())\n",
    "            #YY.append(y_true.numpy())\n",
    "\n",
    "    # Dataset Labels\n",
    "    #YY = np.concatenate(YY)\n",
    "\n",
    "    # Dataset Coupling Coefficient Matrices\n",
    "    CC = [np.concatenate(c) for c in CC]\n",
    "\n",
    "    # Dataset Capsules\n",
    "    #US = [np.concatenate(u) for u in US]\n",
    "    #\n",
    "    \n",
    "    # Activity Rates\n",
    "    PRS = []\n",
    "    for C in CC:\n",
    "        Cn, pr = normalize_couplings(C)\n",
    "        PRS.append(pr)\n",
    "    return PRS"
   ]
  },
  {
   "cell_type": "code",
   "execution_count": null,
   "id": "ceaf55e9",
   "metadata": {
    "scrolled": false
   },
   "outputs": [],
   "source": [
    "num_epochs = 51\n",
    "#\n",
    "PRS = []\n",
    "for epoch_idx in range(num_epochs):\n",
    "    # ####################\n",
    "    # TRAIN\n",
    "    # ####################\n",
    "    model.train()\n",
    "    desc = \"Train [{:3}/{:3}]:\".format(epoch_idx, num_epochs)\n",
    "    pbar = tqdm(dl_mnist_train, bar_format=desc + '{bar:10}{r_bar}{bar:-10b}')\n",
    "    \n",
    "    for x,y_true in pbar:\n",
    "        x = x.to(device)\n",
    "        y_true = y_true.to(device)\n",
    "        optimizer.zero_grad()\n",
    "        \n",
    "        u_h = model.forward(x)\n",
    "        \n",
    "        # LOSS\n",
    "        y_one_hot = F.one_hot(y_true, num_classes=10)\n",
    "        loss = margin_loss(u_h, y_one_hot)\n",
    "\n",
    "        loss.backward()\n",
    "        \n",
    "        optimizer.step()\n",
    "        \n",
    "        y_pred = torch.argmax(torch.norm(u_h, dim=2), dim=1)\n",
    "        acc = (y_true == y_pred).sum() / y_true.shape[0]\n",
    "        \n",
    "        pbar.set_postfix(\n",
    "                {'loss': loss.item(),\n",
    "                 'acc': acc.item()\n",
    "                 }\n",
    "        )\n",
    "        #\n",
    "        model.eval()\n",
    "        prs = get_metrics(model, dl_affnist_valid)\n",
    "        model.train()\n",
    "        PRS.append(prs)\n",
    "    lr_scheduler.step()\n",
    "    with open(\"data16.pkl\", \"wb\") as file:\n",
    "        pickle.dump(PRS, file)\n",
    "    #\n",
    "    # ####################\n",
    "    # VALID\n",
    "    # ####################\n",
    "    if epoch_idx % 5 != 0:\n",
    "        continue\n",
    "    \n",
    "    model.eval()\n",
    "    \n",
    "    total_correct = 0\n",
    "    total = 0\n",
    "\n",
    "    for x,y_true in dl_mnist_valid:\n",
    "        x = x.to(device)\n",
    "        y_true = y_true.to(device)\n",
    "        \n",
    "        with torch.no_grad():\n",
    "            u_h = model.forward(x)\n",
    "            \n",
    "            y_pred = torch.argmax(torch.norm(u_h, dim=2), dim=1)\n",
    "            total_correct += (y_true == y_pred).sum()\n",
    "            total += y_true.shape[0]\n",
    "    print(\"   mnist acc_valid: {:.3f}\".format(total_correct / total))\n",
    "\n",
    "    model.eval()\n",
    "    \n",
    "    total_correct = 0\n",
    "    total = 0\n",
    "\n",
    "    for x,y_true in dl_affnist_valid:\n",
    "        x = x.to(device)\n",
    "        y_true = y_true.to(device)\n",
    "        \n",
    "        with torch.no_grad():\n",
    "            u_h = model.forward(x)\n",
    "            \n",
    "            y_pred = torch.argmax(torch.norm(u_h, dim=2), dim=1)\n",
    "            total_correct += (y_true == y_pred).sum()\n",
    "            total += y_true.shape[0]\n",
    "    print(\"   affnist acc_valid: {:.3f}\".format(total_correct / total))"
   ]
  },
  {
   "cell_type": "code",
   "execution_count": null,
   "id": "d27dbb99",
   "metadata": {},
   "outputs": [],
   "source": [
    "with open(\"data16.pkl\", \"rb\") as file:\n",
    "    PRS = pickle.load(file)"
   ]
  },
  {
   "cell_type": "markdown",
   "id": "d7f59597",
   "metadata": {},
   "source": [
    "# ANALYZE"
   ]
  },
  {
   "cell_type": "code",
   "execution_count": null,
   "id": "3f219d7e",
   "metadata": {},
   "outputs": [],
   "source": [
    "prs_l0 = [prs[0] for prs in PRS]\n",
    "prs_l1 = [prs[1] for prs in PRS]\n",
    "prs_l2 = [prs[2] for prs in PRS]\n",
    "#\n",
    "prs0 = np.stack(prs_l0).T\n",
    "prs1 = np.stack(prs_l1).T\n",
    "prs2 = np.stack(prs_l2).T\n",
    "#\n",
    "prsl = [prs0, prs1, prs2]\n",
    "print(prs0.shape, prs1.shape, prs2.shape)"
   ]
  },
  {
   "cell_type": "code",
   "execution_count": null,
   "id": "7672273c",
   "metadata": {
    "scrolled": false
   },
   "outputs": [],
   "source": [
    "prs = prs2\n",
    "nl, ns = prs.shape\n",
    "fig, axis = plt.subplots(nl, 3, figsize=(12,nl))\n",
    "xx = list(range(ns))\n",
    "for col_idx in range(3):\n",
    "    prs = prsl[col_idx]\n",
    "    for idx in range(nl):\n",
    "        axis[idx][col_idx].plot(xx, 1 - prs[idx,:])\n",
    "        axis[idx][col_idx].set_ylim(0, 1.1)\n",
    "plt.tight_layout()\n",
    "plt.show()"
   ]
  },
  {
   "cell_type": "markdown",
   "id": "5e6f8a12",
   "metadata": {},
   "source": [
    "# Visualize and Analyze"
   ]
  },
  {
   "cell_type": "markdown",
   "id": "f08f7ae3",
   "metadata": {},
   "source": [
    "### Show parse tree and activations for individual samples"
   ]
  },
  {
   "cell_type": "code",
   "execution_count": null,
   "id": "7cdfd446",
   "metadata": {},
   "outputs": [],
   "source": [
    "x, y = next(iter(dl_affnist_valid))\n",
    "\n",
    "model.eval()\n",
    "with torch.no_grad():\n",
    "    u_h, CC, US = model.forward_debug(x.to(device))\n",
    "y_pred = torch.argmax(torch.norm(u_h, dim=2), dim=1)\n",
    "y_pred = y_pred.detach().cpu().numpy()\n",
    "#\n",
    "US = [u.cpu().numpy() for u in US]\n",
    "CS = [c.cpu().numpy() for c in CC]\n",
    "#\n",
    "Y_true = y.cpu().numpy()\n",
    "Y_pred = y_pred"
   ]
  },
  {
   "cell_type": "code",
   "execution_count": null,
   "id": "d102f1ad",
   "metadata": {
    "scrolled": false
   },
   "outputs": [],
   "source": [
    "vis_class = 9\n",
    "vis_max = 32\n",
    "for idx in range(vis_max):\n",
    "    if vis_class is not None and Y_true[idx] != vis_class:\n",
    "        continue\n",
    "    cs = [c[idx] for c in CS]\n",
    "    us = [u[idx] for u in US]\n",
    "    u_norms = [np.linalg.norm(u, axis=1) for u in us]\n",
    "    \n",
    "    # plot stuff\n",
    "    fig, axes = plt.subplots(1, 2, figsize=(8, 4))\n",
    "    title = \"exp={} a={}\".format(y[idx], y_pred[idx])\n",
    "    #\n",
    "    plot_couplings(cs, title=title, ax=axes[0], show=False)\n",
    "    plot_capsules(u_norms, title=title , ax=axes[1], show=False)\n",
    "    plt.show()\n",
    "    break"
   ]
  },
  {
   "cell_type": "markdown",
   "id": "8dcb9b79",
   "metadata": {},
   "source": [
    "# Statistics For Further Evaluation and Visualization"
   ]
  },
  {
   "cell_type": "code",
   "execution_count": null,
   "id": "58cf358d",
   "metadata": {},
   "outputs": [],
   "source": [
    "model.eval()\n",
    "\n",
    "YY = []\n",
    "CC = [[] for _ in range(len(ns) - 1)]\n",
    "US = [[] for _ in range(len(ns))]\n",
    "\n",
    "\n",
    "# use whole dataset\n",
    "for x,y_true in dl_affnist_valid:\n",
    "    x = x.to(device)\n",
    "        \n",
    "    with torch.no_grad():\n",
    "        _, cc, us = model.forward_debug(x.to(device))\n",
    "        for idx in range(len(cc)):\n",
    "            CC[idx].append(cc[idx].detach().cpu().numpy())\n",
    "        for idx in range(len(us)):\n",
    "            US[idx].append(us[idx].detach().cpu().numpy())\n",
    "        YY.append(y_true.numpy())\n",
    "        \n",
    "# Dataset Labels\n",
    "YY = np.concatenate(YY)\n",
    "\n",
    "# Dataset Coupling Coefficient Matrices\n",
    "CC = [np.concatenate(c) for c in CC]\n",
    "\n",
    "# Dataset Capsules\n",
    "US = [np.concatenate(u) for u in US]"
   ]
  },
  {
   "cell_type": "markdown",
   "id": "5a733919",
   "metadata": {},
   "source": [
    "### Mean parse tree and mean activation for dataset"
   ]
  },
  {
   "cell_type": "code",
   "execution_count": null,
   "id": "b50fa7f7",
   "metadata": {},
   "outputs": [],
   "source": [
    "fig, axes = plt.subplots(1, 4, figsize=(16, 4))\n",
    "    \n",
    "# Mean parse tree\n",
    "cc_mean = [np.mean(c, axis=0) for c in CC]\n",
    "cc_std = [np.std(c, axis=0) for c in CC]\n",
    "plot_couplings(cc_mean, ax=axes[0], show=False, title=\"mean couplings\")\n",
    "plot_couplings(cc_std, ax=axes[1], show=False, title=\"std couplings\")\n",
    "    \n",
    "# mean and std capsule activation\n",
    "us_mean = [np.linalg.norm(u, axis=-1).mean(axis=0) for u in US]\n",
    "us_std = [np.linalg.norm(u, axis=-1).std(axis=0) for u in US]\n",
    "plot_capsules(us_mean, scale_factor=1, ax=axes[2], show=False, title=\"mean activation\")\n",
    "plot_capsules(us_std, scale_factor=1, ax=axes[3], show=False, title=\"std activation\")\n",
    "plt.suptitle(\"dataset\")\n",
    "plt.show()"
   ]
  },
  {
   "cell_type": "markdown",
   "id": "17e6d556",
   "metadata": {},
   "source": [
    "### Parse tree from normalized Couplings"
   ]
  },
  {
   "cell_type": "code",
   "execution_count": null,
   "id": "77845a75",
   "metadata": {},
   "outputs": [],
   "source": [
    "fig, axes = plt.subplots(1, 3, figsize=(4 * len(CC), 4))\n",
    "\n",
    "CNS = [normalize_couplings(C) for C in CC]\n",
    "\n",
    "CNS_MAN = [ma_couplings(C, pr) for C, pr in CNS]\n",
    "CNS_MAX = [C.max(axis=0) for C, pr in CNS]\n",
    "CNS_STD = [stda_couplings(C, pr) for C, pr in CNS]\n",
    "\n",
    "plot_couplings(CNS_MAN, ax=axes[0], show=False, title=\"mean\")\n",
    "plot_couplings(CNS_STD, ax=axes[1], show=False, title=\"std\")\n",
    "plot_couplings(CNS_MAX, ax=axes[2], show=False, title=\"max\")\n",
    "plt.show()"
   ]
  },
  {
   "cell_type": "markdown",
   "id": "8f9f4597",
   "metadata": {},
   "source": [
    "### Classwise mean parse tree and mean activation"
   ]
  },
  {
   "cell_type": "code",
   "execution_count": null,
   "id": "5084dbf6",
   "metadata": {
    "scrolled": false
   },
   "outputs": [],
   "source": [
    "# mean and variance activation\n",
    "for cls in range(10):\n",
    "    idcs = np.where(YY == cls)[0]\n",
    "    \n",
    "    fig, axes = plt.subplots(1, 6, figsize=(24, 4))\n",
    "    \n",
    "    cc = [C[idcs] for C in CC]\n",
    "    CNS = [normalize_couplings(C, eps_rate=0.5) for C in cc]\n",
    "    \n",
    "    CNS_MAN = [ma_couplings(C, pr) for C, pr in CNS]\n",
    "    CNS_MAX = [C.max(axis=0) for C, pr in CNS]\n",
    "    CNS_STD = [stda_couplings(C, pr) for C, pr in CNS]\n",
    "\n",
    "    plot_couplings(CNS_MAN, ax=axes[0], show=False, title=\"mean\")\n",
    "    plot_couplings(CNS_STD, ax=axes[1], show=False, title=\"std\")\n",
    "    plot_couplings(CNS_MAX, ax=axes[2], show=False, title=\"max\")\n",
    "    \n",
    "    # mean and std capsule activation\n",
    "    us = [u[idcs] for u in US]\n",
    "    us_mean = [np.linalg.norm(u, axis=-1).mean(axis=0) for u in us]\n",
    "    us_std = [np.linalg.norm(u, axis=-1).std(axis=0) for u in us]\n",
    "    us_max = [np.linalg.norm(u, axis=-1).max(axis=0) for u in us]\n",
    "    \n",
    "    plot_capsules(us_mean, scale_factor=1, ax=axes[3], show=False, title=\"mean activation\")\n",
    "    plot_capsules(us_std, scale_factor=1, ax=axes[4], show=False, title=\"std activation\")\n",
    "    plot_capsules(us_max, scale_factor=1, ax=axes[5], show=False, title=\"max activation\")\n",
    "    plt.suptitle(\"class {}\".format(cls))\n",
    "    plt.show()"
   ]
  },
  {
   "cell_type": "markdown",
   "id": "79bb15cf",
   "metadata": {},
   "source": [
    "# Coupling Death vs Alive"
   ]
  },
  {
   "cell_type": "code",
   "execution_count": null,
   "id": "f26c1f6f",
   "metadata": {},
   "outputs": [],
   "source": [
    "c_th_mu = 1e-2\n",
    "c_th_sd = 1e-2\n",
    "\n",
    "fig, axes = plt.subplots(len(US), 2, figsize=(6, 3 * len(US)))\n",
    "#\n",
    "US_alive = []\n",
    "for idx in range(len(US)):\n",
    "    U = US[idx]\n",
    "    U_norm = np.linalg.norm(U, axis=2)\n",
    "    U_norm_mu = U_norm.mean(axis=0)\n",
    "    U_norm_sd = U_norm.std(axis=0)\n",
    "    #\n",
    "    U_dead = (U_norm_sd < 1e-2) * (U_norm_mu < 1e-2)\n",
    "    #\n",
    "    xx = range(len(U_norm_mu))\n",
    "    axes[idx][0].set_title(\"mu(norm(U))\")\n",
    "    axes[idx][0].bar(xx, U_dead, color=\"red\",alpha=0.1)\n",
    "    axes[idx][0].bar(xx, U_norm_mu)\n",
    "    axes[idx][0].set_ylim(0, 1)\n",
    "    axes[idx][1].set_title(\"sd(norm(U))\")\n",
    "    axes[idx][1].bar(xx, U_norm_sd)\n",
    "    axes[idx][1].bar(xx, U_dead, color=\"red\",alpha=0.1)\n",
    "    axes[idx][1].set_ylim(0, 1)\n",
    "    U_alive = 1 - U_dead\n",
    "    US_alive.append(U_alive)\n",
    "plt.show()"
   ]
  },
  {
   "cell_type": "markdown",
   "id": "49d94325",
   "metadata": {},
   "source": [
    "# Metrics"
   ]
  },
  {
   "cell_type": "code",
   "execution_count": null,
   "id": "feae1a66",
   "metadata": {},
   "outputs": [],
   "source": [
    "for C in CC:\n",
    "    Cn, pr = normalize_couplings(C)\n",
    "    print(pr)"
   ]
  },
  {
   "cell_type": "markdown",
   "id": "d3d9f498",
   "metadata": {},
   "source": [
    "### Vibrance"
   ]
  },
  {
   "cell_type": "code",
   "execution_count": null,
   "id": "95da2914",
   "metadata": {},
   "outputs": [],
   "source": [
    "for U in US:\n",
    "    pr = rate_dead_capsules_norm(U)\n",
    "    print(\"#Permanently Dead: {:.3f}\".format(pr.mean()))"
   ]
  },
  {
   "cell_type": "code",
   "execution_count": null,
   "id": "efe74560",
   "metadata": {},
   "outputs": [],
   "source": [
    "for C in CC:\n",
    "    pr = rate_inactive_capsules(C)\n",
    "    print(\"Rate inactive capsules {:.3f}\".format(pr.mean()))"
   ]
  },
  {
   "cell_type": "code",
   "execution_count": null,
   "id": "a99acf7a",
   "metadata": {},
   "outputs": [],
   "source": [
    "# sanity check\n",
    "for idx in range(len(CC)):\n",
    "    C = CC[idx]\n",
    "    U = US[idx]\n",
    "    #\n",
    "    rnd, rac, racnd =  get_vibrance(U, C)\n",
    "    #\n",
    "    print(\"rate alive: {:.3f} rate active {:.3f} rate active of alive {:.3f}\".format(\n",
    "        rnd, rac, racnd))"
   ]
  },
  {
   "cell_type": "markdown",
   "id": "915638f4",
   "metadata": {},
   "source": [
    "### Bonding"
   ]
  },
  {
   "cell_type": "code",
   "execution_count": null,
   "id": "cdeda11e",
   "metadata": {},
   "outputs": [],
   "source": [
    "for idx in range(len(CC)):\n",
    "    C = CC[idx]\n",
    "    b = get_bonding(C)\n",
    "    print_str = \"bonding strength: {:.3f}\"\n",
    "    print(print_str.format(b))"
   ]
  },
  {
   "cell_type": "markdown",
   "id": "ea2f84b1",
   "metadata": {},
   "source": [
    "### Dynamics"
   ]
  },
  {
   "cell_type": "code",
   "execution_count": null,
   "id": "953925f7",
   "metadata": {},
   "outputs": [],
   "source": [
    "for idx in range(len(CC)):\n",
    "    C = CC[idx]\n",
    "    dyc = get_dynamics(C)\n",
    "    #\n",
    "    print(\"dynamics: {:.3f}\".format(\n",
    "          dyc))"
   ]
  },
  {
   "cell_type": "markdown",
   "id": "c59444de",
   "metadata": {},
   "source": [
    "### Correlation Capsule Activation and Max Coupling"
   ]
  },
  {
   "cell_type": "code",
   "execution_count": null,
   "id": "3eaad1e2",
   "metadata": {},
   "outputs": [],
   "source": [
    "for idx in range(len(CC)):\n",
    "    U = US[idx]\n",
    "    C = CC[idx]\n",
    "    print(\"corr: {:.3f}\".format(activation_coupling_corr(C, U)))"
   ]
  },
  {
   "cell_type": "markdown",
   "id": "96ae7505",
   "metadata": {},
   "source": [
    "### metrics for whole dataset"
   ]
  },
  {
   "cell_type": "code",
   "execution_count": null,
   "id": "f6cf573f",
   "metadata": {},
   "outputs": [],
   "source": [
    "vals = []\n",
    "for idx in range(len(CC)):\n",
    "    C = CC[idx]\n",
    "    U = US[idx]\n",
    "    #\n",
    "    rnd, rac, racnd = get_vibrance(U, C)\n",
    "    b = get_bonding(C)\n",
    "    dyc = get_dynamics(C)\n",
    "    cor = activation_coupling_corr(C, U)\n",
    "    vals.append((idx,\n",
    "                 rnd, rac, racnd,\n",
    "                 b, dyc, cor))"
   ]
  },
  {
   "cell_type": "code",
   "execution_count": null,
   "id": "32da7964",
   "metadata": {},
   "outputs": [],
   "source": [
    "cols = [\"layer\",\n",
    "        \"alive rate\", \"active rate\", \"active of alive rate\",\n",
    "        \"bonding str.\", \"dynamics\", \"cor\"]\n",
    "df = pd.DataFrame(data=vals, columns=cols)\n",
    "df"
   ]
  },
  {
   "cell_type": "markdown",
   "id": "f21d755f",
   "metadata": {},
   "source": [
    "### metrics for whole dataset, but classwise"
   ]
  },
  {
   "cell_type": "code",
   "execution_count": null,
   "id": "30de94e7",
   "metadata": {},
   "outputs": [],
   "source": [
    "\n",
    "vals = []\n",
    "\n",
    "#\n",
    "for cls in range(10):\n",
    "    idcs = np.where(YY == cls)[0]\n",
    "    for idx in range(len(CC)):\n",
    "        C = CC[idx][idcs]\n",
    "        U = US[idx][idcs]\n",
    "        #\n",
    "        rnd, rac, racnd = get_vibrance(U, C)\n",
    "        b = get_bonding(C)\n",
    "        dyc = get_dynamics(C)\n",
    "        cor = activation_coupling_corr(C, U)\n",
    "        vals.append((cls, idx,\n",
    "                     rnd, rac, racnd,\n",
    "                     b, dyc, cor))"
   ]
  },
  {
   "cell_type": "code",
   "execution_count": null,
   "id": "bf815a85",
   "metadata": {},
   "outputs": [],
   "source": [
    "cols = [\"class\", \"layer\",\n",
    "        \"alive rate\", \"active rate\", \"active of alive rate\",\n",
    "        \"bonding str.\", \"dynamics\", \"cor\"]\n",
    "df = pd.DataFrame(data=vals, columns=cols)\n",
    "#"
   ]
  },
  {
   "cell_type": "code",
   "execution_count": null,
   "id": "8748c773",
   "metadata": {
    "scrolled": false
   },
   "outputs": [],
   "source": [
    "for idx in range(len(CC)):\n",
    "    sdf = df[df[\"layer\"] == idx].drop(columns=[\"layer\"])\n",
    "    print(sdf)"
   ]
  },
  {
   "cell_type": "markdown",
   "id": "91c00fb3",
   "metadata": {},
   "source": [
    "# Couplings Viszalizations"
   ]
  },
  {
   "cell_type": "markdown",
   "id": "58c0ec07",
   "metadata": {},
   "source": [
    "#### Couplings FROM DEAD Capsules"
   ]
  },
  {
   "cell_type": "code",
   "execution_count": null,
   "id": "ce2f697e",
   "metadata": {},
   "outputs": [],
   "source": [
    "for idx in range(len(CC)):\n",
    "    C = CC[idx]\n",
    "    Ul_alive = US_alive[idx]\n",
    "    C = C[:,np.where(Ul_alive == False)[0],:]\n",
    "    \n",
    "    if len(C.flatten()) < 1:\n",
    "        print(\"No dead capsules for layer {}\".format(idx))\n",
    "        continue\n",
    "    \n",
    "    C_mu = C.mean(axis=0)\n",
    "    C_sd = C.std(axis=0)\n",
    "    C_mx = C.max(axis=0)\n",
    "    fig, axes = plt.subplots(1, 3, figsize=(33, 11))\n",
    "    plot_mat2(C_mu, ax=axes[0], vmin=0, vmax=0.5)\n",
    "    plot_mat2(C_sd, ax=axes[1], vmin=0, vmax=0.5)\n",
    "    plot_mat2(C_mx, ax=axes[2], vmin=0, vmax=0.5)\n",
    "plt.show()"
   ]
  },
  {
   "cell_type": "markdown",
   "id": "1d20ce33",
   "metadata": {},
   "source": [
    "#### Couplings FROM Alive Capsules"
   ]
  },
  {
   "cell_type": "code",
   "execution_count": null,
   "id": "d5f3c510",
   "metadata": {},
   "outputs": [],
   "source": [
    "for idx in range(len(CC)):\n",
    "    C = CC[idx]\n",
    "    Ul_alive = US_alive[idx]\n",
    "    C = C[:,np.where(Ul_alive == True)[0],:]\n",
    "    \n",
    "    C_mu = C.mean(axis=0)\n",
    "    C_sd = C.std(axis=0)\n",
    "    C_mx = C.max(axis=0)\n",
    "    fig, axes = plt.subplots(1, 3, figsize=(42, 14))\n",
    "    plot_mat2(C_mu, ax=axes[0], vmin=0, vmax=0.5)\n",
    "    plot_mat2(C_sd, ax=axes[1], vmin=0, vmax=0.5)\n",
    "    plot_mat2(C_mx, ax=axes[2], vmin=0, vmax=0.5)\n",
    "plt.show()"
   ]
  },
  {
   "cell_type": "markdown",
   "id": "750004af",
   "metadata": {},
   "source": [
    "per sample count max coupling and use max to find out if coupling in general gets lower or just the average as they are loosly connected\n"
   ]
  },
  {
   "cell_type": "markdown",
   "id": "a83b5d3f",
   "metadata": {},
   "source": [
    "### Couplings FROM ALIVE to DEAD"
   ]
  },
  {
   "cell_type": "code",
   "execution_count": null,
   "id": "c4889ab1",
   "metadata": {},
   "outputs": [],
   "source": [
    "for idx in range(len(CC)):\n",
    "    C = CC[idx]\n",
    "    Ul_alive = US_alive[idx]\n",
    "    Uh_alive = US_alive[idx + 1]\n",
    "    if (1 - Uh_alive).sum() < 1:\n",
    "        print(\"{} No dead capsules for upper layer {}\".format(idx ,idx + 1))\n",
    "        continue\n",
    "    \n",
    "    \n",
    "    C = C[:,np.where(Ul_alive == True)[0],:][:,:,np.where(Uh_alive == False)[0]]\n",
    "    \n",
    "    if len(C.flatten()) < 1:\n",
    "        print(\"No dead capsules for layer {}\".format(idx))\n",
    "        continue\n",
    "    \n",
    "    C_mu = C.mean(axis=0)\n",
    "    C_sd = C.std(axis=0)\n",
    "    C_mx = C.max(axis=0)\n",
    "    fig, axes = plt.subplots(1, 3, figsize=(33, 11))\n",
    "    plot_mat2(C_mu, ax=axes[0], vmin=0, vmax=0.5)\n",
    "    plot_mat2(C_sd, ax=axes[1], vmin=0, vmax=0.5)\n",
    "    plot_mat2(C_mx, ax=axes[2], vmin=0, vmax=0.5)\n",
    "plt.show()"
   ]
  },
  {
   "cell_type": "markdown",
   "id": "e52314d8",
   "metadata": {},
   "source": [
    "### Couplings FROM ALIVE TO ALIVE"
   ]
  },
  {
   "cell_type": "code",
   "execution_count": null,
   "id": "cda3e7e6",
   "metadata": {},
   "outputs": [],
   "source": [
    "for idx in range(len(CC)):\n",
    "    C = CC[idx]\n",
    "    Ul_alive = US_alive[idx]\n",
    "    Uh_alive = US_alive[idx + 1]\n",
    "    if (Uh_alive).sum() < 1:\n",
    "        print(\"No dead capsules for upper layer {}\".format(idx + 1))\n",
    "        continue\n",
    "    \n",
    "    \n",
    "    C = C[:,np.where(Ul_alive == True)[0],:][:,:,np.where(Uh_alive == True)[0]]\n",
    "    \n",
    "    if len(C.flatten()) < 1:\n",
    "        print(\"No dead capsules for layer {}\".format(idx))\n",
    "        continue\n",
    "    \n",
    "    C_mu = C.mean(axis=0)\n",
    "    C_sd = C.std(axis=0)\n",
    "    C_mx = C.max(axis=0)\n",
    "    fig, axes = plt.subplots(1, 3, figsize=(33, 11))\n",
    "    plot_mat2(C_mu, ax=axes[0], vmin=0, vmax=0.5)\n",
    "    plot_mat2(C_sd, ax=axes[1], vmin=0, vmax=0.5)\n",
    "    plot_mat2(C_mx, ax=axes[2], vmin=0, vmax=0.5)\n",
    "plt.show()"
   ]
  },
  {
   "cell_type": "markdown",
   "id": "21f6f272",
   "metadata": {},
   "source": [
    "# CNN Only Baseline"
   ]
  },
  {
   "cell_type": "code",
   "execution_count": null,
   "id": "f12d299f",
   "metadata": {},
   "outputs": [],
   "source": [
    "\"\"\"\n",
    "epochs = 050, acc = 98,0, 73.0\n",
    "epochs = 101, acc = 98.5, 74.1\n",
    "epochs = 201, acc = \n",
    "\"\"\""
   ]
  },
  {
   "cell_type": "code",
   "execution_count": null,
   "id": "ed2d5fe9",
   "metadata": {},
   "outputs": [],
   "source": [
    "model = CustomBB(ch_in=1, n_classes=10)\n",
    "#\n",
    "model = model.to(device)\n",
    "#backbone\n",
    "optimizer = optim.Adam(model.parameters(), lr = 1e-3, weight_decay=2e-5)\n",
    "lr_scheduler = torch.optim.lr_scheduler.ExponentialLR(optimizer=optimizer, gamma=0.96)\n",
    "#\n",
    "criterion = nn.CrossEntropyLoss()"
   ]
  },
  {
   "cell_type": "code",
   "execution_count": null,
   "id": "312b6e63",
   "metadata": {},
   "outputs": [],
   "source": [
    "print(count_parameters(model))"
   ]
  },
  {
   "cell_type": "code",
   "execution_count": null,
   "id": "0609b403",
   "metadata": {
    "scrolled": false
   },
   "outputs": [],
   "source": [
    "num_epochs = 101\n",
    "#\n",
    "for epoch_idx in range(num_epochs):\n",
    "    # ####################\n",
    "    # TRAIN\n",
    "    # ####################\n",
    "    model.train()\n",
    "    desc = \"Train [{:3}/{:3}]:\".format(epoch_idx, num_epochs)\n",
    "    pbar = tqdm(dl_mnist_train, bar_format=desc + '{bar:10}{r_bar}{bar:-10b}')\n",
    "    \n",
    "    for x,y_true in pbar:\n",
    "        x = x.to(device)\n",
    "        y_true = y_true.to(device)\n",
    "        optimizer.zero_grad()\n",
    "        \n",
    "        logits = model.forward(x)\n",
    "        loss = criterion(logits, y_true)\n",
    "\n",
    "        loss.backward()\n",
    "        \n",
    "        optimizer.step()\n",
    "        \n",
    "        y_pred = torch.argmax(logits, dim=1)\n",
    "        acc = (y_true == y_pred).sum() / y_true.shape[0]\n",
    "        \n",
    "        pbar.set_postfix(\n",
    "                {'loss': loss.item(),\n",
    "                 'acc': acc.item()\n",
    "                 }\n",
    "        )\n",
    "    lr_scheduler.step()\n",
    "    #\n",
    "    # ####################\n",
    "    # VALID\n",
    "    # ####################\n",
    "    if epoch_idx % 5 != 0:\n",
    "        continue\n",
    "    \n",
    "    model.eval()\n",
    "    \n",
    "    total_correct = 0\n",
    "    total = 0\n",
    "\n",
    "    for x,y_true in dl_mnist_valid:\n",
    "        x = x.to(device)\n",
    "        y_true = y_true.to(device)\n",
    "        \n",
    "        with torch.no_grad():\n",
    "            logits = model.forward(x)\n",
    "            \n",
    "            y_pred = torch.argmax(logits, dim=1)\n",
    "            total_correct += (y_true == y_pred).sum()\n",
    "            total += y_true.shape[0]\n",
    "    print(\"   mnist acc_valid: {:.3f}\".format(total_correct / total))\n",
    "\n",
    "    model.eval()\n",
    "    \n",
    "    total_correct = 0\n",
    "    total = 0\n",
    "\n",
    "    for x,y_true in dl_affnist_valid:\n",
    "        x = x.to(device)\n",
    "        y_true = y_true.to(device)\n",
    "        \n",
    "        with torch.no_grad():\n",
    "            logits = model.forward(x)\n",
    "            \n",
    "            y_pred = torch.argmax(logits, dim=1)\n",
    "            total_correct += (y_true == y_pred).sum()\n",
    "            total += y_true.shape[0]\n",
    "    print(\"   affnist acc_valid: {:.3f}\".format(total_correct / total))"
   ]
  },
  {
   "cell_type": "code",
   "execution_count": null,
   "id": "17c4f8b9",
   "metadata": {},
   "outputs": [],
   "source": []
  }
 ],
 "metadata": {
  "kernelspec": {
   "display_name": "Python 3 (ipykernel)",
   "language": "python",
   "name": "python3"
  },
  "language_info": {
   "codemirror_mode": {
    "name": "ipython",
    "version": 3
   },
   "file_extension": ".py",
   "mimetype": "text/x-python",
   "name": "python",
   "nbconvert_exporter": "python",
   "pygments_lexer": "ipython3",
   "version": "3.8.12"
  },
  "latex_envs": {
   "LaTeX_envs_menu_present": true,
   "autoclose": false,
   "autocomplete": true,
   "bibliofile": "biblio.bib",
   "cite_by": "apalike",
   "current_citInitial": 1,
   "eqLabelWithNumbers": true,
   "eqNumInitial": 1,
   "hotkeys": {
    "equation": "Ctrl-E",
    "itemize": "Ctrl-I"
   },
   "labels_anchors": false,
   "latex_user_defs": false,
   "report_style_numbering": false,
   "user_envs_cfg": false
  }
 },
 "nbformat": 4,
 "nbformat_minor": 5
}
