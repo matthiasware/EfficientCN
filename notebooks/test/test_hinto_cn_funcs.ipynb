{
 "cells": [
  {
   "cell_type": "code",
   "execution_count": 1,
   "metadata": {},
   "outputs": [],
   "source": [
    "%load_ext autoreload\n",
    "%autoreload 2"
   ]
  },
  {
   "cell_type": "code",
   "execution_count": 2,
   "metadata": {},
   "outputs": [],
   "source": [
    "import sys\n",
    "sys.path.append(\"./../..\")"
   ]
  },
  {
   "cell_type": "code",
   "execution_count": 211,
   "metadata": {},
   "outputs": [],
   "source": [
    "import torch\n",
    "import torch.nn as nn\n",
    "import torch.nn.functional as F\n",
    "import torchvision.transforms as T\n",
    "import tensorflow as tf\n",
    "import numpy as np\n",
    "\n",
    "\n",
    "#local\n",
    "from effcn.layers import Squash, CapsLayer, PrimaryCapsLayer\n",
    "from effcn.functions import squash_hinton, max_norm_masking, masking\n",
    "#from effcn.models_mnist import Decoder, CapsNet\n",
    "#from effcn.models_multimnist import MultiMnistEcnDecoder, CapsNet\n",
    "from effcn.models_smallnorb import CapsNet"
   ]
  },
  {
   "cell_type": "code",
   "execution_count": 53,
   "metadata": {},
   "outputs": [],
   "source": [
    "class ConvLayer(nn.Module):\n",
    "    def __init__(self, in_channels=1, out_channels=256, kernel_size=9):\n",
    "        super(ConvLayer, self).__init__()\n",
    "\n",
    "        self.conv = nn.Conv2d(in_channels=in_channels,\n",
    "                              out_channels=out_channels,\n",
    "                              kernel_size=kernel_size,\n",
    "                              stride=1\n",
    "                              )\n",
    "\n",
    "    def forward(self, x):\n",
    "        return F.relu(self.conv(x))\n",
    "\n",
    "\n",
    "class PrimaryCaps(nn.Module):\n",
    "    def __init__(self, num_capsules=8, in_channels=256, out_channels=32, kernel_size=9, num_routes=32 * 6 * 6):\n",
    "        super(PrimaryCaps, self).__init__()\n",
    "        self.num_routes = num_routes\n",
    "        self.capsules = nn.ModuleList([\n",
    "            nn.Conv2d(in_channels=in_channels, out_channels=out_channels, kernel_size=kernel_size, stride=2, padding=0)\n",
    "            for _ in range(num_capsules)])\n",
    "\n",
    "    def forward(self, x):\n",
    "        u = [capsule(x) for capsule in self.capsules]\n",
    "        u = torch.stack(u, dim=1)\n",
    "        u = u.view(x.size(0), self.num_routes, -1)\n",
    "        return squash_hinton(u)\n",
    "        #return self.squash(u)\n",
    "\n",
    "    def squash(self, input_tensor):\n",
    "        squared_norm = (input_tensor ** 2).sum(-1, keepdim=True)\n",
    "        output_tensor = squared_norm * input_tensor / ((1. + squared_norm) * torch.sqrt(squared_norm))\n",
    "        return output_tensor"
   ]
  },
  {
   "cell_type": "code",
   "execution_count": 54,
   "metadata": {},
   "outputs": [
    {
     "data": {
      "text/plain": [
       "torch.Size([1, 1152, 8])"
      ]
     },
     "execution_count": 54,
     "metadata": {},
     "output_type": "execute_result"
    }
   ],
   "source": [
    "C = ConvLayer()\n",
    "P = PrimaryCaps()\n",
    "\n",
    "a = torch.rand([1,1,28,28])\n",
    "a = C(a)\n",
    "a = P(a)\n",
    "a.shape"
   ]
  },
  {
   "cell_type": "code",
   "execution_count": 18,
   "metadata": {},
   "outputs": [],
   "source": [
    "class EPrimaryCaps(nn.Module):\n",
    "    \"\"\"\n",
    "        Attributes\n",
    "        ----------\n",
    "        F: int depthwise conv number of features\n",
    "        K: int depthwise conv kernel dimension \n",
    "        N: int number of primary capsules\n",
    "        D: int primary capsules dimension (number of properties)\n",
    "        s: int depthwise conv strides\n",
    "    \"\"\"\n",
    "\n",
    "    def __init__(self, F, K, N, D, s=1):\n",
    "        super().__init__()\n",
    "        self.F = F\n",
    "        self.K = K\n",
    "        self.N = N\n",
    "        self.D = D\n",
    "        self.s = s\n",
    "        #\n",
    "        self.dw_conv2d = nn.Conv2d(\n",
    "            F, F, kernel_size=K, stride=s, groups=F, padding=\"valid\")\n",
    "        #\n",
    "        self.squash = Squash(eps=1e-20)\n",
    "\n",
    "    def forward(self, x):\n",
    "        \"\"\"\n",
    "        IN:  (B,C,H,W)\n",
    "        OUT: (B, N, D)\n",
    "\n",
    "        therefore for x, we have the following constraints:\n",
    "            (B,C,H,W) = (B, F,F,K)\n",
    "        \"\"\"\n",
    "        # (B,C,H,W) -> (B,C,H,W)\n",
    "        x = self.dw_conv2d(x)\n",
    "\n",
    "        # (B,C,H,W) -> (B, N, D)\n",
    "        x = x.view((-1, self.N, self.D))\n",
    "        x = self.squash(x)\n",
    "        return x"
   ]
  },
  {
   "cell_type": "code",
   "execution_count": 20,
   "metadata": {},
   "outputs": [
    {
     "data": {
      "text/plain": [
       "torch.Size([1, 16, 8])"
      ]
     },
     "execution_count": 20,
     "metadata": {},
     "output_type": "execute_result"
    }
   ],
   "source": [
    "EPC = EPrimaryCaps(F=128, K=9, N=16, D=8)  # F = n_l * d_l !!!\n",
    "\n",
    "b = torch.rand([1, 128, 9, 9])\n",
    "b = EPC(b)\n",
    "\n",
    "b.shape"
   ]
  },
  {
   "cell_type": "code",
   "execution_count": 22,
   "metadata": {},
   "outputs": [
    {
     "data": {
      "text/plain": [
       "1152"
      ]
     },
     "execution_count": 22,
     "metadata": {},
     "output_type": "execute_result"
    }
   ],
   "source": [
    "32*6*6"
   ]
  },
  {
   "cell_type": "code",
   "execution_count": 94,
   "metadata": {},
   "outputs": [],
   "source": [
    "class testPrimaryCapsLayer(nn.Module):\n",
    "    \"\"\"\n",
    "    c_in: input channels\n",
    "    c_out: output channels\n",
    "    d_l: dimension of prime caps\n",
    "    \"\"\"\n",
    "    def __init__(self, c_in, c_out, d_l, kernel_size, stride):\n",
    "        super(testPrimaryCapsLayer, self).__init__()\n",
    "        self.conv = nn.Conv2d(c_in, c_out * d_l, kernel_size=kernel_size, stride=stride)\n",
    "        self.c_in = c_in\n",
    "        self.c_out = c_out\n",
    "        self.d_l = d_l\n",
    "\n",
    "    def forward(self, input):\n",
    "        out = self.conv(input)\n",
    "        N, C, H, W = out.size()\n",
    "        out = out.view(N, self.c_out, self.d_l, H, W)\n",
    "\n",
    "        # will output N x OUT_CAPS x OUT_DIM\n",
    "        out = out.permute(0, 1, 3, 4, 2).contiguous()\n",
    "        out = out.view(out.size(0), -1, out.size(4))\n",
    "        out = squash_hinton(out)\n",
    "        return out"
   ]
  },
  {
   "cell_type": "code",
   "execution_count": 207,
   "metadata": {},
   "outputs": [
    {
     "data": {
      "text/plain": [
       "torch.Size([1, 10, 16])"
      ]
     },
     "execution_count": 207,
     "metadata": {},
     "output_type": "execute_result"
    }
   ],
   "source": [
    "C = nn.Sequential(\n",
    "        nn.Conv2d(1, 256, kernel_size=9, stride=1),\n",
    "        nn.Conv2d(256, 256, kernel_size=9, stride=1)\n",
    ")\n",
    "P = testPrimaryCapsLayer(256, 32, 8, kernel_size=9, stride=2)\n",
    "L = CapsLayer(32 * 6 * 6, 8, 10,16,3)\n",
    "\n",
    "b = torch.rand([1, 1, 36, 36])\n",
    "#b = torch.rand([1, 2, 48, 48])\n",
    "b = C(b)\n",
    "b = P(b)\n",
    "b = L(b)\n",
    "\n",
    "b.shape\n"
   ]
  },
  {
   "cell_type": "code",
   "execution_count": 163,
   "metadata": {},
   "outputs": [
    {
     "data": {
      "text/plain": [
       "144.0"
      ]
     },
     "execution_count": 163,
     "metadata": {},
     "output_type": "execute_result"
    }
   ],
   "source": [
    "4608/32"
   ]
  },
  {
   "cell_type": "code",
   "execution_count": 41,
   "metadata": {},
   "outputs": [],
   "source": [
    "class refCapsNet(nn.Module):\n",
    "    def __init__(self, routing_iterations, n_classes=10):\n",
    "        super(CapsNet, self).__init__()\n",
    "        self.conv1 = nn.Conv2d(1, 256, kernel_size=9, stride=1)\n",
    "        self.primaryCaps = PrimaryCapsLayer(256, 32, 8, kernel_size=9, stride=2)  # outputs 6*6\n",
    "        self.num_primaryCaps = 32 * 6 * 6\n",
    "        routing_module = AgreementRouting(self.num_primaryCaps, n_classes, routing_iterations)\n",
    "        self.digitCaps = CapsLayer(self.num_primaryCaps, 8, n_classes, 16, routing_module)\n",
    "\n",
    "    def forward(self, input):\n",
    "        x = self.conv1(input)\n",
    "        x = F.relu(x)\n",
    "        x = self.primaryCaps(x)\n",
    "        x = self.digitCaps(x)\n",
    "        probs = x.pow(2).sum(dim=2).sqrt()\n",
    "        return x, probs"
   ]
  },
  {
   "cell_type": "code",
   "execution_count": 90,
   "metadata": {},
   "outputs": [],
   "source": [
    "class blaCapsNet(nn.Module):\n",
    "    \"\"\"\n",
    "        CapsNet Implementation for MNIST\n",
    "        all parameters taken from the paper\n",
    "    \"\"\"\n",
    "\n",
    "    def __init__(self):\n",
    "        super().__init__()\n",
    "        # values from paper, are fixed!\n",
    "        self.n_l = (32 * 6 * 6) # num of primary capsules\n",
    "        self.d_l = 8            # dim of primary capsules\n",
    "        self.n_h = 10           # num of output capsules\n",
    "        self.d_h = 16           # dim of output capsules\n",
    "        self.n_iter = 3\n",
    "\n",
    "        self.backbone = nn.Conv2d(1, 256, kernel_size=9, stride=1)\n",
    "        self.primcaps = PrimaryCapsLayer(c_in=256,c_out=32,d_l=self.d_l, kernel_size=9, stride=2)\n",
    "        self.digitCaps = CapsLayer(self.n_l, self.d_l, self.n_h, self. d_h, self.n_iter)\n",
    "        self.decoder = Decoder()\n",
    "\n",
    "    def forward(self, x, y_true=None):\n",
    "        \"\"\"\n",
    "            IN:\n",
    "                x (b, 1, 28, 28)\n",
    "            OUT:\n",
    "                u_h\n",
    "                    (b, n_h, d_h)\n",
    "                    output caps\n",
    "                x_rec\n",
    "                    (b, 1, 28, 28)\n",
    "                    reconstruction of x\n",
    "        \"\"\"\n",
    "        u_l = self.primcaps(self.backbone(x))\n",
    "        u_h = self.digitCaps(u_l)\n",
    "        #\n",
    "        u_h_masked = masking(u_h, y_true)\n",
    "        x_rec = self.decoder(u_h_masked)\n",
    "        return u_h, x_rec"
   ]
  },
  {
   "cell_type": "code",
   "execution_count": 216,
   "metadata": {},
   "outputs": [
    {
     "name": "stdout",
     "output_type": "stream",
     "text": [
      "torch.Size([1, 5, 16]) torch.Size([1, 2, 48, 48])\n"
     ]
    }
   ],
   "source": [
    "CN = CapsNet()\n",
    "\n",
    "b = torch.rand([1, 2, 48, 48])\n",
    "#b = torch.rand([1, 1, 36, 36])\n",
    "b, x = CN(b)\n",
    "\n",
    "print(b.shape, x.shape)"
   ]
  }
 ],
 "metadata": {
  "interpreter": {
   "hash": "188faa17072d374bec02d17fca5e544867bade69f71230dfd1a560a6ca303930"
  },
  "kernelspec": {
   "display_name": "Python 3.9.7 ('EffCN': conda)",
   "language": "python",
   "name": "python3"
  },
  "language_info": {
   "codemirror_mode": {
    "name": "ipython",
    "version": 3
   },
   "file_extension": ".py",
   "mimetype": "text/x-python",
   "name": "python",
   "nbconvert_exporter": "python",
   "pygments_lexer": "ipython3",
   "version": "3.9.7"
  },
  "orig_nbformat": 4
 },
 "nbformat": 4,
 "nbformat_minor": 2
}
