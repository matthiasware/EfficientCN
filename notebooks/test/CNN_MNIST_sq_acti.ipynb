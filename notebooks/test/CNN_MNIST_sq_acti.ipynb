{
 "cells": [
  {
   "cell_type": "code",
   "execution_count": 1,
   "id": "bcaee15c-383d-400e-a5eb-61c52046bf62",
   "metadata": {},
   "outputs": [],
   "source": [
    "%load_ext autoreload\n",
    "%autoreload 2"
   ]
  },
  {
   "cell_type": "code",
   "execution_count": 2,
   "id": "153d3ba9-11ea-4aae-b7c9-d505b1862b80",
   "metadata": {},
   "outputs": [],
   "source": [
    "import sys\n",
    "sys.path.append(\"./../..\")"
   ]
  },
  {
   "cell_type": "code",
   "execution_count": 3,
   "id": "657b813b-5b01-4fa3-98f1-138099728413",
   "metadata": {},
   "outputs": [],
   "source": [
    "import torch\n",
    "import torch.nn as nn\n",
    "import torchvision.datasets as datasets\n",
    "import torchvision.transforms as T\n",
    "from torch import optim\n",
    "\n",
    "import numpy as np\n",
    "\n",
    "# local imports\n",
    "from effcn.models_mnist import BaselineCNN\n",
    "from misc.utils import count_parameters\n"
   ]
  },
  {
   "cell_type": "markdown",
   "id": "68a3a0d9-ac8a-4c63-9ab9-f9701b384ab3",
   "metadata": {},
   "source": [
    "#### Test capsulwise activation"
   ]
  },
  {
   "cell_type": "code",
   "execution_count": 221,
   "id": "e7295c32-a216-4918-b4df-9bf16315afcc",
   "metadata": {},
   "outputs": [
    {
     "data": {
      "text/plain": [
       "torch.Size([1, 1, 28, 28])"
      ]
     },
     "execution_count": 221,
     "metadata": {},
     "output_type": "execute_result"
    }
   ],
   "source": [
    "a = torch.rand([1,1,28,28])\n",
    "a.shape"
   ]
  },
  {
   "cell_type": "code",
   "execution_count": 222,
   "id": "fd4416f0-4ea2-43e9-a397-16643e0ad8aa",
   "metadata": {},
   "outputs": [],
   "source": [
    "conv =  nn.Conv2d(1, 32, kernel_size=(5, 5), padding=\"valid\")"
   ]
  },
  {
   "cell_type": "code",
   "execution_count": 223,
   "id": "c12dd761-d12d-4da7-b67e-66983858221c",
   "metadata": {},
   "outputs": [
    {
     "data": {
      "text/plain": [
       "torch.Size([1, 32, 24, 24])"
      ]
     },
     "execution_count": 223,
     "metadata": {},
     "output_type": "execute_result"
    }
   ],
   "source": [
    "x = conv(a)\n",
    "x.shape"
   ]
  },
  {
   "cell_type": "code",
   "execution_count": 224,
   "id": "b63025a6-69ea-44bc-9df3-15672e9bf482",
   "metadata": {},
   "outputs": [
    {
     "data": {
      "text/plain": [
       "torch.Size([32, 1, 5, 5])"
      ]
     },
     "execution_count": 224,
     "metadata": {},
     "output_type": "execute_result"
    }
   ],
   "source": [
    "conv.weight.shape"
   ]
  },
  {
   "cell_type": "code",
   "execution_count": 225,
   "id": "06d9cc56-bad1-4817-b14f-08712a40208b",
   "metadata": {},
   "outputs": [],
   "source": [
    "def squash_func(x, eps=10e-21):\n",
    "    \"\"\"\n",
    "        IN:\n",
    "            x (b, n, d)\n",
    "        OUT:\n",
    "            squash(x) (b, n, d)\n",
    "    \"\"\"\n",
    "    x_norm = torch.norm(x, dim=2, keepdim=True)\n",
    "    return (1 - 1 / (torch.exp(x_norm) + eps)) * (x / (x_norm + eps))"
   ]
  },
  {
   "cell_type": "code",
   "execution_count": 226,
   "id": "07f47ff5-c961-44de-aed9-d56229817c59",
   "metadata": {},
   "outputs": [
    {
     "data": {
      "text/plain": [
       "tensor(-0.4229, grad_fn=<MinBackward1>)"
      ]
     },
     "execution_count": 226,
     "metadata": {},
     "output_type": "execute_result"
    }
   ],
   "source": [
    "s = squash_func(x)\n",
    "s.shape\n",
    "s.min()"
   ]
  },
  {
   "cell_type": "code",
   "execution_count": 227,
   "id": "253dc7dc-b6c0-460e-be26-c9149cadfb79",
   "metadata": {},
   "outputs": [
    {
     "data": {
      "text/plain": [
       "torch.Size([1, 576, 32])"
      ]
     },
     "execution_count": 227,
     "metadata": {},
     "output_type": "execute_result"
    }
   ],
   "source": [
    "v = x.view(x.shape[0],x.shape[1],-1)\n",
    "v = v.permute(0,2,1)\n",
    "s = squash_func(v)\n",
    "s.shape"
   ]
  },
  {
   "cell_type": "code",
   "execution_count": 228,
   "id": "aa02a03c-c6ad-4342-9d02-0f41479ef490",
   "metadata": {},
   "outputs": [
    {
     "data": {
      "text/plain": [
       "torch.Size([1, 576, 1])"
      ]
     },
     "execution_count": 228,
     "metadata": {},
     "output_type": "execute_result"
    }
   ],
   "source": [
    "x_norm = torch.norm(v, dim=2, keepdim=True)\n",
    "x_norm.shape"
   ]
  },
  {
   "cell_type": "code",
   "execution_count": 229,
   "id": "c70ec734-0b10-40bf-8f52-386a18f0c0df",
   "metadata": {},
   "outputs": [
    {
     "data": {
      "text/plain": [
       "torch.Size([1, 576, 32])"
      ]
     },
     "execution_count": 229,
     "metadata": {},
     "output_type": "execute_result"
    }
   ],
   "source": [
    "eps=10e-21\n",
    "k = (1 - 1 / (torch.exp(x_norm) + eps)) * (v / (x_norm + eps))\n",
    "k.shape"
   ]
  },
  {
   "cell_type": "code",
   "execution_count": 230,
   "id": "bc0d112e-2516-4f9c-a092-0e59dd67feb6",
   "metadata": {},
   "outputs": [
    {
     "data": {
      "text/plain": [
       "tensor(-0.3995, grad_fn=<MinBackward1>)"
      ]
     },
     "execution_count": 230,
     "metadata": {},
     "output_type": "execute_result"
    }
   ],
   "source": [
    "k.min()"
   ]
  },
  {
   "cell_type": "code",
   "execution_count": 231,
   "id": "40d6187a-6dbb-43df-b216-c18ac3ff0f75",
   "metadata": {},
   "outputs": [
    {
     "data": {
      "text/plain": [
       "torch.Size([1, 32, 24, 24])"
      ]
     },
     "execution_count": 231,
     "metadata": {},
     "output_type": "execute_result"
    }
   ],
   "source": [
    "t = k.permute(0,2,1)\n",
    "t = t.view(x.shape)\n",
    "t.shape"
   ]
  },
  {
   "cell_type": "markdown",
   "id": "079683b1-4355-45bd-a0d3-fdfcd259b295",
   "metadata": {},
   "source": [
    "#### Ref Model"
   ]
  },
  {
   "cell_type": "code",
   "execution_count": 232,
   "id": "65323011-69e9-4e1e-8b3c-fd15f77e2a14",
   "metadata": {},
   "outputs": [],
   "source": [
    "model = BaselineCNN()"
   ]
  },
  {
   "cell_type": "code",
   "execution_count": 233,
   "id": "50b1ecc0-397d-4fb7-bba0-86592c804f9f",
   "metadata": {},
   "outputs": [
    {
     "data": {
      "text/plain": [
       "BaselineCNN(\n",
       "  (conv1): Sequential(\n",
       "    (0): Conv2d(1, 16, kernel_size=(5, 5), stride=(1, 1), padding=(2, 2))\n",
       "    (1): ReLU()\n",
       "    (2): MaxPool2d(kernel_size=2, stride=2, padding=0, dilation=1, ceil_mode=False)\n",
       "  )\n",
       "  (conv2): Sequential(\n",
       "    (0): Conv2d(16, 32, kernel_size=(5, 5), stride=(1, 1), padding=(2, 2))\n",
       "    (1): ReLU()\n",
       "    (2): MaxPool2d(kernel_size=2, stride=2, padding=0, dilation=1, ceil_mode=False)\n",
       "  )\n",
       "  (out): Linear(in_features=1568, out_features=10, bias=True)\n",
       ")"
      ]
     },
     "execution_count": 233,
     "metadata": {},
     "output_type": "execute_result"
    }
   ],
   "source": [
    "model"
   ]
  },
  {
   "cell_type": "code",
   "execution_count": 234,
   "id": "70f8d49d-724c-49f9-8d6b-e60e0eb6df61",
   "metadata": {},
   "outputs": [
    {
     "data": {
      "text/plain": [
       "28938"
      ]
     },
     "execution_count": 234,
     "metadata": {},
     "output_type": "execute_result"
    }
   ],
   "source": [
    "count_parameters(model)"
   ]
  },
  {
   "cell_type": "code",
   "execution_count": 4,
   "id": "839a61fd-ab92-41b1-b936-18a08ee11a03",
   "metadata": {},
   "outputs": [],
   "source": [
    "def squash_conv_func(v, eps=10e-21):\n",
    "    \"\"\"\n",
    "        IN:\n",
    "            x (b, c, h, w)\n",
    "        OUT:\n",
    "            squash(x) (b, c, h, w)\n",
    "    \"\"\"\n",
    "    #shap to capsule squashing for tests\n",
    "    x = v.view(v.shape[0],v.shape[1],-1)\n",
    "    x = x.permute(0,2,1)\n",
    "    \n",
    "    x_norm = torch.norm(x, dim=2, keepdim=True)\n",
    "    k = (1 - 1 / (torch.exp(x_norm) + eps)) * (x / (x_norm + eps))\n",
    "    \n",
    "    #reshape to comv\n",
    "    t = k.permute(0,2,1)\n",
    "    t = t.view(v.shape)\n",
    "    \n",
    "    return t"
   ]
  },
  {
   "cell_type": "code",
   "execution_count": 16,
   "id": "6a45e8cd-351c-4837-803a-e777b40ab5c1",
   "metadata": {},
   "outputs": [],
   "source": [
    "class Squash(nn.Module):\n",
    "    def __init__(self, eps=1e-21):\n",
    "        super().__init__()\n",
    "        self.eps = eps\n",
    "\n",
    "    def forward(self, v):\n",
    "        \"\"\"\n",
    "            IN:\n",
    "                x (b, c, h, w)\n",
    "            OUT:\n",
    "                squash(x) (b, c, h, w)\n",
    "        \"\"\"\n",
    "        #shap to capsule squashing for tests\n",
    "        x = v.view(v.shape[0],v.shape[1],-1)\n",
    "        x = x.permute(0,2,1)\n",
    "\n",
    "        x_norm = torch.norm(x, dim=2, keepdim=True)\n",
    "        k = (1 - 1 / (torch.exp(x_norm) + self.eps)) * (x / (x_norm + self.eps))\n",
    "\n",
    "        #reshape to comv\n",
    "        t = k.permute(0,2,1)\n",
    "        t = t.view(v.shape)\n",
    "\n",
    "        return t"
   ]
  },
  {
   "cell_type": "code",
   "execution_count": 237,
   "id": "23ea6a8c-0729-4601-8c90-ccfaaa6c4f00",
   "metadata": {},
   "outputs": [
    {
     "data": {
      "text/plain": [
       "torch.Size([1, 32, 24, 24])"
      ]
     },
     "execution_count": 237,
     "metadata": {},
     "output_type": "execute_result"
    }
   ],
   "source": [
    "#test on normal conv\n",
    "a = torch.rand([1,1,28,28])\n",
    "conv =  nn.Conv2d(1, 32, kernel_size=(5, 5), padding=\"valid\")\n",
    "#conv =  nn.Conv2d(1, 32, kernel_size=(28, 28), groups=1, padding=\"valid\")\n",
    "x = conv(a)\n",
    "squa = Squash()\n",
    "s = squa(x)\n",
    "\n",
    "s.shape"
   ]
  },
  {
   "cell_type": "code",
   "execution_count": 238,
   "id": "e7dfa852-d299-446f-943b-0bc69177c5b6",
   "metadata": {},
   "outputs": [
    {
     "data": {
      "text/plain": [
       "832"
      ]
     },
     "execution_count": 238,
     "metadata": {},
     "output_type": "execute_result"
    }
   ],
   "source": [
    "count_parameters(conv)"
   ]
  },
  {
   "cell_type": "code",
   "execution_count": 239,
   "id": "06e4e2ba-c8fc-455a-9603-99f6be461ad8",
   "metadata": {},
   "outputs": [
    {
     "data": {
      "text/plain": [
       "torch.Size([1, 32, 1, 1])"
      ]
     },
     "execution_count": 239,
     "metadata": {},
     "output_type": "execute_result"
    }
   ],
   "source": [
    "#test on deepwise conv conv\n",
    "a = torch.rand([1,1,28,28])\n",
    "conv =  nn.Sequential(\n",
    "            nn.Conv2d(1, 32, kernel_size=(5, 5), padding=\"valid\"),\n",
    "            nn.Conv2d(32, 32, kernel_size=(24, 24), groups=32, padding=\"valid\")\n",
    "        )\n",
    "x = conv(a)\n",
    "squa = Squash()\n",
    "s = squa(x)\n",
    "\n",
    "s.shape"
   ]
  },
  {
   "cell_type": "code",
   "execution_count": 240,
   "id": "11f3352a-a329-4288-878d-d4cebeb3d3d5",
   "metadata": {},
   "outputs": [
    {
     "data": {
      "text/plain": [
       "19296"
      ]
     },
     "execution_count": 240,
     "metadata": {},
     "output_type": "execute_result"
    }
   ],
   "source": [
    "count_parameters(conv)"
   ]
  },
  {
   "cell_type": "code",
   "execution_count": 294,
   "id": "a9eb7ba7",
   "metadata": {},
   "outputs": [],
   "source": [
    "class BaselineCNN(nn.Module):\n",
    "    \"\"\"\n",
    "        Baseline CNN Model for MNIST\n",
    "    \"\"\"\n",
    "\n",
    "    def __init__(self):\n",
    "        super(BaselineCNN, self).__init__()\n",
    "        self.conv1 = nn.Sequential(\n",
    "            nn.Conv2d(\n",
    "                in_channels=1,\n",
    "                out_channels=16,\n",
    "                kernel_size=5,\n",
    "                stride=1,\n",
    "                padding=2,\n",
    "            ),\n",
    "            nn.ReLU(),\n",
    "            nn.MaxPool2d(kernel_size=2),\n",
    "            #nn.AvgPool2d(kernel_size=2),\n",
    "        )\n",
    "        self.conv2 = nn.Sequential(\n",
    "            nn.Conv2d(16, 32, 5, 1, 2),\n",
    "            nn.ReLU(),\n",
    "            nn.MaxPool2d(2),\n",
    "            #nn.AvgPool2d(kernel_size=2),\n",
    "        )\n",
    "        # fully connected layer, output 10 classes\n",
    "        self.out = nn.Linear(32 * 7 * 7, 10)\n",
    "        #self.out = nn.Linear(32 * 28 * 28, 10)\n",
    "\n",
    "    def forward(self, x):\n",
    "        x = self.conv1(x)\n",
    "        x = self.conv2(x)\n",
    "        # flatten the output of conv2 to (batch_size, 32 * 7 * 7)\n",
    "        x = x.view(x.size(0), -1)\n",
    "        output = self.out(x)\n",
    "        return output"
   ]
  },
  {
   "cell_type": "markdown",
   "id": "2b1ccc32-9164-4d5c-9b5c-01f2e790322a",
   "metadata": {},
   "source": [
    "#### Test on Model"
   ]
  },
  {
   "cell_type": "code",
   "execution_count": 320,
   "id": "8afd4662-6e80-4e4b-bfa1-afaaa751685d",
   "metadata": {},
   "outputs": [],
   "source": [
    "class SquashCNN(nn.Module):\n",
    "    \"\"\"\n",
    "        Baseline CNN Model for MNIST\n",
    "    \"\"\"\n",
    "\n",
    "    def __init__(self):\n",
    "        super(SquashCNN, self).__init__()\n",
    "        self.conv1 = nn.Sequential(\n",
    "            nn.Conv2d(\n",
    "                in_channels=1,\n",
    "                out_channels=16,\n",
    "                kernel_size=5,\n",
    "                stride=1,\n",
    "                padding=2,\n",
    "            ),\n",
    "            Squash(),\n",
    "            nn.MaxPool2d(kernel_size=2),\n",
    "            #nn.AvgPool2d(kernel_size=2),\n",
    "        )\n",
    "        self.conv2 = nn.Sequential(\n",
    "            nn.Conv2d(16, 32, 5, 1, 2),\n",
    "            Squash(),\n",
    "            nn.MaxPool2d(2),\n",
    "            #nn.AvgPool2d(kernel_size=2),\n",
    "        )\n",
    "        # fully connected layer, output 10 classes\n",
    "        self.out = nn.Linear(32 * 7 * 7, 10)\n",
    "        #self.out = nn.Linear(32 * 28 * 28, 10)\n",
    "\n",
    "    def forward(self, x):\n",
    "        x = self.conv1(x)\n",
    "        x = self.conv2(x)\n",
    "        # flatten the output of conv2 to (batch_size, 32 * 7 * 7)\n",
    "        x = x.view(x.size(0), -1)\n",
    "        output = self.out(x)\n",
    "        return output"
   ]
  },
  {
   "cell_type": "code",
   "execution_count": 321,
   "id": "6d06161e-a050-475c-be20-fd9a78e210b8",
   "metadata": {},
   "outputs": [
    {
     "data": {
      "text/plain": [
       "28938"
      ]
     },
     "execution_count": 321,
     "metadata": {},
     "output_type": "execute_result"
    }
   ],
   "source": [
    "model = SquashCNN()\n",
    "#model = BaselineCNN()\n",
    "#model = EffBB()\n",
    "#model = SquashEffBB()\n",
    "count_parameters(model)"
   ]
  },
  {
   "cell_type": "code",
   "execution_count": 322,
   "id": "54cb8a0c-1e62-4af9-b8a8-6cb224c86562",
   "metadata": {},
   "outputs": [
    {
     "data": {
      "text/plain": [
       "device(type='cuda')"
      ]
     },
     "execution_count": 322,
     "metadata": {},
     "output_type": "execute_result"
    }
   ],
   "source": [
    "if torch.cuda.is_available():  \n",
    "    dev = \"cuda\" \n",
    "else:  \n",
    "    dev = \"cpu\"  \n",
    "device = torch.device(dev)\n",
    "device"
   ]
  },
  {
   "cell_type": "code",
   "execution_count": 323,
   "id": "1f260ada",
   "metadata": {},
   "outputs": [],
   "source": [
    "    transform_train = T.Compose([\n",
    "        T.RandomAffine(\n",
    "            degrees=(-30, 30),\n",
    "            shear=(-30, 30),\n",
    "            # translate=(0.9, 0.9),\n",
    "        ),\n",
    "        T.RandomResizedCrop(\n",
    "            28,\n",
    "            scale=(0.8, 1.2),\n",
    "            ratio=(1, 1),\n",
    "        ),\n",
    "        T.ToTensor()\n",
    "    ])\n",
    "    transform_valid = T.Compose([\n",
    "        T.ToTensor()\n",
    "    ])"
   ]
  },
  {
   "cell_type": "code",
   "execution_count": 324,
   "id": "1f44c402-f032-46cb-bbd4-76f1acd700a8",
   "metadata": {},
   "outputs": [],
   "source": [
    "ds_train = datasets.MNIST(root='../../data', train=False, download=True, transform= transform_train)\n",
    "ds_valid = datasets.MNIST(root=\"../../data\", train=False, download=True, transform=T.ToTensor())"
   ]
  },
  {
   "cell_type": "code",
   "execution_count": 325,
   "id": "a009b0a1-a2aa-4774-ba84-b6ab0e2b3dff",
   "metadata": {},
   "outputs": [],
   "source": [
    "dl_train = torch.utils.data.DataLoader(ds_train, \n",
    "                                          batch_size=256, \n",
    "                                          shuffle=True, \n",
    "                                          num_workers=4)\n",
    "dl_valid = torch.utils.data.DataLoader(ds_valid, \n",
    "                                          batch_size=256, \n",
    "                                          shuffle=True, \n",
    "                                          num_workers=4)"
   ]
  },
  {
   "cell_type": "code",
   "execution_count": 326,
   "id": "af6d525a-5f22-4864-a201-8d38034db9ca",
   "metadata": {},
   "outputs": [],
   "source": [
    "#model = BaselineCNN()\n",
    "#model = EffBB()\n",
    "#model = SquashEffBB()\n",
    "model = SquashCNN()\n",
    "model = model.to(device)"
   ]
  },
  {
   "cell_type": "code",
   "execution_count": 327,
   "id": "87d156af-6fe3-49ff-8ec5-5e515d9c14c6",
   "metadata": {},
   "outputs": [],
   "source": [
    "loss_func = nn.CrossEntropyLoss() \n",
    "optimizer = optim.Adam(model.parameters(), lr = 0.01) "
   ]
  },
  {
   "cell_type": "code",
   "execution_count": 328,
   "id": "568657df-a44f-433f-8d1c-ee9c15207f9c",
   "metadata": {},
   "outputs": [
    {
     "name": "stdout",
     "output_type": "stream",
     "text": [
      "Epoch[0/100] - step 0 loss: 2.3056\n",
      "Epoch[1/100] - step 0 loss: 0.5747\n",
      "Epoch[2/100] - step 0 loss: 0.3746\n",
      "Epoch[3/100] - step 0 loss: 0.2459\n",
      "Epoch[4/100] - step 0 loss: 0.2097\n",
      "Epoch[5/100] - step 0 loss: 0.1655\n",
      "Epoch[6/100] - step 0 loss: 0.1932\n",
      "Epoch[7/100] - step 0 loss: 0.1764\n",
      "Epoch[8/100] - step 0 loss: 0.1461\n",
      "Epoch[9/100] - step 0 loss: 0.1336\n",
      "Epoch[10/100] - step 0 loss: 0.2451\n",
      "Epoch[11/100] - step 0 loss: 0.0933\n",
      "Epoch[12/100] - step 0 loss: 0.1032\n",
      "Epoch[13/100] - step 0 loss: 0.0817\n",
      "Epoch[14/100] - step 0 loss: 0.1564\n",
      "Epoch[15/100] - step 0 loss: 0.1193\n",
      "Epoch[16/100] - step 0 loss: 0.1110\n",
      "Epoch[17/100] - step 0 loss: 0.1258\n",
      "Epoch[18/100] - step 0 loss: 0.0921\n",
      "Epoch[19/100] - step 0 loss: 0.1140\n",
      "Epoch[20/100] - step 0 loss: 0.0752\n",
      "Epoch[21/100] - step 0 loss: 0.1031\n",
      "Epoch[22/100] - step 0 loss: 0.0934\n",
      "Epoch[23/100] - step 0 loss: 0.1492\n",
      "Epoch[24/100] - step 0 loss: 0.2002\n",
      "Epoch[25/100] - step 0 loss: 0.1290\n",
      "Epoch[26/100] - step 0 loss: 0.1231\n",
      "Epoch[27/100] - step 0 loss: 0.0909\n",
      "Epoch[28/100] - step 0 loss: 0.1288\n",
      "Epoch[29/100] - step 0 loss: 0.1183\n",
      "Epoch[30/100] - step 0 loss: 0.0384\n",
      "Epoch[31/100] - step 0 loss: 0.0379\n",
      "Epoch[32/100] - step 0 loss: 0.0571\n",
      "Epoch[33/100] - step 0 loss: 0.1097\n",
      "Epoch[34/100] - step 0 loss: 0.0768\n",
      "Epoch[35/100] - step 0 loss: 0.0488\n",
      "Epoch[36/100] - step 0 loss: 0.0900\n",
      "Epoch[37/100] - step 0 loss: 0.0842\n",
      "Epoch[38/100] - step 0 loss: 0.0488\n",
      "Epoch[39/100] - step 0 loss: 0.0412\n",
      "Epoch[40/100] - step 0 loss: 0.0504\n",
      "Epoch[41/100] - step 0 loss: 0.0663\n",
      "Epoch[42/100] - step 0 loss: 0.1644\n",
      "Epoch[43/100] - step 0 loss: 0.0453\n",
      "Epoch[44/100] - step 0 loss: 0.0713\n",
      "Epoch[45/100] - step 0 loss: 0.0705\n",
      "Epoch[46/100] - step 0 loss: 0.0924\n",
      "Epoch[47/100] - step 0 loss: 0.1046\n",
      "Epoch[48/100] - step 0 loss: 0.0886\n",
      "Epoch[49/100] - step 0 loss: 0.0875\n",
      "Epoch[50/100] - step 0 loss: 0.0905\n",
      "Epoch[51/100] - step 0 loss: 0.0497\n",
      "Epoch[52/100] - step 0 loss: 0.0323\n",
      "Epoch[53/100] - step 0 loss: 0.0632\n",
      "Epoch[54/100] - step 0 loss: 0.0535\n",
      "Epoch[55/100] - step 0 loss: 0.0729\n",
      "Epoch[56/100] - step 0 loss: 0.1337\n",
      "Epoch[57/100] - step 0 loss: 0.0983\n",
      "Epoch[58/100] - step 0 loss: 0.0524\n",
      "Epoch[59/100] - step 0 loss: 0.0815\n",
      "Epoch[60/100] - step 0 loss: 0.0968\n",
      "Epoch[61/100] - step 0 loss: 0.0334\n",
      "Epoch[62/100] - step 0 loss: 0.0705\n",
      "Epoch[63/100] - step 0 loss: 0.0873\n",
      "Epoch[64/100] - step 0 loss: 0.0562\n",
      "Epoch[65/100] - step 0 loss: 0.0374\n",
      "Epoch[66/100] - step 0 loss: 0.0684\n",
      "Epoch[67/100] - step 0 loss: 0.1624\n",
      "Epoch[68/100] - step 0 loss: 0.0393\n",
      "Epoch[69/100] - step 0 loss: 0.0883\n",
      "Epoch[70/100] - step 0 loss: 0.0341\n",
      "Epoch[71/100] - step 0 loss: 0.0889\n",
      "Epoch[72/100] - step 0 loss: 0.0506\n",
      "Epoch[73/100] - step 0 loss: 0.0419\n",
      "Epoch[74/100] - step 0 loss: 0.1042\n",
      "Epoch[75/100] - step 0 loss: 0.0474\n",
      "Epoch[76/100] - step 0 loss: 0.0548\n",
      "Epoch[77/100] - step 0 loss: 0.0511\n",
      "Epoch[78/100] - step 0 loss: 0.0448\n",
      "Epoch[79/100] - step 0 loss: 0.0573\n",
      "Epoch[80/100] - step 0 loss: 0.0809\n",
      "Epoch[81/100] - step 0 loss: 0.0722\n",
      "Epoch[82/100] - step 0 loss: 0.0310\n",
      "Epoch[83/100] - step 0 loss: 0.0372\n",
      "Epoch[84/100] - step 0 loss: 0.0653\n",
      "Epoch[85/100] - step 0 loss: 0.0816\n",
      "Epoch[86/100] - step 0 loss: 0.0645\n",
      "Epoch[87/100] - step 0 loss: 0.1055\n",
      "Epoch[88/100] - step 0 loss: 0.1191\n",
      "Epoch[89/100] - step 0 loss: 0.0734\n",
      "Epoch[90/100] - step 0 loss: 0.0939\n",
      "Epoch[91/100] - step 0 loss: 0.0846\n",
      "Epoch[92/100] - step 0 loss: 0.0780\n",
      "Epoch[93/100] - step 0 loss: 0.0311\n",
      "Epoch[94/100] - step 0 loss: 0.0856\n",
      "Epoch[95/100] - step 0 loss: 0.0307\n",
      "Epoch[96/100] - step 0 loss: 0.0903\n",
      "Epoch[97/100] - step 0 loss: 0.0722\n",
      "Epoch[98/100] - step 0 loss: 0.0711\n",
      "Epoch[99/100] - step 0 loss: 0.0554\n"
     ]
    }
   ],
   "source": [
    "num_epochs = 100\n",
    "model.train()\n",
    "for epoch in range(num_epochs):\n",
    "    for idx, (x, y_true) in enumerate(dl_train):\n",
    "        x = x.to(device)\n",
    "        y_true = y_true.to(device)\n",
    "        optimizer.zero_grad()\n",
    "        y_pred = model(x)\n",
    "        loss = loss_func(y_pred, y_true)         \n",
    "        loss.backward()\n",
    "        optimizer.step()\n",
    "        \n",
    "        if idx % 1000 == 0:\n",
    "            print(\"Epoch[{}/{}] - step {} loss: {:.4f}\".format(epoch, num_epochs, idx, loss.item()))"
   ]
  },
  {
   "cell_type": "code",
   "execution_count": 329,
   "id": "a24a459a-ba88-4536-a300-3549f9b3a644",
   "metadata": {},
   "outputs": [],
   "source": [
    "model.eval()\n",
    "with torch.no_grad():\n",
    "    correct = 0\n",
    "    total = 0\n",
    "    for x, y_true in dl_valid:\n",
    "        x = x.to(device)\n",
    "        y_true = y_true.to(device)\n",
    "        y_pred = model(x)\n",
    "        y_pred = torch.max(y_pred, 1)[1]\n",
    "        correct += (y_pred == y_true).sum().item()\n",
    "        total += y_true.shape[0]\n",
    "    acc = correct / total"
   ]
  },
  {
   "cell_type": "code",
   "execution_count": 330,
   "id": "0cc6469e-c7ef-4665-b97c-23d20f611753",
   "metadata": {},
   "outputs": [
    {
     "name": "stdout",
     "output_type": "stream",
     "text": [
      "0.9958\n",
      "42\n"
     ]
    }
   ],
   "source": [
    "print(acc)\n",
    "print(total - correct)"
   ]
  },
  {
   "cell_type": "markdown",
   "id": "2f6c0455",
   "metadata": {},
   "source": [
    "Augmentation\n",
    "\n",
    "Model: SquashCNN\n",
    "epochs: 20\n",
    "\n",
    "maxpool\n",
    "Epoch[19/20] - step 0 loss: 0.0036\n",
    "0.9887\n",
    "113\n",
    "params: 28938\n",
    "\n",
    "-----------\n",
    "epochs: 100\n",
    "\n",
    "maxpool\n",
    "\n",
    "acc: 0.9958\n",
    "(total - correct): 42\n",
    "params: 28938\n",
    "\n",
    "\n",
    "----------------------------------------------------\n",
    "Model: BaselineCNN\n",
    "epochs: 20\n",
    "\n",
    "maxpool\n",
    "Epoch[19/20] - step 0 loss: 0.0002\n",
    "acc:0.9837\n",
    "(total - correct): 163\n",
    "params: 28938\n",
    "\n",
    "-----------\n",
    "epochs: 100\n",
    "\n",
    "maxpool\n",
    "Epoch[99/100] - step 0 loss: 0.0604\n",
    "acc:0.9963\n",
    "(total - correct): 37\n",
    "params: 28938"
   ]
  },
  {
   "cell_type": "markdown",
   "id": "0f42358e",
   "metadata": {},
   "source": [
    "Model: SquashCNN\n",
    "epochs: 20\n",
    "\n",
    "maxpool\n",
    "Epoch[19/20] - step 0 loss: 0.0036\n",
    "acc:1.0\n",
    "(total - correct): 0\n",
    "params: 28938\n",
    "\n",
    "nopool\n",
    "Epoch[19/20] - step 0 loss: 0.0103\n",
    "acc: 0.9964\n",
    "(total - correct): 36\n",
    "params: 264138\n",
    "\n",
    "\n",
    "avgpool\n",
    "Epoch[19/20] - step 0 loss: 0.0517\n",
    "acc: 0.9919\n",
    "(total - correct): 81\n",
    "params: 28938\n",
    "\n",
    "----------------------------------------------------\n",
    "Model: BaselineCNN\n",
    "epochs: 20\n",
    "\n",
    "maxpool\n",
    "Epoch[19/20] - step 0 loss: 0.0002\n",
    "acc:0.999\n",
    "(total - correct): 10\n",
    "params: 28938\n",
    "\n",
    "nopool\n",
    "Epoch[19/20] - step 0 loss: 0.0006\n",
    "acc: 0.9955\n",
    "(total - correct): 45\n",
    "params: 264138\n",
    "\n",
    "\n",
    "avgpool\n",
    "Epoch[19/20] - step 0 loss: 0.0038\n",
    "acc: 0.9989\n",
    "(total - correct): 11\n",
    "params: 28938\n",
    "\n",
    "----------------------------------------------------\n",
    "Model: EFFBB\n",
    "epochs: 20\n",
    "\n",
    "nopool\n",
    "Epoch[19/20] - step 0 loss: 0.0038\n",
    "acc: \n",
    "(total - correct): \n",
    "params: 234378\n",
    "\n",
    "maxpool\n",
    "Epoch[19/20] - step 0 loss: 0.0001\n",
    "acc:1.0\n",
    "(total - correct): 0\n",
    "params: 131402\n",
    "\n",
    "avgpool\n",
    "Epoch[19/20] - step 0 loss: 0.0356\n",
    "acc:0.9974\n",
    "(total - correct): \n",
    "params: 131402\n",
    "\n",
    "----------------------------------------------------\n",
    "Model: SquashEFFBB\n",
    "epochs: 20\n",
    "\n",
    "nopool\n",
    "Epoch[19/20] - step 0 loss: 0.0583\n",
    "acc: 0.9741\n",
    "(total - correct): 259\n",
    "params: 234378\n",
    "\n",
    "maxpool\n",
    "Epoch[19/20] - step 0 loss: 0.0022\n",
    "acc:1.0\n",
    "(total - correct): 0\n",
    "params: 131402\n",
    "\n",
    "avgpool\n",
    "Epoch[19/20] - step 0 loss: 0.0356\n",
    "acc:0.9855\n",
    "(total - correct): 145\n",
    "params: 131402\n"
   ]
  },
  {
   "cell_type": "code",
   "execution_count": 331,
   "id": "596e5cd3",
   "metadata": {},
   "outputs": [],
   "source": [
    "class EffBB(nn.Module):\n",
    "    \"\"\"\n",
    "        Backbone model from Efficient-CapsNet for MNIST\n",
    "    \"\"\"\n",
    "\n",
    "    def __init__(self):\n",
    "        super().__init__()\n",
    "        self.layers = nn.Sequential(\n",
    "            nn.Conv2d(1, 32, kernel_size=(5, 5), padding=\"valid\"),\n",
    "            nn.ReLU(inplace=True),\n",
    "            nn.BatchNorm2d(32),\n",
    "            #nn.MaxPool2d(2),\n",
    "            nn.AvgPool2d(kernel_size=2),\n",
    "            nn.Conv2d(32, 64, kernel_size=(3, 3), padding=\"valid\"),\n",
    "            nn.ReLU(inplace=True),\n",
    "            nn.BatchNorm2d(64),\n",
    "            nn.AvgPool2d(kernel_size=2),\n",
    "            #nn.MaxPool2d(2),\n",
    "            nn.Conv2d(64, 64, kernel_size=(3, 3), padding=\"valid\"),\n",
    "            nn.ReLU(inplace=True),\n",
    "            nn.BatchNorm2d(64),\n",
    "            nn.Conv2d(64, 128, kernel_size=(3, 3), stride=2, padding=\"valid\"),\n",
    "            nn.ReLU(inplace=True),\n",
    "            #nn.BatchNorm2d(128),\n",
    "        )\n",
    "        #self.out = nn.Linear(128 * 9 * 9, 10)\n",
    "        self.out = nn.Linear(128, 10)\n",
    "    def forward(self, x):\n",
    "        \"\"\"\n",
    "            IN:\n",
    "                x (b, 1, 28, 28)\n",
    "            OUT:\n",
    "                x (b, 128, 9, 9)\n",
    "        \"\"\"\n",
    "        x = self.layers(x)\n",
    "        x = x.view(x.size(0), -1)\n",
    "        x = self.out(x)\n",
    "        return x"
   ]
  },
  {
   "cell_type": "code",
   "execution_count": 332,
   "metadata": {},
   "outputs": [],
   "source": [
    "class SquashEffBB(nn.Module):\n",
    "    \"\"\"\n",
    "        Backbone model from Efficient-CapsNet for MNIST\n",
    "    \"\"\"\n",
    "\n",
    "    def __init__(self):\n",
    "        super().__init__()\n",
    "        self.layers = nn.Sequential(\n",
    "            nn.Conv2d(1, 32, kernel_size=(5, 5), padding=\"valid\"),\n",
    "            Squash(),\n",
    "            #nn.MaxPool2d(2),\n",
    "            nn.AvgPool2d(kernel_size=2),\n",
    "            nn.Conv2d(32, 64, kernel_size=(3, 3), padding=\"valid\"),\n",
    "            Squash(),\n",
    "            #nn.MaxPool2d(2),\n",
    "            nn.AvgPool2d(kernel_size=2),\n",
    "            nn.Conv2d(64, 64, kernel_size=(3, 3), padding=\"valid\"),\n",
    "            Squash(),\n",
    "            nn.Conv2d(64, 128, kernel_size=(3, 3), stride=2, padding=\"valid\"),\n",
    "            Squash(),\n",
    "        )\n",
    "        #self.out = nn.Linear(128 * 9 * 9, 10)\n",
    "        self.out = nn.Linear(128, 10)\n",
    "    def forward(self, x):\n",
    "        \"\"\"\n",
    "            IN:\n",
    "                x (b, 1, 28, 28)\n",
    "            OUT:\n",
    "                x (b, 128, 9, 9)\n",
    "        \"\"\"\n",
    "        x = self.layers(x)\n",
    "        x = x.view(x.size(0), -1)\n",
    "        x = self.out(x)\n",
    "        return x"
   ]
  },
  {
   "cell_type": "code",
   "execution_count": 333,
   "id": "06da6146",
   "metadata": {},
   "outputs": [
    {
     "data": {
      "text/plain": [
       "torch.Size([1, 10])"
      ]
     },
     "execution_count": 333,
     "metadata": {},
     "output_type": "execute_result"
    }
   ],
   "source": [
    "#test on normal conv\n",
    "a = torch.rand([1,1,28,28])\n",
    "mod  =  SquashEffBB()\n",
    "#mod  =  EffBB()\n",
    "\n",
    "x = mod(a)\n",
    "\n",
    "\n",
    "\n",
    "x.shape"
   ]
  }
 ],
 "metadata": {
  "kernelspec": {
   "display_name": "Python 3 (ipykernel)",
   "language": "python",
   "name": "python3"
  },
  "language_info": {
   "codemirror_mode": {
    "name": "ipython",
    "version": 3
   },
   "file_extension": ".py",
   "mimetype": "text/x-python",
   "name": "python",
   "nbconvert_exporter": "python",
   "pygments_lexer": "ipython3",
   "version": "3.9.7"
  }
 },
 "nbformat": 4,
 "nbformat_minor": 5
}
