{
 "cells": [
  {
   "cell_type": "code",
   "execution_count": null,
   "id": "2b39aa68",
   "metadata": {},
   "outputs": [],
   "source": [
    "import numpy as np"
   ]
  },
  {
   "cell_type": "code",
   "execution_count": null,
   "id": "02a3116b",
   "metadata": {},
   "outputs": [],
   "source": [
    "pi = np.array([0.1, 0.7, 0.2])"
   ]
  },
  {
   "cell_type": "code",
   "execution_count": null,
   "id": "4cd9f743",
   "metadata": {},
   "outputs": [],
   "source": [
    "# h,w,c\n",
    "M = np.array([\n",
    "    [0.6, 0.3, 0.1],\n",
    "    [0.3, 0.6, 0.1],\n",
    "    [0.1, 0.1, 0.8]\n",
    "])"
   ]
  },
  {
   "cell_type": "code",
   "execution_count": null,
   "id": "5b579aff",
   "metadata": {},
   "outputs": [],
   "source": [
    "M"
   ]
  },
  {
   "cell_type": "code",
   "execution_count": null,
   "id": "a4b07417",
   "metadata": {},
   "outputs": [],
   "source": [
    "M * pi"
   ]
  },
  {
   "cell_type": "code",
   "execution_count": null,
   "id": "efcf735e",
   "metadata": {},
   "outputs": [],
   "source": [
    "M @ M @ M @ M @ M @ M @ M @ M @ M @ M @ M @ M @ M @ M @ M @ M @ M"
   ]
  },
  {
   "cell_type": "code",
   "execution_count": null,
   "id": "5d442020",
   "metadata": {},
   "outputs": [],
   "source": []
  }
 ],
 "metadata": {
  "kernelspec": {
   "display_name": "Python 3 (ipykernel)",
   "language": "python",
   "name": "python3"
  },
  "language_info": {
   "codemirror_mode": {
    "name": "ipython",
    "version": 3
   },
   "file_extension": ".py",
   "mimetype": "text/x-python",
   "name": "python",
   "nbconvert_exporter": "python",
   "pygments_lexer": "ipython3",
   "version": "3.8.12"
  },
  "latex_envs": {
   "LaTeX_envs_menu_present": true,
   "autoclose": false,
   "autocomplete": true,
   "bibliofile": "biblio.bib",
   "cite_by": "apalike",
   "current_citInitial": 1,
   "eqLabelWithNumbers": true,
   "eqNumInitial": 1,
   "hotkeys": {
    "equation": "Ctrl-E",
    "itemize": "Ctrl-I"
   },
   "labels_anchors": false,
   "latex_user_defs": false,
   "report_style_numbering": false,
   "user_envs_cfg": false
  }
 },
 "nbformat": 4,
 "nbformat_minor": 5
}
