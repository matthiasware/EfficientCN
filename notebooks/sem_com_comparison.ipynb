{
 "cells": [
  {
   "cell_type": "code",
   "execution_count": 1,
   "metadata": {},
   "outputs": [],
   "source": [
    "%load_ext autoreload\n",
    "%autoreload 2"
   ]
  },
  {
   "cell_type": "code",
   "execution_count": 2,
   "metadata": {},
   "outputs": [],
   "source": [
    "import sys\n",
    "sys.path.append(\"./../\")"
   ]
  },
  {
   "cell_type": "code",
   "execution_count": 3,
   "metadata": {},
   "outputs": [],
   "source": [
    "# default libraries\n",
    "import time\n",
    "import datetime\n",
    "import pickle\n",
    "import pprint\n",
    "from pathlib import Path\n",
    "import math\n",
    "\n",
    "\n",
    "# third party libraries\n",
    "import torch\n",
    "import torchvision\n",
    "import torchvision.transforms as T\n",
    "\n",
    "import matplotlib\n",
    "import matplotlib.pyplot as plt\n",
    "\n",
    "import numpy as np\n",
    "from dotted_dict import DottedDict\n"
   ]
  },
  {
   "cell_type": "markdown",
   "metadata": {},
   "source": [
    "Files"
   ]
  },
  {
   "cell_type": "code",
   "execution_count": 4,
   "metadata": {},
   "outputs": [],
   "source": [
    "p_data = Path('/mnt/data/experiments/EfficientCN/sem_comp')\n",
    "p_cnn_cr = p_data / 'semcomp_mnist_MnistCNN_CR_2022_02_03_16_27_32'\n",
    "p_cnn_cr_sf = p_data / 'semcomp_mnist_MnistCNN_CR_SF_2022_02_03_16_27_48'\n",
    "p_cnn_r = p_data / 'semcomp_mnist_MnistCNN_R_2022_02_04_09_41_08'\n",
    "p_effcn = p_data / 'semcomp_mnist_MnistEffCapsNet_2022_02_03_17_49_52'"
   ]
  },
  {
   "cell_type": "code",
   "execution_count": 5,
   "metadata": {},
   "outputs": [
    {
     "data": {
      "text/plain": [
       "PosixPath('/mnt/data/experiments/EfficientCN/sem_comp/semcomp_mnist_MnistCNN_R_2022_02_04_09_41_08')"
      ]
     },
     "execution_count": 5,
     "metadata": {},
     "output_type": "execute_result"
    }
   ],
   "source": [
    "p_cnn_r"
   ]
  },
  {
   "cell_type": "code",
   "execution_count": 164,
   "metadata": {},
   "outputs": [
    {
     "data": {
      "text/plain": [
       "'\\nstats = {\\n    \"model\": str(p_model),\\n    \"dataset\": str(p_data),\\n    \"train\": config.ds.train,\\n    \"affine\": name,\\n    \"pca\": {\\n        \\'pca_eig\\': pca_eig,\\n        \\'pca_mean\\': pca_mean,\\n    },\\n    \"kld\": {\\n        \\'kld_val\\': kl_div,\\n        \\'kld_mean\\': kld_mean,\\n    }\\n}  \\n'"
      ]
     },
     "execution_count": 164,
     "metadata": {},
     "output_type": "execute_result"
    }
   ],
   "source": [
    "\"\"\"\n",
    "stats = {\n",
    "    \"model\": str(p_model),\n",
    "    \"dataset\": str(p_data),\n",
    "    \"train\": config.ds.train,\n",
    "    \"affine\": name,\n",
    "    \"pca\": {\n",
    "        'pca_eig': pca_eig,\n",
    "        'pca_mean': pca_mean,\n",
    "    },\n",
    "    \"kld\": {\n",
    "        'kld_val': kl_div,\n",
    "        'kld_mean': kld_mean,\n",
    "    }\n",
    "}  \n",
    "\"\"\""
   ]
  },
  {
   "cell_type": "code",
   "execution_count": 6,
   "metadata": {},
   "outputs": [],
   "source": [
    "p_exps = [p_cnn_r, p_cnn_cr, p_cnn_cr_sf, p_effcn]\n",
    "\n",
    "kld = []\n",
    "pca = []\n",
    "\n",
    "for p_exp in p_exps:\n",
    "\n",
    "    file1 = open(p_exp / 'stats_affine_xtrans.pkl', 'rb')\n",
    "    xtrans = DottedDict(pickle.load(file1))\n",
    "    file1.close()\n",
    "\n",
    "    file2 = open(p_exp / 'stats_affine_ytrans.pkl', 'rb')\n",
    "    ytrans = DottedDict(pickle.load(file2))\n",
    "    file2.close()\n",
    "\n",
    "    file3 = open(p_exp / 'stats_affine_rot.pkl', 'rb')\n",
    "    rot = DottedDict(pickle.load(file3))\n",
    "    file3.close()\n",
    "\n",
    "    file4 = open(p_exp / 'stats_affine_scale.pkl', 'rb')\n",
    "    scale = DottedDict(pickle.load(file4))\n",
    "    file4.close()\n",
    "\n",
    "    file5 = open(p_exp / 'stats_affine_shear.pkl', 'rb')\n",
    "    shear = DottedDict(pickle.load(file5))\n",
    "    file5.close()\n",
    "\n",
    "    file6 = open(p_exp / 'config.pkl', 'rb')\n",
    "    config = DottedDict(pickle.load(file6))\n",
    "    file6.close()\n",
    "\n",
    "\n",
    "    kld_mean = [xtrans.kld.kld_mean, ytrans.kld.kld_mean, rot.kld.kld_mean, scale.kld.kld_mean, shear.kld.kld_mean]\n",
    "    kld.append(kld_mean)\n",
    "    pca_mean = [xtrans.pca.pca_mean.tolist(), ytrans.pca.pca_mean.tolist(), rot.pca.pca_mean.tolist(), scale.pca.pca_mean.tolist(), shear.pca.pca_mean.tolist()]\n",
    "    pca.append(pca_mean)\n",
    "\n"
   ]
  },
  {
   "cell_type": "code",
   "execution_count": 166,
   "metadata": {},
   "outputs": [],
   "source": [
    "#config.model\n",
    "#xtrans.kld.kld_mean\n",
    "\n",
    "#print(torch.tensor(kld))\n",
    "#print('\\n')\n",
    "#pca_c = torch.tensor(pca[1:])\n",
    "#print(pca_c)\n",
    "\n",
    "#print(pca_c.shape)"
   ]
  },
  {
   "cell_type": "code",
   "execution_count": 12,
   "metadata": {},
   "outputs": [],
   "source": [
    "def matplot(matrix, x_ticks=None, y_ticks=None, title=None):\n",
    "    fig, ax = plt.subplots(figsize=[8,8])\n",
    "    im = ax.imshow(matrix)\n",
    "\n",
    "    # Show all ticks and label them with the respective list entries\n",
    "    if x_ticks != None:\n",
    "        ax.set_xticks(np.arange(len(x_ticks)), labels=x_ticks)\n",
    "        # Rotate the tick labels and set their alignment.\n",
    "        plt.setp(ax.get_xticklabels(), rotation=45, ha=\"right\",\n",
    "                rotation_mode=\"anchor\")\n",
    "    if y_ticks != None:\n",
    "        ax.set_yticks(np.arange(len(y_ticks)), labels=y_ticks)\n",
    "\n",
    "    if title != None:\n",
    "        ax.set_title(title)\n",
    "\n",
    "    # Loop over data dimensions and create text annotations.\n",
    "    for i in range(len(matrix)):\n",
    "        for j in range(len(matrix[0])):\n",
    "            text = ax.text(j, i, matrix[i, j],\n",
    "                        ha=\"center\", va=\"center\", color=\"w\")\n",
    "\n",
    "    fig.tight_layout()\n",
    "    plt.savefig('/home/mkoch/projects/EfficientCN/compactness/kld.png')\n",
    "\n",
    "    plt.show()"
   ]
  },
  {
   "cell_type": "code",
   "execution_count": 13,
   "metadata": {},
   "outputs": [
    {
     "data": {
      "image/png": "[encoded data removed]",
      "text/plain": [
       "<Figure size 576x576 with 1 Axes>"
      ]
     },
     "metadata": {
      "needs_background": "light"
     },
     "output_type": "display_data"
    }
   ],
   "source": [
    "affines = [\"x_trans\", \"y_trans\", \"rot\", \"scale\",\"shear\"]\n",
    "models = [\"cnn_r\", \"cnn_cr\", \"cnn_cr_sf\", \"effcn\"]\n",
    "title = \"KL Divergence on MNIST on effcn and cnn models\"\n",
    "\n",
    "kld_c = torch.tensor(kld).numpy()\n",
    "\n",
    "matplot(kld_c, affines, models, title)\n"
   ]
  },
  {
   "cell_type": "markdown",
   "metadata": {},
   "source": [
    "Datasets MNIST\n",
    "Factors Rotation Trans-X Trans-Y Scale Shear-X Shear-Y\n",
    "ConvNet-R 0.0003 0.0016 0.0009 0.0004 0.0003 0.0007\n",
    "ConvNet-CR 0.0028 0.0038 0.0032 0.0052 0.0058 0.0022\n",
    "ConvNet-CR-SF 0.0325 0.2010 0.3192 0.0146 0.0476 0.0506\n",
    "CapsNet 0.0031 0.0107 0.0464 0.0026 0.0098 0.0021"
   ]
  },
  {
   "cell_type": "code",
   "execution_count": 43,
   "metadata": {},
   "outputs": [
    {
     "name": "stdout",
     "output_type": "stream",
     "text": [
      "[[-651.48810546  -50.62228534 -197.59595394 -638.74386251 -412.66801457\n",
      "  -176.85772053]\n",
      " [  69.92901542   54.22136109   58.72667301   35.91105342   31.0789691\n",
      "    81.93546398]\n",
      " [  13.67301849    1.78402099    1.84622007   33.30900449   14.25998552\n",
      "    13.41453183]\n",
      " [ 114.69992899   19.81490823    8.76913811  143.17439153   47.88892914\n",
      "   223.48166931]]\n"
     ]
    }
   ],
   "source": [
    "kld_ref = np.array([[0.0003, 0.0016, 0.0009, 0.0004, 0.0003, 0.0007],\n",
    "                    [0.0028, 0.0038, 0.0032, 0.0052, 0.0058, 0.0022],\n",
    "                    [0.0325, 0.2010, 0.3192, 0.0146, 0.0476, 0.0506],\n",
    "                    [0.0031, 0.0107, 0.0464, 0.0026, 0.0098, 0.0021]]) \n",
    "\n",
    "\n",
    "r = np.zeros(kld_ref.shape)\n",
    "r[:,:5] = kld_c\n",
    "r[:,5] = kld_c[:,4]\n",
    "\n",
    "t = r / kld_ref \n",
    "\n",
    "print(t)\n"
   ]
  },
  {
   "cell_type": "code",
   "execution_count": 14,
   "metadata": {},
   "outputs": [
    {
     "data": {
      "image/png": "[encoded data removed]",
      "text/plain": [
       "<Figure size 1440x288 with 5 Axes>"
      ]
     },
     "metadata": {
      "needs_background": "light"
     },
     "output_type": "display_data"
    }
   ],
   "source": [
    "affines = [\"x_trans\", \"y_trans\", \"rot\", \"scale\",\"shear\"]\n",
    "models = [\"cnn_r\", \"cnn_cr\", \"cnn_cr_sf\", \"effcn\"]\n",
    "title = 'Mean Eigenvals of u_h caps'\n",
    "pca_c = torch.tensor(pca[1:])\n",
    "x = torch.arange(1,pca_c.shape[2]+1,1)\n",
    "\n",
    "\n",
    "fig, ax = plt.subplots(1,pca_c.shape[1], figsize=[20,4], sharey=True)\n",
    "\n",
    "id = 0\n",
    "ax[id].plot(x, pca_c[0,0].numpy(), 'b.',label=models[1])\n",
    "ax[id].plot(x, pca_c[1,0].numpy(), 'r.',label=models[2])\n",
    "ax[id].plot(x, pca_c[2,0].numpy(), 'g.',label=models[3])\n",
    "ax[id].set_title(affines[0])\n",
    "ax[id].legend()\n",
    "id += 1\n",
    "ax[id].plot(x, pca_c[0,1].numpy(), 'b.',label=models[1])\n",
    "ax[id].plot(x, pca_c[1,1].numpy(), 'r.',label=models[2])\n",
    "ax[id].plot(x, pca_c[2,1].numpy(), 'g.',label=models[3])\n",
    "ax[id].set_title(affines[1])\n",
    "ax[id].legend()\n",
    "id += 1\n",
    "ax[id].plot(x, pca_c[0,2].numpy(), 'b.',label=models[1])\n",
    "ax[id].plot(x, pca_c[1,2].numpy(), 'r.',label=models[2])\n",
    "ax[id].plot(x, pca_c[2,2].numpy(), 'g.',label=models[3])\n",
    "ax[id].set_title(affines[2])\n",
    "ax[id].legend()\n",
    "id += 1\n",
    "ax[id].plot(x, pca_c[0,3].numpy(), 'b.',label=models[1])\n",
    "ax[id].plot(x, pca_c[1,3].numpy(), 'r.',label=models[2])\n",
    "ax[id].plot(x, pca_c[2,3].numpy(), 'g.',label=models[3])\n",
    "ax[id].set_title(affines[3])\n",
    "ax[id].legend()\n",
    "id += 1\n",
    "ax[id].plot(x, pca_c[0,4].numpy(), 'b.',label=models[1])\n",
    "ax[id].plot(x, pca_c[1,4].numpy(), 'r.',label=models[2])\n",
    "ax[id].plot(x, pca_c[2,4].numpy(), 'g.',label=models[3])\n",
    "ax[id].set_title(affines[4])\n",
    "ax[id].legend()\n",
    "\n",
    "fig.suptitle('Mean Eigenvals of u_h caps')\n",
    "fig.tight_layout()\n",
    "plt.savefig('/home/mkoch/projects/EfficientCN/compactness/pca.png')\n",
    "plt.show()"
   ]
  }
 ],
 "metadata": {
  "interpreter": {
   "hash": "188faa17072d374bec02d17fca5e544867bade69f71230dfd1a560a6ca303930"
  },
  "kernelspec": {
   "display_name": "Python 3.9.7 64-bit ('EffCN': conda)",
   "language": "python",
   "name": "python3"
  },
  "language_info": {
   "codemirror_mode": {
    "name": "ipython",
    "version": 3
   },
   "file_extension": ".py",
   "mimetype": "text/x-python",
   "name": "python",
   "nbconvert_exporter": "python",
   "pygments_lexer": "ipython3",
   "version": "3.9.7"
  },
  "orig_nbformat": 4
 },
 "nbformat": 4,
 "nbformat_minor": 2
}
