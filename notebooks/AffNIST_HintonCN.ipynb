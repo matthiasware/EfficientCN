{
 "cells": [
  {
   "cell_type": "code",
   "execution_count": null,
   "id": "0e88c321",
   "metadata": {},
   "outputs": [],
   "source": [
    "import sys\n",
    "sys.path.append(\"./../\")"
   ]
  },
  {
   "cell_type": "code",
   "execution_count": null,
   "id": "7cc83858",
   "metadata": {},
   "outputs": [],
   "source": [
    "import torch\n",
    "import torch.nn as nn\n",
    "import torchvision\n",
    "#\n",
    "from effcn.layers import PrimaryCaps"
   ]
  },
  {
   "cell_type": "code",
   "execution_count": null,
   "id": "dbbd6ee9",
   "metadata": {},
   "outputs": [],
   "source": [
    "class PrimaryCaps(nn.Module):\n",
    "    def __init__(self, num_capsules=8, in_channels=256, out_channels=32, kernel_size=9, num_routes=32 * 6 * 6):\n",
    "        super(PrimaryCaps, self).__init__()\n",
    "        self.num_routes = num_routes\n",
    "        self.capsules = nn.ModuleList([\n",
    "            nn.Conv2d(in_channels=in_channels, out_channels=out_channels, kernel_size=kernel_size, stride=1, padding=0, bias=False)\n",
    "            for _ in range(num_capsules)])\n",
    "\n",
    "    def forward(self, x):\n",
    "        u = [capsule(x) for capsule in self.capsules]\n",
    "        #u = torch.stack(u, dim=1)\n",
    "        #u = u.view(x.size(0), self.num_routes, -1)\n",
    "        #u = self.squash(u)\n",
    "        return u\n",
    "        #return self.squash(u)\n",
    "\n",
    "    def squash(self, input_tensor):\n",
    "        squared_norm = (input_tensor ** 2).sum(-1, keepdim=True)\n",
    "        output_tensor = squared_norm * input_tensor / ((1. + squared_norm) * torch.sqrt(squared_norm))\n",
    "        return output_tensor"
   ]
  },
  {
   "cell_type": "code",
   "execution_count": null,
   "id": "6db9f1d2",
   "metadata": {},
   "outputs": [],
   "source": [
    "model = nn.Conv2d(3, 10, kernel_size=(2, 2),stride=1, bias=False)\n",
    "#\n",
    "x = torch.rand((1, 3, 4, 4))\n",
    "y = model(x)\n",
    "print(y.shape)"
   ]
  },
  {
   "cell_type": "code",
   "execution_count": null,
   "id": "da5dcb17",
   "metadata": {},
   "outputs": [],
   "source": [
    "filters = list(model.parameters())[0]\n",
    "print(filters.shape)"
   ]
  },
  {
   "cell_type": "code",
   "execution_count": null,
   "id": "455c6feb",
   "metadata": {},
   "outputs": [],
   "source": [
    "backbone = nn.Sequential(\n",
    "    nn.Conv2d(1, 256, kernel_size=(9, 9)),\n",
    "    nn.ReLU(inplace=True),\n",
    "    nn.Conv2d(256, 32, kernel_size=(9, 9), stride=2),\n",
    ")\n",
    "primecaps = PrimaryCaps()"
   ]
  },
  {
   "cell_type": "code",
   "execution_count": null,
   "id": "c6df1c0a",
   "metadata": {},
   "outputs": [],
   "source": [
    "x = torch.rand((1, 1, 28, 28))\n",
    "x_bb = backbone(x)\n",
    "print(x_bb.shape)"
   ]
  },
  {
   "cell_type": "code",
   "execution_count": null,
   "id": "0f806aef",
   "metadata": {},
   "outputs": [],
   "source": [
    "x_bb = layers(x)\n",
    "print(x_bb.shape)\n",
    "x_pc = primecaps(x_bb)\n",
    "#print(x_pc.shape)"
   ]
  },
  {
   "cell_type": "code",
   "execution_count": null,
   "id": "c7270288",
   "metadata": {},
   "outputs": [],
   "source": [
    "print(len(x_pc))\n",
    "print(x_pc[0].shape)"
   ]
  },
  {
   "cell_type": "code",
   "execution_count": null,
   "id": "8b1d73d5",
   "metadata": {},
   "outputs": [],
   "source": [
    "weights = list(primecaps.capsules[0].parameters())[0]"
   ]
  },
  {
   "cell_type": "code",
   "execution_count": null,
   "id": "43c75f2a",
   "metadata": {},
   "outputs": [],
   "source": [
    "weights.shape"
   ]
  },
  {
   "cell_type": "code",
   "execution_count": null,
   "id": "abd206f9",
   "metadata": {},
   "outputs": [],
   "source": [
    "def capsnet_graph(input_shape, routing):\n",
    "    \"\"\"\n",
    "    Original CapsNet graph architecture described in \"dynamic routinig between capsules\".\n",
    "    \n",
    "    Parameters\n",
    "    ----------   \n",
    "    input_shape: list\n",
    "        network input shape\n",
    "    routing: int\n",
    "        number of routing iterations\n",
    "    \"\"\"\n",
    "    inputs = tf.keras.Input(input_shape)\n",
    "    \n",
    "    x = tf.keras.layers.Conv2D(256, 9, activation=\"relu\")(inputs)\n",
    "    primary = PrimaryCaps(C=32, L=8, k=9, s=2)(x)\n",
    "    digit_caps = DigitCaps(10, 16, routing=routing)(primary)  \n",
    "    digit_caps_len = Length(name='capsnet_output_len')(digit_caps)\n",
    "    pr_shape = primary.shape\n",
    "    primary = tf.reshape(primary,(-1,pr_shape[1]*pr_shape[2]*pr_shape[3],pr_shape[-1]))\n",
    "\n",
    "    return tf.keras.Model(inputs=inputs,outputs=[primary, digit_caps, digit_caps_len] , name='Original_CapsNet')"
   ]
  }
 ],
 "metadata": {
  "kernelspec": {
   "display_name": "Python 3 (ipykernel)",
   "language": "python",
   "name": "python3"
  },
  "language_info": {
   "codemirror_mode": {
    "name": "ipython",
    "version": 3
   },
   "file_extension": ".py",
   "mimetype": "text/x-python",
   "name": "python",
   "nbconvert_exporter": "python",
   "pygments_lexer": "ipython3",
   "version": "3.8.12"
  },
  "latex_envs": {
   "LaTeX_envs_menu_present": true,
   "autoclose": false,
   "autocomplete": true,
   "bibliofile": "biblio.bib",
   "cite_by": "apalike",
   "current_citInitial": 1,
   "eqLabelWithNumbers": true,
   "eqNumInitial": 1,
   "hotkeys": {
    "equation": "Ctrl-E",
    "itemize": "Ctrl-I"
   },
   "labels_anchors": false,
   "latex_user_defs": false,
   "report_style_numbering": false,
   "user_envs_cfg": false
  }
 },
 "nbformat": 4,
 "nbformat_minor": 5
}
