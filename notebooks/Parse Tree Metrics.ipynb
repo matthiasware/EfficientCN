{
 "cells": [
  {
   "cell_type": "code",
   "execution_count": null,
   "id": "f28e04fb",
   "metadata": {},
   "outputs": [],
   "source": [
    "import torch"
   ]
  },
  {
   "cell_type": "code",
   "execution_count": null,
   "id": "4cbe9def",
   "metadata": {},
   "outputs": [],
   "source": [
    "n_l = 3\n",
    "n_h = 4\n",
    "b = 1\n",
    "d_l = 10\n",
    "U = torch.rand(1, n_l, d_l)\n",
    "U_norm = torch.norm(U, dim=2)\n",
    "A = torch.rand(1, n_l, n_h)\n",
    "#\n",
    "torch.einsum(\"...ij,...i->...ij\", A, U_norm)"
   ]
  },
  {
   "cell_type": "code",
   "execution_count": null,
   "id": "2f798598",
   "metadata": {},
   "outputs": [],
   "source": [
    "C_r = torch.softmax(torch.rand(b, n_l, n_h) * 10, dim=-1)\n",
    "C_r"
   ]
  },
  {
   "cell_type": "code",
   "execution_count": null,
   "id": "e87784a8",
   "metadata": {},
   "outputs": [],
   "source": [
    "C_u = torch.softmax(torch.ones(b, n_l, n_h) / n_h, dim=-1)\n",
    "C_u"
   ]
  },
  {
   "cell_type": "code",
   "execution_count": null,
   "id": "f585daf7",
   "metadata": {},
   "outputs": [],
   "source": [
    "C_s = torch.Tensor([\n",
    "     [10,1,2, 1],\n",
    "     [8,1,3, 3],\n",
    "     [9, 2, 1, 2]\n",
    "])\n",
    "C_s = torch.softmax(C_s, dim=-1)\n",
    "C_s"
   ]
  },
  {
   "cell_type": "code",
   "execution_count": null,
   "id": "8bf8f0b3",
   "metadata": {},
   "outputs": [],
   "source": [
    "C_d = torch.Tensor([\n",
    "    [10, 1, 2, 1],\n",
    "    [3,3,1,8],\n",
    "    [2,1,9,2]\n",
    "])\n",
    "C_d = torch.softmax(C_d, dim=-1)\n",
    "C_d"
   ]
  },
  {
   "cell_type": "code",
   "execution_count": null,
   "id": "c5ee57f6",
   "metadata": {},
   "outputs": [],
   "source": []
  }
 ],
 "metadata": {
  "kernelspec": {
   "display_name": "Python 3 (ipykernel)",
   "language": "python",
   "name": "python3"
  },
  "language_info": {
   "codemirror_mode": {
    "name": "ipython",
    "version": 3
   },
   "file_extension": ".py",
   "mimetype": "text/x-python",
   "name": "python",
   "nbconvert_exporter": "python",
   "pygments_lexer": "ipython3",
   "version": "3.8.12"
  },
  "latex_envs": {
   "LaTeX_envs_menu_present": true,
   "autoclose": false,
   "autocomplete": true,
   "bibliofile": "biblio.bib",
   "cite_by": "apalike",
   "current_citInitial": 1,
   "eqLabelWithNumbers": true,
   "eqNumInitial": 1,
   "hotkeys": {
    "equation": "Ctrl-E",
    "itemize": "Ctrl-I"
   },
   "labels_anchors": false,
   "latex_user_defs": false,
   "report_style_numbering": false,
   "user_envs_cfg": false
  }
 },
 "nbformat": 4,
 "nbformat_minor": 5
}
