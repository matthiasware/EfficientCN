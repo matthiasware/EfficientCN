{
 "cells": [
  {
   "cell_type": "code",
   "execution_count": 1,
   "metadata": {},
   "outputs": [],
   "source": [
    "%load_ext autoreload\n",
    "%autoreload 2"
   ]
  },
  {
   "cell_type": "code",
   "execution_count": 40,
   "metadata": {},
   "outputs": [],
   "source": [
    "import sys\n",
    "sys.path.append(\"./..\")\n",
    "sys.path.append(\".\")"
   ]
  },
  {
   "cell_type": "code",
   "execution_count": 144,
   "metadata": {},
   "outputs": [],
   "source": [
    "from pathlib import Path\n",
    "import pprint\n",
    "import hashlib\n",
    "\n",
    "import torch\n",
    "import torchvision\n",
    "import torchvision.datasets as datasets\n",
    "import torchvision.transforms as T\n",
    "import torch.nn as nn\n",
    "import torch.nn.functional as F\n",
    "from torch.utils.data import Dataset\n",
    "from torch import optim\n",
    "from PIL import Image\n",
    "\n",
    "import matplotlib.pyplot as plt\n",
    "import numpy as np\n",
    "from dotted_dict import DottedDict\n",
    "#\n",
    "from effcn.layers import View, Squash\n",
    "from effcn.functions import margin_loss"
   ]
  },
  {
   "cell_type": "code",
   "execution_count": 43,
   "metadata": {},
   "outputs": [],
   "source": [
    "ds_train = datasets.MNIST(root='./data', train=True, download=True, transform=T.ToTensor())\n",
    "ds_valid = datasets.MNIST(root=\"./data\", train=False, download=True, transform=T.ToTensor())"
   ]
  },
  {
   "cell_type": "code",
   "execution_count": 44,
   "metadata": {},
   "outputs": [
    {
     "data": {
      "image/png": "[encoded data removed]",
      "text/plain": [
       "<Figure size 432x288 with 1 Axes>"
      ]
     },
     "metadata": {
      "needs_background": "light"
     },
     "output_type": "display_data"
    }
   ],
   "source": [
    "plt.imshow(ds_train.data[0], cmap='gray')\n",
    "plt.title('%i' % ds_train.targets[0])\n",
    "plt.show()"
   ]
  },
  {
   "cell_type": "code",
   "execution_count": 178,
   "metadata": {},
   "outputs": [],
   "source": [
    "dl_train = torch.utils.data.DataLoader(ds_train, \n",
    "                                          batch_size=256, \n",
    "                                          shuffle=True, \n",
    "                                          num_workers=4)\n",
    "dl_valid = torch.utils.data.DataLoader(ds_valid, \n",
    "                                          batch_size=16, \n",
    "                                          shuffle=True, \n",
    "                                          num_workers=4)"
   ]
  },
  {
   "cell_type": "code",
   "execution_count": 179,
   "metadata": {},
   "outputs": [],
   "source": [
    "class CNN_CR_SF(nn.Module):\n",
    "    def __init__(self):\n",
    "        super(CNN_CR_SF, self).__init__()\n",
    "        self.conv1 = nn.Sequential(         \n",
    "            nn.Conv2d(\n",
    "                in_channels=1,              \n",
    "                out_channels=256,            \n",
    "                kernel_size=9,              \n",
    "                stride=1,                   \n",
    "                padding=0,                  \n",
    "            ),                              \n",
    "            nn.ReLU(),\n",
    "        )\n",
    "        self.conv2 = nn.Sequential(         \n",
    "            nn.Conv2d(256, 256, 9, 2),     \n",
    "            nn.ReLU(),                                 \n",
    "        )\n",
    "        self.fc1 = nn.Linear(256 * 6 * 6, 16 * 8)\n",
    "        self.sq = Squash(eps=1e-20)\n",
    "        self.fc2 =  nn.Linear(16 * 8, 16 * 10)\n",
    "    \n",
    "    def forward(self,x):\n",
    "        x = self.conv1(x)\n",
    "        x = self.conv2(x)\n",
    "        x = torch.flatten(x, start_dim=1)\n",
    "        x = self.fc1(x)\n",
    "        x = x.view(-1,16,8)\n",
    "        x = self.sq(x)\n",
    "        x = torch.flatten(x, start_dim=1)\n",
    "        x = self.fc2(x)\n",
    "        x = x.view(-1,10,16)\n",
    "        x = self.sq(x)\n",
    "        return x"
   ]
  },
  {
   "cell_type": "code",
   "execution_count": 180,
   "metadata": {},
   "outputs": [
    {
     "name": "stdout",
     "output_type": "stream",
     "text": [
      "torch.Size([256, 1, 28, 28])\n",
      "torch.Size([256, 10, 16])\n",
      "tensor([0, 1, 6, 6, 4, 0, 3, 1, 5, 1, 7, 0, 0, 4, 9, 9, 0, 7, 7, 3, 2, 9, 6, 6,\n",
      "        0, 6, 8, 4, 4, 8, 9, 2, 1, 0, 1, 6, 8, 3, 4, 2, 3, 0, 5, 3, 6, 0, 7, 3,\n",
      "        8, 9, 3, 2, 4, 6, 0, 5, 2, 9, 3, 5, 2, 7, 1, 1, 3, 8, 7, 3, 6, 0, 3, 3,\n",
      "        8, 1, 0, 9, 1, 4, 2, 5, 2, 1, 7, 0, 4, 9, 2, 9, 6, 5, 5, 2, 4, 7, 5, 9,\n",
      "        2, 7, 7, 0, 5, 5, 0, 3, 0, 0, 8, 2, 6, 8, 9, 2, 3, 3, 6, 2, 6, 5, 3, 0,\n",
      "        0, 2, 6, 4, 1, 4, 1, 9, 5, 3, 5, 5, 5, 7, 6, 7, 2, 3, 1, 0, 5, 3, 9, 1,\n",
      "        9, 2, 1, 3, 3, 8, 8, 7, 9, 0, 1, 8, 4, 3, 7, 5, 6, 4, 4, 9, 1, 8, 2, 8,\n",
      "        6, 6, 1, 4, 6, 5, 3, 7, 7, 4, 3, 7, 3, 4, 9, 9, 6, 2, 1, 4, 9, 5, 8, 0,\n",
      "        3, 4, 8, 4, 6, 7, 2, 8, 3, 6, 1, 3, 0, 1, 0, 9, 0, 4, 3, 4, 8, 8, 3, 0,\n",
      "        7, 1, 7, 4, 2, 9, 8, 2, 3, 7, 7, 1, 7, 4, 9, 9, 8, 5, 6, 2, 7, 1, 2, 2,\n",
      "        5, 0, 7, 0, 9, 9, 6, 8, 3, 5, 6, 1, 4, 9, 2, 5])\n",
      "tensor(0.5321, grad_fn=<MeanBackward0>)\n"
     ]
    }
   ],
   "source": [
    "model = CNN_CR_SF()\n",
    "img, y = next(iter(dl_train))\n",
    "#img = ds_train[0][0]\n",
    "#img = torch.unsqueeze(img,dim=0)\n",
    "#y = ds_train[0][1]\n",
    "\n",
    "x = model(img)\n",
    "#model.fc1(x)\n",
    "\n",
    "print(img.shape)\n",
    "print(x.shape)\n",
    "print(y)\n",
    "y_one_hot = F.one_hot(y, num_classes=10)\n",
    "\n",
    "y_one_hot.shape\n",
    "\n",
    "print(margin_loss(x, y_one_hot))\n",
    "\n",
    "\n",
    "\n",
    "\n",
    "#x_norm = torch.norm(x, dim=2)\n",
    "#print(x_norm.shape)\n",
    "#print(x_norm)\n",
    "\n"
   ]
  },
  {
   "cell_type": "code",
   "execution_count": 181,
   "metadata": {},
   "outputs": [
    {
     "data": {
      "text/plain": [
       "torch.Size([1, 16, 8])"
      ]
     },
     "execution_count": 181,
     "metadata": {},
     "output_type": "execute_result"
    }
   ],
   "source": [
    "#ccn shape tp caps shape\n",
    "z = torch.zeros([1, 256, 6, 6])\n",
    "z.fill_(1)\n",
    "z = torch.flatten(z, start_dim=1)\n",
    "z = nn.Linear(256 * 6 * 6, 16 * 8)(z)\n",
    "z = z.view(-1,16,8)\n",
    "z.shape\n"
   ]
  },
  {
   "cell_type": "markdown",
   "metadata": {},
   "source": [
    "### Train Test"
   ]
  },
  {
   "cell_type": "code",
   "execution_count": 182,
   "metadata": {},
   "outputs": [],
   "source": [
    "loss_func = nn.CrossEntropyLoss() \n",
    "optimizer = optim.Adam(model.parameters(), lr = 0.01) "
   ]
  },
  {
   "cell_type": "code",
   "execution_count": 183,
   "metadata": {},
   "outputs": [
    {
     "name": "stdout",
     "output_type": "stream",
     "text": [
      "cuda\n",
      "Epoch[0/10] - step 0 loss: 0.5389\n",
      "Epoch[1/10] - step 0 loss: 0.5381\n",
      "Epoch[2/10] - step 0 loss: 0.5388\n",
      "Epoch[3/10] - step 0 loss: 0.5379\n",
      "Epoch[4/10] - step 0 loss: 0.5383\n",
      "Epoch[5/10] - step 0 loss: 0.5416\n",
      "Epoch[6/10] - step 0 loss: 0.5421\n",
      "Epoch[7/10] - step 0 loss: 0.5405\n",
      "Epoch[8/10] - step 0 loss: 0.5358\n",
      "Epoch[9/10] - step 0 loss: 0.5389\n"
     ]
    }
   ],
   "source": [
    "if torch.cuda.is_available():\n",
    "    dev = \"cuda\" \n",
    "else:  \n",
    "    dev = \"cpu\"  \n",
    "device = torch.device(dev)\n",
    "print(device)\n",
    "\n",
    "model = CNN_CR_SF()\n",
    "model.to(device)\n",
    "\n",
    "num_epochs = 10\n",
    "model.train()\n",
    "for epoch in range(num_epochs):\n",
    "    for idx, (x, y_true) in enumerate(dl_train):\n",
    "        x = x.to(device)\n",
    "        y_true = y_true.to(device)\n",
    "        \n",
    "        u = model.forward(x)\n",
    "        y_one_hot = F.one_hot(y_true, num_classes=10)\n",
    "        loss = margin_loss(u, y_one_hot)\n",
    "        #y_norm = torch.norm(y_pred, dim=-1)\n",
    "        #loss = loss_func(y_norm, y_true)\n",
    "\n",
    "        # clear gradients for this training step   \n",
    "        optimizer.zero_grad()           \n",
    "            \n",
    "        # backpropagation, compute gradients \n",
    "        loss.backward()    \n",
    "        # apply gradients             \n",
    "        optimizer.step()\n",
    "        \n",
    "        if idx % 1000 == 0:\n",
    "            print(\"Epoch[{}/{}] - step {} loss: {:.4f}\".format(epoch, num_epochs, idx, loss.item()))"
   ]
  }
 ],
 "metadata": {
  "interpreter": {
   "hash": "188faa17072d374bec02d17fca5e544867bade69f71230dfd1a560a6ca303930"
  },
  "kernelspec": {
   "display_name": "Python 3.9.7 64-bit ('EffCN': conda)",
   "language": "python",
   "name": "python3"
  },
  "language_info": {
   "codemirror_mode": {
    "name": "ipython",
    "version": 3
   },
   "file_extension": ".py",
   "mimetype": "text/x-python",
   "name": "python",
   "nbconvert_exporter": "python",
   "pygments_lexer": "ipython3",
   "version": "3.9.7"
  },
  "orig_nbformat": 4
 },
 "nbformat": 4,
 "nbformat_minor": 2
}
