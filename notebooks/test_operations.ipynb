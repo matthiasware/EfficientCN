{
 "cells": [
  {
   "cell_type": "code",
   "execution_count": 12,
   "id": "4f3ae572",
   "metadata": {},
   "outputs": [],
   "source": [
    "import torch\n",
    "import torch.nn as nn\n",
    "import numpy as np"
   ]
  },
  {
   "cell_type": "code",
   "execution_count": 4,
   "id": "69bffd99",
   "metadata": {},
   "outputs": [],
   "source": [
    "np.random.seed(0)"
   ]
  },
  {
   "cell_type": "markdown",
   "id": "e4214634",
   "metadata": {},
   "source": [
    "# Self Attention Routing"
   ]
  },
  {
   "cell_type": "code",
   "execution_count": 5,
   "id": "ed2503cc",
   "metadata": {},
   "outputs": [],
   "source": [
    "n_l = 3\n",
    "n_h = 2\n",
    "d_l = 4\n",
    "d_h = 5\n",
    "b = 1"
   ]
  },
  {
   "cell_type": "code",
   "execution_count": 6,
   "id": "3d957f4b",
   "metadata": {},
   "outputs": [],
   "source": [
    "W_np = np.random.random((n_l, n_h, d_l, d_h))\n",
    "B_np = np.random.random((n_l, n_h))\n",
    "U_l_np = np.random.random((b, n_l, d_l))"
   ]
  },
  {
   "cell_type": "code",
   "execution_count": 7,
   "id": "9c48e10f",
   "metadata": {},
   "outputs": [
    {
     "name": "stdout",
     "output_type": "stream",
     "text": [
      "[[[[0.5488135  0.71518937 0.60276338 0.54488318 0.4236548 ]\n",
      "   [0.64589411 0.43758721 0.891773   0.96366276 0.38344152]\n",
      "   [0.79172504 0.52889492 0.56804456 0.92559664 0.07103606]\n",
      "   [0.0871293  0.0202184  0.83261985 0.77815675 0.87001215]]\n",
      "\n",
      "  [[0.97861834 0.79915856 0.46147936 0.78052918 0.11827443]\n",
      "   [0.63992102 0.14335329 0.94466892 0.52184832 0.41466194]\n",
      "   [0.26455561 0.77423369 0.45615033 0.56843395 0.0187898 ]\n",
      "   [0.6176355  0.61209572 0.616934   0.94374808 0.6818203 ]]]\n",
      "\n",
      "\n",
      " [[[0.3595079  0.43703195 0.6976312  0.06022547 0.66676672]\n",
      "   [0.67063787 0.21038256 0.1289263  0.31542835 0.36371077]\n",
      "   [0.57019677 0.43860151 0.98837384 0.10204481 0.20887676]\n",
      "   [0.16130952 0.65310833 0.2532916  0.46631077 0.24442559]]\n",
      "\n",
      "  [[0.15896958 0.11037514 0.65632959 0.13818295 0.19658236]\n",
      "   [0.36872517 0.82099323 0.09710128 0.83794491 0.09609841]\n",
      "   [0.97645947 0.4686512  0.97676109 0.60484552 0.73926358]\n",
      "   [0.03918779 0.28280696 0.12019656 0.2961402  0.11872772]]]\n",
      "\n",
      "\n",
      " [[[0.31798318 0.41426299 0.0641475  0.69247212 0.56660145]\n",
      "   [0.26538949 0.52324805 0.09394051 0.5759465  0.9292962 ]\n",
      "   [0.31856895 0.66741038 0.13179786 0.7163272  0.28940609]\n",
      "   [0.18319136 0.58651293 0.02010755 0.82894003 0.00469548]]\n",
      "\n",
      "  [[0.67781654 0.27000797 0.73519402 0.96218855 0.24875314]\n",
      "   [0.57615733 0.59204193 0.57225191 0.22308163 0.95274901]\n",
      "   [0.44712538 0.84640867 0.69947928 0.29743695 0.81379782]\n",
      "   [0.39650574 0.8811032  0.58127287 0.88173536 0.69253159]]]]\n",
      "[[0.72525428 0.50132438]\n",
      " [0.95608363 0.6439902 ]\n",
      " [0.42385505 0.60639321]]\n",
      "[[[0.0191932  0.30157482 0.66017354 0.29007761]\n",
      "  [0.61801543 0.4287687  0.13547406 0.29828233]\n",
      "  [0.56996491 0.59087276 0.57432525 0.65320082]]]\n"
     ]
    }
   ],
   "source": [
    "print(W_np)\n",
    "print(B_np)\n",
    "print(U_l_np)"
   ]
  },
  {
   "cell_type": "markdown",
   "id": "44bb307a",
   "metadata": {},
   "source": [
    "#### Pytorch"
   ]
  },
  {
   "cell_type": "code",
   "execution_count": 8,
   "id": "98532345",
   "metadata": {},
   "outputs": [],
   "source": [
    "W = torch.from_numpy(W_np)\n",
    "B = torch.from_numpy(B_np)\n",
    "U_l = torch.from_numpy(U_l_np)"
   ]
  },
  {
   "cell_type": "code",
   "execution_count": 9,
   "id": "988a6296",
   "metadata": {},
   "outputs": [],
   "source": [
    "\"\"\"\n",
    "einsum convenventions:\n",
    "  n_l = i | h\n",
    "  d_l = j\n",
    "  n_h = k\n",
    "  d_h = l\n",
    "\"\"\"\n",
    "U_hat = torch.einsum('...ij,ikjl->...ikl', U_l, W)\n",
    "\n",
    "# A (n_l, n_l, n_h)\n",
    "A = torch.einsum(\"...ikl, ...hkl -> ...hik\", U_hat, U_hat)\n",
    "A = A / torch.sqrt(torch.Tensor([d_l]))\n",
    "A_sum = torch.einsum(\"...hij->...hj\",A)\n",
    "C = torch.softmax(A_sum,dim=-1)\n",
    "CB = C + B\n",
    "U_h = torch.einsum('...ikl,...ik->...kl', U_hat, CB)"
   ]
  },
  {
   "cell_type": "code",
   "execution_count": 43,
   "id": "bc6fd85e",
   "metadata": {},
   "outputs": [],
   "source": [
    "class FCCaps(nn.Module):\n",
    "    def __init__(self, n_l, n_h, d_l, d_h):\n",
    "        super().__init__()\n",
    "        self.n_l = n_l\n",
    "        self.d_l = d_l\n",
    "        self.n_h = n_h\n",
    "        self.d_h = d_h\n",
    "        #\n",
    "        self.W = torch.nn.Parameter(torch.rand(n_l, n_h, d_l, d_h))\n",
    "        self.B = torch.nn.Parameter(torch.rand(n_l, n_h))\n",
    "    def forward(self, U_l):\n",
    "        \"\"\"\n",
    "        einsum convenventions:\n",
    "          n_l = i | h\n",
    "          d_l = j\n",
    "          n_h = k\n",
    "          d_h = l\n",
    "        \n",
    "        Data tensors:\n",
    "            U_l (n_l, d_l)\n",
    "            U_h (n_h, d_h)\n",
    "            W   (n_l, n_h, d_l, d_h)\n",
    "            B   (n_l, n_h)\n",
    "            A   (n_l, n_l, n_h)\n",
    "            C   (n_l, n_h)\n",
    "        \"\"\"\n",
    "        U_hat = torch.einsum('...ij,ikjl->...ikl', U_l, W)\n",
    "        \n",
    "        # A (n_l, n_l, n_h)\n",
    "        A = torch.einsum(\"...ikl, ...hkl -> ...hik\", U_hat, U_hat)\n",
    "        \n",
    "        A = A / torch.sqrt(torch.Tensor([d_l]))\n",
    "        A_sum = torch.einsum(\"...hij->...hj\",A)\n",
    "        C = torch.softmax(A_sum,dim=-1)\n",
    "        CB = C + B\n",
    "        U_h = torch.einsum('...ikl,...ik->...kl', U_hat, CB)\n",
    "        return U_h\n"
   ]
  },
  {
   "cell_type": "code",
   "execution_count": 39,
   "id": "ddd4d5e3",
   "metadata": {},
   "outputs": [],
   "source": [
    "model = FCCaps(n_l, n_h, d_l, d_h)"
   ]
  },
  {
   "cell_type": "code",
   "execution_count": 40,
   "id": "942dd3f6",
   "metadata": {},
   "outputs": [],
   "source": [
    "U_h = model(U_l)"
   ]
  },
  {
   "cell_type": "code",
   "execution_count": 41,
   "id": "fe95d78f",
   "metadata": {},
   "outputs": [
    {
     "data": {
      "text/plain": [
       "torch.Size([1, 2, 5])"
      ]
     },
     "execution_count": 41,
     "metadata": {},
     "output_type": "execute_result"
    }
   ],
   "source": [
    "U_h.shape"
   ]
  },
  {
   "cell_type": "code",
   "execution_count": null,
   "id": "a379597d",
   "metadata": {},
   "outputs": [],
   "source": [
    "CB"
   ]
  },
  {
   "cell_type": "code",
   "execution_count": null,
   "id": "6023628f",
   "metadata": {},
   "outputs": [],
   "source": [
    "C.shape"
   ]
  },
  {
   "cell_type": "code",
   "execution_count": null,
   "id": "28ee670b",
   "metadata": {},
   "outputs": [],
   "source": [
    "B.shape"
   ]
  },
  {
   "cell_type": "markdown",
   "id": "72e8fc42",
   "metadata": {},
   "source": [
    "#### Tensorflow"
   ]
  },
  {
   "cell_type": "code",
   "execution_count": null,
   "id": "8746e992",
   "metadata": {},
   "outputs": [],
   "source": [
    "\"\"\"\n",
    " code from paper\n",
    " should give same results ;)\n",
    "\"\"\"\n",
    "W = tf.convert_to_tensor(W_np)\n",
    "B = tf.convert_to_tensor(B_np)\n",
    "U_l = tf.convert_to_tensor(U_l_np)\n",
    "#\n",
    "# (n_l, n_h, d_l, d_h) - > (n_h, n_l, d_l, d_h)\n",
    "W = tf.transpose(W, (1,0,2,3))\n",
    "\n",
    "# (n_l, n_h) -> (n_h, n_l)\n",
    "B = tf.transpose(B, (1, 0))\n",
    "B = tf.expand_dims(B, axis=-1)\n",
    "#\n",
    "u = tf.einsum('...ji,kjiz->...kjz',U_l,W)\n",
    "c = tf.einsum('...ij,...kj->...i', u, u)[...,None]\n",
    "c = c/tf.sqrt(tf.cast(d_l, tf.float64))\n",
    "c = tf.nn.softmax(c, axis=1)\n",
    "cb = c + B\n",
    "s = tf.reduce_sum(tf.multiply(u, cb),axis=-2) "
   ]
  },
  {
   "cell_type": "markdown",
   "id": "c939d644",
   "metadata": {},
   "source": [
    "# Squashing"
   ]
  },
  {
   "cell_type": "code",
   "execution_count": null,
   "id": "bedf5644",
   "metadata": {},
   "outputs": [],
   "source": []
  }
 ],
 "metadata": {
  "kernelspec": {
   "display_name": "Python 3 (ipykernel)",
   "language": "python",
   "name": "python3"
  },
  "language_info": {
   "codemirror_mode": {
    "name": "ipython",
    "version": 3
   },
   "file_extension": ".py",
   "mimetype": "text/x-python",
   "name": "python",
   "nbconvert_exporter": "python",
   "pygments_lexer": "ipython3",
   "version": "3.8.12"
  }
 },
 "nbformat": 4,
 "nbformat_minor": 5
}
