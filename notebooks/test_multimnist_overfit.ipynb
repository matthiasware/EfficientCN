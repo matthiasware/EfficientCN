{
 "cells": [
  {
   "cell_type": "code",
   "execution_count": 1,
   "metadata": {},
   "outputs": [],
   "source": [
    "%load_ext autoreload\n",
    "%autoreload 2"
   ]
  },
  {
   "cell_type": "code",
   "execution_count": 2,
   "metadata": {},
   "outputs": [],
   "source": [
    "import sys\n",
    "sys.path.append(\"./..\")\n",
    "sys.path.append(\".\")"
   ]
  },
  {
   "cell_type": "code",
   "execution_count": 3,
   "metadata": {},
   "outputs": [],
   "source": [
    "# default libraries\n",
    "import time\n",
    "import datetime\n",
    "import pickle\n",
    "import pprint\n",
    "from pathlib import Path\n",
    "import math\n",
    "\n",
    "\n",
    "# third party libraries\n",
    "import torch\n",
    "import torchvision\n",
    "import torchvision.transforms as T\n",
    "import torch.nn as nn\n",
    "import torch.nn.functional as F\n",
    "from torch import optim\n",
    "from torch.utils.tensorboard import SummaryWriter\n",
    "\n",
    "import matplotlib.pyplot as plt\n",
    "import numpy as np\n",
    "from tqdm import tqdm\n",
    "from dotted_dict import DottedDict\n",
    "\n",
    "# local imports\n",
    "from effcn.models_multimnist import MultiMnistEffCapsNet\n",
    "from effcn.functions import create_margin_loss\n",
    "from effcn.utils import count_parameters\n",
    "from datasets.multimnist import MultiMNist\n",
    "from misc.optimizer import get_optimizer, get_scheduler\n"
   ]
  },
  {
   "cell_type": "code",
   "execution_count": 4,
   "metadata": {},
   "outputs": [
    {
     "data": {
      "text/plain": [
       "1"
      ]
     },
     "execution_count": 4,
     "metadata": {},
     "output_type": "execute_result"
    }
   ],
   "source": [
    "a = [1,2,3]\n",
    "\n",
    "x,y,z = a\n",
    "\n",
    "x"
   ]
  },
  {
   "cell_type": "code",
   "execution_count": 5,
   "metadata": {},
   "outputs": [],
   "source": [
    "ds_train = MultiMNist(root='/mnt/data/datasets/multimnist_10',train=True, transform=None, generate=False)\n",
    "ds_valid = MultiMNist(root='/mnt/data/datasets/multimnist_10',train=False, transform=None, generate=False)\n",
    "\n"
   ]
  },
  {
   "cell_type": "code",
   "execution_count": 6,
   "metadata": {},
   "outputs": [],
   "source": [
    "dl_train = torch.utils.data.DataLoader(ds_train, \n",
    "                                    batch_size=8, \n",
    "                                    shuffle=False)"
   ]
  },
  {
   "cell_type": "code",
   "execution_count": 7,
   "metadata": {},
   "outputs": [],
   "source": [
    "x,y,z,a,b = next(iter(dl_train))"
   ]
  },
  {
   "cell_type": "code",
   "execution_count": 8,
   "metadata": {},
   "outputs": [],
   "source": [
    "#x,y,z,a,b =  ds_train[0]\n",
    "#x2,y2,z2,a2,b2 =  ds_valid[0]"
   ]
  },
  {
   "cell_type": "code",
   "execution_count": 9,
   "metadata": {},
   "outputs": [
    {
     "name": "stdout",
     "output_type": "stream",
     "text": [
      "torch.Size([8, 1, 36, 36])\n",
      "torch.Size([8])\n",
      "torch.Size([8])\n",
      "torch.Size([8, 1, 36, 36])\n",
      "torch.Size([8, 1, 36, 36])\n"
     ]
    }
   ],
   "source": [
    "print(x.shape)\n",
    "print(y.shape)\n",
    "print(z.shape)\n",
    "print(a.shape)\n",
    "print(b.shape)"
   ]
  },
  {
   "cell_type": "code",
   "execution_count": 10,
   "metadata": {},
   "outputs": [
    {
     "data": {
      "text/plain": [
       "'\\n# plot train imgs\\nx, y, z, a, b = next(iter(ds_train))\\nimg = torchvision.utils.make_grid([x,a,b], nrow=8)\\nimg = img.permute((1,2,0))\\nplt.imshow(img)\\nplt.show()\\n'"
      ]
     },
     "execution_count": 10,
     "metadata": {},
     "output_type": "execute_result"
    }
   ],
   "source": [
    "\"\"\"\n",
    "# plot train imgs\n",
    "x, y, z, a, b = next(iter(ds_train))\n",
    "img = torchvision.utils.make_grid([x,a,b], nrow=8)\n",
    "img = img.permute((1,2,0))\n",
    "plt.imshow(img)\n",
    "plt.show()\n",
    "\"\"\""
   ]
  },
  {
   "cell_type": "code",
   "execution_count": 11,
   "metadata": {},
   "outputs": [],
   "source": [
    "\n",
    "y_ticks = [\"x\", 'a', 'b']\n",
    "x_ticks = torch.transpose(torch.cat((torch.unsqueeze(y,dim=0), torch.unsqueeze(z,dim=0)),dim=0), 0, 1).tolist()\n",
    "\n",
    "\n",
    "img = torchvision.utils.make_grid(torch.cat([x,a,b], dim=0), nrow=x.shape[0])\n",
    "\n",
    "#torch.cat([x,a,b], dim=0), nrow=x.shape[0])\n",
    "\n",
    "\n",
    "\n",
    "#img = img.permute((1,2,0))\n",
    "\n",
    "y_ticks = [\"x\", 'a', 'b']\n",
    "x_ticks = torch.transpose(torch.cat((torch.unsqueeze(y,dim=0), torch.unsqueeze(z,dim=0)),dim=0), 0, 1).tolist()\n",
    "\n",
    "fig, ax = plt.subplots()\n",
    "\n",
    "ax.imshow(img.permute((1,2,0)))\n",
    "ax.set_yticks((np.arange(len(y_ticks))*(x.shape[-1]+2)+(x.shape[-1]/2)), labels=y_ticks)\n",
    "ax.set_xticks((np.arange(len(x_ticks))*(x.shape[-1]+2)+(x.shape[-1]/2)), labels=x_ticks)\n",
    "fig.tight_layout()\n",
    "\n",
    "\n",
    "\n",
    "fig.savefig(\"/mnt/data/experiments/EfficientCN/multimnist_overfit/img_valid_xx.png\")\n",
    "plt.close()"
   ]
  },
  {
   "cell_type": "code",
   "execution_count": 12,
   "metadata": {},
   "outputs": [
    {
     "data": {
      "text/plain": [
       "[[5, 7], [5, 6], [5, 7], [5, 1], [5, 0], [5, 9], [5, 8], [5, 9]]"
      ]
     },
     "execution_count": 12,
     "metadata": {},
     "output_type": "execute_result"
    }
   ],
   "source": [
    "torch.transpose(torch.cat((torch.unsqueeze(y,dim=0), torch.unsqueeze(z,dim=0)),dim=0), 0, 1).tolist()\n"
   ]
  },
  {
   "cell_type": "code",
   "execution_count": 13,
   "metadata": {},
   "outputs": [
    {
     "data": {
      "text/plain": [
       "1"
      ]
     },
     "execution_count": 13,
     "metadata": {},
     "output_type": "execute_result"
    }
   ],
   "source": [
    "x.shape[1]"
   ]
  },
  {
   "cell_type": "code",
   "execution_count": 14,
   "metadata": {},
   "outputs": [
    {
     "data": {
      "text/plain": [
       "array([0, 1, 2])"
      ]
     },
     "execution_count": 14,
     "metadata": {},
     "output_type": "execute_result"
    }
   ],
   "source": [
    "np.arange(len(y_ticks))*x.shape[1]"
   ]
  },
  {
   "cell_type": "code",
   "execution_count": 15,
   "metadata": {},
   "outputs": [
    {
     "data": {
      "text/plain": [
       "array([ 18.,  54.,  90., 126., 162., 198., 234., 270.])"
      ]
     },
     "execution_count": 15,
     "metadata": {},
     "output_type": "execute_result"
    }
   ],
   "source": [
    "np.arange(len(x_ticks))*x.shape[-1]+(x.shape[-1]/2)"
   ]
  },
  {
   "cell_type": "code",
   "execution_count": 16,
   "metadata": {},
   "outputs": [
    {
     "data": {
      "text/plain": [
       "36"
      ]
     },
     "execution_count": 16,
     "metadata": {},
     "output_type": "execute_result"
    }
   ],
   "source": [
    "x.shape[-1]"
   ]
  },
  {
   "cell_type": "code",
   "execution_count": 17,
   "metadata": {},
   "outputs": [
    {
     "name": "stdout",
     "output_type": "stream",
     "text": [
      "torch.Size([24, 1, 36, 36])\n",
      "torch.Size([3, 116, 306])\n"
     ]
    }
   ],
   "source": [
    "print(torch.cat([x,a,b], dim=0).shape)\n",
    "\n",
    "print(img.shape)"
   ]
  },
  {
   "cell_type": "code",
   "execution_count": 28,
   "metadata": {},
   "outputs": [
    {
     "data": {
      "text/plain": [
       "MultiMnistEcnDecoder(\n",
       "  (layers): Sequential(\n",
       "    (0): Linear(in_features=160, out_features=512, bias=True)\n",
       "    (1): ReLU(inplace=True)\n",
       "    (2): Linear(in_features=512, out_features=1024, bias=True)\n",
       "    (3): ReLU(inplace=True)\n",
       "    (4): Linear(in_features=1024, out_features=1296, bias=True)\n",
       "    (5): Sigmoid()\n",
       "  )\n",
       ")"
      ]
     },
     "execution_count": 28,
     "metadata": {},
     "output_type": "execute_result"
    }
   ],
   "source": [
    "model = MultiMnistEffCapsNet()\n",
    "\n",
    "model.decoder1"
   ]
  }
 ],
 "metadata": {
  "interpreter": {
   "hash": "188faa17072d374bec02d17fca5e544867bade69f71230dfd1a560a6ca303930"
  },
  "kernelspec": {
   "display_name": "Python 3.9.7 ('EffCN': conda)",
   "language": "python",
   "name": "python3"
  },
  "language_info": {
   "codemirror_mode": {
    "name": "ipython",
    "version": 3
   },
   "file_extension": ".py",
   "mimetype": "text/x-python",
   "name": "python",
   "nbconvert_exporter": "python",
   "pygments_lexer": "ipython3",
   "version": "3.9.7"
  },
  "orig_nbformat": 4
 },
 "nbformat": 4,
 "nbformat_minor": 2
}
