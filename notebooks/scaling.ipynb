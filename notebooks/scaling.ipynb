{
 "cells": [
  {
   "cell_type": "code",
   "execution_count": null,
   "id": "95207229",
   "metadata": {},
   "outputs": [],
   "source": [
    "import sys\n",
    "sys.path.append(\"./..\")\n",
    "\n",
    "\n",
    "import torch\n",
    "import torch.nn as nn\n",
    "from misc.utils import count_parameters"
   ]
  },
  {
   "cell_type": "code",
   "execution_count": null,
   "id": "5f984cca",
   "metadata": {},
   "outputs": [],
   "source": [
    "ch_in = 1\n",
    "output_caps = 32\n",
    "output_dim = 8\n",
    "model = nn.Sequential(\n",
    "    nn.Conv2d(ch_in, 256, stride=1, kernel_size=9),\n",
    "    nn.Conv2d(256, output_caps*output_dim, kernel_size=9, stride=2)\n",
    ")"
   ]
  },
  {
   "cell_type": "code",
   "execution_count": null,
   "id": "da1526db",
   "metadata": {},
   "outputs": [],
   "source": [
    "# PrimaryCapsule(256, 256, 8, kernel_size=9, stride=2, padding=0)"
   ]
  },
  {
   "cell_type": "code",
   "execution_count": null,
   "id": "da0f0713",
   "metadata": {},
   "outputs": [],
   "source": [
    "count_parameters(model)"
   ]
  },
  {
   "cell_type": "code",
   "execution_count": null,
   "id": "3a400a1a",
   "metadata": {},
   "outputs": [],
   "source": [
    "h = w = 224\n",
    "x = torch.rand(1, ch_in, h, w)\n",
    "x.shape"
   ]
  },
  {
   "cell_type": "code",
   "execution_count": null,
   "id": "8349ac0b",
   "metadata": {},
   "outputs": [],
   "source": [
    "y = model(x)\n",
    "N, C, H, W = y.size()\n",
    "y = y.view(N, output_caps, output_dim, H, W)\n",
    "y = y.permute(0, 1, 3, 4, 2).contiguous()\n",
    "y = y.view(y.size(0), -1, y.size(4))\n",
    "y.shape"
   ]
  },
  {
   "cell_type": "code",
   "execution_count": null,
   "id": "008971fe",
   "metadata": {},
   "outputs": [],
   "source": [
    "y = model(x)\n",
    "y.shape"
   ]
  },
  {
   "cell_type": "code",
   "execution_count": null,
   "id": "008dc973",
   "metadata": {},
   "outputs": [],
   "source": [
    "28**2"
   ]
  },
  {
   "cell_type": "code",
   "execution_count": null,
   "id": "f81faae5",
   "metadata": {},
   "outputs": [],
   "source": []
  }
 ],
 "metadata": {
  "kernelspec": {
   "display_name": "Python 3 (ipykernel)",
   "language": "python",
   "name": "python3"
  },
  "language_info": {
   "codemirror_mode": {
    "name": "ipython",
    "version": 3
   },
   "file_extension": ".py",
   "mimetype": "text/x-python",
   "name": "python",
   "nbconvert_exporter": "python",
   "pygments_lexer": "ipython3",
   "version": "3.8.12"
  },
  "latex_envs": {
   "LaTeX_envs_menu_present": true,
   "autoclose": false,
   "autocomplete": true,
   "bibliofile": "biblio.bib",
   "cite_by": "apalike",
   "current_citInitial": 1,
   "eqLabelWithNumbers": true,
   "eqNumInitial": 1,
   "hotkeys": {
    "equation": "Ctrl-E",
    "itemize": "Ctrl-I"
   },
   "labels_anchors": false,
   "latex_user_defs": false,
   "report_style_numbering": false,
   "user_envs_cfg": false
  }
 },
 "nbformat": 4,
 "nbformat_minor": 5
}
