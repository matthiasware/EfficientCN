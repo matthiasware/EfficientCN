{
 "cells": [
  {
   "cell_type": "code",
   "execution_count": 2,
   "metadata": {},
   "outputs": [],
   "source": [
    "%load_ext autoreload\n",
    "%autoreload 2"
   ]
  },
  {
   "cell_type": "code",
   "execution_count": 5,
   "metadata": {},
   "outputs": [],
   "source": [
    "import sys\n",
    "sys.path.append(\"./../..\")"
   ]
  },
  {
   "cell_type": "code",
   "execution_count": 43,
   "metadata": {},
   "outputs": [],
   "source": [
    "import torch\n",
    "#\n",
    "import matplotlib.pyplot as plt\n",
    "import numpy as np\n",
    "#\n",
    "from effcn.functions import max_norm_masking\n",
    "from effcn.models_mnist import EffCapsNet, CNN_CR_SF, CNN_CR, CNN_R, CapsNet, BaselineCNN, Backbone, Decoder, BackboneHinton\n",
    "from misc.utils import count_parameters"
   ]
  },
  {
   "cell_type": "code",
   "execution_count": 44,
   "metadata": {},
   "outputs": [],
   "source": [
    "m1 = EffCapsNet()\n",
    "m2 = CNN_CR_SF()\n",
    "m3 = CNN_CR()\n",
    "m4 = CNN_R()\n",
    "m5 = CapsNet()\n",
    "m6 = BaselineCNN()\n",
    "m7 = Backbone()\n",
    "m8 = Decoder()\n",
    "m9 = BackboneHinton()"
   ]
  },
  {
   "cell_type": "code",
   "execution_count": 45,
   "metadata": {},
   "outputs": [],
   "source": [
    "c1 = count_parameters(EffCapsNet())\n",
    "c2 = count_parameters(CNN_CR_SF())\n",
    "c3 = count_parameters(CNN_CR())\n",
    "c4 = count_parameters(CNN_R())\n",
    "c5 = count_parameters(CapsNet())\n",
    "c6 = count_parameters(BaselineCNN())\n",
    "c7 = count_parameters(Backbone())\n",
    "c8 = count_parameters(Decoder())\n",
    "c9 = count_parameters(BackboneHinton())"
   ]
  },
  {
   "cell_type": "code",
   "execution_count": 46,
   "metadata": {},
   "outputs": [
    {
     "name": "stdout",
     "output_type": "stream",
     "text": [
      "EffCapsNet: 1573168\n",
      "CNN_CR_SF: 7941424\n",
      "CNN_CR: 8215728\n",
      "CNN_R: 8217338\n",
      "CapsNet: 8227600\n",
      "BaselineCNN: 28938\n",
      "Backbone: 130688\n",
      "Decoder: 1411344\n",
      "BackboneHinton: 21504\n"
     ]
    }
   ],
   "source": [
    "print('EffCapsNet: {}'.format(c1))\n",
    "print('CNN_CR_SF: {}'.format(c2))\n",
    "print('CNN_CR: {}'.format(c3))\n",
    "print('CNN_R: {}'.format(c4))\n",
    "print('CapsNet: {}'.format(c5))\n",
    "print('BaselineCNN: {}'.format(c6))\n",
    "print('Backbone: {}'.format(c7))\n",
    "print('Decoder: {}'.format(c8))\n",
    "print('BackboneHinton: {}'.format(c9))"
   ]
  },
  {
   "cell_type": "code",
   "execution_count": 47,
   "metadata": {},
   "outputs": [
    {
     "name": "stdout",
     "output_type": "stream",
     "text": [
      "1.0\n",
      "5.048045726839091\n",
      "5.222409812556574\n",
      "5.223433225186375\n",
      "5.229956368296329\n",
      "0.018394729615654526\n",
      "0.08307313649908973\n",
      "0.8971349531645698\n",
      "0.013669233038048066\n"
     ]
    }
   ],
   "source": [
    "print(c1/c1)\n",
    "print(c2/c1)\n",
    "print(c3/c1)\n",
    "print(c4/c1)\n",
    "print(c5/c1)\n",
    "print(c6/c1)\n",
    "print(c7/c1)\n",
    "print(c8/c1)\n",
    "print(c9/c1)"
   ]
  },
  {
   "cell_type": "code",
   "execution_count": null,
   "metadata": {},
   "outputs": [],
   "source": []
  }
 ],
 "metadata": {
  "interpreter": {
   "hash": "188faa17072d374bec02d17fca5e544867bade69f71230dfd1a560a6ca303930"
  },
  "kernelspec": {
   "display_name": "Python 3.9.7 ('EffCN': conda)",
   "language": "python",
   "name": "python3"
  },
  "language_info": {
   "codemirror_mode": {
    "name": "ipython",
    "version": 3
   },
   "file_extension": ".py",
   "mimetype": "text/x-python",
   "name": "python",
   "nbconvert_exporter": "python",
   "pygments_lexer": "ipython3",
   "version": "3.9.7"
  },
  "orig_nbformat": 4
 },
 "nbformat": 4,
 "nbformat_minor": 2
}
