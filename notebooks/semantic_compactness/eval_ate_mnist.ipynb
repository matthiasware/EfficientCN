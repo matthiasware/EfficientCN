{
 "cells": [
  {
   "cell_type": "code",
   "execution_count": 1,
   "metadata": {},
   "outputs": [],
   "source": [
    "%load_ext autoreload\n",
    "%autoreload 2"
   ]
  },
  {
   "cell_type": "code",
   "execution_count": 2,
   "metadata": {},
   "outputs": [],
   "source": [
    "import sys\n",
    "sys.path.append(\"./../..\")"
   ]
  },
  {
   "cell_type": "code",
   "execution_count": 3,
   "metadata": {},
   "outputs": [],
   "source": [
    "from pathlib import Path\n",
    "import math\n",
    "import pickle\n",
    "#\n",
    "import torch\n",
    "import torchvision\n",
    "from torchvision import utils\n",
    "import torchvision.transforms as T\n",
    "import torchvision.datasets as datasets\n",
    "#\n",
    "import matplotlib.pyplot as plt\n",
    "import matplotlib.image as mpimg\n",
    "import numpy as np\n",
    "from tqdm import tqdm\n",
    "#\n",
    "from misc.plot_utils import plot_mat, imshow\n",
    "from effcn.functions import max_norm_masking\n",
    "from effcn.models_mnist import Backbone, Decoder, EffCapsNet, CNN_CR_SF, CNN_CR, CNN_R"
   ]
  },
  {
   "cell_type": "markdown",
   "metadata": {},
   "source": [
    "### Preprocessing"
   ]
  },
  {
   "cell_type": "code",
   "execution_count": 4,
   "metadata": {},
   "outputs": [
    {
     "data": {
      "text/plain": [
       "device(type='cuda')"
      ]
     },
     "execution_count": 4,
     "metadata": {},
     "output_type": "execute_result"
    }
   ],
   "source": [
    "device = torch.device(\"cuda\")\n",
    "device"
   ]
  },
  {
   "cell_type": "code",
   "execution_count": 5,
   "metadata": {},
   "outputs": [
    {
     "data": {
      "text/plain": [
       "False"
      ]
     },
     "execution_count": 5,
     "metadata": {},
     "output_type": "execute_result"
    }
   ],
   "source": [
    "p_experiment = \"/mnt/data/experiments/EfficientCN/mnist/effcn_mnist_CNN_R_2022_02_01_19_25_57\"\n",
    "p_experiment = Path(p_experiment)\n",
    "p_ckpts = p_experiment / \"ckpts\"\n",
    "p_data = Path(\"/mnt/data/datasets\")\n",
    "p_model = p_ckpts / \"model_150.ckpt\"\n",
    "p_model.exists()"
   ]
  },
  {
   "cell_type": "code",
   "execution_count": 7,
   "metadata": {},
   "outputs": [
    {
     "ename": "NameError",
     "evalue": "name 'MnistEffCapsNet' is not defined",
     "output_type": "error",
     "traceback": [
      "\u001b[0;31m---------------------------------------------------------------------------\u001b[0m",
      "\u001b[0;31mNameError\u001b[0m                                 Traceback (most recent call last)",
      "\u001b[1;32m/home/mkoch/projects/EfficientCN/notebooks/semantic_compactness/eval_ate_mnist.ipynb Cell 7'\u001b[0m in \u001b[0;36m<module>\u001b[0;34m\u001b[0m\n\u001b[0;32m----> <a href='vscode-notebook-cell://ssh-remote%2Bamy.inf-i2.uni-jena.de/home/mkoch/projects/EfficientCN/notebooks/semantic_compactness/eval_ate_mnist.ipynb#ch0000006vscode-remote?line=0'>1</a>\u001b[0m model \u001b[39m=\u001b[39m MnistEffCapsNet()\n\u001b[1;32m      <a href='vscode-notebook-cell://ssh-remote%2Bamy.inf-i2.uni-jena.de/home/mkoch/projects/EfficientCN/notebooks/semantic_compactness/eval_ate_mnist.ipynb#ch0000006vscode-remote?line=1'>2</a>\u001b[0m \u001b[39m#model = MnistCNN_R()\u001b[39;00m\n\u001b[1;32m      <a href='vscode-notebook-cell://ssh-remote%2Bamy.inf-i2.uni-jena.de/home/mkoch/projects/EfficientCN/notebooks/semantic_compactness/eval_ate_mnist.ipynb#ch0000006vscode-remote?line=2'>3</a>\u001b[0m model\u001b[39m.\u001b[39mload_state_dict(torch\u001b[39m.\u001b[39mload(p_model))\n",
      "\u001b[0;31mNameError\u001b[0m: name 'MnistEffCapsNet' is not defined"
     ]
    }
   ],
   "source": [
    "model = MnistEffCapsNet()\n",
    "#model = MnistCNN_R()\n",
    "model.load_state_dict(torch.load(p_model))\n",
    "model = model.to(device)\n",
    "model.eval()"
   ]
  },
  {
   "cell_type": "code",
   "execution_count": null,
   "metadata": {},
   "outputs": [],
   "source": [
    "ds_train = datasets.MNIST(root=p_data, train=True, download=True)#, transform=T.ToTensor(), target_transform=T.ToTensor())\n",
    "ds_valid = datasets.MNIST(root=p_data, train=False, download=True)#, transform=None, target_transform=T.ToTensor())\n",
    "  "
   ]
  },
  {
   "cell_type": "code",
   "execution_count": null,
   "metadata": {},
   "outputs": [],
   "source": [
    "idx = 2\n",
    "\n",
    "print(len(ds_train.data))\n",
    "\n",
    "x = ds_train.data[idx]\n",
    "y = ds_train.targets[idx]\n",
    "\n",
    "\n",
    "\n",
    "x = torch.unsqueeze(torch.unsqueeze(x,dim=0),dim=0).float()\n",
    "y = torch.unsqueeze(y,dim=0)\n",
    "\n",
    "print(x.size())\n",
    "print(y.size(), y)"
   ]
  },
  {
   "cell_type": "markdown",
   "metadata": {},
   "source": [
    "### Generate Capsuls for influenced Reconstruction"
   ]
  },
  {
   "cell_type": "code",
   "execution_count": null,
   "metadata": {},
   "outputs": [],
   "source": [
    "x = x.to(device)\n",
    "uh, _ = model.forward(x)"
   ]
  },
  {
   "cell_type": "code",
   "execution_count": null,
   "metadata": {},
   "outputs": [],
   "source": [
    "print(uh.size())"
   ]
  },
  {
   "cell_type": "code",
   "execution_count": null,
   "metadata": {},
   "outputs": [],
   "source": [
    "m_uh = max_norm_masking(uh)\n",
    "m_uh = torch.flatten(m_uh, start_dim=1)\n",
    "x_rec = model.decoder(m_uh)"
   ]
  },
  {
   "cell_type": "code",
   "execution_count": null,
   "metadata": {},
   "outputs": [],
   "source": [
    "def imshow(img, cmap=\"gray\", vmin=None, vmax=None):\n",
    "    npimg = img.detach().cpu().numpy()\n",
    "    plt.imshow(np.transpose(npimg, (1, 2, 0)), cmap=cmap, vmin=None, vmax=None)\n",
    "    plt.show()"
   ]
  },
  {
   "cell_type": "code",
   "execution_count": null,
   "metadata": {},
   "outputs": [],
   "source": [
    "imshow(torch.squeeze(x_rec,dim=0))"
   ]
  },
  {
   "cell_type": "code",
   "execution_count": null,
   "metadata": {},
   "outputs": [],
   "source": [
    "print(torch.argmax(uh,dim=2))\n",
    "\n",
    "sq_uh = torch.squeeze(uh,dim=0)\n",
    "a = torch.norm(sq_uh, dim=1)\n",
    "plt.bar(np.arange(0,10,1), a.detach().cpu().numpy())\n",
    "plt.show()\n",
    "\n",
    "i_cap = torch.argmax(torch.norm(uh, dim=2))\n",
    "ref = uh[:,i_cap,:]\n",
    "\n",
    "uh_delta = uh.clone()\n",
    "uh_delta[:,i_cap,:] += torch.tensor([0.1,0,-0.1,0,0,0,0.1,0,0,0,0,0,0,0,0,0]).to(device)\n",
    "delta = uh_delta[:,i_cap,:]\n",
    "\n",
    "torch.manual_seed(42)\n",
    "uh_delta2 = uh.clone()\n",
    "uh_delta2[:,i_cap,:] += (torch.rand(16).to(device)-0.5) * 0.1\n",
    "delta2 = uh_delta2[:,i_cap,:]\n",
    "\n",
    "print(torch.squeeze(ref,dim=0))\n",
    "plt.plot(torch.squeeze(ref,dim=0).detach().cpu().numpy(),\"b*\")\n",
    "print(torch.squeeze(delta,dim=0))\n",
    "plt.plot(torch.squeeze(delta,dim=0).detach().cpu().numpy(),\"r*\")\n",
    "print(torch.squeeze(delta2,dim=0))\n",
    "plt.plot(torch.squeeze(delta2,dim=0).detach().cpu().numpy(),\"g*\")\n",
    "plt.show()\n",
    "\n",
    "\n",
    "\n",
    "\n",
    "uh_n = torch.cat((uh, uh_delta, uh_delta2), dim=0)  \n",
    "\n",
    "uh_n.size()\n",
    "\n",
    "#print(uh_delta-uh)\n"
   ]
  },
  {
   "cell_type": "code",
   "execution_count": null,
   "metadata": {},
   "outputs": [],
   "source": [
    "m_uh_n = max_norm_masking(uh_n)\n",
    "m_uh_n = torch.flatten(m_uh_n, start_dim=1)\n",
    "x_rec_n = model.decoder(m_uh_n)"
   ]
  },
  {
   "cell_type": "code",
   "execution_count": null,
   "metadata": {},
   "outputs": [],
   "source": [
    "print(x_rec_n.size())\n",
    "rec = x_rec_n.cpu()\n",
    "scal = lambda x: (x-x.min())/(x.max()-x.min())\n",
    "img = torchvision.utils.make_grid(torch.cat([scal(rec)], dim=0), nrow=rec.shape[0])\n",
    "plt.imshow(img.permute(1,2,0))\n",
    "plt.show()"
   ]
  },
  {
   "cell_type": "markdown",
   "metadata": {},
   "source": [
    "### Prepare affine transformations embedding"
   ]
  },
  {
   "cell_type": "code",
   "execution_count": null,
   "metadata": {},
   "outputs": [],
   "source": [
    "x_aff = T.functional.affine(img=x, angle=0, translate=[0,0], scale=1.,shear=0)\n",
    "\n",
    "imshow(torch.squeeze(x_aff,dim=0))"
   ]
  },
  {
   "cell_type": "code",
   "execution_count": null,
   "metadata": {},
   "outputs": [],
   "source": [
    "def affine_xtrans(img, target, range=[-5.,5.,1]):\n",
    "    arange = np.arange(range[0],(range[1]+range[2]),range[2])\n",
    "    x_trans = torch.zeros([len(arange),img.shape[1],img.shape[2],img.shape[3]])\n",
    "    l_target = torch.zeros(len(arange))\n",
    "\n",
    "    for i, l in enumerate(arange):\n",
    "        x_trans[i] = T.functional.affine(img=x, angle=0, translate=[l,0], scale=1.,shear=0)\n",
    "        l_target[i] = target\n",
    "    \n",
    "    return x_trans, l_target\n",
    "\n",
    "def affine_ytrans(img, target, range=[-5.,5.,1]):\n",
    "    arange = np.arange(range[0],(range[1]+range[2]),range[2])\n",
    "    y_trans = torch.zeros([len(arange),img.shape[1],img.shape[2],img.shape[3]])\n",
    "    l_target = torch.zeros(len(arange))\n",
    "\n",
    "    for i, l in enumerate(arange):\n",
    "        y_trans[i] = T.functional.affine(img=x, angle=0, translate=[0,l], scale=1.,shear=0)\n",
    "        l_target[i] = target\n",
    "    \n",
    "    return y_trans, l_target\n",
    "\n",
    "def affine_rot(img, target, range=[-25.,25.,1]):\n",
    "    arange = np.arange(range[0],(range[1]+range[2]),range[2])\n",
    "    rot = torch.zeros([len(arange),img.shape[1],img.shape[2],img.shape[3]])\n",
    "    l_target = torch.zeros(len(arange))\n",
    "\n",
    "    for i, l in enumerate(arange):\n",
    "        rot[i] = T.functional.affine(img=x, angle=l, translate=[0,0], scale=1.,shear=0)\n",
    "        l_target[i] = target\n",
    "    \n",
    "    return rot, l_target\n",
    "\n",
    "def affine_scale(img, target, range=[0.75,1.25,0.05]):\n",
    "    arange = np.arange(range[0],(range[1]+range[2]),range[2])\n",
    "    rot = torch.zeros([len(arange),img.shape[1],img.shape[2],img.shape[3]])\n",
    "    l_target = torch.zeros(len(arange))\n",
    "\n",
    "    for i, l in enumerate(arange):\n",
    "        rot[i] = T.functional.affine(img=x, angle=0, translate=[0,0], scale=l,shear=0)\n",
    "        l_target[i] = target\n",
    "    \n",
    "    return rot, l_target\n",
    "\n",
    "\n",
    "def affine_shear(img, target, range=[-10.,10.,2]):\n",
    "    arange = np.arange(range[0],(range[1]+range[2]),range[2])\n",
    "    rot = torch.zeros([len(arange),img.shape[1],img.shape[2],img.shape[3]])\n",
    "    l_target = torch.zeros(len(arange))\n",
    "\n",
    "    for i, l in enumerate(arange):\n",
    "        rot[i] = T.functional.affine(img=x, angle=0, translate=[0,0], scale=1,shear=l)\n",
    "        l_target[i] = target\n",
    "    \n",
    "    return rot, l_target"
   ]
  },
  {
   "cell_type": "code",
   "execution_count": null,
   "metadata": {},
   "outputs": [],
   "source": [
    "x_trams, y_trans = affine_shear(x,y)\n",
    "print(x_trams.shape)\n",
    "print(y_trans)\n",
    "\n",
    "x_trams = x_trams.cpu()\n",
    "scal = lambda x: (x-x.min())/(x.max()-x.min())\n",
    "img = torchvision.utils.make_grid(torch.cat([scal(x_trams)], dim=0), nrow=x_trams.shape[0])\n",
    "plt.imshow(img.permute(1,2,0))\n",
    "plt.show()\n",
    "\n",
    "imshow(x_trams[0,:,:,:])\n"
   ]
  },
  {
   "cell_type": "code",
   "execution_count": null,
   "metadata": {},
   "outputs": [],
   "source": [
    "x_trans, _ = affine_xtrans(x,y)\n",
    "y_trans, _ = affine_ytrans(x,y)\n",
    "rot, _ = affine_rot(x,y)"
   ]
  },
  {
   "cell_type": "markdown",
   "metadata": {},
   "source": [
    "### ATE on x_trans"
   ]
  },
  {
   "cell_type": "code",
   "execution_count": null,
   "metadata": {},
   "outputs": [],
   "source": [
    "x_aff = x_trans.to(device)\n",
    "#x_aff = y_trans.to(device)\n",
    "#x_aff = rot.to(device)\n",
    "\n",
    "uh_aff, _ = model.forward(x_aff)"
   ]
  },
  {
   "cell_type": "code",
   "execution_count": null,
   "metadata": {},
   "outputs": [],
   "source": [
    "def cov_uh_trans(uh):\n",
    "    \"\"\"\n",
    "    uh in [k,n,m]\n",
    "    k -> number of transformed images\n",
    "    n -> number of output classes\n",
    "    m -> number of capsul values\n",
    "    \"\"\"\n",
    "\n",
    "    uh_mean = uh.mean(dim=0)\n",
    "    \"\"\"\n",
    "    #could be cleaner, but it's the same ...\n",
    "    uh_mean = uh_mean.unsqueeze(0)\n",
    "    uh_mean = uh_mean.repeat(uh.shape[0],1,1)\n",
    "    \"\"\"\n",
    "\n",
    "    z = uh - uh_mean\n",
    "\n",
    "    c_k = torch.einsum('...ij, ...ik -> ...jk', z,z)\n",
    "    c = torch.einsum('ijk -> jk', c_k) / c_k.shape[0]\n",
    "\n",
    "    return c"
   ]
  },
  {
   "cell_type": "code",
   "execution_count": null,
   "metadata": {},
   "outputs": [],
   "source": [
    "c = cov_uh_trans(uh_aff)\n"
   ]
  },
  {
   "cell_type": "code",
   "execution_count": null,
   "metadata": {},
   "outputs": [],
   "source": [
    "def covshow(c):\n",
    "    # https://matplotlib.org/3.1.1/gallery/images_contours_and_fields/image_annotated_heatmap.html#sphx-glr-gallery-images-contours-and-fields-image-annotated-heatmap-py\n",
    "\n",
    "    data = c.cpu().detach().numpy()\n",
    "\n",
    "    fig, ax = plt.subplots(figsize=(8, 8))\n",
    "    im = ax.imshow(data)\n",
    "\n",
    "    fg_color = 'white'\n",
    "    im.axes.tick_params(color=fg_color, labelcolor=fg_color)\n",
    "\n",
    "    \"\"\"\n",
    "    # Loop over data dimensions and create text annotations.\n",
    "    for i in range(len(data)):\n",
    "        for j in range(len(data)):\n",
    "            text = ax.text(j, i, data[i, j],\n",
    "                        ha=\"center\", va=\"center\", color=\"fg_color\")\n",
    "    \"\"\"\n",
    "\n",
    "    cb = fig.colorbar(im)\n",
    "    cb.ax.yaxis.set_tick_params(color=fg_color)\n",
    "    cb.outline.set_edgecolor(fg_color)\n",
    "    plt.setp(plt.getp(cb.ax.axes, 'yticklabels'), color=fg_color)\n",
    "    fig.tight_layout()\n",
    "    plt.show()"
   ]
  },
  {
   "cell_type": "code",
   "execution_count": null,
   "metadata": {},
   "outputs": [],
   "source": [
    "covshow(c)"
   ]
  },
  {
   "cell_type": "markdown",
   "metadata": {},
   "source": [
    "### via PCA from Paper EffCN"
   ]
  },
  {
   "cell_type": "code",
   "execution_count": null,
   "metadata": {},
   "outputs": [],
   "source": [
    "cov = c.cpu()\n",
    "\n",
    "eig, v_eig = torch.linalg.eig(cov)\n",
    "eig = eig.float()\n",
    "sig = eig / eig.sum()\n",
    "\n",
    "#rint(eig)\n",
    "#print(eig.sum())\n",
    "print(sig)\n",
    "plt.plot(sig.detach().numpy(),\".\")\n",
    "plt.tick_params(colors=\"w\")\n",
    "\n"
   ]
  },
  {
   "cell_type": "markdown",
   "metadata": {},
   "source": [
    "### ! wrong (Via KL-Divergende from munich paper)"
   ]
  },
  {
   "cell_type": "code",
   "execution_count": null,
   "metadata": {},
   "outputs": [],
   "source": [
    "### !!! Not shure about this!!!\n",
    "\n",
    "# https://mail.python.org/pipermail/scipy-user/2011-May/029521.html\n",
    "\n",
    "def KLdivergence(x, y):\n",
    "  \"\"\"Compute the Kullback-Leibler divergence between two multivariate samples.\n",
    "  Parameters\n",
    "  ----------\n",
    "  x : 2D array (n,d)\n",
    "    Samples from distribution P, which typically represents the true\n",
    "    distribution.\n",
    "  y : 2D array (m,d)\n",
    "    Samples from distribution Q, which typically represents the approximate\n",
    "    distribution.\n",
    "  Returns\n",
    "  -------\n",
    "  out : float\n",
    "    The estimated Kullback-Leibler divergence D(P||Q).\n",
    "  References\n",
    "  ----------\n",
    "  Pérez-Cruz, F. Kullback-Leibler divergence estimation of\n",
    "continuous distributions IEEE International Symposium on Information\n",
    "Theory, 2008.\n",
    "  \"\"\"\n",
    "  from scipy.spatial import cKDTree as KDTree\n",
    "\n",
    "  # Check the dimensions are consistent\n",
    "  x = np.atleast_2d(x)\n",
    "  y = np.atleast_2d(y)\n",
    "\n",
    "  n,d = x.shape\n",
    "  m,dy = y.shape\n",
    "\n",
    "  assert(d == dy)\n",
    "\n",
    "\n",
    "  # Build a KD tree representation of the samples and find the nearest neighbour\n",
    "  # of each point in x.\n",
    "  xtree = KDTree(x)\n",
    "  ytree = KDTree(y)\n",
    "\n",
    "  # Get the first two nearest neighbours for x, since the closest one is the\n",
    "  # sample itself.\n",
    "  r = xtree.query(x, k=2, eps=.01, p=2)[0][:,1]\n",
    "  s = ytree.query(x, k=1, eps=.01, p=2)[0]\n",
    "\n",
    "  # There is a mistake in the paper. In Eq. 14, the right side misses a negative sign\n",
    "  # on the first term of the right hand side.\n",
    "  return -np.log(r/s).sum() * d / n + np.log(m / (n - 1.))"
   ]
  },
  {
   "cell_type": "code",
   "execution_count": null,
   "metadata": {},
   "outputs": [],
   "source": [
    "def cov_uh_kl(uh):\n",
    "    c_k = torch.einsum('...ij, ...ik -> ...jk', uh,uh)\n",
    "    c = torch.einsum('ijk -> jk', c_k) / c_k.shape[0]\n",
    "    return c "
   ]
  },
  {
   "cell_type": "code",
   "execution_count": null,
   "metadata": {},
   "outputs": [],
   "source": [
    "c_org = cov_uh_kl(uh.cpu())\n",
    "c_aff = cov_uh_kl(uh_aff.cpu())\n",
    "\n",
    "#determinaten\n",
    "c_org_det = torch.linalg.det(c_org)\n",
    "c_aff_det = torch.linalg.det(c_aff)\n",
    "\n",
    "#trace\n",
    "c_org_det = torch.trace(c_org)\n",
    "c_aff_det = torch.trace(c_aff)\n",
    "\n",
    "#compute kl div from git hub\n",
    "kl_div = KLdivergence(c_org.detach().numpy(), c_aff.detach().numpy())\n",
    "\n",
    "print(kl_div)\n",
    "covshow(c_org)\n",
    "covshow(c_aff)"
   ]
  },
  {
   "cell_type": "markdown",
   "metadata": {},
   "source": [
    "### Via KL-Divergende from munich paper"
   ]
  },
  {
   "cell_type": "code",
   "execution_count": null,
   "metadata": {},
   "outputs": [],
   "source": [
    "print(uh.shape)\n",
    "print(uh_aff.shape)"
   ]
  },
  {
   "cell_type": "markdown",
   "metadata": {},
   "source": [
    "get vectors from groud truth"
   ]
  },
  {
   "cell_type": "code",
   "execution_count": null,
   "metadata": {},
   "outputs": [],
   "source": [
    "print(y)\n",
    "\n",
    "uh_th = uh[:,y,:]\n",
    "uh_aff_th = uh_aff[:,y,:]\n",
    "print(uh_th.shape)\n",
    "print(uh_aff_th.shape)\n",
    "\n",
    "uh_aff_var = torch.var(uh_aff_th, dim=0)\n",
    "print(uh_aff_var)\n",
    "print(uh_aff_var.shape)\n",
    "\n",
    "\n",
    "uh_aff_sum = uh_aff_var.sum()\n",
    "uh_aff_nor = uh_aff_var / uh_aff_sum\n",
    "print(uh_aff_sum)\n",
    "print(uh_aff_nor)\n",
    "\n",
    "\n",
    "uni_p = 1/uh_aff_nor.shape[1]\n",
    "uni_p"
   ]
  },
  {
   "cell_type": "code",
   "execution_count": null,
   "metadata": {},
   "outputs": [],
   "source": [
    "print(uh_aff_nor.sum())\n",
    "print(uni_p*16)"
   ]
  },
  {
   "cell_type": "code",
   "execution_count": null,
   "metadata": {},
   "outputs": [],
   "source": [
    "(uh_aff_nor * torch.log((uh_aff_nor/uni_p)))"
   ]
  },
  {
   "cell_type": "code",
   "execution_count": null,
   "metadata": {},
   "outputs": [],
   "source": [
    "(uh_aff_nor * torch.log((uh_aff_nor/uni_p))).sum()"
   ]
  },
  {
   "cell_type": "markdown",
   "metadata": {},
   "source": [
    "Multi Image proceccing"
   ]
  },
  {
   "cell_type": "code",
   "execution_count": null,
   "metadata": {},
   "outputs": [],
   "source": [
    "ds_train = datasets.MNIST(root=p_data, train=True, download=True, transform=T.ToTensor())\n",
    "ds_valid = datasets.MNIST(root=p_data, train=False, download=True, transform=None)\n",
    "\n",
    "dl_train = torch.utils.data.DataLoader(ds_train, \n",
    "                                        #batch_size=len(ds_train), \n",
    "                                        batch_size=64, \n",
    "                                        shuffle=False)\n",
    "\n",
    "dl_valid = torch.utils.data.DataLoader(ds_valid, \n",
    "                                        batch_size=64, \n",
    "                                        shuffle=False)"
   ]
  },
  {
   "cell_type": "code",
   "execution_count": null,
   "metadata": {},
   "outputs": [],
   "source": [
    "x,y = next(iter(dl_train))\n",
    "\n",
    "print(x.shape)\n",
    "print(y.shape)"
   ]
  },
  {
   "cell_type": "code",
   "execution_count": null,
   "metadata": {},
   "outputs": [],
   "source": [
    "def affine_xtrans(img, target, range=[-5.,5.,1]):\n",
    "    arange = np.arange(range[0],(range[1]+range[2]),range[2])\n",
    "    x_trans = torch.zeros([len(arange),img.shape[-3],img.shape[-2],img.shape[-1]])\n",
    "    l_target = torch.zeros(len(arange))\n",
    "\n",
    "    for i, l in enumerate(arange):\n",
    "        x_trans[i] = T.functional.affine(img=img, angle=0, translate=[l,0], scale=1.,shear=0)\n",
    "        l_target[i] = target\n",
    "    \n",
    "    return x_trans, l_target\n",
    "\n",
    "def affine_ytrans(img, target, range=[-5.,5.,1]):\n",
    "    arange = np.arange(range[0],(range[1]+range[2]),range[2])\n",
    "    y_trans = torch.zeros([len(arange),img.shape[-3],img.shape[-2],img.shape[-1]])\n",
    "    l_target = torch.zeros(len(arange))\n",
    "\n",
    "    for i, l in enumerate(arange):\n",
    "        y_trans[i] = T.functional.affine(img=img, angle=0, translate=[0,l], scale=1.,shear=0)\n",
    "        l_target[i] = target\n",
    "    \n",
    "    return y_trans, l_target\n",
    "\n",
    "def affine_rot(img, target, range=[-25.,25.,1]):\n",
    "    arange = np.arange(range[0],(range[1]+range[2]),range[2])\n",
    "    rot = torch.zeros([len(arange),img.shape[-3],img.shape[-2],img.shape[-1]])\n",
    "    l_target = torch.zeros(len(arange))\n",
    "\n",
    "    for i, l in enumerate(arange):\n",
    "        rot[i] = T.functional.affine(img=img, angle=l, translate=[0,0], scale=1.,shear=0)\n",
    "        l_target[i] = target\n",
    "    \n",
    "    return rot, l_target\n",
    "   "
   ]
  },
  {
   "cell_type": "code",
   "execution_count": null,
   "metadata": {},
   "outputs": [],
   "source": [
    "def cov_uh_trans(uh):\n",
    "    \"\"\"\n",
    "    uh in [k,n,m]\n",
    "    k -> number of transformed images\n",
    "    n -> number of output classes\n",
    "    m -> number of capsul values\n",
    "    \"\"\"\n",
    "\n",
    "    uh_mean = uh.mean(dim=0)\n",
    "    z = uh - uh_mean\n",
    "    c_k = torch.einsum('...ij, ...ik -> ...jk', z,z)\n",
    "    c = torch.einsum('ijk -> jk', c_k) / c_k.shape[0]\n",
    "\n",
    "    return c"
   ]
  },
  {
   "cell_type": "code",
   "execution_count": null,
   "metadata": {},
   "outputs": [],
   "source": [
    "affine = affine_xtrans\n",
    "pca_eig = []\n",
    "kl_div = []\n",
    "\n",
    "pbar = tqdm(dl_train, bar_format='{bar:10}{r_bar}{bar:-10b}')\n",
    "\n",
    "#load batchwise\n",
    "for x, y in pbar:\n",
    "    #calculate staistical vals\n",
    "    for i, img in enumerate(x):\n",
    "        #generate aff transforms\n",
    "        x_aff, y_aff = affine(x[i],y[i])\n",
    "        \n",
    "        #Generate Caps from affine Transform\n",
    "        x_aff = x_aff.to(device)\n",
    "        uh_aff, _ = model.forward(x_aff)\n",
    "\n",
    "        #PCA\n",
    "        #Covariance from Caps\n",
    "        cov_uh = cov_uh_trans(uh_aff)\n",
    "        #Eigenvals\n",
    "        eig, v_eig = torch.linalg.eig(cov_uh)\n",
    "        sig = eig.float() / eig.float().sum()\n",
    "        #PCA eigenvalues\n",
    "        pca_eig.append(sig.tolist())\n",
    "\n",
    "\n",
    "        #KL-Divergence\n",
    "        #Caps from valid\n",
    "        uh_aff_th = uh_aff[:,y[i],:]\n",
    "        #Variance over each dimension\n",
    "        var_uh_aff = torch.var(uh_aff_th, dim=0)\n",
    "        #Variance normalized\n",
    "        nor_uh_aff = var_uh_aff / var_uh_aff.sum()\n",
    "        #uniform prior\n",
    "        uni_p = 1/nor_uh_aff.shape[0]\n",
    "        #Kullback-Leibler-Divergenz\n",
    "        kl = (nor_uh_aff * torch.log((nor_uh_aff/uni_p))).sum()\n",
    "        kl_div.append(kl.tolist())\n",
    "\n",
    "\n",
    "pca_mean = torch.tensor(pca_eig).mean(dim=0)\n",
    "kld_mean = torch.tensor(kl_div).mean()"
   ]
  },
  {
   "cell_type": "code",
   "execution_count": null,
   "metadata": {},
   "outputs": [],
   "source": [
    "print(min(kl_div))\n",
    "print(kld_mean)\n",
    "print(pca_mean)"
   ]
  }
 ],
 "metadata": {
  "interpreter": {
   "hash": "188faa17072d374bec02d17fca5e544867bade69f71230dfd1a560a6ca303930"
  },
  "kernelspec": {
   "display_name": "Python 3 (ipykernel)",
   "language": "python",
   "name": "python3"
  },
  "language_info": {
   "codemirror_mode": {
    "name": "ipython",
    "version": 3
   },
   "file_extension": ".py",
   "mimetype": "text/x-python",
   "name": "python",
   "nbconvert_exporter": "python",
   "pygments_lexer": "ipython3",
   "version": "3.9.7"
  },
  "latex_envs": {
   "LaTeX_envs_menu_present": true,
   "autoclose": false,
   "autocomplete": true,
   "bibliofile": "biblio.bib",
   "cite_by": "apalike",
   "current_citInitial": 1,
   "eqLabelWithNumbers": true,
   "eqNumInitial": 1,
   "hotkeys": {
    "equation": "Ctrl-E",
    "itemize": "Ctrl-I"
   },
   "labels_anchors": false,
   "latex_user_defs": false,
   "report_style_numbering": false,
   "user_envs_cfg": false
  }
 },
 "nbformat": 4,
 "nbformat_minor": 2
}
