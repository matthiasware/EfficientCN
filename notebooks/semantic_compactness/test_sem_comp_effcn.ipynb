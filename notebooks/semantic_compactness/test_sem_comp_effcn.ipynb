{
 "cells": [
  {
   "cell_type": "code",
   "execution_count": 2,
   "metadata": {},
   "outputs": [],
   "source": [
    "%load_ext autoreload\n",
    "%autoreload 2"
   ]
  },
  {
   "cell_type": "code",
   "execution_count": 3,
   "metadata": {},
   "outputs": [],
   "source": [
    "import sys\n",
    "sys.path.append(\"./../../\")"
   ]
  },
  {
   "cell_type": "code",
   "execution_count": 125,
   "metadata": {},
   "outputs": [],
   "source": [
    "from pathlib import Path\n",
    "import math\n",
    "#\n",
    "import torch\n",
    "import torch.nn as nn\n",
    "#\n",
    "import matplotlib.pyplot as plt\n",
    "import numpy as np\n",
    "#\n",
    "\n",
    "from effcn.models_mnist import EffCapsNet, CNN_CR_SF, CNN_CR, CNN_R, CapsNet, Backbone, BackboneHinton, CNN_CR_SF_Backbone, Decoder\n",
    "from misc.utils import count_parameters\n",
    "from effcn.layers import Squash, PrimaryCaps, FCCaps\n",
    "from effcn.functions import masking"
   ]
  },
  {
   "cell_type": "code",
   "execution_count": 5,
   "metadata": {},
   "outputs": [
    {
     "data": {
      "text/plain": [
       "1573168"
      ]
     },
     "execution_count": 5,
     "metadata": {},
     "output_type": "execute_result"
    }
   ],
   "source": [
    "model = EffCapsNet()\n",
    "\n",
    "count_parameters(model)"
   ]
  },
  {
   "cell_type": "code",
   "execution_count": 87,
   "metadata": {},
   "outputs": [
    {
     "data": {
      "text/plain": [
       "8227600"
      ]
     },
     "execution_count": 87,
     "metadata": {},
     "output_type": "execute_result"
    }
   ],
   "source": [
    "model = CapsNet()\n",
    "\n",
    "r = count_parameters(model)\n",
    "r"
   ]
  },
  {
   "cell_type": "code",
   "execution_count": 28,
   "metadata": {},
   "outputs": [
    {
     "data": {
      "text/plain": [
       "7941424"
      ]
     },
     "execution_count": 28,
     "metadata": {},
     "output_type": "execute_result"
    }
   ],
   "source": [
    "model = CNN_CR_SF()\n",
    "\n",
    "count_parameters(model)\n"
   ]
  },
  {
   "cell_type": "code",
   "execution_count": 29,
   "metadata": {},
   "outputs": [
    {
     "name": "stdout",
     "output_type": "stream",
     "text": [
      "130688\n"
     ]
    },
    {
     "data": {
      "text/plain": [
       "torch.Size([1, 128, 9, 9])"
      ]
     },
     "execution_count": 29,
     "metadata": {},
     "output_type": "execute_result"
    }
   ],
   "source": [
    "model = Backbone()\n",
    "\n",
    "print(count_parameters(model))\n",
    "\n",
    "x = torch.rand([1,1,28,28])\n",
    "x = model(x)\n",
    "x.shape"
   ]
  },
  {
   "cell_type": "code",
   "execution_count": 129,
   "metadata": {},
   "outputs": [
    {
     "name": "stdout",
     "output_type": "stream",
     "text": [
      "1411344\n"
     ]
    }
   ],
   "source": [
    "model = Decoder()\n",
    "\n",
    "print(count_parameters(model))"
   ]
  },
  {
   "cell_type": "code",
   "execution_count": 203,
   "metadata": {},
   "outputs": [],
   "source": [
    "class Backbone_EffCN_HPar(nn.Module):\n",
    "    def __init__(self):\n",
    "        super().__init__()\n",
    "        self.conv1 = nn.Sequential(\n",
    "            nn.Conv2d(\n",
    "                in_channels=1,\n",
    "                out_channels=512,\n",
    "                kernel_size=9,\n",
    "                stride=1,\n",
    "                padding=0,\n",
    "            ),\n",
    "            nn.ReLU(),\n",
    "        )\n",
    "        self.conv2 = nn.Sequential(\n",
    "            nn.Conv2d(512, 512, 3, 1),\n",
    "            nn.ReLU(),\n",
    "        )\n",
    "        self.conv3 = nn.Sequential(\n",
    "            nn.Conv2d(512, 256, 5, 1),\n",
    "            nn.ReLU(),\n",
    "        )\n",
    "        self.conv4 = nn.Sequential(\n",
    "            nn.Conv2d(256, 128, 6, 1),\n",
    "            nn.ReLU(),\n",
    "        )\n",
    "\n",
    "    def forward(self, x):\n",
    "        x = self.conv1(x)\n",
    "        x = self.conv2(x)\n",
    "        x = self.conv3(x)\n",
    "        x = self.conv4(x)\n",
    "\n",
    "        return x"
   ]
  },
  {
   "cell_type": "code",
   "execution_count": 206,
   "metadata": {},
   "outputs": [
    {
     "name": "stdout",
     "output_type": "stream",
     "text": [
      "6858624\n",
      "torch.Size([1, 128, 9, 9])\n",
      "-42368\n",
      "0.9948768846505814\n"
     ]
    }
   ],
   "source": [
    "model = Backbone_EffCN_HPar()\n",
    "\n",
    "print(count_parameters(model))\n",
    "\n",
    "x = torch.rand([1,1,28,28])\n",
    "x = model(x)\n",
    "print(x.shape)\n",
    "\n",
    "\n",
    "print(r-count_parameters(model)-count_parameters(Decoder()))\n",
    "print(r / (count_parameters(model)+count_parameters(Decoder())))"
   ]
  },
  {
   "cell_type": "code",
   "execution_count": 210,
   "metadata": {},
   "outputs": [],
   "source": [
    "class EffCapsNet_HPar(nn.Module):\n",
    "\n",
    "    def __init__(self):\n",
    "        super().__init__()\n",
    "        # values from paper, are fixed!\n",
    "        self.n_l = 16  # num of primary capsules\n",
    "        self.d_l = 8   # dim of primary capsules\n",
    "        self.n_h = 10  # num of output capsules\n",
    "        self.d_h = 16  # dim of output capsules\n",
    "\n",
    "        self.backbone = Backbone_EffCN_HPar()\n",
    "        self.primcaps = PrimaryCaps(\n",
    "            F=128, K=9, N=self.n_l, D=self.d_l)  # F = n_l * d_l !!!\n",
    "        self.fcncaps = FCCaps(self.n_l, self.n_h, self.d_l, self.d_h)\n",
    "        self.decoder = Decoder()\n",
    "\n",
    "    def forward(self,x, y_true=None):\n",
    "        \"\"\"\n",
    "            IN:\n",
    "                x (b, 1, 28, 28)\n",
    "            OUT:\n",
    "                u_h\n",
    "                    (b, n_h, d_h)\n",
    "                    output caps\n",
    "                x_rec\n",
    "                    (b, 1, 28, 28)\n",
    "                    reconstruction of x\n",
    "        \"\"\"\n",
    "        u_l = self.primcaps(self.backbone(x))\n",
    "        u_h = self.fcncaps(u_l)\n",
    "        #\n",
    "        u_h_masked = masking(u_h, y_true)\n",
    "        x_rec = self.decoder(u_h_masked)\n",
    "        return u_h, x_rec"
   ]
  },
  {
   "cell_type": "code",
   "execution_count": 211,
   "metadata": {},
   "outputs": [
    {
     "name": "stdout",
     "output_type": "stream",
     "text": [
      "8301104\n",
      "torch.Size([1, 10, 16])\n",
      "-73504\n",
      "0.9911452741707609\n"
     ]
    }
   ],
   "source": [
    "model = EffCapsNet_HPar()\n",
    "\n",
    "print(count_parameters(model))\n",
    "\n",
    "x = torch.rand([1,1,28,28])\n",
    "x, a = model(x)\n",
    "print(x.shape)\n",
    "\n",
    "\n",
    "print(r-count_parameters(model))\n",
    "print(r / count_parameters(model))"
   ]
  }
 ],
 "metadata": {
  "interpreter": {
   "hash": "8d2216f398435973a4480fbf0d4903f2c234bb7e68c0ef08c749bd78784367be"
  },
  "kernelspec": {
   "display_name": "Python 3.9.7 ('EffCN')",
   "language": "python",
   "name": "python3"
  },
  "language_info": {
   "codemirror_mode": {
    "name": "ipython",
    "version": 3
   },
   "file_extension": ".py",
   "mimetype": "text/x-python",
   "name": "python",
   "nbconvert_exporter": "python",
   "pygments_lexer": "ipython3",
   "version": "3.9.7"
  },
  "orig_nbformat": 4
 },
 "nbformat": 4,
 "nbformat_minor": 2
}
