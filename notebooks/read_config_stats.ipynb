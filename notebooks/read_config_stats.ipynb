{
 "cells": [
  {
   "cell_type": "code",
   "execution_count": 8,
   "metadata": {},
   "outputs": [
    {
     "name": "stdout",
     "output_type": "stream",
     "text": [
      "The autoreload extension is already loaded. To reload it, use:\n",
      "  %reload_ext autoreload\n"
     ]
    }
   ],
   "source": [
    "%load_ext autoreload\n",
    "%autoreload 2"
   ]
  },
  {
   "cell_type": "code",
   "execution_count": 9,
   "metadata": {},
   "outputs": [],
   "source": [
    "import sys\n",
    "sys.path.append(\"./../\")"
   ]
  },
  {
   "cell_type": "code",
   "execution_count": 10,
   "metadata": {},
   "outputs": [],
   "source": [
    "# default libraries\n",
    "import time\n",
    "import datetime\n",
    "import pickle\n",
    "import pprint\n",
    "from pathlib import Path\n",
    "import math\n",
    "\n",
    "\n",
    "# third party libraries\n",
    "import torch\n",
    "import torchvision\n",
    "import torchvision.transforms as T\n",
    "\n",
    "import numpy as np\n",
    "from dotted_dict import DottedDict\n"
   ]
  },
  {
   "cell_type": "markdown",
   "metadata": {},
   "source": [
    "Files"
   ]
  },
  {
   "cell_type": "code",
   "execution_count": 20,
   "metadata": {},
   "outputs": [
    {
     "data": {
      "text/plain": [
       "PosixPath('/mnt/data/experiments/EfficientCN/multimnist/effcn_multimnist_2022_02_10_20_13_48')"
      ]
     },
     "execution_count": 20,
     "metadata": {},
     "output_type": "execute_result"
    }
   ],
   "source": [
    "p_data = Path('/mnt/data/experiments/EfficientCN/multimnist')\n",
    "#p_exp = p_data / 'effcn_multimnist_2022_02_09_03_18_13'\n",
    "#p_exp = p_data / 'effcn_multimnist_2022_02_09_01_48_37'\n",
    "#p_exp = p_data / 'effcn_multimnist_2022_02_09_03_18_13'\n",
    "#p_exp = p_data / 'effcn_multimnist_2022_02_09_12_38_18'\n",
    "#p_exp = p_data / 'effcn_multimnist_2022_02_10_16_29_46'\n",
    "p_exp = p_data / 'effcn_multimnist_2022_02_10_20_13_48'\n",
    "#p_exp = p_data / 'effcn_multimnist_2022_02_10_23_02_11'\n",
    "\n",
    "p_exp"
   ]
  },
  {
   "cell_type": "code",
   "execution_count": 21,
   "metadata": {},
   "outputs": [],
   "source": [
    "file1 = open(p_exp / 'config.pkl', 'rb')\n",
    "config = DottedDict(pickle.load(file1))\n",
    "file1.close()\n",
    "\n",
    "file2 = open(p_exp / 'stats.pkl', 'rb')\n",
    "stats = DottedDict(pickle.load(file2))\n",
    "file2.close()"
   ]
  },
  {
   "cell_type": "code",
   "execution_count": 22,
   "metadata": {},
   "outputs": [
    {
     "name": "stdout",
     "output_type": "stream",
     "text": [
      "{'device': 'cuda:0',\n",
      " 'debug': True,\n",
      " 'train': {'batch_size': 64,\n",
      "           'num_epochs': 10,\n",
      "           'num_workers': 2,\n",
      "           'num_vis': 8,\n",
      "           'pin_memory': True,\n",
      "           'transform': None},\n",
      " 'valid': {'num_workers': 2,\n",
      "           'batch_size': 64,\n",
      "           'num_vis': 8,\n",
      "           'pin_memory': True,\n",
      "           'transform': None},\n",
      " 'gen': DottedDict({'generate': False, 'num': [1000, 1000]}),\n",
      " 'optimizer': 'adam',\n",
      " 'optimizer_args': DottedDict({'lr': 0.0001, 'weight_decay': 0.0}),\n",
      " 'scheduler': 'exponential_decay',\n",
      " 'scheduler_burnin': 10,\n",
      " 'scheduler_args': DottedDict({'gamma': 0.97}),\n",
      " 'freqs': DottedDict({'valid': 1, 'rec': 1, 'ckpt': 1}),\n",
      " 'paths': {'data': '/mnt/data/datasets/multimnist_100',\n",
      "           'experiments': '/mnt/data/experiments/EfficientCN/multimnist'},\n",
      " 'names': {'model_dir': 'effcn_multimnist_2022_02_10_20_13_48',\n",
      "           'ckpt_dir': 'ckpts',\n",
      "           'img_dir': 'imgs',\n",
      "           'log_dir': 'logs',\n",
      "           'model_file': 'model_{}.ckpt',\n",
      "           'stats_file': 'stats.pkl',\n",
      "           'config_file': 'config.pkl',\n",
      "           'acc_plot': 'acc.png',\n",
      "           'loss_plot': 'loss.png'},\n",
      " 'loss': {'margin': {'lbd': 0.5,\n",
      "                     'm_plus': 0.9,\n",
      "                     'm_minus': 0.1,\n",
      "                     'weight': 1.0},\n",
      "          'rec': DottedDict({'weight': 0.392, 'by_class': True})},\n",
      " 'stop_acc': 0.9973}\n"
     ]
    }
   ],
   "source": [
    "pprint.pp(config)"
   ]
  },
  {
   "cell_type": "code",
   "execution_count": 23,
   "metadata": {},
   "outputs": [
    {
     "name": "stdout",
     "output_type": "stream",
     "text": [
      "0.0001\n",
      "64\n",
      "10\n"
     ]
    }
   ],
   "source": [
    "print(config.optimizer_args.lr)\n",
    "print(config.train.batch_size)\n",
    "print(config.train.num_epochs)\n"
   ]
  },
  {
   "cell_type": "code",
   "execution_count": 24,
   "metadata": {},
   "outputs": [
    {
     "data": {
      "text/plain": [
       "3.75"
      ]
     },
     "execution_count": 24,
     "metadata": {},
     "output_type": "execute_result"
    }
   ],
   "source": [
    "#print(stats)\n",
    "90/24"
   ]
  },
  {
   "cell_type": "code",
   "execution_count": 25,
   "metadata": {},
   "outputs": [
    {
     "name": "stdout",
     "output_type": "stream",
     "text": [
      "Dataset: /mnt/data/datasets/multimnist_100\n",
      "Time: 20298.20 s\n",
      "Time:   338.30 min\n",
      "Time:     5.64 h\n"
     ]
    }
   ],
   "source": [
    "print(\"Dataset: {}\".format(config.paths.data))\n",
    "print(\"Time: {0:8.2f} s\".format(float(stats.train_time)))\n",
    "print(\"Time: {0:8.2f} min\".format(float(stats.train_time)/60))\n",
    "print(\"Time: {0:8.2f} h\".format(float(stats.train_time)/3600))"
   ]
  },
  {
   "cell_type": "code",
   "execution_count": 26,
   "metadata": {},
   "outputs": [
    {
     "name": "stdout",
     "output_type": "stream",
     "text": [
      "0.9057805\n"
     ]
    }
   ],
   "source": [
    "a = stats.train.acc\n",
    "print(max(a))"
   ]
  },
  {
   "cell_type": "code",
   "execution_count": 27,
   "metadata": {},
   "outputs": [
    {
     "data": {
      "text/plain": [
       "[0.7709671666666666,\n",
       " 0.8422158333333334,\n",
       " 0.8633946666666666,\n",
       " 0.8805816666666667,\n",
       " 0.890147,\n",
       " 0.8951571666666667,\n",
       " 0.8988938333333333,\n",
       " 0.9014471666666667,\n",
       " 0.9036153333333333,\n",
       " 0.9057805]"
      ]
     },
     "execution_count": 27,
     "metadata": {},
     "output_type": "execute_result"
    }
   ],
   "source": [
    "a"
   ]
  }
 ],
 "metadata": {
  "interpreter": {
   "hash": "188faa17072d374bec02d17fca5e544867bade69f71230dfd1a560a6ca303930"
  },
  "kernelspec": {
   "display_name": "Python 3.9.7 64-bit ('EffCN': conda)",
   "language": "python",
   "name": "python3"
  },
  "language_info": {
   "codemirror_mode": {
    "name": "ipython",
    "version": 3
   },
   "file_extension": ".py",
   "mimetype": "text/x-python",
   "name": "python",
   "nbconvert_exporter": "python",
   "pygments_lexer": "ipython3",
   "version": "3.9.7"
  },
  "orig_nbformat": 4
 },
 "nbformat": 4,
 "nbformat_minor": 2
}
