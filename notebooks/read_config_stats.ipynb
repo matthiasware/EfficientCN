{
 "cells": [
  {
   "cell_type": "code",
   "execution_count": 1,
   "metadata": {},
   "outputs": [],
   "source": [
    "%load_ext autoreload\n",
    "%autoreload 2"
   ]
  },
  {
   "cell_type": "code",
   "execution_count": 2,
   "metadata": {},
   "outputs": [],
   "source": [
    "import sys\n",
    "sys.path.append(\"./../\")"
   ]
  },
  {
   "cell_type": "code",
   "execution_count": 3,
   "metadata": {},
   "outputs": [],
   "source": [
    "# default libraries\n",
    "import time\n",
    "import datetime\n",
    "import pickle\n",
    "import pprint\n",
    "from pathlib import Path\n",
    "import math\n",
    "\n",
    "\n",
    "# third party libraries\n",
    "import torch\n",
    "import torchvision\n",
    "import torchvision.transforms as T\n",
    "\n",
    "import numpy as np\n",
    "from dotted_dict import DottedDict\n"
   ]
  },
  {
   "cell_type": "markdown",
   "metadata": {},
   "source": [
    "Files"
   ]
  },
  {
   "cell_type": "code",
   "execution_count": 4,
   "metadata": {},
   "outputs": [
    {
     "data": {
      "text/plain": [
       "PosixPath('/mnt/data/experiments/EfficientCN/multimnist/effcn_multimnist_2022_01_25_15_21_36')"
      ]
     },
     "execution_count": 4,
     "metadata": {},
     "output_type": "execute_result"
    }
   ],
   "source": [
    "p_data = Path('/mnt/data/experiments/EfficientCN/multimnist')\n",
    "p_exp = p_data / 'effcn_multimnist_2022_01_25_15_21_36'\n",
    "\n",
    "p_exp"
   ]
  },
  {
   "cell_type": "code",
   "execution_count": 5,
   "metadata": {},
   "outputs": [],
   "source": [
    "file1 = open(p_exp / 'config.pkl', 'rb')\n",
    "config = DottedDict(pickle.load(file1))\n",
    "file1.close()\n",
    "\n",
    "file2 = open(p_exp / 'stats.pkl', 'rb')\n",
    "stats = DottedDict(pickle.load(file2))\n",
    "file2.close()"
   ]
  },
  {
   "cell_type": "code",
   "execution_count": 6,
   "metadata": {},
   "outputs": [
    {
     "name": "stdout",
     "output_type": "stream",
     "text": [
      "{'device': 'cuda:0',\n",
      " 'debug': True,\n",
      " 'train': {'batch_size': 1024,\n",
      "           'num_epochs': 20,\n",
      "           'num_workers': 2,\n",
      "           'num_vis': 8,\n",
      "           'pin_memory': True,\n",
      "           'transform': None},\n",
      " 'valid': {'num_workers': 2,\n",
      "           'batch_size': 1024,\n",
      "           'num_vis': 8,\n",
      "           'pin_memory': True,\n",
      "           'transform': None},\n",
      " 'gen': DottedDict({'generate': False, 'num': [1000, 1000]}),\n",
      " 'optimizer': 'adam',\n",
      " 'optimizer_args': DottedDict({'lr': 0.001, 'weight_decay': 0.0}),\n",
      " 'scheduler': 'exponential_decay',\n",
      " 'scheduler_burnin': 10,\n",
      " 'scheduler_args': DottedDict({'gamma': 0.97}),\n",
      " 'freqs': DottedDict({'valid': 1, 'rec': 1, 'ckpt': 10}),\n",
      " 'paths': {'data': '/mnt/data/datasets/multimnist_10',\n",
      "           'experiments': '/mnt/data/experiments/EfficientCN/multimnist'},\n",
      " 'names': {'model_dir': 'effcn_multimnist_2022_01_25_15_21_36',\n",
      "           'ckpt_dir': 'ckpts',\n",
      "           'img_dir': 'imgs',\n",
      "           'log_dir': 'logs',\n",
      "           'model_file': 'model_{}.ckpt',\n",
      "           'stats_file': 'stats.pkl',\n",
      "           'config_file': 'config.pkl',\n",
      "           'acc_plot': 'acc.png',\n",
      "           'loss_plot': 'loss.png'},\n",
      " 'loss': {'margin': {'lbd': 0.5,\n",
      "                     'm_plus': 0.9,\n",
      "                     'm_minus': 0.1,\n",
      "                     'weight': 1.0},\n",
      "          'rec': DottedDict({'weight': 0.392, 'by_class': True})},\n",
      " 'stop_acc': 0.9973}\n"
     ]
    }
   ],
   "source": [
    "pprint.pp(config)"
   ]
  },
  {
   "cell_type": "code",
   "execution_count": 16,
   "metadata": {},
   "outputs": [
    {
     "name": "stdout",
     "output_type": "stream",
     "text": [
      "0.001\n",
      "1024\n",
      "20\n"
     ]
    }
   ],
   "source": [
    "print(config.optimizer_args.lr)\n",
    "print(config.train.batch_size)\n",
    "print(config.train.num_epochs)\n"
   ]
  },
  {
   "cell_type": "code",
   "execution_count": 12,
   "metadata": {},
   "outputs": [
    {
     "name": "stdout",
     "output_type": "stream",
     "text": [
      "DottedDict({'train': DottedDict({'acc': [0.616895, 0.7639683333333334, 0.79394, 0.8094333333333333, 0.8200883333333333, 0.827655, 0.83355, 0.8382066666666667, 0.8424083333333333, 0.8460133333333333, 0.8491983333333334, 0.8524833333333334, 0.8554383333333333, 0.85797, 0.86039, 0.8623916666666667, 0.8650116666666666, 0.867185, 0.87029, 0.8740416666666667], 'loss': [209.93005654215813, 181.94186690449715, 175.82308638095856, 172.5163467824459, 170.20603209733963, 168.51233661174774, 167.1584251821041, 166.12487694621086, 165.18016117811203, 164.3486750125885, 163.66279476881027, 162.9580054283142, 162.30600905418396, 161.75433838367462, 161.23342138528824, 160.74030116200447, 160.25707206130028, 159.76017406582832, 159.2300901412964, 158.49603468179703], 'epoch': [1, 2, 3, 4, 5, 6, 7, 8, 9, 10, 11, 12, 13, 14, 15, 16, 17, 18, 19, 20]}), 'valid': DottedDict({'acc': [0.72603, 0.77423, 0.78483, 0.79449, 0.79793, 0.81523, 0.81239, 0.81953, 0.82576, 0.82058, 0.8242, 0.83201, 0.83097, 0.8339, 0.83266, 0.82858, 0.83112, 0.82602, 0.84177, 0.83641], 'loss': [31.597646117210388, 30.000648140907288, 29.525814324617386, 29.167135626077652, 28.884371250867844, 28.400229513645172, 28.395644694566727, 28.193855702877045, 27.984946101903915, 28.04750907421112, 27.90350902080536, 27.70354315638542, 27.701023429632187, 27.59971311688423, 27.576459765434265, 27.66458734869957, 27.52734562754631, 27.694641143083572, 27.289061039686203, 27.385617792606354], 'epoch': [1, 2, 3, 4, 5, 6, 7, 8, 9, 10, 11, 12, 13, 14, 15, 16, 17, 18, 19, 20]}), 'notes': [], 'params': [4026944], 'train_time': '2037.0'})\n"
     ]
    }
   ],
   "source": [
    "print(stats)"
   ]
  },
  {
   "cell_type": "code",
   "execution_count": 8,
   "metadata": {},
   "outputs": [
    {
     "name": "stdout",
     "output_type": "stream",
     "text": [
      "Dataset: /mnt/data/datasets/multimnist_10\n",
      "Time:  2037.00 s\n",
      "Time:    33.95 min\n",
      "Time:     0.57 h\n"
     ]
    }
   ],
   "source": [
    "print(\"Dataset: {}\".format(config.paths.data))\n",
    "print(\"Time: {0:8.2f} s\".format(float(stats.train_time)))\n",
    "print(\"Time: {0:8.2f} min\".format(float(stats.train_time)/60))\n",
    "print(\"Time: {0:8.2f} h\".format(float(stats.train_time)/3600))"
   ]
  }
 ],
 "metadata": {
  "interpreter": {
   "hash": "188faa17072d374bec02d17fca5e544867bade69f71230dfd1a560a6ca303930"
  },
  "kernelspec": {
   "display_name": "Python 3.9.7 64-bit ('EffCN': conda)",
   "language": "python",
   "name": "python3"
  },
  "language_info": {
   "codemirror_mode": {
    "name": "ipython",
    "version": 3
   },
   "file_extension": ".py",
   "mimetype": "text/x-python",
   "name": "python",
   "nbconvert_exporter": "python",
   "pygments_lexer": "ipython3",
   "version": "3.9.7"
  },
  "orig_nbformat": 4
 },
 "nbformat": 4,
 "nbformat_minor": 2
}
