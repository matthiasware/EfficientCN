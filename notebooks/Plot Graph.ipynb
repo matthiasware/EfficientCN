{
 "cells": [
  {
   "cell_type": "code",
   "execution_count": null,
   "id": "4e144d7b",
   "metadata": {},
   "outputs": [],
   "source": [
    "import matplotlib.pyplot as plt\n",
    "import numpy as np\n",
    "import torch"
   ]
  },
  {
   "cell_type": "code",
   "execution_count": null,
   "id": "9d52c853",
   "metadata": {},
   "outputs": [],
   "source": [
    "n_layers = 3\n",
    "capsules = np.array([4, 3, 2])\n",
    "CC = [np.array([\n",
    "    [0.1, 0.3, 0.6],\n",
    "    [0.1, 0.3, 0.6],\n",
    "    [0.1, 0.3, 0.6],\n",
    "    [0.1, 0.3, 0.6]]),\n",
    "      np.array([\n",
    "          [0.2, 0.8],\n",
    "          [0.2, 0.8],\n",
    "          [0.2, 0.8]\n",
    "      ])\n",
    "    ]\n"
   ]
  },
  {
   "cell_type": "code",
   "execution_count": null,
   "id": "1cf4abf4",
   "metadata": {},
   "outputs": [],
   "source": [
    "fig, ax = plt.subplots(1, 1, figsize=(10,10))\n",
    "for idx in range(1, len(CC) + 1):\n",
    "    \n",
    "    l = idx - 1\n",
    "    h = idx\n",
    "    #print(l, h)\n",
    "    C = CC[l]\n",
    "    nl, nh = C.shape\n",
    "    ax.scatter(range(nl), np.ones(nl) * idx)\n",
    "    ax.scatter(range(nh), np.ones(nh) * idx + 1)\n",
    "    for l in range(nl):\n",
    "        for h in range(nh):\n",
    "            c = C[l, h]\n",
    "            p1 = (l, idx)\n",
    "            p2 = (h, idx+1)\n",
    "            plt.plot((l,h), (idx, idx+1), c=\"blue\", alpha=c)"
   ]
  },
  {
   "cell_type": "code",
   "execution_count": null,
   "id": "8e15374e",
   "metadata": {},
   "outputs": [],
   "source": [
    "UU = []\n",
    "CC = []"
   ]
  },
  {
   "cell_type": "code",
   "execution_count": null,
   "id": "95a2198f",
   "metadata": {},
   "outputs": [],
   "source": [
    "def rand_cc(layers):\n",
    "    cc = []\n",
    "    for idx in range(1, len(layers), 1):\n",
    "        nl = layers[idx-1]\n",
    "        nh = layers[idx]\n",
    "        C = torch.rand(nl, nh) * 10\n",
    "        C = torch.softmax(C, dim=1)\n",
    "        cc.append(C)\n",
    "    return cc"
   ]
  },
  {
   "cell_type": "code",
   "execution_count": null,
   "id": "1cfac8e2",
   "metadata": {},
   "outputs": [],
   "source": [
    "layers = [16,10, 10]\n",
    "CC = rand_cc(layers)"
   ]
  },
  {
   "cell_type": "code",
   "execution_count": null,
   "id": "c12f3072",
   "metadata": {},
   "outputs": [],
   "source": [
    "def plot_cc(cc, scale_factor=2):\n",
    "    fig, ax = plt.subplots(1, 1, figsize=(len(cc) * scale_factor,len(cc)*scale_factor))\n",
    "    for idx in range(1, len(cc) + 1):\n",
    "        C = CC[idx - 1]\n",
    "        nl, nh = C.shape\n",
    "        ax.scatter(range(nl), np.ones(nl) * idx, c=\"red\")\n",
    "        ax.scatter(range(nh), np.ones(nh) * idx + 1, c=\"red\")\n",
    "        for l in range(nl):\n",
    "            for h in range(nh):\n",
    "                c = C[l, h].item()\n",
    "                p1 = (l, idx)\n",
    "                p2 = (h, idx+1)\n",
    "                plt.plot((l,h), (idx, idx+1), c=\"blue\", alpha=c)\n",
    "    plt.axis(\"off\")\n",
    "    plt.show()"
   ]
  },
  {
   "cell_type": "code",
   "execution_count": null,
   "id": "b4f00476",
   "metadata": {},
   "outputs": [],
   "source": [
    "scale_factor=2\n",
    "#\n",
    "maxd = len(CC)\n",
    "maxw = max([max(C.shape) for C in CC])\n",
    "#\n",
    "fig, ax = plt.subplots(1, 1, figsize=(10,10))\n",
    "for idx in range(1, len(CC) + 1):\n",
    "    \n",
    "    l = idx - 1\n",
    "    h = idx\n",
    "    #print(l, h)\n",
    "    C = CC[l]\n",
    "    nl, nh = C.shape\n",
    "    ax.scatter(range(nl), np.ones(nl) * idx, c=\"red\")\n",
    "    ax.scatter(range(nh), np.ones(nh) * idx + 1, c=\"red\")\n",
    "    for l in range(nl):\n",
    "        for h in range(nh):\n",
    "            c = C[l, h].item()\n",
    "            p1 = (l, idx)\n",
    "            p2 = (h, idx+1)\n",
    "            plt.plot((l,h), (idx, idx+1), c=\"blue\", alpha=c)"
   ]
  },
  {
   "cell_type": "code",
   "execution_count": null,
   "id": "8f2300dc",
   "metadata": {},
   "outputs": [],
   "source": [
    "def rand_us(layers):\n",
    "    us = []\n",
    "    for n in layers:\n",
    "        u = torch.rand(n)\n",
    "        us.append(u.numpy())\n",
    "    return us"
   ]
  },
  {
   "cell_type": "code",
   "execution_count": null,
   "id": "9ff74de8",
   "metadata": {},
   "outputs": [],
   "source": [
    "layers = [4, 3]\n",
    "us = rand_us(layers)"
   ]
  },
  {
   "cell_type": "code",
   "execution_count": null,
   "id": "10243939",
   "metadata": {},
   "outputs": [],
   "source": [
    "def plot_us(us, scale_factor=2):\n",
    "    fig, ax = plt.subplots(1, 1, figsize=(len(us) * scale_factor,len(us)*scale_factor))\n",
    "    for idx in range(1, len(us) + 1):\n",
    "        C = CC[idx - 1]\n",
    "        nl, nh = C.shape\n",
    "        ax.scatter(range(nl), np.ones(nl) * idx, c=\"red\")\n",
    "        ax.scatter(range(nh), np.ones(nh) * idx + 1, c=\"red\")\n",
    "        for l in range(nl):\n",
    "            for h in range(nh):\n",
    "                c = C[l, h].item()\n",
    "                p1 = (l, idx)\n",
    "                p2 = (h, idx+1)\n",
    "                plt.plot((l,h), (idx, idx+1), c=\"blue\", alpha=c)\n",
    "    plt.axis(\"off\")\n",
    "    plt.show()"
   ]
  },
  {
   "cell_type": "code",
   "execution_count": null,
   "id": "3ae1fad0",
   "metadata": {},
   "outputs": [],
   "source": [
    "fig, ax = plt.subplots(1, 1, figsize=(len(us) * scale_factor,len(us)*scale_factor))\n",
    "for idx in range(len(us)):\n",
    "    u = us[idx]\n",
    "    plt.scatter(range(len(u)), np.ones(len(u)) * idx)\n",
    "    for ui_idx, ui in enumerate(u):\n",
    "        #print(ui_idx, ui_idx)\n",
    "        plt.plot((ui_idx, ui_idx), (idx, idx + ui))\n",
    "    #plt.bar(range(len(u)), np.ones(len(u)) * idx + u / 2)\n",
    "plt.show()"
   ]
  },
  {
   "cell_type": "code",
   "execution_count": null,
   "id": "65795698",
   "metadata": {},
   "outputs": [],
   "source": [
    "ui"
   ]
  },
  {
   "cell_type": "code",
   "execution_count": null,
   "id": "3019f1a8",
   "metadata": {},
   "outputs": [],
   "source": [
    "u"
   ]
  },
  {
   "cell_type": "code",
   "execution_count": null,
   "id": "29157749",
   "metadata": {},
   "outputs": [],
   "source": []
  }
 ],
 "metadata": {
  "kernelspec": {
   "display_name": "Python 3 (ipykernel)",
   "language": "python",
   "name": "python3"
  },
  "language_info": {
   "codemirror_mode": {
    "name": "ipython",
    "version": 3
   },
   "file_extension": ".py",
   "mimetype": "text/x-python",
   "name": "python",
   "nbconvert_exporter": "python",
   "pygments_lexer": "ipython3",
   "version": "3.8.12"
  },
  "latex_envs": {
   "LaTeX_envs_menu_present": true,
   "autoclose": false,
   "autocomplete": true,
   "bibliofile": "biblio.bib",
   "cite_by": "apalike",
   "current_citInitial": 1,
   "eqLabelWithNumbers": true,
   "eqNumInitial": 1,
   "hotkeys": {
    "equation": "Ctrl-E",
    "itemize": "Ctrl-I"
   },
   "labels_anchors": false,
   "latex_user_defs": false,
   "report_style_numbering": false,
   "user_envs_cfg": false
  }
 },
 "nbformat": 4,
 "nbformat_minor": 5
}
