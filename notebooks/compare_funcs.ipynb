{
 "cells": [
  {
   "cell_type": "code",
   "execution_count": 19,
   "id": "22df0bff-700d-497c-8ed1-8c41aef1120c",
   "metadata": {},
   "outputs": [],
   "source": [
    "import torch\n",
    "import torch.nn as nn\n",
    "import torch.nn.functional as F\n",
    "import numpy as np\n",
    "\n",
    "# local imports\n",
    "from effcn.layers import FCCaps, FCCaps2\n",
    "from effcn.functions import margin_loss, margin_loss2"
   ]
  },
  {
   "cell_type": "markdown",
   "id": "2bf88ce1-379d-4d2b-a7ff-61f01bfee22f",
   "metadata": {},
   "source": [
    "### Compare FFC Caps MM & MK"
   ]
  },
  {
   "cell_type": "code",
   "execution_count": 9,
   "id": "54b22c82-d019-4e22-8af3-b60c792e0d32",
   "metadata": {},
   "outputs": [
    {
     "name": "stdout",
     "output_type": "stream",
     "text": [
      "tensor([[[0.4963, 0.7682, 0.0885, 0.1320],\n",
      "         [0.3074, 0.6341, 0.4901, 0.8964],\n",
      "         [0.4556, 0.6323, 0.3489, 0.4017]],\n",
      "\n",
      "        [[0.0223, 0.1689, 0.2939, 0.5185],\n",
      "         [0.6977, 0.8000, 0.1610, 0.2823],\n",
      "         [0.6816, 0.9152, 0.3971, 0.8742]]])\n",
      "torch.Size([2, 2, 5])\n",
      "torch.Size([2, 2, 5])\n",
      "tensor([[[ 0.2840, -0.3308, -0.2251, -0.3185, -0.0937],\n",
      "         [ 0.0430,  0.3812,  0.0396, -0.0419,  0.1419]],\n",
      "\n",
      "        [[ 0.1673, -0.4075,  0.2380, -0.1363,  0.0483],\n",
      "         [-0.2170,  0.3545,  0.1635,  0.3683,  0.0387]]],\n",
      "       grad_fn=<MulBackward0>)\n",
      "tensor([[[ 0.2840, -0.3308, -0.2251, -0.3185, -0.0937],\n",
      "         [ 0.0430,  0.3812,  0.0396, -0.0419,  0.1419]],\n",
      "\n",
      "        [[ 0.1673, -0.4075,  0.2380, -0.1363,  0.0483],\n",
      "         [-0.2170,  0.3545,  0.1635,  0.3683,  0.0387]]],\n",
      "       grad_fn=<MulBackward0>)\n",
      "tensor([[[0., 0., 0., 0., 0.],\n",
      "         [0., 0., 0., 0., 0.]],\n",
      "\n",
      "        [[0., 0., 0., 0., 0.],\n",
      "         [0., 0., 0., 0., 0.]]], grad_fn=<SubBackward0>)\n"
     ]
    }
   ],
   "source": [
    "torch.manual_seed(0)\n",
    "x = torch.rand((2,3,4))\n",
    "print(x)\n",
    "\n",
    "torch.manual_seed(0)\n",
    "FFC = FCCaps(3,2,4,5)(x)\n",
    "torch.manual_seed(0)\n",
    "FFC2 = FCCaps2(3,2,4,5)(x)\n",
    "\n",
    "print(FFC.size())\n",
    "print(FFC2.size())\n",
    "\n",
    "assert FFC.size() == FFC2.size()\n",
    "\n",
    "print(FFC)\n",
    "print(FFC2)\n",
    "\n",
    "print(FFC - FFC2)\n"
   ]
  },
  {
   "cell_type": "markdown",
   "id": "3b19038e-b415-4e68-9f4f-a0db4494b7ec",
   "metadata": {
    "tags": []
   },
   "source": [
    "##### check"
   ]
  },
  {
   "cell_type": "markdown",
   "id": "e301cde9-98ce-4036-900b-b6201f3bb0b2",
   "metadata": {},
   "source": [
    "### Compare loss MM & MK"
   ]
  },
  {
   "cell_type": "code",
   "execution_count": 31,
   "id": "dda8fbe0-1172-452e-8a41-dcbffc286701",
   "metadata": {},
   "outputs": [
    {
     "name": "stdout",
     "output_type": "stream",
     "text": [
      "tensor([[[0.4963, 0.7682, 0.0885, 0.1320, 0.3074],\n",
      "         [0.6341, 0.4901, 0.8964, 0.4556, 0.6323],\n",
      "         [0.3489, 0.4017, 0.0223, 0.1689, 0.2939]],\n",
      "\n",
      "        [[0.5185, 0.6977, 0.8000, 0.1610, 0.2823],\n",
      "         [0.6816, 0.9152, 0.3971, 0.8742, 0.4194],\n",
      "         [0.5529, 0.9527, 0.0362, 0.1852, 0.3734]],\n",
      "\n",
      "        [[0.3051, 0.9320, 0.1759, 0.2698, 0.1507],\n",
      "         [0.0317, 0.2081, 0.9298, 0.7231, 0.7423],\n",
      "         [0.5263, 0.2437, 0.5846, 0.0332, 0.1387]]])\n",
      "tensor([[0, 1, 0],\n",
      "        [1, 0, 0],\n",
      "        [0, 0, 1]])\n",
      "tensor(1.1541)\n",
      "tensor(1.1541)\n",
      "tensor(0.)\n"
     ]
    }
   ],
   "source": [
    "torch.manual_seed(0)\n",
    "u = torch.rand((3,3,5))\n",
    "y = torch.tensor([[0,1,0],\n",
    "                  [1,0,0],\n",
    "                  [0,0,1]])\n",
    "print(u)\n",
    "print(y)\n",
    "\n",
    "m = margin_loss(u,y)\n",
    "m2 = margin_loss2(u,y)\n",
    "\n",
    "print(m)\n",
    "print(m2)\n",
    "print(m-m2)"
   ]
  },
  {
   "cell_type": "markdown",
   "id": "948c119b-d86f-4a6e-a3ad-aa12747a1650",
   "metadata": {},
   "source": [
    "##### check"
   ]
  }
 ],
 "metadata": {
  "kernelspec": {
   "display_name": "Python 3 (ipykernel)",
   "language": "python",
   "name": "python3"
  },
  "language_info": {
   "codemirror_mode": {
    "name": "ipython",
    "version": 3
   },
   "file_extension": ".py",
   "mimetype": "text/x-python",
   "name": "python",
   "nbconvert_exporter": "python",
   "pygments_lexer": "ipython3",
   "version": "3.9.7"
  }
 },
 "nbformat": 4,
 "nbformat_minor": 5
}
