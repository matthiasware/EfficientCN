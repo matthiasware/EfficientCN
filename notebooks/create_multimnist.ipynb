{
 "cells": [
  {
   "cell_type": "code",
   "execution_count": 1,
   "id": "0d762dcb-6188-490f-88d2-f16edd740f2b",
   "metadata": {},
   "outputs": [],
   "source": [
    "%load_ext autoreload\n",
    "%autoreload 2"
   ]
  },
  {
   "cell_type": "code",
   "execution_count": 2,
   "id": "a47b5ccc-2ae8-4fd5-87e7-ff710ff91282",
   "metadata": {},
   "outputs": [],
   "source": [
    "import sys\n",
    "sys.path.append(\"./..\")"
   ]
  },
  {
   "cell_type": "code",
   "execution_count": 4,
   "id": "43ef41a0-b79a-4c10-a9c2-e1840cbe113b",
   "metadata": {},
   "outputs": [],
   "source": [
    "from pathlib import Path\n",
    "import pprint\n",
    "import hashlib\n",
    "\n",
    "import torch\n",
    "import torchvision\n",
    "import torchvision.datasets as datasets\n",
    "import torchvision.transforms as T\n",
    "import torch.nn.functional as F\n",
    "from torch.utils.data import Dataset\n",
    "from PIL import Image\n",
    "\n",
    "import matplotlib.pyplot as plt\n",
    "import numpy as np\n",
    "from dotted_dict import DottedDict"
   ]
  },
  {
   "cell_type": "code",
   "execution_count": 5,
   "id": "2e911adc-a442-4a63-b88a-47dd2737c32b",
   "metadata": {},
   "outputs": [],
   "source": [
    "#np.set_printoptions(threshold=sys.maxsize)"
   ]
  },
  {
   "cell_type": "code",
   "execution_count": 6,
   "id": "e5e82fa2-31bb-4431-8401-8ba886c362b8",
   "metadata": {},
   "outputs": [],
   "source": [
    "ds_train = datasets.MNIST(root='./data', train=True, download=True, transform=T.ToTensor())\n",
    "ds_valid = datasets.MNIST(root=\"./data\", train=False, download=True, transform=T.ToTensor())"
   ]
  },
  {
   "cell_type": "code",
   "execution_count": 7,
   "id": "486749a0-528c-4f20-9bf2-5685efb023c0",
   "metadata": {},
   "outputs": [],
   "source": [
    "ds_train = datasets.MNIST(root='./data', train=True, download=True)\n",
    "ds_valid = datasets.MNIST(root=\"./data\", train=False, download=True)"
   ]
  },
  {
   "cell_type": "code",
   "execution_count": 8,
   "id": "08b350c8-aed0-4ad9-88d7-e21b74c6542c",
   "metadata": {},
   "outputs": [
    {
     "data": {
      "text/plain": [
       "(<PIL.Image.Image image mode=L size=28x28 at 0x20D3448B790>, 5)"
      ]
     },
     "execution_count": 8,
     "metadata": {},
     "output_type": "execute_result"
    }
   ],
   "source": [
    "ds_train[0]"
   ]
  },
  {
   "cell_type": "code",
   "execution_count": 9,
   "id": "7f488019-065d-4b99-a0ea-70ec7d0e9423",
   "metadata": {},
   "outputs": [
    {
     "data": {
      "text/plain": [
       "<matplotlib.image.AxesImage at 0x20d4a964d90>"
      ]
     },
     "execution_count": 9,
     "metadata": {},
     "output_type": "execute_result"
    },
    {
     "data": {
      "image/png": "[encoded data removed]",
      "text/plain": [
       "<Figure size 432x288 with 1 Axes>"
      ]
     },
     "metadata": {
      "needs_background": "light"
     },
     "output_type": "display_data"
    }
   ],
   "source": [
    "plt.imshow(ds_train[0][0])"
   ]
  },
  {
   "cell_type": "markdown",
   "id": "d76dc15d-afde-4edc-84da-cd7434cce713",
   "metadata": {},
   "source": [
    "### Padding\n"
   ]
  },
  {
   "cell_type": "code",
   "execution_count": 10,
   "id": "074fdf1e-a387-4d2a-8b51-e06ff0e61bc8",
   "metadata": {},
   "outputs": [],
   "source": [
    "pad = T.Pad(padding=[2,2,2,2])(ds_train[0][0])\n",
    "#0 & 2 -> x\n",
    "#1 & 3 -> y"
   ]
  },
  {
   "cell_type": "code",
   "execution_count": 11,
   "id": "312ab4cd-2578-4394-968f-1f821c23f616",
   "metadata": {},
   "outputs": [
    {
     "name": "stdout",
     "output_type": "stream",
     "text": [
      "<PIL.Image.Image image mode=L size=32x32 at 0x20D4A9CBBB0>\n"
     ]
    }
   ],
   "source": [
    "print(pad)"
   ]
  },
  {
   "cell_type": "code",
   "execution_count": 12,
   "id": "f327a794-0fa5-4dd8-8ec2-a8dab37ab4cc",
   "metadata": {},
   "outputs": [
    {
     "data": {
      "text/plain": [
       "3"
      ]
     },
     "execution_count": 12,
     "metadata": {},
     "output_type": "execute_result"
    }
   ],
   "source": [
    "np.random.randint(1, high=5, size=None, dtype=int)"
   ]
  },
  {
   "cell_type": "markdown",
   "id": "6d13a638-7bfd-40b4-afae-4f6ae960d700",
   "metadata": {},
   "source": [
    "### Random Pads"
   ]
  },
  {
   "cell_type": "code",
   "execution_count": 13,
   "id": "b3460a76-2094-4861-84a6-cfd66f4f6371",
   "metadata": {},
   "outputs": [],
   "source": [
    "def pad_rand():\n",
    "    ref = 8\n",
    "    left = np.random.randint(1, high=9, size=None, dtype=int)\n",
    "    rigth = ref - left\n",
    "    up = np.random.randint(1, high=9, size=None, dtype=int)\n",
    "    down = ref - up\n",
    "    \n",
    "    return [left, up, rigth, down]\n",
    "    "
   ]
  },
  {
   "cell_type": "code",
   "execution_count": 14,
   "id": "df9baf1f-7cfa-472f-b6ee-ee8dbafe3680",
   "metadata": {},
   "outputs": [
    {
     "data": {
      "text/plain": [
       "[3, 1, 5, 7]"
      ]
     },
     "execution_count": 14,
     "metadata": {},
     "output_type": "execute_result"
    }
   ],
   "source": [
    "pad_rand()"
   ]
  },
  {
   "cell_type": "code",
   "execution_count": 15,
   "id": "e2fdf09d-6f21-467d-81f0-0e45e8f63f84",
   "metadata": {},
   "outputs": [],
   "source": [
    "pad_0 = T.Pad(padding=pad_rand())(ds_train[0][0])"
   ]
  },
  {
   "cell_type": "code",
   "execution_count": 16,
   "id": "ed022001-c1af-453c-a197-314fd58b295c",
   "metadata": {},
   "outputs": [
    {
     "name": "stdout",
     "output_type": "stream",
     "text": [
      "[[0 0 0 ... 0 0 0]\n",
      " [0 0 0 ... 0 0 0]\n",
      " [0 0 0 ... 0 0 0]\n",
      " ...\n",
      " [0 0 0 ... 0 0 0]\n",
      " [0 0 0 ... 0 0 0]\n",
      " [0 0 0 ... 0 0 0]]\n",
      "(36, 36)\n",
      "255\n",
      "0\n"
     ]
    }
   ],
   "source": [
    "pr = np.array(pad_0)\n",
    "print(pr)\n",
    "print(pr.shape)\n",
    "print(pr.max())\n",
    "print(pr.min())"
   ]
  },
  {
   "cell_type": "code",
   "execution_count": 21,
   "id": "a2da657c-ed48-4ef2-aca9-0102ac8c7809",
   "metadata": {},
   "outputs": [
    {
     "data": {
      "image/png": "[encoded data removed]",
      "text/plain": [
       "<PIL.Image.Image image mode=L size=36x36 at 0x20D4AA2E970>"
      ]
     },
     "execution_count": 21,
     "metadata": {},
     "output_type": "execute_result"
    }
   ],
   "source": [
    "pad_0"
   ]
  },
  {
   "cell_type": "code",
   "execution_count": 17,
   "id": "8aa3b203-90b9-4611-9511-206505b18cdc",
   "metadata": {},
   "outputs": [],
   "source": [
    "pad_42 = T.Pad(padding=pad_rand())(ds_train[42][0])"
   ]
  },
  {
   "cell_type": "code",
   "execution_count": 18,
   "id": "8c31f043-e9eb-4e7e-8038-7b396b1b2f6e",
   "metadata": {},
   "outputs": [
    {
     "name": "stdout",
     "output_type": "stream",
     "text": [
      "[[0 0 0 ... 0 0 0]\n",
      " [0 0 0 ... 0 0 0]\n",
      " [0 0 0 ... 0 0 0]\n",
      " ...\n",
      " [0 0 0 ... 0 0 0]\n",
      " [0 0 0 ... 0 0 0]\n",
      " [0 0 0 ... 0 0 0]]\n",
      "(36, 36)\n",
      "255\n",
      "0\n"
     ]
    }
   ],
   "source": [
    "pr = np.array(pad_42)\n",
    "print(pr)\n",
    "print(pr.shape)\n",
    "print(pr.max())\n",
    "print(pr.min())"
   ]
  },
  {
   "cell_type": "code",
   "execution_count": 19,
   "id": "8708ac38-a7ba-4c87-9995-9535c8f92290",
   "metadata": {},
   "outputs": [
    {
     "data": {
      "image/png": "[encoded data removed]",
      "text/plain": [
       "<PIL.Image.Image image mode=L size=36x36 at 0x20D4AA2E070>"
      ]
     },
     "execution_count": 19,
     "metadata": {},
     "output_type": "execute_result"
    }
   ],
   "source": [
    "pad_42"
   ]
  },
  {
   "cell_type": "code",
   "execution_count": 85,
   "id": "c6ae6a0d-c858-4d1c-a445-d61db4383bb1",
   "metadata": {},
   "outputs": [],
   "source": [
    "a = np.array(pad_42)\n",
    "b = np.array(pad_0)\n",
    "add = a + b "
   ]
  },
  {
   "cell_type": "code",
   "execution_count": 23,
   "id": "5b183535-9090-4a02-8382-e1fae515ae74",
   "metadata": {},
   "outputs": [
    {
     "name": "stdout",
     "output_type": "stream",
     "text": [
      "[[0 0 0 ... 0 0 0]\n",
      " [0 0 0 ... 0 0 0]\n",
      " [0 0 0 ... 0 0 0]\n",
      " ...\n",
      " [0 0 0 ... 0 0 0]\n",
      " [0 0 0 ... 0 0 0]\n",
      " [0 0 0 ... 0 0 0]]\n",
      "(36, 36)\n",
      "255\n",
      "0\n"
     ]
    }
   ],
   "source": [
    "pr = add\n",
    "print(pr)\n",
    "print(pr.shape)\n",
    "print(pr.max())\n",
    "print(pr.min())"
   ]
  },
  {
   "cell_type": "code",
   "execution_count": 24,
   "id": "f4cfc076-99e2-438f-9fcd-c494ec4658b2",
   "metadata": {},
   "outputs": [],
   "source": [
    "pil = Image.fromarray(add, mode='L')"
   ]
  },
  {
   "cell_type": "code",
   "execution_count": 25,
   "id": "5e3704d5-7e0a-43a1-b663-390ace4d7890",
   "metadata": {},
   "outputs": [
    {
     "data": {
      "image/png": "[encoded data removed]",
      "text/plain": [
       "<PIL.Image.Image image mode=L size=36x36 at 0x20D4AA2E8B0>"
      ]
     },
     "execution_count": 25,
     "metadata": {},
     "output_type": "execute_result"
    }
   ],
   "source": [
    "pil"
   ]
  },
  {
   "cell_type": "code",
   "execution_count": 28,
   "id": "6d5b76e0-14b5-46a1-a37b-f1fa09a7a8a6",
   "metadata": {},
   "outputs": [],
   "source": [
    "rec = add - np.array(pad_0)"
   ]
  },
  {
   "cell_type": "code",
   "execution_count": 29,
   "id": "bf4805e3-474f-4b0a-839b-39f08b5a1e5a",
   "metadata": {},
   "outputs": [
    {
     "data": {
      "image/png": "[encoded data removed]",
      "text/plain": [
       "<PIL.Image.Image image mode=L size=36x36 at 0x20D4AA2EA60>"
      ]
     },
     "execution_count": 29,
     "metadata": {},
     "output_type": "execute_result"
    }
   ],
   "source": [
    "Image.fromarray(rec, mode='L')"
   ]
  },
  {
   "cell_type": "code",
   "execution_count": 109,
   "id": "d6706f1f-5860-45f1-aaa5-14b979431437",
   "metadata": {},
   "outputs": [
    {
     "data": {
      "image/png": "[encoded data removed]",
      "text/plain": [
       "<Figure size 432x288 with 1 Axes>"
      ]
     },
     "metadata": {
      "needs_background": "light"
     },
     "output_type": "display_data"
    }
   ],
   "source": [
    "pad_1 = T.Pad(padding=pad_rand())(ds_train[1][0])\n",
    "pad_15 = T.Pad(padding=pad_rand())(ds_train[15][0])\n",
    "\n",
    "a = np.array(pad_1)\n",
    "b = np.array(pad_15)\n",
    "add = a + b\n",
    "pil = Image.fromarray(add, mode='L')\n",
    "\n",
    "i1 = T.ToTensor()(pad_1)\n",
    "i2 = T.ToTensor()(pad_15)\n",
    "i3 = T.ToTensor()(pil)\n",
    "cat = torch.cat([i1,i2,i3], dim=0)\n",
    "cat = cat.unsqueeze(1)\n",
    "grid = torchvision.utils.make_grid(cat, nrow=3)\n",
    "grid = grid.permute(1, 2, 0)\n",
    "plt.imshow(grid)\n",
    "plt.show()"
   ]
  },
  {
   "cell_type": "code",
   "execution_count": 131,
   "id": "dd481f9d-9271-456f-81c2-006462b4c3c2",
   "metadata": {},
   "outputs": [
    {
     "ename": "TypeError",
     "evalue": "pic should be PIL Image or ndarray. Got <class 'torch.Tensor'>",
     "output_type": "error",
     "traceback": [
      "\u001b[1;31m---------------------------------------------------------------------------\u001b[0m",
      "\u001b[1;31mTypeError\u001b[0m                                 Traceback (most recent call last)",
      "\u001b[1;32m~\\AppData\\Local\\Temp/ipykernel_18304/3733343374.py\u001b[0m in \u001b[0;36m<module>\u001b[1;34m\u001b[0m\n\u001b[0;32m      2\u001b[0m \u001b[0mpad_15\u001b[0m \u001b[1;33m=\u001b[0m \u001b[0mT\u001b[0m\u001b[1;33m.\u001b[0m\u001b[0mPad\u001b[0m\u001b[1;33m(\u001b[0m\u001b[0mpadding\u001b[0m\u001b[1;33m=\u001b[0m\u001b[0mpad_rand\u001b[0m\u001b[1;33m(\u001b[0m\u001b[1;33m)\u001b[0m\u001b[1;33m)\u001b[0m\u001b[1;33m(\u001b[0m\u001b[0mds_train\u001b[0m\u001b[1;33m[\u001b[0m\u001b[1;36m15\u001b[0m\u001b[1;33m]\u001b[0m\u001b[1;33m[\u001b[0m\u001b[1;36m0\u001b[0m\u001b[1;33m]\u001b[0m\u001b[1;33m)\u001b[0m\u001b[1;33m\u001b[0m\u001b[1;33m\u001b[0m\u001b[0m\n\u001b[0;32m      3\u001b[0m \u001b[1;33m\u001b[0m\u001b[0m\n\u001b[1;32m----> 4\u001b[1;33m \u001b[0ma\u001b[0m \u001b[1;33m=\u001b[0m \u001b[0mT\u001b[0m\u001b[1;33m.\u001b[0m\u001b[0mToTensor\u001b[0m\u001b[1;33m(\u001b[0m\u001b[1;33m)\u001b[0m\u001b[1;33m(\u001b[0m\u001b[0mpad_1\u001b[0m\u001b[1;33m)\u001b[0m\u001b[1;33m\u001b[0m\u001b[1;33m\u001b[0m\u001b[0m\n\u001b[0m\u001b[0;32m      5\u001b[0m \u001b[0mb\u001b[0m \u001b[1;33m=\u001b[0m \u001b[0mT\u001b[0m\u001b[1;33m.\u001b[0m\u001b[0mToTensor\u001b[0m\u001b[1;33m(\u001b[0m\u001b[1;33m)\u001b[0m\u001b[1;33m(\u001b[0m\u001b[0mpad_15\u001b[0m\u001b[1;33m)\u001b[0m\u001b[1;33m\u001b[0m\u001b[1;33m\u001b[0m\u001b[0m\n\u001b[0;32m      6\u001b[0m \u001b[0madd\u001b[0m \u001b[1;33m=\u001b[0m \u001b[0mtorch\u001b[0m\u001b[1;33m.\u001b[0m\u001b[0mclamp\u001b[0m\u001b[1;33m(\u001b[0m\u001b[0ma\u001b[0m \u001b[1;33m+\u001b[0m \u001b[0mb\u001b[0m\u001b[1;33m,\u001b[0m\u001b[0mmin\u001b[0m\u001b[1;33m=\u001b[0m\u001b[1;36m0\u001b[0m\u001b[1;33m,\u001b[0m \u001b[0mmax\u001b[0m\u001b[1;33m=\u001b[0m\u001b[1;36m1\u001b[0m\u001b[1;33m)\u001b[0m\u001b[1;33m\u001b[0m\u001b[1;33m\u001b[0m\u001b[0m\n",
      "\u001b[1;32m~\\anaconda3\\envs\\EffCN\\lib\\site-packages\\torchvision\\transforms\\transforms.py\u001b[0m in \u001b[0;36m__call__\u001b[1;34m(self, pic)\u001b[0m\n\u001b[0;32m     96\u001b[0m             \u001b[0mTensor\u001b[0m\u001b[1;33m:\u001b[0m \u001b[0mConverted\u001b[0m \u001b[0mimage\u001b[0m\u001b[1;33m.\u001b[0m\u001b[1;33m\u001b[0m\u001b[1;33m\u001b[0m\u001b[0m\n\u001b[0;32m     97\u001b[0m         \"\"\"\n\u001b[1;32m---> 98\u001b[1;33m         \u001b[1;32mreturn\u001b[0m \u001b[0mF\u001b[0m\u001b[1;33m.\u001b[0m\u001b[0mto_tensor\u001b[0m\u001b[1;33m(\u001b[0m\u001b[0mpic\u001b[0m\u001b[1;33m)\u001b[0m\u001b[1;33m\u001b[0m\u001b[1;33m\u001b[0m\u001b[0m\n\u001b[0m\u001b[0;32m     99\u001b[0m \u001b[1;33m\u001b[0m\u001b[0m\n\u001b[0;32m    100\u001b[0m     \u001b[1;32mdef\u001b[0m \u001b[0m__repr__\u001b[0m\u001b[1;33m(\u001b[0m\u001b[0mself\u001b[0m\u001b[1;33m)\u001b[0m\u001b[1;33m:\u001b[0m\u001b[1;33m\u001b[0m\u001b[1;33m\u001b[0m\u001b[0m\n",
      "\u001b[1;32m~\\anaconda3\\envs\\EffCN\\lib\\site-packages\\torchvision\\transforms\\functional.py\u001b[0m in \u001b[0;36mto_tensor\u001b[1;34m(pic)\u001b[0m\n\u001b[0;32m    112\u001b[0m     \"\"\"\n\u001b[0;32m    113\u001b[0m     \u001b[1;32mif\u001b[0m \u001b[1;32mnot\u001b[0m\u001b[1;33m(\u001b[0m\u001b[0mF_pil\u001b[0m\u001b[1;33m.\u001b[0m\u001b[0m_is_pil_image\u001b[0m\u001b[1;33m(\u001b[0m\u001b[0mpic\u001b[0m\u001b[1;33m)\u001b[0m \u001b[1;32mor\u001b[0m \u001b[0m_is_numpy\u001b[0m\u001b[1;33m(\u001b[0m\u001b[0mpic\u001b[0m\u001b[1;33m)\u001b[0m\u001b[1;33m)\u001b[0m\u001b[1;33m:\u001b[0m\u001b[1;33m\u001b[0m\u001b[1;33m\u001b[0m\u001b[0m\n\u001b[1;32m--> 114\u001b[1;33m         \u001b[1;32mraise\u001b[0m \u001b[0mTypeError\u001b[0m\u001b[1;33m(\u001b[0m\u001b[1;34m'pic should be PIL Image or ndarray. Got {}'\u001b[0m\u001b[1;33m.\u001b[0m\u001b[0mformat\u001b[0m\u001b[1;33m(\u001b[0m\u001b[0mtype\u001b[0m\u001b[1;33m(\u001b[0m\u001b[0mpic\u001b[0m\u001b[1;33m)\u001b[0m\u001b[1;33m)\u001b[0m\u001b[1;33m)\u001b[0m\u001b[1;33m\u001b[0m\u001b[1;33m\u001b[0m\u001b[0m\n\u001b[0m\u001b[0;32m    115\u001b[0m \u001b[1;33m\u001b[0m\u001b[0m\n\u001b[0;32m    116\u001b[0m     \u001b[1;32mif\u001b[0m \u001b[0m_is_numpy\u001b[0m\u001b[1;33m(\u001b[0m\u001b[0mpic\u001b[0m\u001b[1;33m)\u001b[0m \u001b[1;32mand\u001b[0m \u001b[1;32mnot\u001b[0m \u001b[0m_is_numpy_image\u001b[0m\u001b[1;33m(\u001b[0m\u001b[0mpic\u001b[0m\u001b[1;33m)\u001b[0m\u001b[1;33m:\u001b[0m\u001b[1;33m\u001b[0m\u001b[1;33m\u001b[0m\u001b[0m\n",
      "\u001b[1;31mTypeError\u001b[0m: pic should be PIL Image or ndarray. Got <class 'torch.Tensor'>"
     ]
    }
   ],
   "source": [
    "pad_1 = T.Pad(padding=pad_rand())(ds_train[1][0])\n",
    "pad_15 = T.Pad(padding=pad_rand())(ds_train[15][0])\n",
    "\n",
    "a = T.ToTensor()(pad_1)\n",
    "b = T.ToTensor()(pad_15)\n",
    "add = torch.clamp(a + b,min=0, max=1)\n",
    "pil = T.ToPILImage()(add)\n",
    "\n",
    "#i1 = T.ToTensor()(pad_1)\n",
    "#i2 = T.ToTensor()(pad_15)\n",
    "#i3 = T.ToTensor()(pil)\n",
    "cat = torch.cat([a,b,add], dim=0)\n",
    "cat = cat.unsqueeze(1)\n",
    "grid = torchvision.utils.make_grid(cat, nrow=3)\n",
    "grid = grid.permute(1, 2, 0)\n",
    "plt.imshow(grid)\n",
    "plt.show()"
   ]
  },
  {
   "cell_type": "markdown",
   "id": "fe88699e-7da7-46a9-8b5d-ed92f3e7f0f4",
   "metadata": {},
   "source": [
    "### generate from tensor"
   ]
  },
  {
   "cell_type": "code",
   "execution_count": 136,
   "id": "cdae9a86-2d2a-4fc5-9ffe-fa4cc3ce9c12",
   "metadata": {},
   "outputs": [],
   "source": [
    "ds_train = datasets.MNIST(root='./data', train=True, download=True, transform=T.ToTensor())\n",
    "ds_valid = datasets.MNIST(root=\"./data\", train=False, download=True, transform=T.ToTensor())"
   ]
  },
  {
   "cell_type": "code",
   "execution_count": 137,
   "id": "081078ae-f8db-489b-9045-8ef924e4f683",
   "metadata": {},
   "outputs": [
    {
     "data": {
      "text/plain": [
       "torch.Size([1, 28, 28])"
      ]
     },
     "execution_count": 137,
     "metadata": {},
     "output_type": "execute_result"
    }
   ],
   "source": [
    "ds_train[0][0].size()"
   ]
  },
  {
   "cell_type": "code",
   "execution_count": 143,
   "id": "8c367ece-60a4-45c0-83ef-4daf9829c1ee",
   "metadata": {},
   "outputs": [
    {
     "data": {
      "image/png": "[encoded data removed]",
      "text/plain": [
       "<Figure size 432x288 with 1 Axes>"
      ]
     },
     "metadata": {
      "needs_background": "light"
     },
     "output_type": "display_data"
    }
   ],
   "source": [
    "pad_1 = T.Pad(padding=pad_rand())(ds_train[1][0])\n",
    "pad_15 = T.Pad(padding=pad_rand())(ds_train[15][0])\n",
    "\n",
    "a = pad_1\n",
    "b = pad_15\n",
    "add = torch.clamp(a + b,min=0, max=1)\n",
    "\n",
    "cat = torch.cat([a,b,add], dim=0)\n",
    "cat = cat.unsqueeze(1)\n",
    "grid = torchvision.utils.make_grid(cat, nrow=3)\n",
    "grid = grid.permute(1, 2, 0)\n",
    "plt.imshow(grid)\n",
    "plt.show()"
   ]
  },
  {
   "cell_type": "code",
   "execution_count": 145,
   "id": "499afd2c-c997-4b5a-bade-0e761d48e47e",
   "metadata": {},
   "outputs": [
    {
     "data": {
      "text/plain": [
       "array([59, 99, 49, 35, 81, 63, 46, 94, 75, 14])"
      ]
     },
     "execution_count": 145,
     "metadata": {},
     "output_type": "execute_result"
    }
   ],
   "source": [
    "n = 100\n",
    "size = 10\n",
    "np.random.randint(1, high=n, size=size, dtype=int)"
   ]
  },
  {
   "cell_type": "code",
   "execution_count": 208,
   "id": "a652341c-b7fa-4fc0-aca1-cf0910d32e5a",
   "metadata": {},
   "outputs": [
    {
     "name": "stdout",
     "output_type": "stream",
     "text": [
      "tensor(3)\n",
      "tensor([5, 0, 4, 1, 9, 2, 1, 3, 1, 4])\n",
      "[8 2 1]\n",
      "tensor(1) tensor(4) tensor(0)\n"
     ]
    }
   ],
   "source": [
    "np.random.seed(seed=0)\n",
    "\n",
    "img, label = ds_train.data, ds_train.targets\n",
    "img = img[:10]\n",
    "label = label[:10]\n",
    "n_multi = 3\n",
    "\n",
    "ref = 7\n",
    "i_ref = ds_train.data[ref]\n",
    "l_ref = ds_train.targets[ref]\n",
    "indexes = np.where(label != l_ref)[0]\n",
    "indexes = np.random.choice(indexes,n_multi,replace=False)\n",
    "\n",
    "\n",
    "print(l_ref)\n",
    "print(label)\n",
    "print(indexes)\n",
    "print(label[indexes[0]],label[indexes[1]],label[indexes[2]])\n",
    "\n",
    "\n",
    "\n",
    "\n"
   ]
  },
  {
   "cell_type": "code",
   "execution_count": 146,
   "id": "3649b5b4-6f5e-474c-9de0-54a0351c6b98",
   "metadata": {},
   "outputs": [],
   "source": [
    "def pad_rand():\n",
    "    ref = 8\n",
    "    left = np.random.randint(1, high=9, size=None, dtype=int)\n",
    "    rigth = ref - left\n",
    "    up = np.random.randint(1, high=9, size=None, dtype=int)\n",
    "    down = ref - up\n",
    "    \n",
    "    return [left, up, rigth, down]\n",
    "\n"
   ]
  },
  {
   "cell_type": "code",
   "execution_count": 235,
   "id": "02bede3e-7b97-46f6-86f2-c850faac5a74",
   "metadata": {},
   "outputs": [],
   "source": [
    "def multimatch(images, labels, ref_idx, n=1000):\n",
    "    #reference img\n",
    "    img_ref = images[ref_idx]\n",
    "    lab_ref = labels[ref_idx]\n",
    "    \n",
    "    #choose random top images from different classes\n",
    "    top_idx = np.where(labels != lab_ref)[0]\n",
    "    top_idx = np.random.choice(top_idx,n,replace=False)\n",
    "\n",
    "    all_imgs = []\n",
    "    all_targets1 = []\n",
    "    all_targets2 = []\n",
    "\n",
    "    for i, idx in enumerate(top_idx):\n",
    "        \n",
    "        base  = T.Pad(padding=pad_rand())(images[ref_idx])\n",
    "        top   = T.Pad(padding=pad_rand())(images[top_idx[i]])\n",
    "\n",
    "        merge = torch.clamp(base + top,min=0, max=1)\n",
    "        merge = merge.unsqueeze(0)\n",
    "        label1 = labels[ref_idx]\n",
    "        label2 = labels[top_idx[i]]\n",
    "        \n",
    "        all_imgs.append(merge)\n",
    "        all_targets1.append(label1)\n",
    "        all_targets2.append(label2)\n",
    "    \n",
    "    return all_imgs, all_targets1, all_targets2\n",
    "\n",
    "img, label1, label2 = multimatch(images=ds_train.data, labels=ds_train.targets, ref_idx=0, n=20)\n",
    "print(len(img), \"\\n\", label1, \"\\n\", label2)"
   ]
  },
  {
   "cell_type": "code",
   "execution_count": 239,
   "id": "a4fdcd3a-5995-4494-bbdd-74a422a9c558",
   "metadata": {},
   "outputs": [
    {
     "data": {
      "image/png": "[encoded data removed]",
      "text/plain": [
       "<Figure size 432x288 with 1 Axes>"
      ]
     },
     "metadata": {
      "needs_background": "light"
     },
     "output_type": "display_data"
    }
   ],
   "source": [
    "grid = torchvision.utils.make_grid(img, nrow=5)\n",
    "grid = grid.permute(1, 2, 0)\n",
    "plt.imshow(grid)\n",
    "plt.show()"
   ]
  },
  {
   "cell_type": "code",
   "execution_count": 250,
   "id": "6e27e364-a761-417b-a64a-a97c54e414f7",
   "metadata": {},
   "outputs": [
    {
     "name": "stdout",
     "output_type": "stream",
     "text": [
      "tensor(5)\n",
      "tensor(2)\n"
     ]
    },
    {
     "data": {
      "text/plain": [
       "<matplotlib.image.AxesImage at 0x20d4b423ee0>"
      ]
     },
     "execution_count": 250,
     "metadata": {},
     "output_type": "execute_result"
    },
    {
     "data": {
      "image/png": "[encoded data removed]",
      "text/plain": [
       "<Figure size 432x288 with 1 Axes>"
      ]
     },
     "metadata": {
      "needs_background": "light"
     },
     "output_type": "display_data"
    }
   ],
   "source": [
    "jj = 9\n",
    "print(label1[jj])\n",
    "print(label2[jj])\n",
    "plt.imshow(img[jj].permute(1, 2, 0))"
   ]
  },
  {
   "cell_type": "code",
   "execution_count": null,
   "id": "dd4ede54-6389-4cb1-a686-1a047e242288",
   "metadata": {},
   "outputs": [],
   "source": []
  }
 ],
 "metadata": {
  "kernelspec": {
   "display_name": "Python 3 (ipykernel)",
   "language": "python",
   "name": "python3"
  },
  "language_info": {
   "codemirror_mode": {
    "name": "ipython",
    "version": 3
   },
   "file_extension": ".py",
   "mimetype": "text/x-python",
   "name": "python",
   "nbconvert_exporter": "python",
   "pygments_lexer": "ipython3",
   "version": "3.9.7"
  }
 },
 "nbformat": 4,
 "nbformat_minor": 5
}
